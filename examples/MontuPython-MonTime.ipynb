{
  "cells": [
    {
      "cell_type": "markdown",
      "metadata": {
        "id": "mb1rD98NM-2g"
      },
      "source": [
        "# Montu Python\n",
        "## Astronomical ephemerides for the Ancient World\n",
        "## Time: Basic time functionalities\n"
      ]
    },
    {
      "cell_type": "markdown",
      "metadata": {
        "id": "5C2_Shd8NMdK"
      },
      "source": [
        "This notebook illustrate the usage of time class in `MontuPython`."
      ]
    },
    {
      "cell_type": "markdown",
      "metadata": {
        "id": "IalayDNLNdzP"
      },
      "source": [
        "Install the package:"
      ]
    },
    {
      "cell_type": "code",
      "execution_count": null,
      "metadata": {
        "colab": {
          "base_uri": "https://localhost:8080/"
        },
        "id": "EccE3hanNJog",
        "outputId": "b5fbd5a3-4b9b-45c4-ace8-aa132ea19eaa"
      },
      "outputs": [
        {
          "name": "stdout",
          "output_type": "stream",
          "text": [
            "\u001b[2K     \u001b[90m━━━━━━━━━━━━━━━━━━━━━━━━━━━━━━━━━━━━━━━━\u001b[0m \u001b[32m7.6/7.6 MB\u001b[0m \u001b[31m4.2 MB/s\u001b[0m eta \u001b[36m0:00:00\u001b[0m\n",
            "\u001b[2K     \u001b[90m━━━━━━━━━━━━━━━━━━━━━━━━━━━━━━━━━━━━━━━━\u001b[0m \u001b[32m1.8/1.8 MB\u001b[0m \u001b[31m41.9 MB/s\u001b[0m eta \u001b[36m0:00:00\u001b[0m\n",
            "\u001b[2K     \u001b[90m━━━━━━━━━━━━━━━━━━━━━━━━━━━━━━━━━━━━━━━━\u001b[0m \u001b[32m5.8/5.8 MB\u001b[0m \u001b[31m70.5 MB/s\u001b[0m eta \u001b[36m0:00:00\u001b[0m\n",
            "\u001b[?25h  Preparing metadata (setup.py) ... \u001b[?25l\u001b[?25hdone\n",
            "\u001b[2K     \u001b[90m━━━━━━━━━━━━━━━━━━━━━━━━━━━━━━━━━━━━━━━━\u001b[0m \u001b[32m4.5/4.5 MB\u001b[0m \u001b[31m56.3 MB/s\u001b[0m eta \u001b[36m0:00:00\u001b[0m\n",
            "\u001b[2K     \u001b[90m━━━━━━━━━━━━━━━━━━━━━━━━━━━━━━━━━━━━━━━━\u001b[0m \u001b[32m1.7/1.7 MB\u001b[0m \u001b[31m6.7 MB/s\u001b[0m eta \u001b[36m0:00:00\u001b[0m\n",
            "\u001b[2K     \u001b[90m━━━━━━━━━━━━━━━━━━━━━━━━━━━━━━━━━━━━━━━━\u001b[0m \u001b[32m682.4/682.4 kB\u001b[0m \u001b[31m54.9 MB/s\u001b[0m eta \u001b[36m0:00:00\u001b[0m\n",
            "\u001b[2K     \u001b[90m━━━━━━━━━━━━━━━━━━━━━━━━━━━━━━━━━━━━━━━━\u001b[0m \u001b[32m888.9/888.9 kB\u001b[0m \u001b[31m64.5 MB/s\u001b[0m eta \u001b[36m0:00:00\u001b[0m\n",
            "\u001b[2K     \u001b[90m━━━━━━━━━━━━━━━━━━━━━━━━━━━━━━━━━━━━━━━━\u001b[0m \u001b[32m1.6/1.6 MB\u001b[0m \u001b[31m83.5 MB/s\u001b[0m eta \u001b[36m0:00:00\u001b[0m\n",
            "\u001b[?25h  Building wheel for pymeeus (setup.py) ... \u001b[?25l\u001b[?25hdone\n"
          ]
        }
      ],
      "source": [
        "!pip install -q montu"
      ]
    },
    {
      "cell_type": "markdown",
      "metadata": {
        "id": "GFrLm8GlNLua"
      },
      "source": [
        "Import the package:"
      ]
    },
    {
      "cell_type": "code",
      "execution_count": 1,
      "metadata": {
        "colab": {
          "base_uri": "https://localhost:8080/"
        },
        "id": "zv_Pqp6KOypM",
        "outputId": "3aa9b9a4-ccb4-4740-e469-e65252d2b7ae"
      },
      "outputs": [
        {
          "name": "stdout",
          "output_type": "stream",
          "text": [
            "0.9.0\n"
          ]
        }
      ],
      "source": [
        "import montu\n",
        "print(montu.version)"
      ]
    },
    {
      "cell_type": "markdown",
      "metadata": {
        "id": "FaqKa9jtO4Pv"
      },
      "source": [
        "Convert dates:"
      ]
    },
    {
      "cell_type": "markdown",
      "metadata": {
        "id": "uFU5GaAARCVx"
      },
      "source": [
        "1. From Gregorian Proleptic to other scales:"
      ]
    },
    {
      "cell_type": "code",
      "execution_count": 4,
      "metadata": {
        "colab": {
          "base_uri": "https://localhost:8080/"
        },
        "id": "w4ZL2z8qPeuv",
        "outputId": "5f5eb9ac-00c5-46c4-e2e1-6488853a3d1f"
      },
      "outputs": [
        {
          "name": "stdout",
          "output_type": "stream",
          "text": [
            "Montu Time Object:\n",
            "-------------------------- \n",
            "Readable:\n",
            "    Date in proleptic UTC: -2500-01-01 12:00:00.0000\n",
            "    Date in mixed UTC: -2500-01-22 12:00:00\n",
            "    Date in SPICE format: 2501 B.C. 01-01 12:00:00.00\n",
            "    Components: [-1, 2500, 1, 1, 12, 0, 0, 0]\n",
            "Objects:\n",
            "    Date in datetime64 format: -2500-01-01T12:00:00.000000\n",
            "    Date in PyPlanet Epoch: 807954.0\n",
            "    Date in PyEphem Epoch: -2501/1/22 12:00:00\n",
            "General:\n",
            "    Is bce: True\n",
            "    Is Julian: True\n",
            "Uniform scales:\n",
            "    Terrestrial time:\n",
            "        tt: -142006202700.3\n",
            "        jtd: 807954.6909688\n",
            "    UTC time:\n",
            "        et: -142006262400.0\n",
            "        jed: 807954.0\n",
            "    Delta-t = TT - UTC = 59699.7\n",
            "\n"
          ]
        }
      ],
      "source": [
        "mtime = montu.Time('-2500-01-01 12:00:00.00',format='iso',scale='utc',calendar='proleptic')\n",
        "print(mtime)"
      ]
    },
    {
      "cell_type": "markdown",
      "metadata": {
        "id": "EHiq1PcTRGmz"
      },
      "source": [
        "2. From Gregorian Mixed to other scales:"
      ]
    },
    {
      "cell_type": "code",
      "execution_count": 5,
      "metadata": {
        "colab": {
          "base_uri": "https://localhost:8080/"
        },
        "id": "ZdkUNQgUSdmg",
        "outputId": "829464bf-7214-4ab4-c436-abf76a3b18ed"
      },
      "outputs": [
        {
          "name": "stdout",
          "output_type": "stream",
          "text": [
            "Montu Time Object:\n",
            "-------------------------- \n",
            "Readable:\n",
            "    Date in proleptic UTC: -2500-01-01 12:00:00.0000\n",
            "    Date in mixed UTC: -2500-01-22 12:00:00\n",
            "    Date in SPICE format: 2501 B.C. 01-01 12:00:00.00\n",
            "    Components: [-1, 2500, 1, 1, 12, 0, 0, 0]\n",
            "Objects:\n",
            "    Date in datetime64 format: -2500-01-01T12:00:00.000000\n",
            "    Date in PyPlanet Epoch: 807954.0\n",
            "    Date in PyEphem Epoch: -2501/1/22 12:00:00\n",
            "General:\n",
            "    Is bce: True\n",
            "    Is Julian: True\n",
            "Uniform scales:\n",
            "    Terrestrial time:\n",
            "        tt: -142006202700.3\n",
            "        jtd: 807954.6909688\n",
            "    UTC time:\n",
            "        et: -142006262400.0\n",
            "        jed: 807954.0\n",
            "    Delta-t = TT - UTC = 59699.7\n",
            "\n"
          ]
        }
      ],
      "source": [
        "mtime = montu.Time('-2500-01-22 12:00:00.00',format='iso',scale='utc',calendar='mixed')\n",
        "print(mtime)"
      ]
    },
    {
      "cell_type": "markdown",
      "metadata": {
        "id": "MCoUPt7KRKnd"
      },
      "source": [
        "3. From Julian day (UTC) to other scales:"
      ]
    },
    {
      "cell_type": "code",
      "execution_count": 6,
      "metadata": {
        "colab": {
          "base_uri": "https://localhost:8080/"
        },
        "id": "A55FLikdRJ-3",
        "outputId": "81333bfa-e155-46c4-c3c4-283cc3789e85"
      },
      "outputs": [
        {
          "name": "stdout",
          "output_type": "stream",
          "text": [
            "Montu Time Object:\n",
            "-------------------------- \n",
            "Readable:\n",
            "    Date in proleptic UTC: -2500-01-01 12:00:00.0000\n",
            "    Date in mixed UTC: -2500-01-22 12:00:00\n",
            "    Date in SPICE format: 2501 B.C. 01-01 12:00:00.00\n",
            "    Components: [-1, 2500, 1, 1, 12, 0, 0, 0]\n",
            "Objects:\n",
            "    Date in datetime64 format: -2500-01-01T12:00:00.000000\n",
            "    Date in PyPlanet Epoch: 807954.0\n",
            "    Date in PyEphem Epoch: -2501/1/22 12:00:00\n",
            "General:\n",
            "    Is bce: True\n",
            "    Is Julian: True\n",
            "Uniform scales:\n",
            "    Terrestrial time:\n",
            "        tt: -142006202700.3\n",
            "        jtd: 807954.6909688\n",
            "    UTC time:\n",
            "        et: -142006262400.0\n",
            "        jed: 807954.0\n",
            "    Delta-t = TT - UTC = 59699.7\n",
            "\n"
          ]
        }
      ],
      "source": [
        "mtime = montu.Time(807954,format='jd',scale='utc')\n",
        "print(mtime)"
      ]
    },
    {
      "cell_type": "markdown",
      "metadata": {
        "id": "QoQoo_bFSqGe"
      },
      "source": [
        "4. From terrestrial time (TT) to other scales:"
      ]
    },
    {
      "cell_type": "code",
      "execution_count": 7,
      "metadata": {
        "colab": {
          "base_uri": "https://localhost:8080/"
        },
        "id": "nUOj7-jUS_32",
        "outputId": "7078c341-d697-4401-e2ea-a2c85cb21574"
      },
      "outputs": [
        {
          "name": "stdout",
          "output_type": "stream",
          "text": [
            "Montu Time Object:\n",
            "-------------------------- \n",
            "Readable:\n",
            "    Date in proleptic UTC: 2000-01-01 12:00:00.0000\n",
            "    Date in mixed UTC: 2000-01-01 12:00:00\n",
            "    Date in SPICE format: 2000-01-01 12:00:00.0000\n",
            "    Components: [1, 2000, 1, 1, 12, 0, 0, 0]\n",
            "Objects:\n",
            "    Date in datetime64 format: 2000-01-01T12:00:00.000000\n",
            "    Date in PyPlanet Epoch: 2451545.0\n",
            "    Date in PyEphem Epoch: 2000/1/1 12:00:00\n",
            "General:\n",
            "    Is bce: False\n",
            "    Is Julian: False\n",
            "Uniform scales:\n",
            "    Terrestrial time:\n",
            "        tt: 63.9\n",
            "        jtd: 2451545.0007396\n",
            "    UTC time:\n",
            "        et: 0.0\n",
            "        jed: 2451545.0\n",
            "    Delta-t = TT - UTC = 63.9\n",
            "\n"
          ]
        }
      ],
      "source": [
        "mtime = montu.Time(0,format='tt',scale='utc')\n",
        "print(mtime)"
      ]
    },
    {
      "cell_type": "markdown",
      "metadata": {
        "id": "w4TbcvlNTHBo"
      },
      "source": [
        "## Detailed attributes"
      ]
    },
    {
      "cell_type": "markdown",
      "metadata": {
        "id": "MdzdxxhXTI9W"
      },
      "source": [
        "The `Time` objects has many attributes related to the epoch defined.\n",
        "\n"
      ]
    },
    {
      "cell_type": "markdown",
      "metadata": {
        "id": "8NlHuJsnRwkw"
      },
      "source": [
        "You may access different attributes using:\n"
      ]
    },
    {
      "cell_type": "code",
      "execution_count": 8,
      "metadata": {
        "colab": {
          "base_uri": "https://localhost:8080/"
        },
        "id": "E6JnP4GuR25h",
        "outputId": "17020740-01d3-4255-ec53-41e3803e0696"
      },
      "outputs": [
        {
          "data": {
            "text/plain": [
              "('2000-01-01 12:00:00.0000', '2000-01-01 12:00:00', 2451545.0, 63.9, 0.0)"
            ]
          },
          "execution_count": 8,
          "metadata": {},
          "output_type": "execute_result"
        }
      ],
      "source": [
        "(mtime.readable.datepro, # Date in gregorian proleptic\n",
        " mtime.readable.datemix, # Date in gregorian mixed\n",
        " mtime.jed, # Date in Julian Day (utc scale)\n",
        " mtime.tt, # Date in ephemerides time (tt scale)\n",
        " mtime.et, # Date in ephemerides time (utc scale)\n",
        ")"
      ]
    },
    {
      "cell_type": "markdown",
      "metadata": {
        "id": "7gI9a3tpSXd_"
      },
      "source": [
        "A list of attributes are:"
      ]
    },
    {
      "cell_type": "code",
      "execution_count": 9,
      "metadata": {
        "colab": {
          "base_uri": "https://localhost:8080/"
        },
        "id": "GVvXMhFNSZW6",
        "outputId": "5883583f-5468-4b0c-aa1e-7a476559af82"
      },
      "outputs": [
        {
          "data": {
            "text/plain": [
              "dict_keys(['readable', 'calendar', 'isjulian', 'deltat', 'bce', 'jed', 'et', 'jtd', 'tt', 'obj_pyephem', 'obj_pyplanet'])"
            ]
          },
          "execution_count": 9,
          "metadata": {},
          "output_type": "execute_result"
        }
      ],
      "source": [
        "mtime.__dict__.keys()"
      ]
    },
    {
      "cell_type": "markdown",
      "metadata": {
        "id": "iVFckcO3TW0q"
      },
      "source": [
        "Here is a detailed explanation of each attribute:"
      ]
    },
    {
      "cell_type": "markdown",
      "metadata": {
        "id": "ZcRYVs6fTjn2"
      },
      "source": [
        "Strings:\n",
        "\n",
        "- `readable.datepro`: Date in proleptic gregorian (extrapolates gregorian calendar before 1582-10-15).\n",
        "- `readable.datemix`: Date in mixed calendar (gregorian from 1582-10-15) and julian before.\n",
        "- `readable.datespice`: Date in SPICE format.\n",
        "\n",
        "Boolean:\n",
        "- `bce`: Is date before christ (before current era).\n",
        "- `isjulian`: Is date a Julian date, i.e. it is a date from before 1582-10-04.\n",
        "\n",
        "Uniform time-scales:\n",
        "- `deltat`: Delta-t = TT - UTC.\n",
        "- `jtd`: Julian day in terrestrial time scale.\n",
        "- `tt`: Ephemerides time.\n",
        "- `jed`: Julian day in UTC.\n",
        "- `et`: Uniform time.\n",
        "\n",
        "Calendar:\n",
        "- `readable.components`: Components of date.\n",
        "- `readable.year`, `readable.month`, `readable.day`, `readable.hour`, `readable.minute`, `readable.second`, `readable.usecond`: Self explanatory."
      ]
    }
  ],
  "metadata": {
    "colab": {
      "provenance": []
    },
    "kernelspec": {
      "display_name": "Python 3",
      "name": "python3"
    },
    "language_info": {
      "codemirror_mode": {
        "name": "ipython",
        "version": 3
      },
      "file_extension": ".py",
      "mimetype": "text/x-python",
      "name": "python",
      "nbconvert_exporter": "python",
      "pygments_lexer": "ipython3",
      "version": "3.9.16"
    }
  },
  "nbformat": 4,
  "nbformat_minor": 0
}
