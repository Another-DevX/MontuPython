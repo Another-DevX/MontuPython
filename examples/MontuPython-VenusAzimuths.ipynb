{
 "cells": [
  {
   "cell_type": "markdown",
   "metadata": {},
   "source": [
    "# Montu Python \n",
    "## Astronomical ephemerides for the Ancient World\n",
    "## Example: Venus Azimutal Distributions\n"
   ]
  },
  {
   "cell_type": "markdown",
   "metadata": {},
   "source": [
    "### Goals of this notebook"
   ]
  },
  {
   "cell_type": "markdown",
   "metadata": {},
   "source": [
    "The goal of this notebook is to compute the distribution of Venus azimuths at dawn. "
   ]
  },
  {
   "cell_type": "code",
   "execution_count": 1,
   "metadata": {},
   "outputs": [],
   "source": [
    "# Uncomment this line in Colab\n",
    "# !pip install -q montu; mkdir -p montmp/"
   ]
  },
  {
   "cell_type": "markdown",
   "metadata": {},
   "source": [
    "### Loading tools"
   ]
  },
  {
   "cell_type": "markdown",
   "metadata": {},
   "source": [
    "We need to load the packages and the required data for it (star database, planet position database, etc.):"
   ]
  },
  {
   "cell_type": "code",
   "execution_count": 2,
   "metadata": {},
   "outputs": [
    {
     "name": "stdout",
     "output_type": "stream",
     "text": [
      "Running MontuPython version 0.9.3\n"
     ]
    }
   ],
   "source": [
    "# Montu packages and data\n",
    "import montu\n",
    "from montu import D2H, PRINTDF, TABLEDF, DEG, RAD\n",
    "\n",
    "# Other libraries required\n",
    "import pandas as pd\n",
    "import copy\n",
    "import matplotlib.pyplot as plt\n",
    "import numpy as np\n",
    "\n",
    "# Load allstars\n",
    "allstars = montu.Stars()\n",
    "\n",
    "# These magic commands are intended to allow updating the packages if they change\n",
    "%load_ext autoreload\n",
    "%autoreload 2"
   ]
  },
  {
   "cell_type": "markdown",
   "metadata": {},
   "source": [
    "### Venus appearances"
   ]
  },
  {
   "cell_type": "markdown",
   "metadata": {},
   "source": [
    "Lets set observing conditions and initial time of exploration:"
   ]
  },
  {
   "cell_type": "code",
   "execution_count": 3,
   "metadata": {},
   "outputs": [],
   "source": [
    "Tebas = montu.Observer(lon=33,lat=24,height=0)"
   ]
  },
  {
   "cell_type": "markdown",
   "metadata": {},
   "source": [
    "Our target body:"
   ]
  },
  {
   "cell_type": "code",
   "execution_count": 4,
   "metadata": {},
   "outputs": [],
   "source": [
    "venus = montu.Planet('Venus')\n",
    "sun = montu.Sun()"
   ]
  },
  {
   "cell_type": "markdown",
   "metadata": {},
   "source": [
    "Now let's compute the conditions of observation of Venus for a given date:"
   ]
  },
  {
   "cell_type": "code",
   "execution_count": 5,
   "metadata": {},
   "outputs": [
    {
     "name": "stdout",
     "output_type": "stream",
     "text": [
      "Conditions for Venus observations at -300-12-08 12:00:00\n",
      "================================================================================\n",
      "Sun rise time: 06:36:0.754\n",
      "Sun set time: 17:15:52.606\n",
      "\n",
      "Time when dawn twilight ends:  18:37:41.649\n",
      "Time when dusk twilight starts:  05:14:12.457\n",
      "\n",
      "Venus rise time: 03:07:15.823\n",
      "Venus set time: 14:43:11.671\n",
      "\n",
      "Visibility conditions:\n",
      "\tVisible at dusk\n",
      "\t\tVisible before dusk twilight start\n",
      "\n",
      "Venus position at dusk:\n",
      "\tAz,el: 113:42:36.443, 27:17:16.877\n",
      "\tMagnitude: -4.14\n"
     ]
    }
   ],
   "source": [
    "mtime = montu.Time('-300-12-04 12:00:00')\n",
    "#mtime = montu.Time()\n",
    "print(f\"Conditions for Venus observations at {mtime.readable.datemix}\")\n",
    "print('='*80)\n",
    "\n",
    "# Compute Venus condition\n",
    "venus.conditions_in_sky(at=mtime,observer=Tebas)\n",
    "\n",
    "# Compute Sun conditions\n",
    "sun.conditions_in_sky(at=mtime,observer=Tebas)\n",
    "print(\"Sun rise time:\",Tebas.get_local_time(sun.condition.rise_time))\n",
    "print(\"Sun set time:\",Tebas.get_local_time(sun.condition.set_time))\n",
    "print()\n",
    "\n",
    "dusk_time,dawn_time = montu.Sun.when_is_twilight(day=mtime,observer=Tebas,sunbelow=-18)\n",
    "print(\"Time when dawn twilight ends: \",Tebas.get_local_time(dawn_time))\n",
    "print(\"Time when dusk twilight starts: \",Tebas.get_local_time(dusk_time))\n",
    "print()\n",
    "\n",
    "print(\"Venus rise time:\",Tebas.get_local_time(venus.condition.rise_time))\n",
    "print(\"Venus set time:\",Tebas.get_local_time(venus.condition.set_time))\n",
    "print()\n",
    "\n",
    "# Determine if it will be visible at dawn or dusk\n",
    "mtime_obs = None\n",
    "print(\"Visibility conditions:\")\n",
    "if venus.condition.set_time > sun.condition.set_time:\n",
    "    print(\"\\tVisible at dawn\")\n",
    "    \n",
    "    # Determine if it will be visible when twilight has ended\n",
    "    if venus.condition.set_time > dawn_time:\n",
    "        print(\"\\t\\tVisible after dawn twilight ends\")\n",
    "        mtime_obs = montu.Time(dawn_time,format='jd')\n",
    "        state = 'dawn'\n",
    "\n",
    "elif venus.condition.rise_time < sun.condition.rise_time:\n",
    "    print(\"\\tVisible at dusk\")\n",
    "\n",
    "    # Determine if it will be visible when twilight has ended\n",
    "    if venus.condition.rise_time < dusk_time:\n",
    "        print(\"\\t\\tVisible before dusk twilight start\")\n",
    "        mtime_obs = montu.Time(dusk_time,format='jd')\n",
    "        state = 'dusk'\n",
    "else:\n",
    "    print(\"Venus is transiting the Sun\")\n",
    "\n",
    "print()\n",
    "if mtime_obs:\n",
    "    venus.conditions_in_sky(at=mtime_obs,observer=Tebas)\n",
    "    print(f\"Venus position at {state}:\")\n",
    "    print(f\"\\tAz,el: {D2H(venus.position.az)}, {D2H(venus.position.el)}\")\n",
    "    print(f\"\\tMagnitude: {venus.condition.Vmag}\")\n"
   ]
  },
  {
   "cell_type": "markdown",
   "metadata": {},
   "source": [
    "Let's do it for many dates during a whole Synodic period:"
   ]
  },
  {
   "cell_type": "code",
   "execution_count": 6,
   "metadata": {},
   "outputs": [
    {
     "name": "stderr",
     "output_type": "stream",
     "text": [
      "100%|██████████| 2336/2336 [00:06<00:00, 336.49it/s]\n"
     ]
    }
   ],
   "source": [
    "mtime_initial = montu.Time('-3000-01-01 12:00:00')\n",
    "\n",
    "venus_conditions = []\n",
    "for dt in montu.PROGRESS(\n",
    "    montu.Util.arange(0,4*montu.ALLPLANETS.loc['Venus','SynodicOrbit']*montu.YEAR,1*montu.DAY)\n",
    "    ):\n",
    "    \n",
    "    mtime = mtime_initial + dt\n",
    "\n",
    "    # Compute Sun conditions\n",
    "    sun.conditions_in_sky(at=mtime,observer=Tebas)\n",
    "    dusk_time,dawn_time = montu.Sun.when_is_twilight(day=mtime,observer=Tebas,sunbelow=-18)\n",
    "\n",
    "    # Compute Venus condition\n",
    "    venus.conditions_in_sky(at=mtime,observer=Tebas)\n",
    "\n",
    "    # Conditions\n",
    "    visible_at_dawn = False\n",
    "    visible_at_dusk = False\n",
    "    visible_before_dusk = False\n",
    "    visible_after_dawn = False\n",
    "\n",
    "    # Determine if it will be visible at dawn or dusk\n",
    "    mtime_obs = None\n",
    "    az_horizon = 361\n",
    "    if venus.condition.set_time > sun.condition.set_time:\n",
    "        visible_at_dawn = True\n",
    "        az_horizon = venus.condition.set_az    \n",
    "        # Determine if it will be visible when twilight has ended\n",
    "        if venus.condition.set_time > dawn_time:\n",
    "            visible_after_dawn = True\n",
    "            mtime_obs = montu.Time(dawn_time,format='jd')\n",
    "            state = 'dawn'\n",
    "\n",
    "    elif venus.condition.rise_time < sun.condition.rise_time:\n",
    "        visible_at_dusk = True\n",
    "        az_horizon = venus.condition.rise_az\n",
    "        # Determine if it will be visible when twilight has ended\n",
    "        if venus.condition.rise_time < dusk_time:\n",
    "            visible_before_dusk = True\n",
    "            mtime_obs = montu.Time(dusk_time,format='jd')\n",
    "            state = 'dusk'\n",
    "    else:\n",
    "        pass\n",
    "\n",
    "    az_twilight = None\n",
    "    el_twilight = None\n",
    "    if mtime_obs:\n",
    "        venus.conditions_in_sky(at=mtime_obs,observer=Tebas)\n",
    "        az_twilight = venus.position.az\n",
    "        el_twilight = venus.position.el\n",
    "\n",
    "    venus_conditions += [dict(\n",
    "        jed = mtime.jed,\n",
    "        sun_rise_time = sun.condition.rise_time,\n",
    "        sun_set_time = sun.condition.set_time,\n",
    "        dusk_time = dusk_time,\n",
    "        dawn_time = dawn_time,\n",
    "        venus_rise_time = venus.condition.rise_time,\n",
    "        venus_set_time = venus.condition.set_time,\n",
    "        visible_at_down = visible_at_dawn,\n",
    "        visible_after_dawn = visible_after_dawn,\n",
    "        visible_at_dusk = visible_at_dusk,\n",
    "        visible_before_dusk = visible_before_dusk,\n",
    "        az_horizon = az_horizon,\n",
    "        az_twilight = az_twilight,\n",
    "        el_twilight = el_twilight,\n",
    "    )]\n",
    "mtime_final = mtime.get_readable()\n",
    "venus_conditions = pd.DataFrame(venus_conditions)\n",
    "\n",
    "# Save data\n",
    "suffix = f'{abs(mtime_initial.readable.year)}'\n",
    "venus_conditions.to_csv(f'montmp/venus-conditions-year_{suffix}_bce.csv')"
   ]
  },
  {
   "cell_type": "markdown",
   "metadata": {},
   "source": [
    "Exclude problematic conditions:"
   ]
  },
  {
   "cell_type": "code",
   "execution_count": 7,
   "metadata": {},
   "outputs": [],
   "source": [
    "cond = (venus_conditions.az_twilight == 361)|(venus_conditions.az_horizon == 361)\n",
    "venus_conditions = venus_conditions[~cond]"
   ]
  },
  {
   "cell_type": "markdown",
   "metadata": {},
   "source": [
    "Plot conditions:"
   ]
  },
  {
   "cell_type": "code",
   "execution_count": 8,
   "metadata": {},
   "outputs": [
    {
     "data": {
      "image/png": "[encoded data removed]",
      "text/plain": [
       "<Figure size 1000x500 with 2 Axes>"
      ]
     },
     "metadata": {},
     "output_type": "display_data"
    }
   ],
   "source": [
    "with plt.style.context('dark_background'):\n",
    "    fig,ax_el = plt.subplots(figsize=(10,5))\n",
    "    ax_az = ax_el.twinx()\n",
    "    \n",
    "    ax_el.plot(venus_conditions.jed,venus_conditions.el_twilight,'c')\n",
    "    \n",
    "    ax_az.plot(venus_conditions.jed,venus_conditions.az_twilight,'y',label='Azimuth at twilight')\n",
    "    ax_az.plot(venus_conditions.jed[::10],venus_conditions.az_horizon[::10],'y+',label='Azimuth at set')\n",
    "\n",
    "    # Decorate\n",
    "    montu.Time.set_time_ticks(ax_el,format='jd',timefmt='%Y-%m',fontsize=10)\n",
    "    ax_el.set_xlabel('Date')\n",
    "    ax_el.set_ylabel('Elevation at twilight [deg]',color='c')\n",
    "    ax_az.set_ylabel('Azimuth [deg]',color='y')\n",
    "    ax_az.legend(loc='center')\n",
    "\n",
    "    ax_el.set_title(f\"Venus appearances conditions between {mtime_initial.strftime('%Y-%m-%d')} and {mtime_final.strftime('%Y-%m-%d')}\")\n",
    "    ax_el.grid(alpha=0.3)\n",
    "    montu.Util.montu_mark(ax_el);\n",
    "    fig.savefig(f'montmp/venus-appearances-year_{suffix}_bce.png')"
   ]
  },
  {
   "cell_type": "markdown",
   "metadata": {},
   "source": [
    "Histogram of azimuths:"
   ]
  },
  {
   "cell_type": "code",
   "execution_count": 11,
   "metadata": {},
   "outputs": [],
   "source": [
    "fig,ax = plt.subplots()\n",
    "\n",
    "hs,xs,bs = ax.hist(\n",
    "    venus_conditions.az_twilight,\n",
    "    bins=50,density=True,\n",
    "    color='r',alpha=0.3,\n",
    "    label = 'Azimuth at twilight'\n",
    "    )\n",
    "\n",
    "hs,xs,bs = ax.hist(\n",
    "    venus_conditions.az_horizon,\n",
    "    bins=50,density=True,\n",
    "    color='b',alpha=0.2,\n",
    "    label = 'Azimuth at set'\n",
    "    )\n",
    "\n",
    "hmax = hs.max()\n",
    "# vertical bars\n",
    "ax.axvline(90,color='k')\n",
    "ax.text(90,1.08*hmax,'E',ha='center')\n",
    "ax.axvline(180,color='k',alpha=0.3)\n",
    "ax.text(180,1.08*hmax,'S',ha='center')\n",
    "ax.axvline(270,color='k')\n",
    "ax.text(270,1.08*hmax,'W',ha='center')\n",
    "\n",
    "ax.set_xticks(np.arange(0,360,15))\n",
    "ax.tick_params(axis='x',which='major',labelsize=8,rotation=90)\n",
    "ax.set_yticks([])\n",
    "\n",
    "ax.legend()\n",
    "ax.grid(alpha=0.3)\n",
    "ax.set_xlabel('Azimuth [deg]')\n",
    "ax.set_ylabel('Frequency')\n",
    "ax.set_title(f'Distribution of azimuths for Venus for {suffix}',x=0.5,y=1.05)\n",
    "\n",
    "montu.Util.montu_mark(ax);\n",
    "fig.savefig(f'montmp/venus-appearances-distribution-year_{suffix}_bce.png')"
   ]
  },
  {
   "cell_type": "code",
   "execution_count": null,
   "metadata": {},
   "outputs": [],
   "source": [
    "mtime_initial = montu.Time('-3000-01-01 12:00:00')\n",
    " mars_conditions = []\n",
    "for dt in montu.PROGRESS(\n",
    "    montu.Util.arange(0,4*montu.ALLPLANETS.loc[ mars','SynodicOrbit']*montu.YEAR,1*montu.DAY)\n",
    "    ):\n",
    "    \n",
    "    mtime = mtime_initial + dt\n",
    "\n",
    "    # Compute Sun conditions\n",
    "    sun.conditions_in_sky(at=mtime,observer=Tebas)\n",
    "    dusk_time,dawn_time = montu.Sun.when_is_twilight(day=mtime,observer=Tebas,sunbelow=-18)\n",
    "\n",
    "    # Compute mars condition\n",
    " mars.conditions_in_sky(at=mtime,observer=Tebas)\n",
    "\n",
    "    # Conditions\n",
    "    visible_at_dawn = False\n",
    "    visible_at_dusk = False\n",
    "    visible_before_dusk = False\n",
    "    visible_after_dawn = False\n",
    "\n",
    "    # Determine if it will be visible at dawn or dusk\n",
    "    mtime_obs = None\n",
    "    az_horizon = 361\n",
    "    if mars.condition.set_time > sun.condition.set_time:\n",
    "        visible_at_dawn = True\n",
    "        az_horizon = mars.condition.set_az    \n",
    "        # Determine if it will be visible when twilight has ended\n",
    "        if mars.condition.set_time > dawn_time:\n",
    "            visible_after_dawn = True\n",
    "            mtime_obs = montu.Time(dawn_time,format='jd')\n",
    "            state = 'dawn'\n",
    "\n",
    "    elif mars.condition.rise_time < sun.condition.rise_time:\n",
    "        visible_at_dusk = True\n",
    "        az_horizon = mars.condition.rise_az\n",
    "        # Determine if it will be visible when twilight has ended\n",
    "        if mars.condition.rise_time < dusk_time:\n",
    "            visible_before_dusk = True\n",
    "            mtime_obs = montu.Time(dusk_time,format='jd')\n",
    "            state = 'dusk'\n",
    "    else:\n",
    "        pass\n",
    "\n",
    "    az_twilight = None\n",
    "    el_twilight = None\n",
    "    if mtime_obs:\n",
    "     mars.conditions_in_sky(at=mtime_obs,observer=Tebas)\n",
    "        az_twilight = mars.position.az\n",
    "        el_twilight = mars.position.el\n",
    "\n",
    " mars_conditions += [dict(\n",
    "        jed = mtime.jed,\n",
    "        sun_rise_time = sun.condition.rise_time,\n",
    "        sun_set_time = sun.condition.set_time,\n",
    "        dusk_time = dusk_time,\n",
    "        dawn_time = dawn_time,\n",
    "     mars_rise_time = mars.condition.rise_time,\n",
    "     mars_set_time = mars.condition.set_time,\n",
    "        visible_at_down = visible_at_dawn,\n",
    "        visible_after_dawn = visible_after_dawn,\n",
    "        visible_at_dusk = visible_at_dusk,\n",
    "        visible_before_dusk = visible_before_dusk,\n",
    "        az_horizon = az_horizon,\n",
    "        az_twilight = az_twilight,\n",
    "        el_twilight = el_twilight,\n",
    "    )]\n",
    "mtime_final = mtime.get_readable() mars_conditions = pd.DataFrame mars_conditions)\n",
    "\n",
    "# Save data\n",
    "suffix = f'{abs(mtime_initial.readable.year)}' mars_conditions.to_csv(f'montmp mars-conditions-year_{suffix}_bce.csv')"
   ]
  },
  {
   "cell_type": "markdown",
   "metadata": {},
   "source": [
    "## Complimentary"
   ]
  },
  {
   "cell_type": "code",
   "execution_count": 10,
   "metadata": {},
   "outputs": [
    {
     "ename": "NameError",
     "evalue": "name 'venus_conditions_2000' is not defined",
     "output_type": "error",
     "traceback": [
      "\u001b[0;31m---------------------------------------------------------------------------\u001b[0m",
      "\u001b[0;31mNameError\u001b[0m                                 Traceback (most recent call last)",
      "\u001b[1;32m/home/jzuluaga/EgyptianAstronomy/MontuPython/examples/MontuPython-VenusAzimuths.ipynb Cell 24\u001b[0m line \u001b[0;36m2\n\u001b[1;32m      <a href='vscode-notebook-cell:/home/jzuluaga/EgyptianAstronomy/MontuPython/examples/MontuPython-VenusAzimuths.ipynb#X32sZmlsZQ%3D%3D?line=0'>1</a>\u001b[0m suffix\u001b[39m=\u001b[39m\u001b[39m2000\u001b[39m\n\u001b[0;32m----> <a href='vscode-notebook-cell:/home/jzuluaga/EgyptianAstronomy/MontuPython/examples/MontuPython-VenusAzimuths.ipynb#X32sZmlsZQ%3D%3D?line=1'>2</a>\u001b[0m exec(\u001b[39mf\u001b[39;49m\u001b[39m\"\u001b[39;49m\u001b[39mvenus_conditions = venus_conditions_\u001b[39;49m\u001b[39m{\u001b[39;49;00msuffix\u001b[39m}\u001b[39;49;00m\u001b[39m\"\u001b[39;49m)\n\u001b[1;32m      <a href='vscode-notebook-cell:/home/jzuluaga/EgyptianAstronomy/MontuPython/examples/MontuPython-VenusAzimuths.ipynb#X32sZmlsZQ%3D%3D?line=2'>3</a>\u001b[0m cond \u001b[39m=\u001b[39m (venus_conditions\u001b[39m.\u001b[39maz_twilight\u001b[39m>\u001b[39m\u001b[39m270\u001b[39m) \u001b[39m&\u001b[39m (venus_conditions\u001b[39m.\u001b[39maz_twilight\u001b[39m<\u001b[39m\u001b[39m360\u001b[39m) \n\u001b[1;32m      <a href='vscode-notebook-cell:/home/jzuluaga/EgyptianAstronomy/MontuPython/examples/MontuPython-VenusAzimuths.ipynb#X32sZmlsZQ%3D%3D?line=3'>4</a>\u001b[0m \u001b[39mprint\u001b[39m(\u001b[39mf\u001b[39m\u001b[39m\"\u001b[39m\u001b[39mAzimutes en -\u001b[39m\u001b[39m{\u001b[39;00msuffix\u001b[39m}\u001b[39;00m\u001b[39m, crepúsculo, puesta: \u001b[39m\u001b[39m{\u001b[39;00m\u001b[39mmax\u001b[39m(venus_conditions[cond]\u001b[39m.\u001b[39maz_twilight)\u001b[39m}\u001b[39;00m\u001b[39m,\u001b[39m\u001b[39m{\u001b[39;00m\u001b[39mmax\u001b[39m(venus_conditions[cond]\u001b[39m.\u001b[39maz_horizon)\u001b[39m}\u001b[39;00m\u001b[39m\"\u001b[39m)\n",
      "File \u001b[0;32m<string>:1\u001b[0m\n",
      "\u001b[0;31mNameError\u001b[0m: name 'venus_conditions_2000' is not defined"
     ]
    }
   ],
   "source": [
    "suffix=2000\n",
    "exec(f\"venus_conditions = venus_conditions_{suffix}\")\n",
    "cond = (venus_conditions.az_twilight>270) & (venus_conditions.az_twilight<360) \n",
    "print(f\"Azimutes en -{suffix}, crepúsculo, puesta: {max(venus_conditions[cond].az_twilight)},{max(venus_conditions[cond].az_horizon)}\")\n",
    "\n",
    "suffix=3000\n",
    "exec(f\"venus_conditions = venus_conditions_{suffix}\")\n",
    "cond = (venus_conditions.az_twilight>270) & (venus_conditions.az_twilight<360) \n",
    "print(f\"Azimutes en -{suffix}, crepúsculo, puesta: {max(venus_conditions[cond].az_twilight)},{max(venus_conditions[cond].az_horizon)}\")"
   ]
  },
  {
   "cell_type": "code",
   "execution_count": 23,
   "metadata": {},
   "outputs": [],
   "source": [
    "mtime = montu.Time('-3984-06-01 12:00:00')\n",
    "saturn = montu.Planet('Saturn')\n",
    "tebas = montu.Observer(lat=24,lon=33,height=464)\n",
    "saturn.where_in_sky(at=mtime,observer=tebas)"
   ]
  },
  {
   "cell_type": "code",
   "execution_count": 24,
   "metadata": {},
   "outputs": [
    {
     "data": {
      "text/plain": [
       "Object Saturn positions:\n",
       "|            tt |    jed | Name   |   RAJ2000 |   DecJ2000 |   RAEpoch |   DecEpoch |   RAGeo |   DecGeo |       el |     az |\n",
       "|---------------|--------|--------|-----------|------------|-----------|------------|---------|----------|----------|--------|\n",
       "| -188823549823 | 266086 | Saturn |  0.140823 |   -1.03486 |   18.6588 |   -25.4544 | 18.6588 | -25.4544 | -86.8561 | 118.19 |'\n",
       "Object Saturn conditions:\n",
       "'"
      ]
     },
     "execution_count": 24,
     "metadata": {},
     "output_type": "execute_result"
    }
   ],
   "source": [
    "saturn"
   ]
  },
  {
   "cell_type": "code",
   "execution_count": 22,
   "metadata": {},
   "outputs": [
    {
     "data": {
      "text/plain": [
       "Object Saturn positions:\n",
       "|            tt |    jed | Name   |   RAJ2000 |   DecJ2000 |   RAEpoch |   DecEpoch |   RAGeo |   DecGeo |       el |     az |\n",
       "|---------------|--------|--------|-----------|------------|-----------|------------|---------|----------|----------|--------|\n",
       "| -188823549823 | 266086 | Saturn |  0.140823 |   -1.03486 |   18.6588 |   -25.4544 | 18.6588 | -25.4544 | -86.8561 | 118.19 |'\n",
       "Object Saturn conditions:\n",
       "|      ha |   Vmag |   rise_time |   rise_az |   set_time |   set_az |   transit_time |   transit_el |   elongation |   earth_distance |   sun_distance | is_circumpolar   | is_neverup   |   angsize |   phase |     hlat |    hlon |   hlong |\n",
       "|---------|--------|-------------|-----------|------------|----------|----------------|--------------|--------------|------------------|----------------|------------------|--------------|-----------|---------|----------|---------|---------|\n",
       "| 12.2046 |    0.5 |      266086 |   117.786 |     266086 |  242.219 |         266086 |      40.5603 |     -149.862 |          8.28572 |        9.17048 | False            | False        |   19.9862 | 99.9239 | -1.49808 | 275.754 | 275.754 |'"
      ]
     },
     "execution_count": 22,
     "metadata": {},
     "output_type": "execute_result"
    }
   ],
   "source": [
    "saturn.conditions_in_sky(at=mtime,observer=tebas)\n",
    "saturn"
   ]
  },
  {
   "cell_type": "code",
   "execution_count": 30,
   "metadata": {},
   "outputs": [
    {
     "data": {
      "text/plain": [
       "Object Jupiter positions:\n",
       "|            tt |    jed | Name    |   RAJ2000 |   DecJ2000 |   RAEpoch |   DecEpoch |   RAGeo |   DecGeo |      el |      az |\n",
       "|---------------|--------|---------|-----------|------------|-----------|------------|---------|----------|---------|---------|\n",
       "| -188823549823 | 266086 | Jupiter |   15.0448 |   -16.2316 |   9.87867 |    14.8317 | 9.87865 |  14.8318 | 46.5725 | 93.5902 |'\n",
       "Object Jupiter conditions:\n",
       "|      ha |   Vmag |   rise_time |   rise_az |   set_time |   set_az |   transit_time |   transit_el |   elongation |   earth_distance |   sun_distance | is_circumpolar   | is_neverup   |   angsize |   phase |    hlat |    hlon |   hlong |\n",
       "|---------|--------|-------------|-----------|------------|----------|----------------|--------------|--------------|------------------|----------------|------------------|--------------|-----------|---------|---------|---------|---------|\n",
       "| 20.9847 |  -1.88 |      266086 |   73.4591 |     266086 |  286.513 |         266086 |      80.8284 |      76.4404 |           5.4588 |        5.31373 | False            | False        |   36.0409 | 99.1442 | 1.49786 | 155.871 | 155.871 |'"
      ]
     },
     "execution_count": 30,
     "metadata": {},
     "output_type": "execute_result"
    }
   ],
   "source": [
    "mtime = montu.Time('-3984-06-01 12:00:00')\n",
    "jupiter = montu.Planet('Jupiter')\n",
    "tebas = montu.Observer(lat=24,lon=33,height=464)\n",
    "jupiter.conditions_in_sky(at=mtime,observer=tebas)\n",
    "jupiter"
   ]
  },
  {
   "cell_type": "code",
   "execution_count": 32,
   "metadata": {},
   "outputs": [
    {
     "data": {
      "text/plain": [
       "Object Mercury positions:\n",
       "|            tt |    jed | Name    |   RAJ2000 |   DecJ2000 |   RAEpoch |   DecEpoch |   RAGeo |   DecGeo |      el |      az |\n",
       "|---------------|--------|---------|-----------|------------|-----------|------------|---------|----------|---------|---------|\n",
       "| -188807738623 | 266269 | Mercury |   22.6167 |   -5.05881 |   17.0378 |   -19.5711 |  17.038 | -19.5686 | 38.6571 | 214.379 |'\n",
       "Object Mercury conditions:\n",
       "|      ha |   Vmag |   rise_time |   rise_az |   set_time |   set_az |   transit_time |   transit_el |   elongation |   earth_distance |   sun_distance | is_circumpolar   | is_neverup   |   angsize |   phase |    hlat |    hlon |   hlong |\n",
       "|---------|--------|-------------|-----------|------------|----------|----------------|--------------|--------------|------------------|----------------|------------------|--------------|-----------|---------|---------|---------|---------|\n",
       "| 1.86078 |   5.65 |      266269 |   111.315 |     266269 |  248.792 |         266269 |      46.4276 |      4.98711 |         0.639422 |       0.360984 | False            | False        |   10.5408 | 1.44944 | 6.81942 | 67.5586 | 67.5586 |'"
      ]
     },
     "execution_count": 32,
     "metadata": {},
     "output_type": "execute_result"
    }
   ],
   "source": [
    "mtime = montu.Time('-3984-12-01 12:00:00')\n",
    "mercury = montu.Planet('mercury')\n",
    "tebas = montu.Observer(lat=24,lon=33,height=464)\n",
    "mercury.conditions_in_sky(at=mtime,observer=tebas)\n",
    "mercury"
   ]
  },
  {
   "cell_type": "code",
   "execution_count": 40,
   "metadata": {},
   "outputs": [
    {
     "data": {
      "text/plain": [
       "Object Venus positions:\n",
       "|            tt |         jed | Name   |   RAJ2000 |   DecJ2000 |   RAEpoch |   DecEpoch |   RAGeo |   DecGeo |     el |      az |\n",
       "|---------------|-------------|--------|-----------|------------|-----------|------------|---------|----------|--------|---------|\n",
       "| -110227551296 | 1.17576e+06 | Venus  |   21.5458 |   -15.4346 |   18.1514 |   -24.3657 | 18.1513 | -24.3647 | 28.194 | 138.645 |'\n",
       "Object Venus conditions:\n",
       "|    ha |   Vmag |   rise_time |   rise_az |    set_time |   set_az |   transit_time |   transit_el |   elongation |   earth_distance |   sun_distance | is_circumpolar   | is_neverup   |   angsize |   phase |     hlat |    hlon |   hlong |\n",
       "|-------|--------|-------------|-----------|-------------|----------|----------------|--------------|--------------|------------------|----------------|------------------|--------------|-----------|---------|----------|---------|---------|\n",
       "| 21.35 |  -3.78 | 1.17576e+06 |   116.566 | 1.17576e+06 |  243.426 |    1.17576e+06 |        41.65 |      -19.661 |          1.58344 |       0.729238 | False            | False        |   10.6856 | 94.4461 | -1.10166 | 244.821 | 244.821 |'"
      ]
     },
     "execution_count": 40,
     "metadata": {},
     "output_type": "execute_result"
    }
   ],
   "source": [
    "mtime = montu.Time('-1493-01-11 06:00:00')\n",
    "venus = montu.Planet('venus')\n",
    "tebas = montu.Observer(lat=24,lon=33,height=464)\n",
    "venus.conditions_in_sky(at=mtime,observer=tebas)\n",
    "venus"
   ]
  },
  {
   "cell_type": "markdown",
   "metadata": {},
   "source": [
    "The end!"
   ]
  }
 ],
 "metadata": {
  "kernelspec": {
   "display_name": "base",
   "language": "python",
   "name": "python3"
  },
  "language_info": {
   "codemirror_mode": {
    "name": "ipython",
    "version": 3
   },
   "file_extension": ".py",
   "mimetype": "text/x-python",
   "name": "python",
   "nbconvert_exporter": "python",
   "pygments_lexer": "ipython3",
   "version": "3.9.16"
  }
 },
 "nbformat": 4,
 "nbformat_minor": 2
}
