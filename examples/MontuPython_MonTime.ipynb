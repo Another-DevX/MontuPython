{
  "nbformat": 4,
  "nbformat_minor": 0,
  "metadata": {
    "colab": {
      "provenance": []
    },
    "kernelspec": {
      "name": "python3",
      "display_name": "Python 3"
    },
    "language_info": {
      "name": "python"
    }
  },
  "cells": [
    {
      "cell_type": "markdown",
      "source": [
        "# Montu Python\n",
        "## Astronomical ephemerides for the Ancient World\n",
        "## MonTime: Basic time functionalities\n"
      ],
      "metadata": {
        "id": "mb1rD98NM-2g"
      }
    },
    {
      "cell_type": "markdown",
      "source": [
        "This notebook illustrate the usage of time class in `MontuPython`."
      ],
      "metadata": {
        "id": "5C2_Shd8NMdK"
      }
    },
    {
      "cell_type": "markdown",
      "source": [
        "Install the package:"
      ],
      "metadata": {
        "id": "IalayDNLNdzP"
      }
    },
    {
      "cell_type": "code",
      "source": [
        "!pip install -q montu"
      ],
      "metadata": {
        "colab": {
          "base_uri": "https://localhost:8080/"
        },
        "id": "EccE3hanNJog",
        "outputId": "b5fbd5a3-4b9b-45c4-ace8-aa132ea19eaa"
      },
      "execution_count": null,
      "outputs": [
        {
          "output_type": "stream",
          "name": "stdout",
          "text": [
            "\u001b[2K     \u001b[90m━━━━━━━━━━━━━━━━━━━━━━━━━━━━━━━━━━━━━━━━\u001b[0m \u001b[32m7.6/7.6 MB\u001b[0m \u001b[31m4.2 MB/s\u001b[0m eta \u001b[36m0:00:00\u001b[0m\n",
            "\u001b[2K     \u001b[90m━━━━━━━━━━━━━━━━━━━━━━━━━━━━━━━━━━━━━━━━\u001b[0m \u001b[32m1.8/1.8 MB\u001b[0m \u001b[31m41.9 MB/s\u001b[0m eta \u001b[36m0:00:00\u001b[0m\n",
            "\u001b[2K     \u001b[90m━━━━━━━━━━━━━━━━━━━━━━━━━━━━━━━━━━━━━━━━\u001b[0m \u001b[32m5.8/5.8 MB\u001b[0m \u001b[31m70.5 MB/s\u001b[0m eta \u001b[36m0:00:00\u001b[0m\n",
            "\u001b[?25h  Preparing metadata (setup.py) ... \u001b[?25l\u001b[?25hdone\n",
            "\u001b[2K     \u001b[90m━━━━━━━━━━━━━━━━━━━━━━━━━━━━━━━━━━━━━━━━\u001b[0m \u001b[32m4.5/4.5 MB\u001b[0m \u001b[31m56.3 MB/s\u001b[0m eta \u001b[36m0:00:00\u001b[0m\n",
            "\u001b[2K     \u001b[90m━━━━━━━━━━━━━━━━━━━━━━━━━━━━━━━━━━━━━━━━\u001b[0m \u001b[32m1.7/1.7 MB\u001b[0m \u001b[31m6.7 MB/s\u001b[0m eta \u001b[36m0:00:00\u001b[0m\n",
            "\u001b[2K     \u001b[90m━━━━━━━━━━━━━━━━━━━━━━━━━━━━━━━━━━━━━━━━\u001b[0m \u001b[32m682.4/682.4 kB\u001b[0m \u001b[31m54.9 MB/s\u001b[0m eta \u001b[36m0:00:00\u001b[0m\n",
            "\u001b[2K     \u001b[90m━━━━━━━━━━━━━━━━━━━━━━━━━━━━━━━━━━━━━━━━\u001b[0m \u001b[32m888.9/888.9 kB\u001b[0m \u001b[31m64.5 MB/s\u001b[0m eta \u001b[36m0:00:00\u001b[0m\n",
            "\u001b[2K     \u001b[90m━━━━━━━━━━━━━━━━━━━━━━━━━━━━━━━━━━━━━━━━\u001b[0m \u001b[32m1.6/1.6 MB\u001b[0m \u001b[31m83.5 MB/s\u001b[0m eta \u001b[36m0:00:00\u001b[0m\n",
            "\u001b[?25h  Building wheel for pymeeus (setup.py) ... \u001b[?25l\u001b[?25hdone\n"
          ]
        }
      ]
    },
    {
      "cell_type": "markdown",
      "source": [
        "Import the package:"
      ],
      "metadata": {
        "id": "GFrLm8GlNLua"
      }
    },
    {
      "cell_type": "code",
      "source": [
        "import montu as mn\n",
        "print(mn.version)"
      ],
      "metadata": {
        "colab": {
          "base_uri": "https://localhost:8080/"
        },
        "id": "zv_Pqp6KOypM",
        "outputId": "3aa9b9a4-ccb4-4740-e469-e65252d2b7ae"
      },
      "execution_count": null,
      "outputs": [
        {
          "output_type": "stream",
          "name": "stdout",
          "text": [
            "0.7.1\n"
          ]
        }
      ]
    },
    {
      "cell_type": "markdown",
      "source": [
        "Convert dates:"
      ],
      "metadata": {
        "id": "FaqKa9jtO4Pv"
      }
    },
    {
      "cell_type": "markdown",
      "source": [
        "1. From Gregorian Proleptic to other scales:"
      ],
      "metadata": {
        "id": "uFU5GaAARCVx"
      }
    },
    {
      "cell_type": "code",
      "source": [
        "mtime = mn.MonTime('-2500-01-01 12:00:00.00',format='iso',scale='utc',calendar='proleptic')\n",
        "print(mtime)"
      ],
      "metadata": {
        "colab": {
          "base_uri": "https://localhost:8080/"
        },
        "id": "w4ZL2z8qPeuv",
        "outputId": "5f5eb9ac-00c5-46c4-e2e1-6488853a3d1f"
      },
      "execution_count": null,
      "outputs": [
        {
          "output_type": "stream",
          "name": "stdout",
          "text": [
            "Montu Time Object:\n",
            "--------------------------\n",
            "Date in proleptic UTC: -2500-01-01 12:00:00.0002\n",
            "Date in mixed UTC: -2500-01-22 12:00:00\n",
            "Date in SPICE format: 2501 B.C. 01-01 12:00:00.200\n",
            "General:\n",
            "    Components: [-1, 2500, 1, 1, 12, 0, 0, 200]\n",
            "    Is bce: True\n",
            "    Is Julian: True\n",
            "Uniform scales:\n",
            "    Terrestrial time:\n",
            "        tt: -142006202700.3199\n",
            "        jtd: 807954.69096852\n",
            "    UTC time:\n",
            "        et: -142006262399.99988\n",
            "        jed: 807954.0\n",
            "    Delta-t = TT - UTC = 59699.68000000001\n",
            "Objects:\n",
            "    Date in datetime64 format: -2500-01-01T12:00:00.000200\n",
            "    Date in PyPlanet Epoch: 807954.0\n",
            "    Date in PyEphem Epoch: -2501/1/22 12:00:00\n",
            "    Date in AstroPy Time: 807954.69096852\n",
            "Astronomical properties at Epoch:\n",
            "    True obliquity of ecliptic: 23:58:33.587\n",
            "    True nutation longitude: 00:00:10.214\n",
            "    Greenwhich Meridian Sidereal Time: 18:40:25.323\n",
            "\n"
          ]
        }
      ]
    },
    {
      "cell_type": "markdown",
      "source": [
        "2. From Gregorian Mixed to other scales:"
      ],
      "metadata": {
        "id": "EHiq1PcTRGmz"
      }
    },
    {
      "cell_type": "code",
      "source": [
        "mtime = mn.MonTime('-2500-01-22 12:00:00.00',format='iso',scale='utc',calendar='mixed')\n",
        "print(mtime)"
      ],
      "metadata": {
        "colab": {
          "base_uri": "https://localhost:8080/"
        },
        "id": "ZdkUNQgUSdmg",
        "outputId": "829464bf-7214-4ab4-c436-abf76a3b18ed"
      },
      "execution_count": null,
      "outputs": [
        {
          "output_type": "stream",
          "name": "stdout",
          "text": [
            "Montu Time Object:\n",
            "--------------------------\n",
            "Date in proleptic UTC: -2500-01-01 12:00:00.0002\n",
            "Date in mixed UTC: -2500-01-22 12:00:00\n",
            "Date in SPICE format: 2501 B.C. 01-01 12:00:00.200\n",
            "General:\n",
            "    Components: [-1, 2500, 1, 1, 12, 0, 0, 200]\n",
            "    Is bce: True\n",
            "    Is Julian: True\n",
            "Uniform scales:\n",
            "    Terrestrial time:\n",
            "        tt: -142006202700.3199\n",
            "        jtd: 807954.69096852\n",
            "    UTC time:\n",
            "        et: -142006262399.99988\n",
            "        jed: 807954.0\n",
            "    Delta-t = TT - UTC = 59699.68000000001\n",
            "Objects:\n",
            "    Date in datetime64 format: -2500-01-01T12:00:00.000200\n",
            "    Date in PyPlanet Epoch: 807954.0\n",
            "    Date in PyEphem Epoch: -2501/1/22 12:00:00\n",
            "    Date in AstroPy Time: 807954.69096852\n",
            "Astronomical properties at Epoch:\n",
            "    True obliquity of ecliptic: 23:58:33.587\n",
            "    True nutation longitude: 00:00:10.214\n",
            "    Greenwhich Meridian Sidereal Time: 18:40:25.323\n",
            "\n"
          ]
        }
      ]
    },
    {
      "cell_type": "markdown",
      "source": [
        "3. From Julian day (UTC) to other scales:"
      ],
      "metadata": {
        "id": "MCoUPt7KRKnd"
      }
    },
    {
      "cell_type": "code",
      "source": [
        "mtime = mn.MonTime(807954,format='jd',scale='utc')\n",
        "print(mtime)"
      ],
      "metadata": {
        "colab": {
          "base_uri": "https://localhost:8080/"
        },
        "id": "A55FLikdRJ-3",
        "outputId": "81333bfa-e155-46c4-c3c4-283cc3789e85"
      },
      "execution_count": null,
      "outputs": [
        {
          "output_type": "stream",
          "name": "stdout",
          "text": [
            "Montu Time Object:\n",
            "--------------------------\n",
            "Date in proleptic UTC: -2500-01-01 12:00:00.0000\n",
            "Date in mixed UTC: -2500-01-22 12:00:00\n",
            "Date in SPICE format: 2501 B.C. 01-01 12:00:00.00\n",
            "General:\n",
            "    Components: [-1, 2500, 1, 1, 12, 0, 0, 0]\n",
            "    Is bce: True\n",
            "    Is Julian: True\n",
            "Uniform scales:\n",
            "    Terrestrial time:\n",
            "        tt: -142006202700.32\n",
            "        jtd: 807954.69096852\n",
            "    UTC time:\n",
            "        et: -142006262400.0\n",
            "        jed: 807954\n",
            "    Delta-t = TT - UTC = 59699.68000000001\n",
            "Objects:\n",
            "    Date in datetime64 format: -2500-01-01T12:00:00.000000\n",
            "    Date in PyPlanet Epoch: 807954\n",
            "    Date in PyEphem Epoch: -2501/1/22 12:00:00\n",
            "    Date in AstroPy Time: 807954.69096852\n",
            "Astronomical properties at Epoch:\n",
            "    True obliquity of ecliptic: 23:58:33.587\n",
            "    True nutation longitude: 00:00:10.214\n",
            "    Greenwhich Meridian Sidereal Time: 18:40:25.323\n",
            "\n"
          ]
        }
      ]
    },
    {
      "cell_type": "markdown",
      "source": [
        "4. From terrestrial time (TT) to other scales:"
      ],
      "metadata": {
        "id": "QoQoo_bFSqGe"
      }
    },
    {
      "cell_type": "code",
      "source": [
        "mtime = mn.MonTime(0,format='tt',scale='utc')\n",
        "print(mtime)"
      ],
      "metadata": {
        "colab": {
          "base_uri": "https://localhost:8080/"
        },
        "id": "nUOj7-jUS_32",
        "outputId": "7078c341-d697-4401-e2ea-a2c85cb21574"
      },
      "execution_count": null,
      "outputs": [
        {
          "output_type": "stream",
          "name": "stdout",
          "text": [
            "Montu Time Object:\n",
            "--------------------------\n",
            "Date in proleptic UTC: 2000-01-01 12:00:00.0000\n",
            "Date in mixed UTC: 2000-01-01 12:00:00\n",
            "Date in SPICE format: 2000-01-01 12:00:00.0000\n",
            "General:\n",
            "    Components: [1, 2000, 1, 1, 12, 0, 0, 0]\n",
            "    Is bce: False\n",
            "    Is Julian: False\n",
            "Uniform scales:\n",
            "    Terrestrial time:\n",
            "        tt: 63.873832810959236\n",
            "        jtd: 2451545.00073928\n",
            "    UTC time:\n",
            "        et: 0.0\n",
            "        jed: 2451545.0\n",
            "    Delta-t = TT - UTC = 63.873832810959236\n",
            "Objects:\n",
            "    Date in datetime64 format: 2000-01-01T12:00:00.000000\n",
            "    Date in PyPlanet Epoch: 2451545.0\n",
            "    Date in PyEphem Epoch: 2000/1/1 12:00:00\n",
            "    Date in AstroPy Time: 2451545.00073928\n",
            "Astronomical properties at Epoch:\n",
            "    True obliquity of ecliptic: 23:26:15.674\n",
            "    True nutation longitude: 00:00:13.923\n",
            "    Greenwhich Meridian Sidereal Time: 18:41:49.697\n",
            "\n"
          ]
        }
      ]
    },
    {
      "cell_type": "markdown",
      "source": [
        "## Detailed attributes"
      ],
      "metadata": {
        "id": "w4TbcvlNTHBo"
      }
    },
    {
      "cell_type": "markdown",
      "source": [
        "The `MonTime` objects has many attributes related to the epoch defined.\n",
        "\n"
      ],
      "metadata": {
        "id": "MdzdxxhXTI9W"
      }
    },
    {
      "cell_type": "markdown",
      "source": [
        "You may access different attributes using:\n"
      ],
      "metadata": {
        "id": "8NlHuJsnRwkw"
      }
    },
    {
      "cell_type": "code",
      "source": [
        "(mtime.datepro, # Date in gregorian proleptic\n",
        " mtime.datemix, # Date in gregorian mixed\n",
        " mtime.jed, # Date in Julian Day (utc scale)\n",
        " mtime.tt, # Date in ephemerides time (tt scale)\n",
        " mtime.et, # Date in ephemerides time (utc scale)\n",
        ")"
      ],
      "metadata": {
        "colab": {
          "base_uri": "https://localhost:8080/"
        },
        "id": "E6JnP4GuR25h",
        "outputId": "17020740-01d3-4255-ec53-41e3803e0696"
      },
      "execution_count": null,
      "outputs": [
        {
          "output_type": "execute_result",
          "data": {
            "text/plain": [
              "('2000-01-01 12:00:00.0000',\n",
              " '2000-01-01 12:00:00',\n",
              " 2451545.0,\n",
              " 63.873832810959236,\n",
              " 0.0)"
            ]
          },
          "metadata": {},
          "execution_count": 7
        }
      ]
    },
    {
      "cell_type": "markdown",
      "source": [
        "A list of attributes are:"
      ],
      "metadata": {
        "id": "7gI9a3tpSXd_"
      }
    },
    {
      "cell_type": "code",
      "source": [
        "mtime.__dict__.keys()"
      ],
      "metadata": {
        "colab": {
          "base_uri": "https://localhost:8080/"
        },
        "id": "GVvXMhFNSZW6",
        "outputId": "5883583f-5468-4b0c-aa1e-7a476559af82"
      },
      "execution_count": null,
      "outputs": [
        {
          "output_type": "execute_result",
          "data": {
            "text/plain": [
              "dict_keys(['calendar', 'isjulian', 'deltat', 'bce', 'jed', 'et', 'jtd', 'tt', 'obj_pyplanet', 'obj_astrotime', 'obj_pyephem', 'datemix', 'datespice', 'datepro', 'obj_datetime64', 'components', 'year', 'month', 'day', 'hour', 'minute', 'second', 'usecond', 'epsilon', 'delta_psi', 'M_equatorial_ecliptic', 'gtst', 'M_J2000_Epoch', 'M_Epoch_J2000', 'M_EJ2000_Epoch', 'M_Epoch_EJ2000'])"
            ]
          },
          "metadata": {},
          "execution_count": 8
        }
      ]
    },
    {
      "cell_type": "markdown",
      "source": [
        "Here is a detailed explanation of each attribute:"
      ],
      "metadata": {
        "id": "iVFckcO3TW0q"
      }
    },
    {
      "cell_type": "markdown",
      "source": [
        "Strings:\n",
        "\n",
        "- `datepro`: Date in proleptic gregorian (extrapolates gregorian calendar before 1582-10-15).\n",
        "- `datemix`: Date in mixed calendar (gregorian from 1582-10-15) and julian before.\n",
        "- `datespice`: Date in SPICE format.\n",
        "\n",
        "Boolean:\n",
        "- `bce`: Is date before christ (before current era).\n",
        "- `isjulian`: Is date a Julian date, i.e. it is a date from before 1582-10-04.\n",
        "\n",
        "Uniform time-scales:\n",
        "- `deltat`: Delta-t = TT - UTC.\n",
        "- `jtd`: Julian day in terrestrial time scale.\n",
        "- `tt`: Ephemerides time.\n",
        "- `jed`: Julian day in UTC.\n",
        "- `et`: Uniform time.\n",
        "\n",
        "Calendar:\n",
        "- `components`: Components of date.\n",
        "- `year`, `month`, `day`, `hour`, `minute`, `second`, `usecond`: Self explanatory.\n",
        "\n",
        "Astronomical:\n",
        "- `gtst`: True Greenwich sidereal time.\n",
        "- `epsilon`: True obliquity at epoch.\n",
        "- `delta_psi`: True nutation longitude at epoch.\n",
        "\n",
        "Rotation matrices:\n",
        "\n",
        "- `M_equatorial_ecliptic`: equatorial to ecliptic at epoch.\n",
        "- `M_J2000_Epoch`: J2000 to equinox at epoch.\n",
        "- `M_Epoch_J2000`: Inverse.\n",
        "- `M_EJ2000_Epoch`: Ecliptic J2000 to equatorial at epoch.\n",
        "- `M_Epoch_EJ2000`: Inverse."
      ],
      "metadata": {
        "id": "ZcRYVs6fTjn2"
      }
    },
    {
      "cell_type": "code",
      "source": [],
      "metadata": {
        "id": "5OBXs-s-NCQ2"
      },
      "execution_count": null,
      "outputs": []
    }
  ]
}