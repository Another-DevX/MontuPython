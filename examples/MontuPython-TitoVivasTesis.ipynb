{
 "cells": [
  {
   "cell_type": "markdown",
   "metadata": {},
   "source": [
    "# Montu Python\n",
    "## Astronomical ephemerides for the Ancient World\n",
    "## Time: Basic functionalities\n"
   ]
  },
  {
   "cell_type": "code",
   "execution_count": 1,
   "metadata": {},
   "outputs": [
    {
     "name": "stdout",
     "output_type": "stream",
     "text": [
      "Running MontuPython version 0.9.6\n",
      "0.9.6\n"
     ]
    }
   ],
   "source": [
    "import montu\n",
    "print(montu.version)\n",
    "\n",
    "allstars = montu.Stars()\n",
    "\n",
    "%load_ext autoreload\n",
    "%autoreload 2"
   ]
  },
  {
   "cell_type": "markdown",
   "metadata": {},
   "source": [
    "## Aldebaran declination and Senenmut temple"
   ]
  },
  {
   "cell_type": "code",
   "execution_count": 72,
   "metadata": {},
   "outputs": [],
   "source": [
    "Aldebaran = allstars.get_stars(ProperName = 'Aldebaran')"
   ]
  },
  {
   "cell_type": "code",
   "execution_count": 73,
   "metadata": {},
   "outputs": [
    {
     "name": "stdout",
     "output_type": "stream",
     "text": [
      "Montu Time Object:\n",
      "-------------------------- \n",
      "Readable:\n",
      "    Date in proleptic UTC: -1471-01-01 00:00:00.0000\n",
      "    Date in mixed UTC: -1471-01-14 00:00:00\n",
      "    Date in SPICE format: 1472 B.C. 01-01 00:00:00.00\n",
      "    Date in caniucular format: hrw 1310-I-Peret-22\n",
      "    Components: [-1, 1471, 1, 1, 0, 0, 0, 0]\n",
      "Objects:\n",
      "    Date in datetime64 format: -1471-01-01T00:00:00.000000\n",
      "    Date in PyPlanet Epoch: 1183788.5\n",
      "    Date in PyEphem Epoch: -1472/1/14 00:00:00\n",
      "General:\n",
      "    Is bce: True\n",
      "    Is Julian: True\n",
      "Uniform scales:\n",
      "    Terrestrial time:\n",
      "        tt: -109534126961.8\n",
      "        jtd: 1183788.9009051\n",
      "        htd: 478291.40090509993\n",
      "    UTC time:\n",
      "        et: -109534161600.0\n",
      "        jed: 1183788.5\n",
      "        hed: 478291.0\n",
      "    Delta-t = TT - UTC = 34638.2\n",
      "\n"
     ]
    }
   ],
   "source": [
    "mtime = montu.Time('BCE1472-01-01 00:00:00')\n",
    "senenmut = montu.Observer(lon=32, lat=26, height=0.089)\n",
    "print(mtime.get_readable())"
   ]
  },
  {
   "cell_type": "markdown",
   "metadata": {},
   "source": [
    "Location of Aldebaran in the sky:"
   ]
  },
  {
   "cell_type": "code",
   "execution_count": 74,
   "metadata": {},
   "outputs": [
    {
     "data": {
      "text/html": [
       "<div>\n",
       "<style scoped>\n",
       "    .dataframe tbody tr th:only-of-type {\n",
       "        vertical-align: middle;\n",
       "    }\n",
       "\n",
       "    .dataframe tbody tr th {\n",
       "        vertical-align: top;\n",
       "    }\n",
       "\n",
       "    .dataframe thead th {\n",
       "        text-align: right;\n",
       "    }\n",
       "</style>\n",
       "<table border=\"1\" class=\"dataframe\">\n",
       "  <thead>\n",
       "    <tr style=\"text-align: right;\">\n",
       "      <th></th>\n",
       "      <th>MN</th>\n",
       "      <th>HD</th>\n",
       "      <th>HR</th>\n",
       "      <th>HIP</th>\n",
       "      <th>Gl</th>\n",
       "      <th>Name</th>\n",
       "      <th>OtherDesignations</th>\n",
       "      <th>ProperName</th>\n",
       "      <th>Bayer</th>\n",
       "      <th>Flamsteed</th>\n",
       "      <th>...</th>\n",
       "      <th>tt</th>\n",
       "      <th>jed</th>\n",
       "      <th>RAJ2000t</th>\n",
       "      <th>DecJ2000t</th>\n",
       "      <th>RAEpoch</th>\n",
       "      <th>DecEpoch</th>\n",
       "      <th>HA</th>\n",
       "      <th>az</th>\n",
       "      <th>el</th>\n",
       "      <th>zen</th>\n",
       "    </tr>\n",
       "  </thead>\n",
       "  <tbody>\n",
       "    <tr>\n",
       "      <th>14</th>\n",
       "      <td>15</td>\n",
       "      <td>29139</td>\n",
       "      <td>1457</td>\n",
       "      <td>21421</td>\n",
       "      <td>Gl 171.1A</td>\n",
       "      <td>Aldebaran</td>\n",
       "      <td>87 Tau/87Alp Tau/Aldebaran/Gl 171.1A/HD 29139/...</td>\n",
       "      <td>Aldebaran</td>\n",
       "      <td>α Tau</td>\n",
       "      <td>87 Tau</td>\n",
       "      <td>...</td>\n",
       "      <td>-1.095341e+11</td>\n",
       "      <td>1183788.5</td>\n",
       "      <td>4.594642</td>\n",
       "      <td>16.691872</td>\n",
       "      <td>1.472892</td>\n",
       "      <td>3.293294</td>\n",
       "      <td>7.332279</td>\n",
       "      <td>282.103714</td>\n",
       "      <td>-16.348674</td>\n",
       "      <td>106.348674</td>\n",
       "    </tr>\n",
       "  </tbody>\n",
       "</table>\n",
       "<p>1 rows × 43 columns</p>\n",
       "</div>"
      ],
      "text/plain": [
       "    MN     HD    HR    HIP         Gl       Name  \\\n",
       "14  15  29139  1457  21421  Gl 171.1A  Aldebaran   \n",
       "\n",
       "                                    OtherDesignations ProperName  Bayer  \\\n",
       "14  87 Tau/87Alp Tau/Aldebaran/Gl 171.1A/HD 29139/...  Aldebaran  α Tau   \n",
       "\n",
       "   Flamsteed  ...            tt        jed  RAJ2000t  DecJ2000t   RAEpoch  \\\n",
       "14    87 Tau  ... -1.095341e+11  1183788.5  4.594642  16.691872  1.472892   \n",
       "\n",
       "    DecEpoch        HA          az         el         zen  \n",
       "14  3.293294  7.332279  282.103714 -16.348674  106.348674  \n",
       "\n",
       "[1 rows x 43 columns]"
      ]
     },
     "execution_count": 74,
     "metadata": {},
     "output_type": "execute_result"
    }
   ],
   "source": [
    "Aldebaran.where_in_sky(at=mtime,observer=senenmut)"
   ]
  },
  {
   "cell_type": "code",
   "execution_count": 75,
   "metadata": {},
   "outputs": [
    {
     "data": {
      "text/plain": [
       "('03:17:35.858', '16:30:33.484')"
      ]
     },
     "execution_count": 75,
     "metadata": {},
     "output_type": "execute_result"
    }
   ],
   "source": [
    "montu.Util.dec2hex(Aldebaran.data.DecEpoch.iloc[0]), montu.Util.dec2hex(Aldebaran.data.DecJ2000.iloc[0])"
   ]
  },
  {
   "cell_type": "markdown",
   "metadata": {},
   "source": [
    "This confirm the fact that Aldebaran was at 3 degrees of declination."
   ]
  },
  {
   "cell_type": "code",
   "execution_count": 76,
   "metadata": {},
   "outputs": [
    {
     "data": {
      "text/plain": [
       "(1.4728921279394127, 3.2932937831486404)"
      ]
     },
     "execution_count": 76,
     "metadata": {},
     "output_type": "execute_result"
    }
   ],
   "source": [
    "Aldebaran.data.RAEpoch.iloc[0],Aldebaran.data.DecEpoch.iloc[0]"
   ]
  },
  {
   "cell_type": "markdown",
   "metadata": {},
   "source": [
    "Let's test that we can invert from az, el to RA, Dec"
   ]
  },
  {
   "cell_type": "code",
   "execution_count": 78,
   "metadata": {},
   "outputs": [
    {
     "name": "stdout",
     "output_type": "stream",
     "text": [
      "7.332278661086613 8.805170789026025\n"
     ]
    },
    {
     "data": {
      "text/plain": [
       "(282.10371441686937, -16.348674434537937)"
      ]
     },
     "execution_count": 78,
     "metadata": {},
     "output_type": "execute_result"
    }
   ],
   "source": [
    "az, el = montu.Util.where_in_sky(Aldebaran.data.RAEpoch.iloc[0],Aldebaran.data.DecEpoch.iloc[0],at=mtime,observer=senenmut)\n",
    "az, el"
   ]
  },
  {
   "cell_type": "code",
   "execution_count": 79,
   "metadata": {},
   "outputs": [
    {
     "data": {
      "text/plain": [
       "(1.4728921279394118, 3.293293783148654)"
      ]
     },
     "execution_count": 79,
     "metadata": {},
     "output_type": "execute_result"
    }
   ],
   "source": [
    "montu.Util.where_in_equator(az=az,el=el,at=mtime,observer=senenmut)"
   ]
  },
  {
   "cell_type": "markdown",
   "metadata": {},
   "source": [
    "Which is a perfect inversion"
   ]
  },
  {
   "cell_type": "markdown",
   "metadata": {},
   "source": [
    "Now let's see what is the declination of a point with the azimuth and elevation of the entrance to the Senenmut temple:"
   ]
  },
  {
   "cell_type": "code",
   "execution_count": 80,
   "metadata": {},
   "outputs": [
    {
     "data": {
      "text/plain": [
       "(15.837783216950731, 3.204820559499014)"
      ]
     },
     "execution_count": 80,
     "metadata": {},
     "output_type": "execute_result"
    }
   ],
   "source": [
    "site = montu.Observer(lon=32,lat=25.75,height=0)\n",
    "montu.Util.where_in_equator(az=99,el=25,at=mtime.add(10000),observer=site)"
   ]
  },
  {
   "cell_type": "markdown",
   "metadata": {},
   "source": [
    "Let's now calculate which stars are in this declination, first we need to precess the position of all starrs:"
   ]
  },
  {
   "cell_type": "code",
   "execution_count": 42,
   "metadata": {},
   "outputs": [],
   "source": [
    "allstars.where_in_space(at=mtime,inplace=True)"
   ]
  },
  {
   "cell_type": "markdown",
   "metadata": {},
   "source": [
    "Now select the stars with a declination in the range:"
   ]
  },
  {
   "cell_type": "code",
   "execution_count": 44,
   "metadata": {},
   "outputs": [
    {
     "data": {
      "text/plain": [
       "4 star(s):\n",
       "|     |   MN |     HD |   HR |   HIP | Gl        | Name           | OtherDesignations                                                                     | ProperName     | Bayer   | Flamsteed   | Constellation   |   RAJ2000 |   DecJ2000 |    pmRA |   pmDec |   RadVel |   Distance |   Vmag |   Vmag_min |   Vmag_max |   B-V | SpType   |   Luminosity |   XJ2000 |   YJ2000 |    ZJ2000 |    VXJ2000 |    VYJ2000 |    VZJ2000 |   Primary | MultipleID   |   IsMultiple |   IsVariable |           tt |         jed |   RAJ2000t |   DecJ2000t |   RAEpoch |   DecEpoch |\n",
       "|-----|------|--------|------|-------|-----------|----------------|---------------------------------------------------------------------------------------|----------------|---------|-------------|-----------------|-----------|------------|---------|---------|----------|------------|--------|------------|------------|-------|----------|--------------|----------|----------|-----------|------------|------------|------------|-----------|--------------|--------------|--------------|--------------|-------------|------------|-------------|-----------|------------|\n",
       "|  14 |   15 |  29139 | 1457 | 21421 | Gl 171.1A | Aldebaran      | 87 Tau/87Alp Tau/Aldebaran/Gl 171.1A/HD 29139/HIP 21421/HR 1457/HYG 21368/MN 15/α Tau | Aldebaran      | α Tau   | 87 Tau      | Tau             |   4.59868 |   16.5093  |   62.78 | -189.36 |     54.5 |    20.4332 |   0.87 |      0.888 |      0.858 | 1.538 | K5III    |    163.23    |  7.02722 |  18.2876 |  5.80666  | -2.14e-06  |  5.709e-05 |  1.528e-05 |     21368 | Gl 171.1     |            1 |            1 | -1.09534e+11 | 1.18379e+06 |    4.59464 |    16.6919  |   1.47289 |    3.29329 |\n",
       "| 219 |  220 | 168723 | 6869 | 89962 | Gl 711    | η Ser          | 58 Ser/58Eta Ser/Gl 711/HD 168723/HIP 89962/HR 6869/HYG 89683/MN 220/η Ser            | nan            | η Ser   | 58 Ser      | Ser             |  18.3552  |   -2.89882 | -547.57 | -700.72 |      6.9 |    18.5426 |   3.23 |    nan     |    nan     | 0.941 | K0III-IV |     15.2897  |  1.71946 | -18.4389 | -0.937748 | -6.326e-05 | -8.42e-06  | -4.865e-05 |     89684 | nan          |            0 |            0 | -1.09534e+11 | 1.18379e+06 |   18.3904  |    -2.22323 |  15.4391  |    3.18501 |\n",
       "| 251 |  252 | 182640 | 7377 | 95501 | Gl 760    | δ Aql          | 30 Aql/30Del Aql/Gl 760/HD 182640/HIP 95501/HR 7377/HYG 95206/MN 252/δ Aql            | nan            | δ Aql   | 30 Aql      | Aql             |  19.425   |    3.11477 |  253.06 |   80.67 |    -29.9 |    15.5255 |   3.36 |    nan     |    nan     | 0.319 | F0IV     |      9.50605 |  5.65003 | -14.436  |  0.843584 |  4.4e-06   |  3.568e-05 |  6.49e-06  |     95207 | nan          |            0 |            0 | -1.09534e+11 | 1.18379e+06 |   19.4087  |     3.037   |  16.5174  |    3.26616 |\n",
       "| 394 |  395 |  27697 | 1373 | 20455 | nan       | Secunda Hyadum | 61 Tau/61Del1Tau/HD 27697/HIP 20455/HR 1373/HYG 20405/MN 395/Secunda Hyadum/δ1 Tau    | Secunda Hyadum | δ1 Tau  | 61 Tau      | Tau             |   4.38225 |   17.5425  |  107.75 |  -28.84 |     39   |    47.7099 |   3.77 |    nan     |    nan     | 0.983 | G8III    |     61.546   | 18.696   |  41.472  | 14.3805   |  5.66e-06  |  4.675e-05 | -6.26e-06  |     20405 | nan          |            0 |            0 | -1.09534e+11 | 1.18379e+06 |    4.37532 |    17.5703  |   1.25508 |    3.42482 |"
      ]
     },
     "execution_count": 44,
     "metadata": {},
     "output_type": "execute_result"
    }
   ],
   "source": [
    "allstars.get_stars(DecEpoch=[3,3.5],Vmag=[-2,4])"
   ]
  },
  {
   "cell_type": "markdown",
   "metadata": {},
   "source": [
    "That confirms that Aldebaran is the star."
   ]
  },
  {
   "cell_type": "markdown",
   "metadata": {},
   "source": [
    "## Date of the winter solstice in times of Senenmut"
   ]
  },
  {
   "cell_type": "markdown",
   "metadata": {},
   "source": [
    "Let's compute first the date of the seasons at the interesting year:"
   ]
  },
  {
   "cell_type": "code",
   "execution_count": 63,
   "metadata": {},
   "outputs": [
    {
     "name": "stdout",
     "output_type": "stream",
     "text": [
      "1479 B.C. 03-21 15:22:19.700000 hrw 1303-IV-Peret-9\n",
      "1479 B.C. 06-23 22:37:50.300000 hrw 1303-III-Shemu-13\n",
      "1479 B.C. 09-23 03:46:48.00 hrw 1304-II-Akhet-10\n",
      "1479 B.C. 12-20 12:51:54.00 hrw 1304-I-Peret-8\n"
     ]
    }
   ],
   "source": [
    "sun = montu.Sun()\n",
    "mtime=montu.Time('bce1479-01-01 00:00:00')\n",
    "ss = sun.next_seasons(at=mtime)\n",
    "for s in ss:\n",
    "    stime = montu.Time(s,format='jd').get_readable()\n",
    "    print(stime.readable.datespice,stime.rebadable.datecan)"
   ]
  },
  {
   "cell_type": "markdown",
   "metadata": {},
   "source": [
    "This confirms that the winter solstice is in I-Peret, but at day 8 and not day 6 as in Tito's thesis."
   ]
  },
  {
   "cell_type": "markdown",
   "metadata": {},
   "source": [
    "## Azimut of the sun at sunrise during winter solstice"
   ]
  },
  {
   "cell_type": "markdown",
   "metadata": {},
   "source": [
    "We will investigata the claim that at winter solstice the azimut of the sun is different from the orientation of the Montuhotep-II temple:"
   ]
  },
  {
   "cell_type": "code",
   "execution_count": 83,
   "metadata": {},
   "outputs": [
    {
     "data": {
      "text/plain": [
       "Time('-2049-12-20 17:16:12.3000'/'-2048-01-06 17:16:16'/'hrw 732-IV-Shemu-24'/JED 973031.2195868/JTD 973031.7734826)"
      ]
     },
     "execution_count": 83,
     "metadata": {},
     "output_type": "execute_result"
    }
   ],
   "source": [
    "sun = montu.Sun()\n",
    "mtime=montu.Time('bce2050-01-01 00:00:00')\n",
    "ss = sun.next_seasons(at=mtime)\n",
    "mtime_winter = montu.Time(ss[-1],format='jd').get_readable()\n",
    "mtime_winter"
   ]
  },
  {
   "cell_type": "markdown",
   "metadata": {},
   "source": [
    "Let's compute the position of the sun at the day of the winter solstice:"
   ]
  },
  {
   "cell_type": "code",
   "execution_count": 88,
   "metadata": {},
   "outputs": [
    {
     "data": {
      "text/plain": [
       "{'tt': -127743542771, 'jed': 973031.2195868, 'Name': 'Sun', 'ha': 7.262764128678882, 'Vmag': -26.8, 'rise_time': 973030.6996058573, 'rise_az': 116.52566369343715, 'set_time': 973031.1341546485, 'set_az': 243.47315787155992, 'transit_time': 973030.9168810539, 'transit_el': 40.084252634878375, 'elongation': 0.0, 'earth_distance': 0.9895421862602234, 'sun_distance': 0.0, 'is_circumpolar': False, 'is_neverup': False, 'angsize': 1939.54443359375, 'phase': 100.0, 'hlat': -5.9742855190132e-05, 'hlon': 90.00173737252734, 'hlong': 90.00173737252734}"
      ]
     },
     "execution_count": 88,
     "metadata": {},
     "output_type": "execute_result"
    }
   ],
   "source": [
    "sun.condition"
   ]
  },
  {
   "cell_type": "code",
   "execution_count": 92,
   "metadata": {},
   "outputs": [
    {
     "data": {
      "text/plain": [
       "(26.525663693437153, -23.933823942723922)"
      ]
     },
     "execution_count": 92,
     "metadata": {},
     "output_type": "execute_result"
    }
   ],
   "source": [
    "sun.where_in_sky(at=mtime_winter,observer=senenmut)\n",
    "sun.conditions_in_sky(at=mtime_winter,observer=senenmut)\n",
    "dec = sun.position.DecEpoch\n",
    "rise_az = sun.condition.rise_az\n",
    "rise_az - 90, dec"
   ]
  },
  {
   "cell_type": "markdown",
   "metadata": {},
   "source": [
    "Obliquity for the time is:"
   ]
  },
  {
   "cell_type": "code",
   "execution_count": 102,
   "metadata": {},
   "outputs": [
    {
     "data": {
      "text/plain": [
       "Angle(23.930957074243345)"
      ]
     },
     "execution_count": 102,
     "metadata": {},
     "output_type": "execute_result"
    }
   ],
   "source": [
    "from pyplanets.core.coordinates import true_obliquity as pyplanets_true_obliquity\n",
    "epsilon = pyplanets_true_obliquity(mtime.obj_pyplanet)\n",
    "epsilon"
   ]
  },
  {
   "cell_type": "markdown",
   "metadata": {},
   "source": [
    "According to sin law \n",
    "\n",
    "$$\n",
    "\\sin\\Delta A = \\sin\\delta / \\cos\\epsilon\n",
    "$$"
   ]
  },
  {
   "cell_type": "code",
   "execution_count": 109,
   "metadata": {},
   "outputs": [
    {
     "data": {
      "text/plain": [
       "26.831084780194047"
      ]
     },
     "execution_count": 109,
     "metadata": {},
     "output_type": "execute_result"
    }
   ],
   "source": [
    "import numpy as np\n",
    "deltaA = np.arcsin(np.sin(abs(dec)*montu.DEG)/np.cos(senenmut.lat*montu.DEG))*montu.RAD\n",
    "deltaA"
   ]
  },
  {
   "cell_type": "markdown",
   "metadata": {},
   "source": [
    "The difference between $\\Delta A$ and $\\delta$ for small values of $\\delta$ is:\n",
    "\n",
    "$$\n",
    "|\\Delta A - \\delta| = \\delta\\left|\\frac{1}{\\cos \\varphi} - 1\\right|\n",
    "$$"
   ]
  },
  {
   "cell_type": "code",
   "execution_count": 114,
   "metadata": {},
   "outputs": [
    {
     "data": {
      "text/plain": [
       "2.6949950189422474"
      ]
     },
     "execution_count": 114,
     "metadata": {},
     "output_type": "execute_result"
    }
   ],
   "source": [
    "abs(dec)*montu.DEG*(1/np.cos(senenmut.lat*montu.DEG) - 1)*montu.RAD"
   ]
  },
  {
   "cell_type": "markdown",
   "metadata": {},
   "source": [
    "## Montuemhat tomb, TT33"
   ]
  },
  {
   "cell_type": "code",
   "execution_count": 117,
   "metadata": {},
   "outputs": [
    {
     "data": {
      "text/plain": [
       "{'tt': 675284472, 'jed': 2459360.7916666, 'Name': 'Sun', 'RAJ2000': 4.201918941681491, 'DecJ2000': 21.123846092039695, 'RAEpoch': 4.2222964942422, 'DecEpoch': 21.175976049635295, 'RAGeo': 4.222193002015081, 'DecGeo': 21.17636141039897, 'el': 51.585519385803636, 'az': 87.86147027534717}"
      ]
     },
     "execution_count": 117,
     "metadata": {},
     "output_type": "execute_result"
    }
   ],
   "source": [
    "montuemhat = montu.Observer(lon=32.5,lat=25.75,height=0.116)\n",
    "mtime = montu.Time('2021-05-26 07:00:00')\n",
    "sun.where_in_sky(at=mtime,observer=montuemhat)\n",
    "sun.position"
   ]
  },
  {
   "cell_type": "code",
   "execution_count": 118,
   "metadata": {},
   "outputs": [
    {
     "data": {
      "text/plain": [
       "'87:51:41.293'"
      ]
     },
     "execution_count": 118,
     "metadata": {},
     "output_type": "execute_result"
    }
   ],
   "source": [
    "montu.Util.dec2hex(sun.position.az)"
   ]
  },
  {
   "cell_type": "code",
   "execution_count": 124,
   "metadata": {},
   "outputs": [
    {
     "data": {
      "text/plain": [
       "(13.34557131397417, 7.7857746514419635)"
      ]
     },
     "execution_count": 124,
     "metadata": {},
     "output_type": "execute_result"
    }
   ],
   "source": [
    "montu.Util.where_in_equator(az=92.5,el=23.26,at=mtime,observer=montuemhat)"
   ]
  },
  {
   "cell_type": "code",
   "execution_count": 123,
   "metadata": {},
   "outputs": [
    {
     "data": {
      "text/html": [
       "<div>\n",
       "<style scoped>\n",
       "    .dataframe tbody tr th:only-of-type {\n",
       "        vertical-align: middle;\n",
       "    }\n",
       "\n",
       "    .dataframe tbody tr th {\n",
       "        vertical-align: top;\n",
       "    }\n",
       "\n",
       "    .dataframe thead th {\n",
       "        text-align: right;\n",
       "    }\n",
       "</style>\n",
       "<table border=\"1\" class=\"dataframe\">\n",
       "  <thead>\n",
       "    <tr style=\"text-align: right;\">\n",
       "      <th></th>\n",
       "      <th>MN</th>\n",
       "      <th>HD</th>\n",
       "      <th>HR</th>\n",
       "      <th>HIP</th>\n",
       "      <th>Gl</th>\n",
       "      <th>Name</th>\n",
       "      <th>OtherDesignations</th>\n",
       "      <th>ProperName</th>\n",
       "      <th>Bayer</th>\n",
       "      <th>Flamsteed</th>\n",
       "      <th>...</th>\n",
       "      <th>Primary</th>\n",
       "      <th>MultipleID</th>\n",
       "      <th>IsMultiple</th>\n",
       "      <th>IsVariable</th>\n",
       "      <th>tt</th>\n",
       "      <th>jed</th>\n",
       "      <th>RAJ2000t</th>\n",
       "      <th>DecJ2000t</th>\n",
       "      <th>RAEpoch</th>\n",
       "      <th>DecEpoch</th>\n",
       "    </tr>\n",
       "  </thead>\n",
       "  <tbody>\n",
       "    <tr>\n",
       "      <th>14</th>\n",
       "      <td>15</td>\n",
       "      <td>29139</td>\n",
       "      <td>1457</td>\n",
       "      <td>21421</td>\n",
       "      <td>Gl 171.1A</td>\n",
       "      <td>Aldebaran</td>\n",
       "      <td>87 Tau/87Alp Tau/Aldebaran/Gl 171.1A/HD 29139/...</td>\n",
       "      <td>Aldebaran</td>\n",
       "      <td>α Tau</td>\n",
       "      <td>87 Tau</td>\n",
       "      <td>...</td>\n",
       "      <td>21368</td>\n",
       "      <td>Gl 171.1</td>\n",
       "      <td>1</td>\n",
       "      <td>1</td>\n",
       "      <td>-8.359436e+10</td>\n",
       "      <td>1484017.5</td>\n",
       "      <td>4.595597</td>\n",
       "      <td>16.648636</td>\n",
       "      <td>2.17739</td>\n",
       "      <td>7.363492</td>\n",
       "    </tr>\n",
       "  </tbody>\n",
       "</table>\n",
       "<p>1 rows × 39 columns</p>\n",
       "</div>"
      ],
      "text/plain": [
       "    MN     HD    HR    HIP         Gl       Name  \\\n",
       "14  15  29139  1457  21421  Gl 171.1A  Aldebaran   \n",
       "\n",
       "                                    OtherDesignations ProperName  Bayer  \\\n",
       "14  87 Tau/87Alp Tau/Aldebaran/Gl 171.1A/HD 29139/...  Aldebaran  α Tau   \n",
       "\n",
       "   Flamsteed  ... Primary  MultipleID  IsMultiple  IsVariable            tt  \\\n",
       "14    87 Tau  ...   21368    Gl 171.1           1           1 -8.359436e+10   \n",
       "\n",
       "          jed  RAJ2000t  DecJ2000t  RAEpoch  DecEpoch  \n",
       "14  1484017.5  4.595597  16.648636  2.17739  7.363492  \n",
       "\n",
       "[1 rows x 39 columns]"
      ]
     },
     "execution_count": 123,
     "metadata": {},
     "output_type": "execute_result"
    }
   ],
   "source": [
    "mtime = montu.Time('bce650-01-01 00:00:00')\n",
    "Aldebaran.where_in_space(at=mtime)"
   ]
  },
  {
   "cell_type": "markdown",
   "metadata": {},
   "source": [
    "## Tutmosis III"
   ]
  },
  {
   "cell_type": "code",
   "execution_count": 126,
   "metadata": {},
   "outputs": [
    {
     "data": {
      "text/plain": [
       "(23.5645925212547, 73.48566392640559)"
      ]
     },
     "execution_count": 126,
     "metadata": {},
     "output_type": "execute_result"
    }
   ],
   "source": [
    "montuemhat = montu.Observer(lon=32.5,lat=25.75,height=0.116)\n",
    "mtime = montu.Time('bce1425-05-26 07:00:00')\n",
    "montu.Util.where_in_equator(az=350,el=40,at=mtime,observer=montuemhat)"
   ]
  },
  {
   "cell_type": "code",
   "execution_count": 127,
   "metadata": {},
   "outputs": [],
   "source": [
    "allstars.where_in_space(at=mtime,inplace=True)"
   ]
  },
  {
   "cell_type": "code",
   "execution_count": 128,
   "metadata": {},
   "outputs": [
    {
     "data": {
      "text/plain": [
       "6 star(s):\n",
       "|     |   MN |     HD |   HR |   HIP | Gl       | Name    | OtherDesignations                                                                 | ProperName   | Bayer   | Flamsteed   | Constellation   |   RAJ2000 |   DecJ2000 |    pmRA |   pmDec |   RadVel |   Distance |   Vmag |   Vmag_min |   Vmag_max |   B-V | SpType   |   Luminosity |   XJ2000 |     YJ2000 |   ZJ2000 |    VXJ2000 |    VYJ2000 |   VZJ2000 |   Primary | MultipleID   |   IsMultiple |   IsVariable |           tt |        jed |   RAJ2000t |   DecJ2000t |   RAEpoch |   DecEpoch |\n",
       "|-----|------|--------|------|-------|----------|---------|-----------------------------------------------------------------------------------|--------------|---------|-------------|-----------------|-----------|------------|---------|---------|----------|------------|--------|------------|------------|-------|----------|--------------|----------|------------|----------|------------|------------|-----------|-----------|--------------|--------------|--------------|--------------|------------|------------|-------------|-----------|------------|\n",
       "|  38 |   39 |  95689 | 4301 | 54061 | nan      | Dubhe   | 50 UMa/50Alp UMa/Dubhe/HD 95689/HIP 54061/HR 4301/HYG 53905/MN 39/α UMa           | Dubhe        | α UMa   | 50 UMa      | UMa             |   11.0622 |    61.751  | -136.46 |  -35.25 |     -9   |    37.679  |   1.81 |    nan     |    nan     | 1.061 | F7V comp |     233.346  | -17.2987 |   4.33488  |  33.1913 | -1.116e-05 |  2.45e-05  |  4.78e-06 |     53905 | nan          |            0 |            0 | -1.08038e+11 | 1.2011e+06 |    11.0708 |     61.7846 |   5.61132 |    73.2123 |\n",
       "|  71 |   72 | 116656 | 5054 | 65378 | GJ 3783A | Mizar   | 79 UMa/79Zet UMa/GJ 3783A/HD 116656/HIP 65378/HR 5054/HYG 65172/MN 72/Mizar/ζ UMa | Mizar        | ζ UMa   | 79 UMa      | UMa             |   13.3987 |    54.9254 |  121.23 |  -22.01 |     -5.6 |    26.3089 |   2.23 |      2.336 |      2.196 | 0.057 | A2V      |      77.3393 | -14.1158 |  -5.4133   |  21.5313 | -6.3e-06   | -1.408e-05 |  6.46e-06 |     65173 | GJ 3783      |            1 |            1 | -1.08038e+11 | 1.2011e+06 |    13.3911 |     54.9463 |  10.389   |    73.6717 |\n",
       "| 233 |  234 | 137759 | 5744 | 75458 | nan      | Edasich | 12 Dra/12Iot Dra/Edasich/HD 137759/HIP 75458/HR 5744/HYG 75228/MN 234/ι Dra       | Edasich      | ι Dra   | 12 Dra      | Dra             |   15.4155 |    58.9661 |   -8.27 |   17.3  |    -11   |    31.027  |   3.29 |    nan     |    nan     | 1.166 | K2III    |      40.5135 | -10.016  | -12.4718   |  26.5858 | -8.3e-06   |  7.04e-06  |  4.06e-06 |     75229 | nan          |            0 |            0 | -1.08038e+11 | 1.2011e+06 |    15.416  |     58.9496 |  14.4815  |    72.9252 |\n",
       "| 240 |  241 | 106591 | 4660 | 59774 | Gl 459   | Megrez  | 69 UMa/69Del UMa/Gl 459/HD 106591/HIP 59774/HR 4660/HYG 59591/MN 241/Megrez/δ UMa | Megrez       | δ UMa   | 69 UMa      | UMa             |   12.2571 |    57.0326 |  103.56 |    7.81 |    -13.4 |    24.6853 |   3.32 |    nan     |    nan     | 0.077 | A3Vvar   |      24.9345 | -13.4023 |  -0.903455 |  20.7104 | -1.099e-05 | -1.181e-05 |  9.06e-06 |     59592 | nan          |            0 |            0 | -1.08038e+11 | 1.2011e+06 |    12.2505 |     57.0252 |   8.02785 |    73.832  |\n",
       "| 496 |  497 | 116657 | 5055 |     0 | GJ 3784B | ζ UMa   | 79 UMa/79Zet UMa/GJ 3784B/HD 116657/HR 5055/HYG 118882/MN 497/ζ UMa               | nan          | ζ UMa   | 79 UMa      | UMa             |   13.399  |    54.9205 |  105.74 |  -30.32 |     -9.3 |    24.1546 |   3.95 |    nan     |    nan     | 0.13  | A1 m     |      13.366  | -12.9609 |  -4.97159  |  19.7667 | -9.82e-06  | -1.064e-05 |  6.82e-06 |    118887 | GJ 3784      |            1 |            0 | -1.08038e+11 | 1.2011e+06 |    13.3923 |     54.9493 |  10.3915  |    73.675  |\n",
       "| 519 |  520 | 116842 | 5062 | 65477 | GJ 3785  | Alcor   | 80 UMa/Alcor/GJ 3785/HD 116842/HIP 65477/HR 5062/HYG 65271/MN 520                 | Alcor        | nan     | 80 UMa      | UMa             |   13.4204 |    54.988  |  120.35 |  -16.94 |     -8.9 |    25.0564 |   3.99 |    nan     |    nan     | 0.169 | A5V SB   |      13.8676 | -13.3934 |  -5.22361  |  20.5219 | -8.64e-06  | -1.233e-05 |  8.61e-06 |     65272 | nan          |            0 |            0 | -1.08038e+11 | 1.2011e+06 |    13.4128 |     55.0041 |  10.4331  |    73.7332 |"
      ]
     },
     "execution_count": 128,
     "metadata": {},
     "output_type": "execute_result"
    }
   ],
   "source": [
    "allstars.get_stars(DecEpoch=[72,74],Vmag=[-2,4])"
   ]
  },
  {
   "cell_type": "code",
   "execution_count": null,
   "metadata": {},
   "outputs": [],
   "source": [
    "sun.where_in_sky"
   ]
  },
  {
   "cell_type": "markdown",
   "metadata": {},
   "source": [
    "## Possible solar alignment of TT353"
   ]
  },
  {
   "cell_type": "code",
   "execution_count": 150,
   "metadata": {},
   "outputs": [
    {
     "data": {
      "text/plain": [
       "29.430363058046993"
      ]
     },
     "execution_count": 150,
     "metadata": {},
     "output_type": "execute_result"
    }
   ],
   "source": [
    "montuemhat = montu.Observer(lon=32.5,lat=25.75,height=0.116)\n",
    "mtime = montu.Time('bce1460-03-28 06:00:00')\n",
    "sun.where_in_sky(at=mtime,observer=montuemhat)\n",
    "sun.position.el"
   ]
  },
  {
   "cell_type": "code",
   "execution_count": 133,
   "metadata": {},
   "outputs": [
    {
     "data": {
      "text/plain": [
       "Time('-1478-01-01 06:00:00.0000'/'-1478-01-14 06:00:00'/'hrw 1303-I-Peret-20'/JED 1181231.75/JTD 1181232.1526134)"
      ]
     },
     "execution_count": 133,
     "metadata": {},
     "output_type": "execute_result"
    }
   ],
   "source": [
    "mtime = montu.Time('bce1479-01-01 06:00:00')\n",
    "mtime"
   ]
  },
  {
   "cell_type": "code",
   "execution_count": 140,
   "metadata": {},
   "outputs": [
    {
     "data": {
      "text/plain": [
       "Time('-1471-03-12 00:00:00.0000'/'-1471-03-25 00:00:00'/'hrw 1310-IV-Peret-2'/JED 1183858.5/JTD 1183858.9009051)"
      ]
     },
     "execution_count": 140,
     "metadata": {},
     "output_type": "execute_result"
    }
   ],
   "source": [
    "mtime = montu.Time('hrw1310-IV-Peret-2 00:00:00',calendar='caniucular')\n",
    "mtime"
   ]
  },
  {
   "cell_type": "code",
   "execution_count": null,
   "metadata": {},
   "outputs": [],
   "source": []
  }
 ],
 "metadata": {
  "kernelspec": {
   "display_name": "Python 3",
   "language": "python",
   "name": "python3"
  },
  "language_info": {
   "codemirror_mode": {
    "name": "ipython",
    "version": 3
   },
   "file_extension": ".py",
   "mimetype": "text/x-python",
   "name": "python",
   "nbconvert_exporter": "python",
   "pygments_lexer": "ipython3",
   "version": "3.10.12"
  }
 },
 "nbformat": 4,
 "nbformat_minor": 2
}
