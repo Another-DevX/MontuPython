{
 "cells": [
  {
   "cell_type": "markdown",
   "metadata": {},
   "source": [
    "# Montu Python\n",
    "## Astronomical ephemerides for the Ancient World\n",
    "## Time: Basic functionalities\n"
   ]
  },
  {
   "cell_type": "code",
   "execution_count": 2,
   "metadata": {},
   "outputs": [
    {
     "name": "stdout",
     "output_type": "stream",
     "text": [
      "0.9.6\n",
      "The autoreload extension is already loaded. To reload it, use:\n",
      "  %reload_ext autoreload\n"
     ]
    }
   ],
   "source": [
    "import montu as mn\n",
    "print(mn.version)\n",
    "# These magic commands are intended to allow updating the packages if they change\n",
    "%load_ext autoreload\n",
    "%autoreload 2"
   ]
  },
  {
   "cell_type": "code",
   "execution_count": 3,
   "metadata": {},
   "outputs": [
    {
     "data": {
      "text/plain": [
       "Time('2024-05-01 19:00:00.0000'/'2024-05-01 19:00:00'/'hrw 4808-I-Akhet-15'/JED 2460432.2916667/JTD 2460432.2925243)"
      ]
     },
     "execution_count": 3,
     "metadata": {},
     "output_type": "execute_result"
    }
   ],
   "source": [
    "estrellas_visibles = mn.Stars().get_stars(Vmag=[-2,4])\n",
    "rionegro = mn.Observer(lon=-75,lat=6,height=2.5)\n",
    "mtime = mn.Time('2024-05-01 19:00:00')\n",
    "mtime"
   ]
  },
  {
   "cell_type": "code",
   "execution_count": 16,
   "metadata": {},
   "outputs": [
    {
     "data": {
      "text/html": [
       "<table border=\"1\" class=\"dataframe\">\n",
       "  <thead>\n",
       "    <tr style=\"text-align: right;\">\n",
       "      <th></th>\n",
       "      <th>MN</th>\n",
       "      <th>HD</th>\n",
       "      <th>HR</th>\n",
       "      <th>HIP</th>\n",
       "      <th>Gl</th>\n",
       "      <th>Name</th>\n",
       "      <th>OtherDesignations</th>\n",
       "      <th>ProperName</th>\n",
       "      <th>Bayer</th>\n",
       "      <th>Flamsteed</th>\n",
       "      <th>Constellation</th>\n",
       "      <th>RAJ2000</th>\n",
       "      <th>DecJ2000</th>\n",
       "      <th>pmRA</th>\n",
       "      <th>pmDec</th>\n",
       "      <th>RadVel</th>\n",
       "      <th>Distance</th>\n",
       "      <th>Vmag</th>\n",
       "      <th>Vmag_min</th>\n",
       "      <th>Vmag_max</th>\n",
       "      <th>B-V</th>\n",
       "      <th>SpType</th>\n",
       "      <th>Luminosity</th>\n",
       "      <th>XJ2000</th>\n",
       "      <th>YJ2000</th>\n",
       "      <th>ZJ2000</th>\n",
       "      <th>VXJ2000</th>\n",
       "      <th>VYJ2000</th>\n",
       "      <th>VZJ2000</th>\n",
       "      <th>Primary</th>\n",
       "      <th>MultipleID</th>\n",
       "      <th>IsMultiple</th>\n",
       "      <th>IsVariable</th>\n",
       "      <th>tt</th>\n",
       "      <th>jed</th>\n",
       "      <th>RAJ2000t</th>\n",
       "      <th>DecJ2000t</th>\n",
       "      <th>RAEpoch</th>\n",
       "      <th>DecEpoch</th>\n",
       "      <th>HA</th>\n",
       "      <th>az</th>\n",
       "      <th>el</th>\n",
       "      <th>zen</th>\n",
       "    </tr>\n",
       "  </thead>\n",
       "  <tbody>\n",
       "    <tr>\n",
       "      <th>1</th>\n",
       "      <td>2</td>\n",
       "      <td>48915</td>\n",
       "      <td>2491</td>\n",
       "      <td>32349</td>\n",
       "      <td>Gl 244A</td>\n",
       "      <td>Sirius</td>\n",
       "      <td>9 CMa/9Alp CMa/Gl 244A/HD 48915/HIP 32349/HR 2491/HYG 32263/MN 2/Sirius/α CMa</td>\n",
       "      <td>Sirius</td>\n",
       "      <td>α CMa</td>\n",
       "      <td>9 CMa</td>\n",
       "      <td>CMa</td>\n",
       "      <td>6.752481</td>\n",
       "      <td>-16.716116</td>\n",
       "      <td>-546.01</td>\n",
       "      <td>-1223.08</td>\n",
       "      <td>-9.4</td>\n",
       "      <td>2.6371</td>\n",
       "      <td>-1.44</td>\n",
       "      <td>-1.333</td>\n",
       "      <td>-1.523</td>\n",
       "      <td>0.009</td>\n",
       "      <td>A0m...</td>\n",
       "      <td>22.824433</td>\n",
       "      <td>-0.494323</td>\n",
       "      <td>2.476731</td>\n",
       "      <td>-0.758485</td>\n",
       "      <td>-0.000012</td>\n",
       "      <td>-0.000012</td>\n",
       "      <td>0.000010</td>\n",
       "      <td>32263</td>\n",
       "      <td>Gl 244</td>\n",
       "      <td>1</td>\n",
       "      <td>1</td>\n",
       "      <td>767862074.1</td>\n",
       "      <td>2.460432e+06</td>\n",
       "      <td>6.752235</td>\n",
       "      <td>-16.724383</td>\n",
       "      <td>6.770358</td>\n",
       "      <td>-16.751203</td>\n",
       "      <td>21.909307</td>\n",
       "      <td>126.748740</td>\n",
       "      <td>51.542450</td>\n",
       "      <td>38.457550</td>\n",
       "    </tr>\n",
       "    <tr>\n",
       "      <th>2</th>\n",
       "      <td>3</td>\n",
       "      <td>45348</td>\n",
       "      <td>2326</td>\n",
       "      <td>30438</td>\n",
       "      <td>NaN</td>\n",
       "      <td>Canopus</td>\n",
       "      <td>Alp Car/Canopus/HD 45348/HIP 30438/HR 2326/HYG 30365/MN 3/α Car</td>\n",
       "      <td>Canopus</td>\n",
       "      <td>α Car</td>\n",
       "      <td>NaN</td>\n",
       "      <td>Car</td>\n",
       "      <td>6.399195</td>\n",
       "      <td>-52.695660</td>\n",
       "      <td>19.99</td>\n",
       "      <td>23.67</td>\n",
       "      <td>21.0</td>\n",
       "      <td>94.7867</td>\n",
       "      <td>-0.62</td>\n",
       "      <td>-0.547</td>\n",
       "      <td>-0.667</td>\n",
       "      <td>0.164</td>\n",
       "      <td>F0Ib</td>\n",
       "      <td>13854.791676</td>\n",
       "      <td>-5.992679</td>\n",
       "      <td>57.132034</td>\n",
       "      <td>-75.396105</td>\n",
       "      <td>-0.000010</td>\n",
       "      <td>0.000021</td>\n",
       "      <td>-0.000011</td>\n",
       "      <td>30365</td>\n",
       "      <td>NaN</td>\n",
       "      <td>0</td>\n",
       "      <td>1</td>\n",
       "      <td>767862074.1</td>\n",
       "      <td>2.460432e+06</td>\n",
       "      <td>6.399204</td>\n",
       "      <td>-52.695500</td>\n",
       "      <td>6.408199</td>\n",
       "      <td>-52.709790</td>\n",
       "      <td>22.271465</td>\n",
       "      <td>162.655219</td>\n",
       "      <td>27.304834</td>\n",
       "      <td>62.695166</td>\n",
       "    </tr>\n",
       "  </tbody>\n",
       "</table>"
      ],
      "text/plain": [
       "<IPython.core.display.HTML object>"
      ]
     },
     "metadata": {},
     "output_type": "display_data"
    }
   ],
   "source": [
    "estrellas_visibles.where_in_sky(at=mtime,observer=rionegro,inplace=True)\n",
    "\n",
    "mn.PRINTDF(estrellas_visibles.data.head(2))"
   ]
  },
  {
   "cell_type": "code",
   "execution_count": 18,
   "metadata": {},
   "outputs": [
    {
     "name": "stdout",
     "output_type": "stream",
     "text": [
      "2460432.2916667 4.67966468761374\n",
      "0 4.67966468761374\n"
     ]
    },
    {
     "data": {
      "text/plain": [
       "(267.8442369399513, 19.69203763766391)"
      ]
     },
     "execution_count": 18,
     "metadata": {},
     "output_type": "execute_result"
    }
   ],
   "source": [
    "mn.Util.where_in_sky(at=mtime,observer=rionegro)"
   ]
  },
  {
   "cell_type": "code",
   "execution_count": 22,
   "metadata": {},
   "outputs": [
    {
     "data": {
      "text/plain": [
       "Time('2024-05-01 19:00:00.0000'/'2024-05-01 19:00:00'/'hrw 4808-I-Akhet-15'/JED 2460432.2916667/JTD 2460432.2925243)"
      ]
     },
     "execution_count": 22,
     "metadata": {},
     "output_type": "execute_result"
    }
   ],
   "source": [
    "mtime"
   ]
  },
  {
   "cell_type": "code",
   "execution_count": 25,
   "metadata": {},
   "outputs": [
    {
     "name": "stdout",
     "output_type": "stream",
     "text": [
      "2460432.2916667 04:40:46.793\n",
      "6.770358 21.90930668761374\n"
     ]
    },
    {
     "data": {
      "text/plain": [
       "('126:44:55.454', '51:32:32.811')"
      ]
     },
     "execution_count": 25,
     "metadata": {},
     "output_type": "execute_result"
    }
   ],
   "source": [
    "az,el = mn.Util.where_in_sky(RA=6.770358,Dec=-16.751203,at=mtime,observer=rionegro)\n",
    "mn.Util.dec2hex(az), mn.Util.dec2hex(el)"
   ]
  },
  {
   "cell_type": "code",
   "execution_count": null,
   "metadata": {},
   "outputs": [],
   "source": []
  },
  {
   "cell_type": "code",
   "execution_count": 11,
   "metadata": {},
   "outputs": [],
   "source": [
    "RA = -51.21671639622283\n",
    "Dec = 116.42521131246973"
   ]
  },
  {
   "cell_type": "code",
   "execution_count": 12,
   "metadata": {},
   "outputs": [
    {
     "name": "stdout",
     "output_type": "stream",
     "text": [
      "7.896381083836566\n"
     ]
    },
    {
     "data": {
      "text/plain": [
       "(24.254992930773543, 17.723552829060417)"
      ]
     },
     "execution_count": 12,
     "metadata": {},
     "output_type": "execute_result"
    }
   ],
   "source": [
    "mn.Util.where_in_sky(RA,Dec,at=mtime,observer=rionegro)"
   ]
  },
  {
   "cell_type": "code",
   "execution_count": 13,
   "metadata": {},
   "outputs": [
    {
     "data": {
      "text/plain": [
       "Time('2000-01-01 12:00:00.0000'/'2000-01-01 12:00:00'/'hrw 4783-I-Shemu-13'/JED 2451545.0/JTD 2451545.0007396)"
      ]
     },
     "execution_count": 13,
     "metadata": {},
     "output_type": "execute_result"
    }
   ],
   "source": [
    "mtime = mn.Time('2000-01-01 12:00:00')\n",
    "mtime"
   ]
  },
  {
   "cell_type": "code",
   "execution_count": 4,
   "metadata": {},
   "outputs": [],
   "source": [
    "todas_las_estrellas = mn.Stars()"
   ]
  },
  {
   "cell_type": "code",
   "execution_count": 16,
   "metadata": {},
   "outputs": [
    {
     "data": {
      "text/plain": [
       "8920"
      ]
     },
     "execution_count": 16,
     "metadata": {},
     "output_type": "execute_result"
    }
   ],
   "source": [
    "estrellas_brillantes = todas_las_estrellas.get_stars(Vmag=[-2,6.5])\n",
    "len(estrellas_brillantes.data)"
   ]
  },
  {
   "cell_type": "code",
   "execution_count": 17,
   "metadata": {},
   "outputs": [],
   "source": [
    "estrellas_brillantes.data.to_csv('estrellas-brillantes.csv',index=False)"
   ]
  },
  {
   "cell_type": "code",
   "execution_count": null,
   "metadata": {},
   "outputs": [],
   "source": []
  }
 ],
 "metadata": {
  "kernelspec": {
   "display_name": "Python 3",
   "language": "python",
   "name": "python3"
  },
  "language_info": {
   "codemirror_mode": {
    "name": "ipython",
    "version": 3
   },
   "file_extension": ".py",
   "mimetype": "text/x-python",
   "name": "python",
   "nbconvert_exporter": "python",
   "pygments_lexer": "ipython3",
   "version": "3.12.5"
  }
 },
 "nbformat": 4,
 "nbformat_minor": 2
}
