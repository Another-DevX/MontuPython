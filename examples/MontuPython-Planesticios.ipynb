{
 "cells": [
  {
   "cell_type": "markdown",
   "metadata": {},
   "source": [
    "# Montu Python\n",
    "## Astronomical ephemerides for the Ancient World\n",
    "## Planesticies\n"
   ]
  },
  {
   "cell_type": "markdown",
   "metadata": {},
   "source": [
    "This notebook illustrate the usage of time class in `MontuPython`."
   ]
  },
  {
   "cell_type": "markdown",
   "metadata": {},
   "source": [
    "Install the package:"
   ]
  },
  {
   "cell_type": "code",
   "execution_count": 1,
   "metadata": {},
   "outputs": [],
   "source": [
    "# !pip install -q montu"
   ]
  },
  {
   "cell_type": "markdown",
   "metadata": {},
   "source": [
    "Import the package:"
   ]
  },
  {
   "cell_type": "code",
   "execution_count": 1,
   "metadata": {},
   "outputs": [
    {
     "name": "stdout",
     "output_type": "stream",
     "text": [
      "Running MontuPython version 0.9.5\n",
      "0.9.5\n"
     ]
    }
   ],
   "source": [
    "import montu\n",
    "print(montu.version)"
   ]
  },
  {
   "cell_type": "markdown",
   "metadata": {},
   "source": [
    "Load planets:"
   ]
  },
  {
   "cell_type": "code",
   "execution_count": 2,
   "metadata": {},
   "outputs": [],
   "source": [
    "for planet in ['mercury','venus','mars','jupiter','saturn']:\n",
    "    exec(f\"{planet} = montu.Planet('{planet}')\")"
   ]
  },
  {
   "cell_type": "code",
   "execution_count": 13,
   "metadata": {},
   "outputs": [
    {
     "data": {
      "text/plain": [
       "Time('2023-12-11 08:16:03.8000'/'2023-12-11 08:16:16'/'hrw 4807-IV-Peret-28'/JED 2460289.8444884/JTD 2460289.8453426)"
      ]
     },
     "execution_count": 13,
     "metadata": {},
     "output_type": "execute_result"
    }
   ],
   "source": [
    "montu.Time()"
   ]
  },
  {
   "cell_type": "code",
   "execution_count": 15,
   "metadata": {},
   "outputs": [],
   "source": [
    "Tebas = montu.Observer(lat=24,lon=33,height=240)\n",
    "mars.where_in_sky(at=montu.Time(),observer=Tebas)"
   ]
  },
  {
   "cell_type": "code",
   "execution_count": 18,
   "metadata": {},
   "outputs": [
    {
     "data": {
      "text/plain": [
       "{'tt': 755554696, 'jed': 2460289.8451736, 'Name': 'Mars', 'RAJ2000': 16.684428423183476, 'DecJ2000': -22.546525617639123, 'RAEpoch': 16.707810592142224, 'DecEpoch': -22.59289824356141, 'RAGeo': 16.707795349370596, 'DecGeo': -22.592194493733892, 'el': 41.59744006435968, 'az': 163.17606063029933}"
      ]
     },
     "execution_count": 18,
     "metadata": {},
     "output_type": "execute_result"
    }
   ],
   "source": [
    "mars.position"
   ]
  },
  {
   "cell_type": "code",
   "execution_count": 20,
   "metadata": {},
   "outputs": [],
   "source": [
    "mars.tabulate_ephemerides()"
   ]
  },
  {
   "cell_type": "code",
   "execution_count": 21,
   "metadata": {},
   "outputs": [
    {
     "data": {
      "text/plain": [
       "{'tt': 755554696, 'jed': 2460289.8451736, 'Name': 'Mars', 'RAJ2000': 16.684428423183476, 'DecJ2000': -22.546525617639123, 'RAEpoch': 16.707810592142224, 'DecEpoch': -22.59289824356141, 'RAGeo': 16.707795349370596, 'DecGeo': -22.592194493733892, 'el': 41.59744006435968, 'az': 163.17606063029933}"
      ]
     },
     "execution_count": 21,
     "metadata": {},
     "output_type": "execute_result"
    }
   ],
   "source": [
    "mars.ephemerides"
   ]
  },
  {
   "cell_type": "code",
   "execution_count": 22,
   "metadata": {},
   "outputs": [],
   "source": [
    "mtime = montu.Time('-2500-01-01 12:00:00')"
   ]
  },
  {
   "cell_type": "code",
   "execution_count": 23,
   "metadata": {},
   "outputs": [
    {
     "data": {
      "text/plain": [
       "Time('-2500-01-01 12:00:00.0000'/'-2500-01-22 12:00:00'/'hrw 280-I-Shemu-17'/JED 807954.0/JTD 807954.6909688)"
      ]
     },
     "execution_count": 23,
     "metadata": {},
     "output_type": "execute_result"
    }
   ],
   "source": [
    "mtime"
   ]
  },
  {
   "cell_type": "code",
   "execution_count": 24,
   "metadata": {},
   "outputs": [
    {
     "name": "stdout",
     "output_type": "stream",
     "text": [
      "Montu Time Object:\n",
      "-------------------------- \n",
      "Readable:\n",
      "    Date in proleptic UTC: -2500-01-01 12:00:00.0000\n",
      "    Date in mixed UTC: -2500-01-22 12:00:00\n",
      "    Date in SPICE format: 2501 B.C. 01-01 12:00:00.00\n",
      "    Date in caniucular format: hrw 280-I-Shemu-17\n",
      "    Components: [-1, 2500, 1, 1, 12, 0, 0, 0]\n",
      "Objects:\n",
      "    Date in datetime64 format: -2500-01-01T12:00:00.000000\n",
      "    Date in PyPlanet Epoch: 807954.0\n",
      "    Date in PyEphem Epoch: -2501/1/22 12:00:00\n",
      "General:\n",
      "    Is bce: True\n",
      "    Is Julian: True\n",
      "Uniform scales:\n",
      "    Terrestrial time:\n",
      "        tt: -142006202700.3\n",
      "        jtd: 807954.6909688\n",
      "        htd: 102457.19096879999\n",
      "    UTC time:\n",
      "        et: -142006262400.0\n",
      "        jed: 807954.0\n",
      "        hed: 102456.5\n",
      "    Delta-t = TT - UTC = 59699.7\n",
      "\n"
     ]
    }
   ],
   "source": [
    "print(mtime)"
   ]
  },
  {
   "cell_type": "code",
   "execution_count": 25,
   "metadata": {},
   "outputs": [
    {
     "name": "stdout",
     "output_type": "stream",
     "text": [
      "\u001b[0;31mInit signature:\u001b[0m\n",
      "\u001b[0mmontu\u001b[0m\u001b[0;34m.\u001b[0m\u001b[0mTime\u001b[0m\u001b[0;34m(\u001b[0m\u001b[0;34m\u001b[0m\n",
      "\u001b[0;34m\u001b[0m    \u001b[0mdate\u001b[0m\u001b[0;34m=\u001b[0m\u001b[0;32mNone\u001b[0m\u001b[0;34m,\u001b[0m\u001b[0;34m\u001b[0m\n",
      "\u001b[0;34m\u001b[0m    \u001b[0mformat\u001b[0m\u001b[0;34m=\u001b[0m\u001b[0;34m'iso'\u001b[0m\u001b[0;34m,\u001b[0m\u001b[0;34m\u001b[0m\n",
      "\u001b[0;34m\u001b[0m    \u001b[0mscale\u001b[0m\u001b[0;34m=\u001b[0m\u001b[0;34m'utc'\u001b[0m\u001b[0;34m,\u001b[0m\u001b[0;34m\u001b[0m\n",
      "\u001b[0;34m\u001b[0m    \u001b[0mcalendar\u001b[0m\u001b[0;34m=\u001b[0m\u001b[0;34m'proleptic'\u001b[0m\u001b[0;34m,\u001b[0m\u001b[0;34m\u001b[0m\n",
      "\u001b[0;34m\u001b[0m    \u001b[0mfull\u001b[0m\u001b[0;34m=\u001b[0m\u001b[0;32mFalse\u001b[0m\u001b[0;34m,\u001b[0m\u001b[0;34m\u001b[0m\n",
      "\u001b[0;34m\u001b[0m\u001b[0;34m)\u001b[0m\u001b[0;34m\u001b[0m\u001b[0;34m\u001b[0m\u001b[0m\n",
      "\u001b[0;31mDocstring:\u001b[0m     \n",
      "Create a time object\n",
      "\n",
      "This is one of the most important classes in the package, since\n",
      "it manages times and dates.\n",
      "\n",
      "Initialization parameters:\n",
      "    date: string | float:\n",
      "\n",
      "        Date provided. \n",
      "        \n",
      "        When 'iso', possible formats are (all the same date):\n",
      "            -1000-01-01 12:00:00.00\n",
      "            bce1001-01-01 12:00:00.00\n",
      "            1001 b.c.e. 01-01 12:00:00.00\n",
      "\n",
      "        When 'sothic' (not implemented yet) the format is:\n",
      "            20-II-shemu\n",
      "        \n",
      "        With seasons given by 5 leter names: shemu,akhet,peret\n",
      "\n",
      "    format: string, default = 'iso':\n",
      "\n",
      "        Format of the input date. \n",
      "        Possible values: 'iso', 'tt', 'jd', 'sothic'\n",
      "    \n",
      "    scale: string, default = 'utc':\n",
      "\n",
      "        Scale of the time.\n",
      "        Available: 'tt' (terrestrial time, uniform),  'utc' (coordinated, based on rotation).\n",
      "\n",
      "    calendar: string, default = 'proleptic':\n",
      "\n",
      "        Type of calendar of date. Proleptic gregorian correspond to the case when the Gregorian calendar\n",
      "        is extended before the adoption date at 1582-10-15. When calendar = 'mixed' \n",
      "        the Julian calendar is used before the adoption date.\n",
      "\n",
      "Attributes:\n",
      "\n",
      "    Time as strings:\n",
      "    \n",
      "        datepro: string:\n",
      "            Date in gregorian prolectic, with format '[-]CCYY-MM-DD HH:MM:SS.fff'\n",
      "\n",
      "        datemix: string:\n",
      "            Date in gregorian mixed, with format '[-]CCYY-MM-DD HH:MM:SS.fff'\n",
      "\n",
      "        datespice: string:\n",
      "            Date in gregorian prolectic, with SPICE format.\n",
      "\n",
      "    Time in uniform scales:\n",
      "        deltat: float [seconds]\n",
      "            Difference Dt = TT - UTC. \n",
      "        tt: float [seconds]\n",
      "            Ephemeris time in tt. \n",
      "        et: float [seconds]\n",
      "            Ephemeris time in utc. et = tt - deltat \n",
      "        jtd: float [days]\n",
      "            Julian day in terrestrial time.\n",
      "        jed: float [days]\n",
      "            Julian day in UTC. jed = jtd - deltat/86400\n",
      "\n",
      "    Time as special objects:\n",
      "\n",
      "        obj_pyplanet: pyplanets.Epoch:\n",
      "            Date in pyplanets format.\n",
      "\n",
      "        obj_pyephem: pyephem.Date:\n",
      "        \n",
      "    datepro: string\n",
      "        Date in gregorian prolectic but in astronomical format '[-]CCYY-MM-DD HH:MM:SS.fff'\n",
      "\n",
      "    datemix: string\n",
      "        Date in a mixed style (non-prolectic), with format '[bce]CCYY-MM-DD HH:MM:SS.fff', \n",
      "        meaning that when date is previous to 1582-10-15 the date is given in Julian \n",
      "        Calendar.\n",
      "\n",
      "Other attributes (related to frame of reference)\n",
      "\n",
      "Examples:\n",
      "\n",
      "    Initialization using a string:\n",
      "\n",
      "    \n",
      "    Initialization using a float:\n",
      "\u001b[0;31mFile:\u001b[0m           /mnt/c/Users/jorge/Dropbox/MiInvestigacion/EgyptianAstronomy/MontuPython/montu/time.py\n",
      "\u001b[0;31mType:\u001b[0m           type\n",
      "\u001b[0;31mSubclasses:\u001b[0m     "
     ]
    }
   ],
   "source": [
    "montu.Time?"
   ]
  },
  {
   "cell_type": "code",
   "execution_count": 27,
   "metadata": {},
   "outputs": [
    {
     "data": {
      "text/plain": [
       "'hrw 0-I-Akhet-1'"
      ]
     },
     "execution_count": 27,
     "metadata": {},
     "output_type": "execute_result"
    }
   ],
   "source": [
    "montu.Time._mixed_to_caniucular('-2781-07-20')"
   ]
  },
  {
   "cell_type": "code",
   "execution_count": 28,
   "metadata": {},
   "outputs": [
    {
     "data": {
      "text/plain": [
       "'hrw 0-I-Akhet-1'"
      ]
     },
     "execution_count": 28,
     "metadata": {},
     "output_type": "execute_result"
    }
   ],
   "source": [
    "montu.Time._caniucular('-2781-07-20')"
   ]
  },
  {
   "cell_type": "code",
   "execution_count": null,
   "metadata": {},
   "outputs": [],
   "source": []
  }
 ],
 "metadata": {
  "kernelspec": {
   "display_name": "Python 3",
   "language": "python",
   "name": "python3"
  },
  "language_info": {
   "codemirror_mode": {
    "name": "ipython",
    "version": 3
   },
   "file_extension": ".py",
   "mimetype": "text/x-python",
   "name": "python",
   "nbconvert_exporter": "python",
   "pygments_lexer": "ipython3",
   "version": "3.10.12"
  }
 },
 "nbformat": 4,
 "nbformat_minor": 2
}
