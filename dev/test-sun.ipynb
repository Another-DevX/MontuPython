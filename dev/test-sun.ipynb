{
 "cells": [
  {
   "cell_type": "markdown",
   "metadata": {},
   "source": [
    "# Montu Python \n",
    "## Astronomical ephemerides for the Ancient World\n",
    "## Test: Sun"
   ]
  },
  {
   "cell_type": "code",
   "execution_count": 8,
   "metadata": {},
   "outputs": [
    {
     "name": "stdout",
     "output_type": "stream",
     "text": [
      "The autoreload extension is already loaded. To reload it, use:\n",
      "  %reload_ext autoreload\n"
     ]
    }
   ],
   "source": [
    "import montu\n",
    "from montu import D2H,PRINTDF,TABLEDF,DEG,RAD\n",
    "montu.Util.load_kernels()\n",
    "\n",
    "# Load legacy code to compare\n",
    "import montu.__cycle_3 as montu2\n",
    "montu2.Util.load_kernels()\n",
    "\n",
    "import pandas as pd\n",
    "import ephem as pyephem\n",
    "\n",
    "# Autoreload\n",
    "%load_ext autoreload\n",
    "%autoreload 2"
   ]
  },
  {
   "cell_type": "markdown",
   "metadata": {},
   "source": [
    "### Testing"
   ]
  },
  {
   "cell_type": "markdown",
   "metadata": {},
   "source": [
    "Creation of object:"
   ]
  },
  {
   "cell_type": "code",
   "execution_count": 28,
   "metadata": {},
   "outputs": [
    {
     "data": {
      "text/plain": [
       "{'position': [],\n",
       " 'condition': [],\n",
       " 'seba': <Sun \"Sun\" at 0x7f1cc25fa4f0>,\n",
       " 'name': 'Sun'}"
      ]
     },
     "execution_count": 28,
     "metadata": {},
     "output_type": "execute_result"
    }
   ],
   "source": [
    "sun = montu.Sun()\n",
    "sun.__dict__"
   ]
  },
  {
   "cell_type": "code",
   "execution_count": 29,
   "metadata": {},
   "outputs": [
    {
     "data": {
      "text/plain": [
       "Object Sun positionsx:\n",
       "'\n",
       "Object Sun conditions:\n",
       "'"
      ]
     },
     "execution_count": 29,
     "metadata": {},
     "output_type": "execute_result"
    }
   ],
   "source": [
    "sun"
   ]
  },
  {
   "cell_type": "markdown",
   "metadata": {},
   "source": [
    "Basic ephemerides calculation:"
   ]
  },
  {
   "cell_type": "code",
   "execution_count": 36,
   "metadata": {},
   "outputs": [
    {
     "data": {
      "text/plain": [
       "Object Sun positionsx:\n",
       "|            tt |    jed | Name   |   RAJ2000 |   DecJ2000 |   RAEpoch |   DecEpoch |   RAGeo |   DecGeo |      el |      az |\n",
       "|---------------|--------|--------|-----------|------------|-----------|------------|---------|----------|---------|---------|\n",
       "| -142006202700 | 807954 | Sun    |   23.0796 |   -6.14598 |   18.9186 |    -23.366 | 18.9187 | -23.3643 | 34.7618 | 213.171 |'\n",
       "Object Sun conditions:\n",
       "'"
      ]
     },
     "execution_count": 36,
     "metadata": {},
     "output_type": "execute_result"
    }
   ],
   "source": [
    "tebas = montu.Observer(lon=33,lat=24,height=0)\n",
    "mtime = montu.Time('-2500-01-01 12:00:00')\n",
    "sun = montu.Sun()\n",
    "sun.where_in_sky(at=mtime,observer=tebas,store=0)\n",
    "sun"
   ]
  },
  {
   "cell_type": "code",
   "execution_count": 37,
   "metadata": {},
   "outputs": [
    {
     "data": {
      "text/plain": [
       "{'tt': -142006202700, 'jed': 807954.0, 'Name': 'Sun', 'RAJ2000': 23.079589808520172, 'DecJ2000': -6.1459764235647425, 'RAEpoch': 18.918606877481025, 'DecEpoch': -23.366025821041386, 'RAGeo': 18.918686672714518, 'DecGeo': -23.364339327508276, 'el': 34.76177991282175, 'az': 213.17107826031173}"
      ]
     },
     "execution_count": 37,
     "metadata": {},
     "output_type": "execute_result"
    }
   ],
   "source": [
    "sun.position"
   ]
  },
  {
   "cell_type": "markdown",
   "metadata": {},
   "source": [
    "Performance:"
   ]
  },
  {
   "cell_type": "code",
   "execution_count": 41,
   "metadata": {},
   "outputs": [
    {
     "name": "stdout",
     "output_type": "stream",
     "text": [
      "No storage\n",
      "8.27 µs ± 550 ns per loop (mean ± std. dev. of 7 runs, 100,000 loops each)\n",
      "Storage\n",
      "The slowest run took 4.31 times longer than the fastest. This could mean that an intermediate result is being cached.\n",
      "9.29 µs ± 6.99 µs per loop (mean ± std. dev. of 7 runs, 100,000 loops each)\n"
     ]
    }
   ],
   "source": [
    "print(\"No storage\")\n",
    "%timeit sun.where_in_sky(at=mtime,observer=tebas)\n",
    "print(\"Storage\")\n",
    "sun.reset_store()\n",
    "%timeit sun.where_in_sky(at=mtime,observer=tebas,store=True)"
   ]
  },
  {
   "cell_type": "code",
   "execution_count": 44,
   "metadata": {},
   "outputs": [
    {
     "data": {
      "text/plain": [
       "Object Sun positions:\n",
       "|            tt |    jed | Name   |   RAJ2000 |   DecJ2000 |   RAEpoch |   DecEpoch |   RAGeo |   DecGeo |      el |      az |\n",
       "|---------------|--------|--------|-----------|------------|-----------|------------|---------|----------|---------|---------|\n",
       "| -142006202700 | 807954 | Sun    |   23.0796 |   -6.14598 |   18.9186 |    -23.366 | 18.9187 | -23.3643 | 34.7618 | 213.171 |'\n",
       "Object Sun conditions:\n",
       "|      ha |   Vmag |    rise_time |   rise_az |     set_time |   set_az |   transit_time |   transit_el |   elongation |   earth_distance |   sun_distance | is_circumpolar   | is_neverup   |   angsize |   phase |         hlat |    hlon |   hlong |\n",
       "|---------|--------|--------------|-----------|--------------|----------|----------------|--------------|--------------|------------------|----------------|------------------|--------------|-----------|---------|--------------|---------|---------|\n",
       "| 1.95509 |  -26.8 | -1.60707e+06 |   115.486 | -1.60707e+06 |  244.561 |   -1.60707e+06 |      42.6433 |            0 |         0.995282 |              0 | False            | False        |   1928.36 |     100 | -0.000282185 | 102.639 | 102.639 |'"
      ]
     },
     "execution_count": 44,
     "metadata": {},
     "output_type": "execute_result"
    }
   ],
   "source": [
    "sun.conditions_in_sky(at=mtime,observer=tebas)\n",
    "sun"
   ]
  },
  {
   "cell_type": "markdown",
   "metadata": {},
   "source": [
    "Performance:"
   ]
  },
  {
   "cell_type": "code",
   "execution_count": 46,
   "metadata": {},
   "outputs": [
    {
     "name": "stdout",
     "output_type": "stream",
     "text": [
      "No storage\n",
      "307 µs ± 22.6 µs per loop (mean ± std. dev. of 7 runs, 1,000 loops each)\n",
      "Storage\n",
      "264 µs ± 4.27 µs per loop (mean ± std. dev. of 7 runs, 1,000 loops each)\n"
     ]
    }
   ],
   "source": [
    "print(\"No storage\")\n",
    "%timeit sun.conditions_in_sky(at=mtime,observer=tebas)\n",
    "print(\"Storage\")\n",
    "sun.reset_store()\n",
    "%timeit sun.conditions_in_sky(at=mtime,observer=tebas,store=True)"
   ]
  },
  {
   "cell_type": "markdown",
   "metadata": {},
   "source": [
    "Storing"
   ]
  },
  {
   "cell_type": "code",
   "execution_count": 57,
   "metadata": {},
   "outputs": [],
   "source": [
    "tebas = montu.Observer(lon=33,lat=24,height=0)\n",
    "mtime = montu.Time('-2500-01-01 12:00:00')\n",
    "sun = montu.Sun()\n",
    "sun.reset_store()\n",
    "for dt in montu.Util.arange(0,24*montu.HOUR,1*montu.HOUR):\n",
    "    sun.where_in_sky(at=mtime + dt,observer=tebas,store=True)"
   ]
  },
  {
   "cell_type": "code",
   "execution_count": 59,
   "metadata": {},
   "outputs": [
    {
     "data": {
      "text/plain": [
       "Object Sun positions:\n",
       "|            tt |    jed | Name   |   RAJ2000 |   DecJ2000 |   RAEpoch |   DecEpoch |   RAGeo |   DecGeo |        el |       az |\n",
       "|---------------|--------|--------|-----------|------------|-----------|------------|---------|----------|-----------|----------|\n",
       "| -142006202700 | 807954 | Sun    |   23.0796 |   -6.14598 |   18.9186 |   -23.366  | 18.9187 | -23.3643 |  34.7618  | 213.171  |\n",
       "| -142006199100 | 807954 | Sun    |   23.0821 |   -6.12959 |   18.9216 |   -23.3619 | 18.9217 | -23.3603 |  26.0532  | 225.543  |\n",
       "| -142006195500 | 807954 | Sun    |   23.0847 |   -6.11321 |   18.9245 |   -23.3577 | 18.9247 | -23.3563 |  15.5238  | 235.006  |\n",
       "| -142006191900 | 807954 | Sun    |   23.0872 |   -6.09682 |   18.9275 |   -23.3534 | 18.9277 | -23.3523 |   3.94888 | 242.35   |\n",
       "| -142006188300 | 807954 | Sun    |   23.0898 |   -6.08042 |   18.9305 |   -23.3491 | 18.9307 | -23.3482 |  -8.69273 | 248.234  |\n",
       "| -142006184700 | 807954 | Sun    |   23.0923 |   -6.06403 |   18.9335 |   -23.3448 | 18.9337 | -23.3441 | -21.6211  | 253.135  |\n",
       "| -142006181100 | 807954 | Sun    |   23.0949 |   -6.04763 |   18.9365 |   -23.3405 | 18.9367 | -23.34   | -34.8681  | 257.387  |\n",
       "| -142006177500 | 807954 | Sun    |   23.0974 |   -6.03124 |   18.9395 |   -23.3362 | 18.9396 | -23.336  | -48.3277  | 261.258  |\n",
       "| -142006173900 | 807954 | Sun    |   23.1    |   -6.01484 |   18.9426 |   -23.332  | 18.9426 | -23.3318 | -61.9258  | 265.039  |\n",
       "| -142006170300 | 807954 | Sun    |   23.1025 |   -5.99843 |   18.9456 |   -23.3278 | 18.9456 | -23.3277 | -75.6039  | 269.489  |\n",
       "| -142006166700 | 807954 | Sun    |   23.1051 |   -5.98203 |   18.9486 |   -23.3236 | 18.9486 | -23.3236 | -89.0597  | 315.856  |\n",
       "| -142006163100 | 807954 | Sun    |   23.1076 |   -5.96562 |   18.9517 |   -23.3195 | 18.9516 | -23.3195 | -76.906   |  89.9161 |\n",
       "| -142006159500 | 807954 | Sun    |   23.1102 |   -5.94921 |   18.9547 |   -23.3154 | 18.9546 | -23.3153 | -63.222   |  94.5534 |\n",
       "| -142006155900 | 807955 | Sun    |   23.1127 |   -5.9328  |   18.9577 |   -23.3114 | 18.9576 | -23.3111 | -49.6117  |  98.3468 |\n",
       "| -142006152300 | 807955 | Sun    |   23.1153 |   -5.91639 |   18.9607 |   -23.3074 | 18.9606 | -23.3069 | -36.1328  | 102.193  |\n",
       "| -142006148700 | 807955 | Sun    |   23.1178 |   -5.89997 |   18.9637 |   -23.3034 | 18.9636 | -23.3028 | -22.8569  | 106.395  |\n",
       "| -142006145100 | 807955 | Sun    |   23.1204 |   -5.88355 |   18.9667 |   -23.2994 | 18.9666 | -23.2985 |  -9.88624 | 111.217  |\n",
       "| -142006141500 | 807955 | Sun    |   23.1229 |   -5.86713 |   18.9697 |   -23.2955 | 18.9696 | -23.2943 |   2.86657 | 116.986  |\n",
       "| -142006137900 | 807955 | Sun    |   23.1255 |   -5.85071 |   18.9727 |   -23.2914 | 18.9726 | -23.2901 |  14.4923  | 124.16   |\n",
       "| -142006134300 | 807955 | Sun    |   23.128  |   -5.83428 |   18.9757 |   -23.2874 | 18.9755 | -23.2859 |  25.1681  | 133.385  |\n",
       "| -142006130700 | 807955 | Sun    |   23.1306 |   -5.81785 |   18.9786 |   -23.2833 | 18.9785 | -23.2816 |  34.1054  | 145.452  |\n",
       "| -142006127100 | 807955 | Sun    |   23.1331 |   -5.80143 |   18.9816 |   -23.2791 | 18.9815 | -23.2773 |  40.327   | 160.908  |\n",
       "| -142006123500 | 807955 | Sun    |   23.1357 |   -5.78499 |   18.9845 |   -23.2748 | 18.9845 | -23.273  |  42.7366  | 179.051  |\n",
       "| -142006119900 | 807955 | Sun    |   23.1382 |   -5.76856 |   18.9875 |   -23.2705 | 18.9875 | -23.2687 |  40.7683  | 197.353  |\n",
       "| -142006116300 | 807955 | Sun    |   23.1408 |   -5.75212 |   18.9904 |   -23.2661 | 18.9905 | -23.2644 |  34.8912  | 213.152  |'\n",
       "Object Sun conditions:\n",
       "'"
      ]
     },
     "execution_count": 59,
     "metadata": {},
     "output_type": "execute_result"
    }
   ],
   "source": [
    "sun"
   ]
  },
  {
   "cell_type": "markdown",
   "metadata": {},
   "source": [
    "Timing:"
   ]
  },
  {
   "cell_type": "markdown",
   "metadata": {},
   "source": [
    "One line:"
   ]
  },
  {
   "cell_type": "code",
   "execution_count": 65,
   "metadata": {},
   "outputs": [
    {
     "data": {
      "text/plain": [
       "Object Sun positions:\n",
       "|            tt |    jed | Name   |   RAJ2000 |   DecJ2000 |   RAEpoch |   DecEpoch |   RAGeo |   DecGeo |        el |       az |\n",
       "|---------------|--------|--------|-----------|------------|-----------|------------|---------|----------|-----------|----------|\n",
       "| -142006202700 | 807954 | Sun    |   23.0796 |   -6.14598 |   18.9186 |   -23.366  | 18.9187 | -23.3643 |  34.7618  | 213.171  |\n",
       "| -142006199100 | 807954 | Sun    |   23.0821 |   -6.12959 |   18.9216 |   -23.3619 | 18.9217 | -23.3603 |  26.0532  | 225.543  |\n",
       "| -142006195500 | 807954 | Sun    |   23.0847 |   -6.11321 |   18.9245 |   -23.3577 | 18.9247 | -23.3563 |  15.5238  | 235.006  |\n",
       "| -142006191900 | 807954 | Sun    |   23.0872 |   -6.09682 |   18.9275 |   -23.3534 | 18.9277 | -23.3523 |   3.94888 | 242.35   |\n",
       "| -142006188300 | 807954 | Sun    |   23.0898 |   -6.08042 |   18.9305 |   -23.3491 | 18.9307 | -23.3482 |  -8.69273 | 248.234  |\n",
       "| -142006184700 | 807954 | Sun    |   23.0923 |   -6.06403 |   18.9335 |   -23.3448 | 18.9337 | -23.3441 | -21.6211  | 253.135  |\n",
       "| -142006181100 | 807954 | Sun    |   23.0949 |   -6.04763 |   18.9365 |   -23.3405 | 18.9367 | -23.34   | -34.8681  | 257.387  |\n",
       "| -142006177500 | 807954 | Sun    |   23.0974 |   -6.03124 |   18.9395 |   -23.3362 | 18.9396 | -23.336  | -48.3277  | 261.258  |\n",
       "| -142006173900 | 807954 | Sun    |   23.1    |   -6.01484 |   18.9426 |   -23.332  | 18.9426 | -23.3318 | -61.9258  | 265.039  |\n",
       "| -142006170300 | 807954 | Sun    |   23.1025 |   -5.99843 |   18.9456 |   -23.3278 | 18.9456 | -23.3277 | -75.6039  | 269.489  |\n",
       "| -142006166700 | 807954 | Sun    |   23.1051 |   -5.98203 |   18.9486 |   -23.3236 | 18.9486 | -23.3236 | -89.0597  | 315.856  |\n",
       "| -142006163100 | 807954 | Sun    |   23.1076 |   -5.96562 |   18.9517 |   -23.3195 | 18.9516 | -23.3195 | -76.906   |  89.9161 |\n",
       "| -142006159500 | 807954 | Sun    |   23.1102 |   -5.94921 |   18.9547 |   -23.3154 | 18.9546 | -23.3153 | -63.222   |  94.5534 |\n",
       "| -142006155900 | 807955 | Sun    |   23.1127 |   -5.9328  |   18.9577 |   -23.3114 | 18.9576 | -23.3111 | -49.6117  |  98.3468 |\n",
       "| -142006152300 | 807955 | Sun    |   23.1153 |   -5.91639 |   18.9607 |   -23.3074 | 18.9606 | -23.3069 | -36.1328  | 102.193  |\n",
       "| -142006148700 | 807955 | Sun    |   23.1178 |   -5.89997 |   18.9637 |   -23.3034 | 18.9636 | -23.3028 | -22.8569  | 106.395  |\n",
       "| -142006145100 | 807955 | Sun    |   23.1204 |   -5.88355 |   18.9667 |   -23.2994 | 18.9666 | -23.2985 |  -9.88624 | 111.217  |\n",
       "| -142006141500 | 807955 | Sun    |   23.1229 |   -5.86713 |   18.9697 |   -23.2955 | 18.9696 | -23.2943 |   2.86657 | 116.986  |\n",
       "| -142006137900 | 807955 | Sun    |   23.1255 |   -5.85071 |   18.9727 |   -23.2914 | 18.9726 | -23.2901 |  14.4923  | 124.16   |\n",
       "| -142006134300 | 807955 | Sun    |   23.128  |   -5.83428 |   18.9757 |   -23.2874 | 18.9755 | -23.2859 |  25.1681  | 133.385  |\n",
       "| -142006130700 | 807955 | Sun    |   23.1306 |   -5.81785 |   18.9786 |   -23.2833 | 18.9785 | -23.2816 |  34.1054  | 145.452  |\n",
       "| -142006127100 | 807955 | Sun    |   23.1331 |   -5.80143 |   18.9816 |   -23.2791 | 18.9815 | -23.2773 |  40.327   | 160.908  |\n",
       "| -142006123500 | 807955 | Sun    |   23.1357 |   -5.78499 |   18.9845 |   -23.2748 | 18.9845 | -23.273  |  42.7366  | 179.051  |\n",
       "| -142006119900 | 807955 | Sun    |   23.1382 |   -5.76856 |   18.9875 |   -23.2705 | 18.9875 | -23.2687 |  40.7683  | 197.353  |\n",
       "| -142006116300 | 807955 | Sun    |   23.1408 |   -5.75212 |   18.9904 |   -23.2661 | 18.9905 | -23.2644 |  34.8912  | 213.152  |'\n",
       "Object Sun conditions:\n",
       "'"
      ]
     },
     "execution_count": 65,
     "metadata": {},
     "output_type": "execute_result"
    }
   ],
   "source": [
    "sun.reset_store()\n",
    "ephemerides = lambda store:[sun.where_in_sky(at=mtime + dt,observer=tebas,store=store) \\\n",
    "                            for dt in montu.Util.arange(0,24*montu.HOUR,1*montu.HOUR)]\n",
    "ephemerides(1)\n",
    "sun"
   ]
  },
  {
   "cell_type": "markdown",
   "metadata": {},
   "source": [
    "Time it:"
   ]
  },
  {
   "cell_type": "code",
   "execution_count": 70,
   "metadata": {},
   "outputs": [
    {
     "name": "stdout",
     "output_type": "stream",
     "text": [
      "Storage:\n",
      "3.47 ms ± 429 µs per loop (mean ± std. dev. of 7 runs, 100 loops each)\n",
      "No storage:\n",
      "3.16 ms ± 213 µs per loop (mean ± std. dev. of 7 runs, 100 loops each)\n"
     ]
    }
   ],
   "source": [
    "print(\"Storage:\")\n",
    "sun.reset_store()\n",
    "%timeit ephemerides(1)\n",
    "print(\"No storage:\")\n",
    "%timeit ephemerides(0)"
   ]
  },
  {
   "cell_type": "markdown",
   "metadata": {},
   "source": [
    "Test moon:"
   ]
  },
  {
   "cell_type": "code",
   "execution_count": 72,
   "metadata": {},
   "outputs": [
    {
     "data": {
      "text/plain": [
       "Object Moon positions:\n",
       "|            tt |    jed | Name   |   RAJ2000 |   DecJ2000 |   RAEpoch |   DecEpoch |   RAGeo |   DecGeo |      el |      az |\n",
       "|---------------|--------|--------|-----------|------------|-----------|------------|---------|----------|---------|---------|\n",
       "| -142006202700 | 807954 | Moon   |    13.119 |   -1.75958 |   9.19541 |    21.2138 | 9.20076 |  21.8977 | -44.543 | 353.683 |'\n",
       "Object Moon conditions:\n",
       "'"
      ]
     },
     "execution_count": 72,
     "metadata": {},
     "output_type": "execute_result"
    }
   ],
   "source": [
    "tebas = montu.Observer(lon=33,lat=24,height=0)\n",
    "mtime = montu.Time('-2500-01-01 12:00:00')\n",
    "moon = montu.Moon()\n",
    "moon.where_in_sky(at=mtime,observer=tebas)\n",
    "moon"
   ]
  },
  {
   "cell_type": "code",
   "execution_count": 73,
   "metadata": {},
   "outputs": [
    {
     "data": {
      "text/plain": [
       "Object Moon positions:\n",
       "|            tt |    jed | Name   |   RAJ2000 |   DecJ2000 |   RAEpoch |   DecEpoch |   RAGeo |   DecGeo |      el |      az |\n",
       "|---------------|--------|--------|-----------|------------|-----------|------------|---------|----------|---------|---------|\n",
       "| -142006202700 | 807954 | Moon   |    13.119 |   -1.75958 |   9.19541 |    21.2138 | 9.20076 |  21.8977 | -44.543 | 353.683 |'\n",
       "Object Moon conditions:\n",
       "|      ha |   Vmag |    rise_time |   rise_az |     set_time |   set_az | transit_time   |   transit_el |   elongation |   earth_distance |   sun_distance | is_circumpolar   | is_neverup   |   angsize |   phase |   hlat |    hlon |   hlong |\n",
       "|---------|--------|--------------|-----------|--------------|----------|----------------|--------------|--------------|------------------|----------------|------------------|--------------|-----------|---------|--------|---------|---------|\n",
       "| 11.6783 |  -12.6 | -1.60707e+06 |   67.2764 | -1.60707e+06 |  294.859 |                |            0 |     -148.449 |       0.00255291 |       0.997457 | False            | False        |   1879.51 | 92.6462 | 5.0768 | 133.821 | 133.821 |'"
      ]
     },
     "execution_count": 73,
     "metadata": {},
     "output_type": "execute_result"
    }
   ],
   "source": [
    "tebas = montu.Observer(lon=33,lat=24,height=0)\n",
    "mtime = montu.Time('-2500-01-01 12:00:00')\n",
    "moon = montu.Moon()\n",
    "moon.conditions_in_sky(at=mtime,observer=tebas)\n",
    "moon"
   ]
  },
  {
   "cell_type": "code",
   "execution_count": 74,
   "metadata": {},
   "outputs": [
    {
     "data": {
      "text/plain": [
       "(-9113, 2, 4, 6, 49, 23.433051)"
      ]
     },
     "execution_count": 74,
     "metadata": {},
     "output_type": "execute_result"
    }
   ],
   "source": [
    "montu.Time.get_date(moon.condition.set_time)"
   ]
  },
  {
   "cell_type": "markdown",
   "metadata": {},
   "source": [
    "### Test planet"
   ]
  },
  {
   "cell_type": "code",
   "execution_count": 76,
   "metadata": {},
   "outputs": [
    {
     "data": {
      "text/plain": [
       "Object Mars positions:\n",
       "|            tt |    jed | Name   |   RAJ2000 |   DecJ2000 |   RAEpoch |   DecEpoch |   RAGeo |   DecGeo |       el |      az |\n",
       "|---------------|--------|--------|-----------|------------|-----------|------------|---------|----------|----------|---------|\n",
       "| -142006202700 | 807954 | Mars   |    12.531 |    1.62045 |   8.53603 |    24.1114 | 8.53601 |  24.1141 | -41.6385 | 6.18997 |'\n",
       "Object Mars conditions:\n",
       "'"
      ]
     },
     "execution_count": 76,
     "metadata": {},
     "output_type": "execute_result"
    }
   ],
   "source": [
    "tebas = montu.Observer(lon=33,lat=24,height=0)\n",
    "mtime = montu.Time('-2500-01-01 12:00:00')\n",
    "planet = montu.Planet('Mars')\n",
    "planet.where_in_sky(at=mtime,observer=tebas)\n",
    "planet"
   ]
  },
  {
   "cell_type": "code",
   "execution_count": 77,
   "metadata": {},
   "outputs": [
    {
     "data": {
      "text/plain": [
       "Object Mars positions:\n",
       "|            tt |    jed | Name   |   RAJ2000 |   DecJ2000 |   RAEpoch |   DecEpoch |   RAGeo |   DecGeo |       el |      az |\n",
       "|---------------|--------|--------|-----------|------------|-----------|------------|---------|----------|----------|---------|\n",
       "| -142006202700 | 807954 | Mars   |    12.531 |    1.62045 |   8.53603 |    24.1114 | 8.53601 |  24.1141 | -41.6385 | 6.18997 |'\n",
       "Object Mars conditions:\n",
       "|      ha |   Vmag |    rise_time |   rise_az |     set_time |   set_az |   transit_time |   transit_el |   elongation |   earth_distance |   sun_distance | is_circumpolar   | is_neverup   |   angsize |   phase |    hlat |    hlon |   hlong |\n",
       "|---------|--------|--------------|-----------|--------------|----------|----------------|--------------|--------------|------------------|----------------|------------------|--------------|-----------|---------|---------|---------|---------|\n",
       "| 12.3377 |  -1.13 | -1.60707e+06 |   63.1349 | -1.60707e+06 |  296.821 |   -1.60707e+06 |      89.8414 |     -157.818 |         0.660488 |        1.62611 | False            | False        |   14.1713 | 98.6462 | 1.88842 | 111.259 | 111.259 |'"
      ]
     },
     "execution_count": 77,
     "metadata": {},
     "output_type": "execute_result"
    }
   ],
   "source": [
    "tebas = montu.Observer(lon=33,lat=24,height=0)\n",
    "mtime = montu.Time('-2500-01-01 12:00:00')\n",
    "planet = montu.Planet('Mars')\n",
    "planet.conditions_in_sky(at=mtime,observer=tebas)\n",
    "planet"
   ]
  },
  {
   "cell_type": "code",
   "execution_count": null,
   "metadata": {},
   "outputs": [],
   "source": []
  },
  {
   "cell_type": "code",
   "execution_count": null,
   "metadata": {},
   "outputs": [],
   "source": []
  },
  {
   "cell_type": "code",
   "execution_count": null,
   "metadata": {},
   "outputs": [],
   "source": []
  },
  {
   "cell_type": "code",
   "execution_count": null,
   "metadata": {},
   "outputs": [],
   "source": []
  },
  {
   "cell_type": "markdown",
   "metadata": {},
   "source": [
    "### Useful code"
   ]
  },
  {
   "cell_type": "markdown",
   "metadata": {},
   "source": [
    "#### Basic planetary fields"
   ]
  },
  {
   "cell_type": "markdown",
   "metadata": {},
   "source": [
    "Extract fields from astronomical object of `PyEphem`:"
   ]
  },
  {
   "cell_type": "code",
   "execution_count": 20,
   "metadata": {},
   "outputs": [],
   "source": [
    "montu_to_pyephem = {\n",
    "            'Name':'name',\n",
    "            # Position in sky\n",
    "            'RAJ2000':'a_ra',\n",
    "            'DecJ2000':'a_dec',\n",
    "            'RAEpoch':'ra',\n",
    "            'DecEpoch':'dec',\n",
    "            'RAGeo':'g_ra',\n",
    "            'DecGeo':'g_dec',\n",
    "            # Position in horizon\n",
    "            'el':'alt',\n",
    "            'az':'az',\n",
    "            'ha':'ha',\n",
    "            # Rise, transit and set\n",
    "            'rise_time':'rise_time',\n",
    "            'rise_az':'rise_az',\n",
    "            'set_time':'set_time',\n",
    "            'set_az':'set_az',\n",
    "            'transit_time':'transit_time',\n",
    "            'transit_el':'transit_alt',\n",
    "            'elongation':'elong',\n",
    "            # Physical position\n",
    "            'earth_distance':'earth_distance',\n",
    "            'sun_distance':'sun_distance',\n",
    "            'is_circumpolar':'circumpolar',\n",
    "            'is_neverup':'neverup',\n",
    "            'angsize':'size',\n",
    "            'phase':'phase',\n",
    "            'Vmag':'mag',\n",
    "            # Viewing conditions\n",
    "            'hlat':'hlat',\n",
    "            'hlon':'hlon',\n",
    "            'hlong':'hlong',\n",
    "}\n",
    "pyephem_to_montu = {}\n",
    "for key,item in montu_to_pyephem.items():\n",
    "    pyephem_to_montu[item] = key"
   ]
  },
  {
   "cell_type": "code",
   "execution_count": 21,
   "metadata": {},
   "outputs": [
    {
     "name": "stdout",
     "output_type": "stream",
     "text": [
      "'Name':[self.seba.name],'RAJ2000':[self.seba.a_ra*montu.RAD/15],\n",
      "'DecJ2000':[self.seba.a_dec*montu.RAD],'RAEpoch':[self.seba.ra*montu.RAD/15],\n",
      "'DecEpoch':[self.seba.dec*montu.RAD],'RAGeo':[self.seba.g_ra*montu.RAD/15],\n",
      "'DecGeo':[self.seba.g_dec*montu.RAD],'el':[self.seba.alt*montu.RAD],\n",
      "'az':[self.seba.az*montu.RAD],'ha':[self.seba.ha*montu.RAD/15],\n",
      "'rise_time':[self.seba.rise_time],'rise_az':[self.seba.rise_az*montu.RAD],\n",
      "'set_time':[self.seba.set_time],'set_az':[self.seba.set_az*montu.RAD],\n",
      "'transit_time':[self.seba.transit_time],'transit_el':[self.seba.transit_alt*montu.RAD],\n",
      "'elongation':[self.seba.elong*montu.RAD],'earth_distance':[self.seba.earth_distance],\n",
      "'sun_distance':[self.seba.sun_distance],'is_circumpolar':[self.seba.circumpolar],\n",
      "'is_neverup':[self.seba.neverup],'angsize':[self.seba.size],\n",
      "'phase':[self.seba.phase],'Vmag':[self.seba.mag],\n",
      "'hlat':[self.seba.hlat*montu.RAD],'hlon':[self.seba.hlon*montu.RAD],\n",
      "'hlong':[self.seba.hlong*montu.RAD],'a_epoch':[self.seba.a_epoch],\n",
      "'radius':[self.seba.radius*montu.RAD],\n"
     ]
    }
   ],
   "source": [
    "import re\n",
    "sun = montu.Sun()\n",
    "tebas = montu.Observer(lon=33,lat=24,height=0)\n",
    "tebas.site.date = 0\n",
    "sun.seba.compute(tebas.site)\n",
    "\n",
    "# Get fields\n",
    "fields = []\n",
    "dir_ephem = dir(sun.seba)\n",
    "for field in pyephem_to_montu.keys():\n",
    "    if field in dir_ephem:\n",
    "        fields += [field]\n",
    "        dir_ephem.pop(dir_ephem.index(field))\n",
    "fields = fields + dir_ephem\n",
    "\n",
    "i = 1\n",
    "field_list = \"\"\n",
    "for field in fields:\n",
    "    is_added = False\n",
    "\n",
    "    if '__' in field:\n",
    "        continue\n",
    "\n",
    "    field_type = str(eval(f\"type(sun.seba.{field})\"))\n",
    "\n",
    "    if 'function' in field_type:\n",
    "        continue\n",
    "\n",
    "    if field in pyephem_to_montu.keys():\n",
    "        montu_field = pyephem_to_montu[field]\n",
    "    else:\n",
    "        montu_field = field\n",
    "    if 'Angle' in field_type:\n",
    "        if re.match('.*ra$',field) or re.match('ha$',field):\n",
    "            factor = 'montu.RAD/15'\n",
    "        else:\n",
    "            factor = 'montu.RAD'\n",
    "        field_list += f\"'{montu_field}':[self.seba.{field}*{factor}],\"\n",
    "        is_added = True\n",
    "    else:\n",
    "        field_list += f\"'{montu_field}':[self.seba.{field}],\"\n",
    "        is_added = True\n",
    "    if is_added:\n",
    "        if (i%2)==0:\n",
    "            field_list += \"\\n\"\n",
    "        i+=1\n",
    "    #print(field,field_type)\n",
    "print(field_list)"
   ]
  },
  {
   "cell_type": "markdown",
   "metadata": {},
   "source": [
    "#### Moon fields"
   ]
  },
  {
   "cell_type": "code",
   "execution_count": 22,
   "metadata": {},
   "outputs": [
    {
     "data": {
      "text/plain": [
       "['__class__',\n",
       " '__copy__',\n",
       " '__delattr__',\n",
       " '__dir__',\n",
       " '__doc__',\n",
       " '__eq__',\n",
       " '__format__',\n",
       " '__ge__',\n",
       " '__getattribute__',\n",
       " '__gt__',\n",
       " '__hash__',\n",
       " '__init__',\n",
       " '__init_subclass__',\n",
       " '__le__',\n",
       " '__lt__',\n",
       " '__ne__',\n",
       " '__new__',\n",
       " '__reduce__',\n",
       " '__reduce_ex__',\n",
       " '__repr__',\n",
       " '__setattr__',\n",
       " '__sizeof__',\n",
       " '__str__',\n",
       " '__subclasshook__',\n",
       " 'a_dec',\n",
       " 'a_epoch',\n",
       " 'a_ra',\n",
       " 'alt',\n",
       " 'az',\n",
       " 'circumpolar',\n",
       " 'colong',\n",
       " 'compute',\n",
       " 'copy',\n",
       " 'dec',\n",
       " 'earth_distance',\n",
       " 'elong',\n",
       " 'g_dec',\n",
       " 'g_ra',\n",
       " 'ha',\n",
       " 'hlat',\n",
       " 'hlon',\n",
       " 'hlong',\n",
       " 'libration_lat',\n",
       " 'libration_long',\n",
       " 'mag',\n",
       " 'moon_phase',\n",
       " 'name',\n",
       " 'neverup',\n",
       " 'parallactic_angle',\n",
       " 'phase',\n",
       " 'ra',\n",
       " 'radius',\n",
       " 'rise_az',\n",
       " 'rise_time',\n",
       " 'set_az',\n",
       " 'set_time',\n",
       " 'size',\n",
       " 'subsolar_lat',\n",
       " 'sun_distance',\n",
       " 'transit_alt',\n",
       " 'transit_time',\n",
       " 'writedb']"
      ]
     },
     "execution_count": 22,
     "metadata": {},
     "output_type": "execute_result"
    }
   ],
   "source": [
    "import re\n",
    "moon = montu.Moon()\n",
    "tebas = montu.Observer(lon=33,lat=24,height=0)\n",
    "tebas.site.date = 0\n",
    "moon.seba.compute(tebas.site)\n",
    "dir(moon.seba)"
   ]
  },
  {
   "cell_type": "code",
   "execution_count": 23,
   "metadata": {},
   "outputs": [
    {
     "name": "stdout",
     "output_type": "stream",
     "text": [
      "'Name':[self.seba.name],'RAJ2000':[self.seba.a_ra*montu.RAD/15],\n",
      "'DecJ2000':[self.seba.a_dec*montu.RAD],'RAEpoch':[self.seba.ra*montu.RAD/15],\n",
      "'DecEpoch':[self.seba.dec*montu.RAD],'RAGeo':[self.seba.g_ra*montu.RAD/15],\n",
      "'DecGeo':[self.seba.g_dec*montu.RAD],'el':[self.seba.alt*montu.RAD],\n",
      "'az':[self.seba.az*montu.RAD],'ha':[self.seba.ha*montu.RAD/15],\n",
      "'rise_time':[self.seba.rise_time],'rise_az':[self.seba.rise_az*montu.RAD],\n",
      "'set_time':[self.seba.set_time],'set_az':[self.seba.set_az*montu.RAD],\n",
      "'transit_time':[self.seba.transit_time],'transit_el':[self.seba.transit_alt*montu.RAD],\n",
      "'elongation':[self.seba.elong*montu.RAD],'earth_distance':[self.seba.earth_distance],\n",
      "'sun_distance':[self.seba.sun_distance],'is_circumpolar':[self.seba.circumpolar],\n",
      "'is_neverup':[self.seba.neverup],'angsize':[self.seba.size],\n",
      "'phase':[self.seba.phase],'Vmag':[self.seba.mag],\n",
      "'hlat':[self.seba.hlat*montu.RAD],'hlon':[self.seba.hlon*montu.RAD],\n",
      "'hlong':[self.seba.hlong*montu.RAD],'a_epoch':[self.seba.a_epoch],\n",
      "'colong':[self.seba.colong*montu.RAD],'libration_lat':[self.seba.libration_lat*montu.RAD],\n",
      "'libration_long':[self.seba.libration_long*montu.RAD],'moon_phase':[self.seba.moon_phase],\n",
      "'radius':[self.seba.radius*montu.RAD],'subsolar_lat':[self.seba.subsolar_lat*montu.RAD],\n",
      "\n"
     ]
    }
   ],
   "source": [
    "import re\n",
    "moon = montu.Moon()\n",
    "tebas = montu.Observer(lon=33,lat=24,height=0)\n",
    "tebas.site.date = 0\n",
    "moon.seba.compute(tebas.site)\n",
    "\n",
    "# Get fields\n",
    "fields = []\n",
    "dir_ephem = dir(moon.seba)\n",
    "for field in pyephem_to_montu.keys():\n",
    "    if field in dir_ephem:\n",
    "        fields += [field]\n",
    "        dir_ephem.pop(dir_ephem.index(field))\n",
    "fields = fields + dir_ephem\n",
    "\n",
    "i = 1\n",
    "field_list = \"\"\n",
    "for field in fields:\n",
    "    is_added = False\n",
    "\n",
    "    if '__' in field:\n",
    "        continue\n",
    "\n",
    "    field_type = str(eval(f\"type(moon.seba.{field})\"))\n",
    "\n",
    "    if 'function' in field_type:\n",
    "        continue\n",
    "\n",
    "    if field in pyephem_to_montu.keys():\n",
    "        montu_field = pyephem_to_montu[field]\n",
    "    else:\n",
    "        montu_field = field\n",
    "    if 'Angle' in field_type:\n",
    "        if re.match('.*ra$',field) or re.match('ha$',field):\n",
    "            factor = 'montu.RAD/15'\n",
    "        else:\n",
    "            factor = 'montu.RAD'\n",
    "        field_list += f\"'{montu_field}':[self.seba.{field}*{factor}],\"\n",
    "        is_added = True\n",
    "    else:\n",
    "        field_list += f\"'{montu_field}':[self.seba.{field}],\"\n",
    "        is_added = True\n",
    "    if is_added:\n",
    "        if (i%2)==0:\n",
    "            field_list += \"\\n\"\n",
    "        i+=1\n",
    "    #print(field,field_type)\n",
    "print(field_list)"
   ]
  },
  {
   "cell_type": "markdown",
   "metadata": {},
   "source": [
    "#### Satellite"
   ]
  },
  {
   "cell_type": "code",
   "execution_count": 19,
   "metadata": {},
   "outputs": [
    {
     "data": {
      "text/plain": [
       "['__class__',\n",
       " '__copy__',\n",
       " '__delattr__',\n",
       " '__dict__',\n",
       " '__dir__',\n",
       " '__doc__',\n",
       " '__eq__',\n",
       " '__format__',\n",
       " '__ge__',\n",
       " '__getattribute__',\n",
       " '__gt__',\n",
       " '__hash__',\n",
       " '__init__',\n",
       " '__init_subclass__',\n",
       " '__le__',\n",
       " '__lt__',\n",
       " '__module__',\n",
       " '__ne__',\n",
       " '__new__',\n",
       " '__planet__',\n",
       " '__reduce__',\n",
       " '__reduce_ex__',\n",
       " '__repr__',\n",
       " '__setattr__',\n",
       " '__sizeof__',\n",
       " '__str__',\n",
       " '__subclasshook__',\n",
       " '__weakref__',\n",
       " 'a_dec',\n",
       " 'a_ra',\n",
       " 'alt',\n",
       " 'az',\n",
       " 'compute',\n",
       " 'copy',\n",
       " 'dec',\n",
       " 'earth_visible',\n",
       " 'g_dec',\n",
       " 'g_ra',\n",
       " 'name',\n",
       " 'parallactic_angle',\n",
       " 'ra',\n",
       " 'sun_visible',\n",
       " 'writedb',\n",
       " 'x',\n",
       " 'y',\n",
       " 'z']"
      ]
     },
     "execution_count": 19,
     "metadata": {},
     "output_type": "execute_result"
    }
   ],
   "source": [
    "import re\n",
    "satellite = montu.Planet('Ganymede')\n",
    "tebas = montu.Observer(lon=33,lat=24,height=0)\n",
    "tebas.site.date = 0\n",
    "satellite.seba.compute(tebas.site)\n",
    "dir(satellite.seba)"
   ]
  },
  {
   "cell_type": "code",
   "execution_count": null,
   "metadata": {},
   "outputs": [],
   "source": []
  }
 ],
 "metadata": {
  "kernelspec": {
   "display_name": "Python 3",
   "language": "python",
   "name": "python3"
  },
  "language_info": {
   "codemirror_mode": {
    "name": "ipython",
    "version": 3
   },
   "file_extension": ".py",
   "mimetype": "text/x-python",
   "name": "python",
   "nbconvert_exporter": "python",
   "pygments_lexer": "ipython3",
   "version": "3.9.16"
  }
 },
 "nbformat": 4,
 "nbformat_minor": 2
}
