{
 "cells": [
  {
   "cell_type": "markdown",
   "metadata": {},
   "source": [
    "# Montu Python \n",
    "## Astronomical ephemerides for the Ancient World\n",
    "## Test: Time routines (Cycle 2)\n"
   ]
  },
  {
   "cell_type": "code",
   "execution_count": 2,
   "metadata": {},
   "outputs": [
    {
     "name": "stdout",
     "output_type": "stream",
     "text": [
      "The autoreload extension is already loaded. To reload it, use:\n",
      "  %reload_ext autoreload\n"
     ]
    }
   ],
   "source": [
    "# Montu packages and data\n",
    "from montu import *\n",
    "Montu.load_kernels(verbose=False)\n",
    "allstars=Stars()\n",
    "\n",
    "# External packages\n",
    "import plotly.express as px\n",
    "from pyplanets.planets.mars import Mars\n",
    "\n",
    "# These magic commands are intended to allow updating the packages if they change\n",
    "%load_ext autoreload\n",
    "%autoreload 2"
   ]
  },
  {
   "cell_type": "code",
   "execution_count": 16,
   "metadata": {},
   "outputs": [
    {
     "name": "stdout",
     "output_type": "stream",
     "text": [
      "Montu Time Object:\n",
      "--------------------------\n",
      "Date in proleptic UTC: -2501-01-01 12:00:00.0\n",
      "Date in mixed UTC: -2501-01-22 12:00:00\n",
      "General:\n",
      "    Components: [-1, 2501, 1, 1, 12, 0, 0, 0]\n",
      "    Is bce: True\n",
      "    Is Julian: True\n",
      "Uniform scales:\n",
      "    Terrestrial time:\n",
      "        tt: -142037738672.6688\n",
      "        jtd: 807589.6912885557\n",
      "    UTC time:\n",
      "        et: -142037798400.0\n",
      "        jed: 807589.0000000002\n",
      "    Delta-t = TT - UTC = 59727.3312\n",
      "Strings:\n",
      "    Date in SPICE format: 2502 B.C. 01-01 12:00:00.000000\n",
      "    Date in proleptic calendar: -2501-01-01 12:00:00.0\n",
      "    Date in proleptic calendar (jul.year): 2213-01-01 12:00:00.000000\n",
      "    Date in mixed calendar: -2501-01-22 12:00:00\n",
      "    Date in mixed calendar (jul.year): 2211-01-22 12:00:00\n",
      "Objects:\n",
      "    Date in datetime64 format: -2501-01-01T12:00:00.000\n",
      "    Date in datetime format proleptic: 2501-01-01 12:00:00\n",
      "    Date in datetime format proleptic (julian year): 2213-01-01 12:00:00\n",
      "    Date in datetime format mixed: 2501-01-22 12:00:00\n",
      "    Date in datetime format mixed (julian year): 2211-01-22 12:00:00\n",
      "    Date in PyPlanet Epoch: 807589.0000000002\n",
      "    Date in PyEphem Epoch: -2502/1/22 12:00:00\n",
      "    Date in AstroPy Time: 807589.6912885557\n",
      "Astronomical properties at Epoch:\n",
      "    True obliquity of ecliptic: 23:58:31.699\n",
      "    True nutation longitude: 00:00:13.709\n",
      "    Greenwhich Meridian Sidereal Time: 18:41:22.485\n",
      "Hash: 8907238741156336368\n",
      "\n"
     ]
    }
   ],
   "source": [
    "mtime = MonTime('-2501-01-01 12:00:00.0',calendar='proleptic')\n",
    "print(mtime)"
   ]
  },
  {
   "cell_type": "code",
   "execution_count": null,
   "metadata": {},
   "outputs": [],
   "source": []
  },
  {
   "cell_type": "code",
   "execution_count": null,
   "metadata": {},
   "outputs": [],
   "source": []
  },
  {
   "cell_type": "code",
   "execution_count": 5,
   "metadata": {},
   "outputs": [
    {
     "name": "stdout",
     "output_type": "stream",
     "text": [
      "Montu Time Object:\n",
      "--------------------------\n",
      "Date in proleptic UTC: -2501-01-01 12:00:00.0\n",
      "Date in mixed UTC: -2501-01-22 12:00:00\n",
      "General:\n",
      "    Components: [-1, 2501, 1, 1, 12, 0, 0, 0]\n",
      "    Is bce: True\n",
      "Uniform scales:\n",
      "    Terrestrial time:\n",
      "        tt: -142037738672.6688\n",
      "        jtd: 807589.6912885557\n",
      "    UTC time:\n",
      "        et: -142037798400.0\n",
      "        jed: 807589.0000000002\n",
      "    Delta-t = TT - UTC = 59727.3312\n",
      "Strings:\n",
      "    Date in SPICE format: 2502 B.C. 01-01 12:00:00.000000\n",
      "    Date in proleptic calendar: -2501-01-01 12:00:00.0\n",
      "    Date in proleptic calendar (jul.year): 2213-01-01 12:00:00.000000\n",
      "    Date in mixed calendar: -2501-01-22 12:00:00\n",
      "    Date in mixed calendar (jul.year): 2211-01-22 12:00:00\n",
      "Objects:\n",
      "    Date in datetime64 format: -2501-01-01T12:00:00.000\n",
      "    Date in datetime format proleptic: 2501-01-01 12:00:00\n",
      "    Date in datetime format proleptic (julian year): 2213-01-01 12:00:00\n",
      "    Date in datetime format mixed: 2501-01-22 12:00:00\n",
      "    Date in datetime format mixed (julian year): 2211-01-22 12:00:00\n",
      "    Date in PyPlanet Epoch: 807589.0000000002\n",
      "    Date in PyEphem Epoch: -2502/1/22 12:00:00\n",
      "    Date in AstroPy Time: 807589.6912885557\n",
      "Astronomical properties at Epoch:\n",
      "    True obliquity of ecliptic: 23:58:31.699\n",
      "    True nutation longitude: 00:00:13.709\n",
      "    Greenwhich Meridian Sidereal Time: 18:41:22.485\n",
      "Hash: 7816976243529574687\n",
      "\n"
     ]
    }
   ],
   "source": [
    "mtime = MonTime('-2501-01-01 12:00:00.0',calendar='proleptic')\n",
    "print(mtime)"
   ]
  },
  {
   "cell_type": "code",
   "execution_count": 12,
   "metadata": {},
   "outputs": [
    {
     "name": "stdout",
     "output_type": "stream",
     "text": [
      "Montu Time Object:\n",
      "--------------------------\n",
      "Date in proleptic UTC: -2501-01-01 12:00:00.0\n",
      "Date in mixed UTC: -2501-01-22 12:00:00\n",
      "General:\n",
      "    Components: [-1, 2501, 1, 1, 12, 0, 0, 0]\n",
      "    Is bce: True\n",
      "Uniform scales:\n",
      "    Terrestrial time:\n",
      "        tt: -142037738672.6688\n",
      "        jtd: 807589.6912885557\n",
      "    UTC time:\n",
      "        et: -142037798400.0\n",
      "        jed: 807589.0000000002\n",
      "    Delta-t = TT - UTC = 59727.3312\n",
      "Strings:\n",
      "    Date in SPICE format: 2502 B.C. 01-01 12:00:00.000000\n",
      "    Date in proleptic calendar: -2501-01-01 12:00:00.0\n",
      "    Date in proleptic calendar (jul.year): 2213-01-01 12:00:00.000000\n",
      "    Date in mixed calendar: -2501-01-22 12:00:00\n",
      "    Date in mixed calendar (jul.year): 2211-01-22 12:00:00\n",
      "Objects:\n",
      "    Date in datetime64 format: -2501-01-01T12:00:00.000\n",
      "    Date in datetime format proleptic: 2501-01-01 12:00:00\n",
      "    Date in datetime format proleptic (julian year): 2213-01-01 12:00:00\n",
      "    Date in datetime format mixed: 2501-01-22 12:00:00\n",
      "    Date in datetime format mixed (julian year): 2211-01-22 12:00:00\n",
      "    Date in PyPlanet Epoch: 807589.0000000002\n",
      "    Date in PyEphem Epoch: -2502/1/22 12:00:00\n",
      "    Date in AstroPy Time: 807589.6912885557\n",
      "Astronomical properties at Epoch:\n",
      "    True obliquity of ecliptic: 23:58:31.699\n",
      "    True nutation longitude: 00:00:13.709\n",
      "    Greenwhich Meridian Sidereal Time: 18:41:22.485\n",
      "Hash: -7519416069468901343\n",
      "\n"
     ]
    }
   ],
   "source": [
    "mtime = MonTime('-2501-01-22 12:00:00.0',calendar='mixed')\n",
    "print(mtime)"
   ]
  },
  {
   "cell_type": "code",
   "execution_count": 11,
   "metadata": {},
   "outputs": [
    {
     "name": "stdout",
     "output_type": "stream",
     "text": [
      "Computing position of body 'mars' at epoch: jtd = 807954.6909685184 \n",
      "Updating orientation of site (old time 2000-01-01 11:58:56.126200, new time 2501 B.C. 01-01 12:00:00.000000)\n",
      "Method 'SPICE':\n",
      "\tPosition Epoch:  -2500-01-01 12:00:00.0 807953.9999999999\n",
      "\tCoordinates @ J2000: \n",
      "\t\tEquatorial: 12:31:48.754 01:37:12.184\n",
      "\t\tEcliptic: 186:39:46.949 04:38:36.308\n",
      "\tCoordinates @ Epoch : \n",
      "\t\tEquatorial: 08:32:9.796 24:06:28.555\n",
      "\t\tEcliptic: 124:21:21.542 04:39:5.339\n",
      "\tObserving conditions: \n",
      "\t\tDistance to site [au]:  0.660450348841685\n",
      "\t\tDistance to sun [au]:  1.6261149729985933\n",
      "\t\tSolar elongation [deg]:  157:49:18.876\n",
      "\t\tPhase angle [deg]:  13:21:31.981\n",
      "\t\tMagnitude:  -1.1\n",
      "\tOther properties: \n",
      "\t\tLocal true sidereal time:  20:52:25.323\n",
      "\t\tHour angle @ Epoch:  12:20:15.527\n",
      "\t\tLocal coordinates @ Epoch:  06:11:24.275 -41:38:31.094\n"
     ]
    }
   ],
   "source": [
    "from montu import *\n",
    "earth = PlanetaryBody('Earth')\n",
    "tebas = ObservingSite(planet=earth,lon=33,lat=24,height=0)\n",
    "mtime = MonTime('bce2501-01-01 12:00:00')\n",
    "mars = PlanetaryBody('Mars')\n",
    "mars.calculate_sky_position(mtime,tebas)"
   ]
  },
  {
   "cell_type": "code",
   "execution_count": 23,
   "metadata": {},
   "outputs": [
    {
     "data": {
      "text/plain": [
       "'-2499-01-01 12:00:00.0'"
      ]
     },
     "execution_count": 23,
     "metadata": {},
     "output_type": "execute_result"
    }
   ],
   "source": [
    "c = Montu.dt2cal(np.datetime64('2500-01-01 12:00:00.00'),bce=1)\n",
    "datestr = f'{-(c[1]-1)}-{c[2]:02d}-{c[3]:02d} {c[4]:02d}:{c[5]:02d}:{c[6]:02d}.{c[7]}'\n",
    "datestr"
   ]
  },
  {
   "cell_type": "code",
   "execution_count": 35,
   "metadata": {},
   "outputs": [
    {
     "data": {
      "text/plain": [
       "'2502 B.C. AUG 06 11:59:18.8176'"
      ]
     },
     "execution_count": 35,
     "metadata": {},
     "output_type": "execute_result"
    }
   ],
   "source": [
    "spy.et2utc(-142037798400+7*31*DAY,'C',4)"
   ]
  },
  {
   "cell_type": "code",
   "execution_count": 26,
   "metadata": {},
   "outputs": [
    {
     "name": "stdout",
     "output_type": "stream",
     "text": [
      "\u001b[0;31mSignature:\u001b[0m\n",
      "\u001b[0mspy\u001b[0m\u001b[0;34m.\u001b[0m\u001b[0met2utc\u001b[0m\u001b[0;34m(\u001b[0m\u001b[0;34m\u001b[0m\n",
      "\u001b[0;34m\u001b[0m    \u001b[0met\u001b[0m\u001b[0;34m:\u001b[0m \u001b[0mUnion\u001b[0m\u001b[0;34m[\u001b[0m\u001b[0mfloat\u001b[0m\u001b[0;34m,\u001b[0m \u001b[0mIterable\u001b[0m\u001b[0;34m[\u001b[0m\u001b[0mfloat\u001b[0m\u001b[0;34m]\u001b[0m\u001b[0;34m]\u001b[0m\u001b[0;34m,\u001b[0m\u001b[0;34m\u001b[0m\n",
      "\u001b[0;34m\u001b[0m    \u001b[0mformat_str\u001b[0m\u001b[0;34m:\u001b[0m \u001b[0mstr\u001b[0m\u001b[0;34m,\u001b[0m\u001b[0;34m\u001b[0m\n",
      "\u001b[0;34m\u001b[0m    \u001b[0mprec\u001b[0m\u001b[0;34m:\u001b[0m \u001b[0mint\u001b[0m\u001b[0;34m,\u001b[0m\u001b[0;34m\u001b[0m\n",
      "\u001b[0;34m\u001b[0m    \u001b[0mlenout\u001b[0m\u001b[0;34m:\u001b[0m \u001b[0mint\u001b[0m \u001b[0;34m=\u001b[0m \u001b[0;36m256\u001b[0m\u001b[0;34m,\u001b[0m\u001b[0;34m\u001b[0m\n",
      "\u001b[0;34m\u001b[0m\u001b[0;34m)\u001b[0m \u001b[0;34m->\u001b[0m \u001b[0mUnion\u001b[0m\u001b[0;34m[\u001b[0m\u001b[0mnumpy\u001b[0m\u001b[0;34m.\u001b[0m\u001b[0mndarray\u001b[0m\u001b[0;34m,\u001b[0m \u001b[0mstr\u001b[0m\u001b[0;34m]\u001b[0m\u001b[0;34m\u001b[0m\u001b[0;34m\u001b[0m\u001b[0m\n",
      "\u001b[0;31mDocstring:\u001b[0m\n",
      "Convert an input time from ephemeris seconds past J2000\n",
      "to Calendar, Day-of-Year, or Julian Date format, UTC.\n",
      "\n",
      "https://naif.jpl.nasa.gov/pub/naif/toolkit_docs/C/cspice/et2utc_c.html\n",
      "\n",
      ":param et: Input epoch, given in ephemeris seconds past J2000.\n",
      ":param format_str: Format of output epoch.\n",
      ":param prec: Digits of precision in fractional seconds or days.\n",
      ":param lenout: The length of the output string plus 1.\n",
      ":return: Output time string in UTC\n",
      "\u001b[0;31mFile:\u001b[0m      ~/opt/anaconda3/lib/python3.9/site-packages/spiceypy/spiceypy.py\n",
      "\u001b[0;31mType:\u001b[0m      function\n"
     ]
    }
   ],
   "source": [
    "\n",
    "spy.et2utc?"
   ]
  },
  {
   "cell_type": "code",
   "execution_count": 57,
   "metadata": {},
   "outputs": [
    {
     "data": {
      "text/plain": [
       "'2501 01-01 12:00:00.00'"
      ]
     },
     "execution_count": 57,
     "metadata": {},
     "output_type": "execute_result"
    }
   ],
   "source": [
    "MONTH_ABREVS = dict(JAN=1,FEB=2,MAR=3,APR=4,MAY=5,JUN=6,JUL=7,AUG=8,SEP=9,OCT=10,NOV=11,DEC=12)\n",
    "\n",
    "sub_mn = lambda m:f'{MONTH_ABREVS[m.group(1)]:02d}-'\n",
    "re.sub('B.C.\\s*(\\w+)\\s*',sub_mn,'2501 B.C. JAN 01 12:00:00.00')"
   ]
  },
  {
   "cell_type": "code",
   "execution_count": null,
   "metadata": {},
   "outputs": [],
   "source": []
  },
  {
   "cell_type": "code",
   "execution_count": null,
   "metadata": {},
   "outputs": [],
   "source": []
  },
  {
   "cell_type": "code",
   "execution_count": 72,
   "metadata": {},
   "outputs": [
    {
     "name": "stdout",
     "output_type": "stream",
     "text": [
      "Montu Time Object:\n",
      "--------------------------\n",
      "Date in proleptic UTC: -2500-01-01 12:00:00.0000\n",
      "Date in mixed UTC: -2500-01-22 12:00:00:\n",
      "Date in SPICE format: 2501 B.C. 01-01 12:00:00.00\n",
      "General:\n",
      "    Components: [-1, 2500, 1, 1, 12, 0, 0, 0]\n",
      "    Is bce: True\n",
      "    Is Julian: True\n",
      "Uniform scales:\n",
      "    Terrestrial time:\n",
      "        tt: -142006202700.32\n",
      "        jtd: 807954.6909685184\n",
      "    UTC time:\n",
      "        et: -142006262400.0\n",
      "        jed: 807953.9999999999\n",
      "    Delta-t = TT - UTC = 59699.68000000001\n",
      "Objects:\n",
      "    Date in datetime64 format: -2500-01-01T12:00:00.000000\n",
      "    Date in PyPlanet Epoch: 807953.9999999999\n",
      "    Date in PyEphem Epoch: -2501/1/22 12:00:00\n",
      "    Date in AstroPy Time: 807954.6909685184\n",
      "Astronomical properties at Epoch:\n",
      "    True obliquity of ecliptic: 23:58:33.587\n",
      "    True nutation longitude: 00:00:10.214\n",
      "    Greenwhich Meridian Sidereal Time: 18:40:25.323\n",
      "\n"
     ]
    }
   ],
   "source": [
    "mtime = MonTime('-2500-01-01 12:00:00.0',calendar='proleptic')\n",
    "print(mtime)"
   ]
  },
  {
   "cell_type": "code",
   "execution_count": 89,
   "metadata": {},
   "outputs": [
    {
     "name": "stdout",
     "output_type": "stream",
     "text": [
      "Computing position of body 'mars' at epoch: jtd = 807954.6909685184 \n",
      "Updating orientation of site (old time 2000-01-01 11:58:56.1262, new time 2501 B.C. 01-01 12:00:00.00)\n",
      "Method 'Horizons':\n",
      "\tPosition Epoch: prolectic gregorian -2500-01-01 12:00:00.0000, JED = 807953.9999999999\n",
      "\tCoordinates @ J2000: \n",
      "\t\tEquatorial: 12:31:49.147 01:37:6.708\n",
      "\t\tEcliptic: 186:39:54.558 04:38:33.609\n",
      "\tCoordinates @ Epoch : \n",
      "\t\tEquatorial: 08:32:9.283 24:06:29.556\n",
      "\t\tEcliptic: 124:21:14.472 04:39:4.619\n",
      "\tObserving conditions: \n",
      "\t\tDistance to site [au]:  0.66052182424896\n",
      "\t\tDistance to sun [au]:  1.626124866723\n",
      "\t\tSolar elongation [deg]:  157:47:51.000\n",
      "\t\tPhase angle [deg]:  13:22:14.880\n",
      "\t\tMagnitude:  -1.1\n",
      "\tOther properties: \n",
      "\t\tLocal true sidereal time:  20:52:25.323\n",
      "\t\tHour angle @ Epoch:  12:20:16.054\n",
      "\t\tLocal coordinates @ Epoch:  06:11:33.727 -41:38:29.317\n",
      "Method 'VSOP87':\n",
      "\tPosition Epoch: prolectic gregorian -2500-01-01 12:00:00.0000, JED = 807953.9999999999\n",
      "\tCoordinates @ J2000: \n",
      "\t\tEquatorial: 12:31:48.360 01:37:33.109\n",
      "\t\tEcliptic: 186:39:33.205 04:38:53.193\n",
      "\tCoordinates @ Epoch : \n",
      "\t\tEquatorial: 08:32:9.718 24:06:40.920\n",
      "\t\tEcliptic: 124:21:17.390 04:39:17.040\n",
      "\tObserving conditions: \n",
      "\t\tDistance to site [au]:  0.6604883074760437\n",
      "\t\tDistance to sun [au]:  1.626107096672058\n",
      "\t\tSolar elongation [deg]:  157:49:6.094\n",
      "\t\tPhase angle [deg]:  13:21:48.632\n",
      "\t\tMagnitude:  -1.13\n",
      "\tOther properties: \n",
      "\t\tLocal true sidereal time:  20:52:25.323\n",
      "\t\tHour angle @ Epoch:  12:20:15.604\n",
      "\t\tLocal coordinates @ Epoch:  06:11:23.906 -41:38:18.685\n",
      "Method 'SPICE':\n",
      "\tPosition Epoch: prolectic gregorian -2500-01-01 12:00:00.0000, JED = 807953.9999999999\n",
      "\tCoordinates @ J2000: \n",
      "\t\tEquatorial: 12:31:48.754 01:37:12.184\n",
      "\t\tEcliptic: 186:39:46.949 04:38:36.308\n",
      "\tCoordinates @ Epoch : \n",
      "\t\tEquatorial: 08:32:9.796 24:06:28.555\n",
      "\t\tEcliptic: 124:21:21.542 04:39:5.339\n",
      "\tObserving conditions: \n",
      "\t\tDistance to site [au]:  0.660450348841685\n",
      "\t\tDistance to sun [au]:  1.6261149729985933\n",
      "\t\tSolar elongation [deg]:  157:49:18.876\n",
      "\t\tPhase angle [deg]:  13:21:31.981\n",
      "\t\tMagnitude:  -1.1\n",
      "\tOther properties: \n",
      "\t\tLocal true sidereal time:  20:52:25.323\n",
      "\t\tHour angle @ Epoch:  12:20:15.527\n",
      "\t\tLocal coordinates @ Epoch:  06:11:24.275 -41:38:31.094\n"
     ]
    }
   ],
   "source": [
    "from montu import *\n",
    "earth = PlanetaryBody('Earth')\n",
    "tebas = ObservingSite(planet=earth,lon=33,lat=24,height=0)\n",
    "mtime = MonTime('-2500-01-01 12:00:00')\n",
    "mars = PlanetaryBody('Mars')\n",
    "mars.calculate_sky_position(mtime,tebas,method='all')"
   ]
  },
  {
   "cell_type": "code",
   "execution_count": 79,
   "metadata": {},
   "outputs": [
    {
     "data": {
      "text/plain": [
       "'2000xx01 11:58:56.1262'"
      ]
     },
     "execution_count": 79,
     "metadata": {},
     "output_type": "execute_result"
    }
   ],
   "source": [
    "MONTH_ABREVS = dict(JAN=1,FEB=2,MAR=3,APR=4,MAY=5,JUN=6,JUL=7,AUG=8,SEP=9,OCT=10,NOV=11,DEC=12)\n",
    "sub_nm = lambda m:f'-{MONTH_ABREVS[m.group(2)]:02d}-'\n",
    "datestr = '2000 JAN 01 11:58:56.1262'\n",
    "re.sub('\\s+(\\w+)\\s+','xx',datestr)"
   ]
  },
  {
   "cell_type": "code",
   "execution_count": 83,
   "metadata": {},
   "outputs": [
    {
     "name": "stdout",
     "output_type": "stream",
     "text": [
      "2000 JAN 01 11:58:56.1262\n",
      "Montu Time Object:\n",
      "--------------------------\n",
      "Date in proleptic UTC: 2000-01-01 11:58:56.1262\n",
      "Date in mixed UTC: 2000-01-01 11:58:58:\n",
      "Date in SPICE format: 2000-01-01 11:58:56.1262\n",
      "General:\n",
      "    Components: [1, 2000, 1, 1, 11, 58, 56, 126200]\n",
      "    Is bce: False\n",
      "    Is Julian: False\n",
      "Uniform scales:\n",
      "    Terrestrial time:\n",
      "        tt: 0.0\n",
      "        jtd: 2451545.0\n",
      "    UTC time:\n",
      "        et: -63.873832810959236\n",
      "        jed: 2451544.9992607194\n",
      "    Delta-t = TT - UTC = 63.873832810959236\n",
      "Objects:\n",
      "    Date in datetime64 format: 2000-01-01T11:58:56.126200\n",
      "    Date in PyPlanet Epoch: 2451544.9992607194\n",
      "    Date in PyEphem Epoch: 2000/1/1 11:58:56\n",
      "    Date in AstroPy Time: 2451545.0\n",
      "Astronomical properties at Epoch:\n",
      "    True obliquity of ecliptic: 23:26:15.674\n",
      "    True nutation longitude: 00:00:13.923\n",
      "    Greenwhich Meridian Sidereal Time: 18:40:45.648\n",
      "\n"
     ]
    }
   ],
   "source": [
    "mtime = MonTime(0)\n",
    "print(mtime)"
   ]
  },
  {
   "cell_type": "code",
   "execution_count": 146,
   "metadata": {},
   "outputs": [
    {
     "data": {
      "text/plain": [
       "86400.0"
      ]
     },
     "execution_count": 146,
     "metadata": {},
     "output_type": "execute_result"
    }
   ],
   "source": [
    "-47335314289.95533-(-47335400689.95533)"
   ]
  },
  {
   "cell_type": "code",
   "execution_count": 152,
   "metadata": {},
   "outputs": [
    {
     "name": "stdout",
     "output_type": "stream",
     "text": [
      "-47335406400.0\n",
      "-47335400689.95533 -47335406400.0 1903681.5 1903681.56608848\n",
      "Montu Time Object:\n",
      "--------------------------\n",
      "Date in proleptic UTC: 0499-12-31 23:59:59.5069\n",
      "Date in mixed UTC: 499-12-31 00:00:00:\n",
      "Date in SPICE format: 0499 A.D. 12-31 23:59:59.506900\n",
      "General:\n",
      "    Components: [1, 499, 12, 31, 23, 59, 59, 506900]\n",
      "    Is bce: False\n",
      "    Is Julian: True\n",
      "Uniform scales:\n",
      "    Terrestrial time:\n",
      "        tt: -47335400689.95533\n",
      "        jtd: 1903681.56608848\n",
      "    UTC time:\n",
      "        et: -47335406400.49307\n",
      "        jed: 1903681.499994293\n",
      "    Delta-t = TT - UTC = 5710.537739108122\n",
      "Objects:\n",
      "    Date in datetime64 format: 0499-12-31T23:59:59.506900\n",
      "    Date in PyPlanet Epoch: 1903681.499994293\n",
      "    Date in PyEphem Epoch: 499/12/31 00:00:00\n",
      "    Date in AstroPy Time: 1903681.56608848\n",
      "Astronomical properties at Epoch:\n",
      "    True obliquity of ecliptic: 23:38:4.550\n",
      "    True nutation longitude: 00:00:6.921\n",
      "    Greenwhich Meridian Sidereal Time: 06:41:19.639\n",
      "\n"
     ]
    }
   ],
   "source": [
    "#mtime = MonTime('500-01-01',calendar='mixed')\n",
    "mtime = MonTime('500-01-01',calendar='proleptic')\n",
    "print(mtime)"
   ]
  },
  {
   "cell_type": "code",
   "execution_count": 118,
   "metadata": {},
   "outputs": [
    {
     "name": "stdout",
     "output_type": "stream",
     "text": [
      "\u001b[0;31mSignature:\u001b[0m \u001b[0mspy\u001b[0m\u001b[0;34m.\u001b[0m\u001b[0mutc2et\u001b[0m\u001b[0;34m(\u001b[0m\u001b[0mutcstr\u001b[0m\u001b[0;34m:\u001b[0m \u001b[0mstr\u001b[0m\u001b[0;34m)\u001b[0m \u001b[0;34m->\u001b[0m \u001b[0mfloat\u001b[0m\u001b[0;34m\u001b[0m\u001b[0;34m\u001b[0m\u001b[0m\n",
      "\u001b[0;31mDocstring:\u001b[0m\n",
      "Convert an input time from Calendar or Julian Date format, UTC,\n",
      "to ephemeris seconds past J2000.\n",
      "\n",
      "https://naif.jpl.nasa.gov/pub/naif/toolkit_docs/C/cspice/utc2et_c.html\n",
      "\n",
      ":param utcstr: Input time string, UTC.\n",
      ":return: Output epoch, ephemeris seconds past J2000.\n",
      "\u001b[0;31mFile:\u001b[0m      ~/opt/anaconda3/lib/python3.9/site-packages/spiceypy/spiceypy.py\n",
      "\u001b[0;31mType:\u001b[0m      function\n"
     ]
    }
   ],
   "source": [
    "spy.utc2et?"
   ]
  },
  {
   "cell_type": "code",
   "execution_count": null,
   "metadata": {},
   "outputs": [],
   "source": []
  },
  {
   "cell_type": "code",
   "execution_count": 112,
   "metadata": {},
   "outputs": [
    {
     "name": "stdout",
     "output_type": "stream",
     "text": [
      "Computing position of body 'mars' at epoch: jtd = 1903682.56608848 \n",
      "Updating orientation of site (old time 2000-01-01 11:58:56.1262, new time 0500 A.D. 01-02 00:00:00.00)\n",
      "Method 'Horizons':\n",
      "\tPosition Epoch: prolectic gregorian 0500-01-02 00:00:00.0000, JED = 1903682.5\n",
      "\tCoordinates @ J2000: \n",
      "\t\tEquatorial: 13:53:9.038 -9:21:18.972\n",
      "\t\tEcliptic: 209:36:15.452 02:06:43.988\n",
      "\tCoordinates @ Epoch : \n",
      "\t\tEquatorial: 12:35:29.573 -1:27:0.324\n",
      "\t\tEcliptic: 188:42:54.835 02:12:51.080\n",
      "\tObserving conditions: \n",
      "\t\tDistance to site [au]:  1.26559103756223\n",
      "\t\tDistance to sun [au]:  1.649850276737\n",
      "\t\tSolar elongation [deg]:  93:28:47.280\n",
      "\t\tPhase angle [deg]:  36:33:3.960\n",
      "\t\tMagnitude:  0.3\n",
      "\tOther properties: \n",
      "\t\tLocal true sidereal time:  08:57:16.697\n",
      "\t\tHour angle @ Epoch:  20:21:47.133\n",
      "\t\tLocal coordinates @ Epoch:  107:38:14.341 31:17:16.717\n",
      "Method 'VSOP87':\n",
      "\tPosition Epoch: prolectic gregorian 0500-01-02 00:00:00.0000, JED = 1903682.5\n",
      "\tCoordinates @ J2000: \n",
      "\t\tEquatorial: -10:06:50.353 -9:21:25.010\n",
      "\t\tEcliptic: 209:36:26.007 02:06:41.489\n",
      "\tCoordinates @ Epoch : \n",
      "\t\tEquatorial: 12:35:29.764 -1:27:1.888\n",
      "\t\tEcliptic: 188:42:58.077 02:12:50.793\n",
      "\tObserving conditions: \n",
      "\t\tDistance to site [au]:  1.265638828277588\n",
      "\t\tDistance to sun [au]:  1.6498463153839111\n",
      "\t\tSolar elongation [deg]:  93:29:12.567\n",
      "\t\tPhase angle [deg]:  36:32:43.693\n",
      "\t\tMagnitude:  0.67\n",
      "\tOther properties: \n",
      "\t\tLocal true sidereal time:  08:57:16.697\n",
      "\t\tHour angle @ Epoch:  20:21:46.933\n",
      "\t\tLocal coordinates @ Epoch:  107:38:14.180 31:17:13.334\n",
      "Method 'SPICE':\n",
      "\tPosition Epoch: prolectic gregorian 0500-01-02 00:00:00.0000, JED = 1903682.5\n",
      "\tCoordinates @ J2000: \n",
      "\t\tEquatorial: 13:53:9.790 -9:21:24.718\n",
      "\t\tEcliptic: 209:36:27.896 02:06:42.507\n",
      "\tCoordinates @ Epoch : \n",
      "\t\tEquatorial: 12:35:30.327 -1:27:5.694\n",
      "\t\tEcliptic: 188:43:7.334 02:12:50.641\n",
      "\tObserving conditions: \n",
      "\t\tDistance to site [au]:  1.26561984950002\n",
      "\t\tDistance to sun [au]:  1.6498458525283461\n",
      "\t\tSolar elongation [deg]:  93:29:4.244\n",
      "\t\tPhase angle [deg]:  36:32:47.594\n",
      "\t\tMagnitude:  0.3\n",
      "\tOther properties: \n",
      "\t\tLocal true sidereal time:  08:57:16.697\n",
      "\t\tHour angle @ Epoch:  20:21:46.370\n",
      "\t\tLocal coordinates @ Epoch:  107:38:13.219 31:17:4.114\n"
     ]
    }
   ],
   "source": [
    "from montu import *\n",
    "earth = PlanetaryBody('Earth')\n",
    "tebas = ObservingSite(planet=earth,lon=33,lat=24,height=0)\n",
    "mtime = MonTime('500-01-01 00:00:00',calendar='mixed')\n",
    "mars = PlanetaryBody('Mars')\n",
    "mars.calculate_sky_position(mtime,tebas,method='all')"
   ]
  },
  {
   "cell_type": "code",
   "execution_count": null,
   "metadata": {},
   "outputs": [],
   "source": []
  }
 ],
 "metadata": {
  "kernelspec": {
   "display_name": "base",
   "language": "python",
   "name": "python3"
  },
  "language_info": {
   "codemirror_mode": {
    "name": "ipython",
    "version": 3
   },
   "file_extension": ".py",
   "mimetype": "text/x-python",
   "name": "python",
   "nbconvert_exporter": "python",
   "pygments_lexer": "ipython3",
   "version": "3.9.7"
  }
 },
 "nbformat": 4,
 "nbformat_minor": 2
}
