{
 "cells": [
  {
   "cell_type": "markdown",
   "metadata": {},
   "source": [
    "# Montu Python \n",
    "## Astronomical ephemerides for the Ancient World\n",
    "## Test: Template"
   ]
  },
  {
   "cell_type": "code",
   "execution_count": 4,
   "metadata": {},
   "outputs": [
    {
     "name": "stdout",
     "output_type": "stream",
     "text": [
      "The autoreload extension is already loaded. To reload it, use:\n",
      "  %reload_ext autoreload\n"
     ]
    }
   ],
   "source": [
    "import montu\n",
    "from montu import D2H,PRINTDF,TABLEDF\n",
    "\n",
    "# Load legacy code to compare\n",
    "import montu.__cycle_3 as montu2\n",
    "montu2.Util.load_kernels()\n",
    "\n",
    "# Autoreload\n",
    "%load_ext autoreload\n",
    "%autoreload 2"
   ]
  },
  {
   "cell_type": "markdown",
   "metadata": {},
   "source": [
    "### Testing"
   ]
  },
  {
   "cell_type": "markdown",
   "metadata": {},
   "source": [
    "Rounding behavior:"
   ]
  },
  {
   "cell_type": "code",
   "execution_count": 6,
   "metadata": {},
   "outputs": [
    {
     "data": {
      "text/plain": [
       "(1231244.0, 2450606.1234568)"
      ]
     },
     "execution_count": 6,
     "metadata": {},
     "output_type": "execute_result"
    }
   ],
   "source": [
    "montu.ROUND_SECONDS(1231244.12213), montu.ROUND_JULIANDAYS(2450606.123456789)"
   ]
  },
  {
   "cell_type": "markdown",
   "metadata": {},
   "source": [
    "Creation of date with present time:"
   ]
  },
  {
   "cell_type": "code",
   "execution_count": 7,
   "metadata": {},
   "outputs": [
    {
     "name": "stdout",
     "output_type": "stream",
     "text": [
      "Montu Time Object:\n",
      "-------------------------- \n",
      "Readable:\n",
      "    Date in proleptic UTC: 2023-10-27 16:09:16.0000\n",
      "    Date in mixed UTC: 2023-10-27 16:09:09\n",
      "    Date in SPICE format: 2023-10-27 16:09:16.0000\n",
      "    Components: [1, 2023, 10, 27, 16, 9, 16, 0]\n",
      "Objects:\n",
      "    Date in datetime64 format: 2023-10-27T16:09:16.000000\n",
      "    Date in PyPlanet Epoch: 2460245.1731018\n",
      "    Date in PyEphem Epoch: 2023/10/27 16:09:16\n",
      "General:\n",
      "    Is bce: False\n",
      "    Is Julian: False\n",
      "Uniform scales:\n",
      "    Terrestrial time:\n",
      "        tt: 751695030.0\n",
      "        jtd: 2460245.1739583\n",
      "    UTC time:\n",
      "        et: 751694956.0\n",
      "        jed: 2460245.1731018\n",
      "    Delta-t = TT - UTC = 74.0\n",
      "\n"
     ]
    }
   ],
   "source": [
    "mtime = montu.Time()\n",
    "print(mtime)"
   ]
  },
  {
   "cell_type": "markdown",
   "metadata": {},
   "source": [
    "Creation using jd:"
   ]
  },
  {
   "cell_type": "code",
   "execution_count": 8,
   "metadata": {},
   "outputs": [
    {
     "name": "stdout",
     "output_type": "stream",
     "text": [
      "Montu Time Object:\n",
      "-------------------------- \n",
      "Readable:\n",
      "    Date in proleptic UTC: 2023-10-27 16:09:16.0000\n",
      "    Date in mixed UTC: 2023-10-27 16:09:09\n",
      "    Date in SPICE format: 2023-10-27 16:09:16.0000\n",
      "    Components: [1, 2023, 10, 27, 16, 9, 16, 0]\n",
      "Objects:\n",
      "    Date in datetime64 format: 2023-10-27T16:09:16.000000\n",
      "    Date in PyPlanet Epoch: 2460245.1731018\n",
      "    Date in PyEphem Epoch: 2023/10/27 16:09:16\n",
      "General:\n",
      "    Is bce: False\n",
      "    Is Julian: False\n",
      "Uniform scales:\n",
      "    Terrestrial time:\n",
      "        tt: 751695030.0\n",
      "        jtd: 2460245.1739583\n",
      "    UTC time:\n",
      "        et: 751694956.0\n",
      "        jed: 2460245.1731018\n",
      "    Delta-t = TT - UTC = 74.0\n",
      "\n"
     ]
    }
   ],
   "source": [
    "mtime = montu.Time(mtime.jed,format='jd')\n",
    "print(mtime)"
   ]
  },
  {
   "cell_type": "markdown",
   "metadata": {},
   "source": [
    "Creation using tt:"
   ]
  },
  {
   "cell_type": "code",
   "execution_count": 9,
   "metadata": {},
   "outputs": [
    {
     "name": "stdout",
     "output_type": "stream",
     "text": [
      "Montu Time Object:\n",
      "-------------------------- \n",
      "Readable:\n",
      "    Date in proleptic UTC: 2023-10-27 16:09:16.0000\n",
      "    Date in mixed UTC: 2023-10-27 16:09:09\n",
      "    Date in SPICE format: 2023-10-27 16:09:16.0000\n",
      "    Components: [1, 2023, 10, 27, 16, 9, 16, 0]\n",
      "Objects:\n",
      "    Date in datetime64 format: 2023-10-27T16:09:16.000000\n",
      "    Date in PyPlanet Epoch: 2460245.1731018\n",
      "    Date in PyEphem Epoch: 2023/10/27 16:09:16\n",
      "General:\n",
      "    Is bce: False\n",
      "    Is Julian: False\n",
      "Uniform scales:\n",
      "    Terrestrial time:\n",
      "        tt: 751695030.0\n",
      "        jtd: 2460245.1739583\n",
      "    UTC time:\n",
      "        et: 751694956.0\n",
      "        jed: 2460245.1731018\n",
      "    Delta-t = TT - UTC = 74.0\n",
      "\n"
     ]
    }
   ],
   "source": [
    "mtime = montu.Time(mtime.tt)\n",
    "print(mtime)"
   ]
  },
  {
   "cell_type": "markdown",
   "metadata": {},
   "source": [
    "Performance issues:"
   ]
  },
  {
   "cell_type": "markdown",
   "metadata": {},
   "source": [
    "Creation with string:"
   ]
  },
  {
   "cell_type": "code",
   "execution_count": 10,
   "metadata": {},
   "outputs": [
    {
     "name": "stdout",
     "output_type": "stream",
     "text": [
      "365 µs ± 29.2 µs per loop (mean ± std. dev. of 7 runs, 1,000 loops each)\n"
     ]
    },
    {
     "data": {
      "text/plain": [
       "Time('2023-10-27 16:09:16.0000'/'2023-10-27 16:09:09'/JED 2460245.1731018/JTD 2460245.1739583)"
      ]
     },
     "execution_count": 10,
     "metadata": {},
     "output_type": "execute_result"
    }
   ],
   "source": [
    "%timeit mtime = montu.Time('2000-01-01 12:00:00')\n",
    "mtime\n"
   ]
  },
  {
   "cell_type": "markdown",
   "metadata": {},
   "source": [
    "Creation with values:"
   ]
  },
  {
   "cell_type": "code",
   "execution_count": 11,
   "metadata": {},
   "outputs": [
    {
     "name": "stdout",
     "output_type": "stream",
     "text": [
      "57 µs ± 12.2 µs per loop (mean ± std. dev. of 7 runs, 10,000 loops each)\n",
      "70.4 µs ± 10.7 µs per loop (mean ± std. dev. of 7 runs, 10,000 loops each)\n"
     ]
    },
    {
     "data": {
      "text/plain": [
       "Time('2023-10-27 16:09:16.0000'/'2023-10-27 16:09:09'/JED 2460245.1731018/JTD 2460245.1739583)"
      ]
     },
     "execution_count": 11,
     "metadata": {},
     "output_type": "execute_result"
    }
   ],
   "source": [
    "%timeit mtime = montu.Time(2451545.0,format='jd',scale='tt')\n",
    "%timeit mtime = montu.Time(0,format='tt',scale='tt')\n",
    "mtime"
   ]
  },
  {
   "cell_type": "markdown",
   "metadata": {},
   "source": [
    "Set time using string:"
   ]
  },
  {
   "cell_type": "code",
   "execution_count": 12,
   "metadata": {},
   "outputs": [
    {
     "name": "stdout",
     "output_type": "stream",
     "text": [
      "Time('-2500-01-01 12:00:00.0000'/'-2500-01-22 12:00:00'/JED 807954.0/JTD 807954.6909722)\n",
      "Time('-2500-01-01 12:00:00.0000'/'-2500-01-22 12:00:00'/JED 807954.0/JTD 807954.6909722)\n",
      "Time('-2500-01-01 12:00:00.0000'/'-2500-01-22 12:00:00'/JED 807954.0/JTD 807954.6909722)\n",
      "Time('-2500-01-01 12:00:00.0000'/'-2500-01-22 12:00:00'/JED 807954.0/JTD 807954.6909722)\n"
     ]
    }
   ],
   "source": [
    "mtime = montu.Time('-2500-01-01 12:00:00.000')\n",
    "print(mtime.__repr__())\n",
    "mtime = montu.Time('bce2501-01-01 12:00:00.000')\n",
    "print(mtime.__repr__())\n",
    "mtime = montu.Time('2501 b.c.e. 01-01 12:00:00.000')\n",
    "print(mtime.__repr__())\n",
    "mtime = montu.Time('2501 bce 01-01 12:00:00.000')\n",
    "print(mtime.__repr__())"
   ]
  },
  {
   "cell_type": "markdown",
   "metadata": {},
   "source": [
    "Problematic ranges:"
   ]
  },
  {
   "cell_type": "code",
   "execution_count": 94,
   "metadata": {},
   "outputs": [
    {
     "name": "stdout",
     "output_type": "stream",
     "text": [
      "Time('1000-01-01 12:00:00.0000'/'999-12-27 12:00:00'/JED 2086303.0/JTD 2086303.0182847)\n",
      "Time('-0100-01-01 12:00:00.0000'/'-100-01-04 12:00:00'/JED 1684536.0/JTD 1684536.1346887)\n",
      "Time('0001-01-01 12:00:00.0000'/'1-01-03 12:00:00'/JED 1721426.0/JTD 1721426.1223727)\n",
      "Time('-10000-01-01 11:59:59.9999'/'-10000-03-18 12:00:00'/JED -1931365.0/JTD -1931359.8256979)\n",
      "Time('1582-01-01 12:00:00.0000'/'1581-12-22 12:00:00'/JED 2298874.0/JTD 2298874.0015069)\n",
      "Time('1282-01-01 12:00:00.0000'/'1281-12-25 12:00:00'/JED 2189302.0/JTD 2189302.0061528)\n"
     ]
    }
   ],
   "source": [
    "mtime = montu.Time('1000-01-01 12:00:00.000')\n",
    "print(mtime.__repr__()) # Must be JED 2086303\n",
    "mtime = montu.Time('-100-01-01 12:00:00.000')\n",
    "print(mtime.__repr__()) # Must be JED 2086303\n",
    "mtime = montu.Time('1-01-01 12:00:00.000')\n",
    "print(mtime.__repr__()) # Must be JED 1721426.0\n",
    "mtime = montu.Time('-10000-01-01 12:00:00.000')\n",
    "print(mtime.__repr__()) # Must be JED -1931365.0\n",
    "mtime = montu.Time('1582-01-01 12:00:00.000')\n",
    "print(mtime.__repr__()) # Must be JED -2298874.0\n",
    "mtime = montu.Time('1282-01-01 12:00:00.000')\n",
    "print(mtime.__repr__()) # Must be JED -2189302"
   ]
  },
  {
   "cell_type": "markdown",
   "metadata": {},
   "source": [
    "Compare performance:"
   ]
  },
  {
   "cell_type": "code",
   "execution_count": 14,
   "metadata": {},
   "outputs": [
    {
     "name": "stdout",
     "output_type": "stream",
     "text": [
      "559 µs ± 110 µs per loop (mean ± std. dev. of 7 runs, 1,000 loops each)\n",
      "4.5 ms ± 748 µs per loop (mean ± std. dev. of 7 runs, 100 loops each)\n"
     ]
    }
   ],
   "source": [
    "%timeit mtime = montu.Time('1000-01-01 12:00:00.000')\n",
    "%timeit mtime = montu2.Time('1000-01-01 12:00:00.000')"
   ]
  },
  {
   "cell_type": "markdown",
   "metadata": {},
   "source": [
    "Operation performance:"
   ]
  },
  {
   "cell_type": "code",
   "execution_count": 95,
   "metadata": {},
   "outputs": [
    {
     "name": "stdout",
     "output_type": "stream",
     "text": [
      "74.3 µs ± 1.84 µs per loop (mean ± std. dev. of 7 runs, 10,000 loops each)\n",
      "Time(JED 807955.0/JTD 807955.6909688)\n",
      "2.28 ms ± 98.3 µs per loop (mean ± std. dev. of 7 runs, 100 loops each)\n",
      "Time('-2500-01-02 12:00:00.0001'/'-2500-01-23 12:00:00')\n"
     ]
    }
   ],
   "source": [
    "mtime = montu.Time('-2500-01-01 12:00:00.0')\n",
    "%timeit mtime2 = mtime + 1*montu.DAY\n",
    "mtime2 = mtime + 1*montu.DAY\n",
    "print(mtime2.__repr__())\n",
    "mtime = montu2.Time('-2500-01-01 12:00:00.0')\n",
    "%timeit mtime2 = mtime + 1*montu.DAY\n",
    "mtime2 = mtime + 1*montu.DAY\n",
    "print(mtime2.__repr__())"
   ]
  },
  {
   "cell_type": "markdown",
   "metadata": {},
   "source": [
    "Add days and verify that they are like calendar days:"
   ]
  },
  {
   "cell_type": "code",
   "execution_count": 96,
   "metadata": {},
   "outputs": [
    {
     "data": {
      "text/plain": [
       "Time('-2500-01-01 12:00:00.0000'/'-2500-01-22 12:00:00'/JED 807954.0/JTD 807954.6909688)"
      ]
     },
     "execution_count": 96,
     "metadata": {},
     "output_type": "execute_result"
    }
   ],
   "source": [
    "mtime = montu.Time('-2500-01-01 12:00:00.0')\n",
    "mtime"
   ]
  },
  {
   "cell_type": "code",
   "execution_count": 97,
   "metadata": {},
   "outputs": [
    {
     "name": "stdout",
     "output_type": "stream",
     "text": [
      "Time('-2510-01-03 11:55:23.2000'/'-2510-01-24 11:55:55'/JED 804303.9967963/JTD 804304.6909688)\n",
      "Time('-2510-01-03 12:00:00.0000'/'-2510-01-24 12:00:00'/JED 804304.0/JTD 804304.6941725)\n",
      "804304.0 (-2510, 1, 24, 12, 0, 0.0)\n"
     ]
    }
   ],
   "source": [
    "deltat_day = -10*365\n",
    "mtime2 = mtime + deltat_day*montu.DAY\n",
    "mtime2.get_readable()\n",
    "print(mtime2.__repr__())\n",
    "mtime2 = mtime.add(deltat_day*montu.DAY)\n",
    "mtime2.get_readable()\n",
    "print(mtime2.__repr__())\n",
    "# mtime = montu.Time('2000-01-01 12:00:00.0')\n",
    "mtime2 = (mtime.obj_pyplanet + deltat_day)\n",
    "print(mtime2,mtime2.get_full_date())\n"
   ]
  },
  {
   "cell_type": "markdown",
   "metadata": {},
   "source": [
    "Calendars:"
   ]
  },
  {
   "cell_type": "code",
   "execution_count": 98,
   "metadata": {},
   "outputs": [
    {
     "data": {
      "text/plain": [
       "Time('-2500-01-01 12:00:00.0000'/'-2500-01-22 12:00:00'/JED 807954.0/JTD 807954.6909688)"
      ]
     },
     "execution_count": 98,
     "metadata": {},
     "output_type": "execute_result"
    }
   ],
   "source": [
    "mtime = montu.Time('-2500-01-22 12:00:00',calendar='mixed')\n",
    "mtime"
   ]
  },
  {
   "cell_type": "code",
   "execution_count": 102,
   "metadata": {},
   "outputs": [
    {
     "data": {
      "text/plain": [
       "Time('1582-10-14 12:00:00.6000'/'1582-10-04 12:00:00'/JED 2299160.0000069/JTD 2299160.0015069)"
      ]
     },
     "execution_count": 102,
     "metadata": {},
     "output_type": "execute_result"
    }
   ],
   "source": [
    "mtime = montu.Time('1582-10-14 12:00:00',calendar='proleptic')\n",
    "mtime"
   ]
  },
  {
   "cell_type": "code",
   "execution_count": null,
   "metadata": {},
   "outputs": [],
   "source": []
  }
 ],
 "metadata": {
  "kernelspec": {
   "display_name": "Python 3",
   "language": "python",
   "name": "python3"
  },
  "language_info": {
   "codemirror_mode": {
    "name": "ipython",
    "version": 3
   },
   "file_extension": ".py",
   "mimetype": "text/x-python",
   "name": "python",
   "nbconvert_exporter": "python",
   "pygments_lexer": "ipython3",
   "version": "3.9.16"
  }
 },
 "nbformat": 4,
 "nbformat_minor": 2
}
