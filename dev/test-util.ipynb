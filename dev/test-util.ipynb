{
 "cells": [
  {
   "cell_type": "markdown",
   "metadata": {},
   "source": [
    "# Montu Python \n",
    "## Astronomical ephemerides for the Ancient World\n",
    "## Test: Util"
   ]
  },
  {
   "cell_type": "code",
   "execution_count": 1,
   "metadata": {},
   "outputs": [],
   "source": [
    "import montu\n",
    "%load_ext autoreload\n",
    "%autoreload 2"
   ]
  },
  {
   "cell_type": "markdown",
   "metadata": {},
   "source": [
    "### Testing util"
   ]
  },
  {
   "cell_type": "code",
   "execution_count": 6,
   "metadata": {},
   "outputs": [
    {
     "data": {
      "text/plain": [
       "'0.8.1'"
      ]
     },
     "execution_count": 6,
     "metadata": {},
     "output_type": "execute_result"
    }
   ],
   "source": [
    "montu.version"
   ]
  },
  {
   "cell_type": "code",
   "execution_count": 12,
   "metadata": {},
   "outputs": [
    {
     "data": {
      "text/plain": [
       "['_data_path',\n",
       " '_linear_map',\n",
       " '_wget',\n",
       " 'arange',\n",
       " 'dec2hex',\n",
       " 'dt2cal',\n",
       " 'get_methods',\n",
       " 'haversine_distance',\n",
       " 'load_kernels',\n",
       " 'montu_mark',\n",
       " 'print_df',\n",
       " 'string_difference',\n",
       " 'table_df',\n",
       " 'vprint']"
      ]
     },
     "execution_count": 12,
     "metadata": {},
     "output_type": "execute_result"
    }
   ],
   "source": [
    "montu.Util.get_methods(montu.Util)"
   ]
  },
  {
   "cell_type": "code",
   "execution_count": 7,
   "metadata": {},
   "outputs": [
    {
     "name": "stdout",
     "output_type": "stream",
     "text": [
      "Loading local kernel naif0012.tls\n",
      "Loading local kernel frame.tk\n",
      "Loading local kernel pck00011.tpc\n",
      "Loading local kernel earth_assoc_itrf93.tf\n"
     ]
    }
   ],
   "source": [
    "montu.Util.load_kernels(verbose=True)"
   ]
  },
  {
   "cell_type": "code",
   "execution_count": 8,
   "metadata": {},
   "outputs": [
    {
     "name": "stdout",
     "output_type": "stream",
     "text": [
      "Kernel latest_leapseconds.tls already loaded, skipping\n",
      "Kernel de441_part-1.bsp already loaded, skipping\n",
      "Kernel de441_part-2.bsp already loaded, skipping\n"
     ]
    }
   ],
   "source": [
    "montu.Util.load_kernels(montu.PRECISION_KERNELS,verbose=True)"
   ]
  },
  {
   "cell_type": "code",
   "execution_count": 9,
   "metadata": {},
   "outputs": [
    {
     "data": {
      "text/plain": [
       "'/mnt/c/Users/jorge.zuluaga/Dropbox/MiInvestigacion/EgyptianAstronomy/MontuPython/montu/data/test'"
      ]
     },
     "execution_count": 9,
     "metadata": {},
     "output_type": "execute_result"
    }
   ],
   "source": [
    "montu.Util._data_path('test')"
   ]
  },
  {
   "cell_type": "code",
   "execution_count": 10,
   "metadata": {},
   "outputs": [
    {
     "data": {
      "text/plain": [
       "'23:18:44.676'"
      ]
     },
     "execution_count": 10,
     "metadata": {},
     "output_type": "execute_result"
    }
   ],
   "source": [
    "montu.D2H(23.31241)"
   ]
  },
  {
   "cell_type": "code",
   "execution_count": null,
   "metadata": {},
   "outputs": [],
   "source": []
  }
 ],
 "metadata": {
  "kernelspec": {
   "display_name": "Python 3",
   "language": "python",
   "name": "python3"
  },
  "language_info": {
   "codemirror_mode": {
    "name": "ipython",
    "version": 3
   },
   "file_extension": ".py",
   "mimetype": "text/x-python",
   "name": "python",
   "nbconvert_exporter": "python",
   "pygments_lexer": "ipython3",
   "version": "3.9.16"
  }
 },
 "nbformat": 4,
 "nbformat_minor": 2
}
