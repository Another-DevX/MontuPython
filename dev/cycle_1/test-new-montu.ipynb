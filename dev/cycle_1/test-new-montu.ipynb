{
 "cells": [
  {
   "cell_type": "markdown",
   "metadata": {},
   "source": [
    "# Montu Python \n",
    "## Astronomical ephemerides for the Ancient World\n",
    "## Test file: testing new version of `MontuPython`\n"
   ]
  },
  {
   "cell_type": "code",
   "execution_count": 1,
   "metadata": {},
   "outputs": [
    {
     "name": "stdout",
     "output_type": "stream",
     "text": [
      "Loading kernel latest_leapseconds.tls\n",
      "Loading kernel de441_part-1.bsp\n",
      "Loading kernel de441_part-2.bsp\n",
      "Loading local kernel frame.tk\n",
      "Loading local kernel pck00011.tpc\n",
      "Loading local kernel earth_assoc_itrf93.tf\n"
     ]
    }
   ],
   "source": [
    "from montu import *\n",
    "Montu.load_kernels()\n",
    "%load_ext autoreload\n",
    "%autoreload 2"
   ]
  },
  {
   "cell_type": "code",
   "execution_count": 2,
   "metadata": {},
   "outputs": [
    {
     "data": {
      "text/plain": [
       "'0.4.0'"
      ]
     },
     "execution_count": 2,
     "metadata": {},
     "output_type": "execute_result"
    }
   ],
   "source": [
    "version"
   ]
  },
  {
   "cell_type": "markdown",
   "metadata": {},
   "source": [
    "Reference values for the tests:"
   ]
  },
  {
   "cell_type": "code",
   "execution_count": 2,
   "metadata": {},
   "outputs": [],
   "source": [
    "# Near to Aswan\n",
    "lat0 = 24.0 # deg\n",
    "lon0 = 33.0 # deg\n",
    "height0 = 0.0 # km\n",
    "\n",
    "# Date\n",
    "year0 = -2500 # 2501 b.c.e."
   ]
  },
  {
   "cell_type": "markdown",
   "metadata": {},
   "source": [
    "## Stars"
   ]
  },
  {
   "cell_type": "markdown",
   "metadata": {},
   "source": [
    "Get all stars:"
   ]
  },
  {
   "cell_type": "code",
   "execution_count": 3,
   "metadata": {},
   "outputs": [],
   "source": [
    "allstars = Stars()"
   ]
  },
  {
   "cell_type": "markdown",
   "metadata": {},
   "source": [
    "Filter stars:"
   ]
  },
  {
   "cell_type": "code",
   "execution_count": 4,
   "metadata": {},
   "outputs": [
    {
     "data": {
      "text/html": [
       "<table border=\"1\" class=\"dataframe\">\n",
       "  <thead>\n",
       "    <tr style=\"text-align: right;\">\n",
       "      <th></th>\n",
       "      <th>StarID</th>\n",
       "      <th>Hip</th>\n",
       "      <th>HD</th>\n",
       "      <th>HR</th>\n",
       "      <th>Gliese</th>\n",
       "      <th>BayerFlamsteed</th>\n",
       "      <th>ProperName</th>\n",
       "      <th>RA</th>\n",
       "      <th>Dec</th>\n",
       "      <th>Distance</th>\n",
       "      <th>Mag</th>\n",
       "      <th>AbsMag</th>\n",
       "      <th>Spectrum</th>\n",
       "      <th>ColorIndex</th>\n",
       "    </tr>\n",
       "  </thead>\n",
       "  <tbody>\n",
       "    <tr>\n",
       "      <th>15107</th>\n",
       "      <td>15108</td>\n",
       "      <td>21421</td>\n",
       "      <td>29139.0</td>\n",
       "      <td>1457.0</td>\n",
       "      <td>Gl 171.1A</td>\n",
       "      <td>87Alp Tau</td>\n",
       "      <td>Aldebaran</td>\n",
       "      <td>4.59866679000000023</td>\n",
       "      <td>16.50976164000000068</td>\n",
       "      <td>19.96406468356959962</td>\n",
       "      <td>0.87</td>\n",
       "      <td>-0.63124484155242799</td>\n",
       "      <td>K5III</td>\n",
       "      <td>1.53800000000000003</td>\n",
       "    </tr>\n",
       "  </tbody>\n",
       "</table>"
      ],
      "text/plain": [
       "<IPython.core.display.HTML object>"
      ]
     },
     "metadata": {},
     "output_type": "display_data"
    }
   ],
   "source": [
    "aldebaran = allstars.get_stars(ProperName='Aldebaran')\n",
    "Montu.print_df(aldebaran.data)"
   ]
  },
  {
   "cell_type": "markdown",
   "metadata": {},
   "source": [
    "All stars around Aldebaran:"
   ]
  },
  {
   "cell_type": "code",
   "execution_count": 5,
   "metadata": {},
   "outputs": [
    {
     "name": "stdout",
     "output_type": "stream",
     "text": [
      "[2023-10-10 10:53:53] DEBUG:matplotlib.font_manager:findfont: Matching sans\\-serif:style=normal:variant=normal:weight=normal:stretch=normal:size=10.0.\n",
      "[2023-10-10 10:53:53] DEBUG:matplotlib.font_manager:findfont: score(FontEntry(fname='/Users/jorgezuluagacallejas/opt/anaconda3/lib/python3.9/site-packages/matplotlib/mpl-data/fonts/ttf/DejaVuSansMono-BoldOblique.ttf', name='DejaVu Sans Mono', style='oblique', variant='normal', weight=700, stretch='normal', size='scalable')) = 11.335\n",
      "[2023-10-10 10:53:53] DEBUG:matplotlib.font_manager:findfont: score(FontEntry(fname='/Users/jorgezuluagacallejas/opt/anaconda3/lib/python3.9/site-packages/matplotlib/mpl-data/fonts/ttf/DejaVuSerif.ttf', name='DejaVu Serif', style='normal', variant='normal', weight=400, stretch='normal', size='scalable')) = 10.05\n",
      "[2023-10-10 10:53:53] DEBUG:matplotlib.font_manager:findfont: score(FontEntry(fname='/Users/jorgezuluagacallejas/opt/anaconda3/lib/python3.9/site-packages/matplotlib/mpl-data/fonts/ttf/DejaVuSansMono.ttf', name='DejaVu Sans Mono', style='normal', variant='normal', weight=400, stretch='normal', size='scalable')) = 10.05\n",
      "[2023-10-10 10:53:53] DEBUG:matplotlib.font_manager:findfont: score(FontEntry(fname='/Users/jorgezuluagacallejas/opt/anaconda3/lib/python3.9/site-packages/matplotlib/mpl-data/fonts/ttf/cmmi10.ttf', name='cmmi10', style='normal', variant='normal', weight=400, stretch='normal', size='scalable')) = 10.05\n",
      "[2023-10-10 10:53:53] DEBUG:matplotlib.font_manager:findfont: score(FontEntry(fname='/Users/jorgezuluagacallejas/opt/anaconda3/lib/python3.9/site-packages/matplotlib/mpl-data/fonts/ttf/STIXSizFourSymBol.ttf', name='STIXSizeFourSym', style='normal', variant='normal', weight=700, stretch='normal', size='scalable')) = 10.335\n",
      "[2023-10-10 10:53:53] DEBUG:matplotlib.font_manager:findfont: score(FontEntry(fname='/Users/jorgezuluagacallejas/opt/anaconda3/lib/python3.9/site-packages/matplotlib/mpl-data/fonts/ttf/STIXSizThreeSymReg.ttf', name='STIXSizeThreeSym', style='normal', variant='normal', weight=400, stretch='normal', size='scalable')) = 10.05\n",
      "[2023-10-10 10:53:53] DEBUG:matplotlib.font_manager:findfont: score(FontEntry(fname='/Users/jorgezuluagacallejas/opt/anaconda3/lib/python3.9/site-packages/matplotlib/mpl-data/fonts/ttf/STIXNonUniIta.ttf', name='STIXNonUnicode', style='italic', variant='normal', weight=400, stretch='normal', size='scalable')) = 11.05\n",
      "[2023-10-10 10:53:53] DEBUG:matplotlib.font_manager:findfont: score(FontEntry(fname='/Users/jorgezuluagacallejas/opt/anaconda3/lib/python3.9/site-packages/matplotlib/mpl-data/fonts/ttf/STIXNonUni.ttf', name='STIXNonUnicode', style='normal', variant='normal', weight=400, stretch='normal', size='scalable')) = 10.05\n",
      "[2023-10-10 10:53:53] DEBUG:matplotlib.font_manager:findfont: score(FontEntry(fname='/Users/jorgezuluagacallejas/opt/anaconda3/lib/python3.9/site-packages/matplotlib/mpl-data/fonts/ttf/DejaVuSansDisplay.ttf', name='DejaVu Sans Display', style='normal', variant='normal', weight=400, stretch='normal', size='scalable')) = 10.05\n",
      "[2023-10-10 10:53:53] DEBUG:matplotlib.font_manager:findfont: score(FontEntry(fname='/Users/jorgezuluagacallejas/opt/anaconda3/lib/python3.9/site-packages/matplotlib/mpl-data/fonts/ttf/DejaVuSerifDisplay.ttf', name='DejaVu Serif Display', style='normal', variant='normal', weight=400, stretch='normal', size='scalable')) = 10.05\n",
      "[2023-10-10 10:53:53] DEBUG:matplotlib.font_manager:findfont: score(FontEntry(fname='/Users/jorgezuluagacallejas/opt/anaconda3/lib/python3.9/site-packages/matplotlib/mpl-data/fonts/ttf/DejaVuSerif-Bold.ttf', name='DejaVu Serif', style='normal', variant='normal', weight=700, stretch='normal', size='scalable')) = 10.335\n",
      "[2023-10-10 10:53:53] DEBUG:matplotlib.font_manager:findfont: score(FontEntry(fname='/Users/jorgezuluagacallejas/opt/anaconda3/lib/python3.9/site-packages/matplotlib/mpl-data/fonts/ttf/STIXSizFiveSymReg.ttf', name='STIXSizeFiveSym', style='normal', variant='normal', weight=400, stretch='normal', size='scalable')) = 10.05\n",
      "[2023-10-10 10:53:53] DEBUG:matplotlib.font_manager:findfont: score(FontEntry(fname='/Users/jorgezuluagacallejas/opt/anaconda3/lib/python3.9/site-packages/matplotlib/mpl-data/fonts/ttf/STIXSizTwoSymBol.ttf', name='STIXSizeTwoSym', style='normal', variant='normal', weight=700, stretch='normal', size='scalable')) = 10.335\n",
      "[2023-10-10 10:53:53] DEBUG:matplotlib.font_manager:findfont: score(FontEntry(fname='/Users/jorgezuluagacallejas/opt/anaconda3/lib/python3.9/site-packages/matplotlib/mpl-data/fonts/ttf/STIXSizFourSymReg.ttf', name='STIXSizeFourSym', style='normal', variant='normal', weight=400, stretch='normal', size='scalable')) = 10.05\n",
      "[2023-10-10 10:53:53] DEBUG:matplotlib.font_manager:findfont: score(FontEntry(fname='/Users/jorgezuluagacallejas/opt/anaconda3/lib/python3.9/site-packages/matplotlib/mpl-data/fonts/ttf/DejaVuSansMono-Oblique.ttf', name='DejaVu Sans Mono', style='oblique', variant='normal', weight=400, stretch='normal', size='scalable')) = 11.05\n"
     ]
    },
    {
     "name": "stdout",
     "output_type": "stream",
     "text": [
      "[2023-10-10 10:53:53] DEBUG:matplotlib.font_manager:findfont: score(FontEntry(fname='/Users/jorgezuluagacallejas/opt/anaconda3/lib/python3.9/site-packages/matplotlib/mpl-data/fonts/ttf/DejaVuSerif-Italic.ttf', name='DejaVu Serif', style='italic', variant='normal', weight=400, stretch='normal', size='scalable')) = 11.05\n",
      "[2023-10-10 10:53:53] DEBUG:matplotlib.font_manager:findfont: score(FontEntry(fname='/Users/jorgezuluagacallejas/opt/anaconda3/lib/python3.9/site-packages/matplotlib/mpl-data/fonts/ttf/STIXSizOneSymReg.ttf', name='STIXSizeOneSym', style='normal', variant='normal', weight=400, stretch='normal', size='scalable')) = 10.05\n",
      "[2023-10-10 10:53:53] DEBUG:matplotlib.font_manager:findfont: score(FontEntry(fname='/Users/jorgezuluagacallejas/opt/anaconda3/lib/python3.9/site-packages/matplotlib/mpl-data/fonts/ttf/cmss10.ttf', name='cmss10', style='normal', variant='normal', weight=400, stretch='normal', size='scalable')) = 10.05\n",
      "[2023-10-10 10:53:53] DEBUG:matplotlib.font_manager:findfont: score(FontEntry(fname='/Users/jorgezuluagacallejas/opt/anaconda3/lib/python3.9/site-packages/matplotlib/mpl-data/fonts/ttf/STIXGeneralBol.ttf', name='STIXGeneral', style='normal', variant='normal', weight=700, stretch='normal', size='scalable')) = 10.335\n",
      "[2023-10-10 10:53:53] DEBUG:matplotlib.font_manager:findfont: score(FontEntry(fname='/Users/jorgezuluagacallejas/opt/anaconda3/lib/python3.9/site-packages/matplotlib/mpl-data/fonts/ttf/cmr10.ttf', name='cmr10', style='normal', variant='normal', weight=400, stretch='normal', size='scalable')) = 10.05\n",
      "[2023-10-10 10:53:53] DEBUG:matplotlib.font_manager:findfont: score(FontEntry(fname='/Users/jorgezuluagacallejas/opt/anaconda3/lib/python3.9/site-packages/matplotlib/mpl-data/fonts/ttf/STIXGeneralBolIta.ttf', name='STIXGeneral', style='italic', variant='normal', weight=700, stretch='normal', size='scalable')) = 11.335\n",
      "[2023-10-10 10:53:53] DEBUG:matplotlib.font_manager:findfont: score(FontEntry(fname='/Users/jorgezuluagacallejas/opt/anaconda3/lib/python3.9/site-packages/matplotlib/mpl-data/fonts/ttf/STIXSizTwoSymReg.ttf', name='STIXSizeTwoSym', style='normal', variant='normal', weight=400, stretch='normal', size='scalable')) = 10.05\n",
      "[2023-10-10 10:53:53] DEBUG:matplotlib.font_manager:findfont: score(FontEntry(fname='/Users/jorgezuluagacallejas/opt/anaconda3/lib/python3.9/site-packages/matplotlib/mpl-data/fonts/ttf/STIXGeneral.ttf', name='STIXGeneral', style='normal', variant='normal', weight=400, stretch='normal', size='scalable')) = 10.05\n",
      "[2023-10-10 10:53:53] DEBUG:matplotlib.font_manager:findfont: score(FontEntry(fname='/Users/jorgezuluagacallejas/opt/anaconda3/lib/python3.9/site-packages/matplotlib/mpl-data/fonts/ttf/cmtt10.ttf', name='cmtt10', style='normal', variant='normal', weight=400, stretch='normal', size='scalable')) = 10.05\n",
      "[2023-10-10 10:53:53] DEBUG:matplotlib.font_manager:findfont: score(FontEntry(fname='/Users/jorgezuluagacallejas/opt/anaconda3/lib/python3.9/site-packages/matplotlib/mpl-data/fonts/ttf/STIXSizThreeSymBol.ttf', name='STIXSizeThreeSym', style='normal', variant='normal', weight=700, stretch='normal', size='scalable')) = 10.335\n",
      "[2023-10-10 10:53:53] DEBUG:matplotlib.font_manager:findfont: score(FontEntry(fname='/Users/jorgezuluagacallejas/opt/anaconda3/lib/python3.9/site-packages/matplotlib/mpl-data/fonts/ttf/DejaVuSans-Oblique.ttf', name='DejaVu Sans', style='oblique', variant='normal', weight=400, stretch='normal', size='scalable')) = 1.05\n",
      "[2023-10-10 10:53:53] DEBUG:matplotlib.font_manager:findfont: score(FontEntry(fname='/Users/jorgezuluagacallejas/opt/anaconda3/lib/python3.9/site-packages/matplotlib/mpl-data/fonts/ttf/DejaVuSans-Bold.ttf', name='DejaVu Sans', style='normal', variant='normal', weight=700, stretch='normal', size='scalable')) = 0.33499999999999996\n",
      "[2023-10-10 10:53:53] DEBUG:matplotlib.font_manager:findfont: score(FontEntry(fname='/Users/jorgezuluagacallejas/opt/anaconda3/lib/python3.9/site-packages/matplotlib/mpl-data/fonts/ttf/cmsy10.ttf', name='cmsy10', style='normal', variant='normal', weight=400, stretch='normal', size='scalable')) = 10.05\n",
      "[2023-10-10 10:53:53] DEBUG:matplotlib.font_manager:findfont: score(FontEntry(fname='/Users/jorgezuluagacallejas/opt/anaconda3/lib/python3.9/site-packages/matplotlib/mpl-data/fonts/ttf/STIXNonUniBolIta.ttf', name='STIXNonUnicode', style='italic', variant='normal', weight=700, stretch='normal', size='scalable')) = 11.335\n",
      "[2023-10-10 10:53:53] DEBUG:matplotlib.font_manager:findfont: score(FontEntry(fname='/Users/jorgezuluagacallejas/opt/anaconda3/lib/python3.9/site-packages/matplotlib/mpl-data/fonts/ttf/DejaVuSans.ttf', name='DejaVu Sans', style='normal', variant='normal', weight=400, stretch='normal', size='scalable')) = 0.05\n",
      "[2023-10-10 10:53:53] DEBUG:matplotlib.font_manager:findfont: score(FontEntry(fname='/Users/jorgezuluagacallejas/opt/anaconda3/lib/python3.9/site-packages/matplotlib/mpl-data/fonts/ttf/cmex10.ttf', name='cmex10', style='normal', variant='normal', weight=400, stretch='normal', size='scalable')) = 10.05\n",
      "[2023-10-10 10:53:53] DEBUG:matplotlib.font_manager:findfont: score(FontEntry(fname='/Users/jorgezuluagacallejas/opt/anaconda3/lib/python3.9/site-packages/matplotlib/mpl-data/fonts/ttf/DejaVuSans-BoldOblique.ttf', name='DejaVu Sans', style='oblique', variant='normal', weight=700, stretch='normal', size='scalable')) = 1.335\n",
      "[2023-10-10 10:53:53] DEBUG:matplotlib.font_manager:findfont: score(FontEntry(fname='/Users/jorgezuluagacallejas/opt/anaconda3/lib/python3.9/site-packages/matplotlib/mpl-data/fonts/ttf/DejaVuSerif-BoldItalic.ttf', name='DejaVu Serif', style='italic', variant='normal', weight=700, stretch='normal', size='scalable')) = 11.335\n",
      "[2023-10-10 10:53:53] DEBUG:matplotlib.font_manager:findfont: score(FontEntry(fname='/Users/jorgezuluagacallejas/opt/anaconda3/lib/python3.9/site-packages/matplotlib/mpl-data/fonts/ttf/STIXNonUniBol.ttf', name='STIXNonUnicode', style='normal', variant='normal', weight=700, stretch='normal', size='scalable')) = 10.335\n",
      "[2023-10-10 10:53:53] DEBUG:matplotlib.font_manager:findfont: score(FontEntry(fname='/Users/jorgezuluagacallejas/opt/anaconda3/lib/python3.9/site-packages/matplotlib/mpl-data/fonts/ttf/STIXGeneralItalic.ttf', name='STIXGeneral', style='italic', variant='normal', weight=400, stretch='normal', size='scalable')) = 11.05\n",
      "[2023-10-10 10:53:53] DEBUG:matplotlib.font_manager:findfont: score(FontEntry(fname='/Users/jorgezuluagacallejas/opt/anaconda3/lib/python3.9/site-packages/matplotlib/mpl-data/fonts/ttf/DejaVuSansMono-Bold.ttf', name='DejaVu Sans Mono', style='normal', variant='normal', weight=700, stretch='normal', size='scalable')) = 10.335\n",
      "[2023-10-10 10:53:53] DEBUG:matplotlib.font_manager:findfont: score(FontEntry(fname='/Users/jorgezuluagacallejas/opt/anaconda3/lib/python3.9/site-packages/matplotlib/mpl-data/fonts/ttf/cmb10.ttf', name='cmb10', style='normal', variant='normal', weight=400, stretch='normal', size='scalable')) = 10.05\n",
      "[2023-10-10 10:53:53] DEBUG:matplotlib.font_manager:findfont: score(FontEntry(fname='/Users/jorgezuluagacallejas/opt/anaconda3/lib/python3.9/site-packages/matplotlib/mpl-data/fonts/ttf/STIXSizOneSymBol.ttf', name='STIXSizeOneSym', style='normal', variant='normal', weight=700, stretch='normal', size='scalable')) = 10.335\n",
      "[2023-10-10 10:53:53] DEBUG:matplotlib.font_manager:findfont: score(FontEntry(fname='/System/Library/Fonts/Supplemental/NotoSansKhojki-Regular.ttf', name='Noto Sans Khojki', style='normal', variant='normal', weight=400, stretch='normal', size='scalable')) = 10.05\n",
      "[2023-10-10 10:53:53] DEBUG:matplotlib.font_manager:findfont: score(FontEntry(fname='/System/Library/Fonts/Menlo.ttc', name='Menlo', style='normal', variant='normal', weight=400, stretch='normal', size='scalable')) = 10.05\n",
      "[2023-10-10 10:53:53] DEBUG:matplotlib.font_manager:findfont: score(FontEntry(fname='/System/Library/Fonts/Supplemental/Apple Chancery.ttf', name='Apple Chancery', style='normal', variant='normal', weight=0, stretch='normal', size='scalable')) = 10.43\n",
      "[2023-10-10 10:53:53] DEBUG:matplotlib.font_manager:findfont: score(FontEntry(fname='/System/Library/Fonts/AppleSDGothicNeo.ttc', name='Apple SD Gothic Neo', style='normal', variant='normal', weight=400, stretch='normal', size='scalable')) = 10.05\n",
      "[2023-10-10 10:53:53] DEBUG:matplotlib.font_manager:findfont: score(FontEntry(fname='/System/Library/Fonts/Supplemental/STIXIntUpSmReg.otf', name='STIXIntegralsUpSm', style='normal', variant='normal', weight=400, stretch='normal', size='scalable')) = 10.05\n",
      "[2023-10-10 10:53:53] DEBUG:matplotlib.font_manager:findfont: score(FontEntry(fname='/System/Library/Fonts/Supplemental/Sinhala Sangam MN.ttc', name='Sinhala Sangam MN', style='normal', variant='normal', weight=400, stretch='normal', size='scalable')) = 10.05\n",
      "[2023-10-10 10:53:53] DEBUG:matplotlib.font_manager:findfont: score(FontEntry(fname='/System/Library/Fonts/Supplemental/Andale Mono.ttf', name='Andale Mono', style='normal', variant='normal', weight=400, stretch='normal', size='scalable')) = 10.05\n",
      "[2023-10-10 10:53:53] DEBUG:matplotlib.font_manager:findfont: score(FontEntry(fname='/System/Library/Fonts/Supplemental/Arial Rounded Bold.ttf', name='Arial Rounded MT Bold', style='normal', variant='normal', weight=400, stretch='normal', size='scalable')) = 10.05\n",
      "[2023-10-10 10:53:53] DEBUG:matplotlib.font_manager:findfont: score(FontEntry(fname='/System/Library/Fonts/Supplemental/NotoSansElbasan-Regular.ttf', name='Noto Sans Elbasan', style='normal', variant='normal', weight=400, stretch='normal', size='scalable')) = 10.05\n",
      "[2023-10-10 10:53:53] DEBUG:matplotlib.font_manager:findfont: score(FontEntry(fname='/System/Library/Fonts/Supplemental/NotoSansLinearA-Regular.ttf', name='Noto Sans Linear A', style='normal', variant='normal', weight=400, stretch='normal', size='scalable')) = 10.05\n",
      "[2023-10-10 10:53:53] DEBUG:matplotlib.font_manager:findfont: score(FontEntry(fname='/System/Library/Fonts/Supplemental/NotoSansOldTurkic-Regular.ttf', name='Noto Sans Old Turkic', style='normal', variant='normal', weight=400, stretch='normal', size='scalable')) = 10.05\n",
      "[2023-10-10 10:53:53] DEBUG:matplotlib.font_manager:findfont: score(FontEntry(fname='/System/Library/Fonts/Supplemental/Waseem.ttc', name='Waseem', style='normal', variant='normal', weight=400, stretch='normal', size='scalable')) = 10.05\n",
      "[2023-10-10 10:53:53] DEBUG:matplotlib.font_manager:findfont: score(FontEntry(fname='/System/Library/Fonts/Supplemental/STIXSizTwoSymReg.otf', name='STIXSizeTwoSym', style='normal', variant='normal', weight=400, stretch='normal', size='scalable')) = 10.05\n",
      "[2023-10-10 10:53:53] DEBUG:matplotlib.font_manager:findfont: score(FontEntry(fname='/System/Library/Fonts/Supplemental/NotoSansCaucasianAlbanian-Regular.ttf', name='Noto Sans Caucasian Albanian', style='normal', variant='normal', weight=400, stretch='normal', size='scalable')) = 10.05\n",
      "[2023-10-10 10:53:53] DEBUG:matplotlib.font_manager:findfont: score(FontEntry(fname='/System/Library/Fonts/Supplemental/Times New Roman Italic.ttf', name='Times New Roman', style='italic', variant='normal', weight=400, stretch='normal', size='scalable')) = 11.05\n",
      "[2023-10-10 10:53:53] DEBUG:matplotlib.font_manager:findfont: score(FontEntry(fname='/System/Library/Fonts/Supplemental/Times New Roman.ttf', name='Times New Roman', style='normal', variant='normal', weight=400, stretch='normal', size='scalable')) = 10.05\n",
      "[2023-10-10 10:53:53] DEBUG:matplotlib.font_manager:findfont: score(FontEntry(fname='/System/Library/Fonts/Supplemental/NotoSansPsalterPahlavi-Regular.ttf', name='Noto Sans Psalter Pahlavi', style='normal', variant='normal', weight=400, stretch='normal', size='scalable')) = 10.05\n",
      "[2023-10-10 10:53:53] DEBUG:matplotlib.font_manager:findfont: score(FontEntry(fname='/System/Library/Fonts/Supplemental/Nadeem.ttc', name='Nadeem', style='normal', variant='normal', weight=400, stretch='normal', size='scalable')) = 10.05\n",
      "[2023-10-10 10:53:53] DEBUG:matplotlib.font_manager:findfont: score(FontEntry(fname='/System/Library/Fonts/Apple Braille Pinpoint 8 Dot.ttf', name='Apple Braille', style='normal', variant='normal', weight=400, stretch='normal', size='scalable')) = 10.05\n",
      "[2023-10-10 10:53:53] DEBUG:matplotlib.font_manager:findfont: score(FontEntry(fname='/System/Library/Fonts/Supplemental/SukhumvitSet.ttc', name='Sukhumvit Set', style='normal', variant='normal', weight=250, stretch='normal', size='scalable')) = 10.1925\n",
      "[2023-10-10 10:53:53] DEBUG:matplotlib.font_manager:findfont: score(FontEntry(fname='/System/Library/Fonts/Supplemental/Trebuchet MS.ttf', name='Trebuchet MS', style='normal', variant='normal', weight=400, stretch='normal', size='scalable')) = 10.05\n",
      "[2023-10-10 10:53:53] DEBUG:matplotlib.font_manager:findfont: score(FontEntry(fname='/System/Library/Fonts/Supplemental/Arial Unicode.ttf', name='Arial Unicode MS', style='normal', variant='normal', weight=400, stretch='normal', size='scalable')) = 10.05\n",
      "[2023-10-10 10:53:53] DEBUG:matplotlib.font_manager:findfont: score(FontEntry(fname='/System/Library/Fonts/Supplemental/STIXIntSmReg.otf', name='STIXIntegralsSm', style='normal', variant='normal', weight=400, stretch='normal', size='scalable')) = 10.05\n",
      "[2023-10-10 10:53:53] DEBUG:matplotlib.font_manager:findfont: score(FontEntry(fname='/System/Library/Fonts/Supplemental/NotoSansLydian-Regular.ttf', name='Noto Sans Lydian', style='normal', variant='normal', weight=400, stretch='normal', size='scalable')) = 10.05\n",
      "[2023-10-10 10:53:53] DEBUG:matplotlib.font_manager:findfont: score(FontEntry(fname='/System/Library/Fonts/Supplemental/NotoSansNewTaiLue-Regular.ttf', name='Noto Sans New Tai Lue', style='normal', variant='normal', weight=400, stretch='normal', size='scalable')) = 10.05\n",
      "[2023-10-10 10:53:53] DEBUG:matplotlib.font_manager:findfont: score(FontEntry(fname='/System/Library/Fonts/Supplemental/STIXIntUpBol.otf', name='STIXIntegralsUp', style='normal', variant='normal', weight=700, stretch='normal', size='scalable')) = 10.335\n",
      "[2023-10-10 10:53:53] DEBUG:matplotlib.font_manager:findfont: score(FontEntry(fname='/System/Library/Fonts/Supplemental/NotoSansMeeteiMayek-Regular.ttf', name='Noto Sans Meetei Mayek', style='normal', variant='normal', weight=400, stretch='normal', size='scalable')) = 10.05\n",
      "[2023-10-10 10:53:53] DEBUG:matplotlib.font_manager:findfont: score(FontEntry(fname='/System/Library/Fonts/Supplemental/Arial Narrow Italic.ttf', name='Arial Narrow', style='italic', variant='normal', weight=400, stretch='condensed', size='scalable')) = 11.25\n",
      "[2023-10-10 10:53:53] DEBUG:matplotlib.font_manager:findfont: score(FontEntry(fname='/System/Library/Fonts/Supplemental/Zapfino.ttf', name='Zapfino', style='normal', variant='normal', weight=400, stretch='normal', size='scalable')) = 10.05\n",
      "[2023-10-10 10:53:53] DEBUG:matplotlib.font_manager:findfont: score(FontEntry(fname='/System/Library/Fonts/NewYork.ttf', name='.New York', style='normal', variant='normal', weight=400, stretch='normal', size='scalable')) = 10.05\n",
      "[2023-10-10 10:53:53] DEBUG:matplotlib.font_manager:findfont: score(FontEntry(fname='/System/Library/Fonts/Supplemental/Georgia Bold.ttf', name='Georgia', style='normal', variant='normal', weight=700, stretch='normal', size='scalable')) = 10.335\n",
      "[2023-10-10 10:53:53] DEBUG:matplotlib.font_manager:findfont: score(FontEntry(fname='/System/Library/Fonts/STHeiti Medium.ttc', name='Heiti TC', style='normal', variant='normal', weight=400, stretch='normal', size='scalable')) = 10.05\n",
      "[2023-10-10 10:53:53] DEBUG:matplotlib.font_manager:findfont: score(FontEntry(fname='/System/Library/Fonts/Supplemental/NotoSansMahajani-Regular.ttf', name='Noto Sans Mahajani', style='normal', variant='normal', weight=400, stretch='normal', size='scalable')) = 10.05\n",
      "[2023-10-10 10:53:53] DEBUG:matplotlib.font_manager:findfont: score(FontEntry(fname='/System/Library/Fonts/Supplemental/NotoSansHanunoo-Regular.ttf', name='Noto Sans Hanunoo', style='normal', variant='normal', weight=400, stretch='normal', size='scalable')) = 10.05\n",
      "[2023-10-10 10:53:53] DEBUG:matplotlib.font_manager:findfont: score(FontEntry(fname='/System/Library/Fonts/Supplemental/SnellRoundhand.ttc', name='Snell Roundhand', style='normal', variant='normal', weight=500, stretch='normal', size='scalable')) = 10.145\n",
      "[2023-10-10 10:53:53] DEBUG:matplotlib.font_manager:findfont: score(FontEntry(fname='/System/Library/Fonts/Supplemental/DIN Condensed Bold.ttf', name='DIN Condensed', style='normal', variant='normal', weight=700, stretch='condensed', size='scalable')) = 10.535\n",
      "[2023-10-10 10:53:53] DEBUG:matplotlib.font_manager:findfont: score(FontEntry(fname='/System/Library/Fonts/Supplemental/Silom.ttf', name='Silom', style='normal', variant='normal', weight=400, stretch='normal', size='scalable')) = 10.05\n",
      "[2023-10-10 10:53:53] DEBUG:matplotlib.font_manager:findfont: score(FontEntry(fname='/System/Library/Fonts/Supplemental/AppleMyungjo.ttf', name='AppleMyungjo', style='normal', variant='normal', weight=400, stretch='normal', size='scalable')) = 10.05\n",
      "[2023-10-10 10:53:53] DEBUG:matplotlib.font_manager:findfont: score(FontEntry(fname='/System/Library/Fonts/Supplemental/PTSerifCaption.ttc', name='PT Serif Caption', style='normal', variant='normal', weight=400, stretch='normal', size='scalable')) = 10.05\n",
      "[2023-10-10 10:53:53] DEBUG:matplotlib.font_manager:findfont: score(FontEntry(fname='/System/Library/Fonts/Supplemental/NotoSansBassaVah-Regular.ttf', name='Noto Sans Bassa Vah', style='normal', variant='normal', weight=400, stretch='normal', size='scalable')) = 10.05\n",
      "[2023-10-10 10:53:53] DEBUG:matplotlib.font_manager:findfont: score(FontEntry(fname='/System/Library/Fonts/Supplemental/Kailasa.ttc', name='Kailasa', style='normal', variant='normal', weight=400, stretch='normal', size='scalable')) = 10.05\n",
      "[2023-10-10 10:53:53] DEBUG:matplotlib.font_manager:findfont: score(FontEntry(fname='/System/Library/Fonts/Supplemental/Ayuthaya.ttf', name='Ayuthaya', style='normal', variant='normal', weight=400, stretch='normal', size='scalable')) = 10.05\n",
      "[2023-10-10 10:53:53] DEBUG:matplotlib.font_manager:findfont: score(FontEntry(fname='/System/Library/Fonts/Supplemental/NotoSansCypriot-Regular.ttf', name='Noto Sans Cypriot', style='normal', variant='normal', weight=400, stretch='normal', size='scalable')) = 10.05\n",
      "[2023-10-10 10:53:53] DEBUG:matplotlib.font_manager:findfont: score(FontEntry(fname='/System/Library/Fonts/Supplemental/Kannada MN.ttc', name='Kannada MN', style='normal', variant='normal', weight=400, stretch='normal', size='scalable')) = 10.05\n",
      "[2023-10-10 10:53:53] DEBUG:matplotlib.font_manager:findfont: score(FontEntry(fname='/System/Library/Fonts/Supplemental/NotoSansCoptic-Regular.ttf', name='Noto Sans Coptic', style='normal', variant='normal', weight=400, stretch='normal', size='scalable')) = 10.05\n",
      "[2023-10-10 10:53:53] DEBUG:matplotlib.font_manager:findfont: score(FontEntry(fname='/System/Library/Fonts/Supplemental/NotoSansKhudawadi-Regular.ttf', name='Noto Sans Khudawadi', style='normal', variant='normal', weight=400, stretch='normal', size='scalable')) = 10.05\n",
      "[2023-10-10 10:53:53] DEBUG:matplotlib.font_manager:findfont: score(FontEntry(fname='/System/Library/Fonts/Supplemental/NotoSansOgham-Regular.ttf', name='Noto Sans Ogham', style='normal', variant='normal', weight=400, stretch='normal', size='scalable')) = 10.05\n",
      "[2023-10-10 10:53:53] DEBUG:matplotlib.font_manager:findfont: score(FontEntry(fname='/System/Library/Fonts/Supplemental/NotoSansHanifiRohingya-Regular.ttf', name='Noto Sans Hanifi Rohingya', style='normal', variant='normal', weight=400, stretch='normal', size='scalable')) = 10.05\n",
      "[2023-10-10 10:53:53] DEBUG:matplotlib.font_manager:findfont: score(FontEntry(fname='/System/Library/Fonts/Avenir.ttc', name='Avenir', style='normal', variant='normal', weight=400, stretch='normal', size='scalable')) = 10.05\n",
      "[2023-10-10 10:53:53] DEBUG:matplotlib.font_manager:findfont: score(FontEntry(fname='/System/Library/Fonts/Supplemental/Mishafi.ttf', name='Mishafi', style='normal', variant='normal', weight=400, stretch='normal', size='scalable')) = 10.05\n",
      "[2023-10-10 10:53:53] DEBUG:matplotlib.font_manager:findfont: score(FontEntry(fname='/System/Library/Fonts/MuktaMahee.ttc', name='Mukta Mahee', style='normal', variant='normal', weight=400, stretch='normal', size='scalable')) = 10.05\n",
      "[2023-10-10 10:53:53] DEBUG:matplotlib.font_manager:findfont: score(FontEntry(fname='/System/Library/Fonts/Supplemental/NotoSansMro-Regular.ttf', name='Noto Sans Mro', style='normal', variant='normal', weight=400, stretch='normal', size='scalable')) = 10.05\n",
      "[2023-10-10 10:53:53] DEBUG:matplotlib.font_manager:findfont: score(FontEntry(fname='/System/Library/Fonts/Supplemental/Malayalam Sangam MN.ttc', name='Malayalam Sangam MN', style='normal', variant='normal', weight=400, stretch='normal', size='scalable')) = 10.05\n",
      "[2023-10-10 10:53:53] DEBUG:matplotlib.font_manager:findfont: score(FontEntry(fname='/System/Library/Fonts/Supplemental/STIXGeneralBol.otf', name='STIXGeneral', style='normal', variant='normal', weight=700, stretch='normal', size='scalable')) = 10.335\n",
      "[2023-10-10 10:53:53] DEBUG:matplotlib.font_manager:findfont: score(FontEntry(fname='/System/Library/Fonts/Supplemental/STIXIntUpSmBol.otf', name='STIXIntegralsUpSm', style='normal', variant='normal', weight=700, stretch='normal', size='scalable')) = 10.335\n",
      "[2023-10-10 10:53:53] DEBUG:matplotlib.font_manager:findfont: score(FontEntry(fname='/System/Library/Fonts/Supplemental/Songti.ttc', name='Songti SC', style='normal', variant='normal', weight=900, stretch='normal', size='scalable')) = 10.525\n",
      "[2023-10-10 10:53:53] DEBUG:matplotlib.font_manager:findfont: score(FontEntry(fname='/System/Library/Fonts/Supplemental/Krungthep.ttf', name='Krungthep', style='normal', variant='normal', weight=400, stretch='normal', size='scalable')) = 10.05\n",
      "[2023-10-10 10:53:53] DEBUG:matplotlib.font_manager:findfont: score(FontEntry(fname='/System/Library/Fonts/ヒラギノ角ゴシック W8.ttc', name='Hiragino Sans', style='normal', variant='normal', weight=800, stretch='normal', size='scalable')) = 10.43\n",
      "[2023-10-10 10:53:53] DEBUG:matplotlib.font_manager:findfont: score(FontEntry(fname='/System/Library/Fonts/Supplemental/Academy Engraved LET Fonts.ttf', name='Academy Engraved LET', style='normal', variant='normal', weight=400, stretch='normal', size='scalable')) = 10.05\n",
      "[2023-10-10 10:53:53] DEBUG:matplotlib.font_manager:findfont: score(FontEntry(fname='/System/Library/Fonts/Supplemental/NotoSansOsmanya-Regular.ttf', name='Noto Sans Osmanya', style='normal', variant='normal', weight=400, stretch='normal', size='scalable')) = 10.05\n",
      "[2023-10-10 10:53:53] DEBUG:matplotlib.font_manager:findfont: score(FontEntry(fname='/System/Library/Fonts/Supplemental/Sinhala MN.ttc', name='Sinhala MN', style='normal', variant='normal', weight=400, stretch='normal', size='scalable')) = 10.05\n",
      "[2023-10-10 10:53:53] DEBUG:matplotlib.font_manager:findfont: score(FontEntry(fname='/System/Library/Fonts/Supplemental/Arial Narrow Bold.ttf', name='Arial Narrow', style='normal', variant='normal', weight=700, stretch='condensed', size='scalable')) = 10.535\n",
      "[2023-10-10 10:53:53] DEBUG:matplotlib.font_manager:findfont: score(FontEntry(fname='/System/Library/Fonts/Supplemental/NotoSansOldSouthArabian-Regular.ttf', name='Noto Sans Old South Arabian', style='normal', variant='normal', weight=400, stretch='normal', size='scalable')) = 10.05\n",
      "[2023-10-10 10:53:53] DEBUG:matplotlib.font_manager:findfont: score(FontEntry(fname='/System/Library/Fonts/Supplemental/Mshtakan.ttc', name='Mshtakan', style='normal', variant='normal', weight=400, stretch='normal', size='scalable')) = 10.05\n",
      "[2023-10-10 10:53:53] DEBUG:matplotlib.font_manager:findfont: score(FontEntry(fname='/System/Library/Fonts/Supplemental/Corsiva.ttc', name='Corsiva Hebrew', style='normal', variant='normal', weight=400, stretch='normal', size='scalable')) = 10.05\n",
      "[2023-10-10 10:53:53] DEBUG:matplotlib.font_manager:findfont: score(FontEntry(fname='/System/Library/Fonts/Supplemental/Microsoft Sans Serif.ttf', name='Microsoft Sans Serif', style='normal', variant='normal', weight=400, stretch='normal', size='scalable')) = 10.05\n",
      "[2023-10-10 10:53:53] DEBUG:matplotlib.font_manager:findfont: score(FontEntry(fname='/System/Library/Fonts/Supplemental/NotoSansHatran-Regular.ttf', name='Noto Sans Hatran', style='normal', variant='normal', weight=400, stretch='normal', size='scalable')) = 10.05\n",
      "[2023-10-10 10:53:53] DEBUG:matplotlib.font_manager:findfont: score(FontEntry(fname='/System/Library/Fonts/Supplemental/Malayalam MN.ttc', name='Malayalam MN', style='normal', variant='normal', weight=400, stretch='normal', size='scalable')) = 10.05\n",
      "[2023-10-10 10:53:53] DEBUG:matplotlib.font_manager:findfont: score(FontEntry(fname='/System/Library/Fonts/Supplemental/NotoSansNKo-Regular.ttf', name='Noto Sans NKo', style='normal', variant='normal', weight=400, stretch='normal', size='scalable')) = 10.05\n",
      "[2023-10-10 10:53:53] DEBUG:matplotlib.font_manager:findfont: score(FontEntry(fname='/System/Library/Fonts/Supplemental/NotoSansKaithi-Regular.ttf', name='Noto Sans Kaithi', style='normal', variant='normal', weight=400, stretch='normal', size='scalable')) = 10.05\n",
      "[2023-10-10 10:53:53] DEBUG:matplotlib.font_manager:findfont: score(FontEntry(fname='/System/Library/Fonts/Supplemental/Diwan Thuluth.ttf', name='Diwan Thuluth', style='normal', variant='normal', weight=400, stretch='normal', size='scalable')) = 10.05\n",
      "[2023-10-10 10:53:53] DEBUG:matplotlib.font_manager:findfont: score(FontEntry(fname='/System/Library/Fonts/Supplemental/Courier New.ttf', name='Courier New', style='normal', variant='normal', weight=400, stretch='normal', size='scalable')) = 10.05\n",
      "[2023-10-10 10:53:53] DEBUG:matplotlib.font_manager:findfont: score(FontEntry(fname='/System/Library/Fonts/Supplemental/STIXNonUniIta.otf', name='STIXNonUnicode', style='italic', variant='normal', weight=400, stretch='normal', size='scalable')) = 11.05\n",
      "[2023-10-10 10:53:53] DEBUG:matplotlib.font_manager:findfont: score(FontEntry(fname='/System/Library/Fonts/ZapfDingbats.ttf', name='Zapf Dingbats', style='normal', variant='normal', weight=400, stretch='normal', size='scalable')) = 10.05\n",
      "[2023-10-10 10:53:53] DEBUG:matplotlib.font_manager:findfont: score(FontEntry(fname='/System/Library/Fonts/Supplemental/NotoSansBrahmi-Regular.ttf', name='Noto Sans Brahmi', style='normal', variant='normal', weight=400, stretch='normal', size='scalable')) = 10.05\n",
      "[2023-10-10 10:53:53] DEBUG:matplotlib.font_manager:findfont: score(FontEntry(fname='/System/Library/Fonts/Supplemental/Bodoni 72 OS.ttc', name='Bodoni 72 Oldstyle', style='normal', variant='normal', weight=400, stretch='normal', size='scalable')) = 10.05\n",
      "[2023-10-10 10:53:53] DEBUG:matplotlib.font_manager:findfont: score(FontEntry(fname='/System/Library/Fonts/Supplemental/NotoSansSylotiNagri-Regular.ttf', name='Noto Sans Syloti Nagri', style='normal', variant='normal', weight=400, stretch='normal', size='scalable')) = 10.05\n",
      "[2023-10-10 10:53:53] DEBUG:matplotlib.font_manager:findfont: score(FontEntry(fname='/System/Library/Fonts/Supplemental/Bodoni Ornaments.ttf', name='Bodoni Ornaments', style='normal', variant='normal', weight=400, stretch='normal', size='scalable')) = 10.05\n",
      "[2023-10-10 10:53:53] DEBUG:matplotlib.font_manager:findfont: score(FontEntry(fname='/System/Library/Fonts/Supplemental/NotoSansNewa-Regular.ttf', name='Noto Sans Newa', style='normal', variant='normal', weight=400, stretch='normal', size='scalable')) = 10.05\n",
      "[2023-10-10 10:53:53] DEBUG:matplotlib.font_manager:findfont: score(FontEntry(fname='/System/Library/Fonts/Supplemental/STIXGeneral.otf', name='STIXGeneral', style='normal', variant='normal', weight=400, stretch='normal', size='scalable')) = 10.05\n",
      "[2023-10-10 10:53:53] DEBUG:matplotlib.font_manager:findfont: score(FontEntry(fname='/System/Library/Fonts/Supplemental/Bangla MN.ttc', name='Bangla MN', style='normal', variant='normal', weight=400, stretch='normal', size='scalable')) = 10.05\n",
      "[2023-10-10 10:53:53] DEBUG:matplotlib.font_manager:findfont: score(FontEntry(fname='/System/Library/Fonts/Supplemental/NotoSansCham-Regular.ttf', name='Noto Sans Cham', style='normal', variant='normal', weight=400, stretch='normal', size='scalable')) = 10.05\n",
      "[2023-10-10 10:53:53] DEBUG:matplotlib.font_manager:findfont: score(FontEntry(fname='/System/Library/Fonts/ヒラギノ角ゴシック W1.ttc', name='Hiragino Sans', style='normal', variant='normal', weight=200, stretch='normal', size='scalable')) = 10.24\n",
      "[2023-10-10 10:53:53] DEBUG:matplotlib.font_manager:findfont: score(FontEntry(fname='/System/Library/Fonts/Supplemental/NotoSansBatak-Regular.ttf', name='Noto Sans Batak', style='normal', variant='normal', weight=400, stretch='normal', size='scalable')) = 10.05\n",
      "[2023-10-10 10:53:53] DEBUG:matplotlib.font_manager:findfont: score(FontEntry(fname='/System/Library/Fonts/Apple Symbols.ttf', name='Apple Symbols', style='normal', variant='normal', weight=400, stretch='normal', size='scalable')) = 10.05\n",
      "[2023-10-10 10:53:53] DEBUG:matplotlib.font_manager:findfont: score(FontEntry(fname='/System/Library/Fonts/NewYorkItalic.ttf', name='.New York', style='italic', variant='normal', weight=400, stretch='normal', size='scalable')) = 11.05\n",
      "[2023-10-10 10:53:53] DEBUG:matplotlib.font_manager:findfont: score(FontEntry(fname='/System/Library/Fonts/ヒラギノ角ゴシック W2.ttc', name='Hiragino Sans', style='normal', variant='normal', weight=250, stretch='normal', size='scalable')) = 10.1925\n",
      "[2023-10-10 10:53:53] DEBUG:matplotlib.font_manager:findfont: score(FontEntry(fname='/System/Library/Fonts/Supplemental/Verdana Bold Italic.ttf', name='Verdana', style='italic', variant='normal', weight=700, stretch='normal', size='scalable')) = 4.971363636363637\n",
      "[2023-10-10 10:53:53] DEBUG:matplotlib.font_manager:findfont: score(FontEntry(fname='/System/Library/Fonts/SFCompactItalic.ttf', name='.SF Compact', style='italic', variant='normal', weight=1000, stretch='normal', size='scalable')) = 11.62\n",
      "[2023-10-10 10:53:53] DEBUG:matplotlib.font_manager:findfont: score(FontEntry(fname='/System/Library/Fonts/Supplemental/Galvji.ttc', name='Galvji', style='normal', variant='normal', weight=400, stretch='normal', size='scalable')) = 10.05\n",
      "[2023-10-10 10:53:53] DEBUG:matplotlib.font_manager:findfont: score(FontEntry(fname='/System/Library/Fonts/Apple Braille Pinpoint 6 Dot.ttf', name='Apple Braille', style='normal', variant='normal', weight=400, stretch='normal', size='scalable')) = 10.05\n",
      "[2023-10-10 10:53:53] DEBUG:matplotlib.font_manager:findfont: score(FontEntry(fname='/System/Library/Fonts/Supplemental/NotoSansVai-Regular.ttf', name='Noto Sans Vai', style='normal', variant='normal', weight=400, stretch='normal', size='scalable')) = 10.05\n",
      "[2023-10-10 10:53:53] DEBUG:matplotlib.font_manager:findfont: score(FontEntry(fname='/System/Library/Fonts/Apple Braille.ttf', name='Apple Braille', style='normal', variant='normal', weight=400, stretch='normal', size='scalable')) = 10.05\n",
      "[2023-10-10 10:53:53] DEBUG:matplotlib.font_manager:findfont: score(FontEntry(fname='/System/Library/Fonts/Supplemental/Myanmar MN.ttc', name='Myanmar MN', style='normal', variant='normal', weight=400, stretch='normal', size='scalable')) = 10.05\n",
      "[2023-10-10 10:53:53] DEBUG:matplotlib.font_manager:findfont: score(FontEntry(fname='/System/Library/Fonts/Supplemental/DIN Alternate Bold.ttf', name='DIN Alternate', style='normal', variant='normal', weight=700, stretch='normal', size='scalable')) = 10.335\n",
      "[2023-10-10 10:53:53] DEBUG:matplotlib.font_manager:findfont: score(FontEntry(fname='/System/Library/Fonts/Supplemental/Comic Sans MS Bold.ttf', name='Comic Sans MS', style='normal', variant='normal', weight=700, stretch='normal', size='scalable')) = 10.335\n",
      "[2023-10-10 10:53:53] DEBUG:matplotlib.font_manager:findfont: score(FontEntry(fname='/System/Library/Fonts/Supplemental/NotoSansSamaritan-Regular.ttf', name='Noto Sans Samaritan', style='normal', variant='normal', weight=400, stretch='normal', size='scalable')) = 10.05\n",
      "[2023-10-10 10:53:53] DEBUG:matplotlib.font_manager:findfont: score(FontEntry(fname='/System/Library/Fonts/Supplemental/Athelas.ttc', name='Athelas', style='normal', variant='normal', weight=400, stretch='normal', size='scalable')) = 10.05\n",
      "[2023-10-10 10:53:53] DEBUG:matplotlib.font_manager:findfont: score(FontEntry(fname='/System/Library/Fonts/Supplemental/EuphemiaCAS.ttc', name='Euphemia UCAS', style='normal', variant='normal', weight=400, stretch='normal', size='scalable')) = 10.05\n",
      "[2023-10-10 10:53:53] DEBUG:matplotlib.font_manager:findfont: score(FontEntry(fname='/System/Library/Fonts/Supplemental/NotoSansPahawhHmong-Regular.ttf', name='Noto Sans Pahawh Hmong', style='normal', variant='normal', weight=400, stretch='normal', size='scalable')) = 10.05\n",
      "[2023-10-10 10:53:53] DEBUG:matplotlib.font_manager:findfont: score(FontEntry(fname='/System/Library/Fonts/NotoSansMyanmar.ttc', name='Noto Sans Myanmar', style='normal', variant='normal', weight=900, stretch='normal', size='scalable')) = 10.525\n",
      "[2023-10-10 10:53:53] DEBUG:matplotlib.font_manager:findfont: score(FontEntry(fname='/System/Library/Fonts/Supplemental/SignPainter.ttc', name='SignPainter', style='normal', variant='normal', weight=400, stretch='normal', size='scalable')) = 10.05\n",
      "[2023-10-10 10:53:53] DEBUG:matplotlib.font_manager:findfont: score(FontEntry(fname='/System/Library/Fonts/Supplemental/Luminari.ttf', name='Luminari', style='normal', variant='normal', weight=400, stretch='normal', size='scalable')) = 10.05\n",
      "[2023-10-10 10:53:53] DEBUG:matplotlib.font_manager:findfont: score(FontEntry(fname='/System/Library/Fonts/Supplemental/Arial Narrow Bold Italic.ttf', name='Arial Narrow', style='italic', variant='normal', weight=700, stretch='condensed', size='scalable')) = 11.535\n",
      "[2023-10-10 10:53:53] DEBUG:matplotlib.font_manager:findfont: score(FontEntry(fname='/System/Library/Fonts/Supplemental/ChalkboardSE.ttc', name='Chalkboard SE', style='normal', variant='normal', weight=400, stretch='normal', size='scalable')) = 10.05\n",
      "[2023-10-10 10:53:53] DEBUG:matplotlib.font_manager:findfont: score(FontEntry(fname='/System/Library/Fonts/Supplemental/Hoefler Text.ttc', name='Hoefler Text', style='normal', variant='normal', weight=400, stretch='normal', size='scalable')) = 10.05\n",
      "[2023-10-10 10:53:53] DEBUG:matplotlib.font_manager:findfont: score(FontEntry(fname='/System/Library/Fonts/Supplemental/Bodoni 72.ttc', name='Bodoni 72', style='normal', variant='normal', weight=400, stretch='normal', size='scalable')) = 10.05\n",
      "[2023-10-10 10:53:53] DEBUG:matplotlib.font_manager:findfont: score(FontEntry(fname='/System/Library/Fonts/Supplemental/NotoSansMongolian-Regular.ttf', name='Noto Sans Mongolian', style='normal', variant='normal', weight=400, stretch='normal', size='scalable')) = 10.05\n",
      "[2023-10-10 10:53:53] DEBUG:matplotlib.font_manager:findfont: score(FontEntry(fname='/System/Library/Fonts/Supplemental/NotoSansLinearB-Regular.ttf', name='Noto Sans Linear B', style='normal', variant='normal', weight=400, stretch='normal', size='scalable')) = 10.05\n",
      "[2023-10-10 10:53:53] DEBUG:matplotlib.font_manager:findfont: score(FontEntry(fname='/System/Library/Fonts/Supplemental/AmericanTypewriter.ttc', name='American Typewriter', style='normal', variant='normal', weight=400, stretch='normal', size='scalable')) = 10.05\n",
      "[2023-10-10 10:53:53] DEBUG:matplotlib.font_manager:findfont: score(FontEntry(fname='/System/Library/Fonts/Supplemental/Georgia.ttf', name='Georgia', style='normal', variant='normal', weight=400, stretch='normal', size='scalable')) = 10.05\n",
      "[2023-10-10 10:53:53] DEBUG:matplotlib.font_manager:findfont: score(FontEntry(fname='/System/Library/Fonts/Supplemental/STIXIntUpReg.otf', name='STIXIntegralsUp', style='normal', variant='normal', weight=400, stretch='normal', size='scalable')) = 10.05\n",
      "[2023-10-10 10:53:53] DEBUG:matplotlib.font_manager:findfont: score(FontEntry(fname='/System/Library/Fonts/Supplemental/PTSans.ttc', name='PT Sans', style='normal', variant='normal', weight=400, stretch='normal', size='scalable')) = 10.05\n",
      "[2023-10-10 10:53:53] DEBUG:matplotlib.font_manager:findfont: score(FontEntry(fname='/System/Library/Fonts/MarkerFelt.ttc', name='Marker Felt', style='normal', variant='normal', weight=400, stretch='normal', size='scalable')) = 10.05\n",
      "[2023-10-10 10:53:53] DEBUG:matplotlib.font_manager:findfont: score(FontEntry(fname='/System/Library/Fonts/Supplemental/NotoSansAdlam-Regular.ttf', name='Noto Sans Adlam', style='normal', variant='normal', weight=400, stretch='normal', size='scalable')) = 10.05\n",
      "[2023-10-10 10:53:53] DEBUG:matplotlib.font_manager:findfont: score(FontEntry(fname='/System/Library/Fonts/Noteworthy.ttc', name='Noteworthy', style='normal', variant='normal', weight=300, stretch='normal', size='scalable')) = 10.145\n",
      "[2023-10-10 10:53:53] DEBUG:matplotlib.font_manager:findfont: score(FontEntry(fname='/System/Library/Fonts/Supplemental/Comic Sans MS.ttf', name='Comic Sans MS', style='normal', variant='normal', weight=400, stretch='normal', size='scalable')) = 10.05\n",
      "[2023-10-10 10:53:53] DEBUG:matplotlib.font_manager:findfont: score(FontEntry(fname='/System/Library/Fonts/Supplemental/PTMono.ttc', name='PT Mono', style='normal', variant='normal', weight=700, stretch='normal', size='scalable')) = 10.335\n",
      "[2023-10-10 10:53:53] DEBUG:matplotlib.font_manager:findfont: score(FontEntry(fname='/System/Library/Fonts/Supplemental/NotoSansSharada-Regular.ttf', name='Noto Sans Sharada', style='normal', variant='normal', weight=400, stretch='normal', size='scalable')) = 10.05\n",
      "[2023-10-10 10:53:53] DEBUG:matplotlib.font_manager:findfont: score(FontEntry(fname='/System/Library/Fonts/Supplemental/NotoSansGlagolitic-Regular.ttf', name='Noto Sans Glagolitic', style='normal', variant='normal', weight=400, stretch='normal', size='scalable')) = 10.05\n",
      "[2023-10-10 10:53:53] DEBUG:matplotlib.font_manager:findfont: score(FontEntry(fname='/System/Library/Fonts/Supplemental/NotoSansKharoshthi-Regular.ttf', name='Noto Sans Kharoshthi', style='normal', variant='normal', weight=400, stretch='normal', size='scalable')) = 10.05\n",
      "[2023-10-10 10:53:53] DEBUG:matplotlib.font_manager:findfont: score(FontEntry(fname='/System/Library/Fonts/KohinoorTelugu.ttc', name='Kohinoor Telugu', style='normal', variant='normal', weight=400, stretch='normal', size='scalable')) = 10.05\n",
      "[2023-10-10 10:53:53] DEBUG:matplotlib.font_manager:findfont: score(FontEntry(fname='/System/Library/Fonts/Supplemental/Futura.ttc', name='Futura', style='normal', variant='normal', weight=500, stretch='normal', size='scalable')) = 10.145\n",
      "[2023-10-10 10:53:53] DEBUG:matplotlib.font_manager:findfont: score(FontEntry(fname='/System/Library/Fonts/Supplemental/Telugu MN.ttc', name='Telugu MN', style='normal', variant='normal', weight=400, stretch='normal', size='scalable')) = 10.05\n",
      "[2023-10-10 10:53:53] DEBUG:matplotlib.font_manager:findfont: score(FontEntry(fname='/System/Library/Fonts/Supplemental/Courier New Italic.ttf', name='Courier New', style='italic', variant='normal', weight=400, stretch='normal', size='scalable')) = 11.05\n",
      "[2023-10-10 10:53:53] DEBUG:matplotlib.font_manager:findfont: score(FontEntry(fname='/System/Library/Fonts/Supplemental/Mishafi Gold.ttf', name='Mishafi Gold', style='normal', variant='normal', weight=400, stretch='normal', size='scalable')) = 10.05\n",
      "[2023-10-10 10:53:53] DEBUG:matplotlib.font_manager:findfont: score(FontEntry(fname='/System/Library/Fonts/Supplemental/NotoSansTagalog-Regular.ttf', name='Noto Sans Tagalog', style='normal', variant='normal', weight=400, stretch='normal', size='scalable')) = 10.05\n",
      "[2023-10-10 10:53:53] DEBUG:matplotlib.font_manager:findfont: score(FontEntry(fname='/System/Library/Fonts/Supplemental/STIXIntUpDReg.otf', name='STIXIntegralsUpD', style='normal', variant='normal', weight=400, stretch='normal', size='scalable')) = 10.05\n",
      "[2023-10-10 10:53:53] DEBUG:matplotlib.font_manager:findfont: score(FontEntry(fname='/System/Library/Fonts/Supplemental/NotoSansUgaritic-Regular.ttf', name='Noto Sans Ugaritic', style='normal', variant='normal', weight=400, stretch='normal', size='scalable')) = 10.05\n",
      "[2023-10-10 10:53:53] DEBUG:matplotlib.font_manager:findfont: score(FontEntry(fname='/System/Library/Fonts/Supplemental/NotoSansLisu-Regular.ttf', name='Noto Sans Lisu', style='normal', variant='normal', weight=400, stretch='normal', size='scalable')) = 10.05\n",
      "[2023-10-10 10:53:53] DEBUG:matplotlib.font_manager:findfont: score(FontEntry(fname='/System/Library/Fonts/Supplemental/NotoSansSyriac-Regular.ttf', name='Noto Sans Syriac', style='normal', variant='normal', weight=400, stretch='normal', size='scalable')) = 10.05\n",
      "[2023-10-10 10:53:53] DEBUG:matplotlib.font_manager:findfont: score(FontEntry(fname='/System/Library/Fonts/Supplemental/Kefa.ttc', name='Kefa', style='normal', variant='normal', weight=400, stretch='normal', size='scalable')) = 10.05\n",
      "[2023-10-10 10:53:53] DEBUG:matplotlib.font_manager:findfont: score(FontEntry(fname='/System/Library/Fonts/Supplemental/NotoSansTaiTham-Regular.ttf', name='Noto Sans Tai Tham', style='normal', variant='normal', weight=400, stretch='normal', size='scalable')) = 10.05\n",
      "[2023-10-10 10:53:53] DEBUG:matplotlib.font_manager:findfont: score(FontEntry(fname='/System/Library/Fonts/Supplemental/NotoSansShavian-Regular.ttf', name='Noto Sans Shavian', style='normal', variant='normal', weight=400, stretch='normal', size='scalable')) = 10.05\n",
      "[2023-10-10 10:53:53] DEBUG:matplotlib.font_manager:findfont: score(FontEntry(fname='/System/Library/Fonts/Supplemental/Farisi.ttf', name='Farisi', style='normal', variant='normal', weight=400, stretch='normal', size='scalable')) = 10.05\n",
      "[2023-10-10 10:53:53] DEBUG:matplotlib.font_manager:findfont: score(FontEntry(fname='/System/Library/Fonts/Supplemental/NotoSansSaurashtra-Regular.ttf', name='Noto Sans Saurashtra', style='normal', variant='normal', weight=400, stretch='normal', size='scalable')) = 10.05\n",
      "[2023-10-10 10:53:53] DEBUG:matplotlib.font_manager:findfont: score(FontEntry(fname='/System/Library/Fonts/Supplemental/Cochin.ttc', name='Cochin', style='normal', variant='normal', weight=500, stretch='normal', size='scalable')) = 10.145\n",
      "[2023-10-10 10:53:53] DEBUG:matplotlib.font_manager:findfont: score(FontEntry(fname='/System/Library/Fonts/Supplemental/Myanmar Sangam MN.ttc', name='Myanmar Sangam MN', style='normal', variant='normal', weight=400, stretch='normal', size='scalable')) = 10.05\n",
      "[2023-10-10 10:53:53] DEBUG:matplotlib.font_manager:findfont: score(FontEntry(fname='/System/Library/Fonts/Supplemental/Trebuchet MS Bold Italic.ttf', name='Trebuchet MS', style='italic', variant='normal', weight=700, stretch='normal', size='scalable')) = 11.335\n",
      "[2023-10-10 10:53:53] DEBUG:matplotlib.font_manager:findfont: score(FontEntry(fname='/System/Library/Fonts/Supplemental/NewPeninimMT.ttc', name='New Peninim MT', style='normal', variant='normal', weight=400, stretch='normal', size='scalable')) = 10.05\n",
      "[2023-10-10 10:53:53] DEBUG:matplotlib.font_manager:findfont: score(FontEntry(fname='/System/Library/Fonts/Supplemental/Wingdings.ttf', name='Wingdings', style='normal', variant='normal', weight=400, stretch='normal', size='scalable')) = 10.05\n",
      "[2023-10-10 10:53:53] DEBUG:matplotlib.font_manager:findfont: score(FontEntry(fname='/System/Library/Fonts/Supplemental/Sana.ttc', name='Sana', style='normal', variant='normal', weight=400, stretch='normal', size='scalable')) = 10.05\n",
      "[2023-10-10 10:53:53] DEBUG:matplotlib.font_manager:findfont: score(FontEntry(fname='/System/Library/Fonts/Supplemental/NotoSansWarangCiti-Regular.ttf', name='Noto Sans Warang Citi', style='normal', variant='normal', weight=400, stretch='normal', size='scalable')) = 10.05\n",
      "[2023-10-10 10:53:53] DEBUG:matplotlib.font_manager:findfont: score(FontEntry(fname='/System/Library/Fonts/Supplemental/NotoSansNabataean-Regular.ttf', name='Noto Sans Nabataean', style='normal', variant='normal', weight=400, stretch='normal', size='scalable')) = 10.05\n",
      "[2023-10-10 10:53:53] DEBUG:matplotlib.font_manager:findfont: score(FontEntry(fname='/System/Library/Fonts/Supplemental/Lao Sangam MN.ttf', name='Lao Sangam MN', style='normal', variant='normal', weight=400, stretch='normal', size='scalable')) = 10.05\n",
      "[2023-10-10 10:53:53] DEBUG:matplotlib.font_manager:findfont: score(FontEntry(fname='/System/Library/Fonts/AquaKana.ttc', name='.Aqua Kana', style='normal', variant='normal', weight=300, stretch='normal', size='scalable')) = 10.145\n",
      "[2023-10-10 10:53:53] DEBUG:matplotlib.font_manager:findfont: score(FontEntry(fname='/System/Library/Fonts/ArabicUIDisplay.ttc', name='.Arabic UI Display', style='normal', variant='normal', weight=900, stretch='normal', size='scalable')) = 10.525\n",
      "[2023-10-10 10:53:53] DEBUG:matplotlib.font_manager:findfont: score(FontEntry(fname='/System/Library/Fonts/Supplemental/NotoSansLycian-Regular.ttf', name='Noto Sans Lycian', style='normal', variant='normal', weight=400, stretch='normal', size='scalable')) = 10.05\n",
      "[2023-10-10 10:53:53] DEBUG:matplotlib.font_manager:findfont: score(FontEntry(fname='/System/Library/Fonts/Supplemental/Gurmukhi.ttf', name='Gurmukhi MT', style='normal', variant='normal', weight=500, stretch='normal', size='scalable')) = 10.145\n",
      "[2023-10-10 10:53:53] DEBUG:matplotlib.font_manager:findfont: score(FontEntry(fname='/System/Library/Fonts/Supplemental/NotoSansLepcha-Regular.ttf', name='Noto Sans Lepcha', style='normal', variant='normal', weight=400, stretch='normal', size='scalable')) = 10.05\n",
      "[2023-10-10 10:53:53] DEBUG:matplotlib.font_manager:findfont: score(FontEntry(fname='/System/Library/Fonts/Supplemental/Courier New Bold Italic.ttf', name='Courier New', style='italic', variant='normal', weight=700, stretch='normal', size='scalable')) = 11.335\n",
      "[2023-10-10 10:53:53] DEBUG:matplotlib.font_manager:findfont: score(FontEntry(fname='/System/Library/Fonts/Supplemental/NotoSansTaiLe-Regular.ttf', name='Noto Sans Tai Le', style='normal', variant='normal', weight=400, stretch='normal', size='scalable')) = 10.05\n",
      "[2023-10-10 10:53:53] DEBUG:matplotlib.font_manager:findfont: score(FontEntry(fname='/System/Library/Fonts/Supplemental/Tahoma Bold.ttf', name='Tahoma', style='normal', variant='normal', weight=700, stretch='normal', size='scalable')) = 10.335\n",
      "[2023-10-10 10:53:53] DEBUG:matplotlib.font_manager:findfont: score(FontEntry(fname='/System/Library/Fonts/Supplemental/Copperplate.ttc', name='Copperplate', style='normal', variant='normal', weight=400, stretch='normal', size='scalable')) = 10.05\n",
      "[2023-10-10 10:53:53] DEBUG:matplotlib.font_manager:findfont: score(FontEntry(fname='/System/Library/Fonts/Supplemental/NotoSansTakri-Regular.ttf', name='Noto Sans Takri', style='normal', variant='normal', weight=400, stretch='normal', size='scalable')) = 10.05\n",
      "[2023-10-10 10:53:53] DEBUG:matplotlib.font_manager:findfont: score(FontEntry(fname='/System/Library/Fonts/Optima.ttc', name='Optima', style='normal', variant='normal', weight=400, stretch='normal', size='scalable')) = 10.05\n",
      "[2023-10-10 10:53:53] DEBUG:matplotlib.font_manager:findfont: score(FontEntry(fname='/System/Library/Fonts/Supplemental/NotoSansAvestan-Regular.ttf', name='Noto Sans Avestan', style='normal', variant='normal', weight=400, stretch='normal', size='scalable')) = 10.05\n",
      "[2023-10-10 10:53:53] DEBUG:matplotlib.font_manager:findfont: score(FontEntry(fname='/System/Library/Fonts/Supplemental/Courier New Bold.ttf', name='Courier New', style='normal', variant='normal', weight=700, stretch='normal', size='scalable')) = 10.335\n",
      "[2023-10-10 10:53:53] DEBUG:matplotlib.font_manager:findfont: score(FontEntry(fname='/System/Library/Fonts/Supplemental/Charter.ttc', name='Charter', style='normal', variant='normal', weight=400, stretch='normal', size='scalable')) = 10.05\n",
      "[2023-10-10 10:53:53] DEBUG:matplotlib.font_manager:findfont: score(FontEntry(fname='/System/Library/Fonts/Supplemental/STIXNonUni.otf', name='STIXNonUnicode', style='normal', variant='normal', weight=400, stretch='normal', size='scalable')) = 10.05\n",
      "[2023-10-10 10:53:53] DEBUG:matplotlib.font_manager:findfont: score(FontEntry(fname='/System/Library/Fonts/NotoNastaliq.ttc', name='Noto Nastaliq Urdu', style='normal', variant='normal', weight=400, stretch='normal', size='scalable')) = 10.05\n",
      "[2023-10-10 10:53:53] DEBUG:matplotlib.font_manager:findfont: score(FontEntry(fname='/System/Library/Fonts/Supplemental/Tahoma.ttf', name='Tahoma', style='normal', variant='normal', weight=400, stretch='normal', size='scalable')) = 10.05\n",
      "[2023-10-10 10:53:53] DEBUG:matplotlib.font_manager:findfont: score(FontEntry(fname='/System/Library/Fonts/Supplemental/NotoSansSundanese-Regular.ttf', name='Noto Sans Sundanese', style='normal', variant='normal', weight=400, stretch='normal', size='scalable')) = 10.05\n",
      "[2023-10-10 10:53:53] DEBUG:matplotlib.font_manager:findfont: score(FontEntry(fname='/System/Library/Fonts/Supplemental/NotoSansCuneiform-Regular.ttf', name='Noto Sans Cuneiform', style='normal', variant='normal', weight=400, stretch='normal', size='scalable')) = 10.05\n",
      "[2023-10-10 10:53:53] DEBUG:matplotlib.font_manager:findfont: score(FontEntry(fname='/System/Library/Fonts/Supplemental/Lao MN.ttc', name='Lao MN', style='normal', variant='normal', weight=400, stretch='normal', size='scalable')) = 10.05\n",
      "[2023-10-10 10:53:53] DEBUG:matplotlib.font_manager:findfont: score(FontEntry(fname='/System/Library/Fonts/Supplemental/NotoSansTagbanwa-Regular.ttf', name='Noto Sans Tagbanwa', style='normal', variant='normal', weight=400, stretch='normal', size='scalable')) = 10.05\n",
      "[2023-10-10 10:53:53] DEBUG:matplotlib.font_manager:findfont: score(FontEntry(fname='/System/Library/Fonts/NotoSansOriya.ttc', name='Noto Sans Oriya', style='normal', variant='normal', weight=400, stretch='normal', size='scalable')) = 10.05\n",
      "[2023-10-10 10:53:53] DEBUG:matplotlib.font_manager:findfont: score(FontEntry(fname='/System/Library/Fonts/KohinoorGujarati.ttc', name='Kohinoor Gujarati', style='normal', variant='normal', weight=700, stretch='normal', size='scalable')) = 10.335\n",
      "[2023-10-10 10:53:53] DEBUG:matplotlib.font_manager:findfont: score(FontEntry(fname='/System/Library/Fonts/Keyboard.ttf', name='.Keyboard', style='normal', variant='normal', weight=100, stretch='normal', size='scalable')) = 10.335\n",
      "[2023-10-10 10:53:53] DEBUG:matplotlib.font_manager:findfont: score(FontEntry(fname='/System/Library/Fonts/Supplemental/ITFDevanagari.ttc', name='ITF Devanagari', style='normal', variant='normal', weight=400, stretch='normal', size='scalable')) = 10.05\n",
      "[2023-10-10 10:53:53] DEBUG:matplotlib.font_manager:findfont: score(FontEntry(fname='/System/Library/Fonts/HelveticaNeue.ttc', name='Helvetica Neue', style='normal', variant='normal', weight=400, stretch='normal', size='scalable')) = 10.05\n",
      "[2023-10-10 10:53:53] DEBUG:matplotlib.font_manager:findfont: score(FontEntry(fname='/System/Library/Fonts/Supplemental/NotoSansPauCinHau-Regular.ttf', name='Noto Sans Pau Cin Hau', style='normal', variant='normal', weight=400, stretch='normal', size='scalable')) = 10.05\n",
      "[2023-10-10 10:53:53] DEBUG:matplotlib.font_manager:findfont: score(FontEntry(fname='/System/Library/Fonts/Supplemental/Times New Roman Bold Italic.ttf', name='Times New Roman', style='italic', variant='normal', weight=700, stretch='normal', size='scalable')) = 11.335\n",
      "[2023-10-10 10:53:53] DEBUG:matplotlib.font_manager:findfont: score(FontEntry(fname='/System/Library/Fonts/ヒラギノ角ゴシック W0.ttc', name='Hiragino Sans', style='normal', variant='normal', weight=100, stretch='normal', size='scalable')) = 10.335\n",
      "[2023-10-10 10:53:53] DEBUG:matplotlib.font_manager:findfont: score(FontEntry(fname='/System/Library/Fonts/Supplemental/STIXSizFourSymBol.otf', name='STIXSizeFourSym', style='normal', variant='normal', weight=700, stretch='normal', size='scalable')) = 10.335\n",
      "[2023-10-10 10:53:53] DEBUG:matplotlib.font_manager:findfont: score(FontEntry(fname='/System/Library/Fonts/Supplemental/Telugu Sangam MN.ttc', name='Telugu Sangam MN', style='normal', variant='normal', weight=400, stretch='normal', size='scalable')) = 10.05\n",
      "[2023-10-10 10:53:53] DEBUG:matplotlib.font_manager:findfont: score(FontEntry(fname='/System/Library/Fonts/Supplemental/GujaratiMT.ttc', name='Gujarati MT', style='normal', variant='normal', weight=400, stretch='normal', size='scalable')) = 10.05\n",
      "[2023-10-10 10:53:53] DEBUG:matplotlib.font_manager:findfont: score(FontEntry(fname='/System/Library/Fonts/Apple Braille Outline 8 Dot.ttf', name='Apple Braille', style='normal', variant='normal', weight=400, stretch='normal', size='scalable')) = 10.05\n",
      "[2023-10-10 10:53:53] DEBUG:matplotlib.font_manager:findfont: score(FontEntry(fname='/System/Library/Fonts/Supplemental/NotoSansMandaic-Regular.ttf', name='Noto Sans Mandaic', style='normal', variant='normal', weight=400, stretch='normal', size='scalable')) = 10.05\n",
      "[2023-10-10 10:53:53] DEBUG:matplotlib.font_manager:findfont: score(FontEntry(fname='/System/Library/Fonts/Supplemental/NotoSansPalmyrene-Regular.ttf', name='Noto Sans Palmyrene', style='normal', variant='normal', weight=400, stretch='normal', size='scalable')) = 10.05\n",
      "[2023-10-10 10:53:53] DEBUG:matplotlib.font_manager:findfont: score(FontEntry(fname='/System/Library/Fonts/SFNSMono.ttf', name='.SF NS Mono', style='normal', variant='normal', weight=295, stretch='normal', size='scalable')) = 10.14975\n",
      "[2023-10-10 10:53:53] DEBUG:matplotlib.font_manager:findfont: score(FontEntry(fname='/System/Library/Fonts/Supplemental/NotoSansInscriptionalParthian-Regular.ttf', name='Noto Sans Inscriptional Parthian', style='normal', variant='normal', weight=400, stretch='normal', size='scalable')) = 10.05\n",
      "[2023-10-10 10:53:53] DEBUG:matplotlib.font_manager:findfont: score(FontEntry(fname='/System/Library/Fonts/ヒラギノ角ゴシック W6.ttc', name='Hiragino Sans', style='normal', variant='normal', weight=600, stretch='normal', size='scalable')) = 10.24\n",
      "[2023-10-10 10:53:53] DEBUG:matplotlib.font_manager:findfont: score(FontEntry(fname='/System/Library/Fonts/Supplemental/Raanana.ttc', name='Raanana', style='normal', variant='normal', weight=400, stretch='normal', size='scalable')) = 10.05\n",
      "[2023-10-10 10:53:53] DEBUG:matplotlib.font_manager:findfont: score(FontEntry(fname='/System/Library/Fonts/Supplemental/NotoSansSiddham-Regular.ttf', name='Noto Sans Siddham', style='normal', variant='normal', weight=400, stretch='normal', size='scalable')) = 10.05\n",
      "[2023-10-10 10:53:53] DEBUG:matplotlib.font_manager:findfont: score(FontEntry(fname='/System/Library/Fonts/Supplemental/NotoSansManichaean-Regular.ttf', name='Noto Sans Manichaean', style='normal', variant='normal', weight=400, stretch='normal', size='scalable')) = 10.05\n",
      "[2023-10-10 10:53:53] DEBUG:matplotlib.font_manager:findfont: score(FontEntry(fname='/System/Library/Fonts/Supplemental/Marion.ttc', name='Marion', style='normal', variant='normal', weight=400, stretch='normal', size='scalable')) = 10.05\n",
      "[2023-10-10 10:53:53] DEBUG:matplotlib.font_manager:findfont: score(FontEntry(fname='/System/Library/Fonts/Supplemental/NotoSansInscriptionalPahlavi-Regular.ttf', name='Noto Sans Inscriptional Pahlavi', style='normal', variant='normal', weight=400, stretch='normal', size='scalable')) = 10.05\n",
      "[2023-10-10 10:53:53] DEBUG:matplotlib.font_manager:findfont: score(FontEntry(fname='/System/Library/Fonts/PingFang.ttc', name='PingFang HK', style='normal', variant='normal', weight=400, stretch='normal', size='scalable')) = 10.05\n",
      "[2023-10-10 10:53:53] DEBUG:matplotlib.font_manager:findfont: score(FontEntry(fname='/System/Library/Fonts/Avenir Next Condensed.ttc', name='Avenir Next Condensed', style='normal', variant='normal', weight=700, stretch='condensed', size='scalable')) = 10.535\n",
      "[2023-10-10 10:53:53] DEBUG:matplotlib.font_manager:findfont: score(FontEntry(fname='/System/Library/Fonts/KohinoorBangla.ttc', name='Kohinoor Bangla', style='normal', variant='normal', weight=400, stretch='normal', size='scalable')) = 10.05\n",
      "[2023-10-10 10:53:53] DEBUG:matplotlib.font_manager:findfont: score(FontEntry(fname='/System/Library/Fonts/Supplemental/Trebuchet MS Bold.ttf', name='Trebuchet MS', style='normal', variant='normal', weight=700, stretch='normal', size='scalable')) = 10.335\n",
      "[2023-10-10 10:53:53] DEBUG:matplotlib.font_manager:findfont: score(FontEntry(fname='/System/Library/Fonts/Supplemental/Georgia Bold Italic.ttf', name='Georgia', style='italic', variant='normal', weight=700, stretch='normal', size='scalable')) = 11.335\n",
      "[2023-10-10 10:53:53] DEBUG:matplotlib.font_manager:findfont: score(FontEntry(fname='/System/Library/Fonts/Supplemental/NotoSansModi-Regular.ttf', name='Noto Sans Modi', style='normal', variant='normal', weight=400, stretch='normal', size='scalable')) = 10.05\n",
      "[2023-10-10 10:53:53] DEBUG:matplotlib.font_manager:findfont: score(FontEntry(fname='/System/Library/Fonts/Supplemental/NotoSansBhaiksuki-Regular.ttf', name='Noto Sans Bhaiksuki', style='normal', variant='normal', weight=400, stretch='normal', size='scalable')) = 10.05\n",
      "[2023-10-10 10:53:53] DEBUG:matplotlib.font_manager:findfont: score(FontEntry(fname='/System/Library/Fonts/Supplemental/NotoSansTifinagh-Regular.ttf', name='Noto Sans Tifinagh', style='normal', variant='normal', weight=400, stretch='normal', size='scalable')) = 10.05\n",
      "[2023-10-10 10:53:53] DEBUG:matplotlib.font_manager:findfont: score(FontEntry(fname='/System/Library/Fonts/Supplemental/NotoSansBuhid-Regular.ttf', name='Noto Sans Buhid', style='normal', variant='normal', weight=400, stretch='normal', size='scalable')) = 10.05\n",
      "[2023-10-10 10:53:53] DEBUG:matplotlib.font_manager:findfont: score(FontEntry(fname='/System/Library/Fonts/Supplemental/InaiMathi-MN.ttc', name='InaiMathi', style='normal', variant='normal', weight=400, stretch='normal', size='scalable')) = 10.05\n",
      "[2023-10-10 10:53:53] DEBUG:matplotlib.font_manager:findfont: score(FontEntry(fname='/System/Library/Fonts/SFNS.ttf', name='System Font', style='normal', variant='normal', weight=400, stretch='normal', size='scalable')) = 10.05\n",
      "[2023-10-10 10:53:53] DEBUG:matplotlib.font_manager:findfont: score(FontEntry(fname='/System/Library/Fonts/Supplemental/Hoefler Text Ornaments.ttf', name='Hoefler Text', style='normal', variant='normal', weight=400, stretch='normal', size='scalable')) = 10.05\n",
      "[2023-10-10 10:53:53] DEBUG:matplotlib.font_manager:findfont: score(FontEntry(fname='/System/Library/Fonts/Supplemental/NotoSansCarian-Regular.ttf', name='Noto Sans Carian', style='normal', variant='normal', weight=400, stretch='normal', size='scalable')) = 10.05\n",
      "[2023-10-10 10:53:53] DEBUG:matplotlib.font_manager:findfont: score(FontEntry(fname='/System/Library/Fonts/Supplemental/NotoSansOldNorthArabian-Regular.ttf', name='Noto Sans Old North Arabian', style='normal', variant='normal', weight=400, stretch='normal', size='scalable')) = 10.05\n",
      "[2023-10-10 10:53:53] DEBUG:matplotlib.font_manager:findfont: score(FontEntry(fname='/System/Library/Fonts/Supplemental/STIXSizOneSymReg.otf', name='STIXSizeOneSym', style='normal', variant='normal', weight=400, stretch='normal', size='scalable')) = 10.05\n",
      "[2023-10-10 10:53:53] DEBUG:matplotlib.font_manager:findfont: score(FontEntry(fname='/System/Library/Fonts/SFCompactRounded.ttf', name='.SF Compact Rounded', style='normal', variant='normal', weight=400, stretch='normal', size='scalable')) = 10.05\n",
      "[2023-10-10 10:53:53] DEBUG:matplotlib.font_manager:findfont: score(FontEntry(fname='/System/Library/Fonts/Helvetica.ttc', name='Helvetica', style='normal', variant='normal', weight=400, stretch='normal', size='scalable')) = 7.322727272727273\n",
      "[2023-10-10 10:53:53] DEBUG:matplotlib.font_manager:findfont: score(FontEntry(fname='/System/Library/Fonts/ヒラギノ丸ゴ ProN W4.ttc', name='Hiragino Maru Gothic Pro', style='normal', variant='normal', weight=400, stretch='normal', size='scalable')) = 10.05\n",
      "[2023-10-10 10:53:53] DEBUG:matplotlib.font_manager:findfont: score(FontEntry(fname='/System/Library/Fonts/Supplemental/Al Tarikh.ttc', name='Al Tarikh', style='normal', variant='normal', weight=400, stretch='normal', size='scalable')) = 10.05\n",
      "[2023-10-10 10:53:53] DEBUG:matplotlib.font_manager:findfont: score(FontEntry(fname='/System/Library/Fonts/Supplemental/Papyrus.ttc', name='Papyrus', style='normal', variant='normal', weight=400, stretch='condensed', size='scalable')) = 10.25\n",
      "[2023-10-10 10:53:53] DEBUG:matplotlib.font_manager:findfont: score(FontEntry(fname='/System/Library/Fonts/Supplemental/Herculanum.ttf', name='Herculanum', style='normal', variant='normal', weight=400, stretch='normal', size='scalable')) = 10.05\n",
      "[2023-10-10 10:53:53] DEBUG:matplotlib.font_manager:findfont: score(FontEntry(fname='/System/Library/Fonts/Supplemental/Baghdad.ttc', name='Baghdad', style='normal', variant='normal', weight=400, stretch='normal', size='scalable')) = 10.05\n",
      "[2023-10-10 10:53:53] DEBUG:matplotlib.font_manager:findfont: score(FontEntry(fname='/System/Library/Fonts/STHeiti Light.ttc', name='Heiti TC', style='normal', variant='normal', weight=300, stretch='normal', size='scalable')) = 10.145\n",
      "[2023-10-10 10:53:53] DEBUG:matplotlib.font_manager:findfont: score(FontEntry(fname='/System/Library/Fonts/Supplemental/NotoSerifAhom-Regular.ttf', name='Noto Serif Ahom', style='normal', variant='normal', weight=400, stretch='normal', size='scalable')) = 10.05\n",
      "[2023-10-10 10:53:53] DEBUG:matplotlib.font_manager:findfont: score(FontEntry(fname='/System/Library/Fonts/Supplemental/STIXGeneralItalic.otf', name='STIXGeneral', style='italic', variant='normal', weight=400, stretch='normal', size='scalable')) = 11.05\n",
      "[2023-10-10 10:53:53] DEBUG:matplotlib.font_manager:findfont: score(FontEntry(fname='/System/Library/Fonts/LucidaGrande.ttc', name='Lucida Grande', style='normal', variant='normal', weight=500, stretch='normal', size='scalable')) = 2.872272727272727\n",
      "[2023-10-10 10:53:53] DEBUG:matplotlib.font_manager:findfont: score(FontEntry(fname='/System/Library/Fonts/Supplemental/NotoSansGothic-Regular.ttf', name='Noto Sans Gothic', style='normal', variant='normal', weight=400, stretch='normal', size='scalable')) = 10.05\n",
      "[2023-10-10 10:53:53] DEBUG:matplotlib.font_manager:findfont: score(FontEntry(fname='/System/Library/Fonts/Supplemental/PartyLET-plain.ttf', name='Party LET', style='normal', variant='normal', weight=400, stretch='normal', size='scalable')) = 10.05\n",
      "[2023-10-10 10:53:53] DEBUG:matplotlib.font_manager:findfont: score(FontEntry(fname='/System/Library/Fonts/Supplemental/Trattatello.ttf', name='Trattatello', style='normal', variant='normal', weight=400, stretch='normal', size='scalable')) = 10.05\n",
      "[2023-10-10 10:53:53] DEBUG:matplotlib.font_manager:findfont: score(FontEntry(fname='/System/Library/Fonts/Supplemental/NotoSansOldPermic-Regular.ttf', name='Noto Sans Old Permic', style='normal', variant='normal', weight=400, stretch='normal', size='scalable')) = 10.05\n",
      "[2023-10-10 10:53:53] DEBUG:matplotlib.font_manager:findfont: score(FontEntry(fname='/System/Library/Fonts/Supplemental/Shree714.ttc', name='Shree Devanagari 714', style='normal', variant='normal', weight=400, stretch='normal', size='scalable')) = 10.05\n",
      "[2023-10-10 10:53:53] DEBUG:matplotlib.font_manager:findfont: score(FontEntry(fname='/System/Library/Fonts/Supplemental/NotoSansOldHungarian-Regular.ttf', name='Noto Sans Old Hungarian', style='normal', variant='normal', weight=400, stretch='normal', size='scalable')) = 10.05\n",
      "[2023-10-10 10:53:53] DEBUG:matplotlib.font_manager:findfont: score(FontEntry(fname='/System/Library/Fonts/Supplemental/Arial Bold.ttf', name='Arial', style='normal', variant='normal', weight=700, stretch='normal', size='scalable')) = 6.698636363636363\n",
      "[2023-10-10 10:53:53] DEBUG:matplotlib.font_manager:findfont: score(FontEntry(fname='/System/Library/Fonts/Supplemental/Wingdings 3.ttf', name='Wingdings 3', style='normal', variant='normal', weight=400, stretch='normal', size='scalable')) = 10.05\n",
      "[2023-10-10 10:53:53] DEBUG:matplotlib.font_manager:findfont: score(FontEntry(fname='/System/Library/Fonts/Supplemental/Arial Italic.ttf', name='Arial', style='italic', variant='normal', weight=400, stretch='normal', size='scalable')) = 7.413636363636363\n",
      "[2023-10-10 10:53:53] DEBUG:matplotlib.font_manager:findfont: score(FontEntry(fname='/System/Library/Fonts/Supplemental/STIXSizFourSymReg.otf', name='STIXSizeFourSym', style='normal', variant='normal', weight=400, stretch='normal', size='scalable')) = 10.05\n",
      "[2023-10-10 10:53:53] DEBUG:matplotlib.font_manager:findfont: score(FontEntry(fname='/System/Library/Fonts/ヒラギノ角ゴシック W4.ttc', name='Hiragino Sans', style='normal', variant='normal', weight=400, stretch='normal', size='scalable')) = 10.05\n",
      "[2023-10-10 10:53:53] DEBUG:matplotlib.font_manager:findfont: score(FontEntry(fname='/System/Library/Fonts/Supplemental/Khmer Sangam MN.ttf', name='Khmer Sangam MN', style='normal', variant='normal', weight=400, stretch='normal', size='scalable')) = 10.05\n",
      "[2023-10-10 10:53:53] DEBUG:matplotlib.font_manager:findfont: score(FontEntry(fname='/System/Library/Fonts/ヒラギノ角ゴシック W5.ttc', name='Hiragino Sans', style='normal', variant='normal', weight=500, stretch='normal', size='scalable')) = 10.145\n",
      "[2023-10-10 10:53:53] DEBUG:matplotlib.font_manager:findfont: score(FontEntry(fname='/System/Library/Fonts/Supplemental/Kokonor.ttf', name='Kokonor', style='normal', variant='normal', weight=400, stretch='normal', size='scalable')) = 10.05\n",
      "[2023-10-10 10:53:53] DEBUG:matplotlib.font_manager:findfont: score(FontEntry(fname='/System/Library/Fonts/Supplemental/Trebuchet MS Italic.ttf', name='Trebuchet MS', style='italic', variant='normal', weight=400, stretch='normal', size='scalable')) = 11.05\n",
      "[2023-10-10 10:53:53] DEBUG:matplotlib.font_manager:findfont: score(FontEntry(fname='/System/Library/Fonts/Supplemental/NotoSansRunic-Regular.ttf', name='Noto Sans Runic', style='normal', variant='normal', weight=400, stretch='normal', size='scalable')) = 10.05\n",
      "[2023-10-10 10:53:53] DEBUG:matplotlib.font_manager:findfont: score(FontEntry(fname='/System/Library/Fonts/Supplemental/Muna.ttc', name='Muna', style='normal', variant='normal', weight=400, stretch='normal', size='scalable')) = 10.05\n",
      "[2023-10-10 10:53:53] DEBUG:matplotlib.font_manager:findfont: score(FontEntry(fname='/Library/Fonts/Arial Unicode.ttf', name='Arial Unicode MS', style='normal', variant='normal', weight=400, stretch='normal', size='scalable')) = 10.05\n",
      "[2023-10-10 10:53:53] DEBUG:matplotlib.font_manager:findfont: score(FontEntry(fname='/System/Library/Fonts/Times.ttc', name='Times', style='normal', variant='normal', weight=400, stretch='normal', size='scalable')) = 10.05\n",
      "[2023-10-10 10:53:53] DEBUG:matplotlib.font_manager:findfont: score(FontEntry(fname='/System/Library/Fonts/NotoSerifMyanmar.ttc', name='Noto Serif Myanmar', style='normal', variant='normal', weight=900, stretch='normal', size='scalable')) = 10.525\n",
      "[2023-10-10 10:53:53] DEBUG:matplotlib.font_manager:findfont: score(FontEntry(fname='/System/Library/Fonts/Supplemental/Diwan Kufi.ttc', name='Diwan Kufi', style='normal', variant='normal', weight=400, stretch='normal', size='scalable')) = 10.05\n",
      "[2023-10-10 10:53:53] DEBUG:matplotlib.font_manager:findfont: score(FontEntry(fname='/System/Library/Fonts/Supplemental/Iowan Old Style.ttc', name='Iowan Old Style', style='normal', variant='normal', weight=400, stretch='normal', size='scalable')) = 10.05\n",
      "[2023-10-10 10:53:53] DEBUG:matplotlib.font_manager:findfont: score(FontEntry(fname='/System/Library/Fonts/Supplemental/Khmer MN.ttc', name='Khmer MN', style='normal', variant='normal', weight=400, stretch='normal', size='scalable')) = 10.05\n",
      "[2023-10-10 10:53:53] DEBUG:matplotlib.font_manager:findfont: score(FontEntry(fname='/System/Library/Fonts/Supplemental/AlBayan.ttc', name='Al Bayan', style='normal', variant='normal', weight=400, stretch='normal', size='scalable')) = 10.05\n",
      "[2023-10-10 10:53:53] DEBUG:matplotlib.font_manager:findfont: score(FontEntry(fname='/System/Library/Fonts/Supplemental/Didot.ttc', name='Didot', style='normal', variant='normal', weight=400, stretch='normal', size='scalable')) = 10.05\n",
      "[2023-10-10 10:53:53] DEBUG:matplotlib.font_manager:findfont: score(FontEntry(fname='/System/Library/Fonts/Supplemental/NotoSansLimbu-Regular.ttf', name='Noto Sans Limbu', style='normal', variant='normal', weight=400, stretch='normal', size='scalable')) = 10.05\n",
      "[2023-10-10 10:53:53] DEBUG:matplotlib.font_manager:findfont: score(FontEntry(fname='/System/Library/Fonts/Supplemental/Times New Roman Bold.ttf', name='Times New Roman', style='normal', variant='normal', weight=700, stretch='normal', size='scalable')) = 10.335\n",
      "[2023-10-10 10:53:53] DEBUG:matplotlib.font_manager:findfont: score(FontEntry(fname='/System/Library/Fonts/Supplemental/Oriya MN.ttc', name='Oriya MN', style='normal', variant='normal', weight=400, stretch='normal', size='scalable')) = 10.05\n",
      "[2023-10-10 10:53:53] DEBUG:matplotlib.font_manager:findfont: score(FontEntry(fname='/System/Library/Fonts/Supplemental/NotoSansTaiViet-Regular.ttf', name='Noto Sans Tai Viet', style='normal', variant='normal', weight=400, stretch='normal', size='scalable')) = 10.05\n",
      "[2023-10-10 10:53:53] DEBUG:matplotlib.font_manager:findfont: score(FontEntry(fname='/System/Library/Fonts/Supplemental/Skia.ttf', name='Skia', style='normal', variant='normal', weight=5, stretch='normal', size='scalable')) = 10.42525\n",
      "[2023-10-10 10:53:53] DEBUG:matplotlib.font_manager:findfont: score(FontEntry(fname='/System/Library/Fonts/Supplemental/Baskerville.ttc', name='Baskerville', style='normal', variant='normal', weight=400, stretch='normal', size='scalable')) = 10.05\n",
      "[2023-10-10 10:53:53] DEBUG:matplotlib.font_manager:findfont: score(FontEntry(fname='/System/Library/Fonts/Supplemental/Gurmukhi MN.ttc', name='Gurmukhi MN', style='normal', variant='normal', weight=400, stretch='normal', size='scalable')) = 10.05\n",
      "[2023-10-10 10:53:53] DEBUG:matplotlib.font_manager:findfont: score(FontEntry(fname='/System/Library/Fonts/Supplemental/STIXVar.otf', name='STIXVariants', style='normal', variant='normal', weight=400, stretch='normal', size='scalable')) = 10.05\n",
      "[2023-10-10 10:53:53] DEBUG:matplotlib.font_manager:findfont: score(FontEntry(fname='/System/Library/Fonts/Supplemental/STIXSizTwoSymBol.otf', name='STIXSizeTwoSym', style='normal', variant='normal', weight=700, stretch='normal', size='scalable')) = 10.335\n",
      "[2023-10-10 10:53:53] DEBUG:matplotlib.font_manager:findfont: score(FontEntry(fname='/System/Library/Fonts/Supplemental/Oriya Sangam MN.ttc', name='Oriya Sangam MN', style='normal', variant='normal', weight=400, stretch='normal', size='scalable')) = 10.05\n",
      "[2023-10-10 10:53:53] DEBUG:matplotlib.font_manager:findfont: score(FontEntry(fname='/System/Library/Fonts/Supplemental/Bodoni 72 Smallcaps Book.ttf', name='Bodoni 72 Smallcaps', style='normal', variant='normal', weight=400, stretch='normal', size='scalable')) = 10.05\n",
      "[2023-10-10 10:53:53] DEBUG:matplotlib.font_manager:findfont: score(FontEntry(fname='/System/Library/Fonts/SFNSMonoItalic.ttf', name='.SF NS Mono', style='italic', variant='normal', weight=295, stretch='normal', size='scalable')) = 11.14975\n",
      "[2023-10-10 10:53:53] DEBUG:matplotlib.font_manager:findfont: score(FontEntry(fname='/System/Library/Fonts/Supplemental/STIXSizThreeSymReg.otf', name='STIXSizeThreeSym', style='normal', variant='normal', weight=400, stretch='normal', size='scalable')) = 10.05\n",
      "[2023-10-10 10:53:53] DEBUG:matplotlib.font_manager:findfont: score(FontEntry(fname='/System/Library/Fonts/Supplemental/NotoSansThaana-Regular.ttf', name='Noto Sans Thaana', style='normal', variant='normal', weight=400, stretch='normal', size='scalable')) = 10.05\n",
      "[2023-10-10 10:53:53] DEBUG:matplotlib.font_manager:findfont: score(FontEntry(fname='/System/Library/Fonts/Supplemental/NotoSansEgyptianHieroglyphs-Regular.ttf', name='Noto Sans Egyptian Hieroglyphs', style='normal', variant='normal', weight=400, stretch='normal', size='scalable')) = 10.05\n",
      "[2023-10-10 10:53:53] DEBUG:matplotlib.font_manager:findfont: score(FontEntry(fname='/System/Library/Fonts/NotoSansKannada.ttc', name='Noto Sans Kannada', style='normal', variant='normal', weight=900, stretch='normal', size='scalable')) = 10.525\n",
      "[2023-10-10 10:53:53] DEBUG:matplotlib.font_manager:findfont: score(FontEntry(fname='/System/Library/Fonts/Supplemental/NotoSansTirhuta-Regular.ttf', name='Noto Sans Tirhuta', style='normal', variant='normal', weight=400, stretch='normal', size='scalable')) = 10.05\n",
      "[2023-10-10 10:53:53] DEBUG:matplotlib.font_manager:findfont: score(FontEntry(fname='/System/Library/Fonts/Supplemental/NotoSansOldItalic-Regular.ttf', name='Noto Sans Old Italic', style='italic', variant='normal', weight=400, stretch='normal', size='scalable')) = 11.05\n",
      "[2023-10-10 10:53:53] DEBUG:matplotlib.font_manager:findfont: score(FontEntry(fname='/System/Library/Fonts/NotoSansArmenian.ttc', name='Noto Sans Armenian', style='normal', variant='normal', weight=900, stretch='normal', size='scalable')) = 10.525\n",
      "[2023-10-10 10:53:53] DEBUG:matplotlib.font_manager:findfont: score(FontEntry(fname='/System/Library/Fonts/Supplemental/STIXIntDBol.otf', name='STIXIntegralsD', style='normal', variant='normal', weight=700, stretch='normal', size='scalable')) = 10.335\n",
      "[2023-10-10 10:53:53] DEBUG:matplotlib.font_manager:findfont: score(FontEntry(fname='/System/Library/Fonts/Supplemental/GillSans.ttc', name='Gill Sans', style='normal', variant='normal', weight=400, stretch='normal', size='scalable')) = 10.05\n",
      "[2023-10-10 10:53:53] DEBUG:matplotlib.font_manager:findfont: score(FontEntry(fname='/System/Library/Fonts/Thonburi.ttc', name='Thonburi', style='normal', variant='normal', weight=400, stretch='normal', size='scalable')) = 10.05\n",
      "[2023-10-10 10:53:53] DEBUG:matplotlib.font_manager:findfont: score(FontEntry(fname='/System/Library/Fonts/Supplemental/Bangla Sangam MN.ttc', name='Bangla Sangam MN', style='normal', variant='normal', weight=400, stretch='normal', size='scalable')) = 10.05\n",
      "[2023-10-10 10:53:53] DEBUG:matplotlib.font_manager:findfont: score(FontEntry(fname='/System/Library/Fonts/Supplemental/Rockwell.ttc', name='Rockwell', style='normal', variant='normal', weight=400, stretch='normal', size='scalable')) = 10.05\n",
      "[2023-10-10 10:53:53] DEBUG:matplotlib.font_manager:findfont: score(FontEntry(fname='/System/Library/Fonts/Apple Braille Outline 6 Dot.ttf', name='Apple Braille', style='normal', variant='normal', weight=400, stretch='normal', size='scalable')) = 10.05\n",
      "[2023-10-10 10:53:53] DEBUG:matplotlib.font_manager:findfont: score(FontEntry(fname='/System/Library/Fonts/Supplemental/Tamil MN.ttc', name='Tamil MN', style='normal', variant='normal', weight=400, stretch='normal', size='scalable')) = 10.05\n",
      "[2023-10-10 10:53:53] DEBUG:matplotlib.font_manager:findfont: score(FontEntry(fname='/System/Library/Fonts/Supplemental/STIXGeneralBolIta.otf', name='STIXGeneral', style='italic', variant='normal', weight=700, stretch='normal', size='scalable')) = 11.335\n",
      "[2023-10-10 10:53:53] DEBUG:matplotlib.font_manager:findfont: score(FontEntry(fname='/System/Library/Fonts/Hiragino Sans GB.ttc', name='Hiragino Sans GB', style='normal', variant='normal', weight=300, stretch='normal', size='scalable')) = 10.145\n",
      "[2023-10-10 10:53:53] DEBUG:matplotlib.font_manager:findfont: score(FontEntry(fname='/System/Library/Fonts/SFNSItalic.ttf', name='System Font', style='italic', variant='normal', weight=400, stretch='normal', size='scalable')) = 11.05\n",
      "[2023-10-10 10:53:53] DEBUG:matplotlib.font_manager:findfont: score(FontEntry(fname='/System/Library/Fonts/Supplemental/NotoSansMeroitic-Regular.ttf', name='Noto Sans Meroitic', style='normal', variant='normal', weight=400, stretch='normal', size='scalable')) = 10.05\n",
      "[2023-10-10 10:53:53] DEBUG:matplotlib.font_manager:findfont: score(FontEntry(fname='/System/Library/Fonts/Supplemental/AppleGothic.ttf', name='AppleGothic', style='normal', variant='normal', weight=400, stretch='normal', size='scalable')) = 10.05\n",
      "[2023-10-10 10:53:53] DEBUG:matplotlib.font_manager:findfont: score(FontEntry(fname='/System/Library/Fonts/Supplemental/Verdana Italic.ttf', name='Verdana', style='italic', variant='normal', weight=400, stretch='normal', size='scalable')) = 4.6863636363636365\n",
      "[2023-10-10 10:53:53] DEBUG:matplotlib.font_manager:findfont: score(FontEntry(fname='/System/Library/Fonts/Supplemental/Farah.ttc', name='Farah', style='normal', variant='normal', weight=400, stretch='normal', size='scalable')) = 10.05\n",
      "[2023-10-10 10:53:53] DEBUG:matplotlib.font_manager:findfont: score(FontEntry(fname='/System/Library/Fonts/Supplemental/Devanagari Sangam MN.ttc', name='Devanagari Sangam MN', style='normal', variant='normal', weight=400, stretch='normal', size='scalable')) = 10.05\n",
      "[2023-10-10 10:53:53] DEBUG:matplotlib.font_manager:findfont: score(FontEntry(fname='/System/Library/Fonts/Supplemental/DevanagariMT.ttc', name='Devanagari MT', style='normal', variant='normal', weight=400, stretch='normal', size='scalable')) = 10.05\n",
      "[2023-10-10 10:53:53] DEBUG:matplotlib.font_manager:findfont: score(FontEntry(fname='/System/Library/Fonts/Supplemental/STIXSizOneSymBol.otf', name='STIXSizeOneSym', style='normal', variant='normal', weight=700, stretch='normal', size='scalable')) = 10.335\n",
      "[2023-10-10 10:53:53] DEBUG:matplotlib.font_manager:findfont: score(FontEntry(fname='/System/Library/Fonts/Supplemental/PTSerif.ttc', name='PT Serif', style='normal', variant='normal', weight=400, stretch='normal', size='scalable')) = 10.05\n",
      "[2023-10-10 10:53:53] DEBUG:matplotlib.font_manager:findfont: score(FontEntry(fname='/System/Library/Fonts/Supplemental/NotoSansDuployan-Regular.ttf', name='Noto Sans Duployan', style='normal', variant='normal', weight=400, stretch='normal', size='scalable')) = 10.05\n",
      "[2023-10-10 10:53:53] DEBUG:matplotlib.font_manager:findfont: score(FontEntry(fname='/System/Library/Fonts/Supplemental/Seravek.ttc', name='Seravek', style='normal', variant='normal', weight=400, stretch='normal', size='scalable')) = 10.05\n",
      "[2023-10-10 10:53:53] DEBUG:matplotlib.font_manager:findfont: score(FontEntry(fname='/System/Library/Fonts/Supplemental/STIXNonUniBolIta.otf', name='STIXNonUnicode', style='italic', variant='normal', weight=700, stretch='normal', size='scalable')) = 11.335\n",
      "[2023-10-10 10:53:53] DEBUG:matplotlib.font_manager:findfont: score(FontEntry(fname='/System/Library/Fonts/Supplemental/NotoSansOlChiki-Regular.ttf', name='Noto Sans Ol Chiki', style='normal', variant='normal', weight=400, stretch='normal', size='scalable')) = 10.05\n",
      "[2023-10-10 10:53:53] DEBUG:matplotlib.font_manager:findfont: score(FontEntry(fname='/System/Library/Fonts/Supplemental/Verdana.ttf', name='Verdana', style='normal', variant='normal', weight=400, stretch='normal', size='scalable')) = 3.6863636363636365\n",
      "[2023-10-10 10:53:53] DEBUG:matplotlib.font_manager:findfont: score(FontEntry(fname='/System/Library/Fonts/Supplemental/Arial Black.ttf', name='Arial Black', style='normal', variant='normal', weight=900, stretch='normal', size='scalable')) = 10.525\n",
      "[2023-10-10 10:53:53] DEBUG:matplotlib.font_manager:findfont: score(FontEntry(fname='/System/Library/Fonts/Supplemental/NotoSansJavanese-Regular.otf', name='Noto Sans Javanese', style='normal', variant='normal', weight=400, stretch='normal', size='scalable')) = 10.05\n",
      "[2023-10-10 10:53:53] DEBUG:matplotlib.font_manager:findfont: score(FontEntry(fname='/System/Library/Fonts/Supplemental/Chalkduster.ttf', name='Chalkduster', style='normal', variant='normal', weight=400, stretch='normal', size='scalable')) = 10.05\n",
      "[2023-10-10 10:53:53] DEBUG:matplotlib.font_manager:findfont: score(FontEntry(fname='/System/Library/Fonts/Supplemental/Savoye LET.ttc', name='Savoye LET', style='normal', variant='normal', weight=400, stretch='normal', size='scalable')) = 10.05\n",
      "[2023-10-10 10:53:53] DEBUG:matplotlib.font_manager:findfont: score(FontEntry(fname='/System/Library/Fonts/Supplemental/Al Nile.ttc', name='Al Nile', style='normal', variant='normal', weight=400, stretch='normal', size='scalable')) = 10.05\n",
      "[2023-10-10 10:53:53] DEBUG:matplotlib.font_manager:findfont: score(FontEntry(fname='/System/Library/Fonts/Supplemental/BigCaslon.ttf', name='Big Caslon', style='normal', variant='normal', weight=500, stretch='normal', size='scalable')) = 10.145\n",
      "[2023-10-10 10:53:53] DEBUG:matplotlib.font_manager:findfont: score(FontEntry(fname='/System/Library/Fonts/Supplemental/Sathu.ttf', name='Sathu', style='normal', variant='normal', weight=400, stretch='normal', size='scalable')) = 10.05\n",
      "[2023-10-10 10:53:53] DEBUG:matplotlib.font_manager:findfont: score(FontEntry(fname='/System/Library/Fonts/Supplemental/Gurmukhi Sangam MN.ttc', name='Gurmukhi Sangam MN', style='normal', variant='normal', weight=400, stretch='normal', size='scalable')) = 10.05\n",
      "[2023-10-10 10:53:53] DEBUG:matplotlib.font_manager:findfont: score(FontEntry(fname='/System/Library/Fonts/Supplemental/Georgia Italic.ttf', name='Georgia', style='italic', variant='normal', weight=400, stretch='normal', size='scalable')) = 11.05\n",
      "[2023-10-10 10:53:53] DEBUG:matplotlib.font_manager:findfont: score(FontEntry(fname='/System/Library/Fonts/Supplemental/STIXSizThreeSymBol.otf', name='STIXSizeThreeSym', style='normal', variant='normal', weight=700, stretch='normal', size='scalable')) = 10.335\n",
      "[2023-10-10 10:53:53] DEBUG:matplotlib.font_manager:findfont: score(FontEntry(fname='/System/Library/Fonts/Supplemental/STIXVarBol.otf', name='STIXVariants', style='normal', variant='normal', weight=700, stretch='normal', size='scalable')) = 10.335\n",
      "[2023-10-10 10:53:53] DEBUG:matplotlib.font_manager:findfont: score(FontEntry(fname='/System/Library/Fonts/Supplemental/NotoSansBuginese-Regular.ttf', name='Noto Sans Buginese', style='normal', variant='normal', weight=400, stretch='normal', size='scalable')) = 10.05\n",
      "[2023-10-10 10:53:53] DEBUG:matplotlib.font_manager:findfont: score(FontEntry(fname='/System/Library/Fonts/Supplemental/Arial Narrow.ttf', name='Arial Narrow', style='normal', variant='normal', weight=400, stretch='condensed', size='scalable')) = 10.25\n",
      "[2023-10-10 10:53:53] DEBUG:matplotlib.font_manager:findfont: score(FontEntry(fname='/System/Library/Fonts/Supplemental/NotoSansPhoenician-Regular.ttf', name='Noto Sans Phoenician', style='normal', variant='normal', weight=400, stretch='normal', size='scalable')) = 10.05\n",
      "[2023-10-10 10:53:53] DEBUG:matplotlib.font_manager:findfont: score(FontEntry(fname='/System/Library/Fonts/Supplemental/Arial Bold Italic.ttf', name='Arial', style='italic', variant='normal', weight=700, stretch='normal', size='scalable')) = 7.698636363636363\n",
      "[2023-10-10 10:53:53] DEBUG:matplotlib.font_manager:findfont: score(FontEntry(fname='/System/Library/Fonts/Supplemental/STIXIntSmBol.otf', name='STIXIntegralsSm', style='normal', variant='normal', weight=700, stretch='normal', size='scalable')) = 10.335\n",
      "[2023-10-10 10:53:53] DEBUG:matplotlib.font_manager:findfont: score(FontEntry(fname='/System/Library/Fonts/Supplemental/Verdana Bold.ttf', name='Verdana', style='normal', variant='normal', weight=700, stretch='normal', size='scalable')) = 3.9713636363636367\n",
      "[2023-10-10 10:53:53] DEBUG:matplotlib.font_manager:findfont: score(FontEntry(fname='/System/Library/Fonts/ヒラギノ角ゴシック W7.ttc', name='Hiragino Sans', style='normal', variant='normal', weight=700, stretch='normal', size='scalable')) = 10.335\n",
      "[2023-10-10 10:53:53] DEBUG:matplotlib.font_manager:findfont: score(FontEntry(fname='/System/Library/Fonts/Supplemental/Impact.ttf', name='Impact', style='normal', variant='normal', weight=400, stretch='normal', size='scalable')) = 10.05\n",
      "[2023-10-10 10:53:53] DEBUG:matplotlib.font_manager:findfont: score(FontEntry(fname='/System/Library/Fonts/Supplemental/Bradley Hand Bold.ttf', name='Bradley Hand', style='normal', variant='normal', weight=700, stretch='normal', size='scalable')) = 10.335\n",
      "[2023-10-10 10:53:53] DEBUG:matplotlib.font_manager:findfont: score(FontEntry(fname='/System/Library/Fonts/Palatino.ttc', name='Palatino', style='normal', variant='normal', weight=400, stretch='normal', size='scalable')) = 10.05\n",
      "[2023-10-10 10:53:53] DEBUG:matplotlib.font_manager:findfont: score(FontEntry(fname='/System/Library/Fonts/Supplemental/NotoSansRejang-Regular.ttf', name='Noto Sans Rejang', style='normal', variant='normal', weight=400, stretch='normal', size='scalable')) = 10.05\n",
      "[2023-10-10 10:53:53] DEBUG:matplotlib.font_manager:findfont: score(FontEntry(fname='/System/Library/Fonts/ArabicUIText.ttc', name='.Arabic UI Text', style='normal', variant='normal', weight=400, stretch='normal', size='scalable')) = 10.05\n",
      "[2023-10-10 10:53:53] DEBUG:matplotlib.font_manager:findfont: score(FontEntry(fname='/System/Library/Fonts/Supplemental/PlantagenetCherokee.ttf', name='Plantagenet Cherokee', style='normal', variant='normal', weight=400, stretch='normal', size='scalable')) = 10.05\n",
      "[2023-10-10 10:53:53] DEBUG:matplotlib.font_manager:findfont: score(FontEntry(fname='/System/Library/Fonts/Supplemental/STIXSizFiveSymReg.otf', name='STIXSizeFiveSym', style='normal', variant='normal', weight=400, stretch='normal', size='scalable')) = 10.05\n",
      "[2023-10-10 10:53:53] DEBUG:matplotlib.font_manager:findfont: score(FontEntry(fname='/System/Library/Fonts/SFCompact.ttf', name='.SF Compact', style='normal', variant='normal', weight=1000, stretch='normal', size='scalable')) = 10.62\n",
      "[2023-10-10 10:53:53] DEBUG:matplotlib.font_manager:findfont: score(FontEntry(fname='/System/Library/Fonts/Supplemental/Arial.ttf', name='Arial', style='normal', variant='normal', weight=400, stretch='normal', size='scalable')) = 6.413636363636363\n",
      "[2023-10-10 10:53:53] DEBUG:matplotlib.font_manager:findfont: score(FontEntry(fname='/System/Library/Fonts/ヒラギノ角ゴシック W9.ttc', name='Hiragino Sans', style='normal', variant='normal', weight=900, stretch='normal', size='scalable')) = 10.525\n",
      "[2023-10-10 10:53:53] DEBUG:matplotlib.font_manager:findfont: score(FontEntry(fname='/System/Library/Fonts/Supplemental/STIXIntUpDBol.otf', name='STIXIntegralsUpD', style='normal', variant='normal', weight=700, stretch='normal', size='scalable')) = 10.335\n",
      "[2023-10-10 10:53:53] DEBUG:matplotlib.font_manager:findfont: score(FontEntry(fname='/System/Library/Fonts/Supplemental/STIXNonUniBol.otf', name='STIXNonUnicode', style='normal', variant='normal', weight=700, stretch='normal', size='scalable')) = 10.335\n",
      "[2023-10-10 10:53:53] DEBUG:matplotlib.font_manager:findfont: score(FontEntry(fname='/System/Library/Fonts/Supplemental/STIXIntDReg.otf', name='STIXIntegralsD', style='normal', variant='normal', weight=400, stretch='normal', size='scalable')) = 10.05\n",
      "[2023-10-10 10:53:53] DEBUG:matplotlib.font_manager:findfont: score(FontEntry(fname='/System/Library/Fonts/Supplemental/NotoSansWancho-Regular.ttf', name='Noto Sans Wancho', style='normal', variant='normal', weight=400, stretch='normal', size='scalable')) = 10.05\n",
      "[2023-10-10 10:53:53] DEBUG:matplotlib.font_manager:findfont: score(FontEntry(fname='/System/Library/Fonts/Supplemental/Webdings.ttf', name='Webdings', style='normal', variant='normal', weight=400, stretch='normal', size='scalable')) = 10.05\n",
      "[2023-10-10 10:53:53] DEBUG:matplotlib.font_manager:findfont: score(FontEntry(fname='/System/Library/Fonts/Avenir Next.ttc', name='Avenir Next', style='normal', variant='normal', weight=700, stretch='normal', size='scalable')) = 10.335\n",
      "[2023-10-10 10:53:53] DEBUG:matplotlib.font_manager:findfont: score(FontEntry(fname='/System/Library/Fonts/Supplemental/NotoSansMarchen-Regular.ttf', name='Noto Sans Marchen', style='normal', variant='normal', weight=400, stretch='normal', size='scalable')) = 10.05\n",
      "[2023-10-10 10:53:53] DEBUG:matplotlib.font_manager:findfont: score(FontEntry(fname='/System/Library/Fonts/Supplemental/DecoTypeNaskh.ttc', name='DecoType Naskh', style='normal', variant='normal', weight=400, stretch='normal', size='scalable')) = 10.05\n",
      "[2023-10-10 10:53:53] DEBUG:matplotlib.font_manager:findfont: score(FontEntry(fname='/System/Library/Fonts/Supplemental/NotoSansPhagsPa-Regular.ttf', name='Noto Sans PhagsPa', style='normal', variant='normal', weight=400, stretch='normal', size='scalable')) = 10.05\n",
      "[2023-10-10 10:53:53] DEBUG:matplotlib.font_manager:findfont: score(FontEntry(fname='/System/Library/Fonts/Supplemental/NotoSansImperialAramaic-Regular.ttf', name='Noto Sans Imperial Aramaic', style='normal', variant='normal', weight=400, stretch='normal', size='scalable')) = 10.05\n",
      "[2023-10-10 10:53:53] DEBUG:matplotlib.font_manager:findfont: score(FontEntry(fname='/System/Library/Fonts/Supplemental/NotoSerifBalinese-Regular.ttf', name='Noto Serif Balinese', style='normal', variant='normal', weight=400, stretch='normal', size='scalable')) = 10.05\n",
      "[2023-10-10 10:53:53] DEBUG:matplotlib.font_manager:findfont: score(FontEntry(fname='/System/Library/Fonts/Supplemental/Beirut.ttc', name='Beirut', style='normal', variant='normal', weight=700, stretch='normal', size='scalable')) = 10.335\n",
      "[2023-10-10 10:53:53] DEBUG:matplotlib.font_manager:findfont: score(FontEntry(fname='/System/Library/Fonts/Kohinoor.ttc', name='Kohinoor Devanagari', style='normal', variant='normal', weight=400, stretch='normal', size='scalable')) = 10.05\n",
      "[2023-10-10 10:53:53] DEBUG:matplotlib.font_manager:findfont: score(FontEntry(fname='/System/Library/Fonts/SFNSRounded.ttf', name='.SF NS Rounded', style='normal', variant='normal', weight=400, stretch='normal', size='scalable')) = 10.05\n",
      "[2023-10-10 10:53:53] DEBUG:matplotlib.font_manager:findfont: score(FontEntry(fname='/System/Library/Fonts/Supplemental/Tamil Sangam MN.ttc', name='Tamil Sangam MN', style='normal', variant='normal', weight=400, stretch='normal', size='scalable')) = 10.05\n",
      "[2023-10-10 10:53:53] DEBUG:matplotlib.font_manager:findfont: score(FontEntry(fname='/System/Library/Fonts/Supplemental/NotoSansSoraSompeng-Regular.ttf', name='Noto Sans Sora Sompeng', style='normal', variant='normal', weight=400, stretch='normal', size='scalable')) = 10.05\n",
      "[2023-10-10 10:53:53] DEBUG:matplotlib.font_manager:findfont: score(FontEntry(fname='/System/Library/Fonts/Supplemental/Chalkboard.ttc', name='Chalkboard', style='normal', variant='normal', weight=400, stretch='normal', size='scalable')) = 10.05\n",
      "[2023-10-10 10:53:53] DEBUG:matplotlib.font_manager:findfont: score(FontEntry(fname='/System/Library/Fonts/Supplemental/NotoSansYi-Regular.ttf', name='Noto Sans Yi', style='normal', variant='normal', weight=400, stretch='normal', size='scalable')) = 10.05\n",
      "[2023-10-10 10:53:53] DEBUG:matplotlib.font_manager:findfont: score(FontEntry(fname='/System/Library/Fonts/Supplemental/NotoSansChakma-Regular.ttf', name='Noto Sans Chakma', style='normal', variant='normal', weight=400, stretch='normal', size='scalable')) = 10.05\n",
      "[2023-10-10 10:53:53] DEBUG:matplotlib.font_manager:findfont: score(FontEntry(fname='/System/Library/Fonts/ヒラギノ明朝 ProN.ttc', name='Hiragino Mincho ProN', style='normal', variant='normal', weight=300, stretch='normal', size='scalable')) = 10.145\n",
      "[2023-10-10 10:53:53] DEBUG:matplotlib.font_manager:findfont: score(FontEntry(fname='/System/Library/Fonts/Supplemental/Wingdings 2.ttf', name='Wingdings 2', style='normal', variant='normal', weight=400, stretch='normal', size='scalable')) = 10.05\n",
      "[2023-10-10 10:53:53] DEBUG:matplotlib.font_manager:findfont: score(FontEntry(fname='/System/Library/Fonts/ヒラギノ角ゴシック W3.ttc', name='Hiragino Sans', style='normal', variant='normal', weight=300, stretch='normal', size='scalable')) = 10.145\n",
      "[2023-10-10 10:53:53] DEBUG:matplotlib.font_manager:findfont: score(FontEntry(fname='/System/Library/Fonts/Supplemental/KufiStandardGK.ttc', name='KufiStandardGK', style='normal', variant='normal', weight=400, stretch='normal', size='scalable')) = 10.05\n",
      "[2023-10-10 10:53:53] DEBUG:matplotlib.font_manager:findfont: score(FontEntry(fname='/System/Library/Fonts/Supplemental/Brush Script.ttf', name='Brush Script MT', style='italic', variant='normal', weight=400, stretch='normal', size='scalable')) = 11.05\n",
      "[2023-10-10 10:53:53] DEBUG:matplotlib.font_manager:findfont: score(FontEntry(fname='/System/Library/Fonts/Supplemental/Kannada Sangam MN.ttc', name='Kannada Sangam MN', style='normal', variant='normal', weight=400, stretch='normal', size='scalable')) = 10.05\n",
      "[2023-10-10 10:53:53] DEBUG:matplotlib.font_manager:findfont: score(FontEntry(fname='/System/Library/Fonts/Supplemental/Gujarati Sangam MN.ttc', name='Gujarati Sangam MN', style='normal', variant='normal', weight=400, stretch='normal', size='scalable')) = 10.05\n",
      "[2023-10-10 10:53:53] DEBUG:matplotlib.font_manager:findfont: score(FontEntry(fname='/System/Library/Fonts/Supplemental/NotoSansMultani-Regular.ttf', name='Noto Sans Multani', style='normal', variant='normal', weight=400, stretch='normal', size='scalable')) = 10.05\n",
      "[2023-10-10 10:53:53] DEBUG:matplotlib.font_manager:findfont: score(FontEntry(fname='/Users/jorgezuluagacallejas/Library/Fonts/Space Meatball.otf', name='Space Meatball', style='normal', variant='normal', weight=400, stretch='normal', size='scalable')) = 10.05\n",
      "[2023-10-10 10:53:53] DEBUG:matplotlib.font_manager:findfont: score(FontEntry(fname='/System/Library/Fonts/Symbol.ttf', name='Symbol', style='normal', variant='normal', weight=400, stretch='normal', size='scalable')) = 10.05\n",
      "[2023-10-10 10:53:53] DEBUG:matplotlib.font_manager:findfont: score(FontEntry(fname='/System/Library/Fonts/GeezaPro.ttc', name='Geeza Pro', style='normal', variant='normal', weight=400, stretch='normal', size='scalable')) = 10.05\n",
      "[2023-10-10 10:53:53] DEBUG:matplotlib.font_manager:findfont: score(FontEntry(fname='/System/Library/Fonts/Supplemental/NotoSansKayahLi-Regular.ttf', name='Noto Sans Kayah Li', style='normal', variant='normal', weight=400, stretch='normal', size='scalable')) = 10.05\n",
      "[2023-10-10 10:53:53] DEBUG:matplotlib.font_manager:findfont: score(FontEntry(fname='/System/Library/Fonts/Supplemental/NotoSansOsage-Regular.ttf', name='Noto Sans Osage', style='normal', variant='normal', weight=400, stretch='normal', size='scalable')) = 10.05\n",
      "[2023-10-10 10:53:53] DEBUG:matplotlib.font_manager:findfont: score(FontEntry(fname='/System/Library/Fonts/Supplemental/NotoSansOldPersian-Regular.ttf', name='Noto Sans Old Persian', style='normal', variant='normal', weight=400, stretch='normal', size='scalable')) = 10.05\n",
      "[2023-10-10 10:53:53] DEBUG:matplotlib.font_manager:findfont: score(FontEntry(fname='/System/Library/Fonts/Supplemental/NotoSansMiao-Regular.ttf', name='Noto Sans Miao', style='normal', variant='normal', weight=400, stretch='normal', size='scalable')) = 10.05\n",
      "[2023-10-10 10:53:53] DEBUG:matplotlib.font_manager:findfont: score(FontEntry(fname='/System/Library/Fonts/Supplemental/Damascus.ttc', name='Damascus', style='normal', variant='normal', weight=400, stretch='normal', size='scalable')) = 10.05\n",
      "[2023-10-10 10:53:53] DEBUG:matplotlib.font_manager:findfont: score(FontEntry(fname='/System/Library/Fonts/ArialHB.ttc', name='Arial Hebrew', style='normal', variant='normal', weight=400, stretch='normal', size='scalable')) = 10.05\n",
      "[2023-10-10 10:53:53] DEBUG:matplotlib.font_manager:findfont: score(FontEntry(fname='/System/Library/Fonts/Supplemental/Phosphate.ttc', name='Phosphate', style='normal', variant='normal', weight=400, stretch='normal', size='scalable')) = 10.05\n",
      "[2023-10-10 10:53:53] DEBUG:matplotlib.font_manager:findfont: score(FontEntry(fname='/System/Library/Fonts/Supplemental/NotoSansMendeKikakui-Regular.ttf', name='Noto Sans Mende Kikakui', style='normal', variant='normal', weight=400, stretch='normal', size='scalable')) = 10.05\n",
      "[2023-10-10 10:53:53] DEBUG:matplotlib.font_manager:findfont: score(FontEntry(fname='/System/Library/Fonts/Supplemental/NotoSansBamum-Regular.ttf', name='Noto Sans Bamum', style='normal', variant='normal', weight=400, stretch='normal', size='scalable')) = 10.05\n",
      "[2023-10-10 10:53:53] DEBUG:matplotlib.font_manager:findfont: score(FontEntry(fname='/System/Library/Fonts/Supplemental/SuperClarendon.ttc', name='Superclarendon', style='normal', variant='normal', weight=400, stretch='normal', size='scalable')) = 10.05\n",
      "[2023-10-10 10:53:53] DEBUG:matplotlib.font_manager:findfont: Matching sans\\-serif:style=normal:variant=normal:weight=normal:stretch=normal:size=10.0 to DejaVu Sans ('/Users/jorgezuluagacallejas/opt/anaconda3/lib/python3.9/site-packages/matplotlib/mpl-data/fonts/ttf/DejaVuSans.ttf') with score of 0.050000.\n",
      "[2023-10-10 10:53:53] DEBUG:matplotlib.font_manager:findfont: Matching sans\\-serif:style=normal:variant=normal:weight=normal:stretch=normal:size=10.0.\n",
      "[2023-10-10 10:53:53] DEBUG:matplotlib.font_manager:findfont: score(FontEntry(fname='/Users/jorgezuluagacallejas/opt/anaconda3/lib/python3.9/site-packages/matplotlib/mpl-data/fonts/ttf/DejaVuSansMono-BoldOblique.ttf', name='DejaVu Sans Mono', style='oblique', variant='normal', weight=700, stretch='normal', size='scalable')) = 11.335\n",
      "[2023-10-10 10:53:53] DEBUG:matplotlib.font_manager:findfont: score(FontEntry(fname='/Users/jorgezuluagacallejas/opt/anaconda3/lib/python3.9/site-packages/matplotlib/mpl-data/fonts/ttf/DejaVuSerif.ttf', name='DejaVu Serif', style='normal', variant='normal', weight=400, stretch='normal', size='scalable')) = 10.05\n",
      "[2023-10-10 10:53:53] DEBUG:matplotlib.font_manager:findfont: score(FontEntry(fname='/Users/jorgezuluagacallejas/opt/anaconda3/lib/python3.9/site-packages/matplotlib/mpl-data/fonts/ttf/DejaVuSansMono.ttf', name='DejaVu Sans Mono', style='normal', variant='normal', weight=400, stretch='normal', size='scalable')) = 10.05\n",
      "[2023-10-10 10:53:53] DEBUG:matplotlib.font_manager:findfont: score(FontEntry(fname='/Users/jorgezuluagacallejas/opt/anaconda3/lib/python3.9/site-packages/matplotlib/mpl-data/fonts/ttf/cmmi10.ttf', name='cmmi10', style='normal', variant='normal', weight=400, stretch='normal', size='scalable')) = 10.05\n",
      "[2023-10-10 10:53:53] DEBUG:matplotlib.font_manager:findfont: score(FontEntry(fname='/Users/jorgezuluagacallejas/opt/anaconda3/lib/python3.9/site-packages/matplotlib/mpl-data/fonts/ttf/STIXSizFourSymBol.ttf', name='STIXSizeFourSym', style='normal', variant='normal', weight=700, stretch='normal', size='scalable')) = 10.335\n",
      "[2023-10-10 10:53:53] DEBUG:matplotlib.font_manager:findfont: score(FontEntry(fname='/Users/jorgezuluagacallejas/opt/anaconda3/lib/python3.9/site-packages/matplotlib/mpl-data/fonts/ttf/STIXSizThreeSymReg.ttf', name='STIXSizeThreeSym', style='normal', variant='normal', weight=400, stretch='normal', size='scalable')) = 10.05\n",
      "[2023-10-10 10:53:53] DEBUG:matplotlib.font_manager:findfont: score(FontEntry(fname='/Users/jorgezuluagacallejas/opt/anaconda3/lib/python3.9/site-packages/matplotlib/mpl-data/fonts/ttf/STIXNonUniIta.ttf', name='STIXNonUnicode', style='italic', variant='normal', weight=400, stretch='normal', size='scalable')) = 11.05\n",
      "[2023-10-10 10:53:53] DEBUG:matplotlib.font_manager:findfont: score(FontEntry(fname='/Users/jorgezuluagacallejas/opt/anaconda3/lib/python3.9/site-packages/matplotlib/mpl-data/fonts/ttf/STIXNonUni.ttf', name='STIXNonUnicode', style='normal', variant='normal', weight=400, stretch='normal', size='scalable')) = 10.05\n",
      "[2023-10-10 10:53:53] DEBUG:matplotlib.font_manager:findfont: score(FontEntry(fname='/Users/jorgezuluagacallejas/opt/anaconda3/lib/python3.9/site-packages/matplotlib/mpl-data/fonts/ttf/DejaVuSansDisplay.ttf', name='DejaVu Sans Display', style='normal', variant='normal', weight=400, stretch='normal', size='scalable')) = 10.05\n",
      "[2023-10-10 10:53:53] DEBUG:matplotlib.font_manager:findfont: score(FontEntry(fname='/Users/jorgezuluagacallejas/opt/anaconda3/lib/python3.9/site-packages/matplotlib/mpl-data/fonts/ttf/DejaVuSerifDisplay.ttf', name='DejaVu Serif Display', style='normal', variant='normal', weight=400, stretch='normal', size='scalable')) = 10.05\n",
      "[2023-10-10 10:53:53] DEBUG:matplotlib.font_manager:findfont: score(FontEntry(fname='/Users/jorgezuluagacallejas/opt/anaconda3/lib/python3.9/site-packages/matplotlib/mpl-data/fonts/ttf/DejaVuSerif-Bold.ttf', name='DejaVu Serif', style='normal', variant='normal', weight=700, stretch='normal', size='scalable')) = 10.335\n",
      "[2023-10-10 10:53:53] DEBUG:matplotlib.font_manager:findfont: score(FontEntry(fname='/Users/jorgezuluagacallejas/opt/anaconda3/lib/python3.9/site-packages/matplotlib/mpl-data/fonts/ttf/STIXSizFiveSymReg.ttf', name='STIXSizeFiveSym', style='normal', variant='normal', weight=400, stretch='normal', size='scalable')) = 10.05\n",
      "[2023-10-10 10:53:53] DEBUG:matplotlib.font_manager:findfont: score(FontEntry(fname='/Users/jorgezuluagacallejas/opt/anaconda3/lib/python3.9/site-packages/matplotlib/mpl-data/fonts/ttf/STIXSizTwoSymBol.ttf', name='STIXSizeTwoSym', style='normal', variant='normal', weight=700, stretch='normal', size='scalable')) = 10.335\n",
      "[2023-10-10 10:53:53] DEBUG:matplotlib.font_manager:findfont: score(FontEntry(fname='/Users/jorgezuluagacallejas/opt/anaconda3/lib/python3.9/site-packages/matplotlib/mpl-data/fonts/ttf/STIXSizFourSymReg.ttf', name='STIXSizeFourSym', style='normal', variant='normal', weight=400, stretch='normal', size='scalable')) = 10.05\n",
      "[2023-10-10 10:53:53] DEBUG:matplotlib.font_manager:findfont: score(FontEntry(fname='/Users/jorgezuluagacallejas/opt/anaconda3/lib/python3.9/site-packages/matplotlib/mpl-data/fonts/ttf/DejaVuSansMono-Oblique.ttf', name='DejaVu Sans Mono', style='oblique', variant='normal', weight=400, stretch='normal', size='scalable')) = 11.05\n",
      "[2023-10-10 10:53:53] DEBUG:matplotlib.font_manager:findfont: score(FontEntry(fname='/Users/jorgezuluagacallejas/opt/anaconda3/lib/python3.9/site-packages/matplotlib/mpl-data/fonts/ttf/DejaVuSerif-Italic.ttf', name='DejaVu Serif', style='italic', variant='normal', weight=400, stretch='normal', size='scalable')) = 11.05\n",
      "[2023-10-10 10:53:53] DEBUG:matplotlib.font_manager:findfont: score(FontEntry(fname='/Users/jorgezuluagacallejas/opt/anaconda3/lib/python3.9/site-packages/matplotlib/mpl-data/fonts/ttf/STIXSizOneSymReg.ttf', name='STIXSizeOneSym', style='normal', variant='normal', weight=400, stretch='normal', size='scalable')) = 10.05\n",
      "[2023-10-10 10:53:53] DEBUG:matplotlib.font_manager:findfont: score(FontEntry(fname='/Users/jorgezuluagacallejas/opt/anaconda3/lib/python3.9/site-packages/matplotlib/mpl-data/fonts/ttf/cmss10.ttf', name='cmss10', style='normal', variant='normal', weight=400, stretch='normal', size='scalable')) = 10.05\n",
      "[2023-10-10 10:53:53] DEBUG:matplotlib.font_manager:findfont: score(FontEntry(fname='/Users/jorgezuluagacallejas/opt/anaconda3/lib/python3.9/site-packages/matplotlib/mpl-data/fonts/ttf/STIXGeneralBol.ttf', name='STIXGeneral', style='normal', variant='normal', weight=700, stretch='normal', size='scalable')) = 10.335\n",
      "[2023-10-10 10:53:53] DEBUG:matplotlib.font_manager:findfont: score(FontEntry(fname='/Users/jorgezuluagacallejas/opt/anaconda3/lib/python3.9/site-packages/matplotlib/mpl-data/fonts/ttf/cmr10.ttf', name='cmr10', style='normal', variant='normal', weight=400, stretch='normal', size='scalable')) = 10.05\n",
      "[2023-10-10 10:53:53] DEBUG:matplotlib.font_manager:findfont: score(FontEntry(fname='/Users/jorgezuluagacallejas/opt/anaconda3/lib/python3.9/site-packages/matplotlib/mpl-data/fonts/ttf/STIXGeneralBolIta.ttf', name='STIXGeneral', style='italic', variant='normal', weight=700, stretch='normal', size='scalable')) = 11.335\n",
      "[2023-10-10 10:53:53] DEBUG:matplotlib.font_manager:findfont: score(FontEntry(fname='/Users/jorgezuluagacallejas/opt/anaconda3/lib/python3.9/site-packages/matplotlib/mpl-data/fonts/ttf/STIXSizTwoSymReg.ttf', name='STIXSizeTwoSym', style='normal', variant='normal', weight=400, stretch='normal', size='scalable')) = 10.05\n",
      "[2023-10-10 10:53:53] DEBUG:matplotlib.font_manager:findfont: score(FontEntry(fname='/Users/jorgezuluagacallejas/opt/anaconda3/lib/python3.9/site-packages/matplotlib/mpl-data/fonts/ttf/STIXGeneral.ttf', name='STIXGeneral', style='normal', variant='normal', weight=400, stretch='normal', size='scalable')) = 10.05\n",
      "[2023-10-10 10:53:53] DEBUG:matplotlib.font_manager:findfont: score(FontEntry(fname='/Users/jorgezuluagacallejas/opt/anaconda3/lib/python3.9/site-packages/matplotlib/mpl-data/fonts/ttf/cmtt10.ttf', name='cmtt10', style='normal', variant='normal', weight=400, stretch='normal', size='scalable')) = 10.05\n",
      "[2023-10-10 10:53:53] DEBUG:matplotlib.font_manager:findfont: score(FontEntry(fname='/Users/jorgezuluagacallejas/opt/anaconda3/lib/python3.9/site-packages/matplotlib/mpl-data/fonts/ttf/STIXSizThreeSymBol.ttf', name='STIXSizeThreeSym', style='normal', variant='normal', weight=700, stretch='normal', size='scalable')) = 10.335\n",
      "[2023-10-10 10:53:53] DEBUG:matplotlib.font_manager:findfont: score(FontEntry(fname='/Users/jorgezuluagacallejas/opt/anaconda3/lib/python3.9/site-packages/matplotlib/mpl-data/fonts/ttf/DejaVuSans-Oblique.ttf', name='DejaVu Sans', style='oblique', variant='normal', weight=400, stretch='normal', size='scalable')) = 1.05\n",
      "[2023-10-10 10:53:53] DEBUG:matplotlib.font_manager:findfont: score(FontEntry(fname='/Users/jorgezuluagacallejas/opt/anaconda3/lib/python3.9/site-packages/matplotlib/mpl-data/fonts/ttf/DejaVuSans-Bold.ttf', name='DejaVu Sans', style='normal', variant='normal', weight=700, stretch='normal', size='scalable')) = 0.33499999999999996\n",
      "[2023-10-10 10:53:53] DEBUG:matplotlib.font_manager:findfont: score(FontEntry(fname='/Users/jorgezuluagacallejas/opt/anaconda3/lib/python3.9/site-packages/matplotlib/mpl-data/fonts/ttf/cmsy10.ttf', name='cmsy10', style='normal', variant='normal', weight=400, stretch='normal', size='scalable')) = 10.05\n",
      "[2023-10-10 10:53:53] DEBUG:matplotlib.font_manager:findfont: score(FontEntry(fname='/Users/jorgezuluagacallejas/opt/anaconda3/lib/python3.9/site-packages/matplotlib/mpl-data/fonts/ttf/STIXNonUniBolIta.ttf', name='STIXNonUnicode', style='italic', variant='normal', weight=700, stretch='normal', size='scalable')) = 11.335\n",
      "[2023-10-10 10:53:53] DEBUG:matplotlib.font_manager:findfont: score(FontEntry(fname='/Users/jorgezuluagacallejas/opt/anaconda3/lib/python3.9/site-packages/matplotlib/mpl-data/fonts/ttf/DejaVuSans.ttf', name='DejaVu Sans', style='normal', variant='normal', weight=400, stretch='normal', size='scalable')) = 0.05\n",
      "[2023-10-10 10:53:53] DEBUG:matplotlib.font_manager:findfont: score(FontEntry(fname='/Users/jorgezuluagacallejas/opt/anaconda3/lib/python3.9/site-packages/matplotlib/mpl-data/fonts/ttf/cmex10.ttf', name='cmex10', style='normal', variant='normal', weight=400, stretch='normal', size='scalable')) = 10.05\n",
      "[2023-10-10 10:53:53] DEBUG:matplotlib.font_manager:findfont: score(FontEntry(fname='/Users/jorgezuluagacallejas/opt/anaconda3/lib/python3.9/site-packages/matplotlib/mpl-data/fonts/ttf/DejaVuSans-BoldOblique.ttf', name='DejaVu Sans', style='oblique', variant='normal', weight=700, stretch='normal', size='scalable')) = 1.335\n",
      "[2023-10-10 10:53:53] DEBUG:matplotlib.font_manager:findfont: score(FontEntry(fname='/Users/jorgezuluagacallejas/opt/anaconda3/lib/python3.9/site-packages/matplotlib/mpl-data/fonts/ttf/DejaVuSerif-BoldItalic.ttf', name='DejaVu Serif', style='italic', variant='normal', weight=700, stretch='normal', size='scalable')) = 11.335\n",
      "[2023-10-10 10:53:53] DEBUG:matplotlib.font_manager:findfont: score(FontEntry(fname='/Users/jorgezuluagacallejas/opt/anaconda3/lib/python3.9/site-packages/matplotlib/mpl-data/fonts/ttf/STIXNonUniBol.ttf', name='STIXNonUnicode', style='normal', variant='normal', weight=700, stretch='normal', size='scalable')) = 10.335\n",
      "[2023-10-10 10:53:53] DEBUG:matplotlib.font_manager:findfont: score(FontEntry(fname='/Users/jorgezuluagacallejas/opt/anaconda3/lib/python3.9/site-packages/matplotlib/mpl-data/fonts/ttf/STIXGeneralItalic.ttf', name='STIXGeneral', style='italic', variant='normal', weight=400, stretch='normal', size='scalable')) = 11.05\n",
      "[2023-10-10 10:53:53] DEBUG:matplotlib.font_manager:findfont: score(FontEntry(fname='/Users/jorgezuluagacallejas/opt/anaconda3/lib/python3.9/site-packages/matplotlib/mpl-data/fonts/ttf/DejaVuSansMono-Bold.ttf', name='DejaVu Sans Mono', style='normal', variant='normal', weight=700, stretch='normal', size='scalable')) = 10.335\n",
      "[2023-10-10 10:53:53] DEBUG:matplotlib.font_manager:findfont: score(FontEntry(fname='/Users/jorgezuluagacallejas/opt/anaconda3/lib/python3.9/site-packages/matplotlib/mpl-data/fonts/ttf/cmb10.ttf', name='cmb10', style='normal', variant='normal', weight=400, stretch='normal', size='scalable')) = 10.05\n",
      "[2023-10-10 10:53:53] DEBUG:matplotlib.font_manager:findfont: score(FontEntry(fname='/Users/jorgezuluagacallejas/opt/anaconda3/lib/python3.9/site-packages/matplotlib/mpl-data/fonts/ttf/STIXSizOneSymBol.ttf', name='STIXSizeOneSym', style='normal', variant='normal', weight=700, stretch='normal', size='scalable')) = 10.335\n",
      "[2023-10-10 10:53:53] DEBUG:matplotlib.font_manager:findfont: score(FontEntry(fname='/System/Library/Fonts/Supplemental/NotoSansKhojki-Regular.ttf', name='Noto Sans Khojki', style='normal', variant='normal', weight=400, stretch='normal', size='scalable')) = 10.05\n",
      "[2023-10-10 10:53:53] DEBUG:matplotlib.font_manager:findfont: score(FontEntry(fname='/System/Library/Fonts/Menlo.ttc', name='Menlo', style='normal', variant='normal', weight=400, stretch='normal', size='scalable')) = 10.05\n",
      "[2023-10-10 10:53:53] DEBUG:matplotlib.font_manager:findfont: score(FontEntry(fname='/System/Library/Fonts/Supplemental/Apple Chancery.ttf', name='Apple Chancery', style='normal', variant='normal', weight=0, stretch='normal', size='scalable')) = 10.43\n",
      "[2023-10-10 10:53:53] DEBUG:matplotlib.font_manager:findfont: score(FontEntry(fname='/System/Library/Fonts/AppleSDGothicNeo.ttc', name='Apple SD Gothic Neo', style='normal', variant='normal', weight=400, stretch='normal', size='scalable')) = 10.05\n",
      "[2023-10-10 10:53:53] DEBUG:matplotlib.font_manager:findfont: score(FontEntry(fname='/System/Library/Fonts/Supplemental/STIXIntUpSmReg.otf', name='STIXIntegralsUpSm', style='normal', variant='normal', weight=400, stretch='normal', size='scalable')) = 10.05\n",
      "[2023-10-10 10:53:53] DEBUG:matplotlib.font_manager:findfont: score(FontEntry(fname='/System/Library/Fonts/Supplemental/Sinhala Sangam MN.ttc', name='Sinhala Sangam MN', style='normal', variant='normal', weight=400, stretch='normal', size='scalable')) = 10.05\n",
      "[2023-10-10 10:53:53] DEBUG:matplotlib.font_manager:findfont: score(FontEntry(fname='/System/Library/Fonts/Supplemental/Andale Mono.ttf', name='Andale Mono', style='normal', variant='normal', weight=400, stretch='normal', size='scalable')) = 10.05\n",
      "[2023-10-10 10:53:53] DEBUG:matplotlib.font_manager:findfont: score(FontEntry(fname='/System/Library/Fonts/Supplemental/Arial Rounded Bold.ttf', name='Arial Rounded MT Bold', style='normal', variant='normal', weight=400, stretch='normal', size='scalable')) = 10.05\n",
      "[2023-10-10 10:53:53] DEBUG:matplotlib.font_manager:findfont: score(FontEntry(fname='/System/Library/Fonts/Supplemental/NotoSansElbasan-Regular.ttf', name='Noto Sans Elbasan', style='normal', variant='normal', weight=400, stretch='normal', size='scalable')) = 10.05\n",
      "[2023-10-10 10:53:53] DEBUG:matplotlib.font_manager:findfont: score(FontEntry(fname='/System/Library/Fonts/Supplemental/NotoSansLinearA-Regular.ttf', name='Noto Sans Linear A', style='normal', variant='normal', weight=400, stretch='normal', size='scalable')) = 10.05\n",
      "[2023-10-10 10:53:53] DEBUG:matplotlib.font_manager:findfont: score(FontEntry(fname='/System/Library/Fonts/Supplemental/NotoSansOldTurkic-Regular.ttf', name='Noto Sans Old Turkic', style='normal', variant='normal', weight=400, stretch='normal', size='scalable')) = 10.05\n",
      "[2023-10-10 10:53:53] DEBUG:matplotlib.font_manager:findfont: score(FontEntry(fname='/System/Library/Fonts/Supplemental/Waseem.ttc', name='Waseem', style='normal', variant='normal', weight=400, stretch='normal', size='scalable')) = 10.05\n",
      "[2023-10-10 10:53:53] DEBUG:matplotlib.font_manager:findfont: score(FontEntry(fname='/System/Library/Fonts/Supplemental/STIXSizTwoSymReg.otf', name='STIXSizeTwoSym', style='normal', variant='normal', weight=400, stretch='normal', size='scalable')) = 10.05\n",
      "[2023-10-10 10:53:53] DEBUG:matplotlib.font_manager:findfont: score(FontEntry(fname='/System/Library/Fonts/Supplemental/NotoSansCaucasianAlbanian-Regular.ttf', name='Noto Sans Caucasian Albanian', style='normal', variant='normal', weight=400, stretch='normal', size='scalable')) = 10.05\n",
      "[2023-10-10 10:53:53] DEBUG:matplotlib.font_manager:findfont: score(FontEntry(fname='/System/Library/Fonts/Supplemental/Times New Roman Italic.ttf', name='Times New Roman', style='italic', variant='normal', weight=400, stretch='normal', size='scalable')) = 11.05\n",
      "[2023-10-10 10:53:53] DEBUG:matplotlib.font_manager:findfont: score(FontEntry(fname='/System/Library/Fonts/Supplemental/Times New Roman.ttf', name='Times New Roman', style='normal', variant='normal', weight=400, stretch='normal', size='scalable')) = 10.05\n",
      "[2023-10-10 10:53:53] DEBUG:matplotlib.font_manager:findfont: score(FontEntry(fname='/System/Library/Fonts/Supplemental/NotoSansPsalterPahlavi-Regular.ttf', name='Noto Sans Psalter Pahlavi', style='normal', variant='normal', weight=400, stretch='normal', size='scalable')) = 10.05\n",
      "[2023-10-10 10:53:53] DEBUG:matplotlib.font_manager:findfont: score(FontEntry(fname='/System/Library/Fonts/Supplemental/Nadeem.ttc', name='Nadeem', style='normal', variant='normal', weight=400, stretch='normal', size='scalable')) = 10.05\n",
      "[2023-10-10 10:53:53] DEBUG:matplotlib.font_manager:findfont: score(FontEntry(fname='/System/Library/Fonts/Apple Braille Pinpoint 8 Dot.ttf', name='Apple Braille', style='normal', variant='normal', weight=400, stretch='normal', size='scalable')) = 10.05\n",
      "[2023-10-10 10:53:53] DEBUG:matplotlib.font_manager:findfont: score(FontEntry(fname='/System/Library/Fonts/Supplemental/SukhumvitSet.ttc', name='Sukhumvit Set', style='normal', variant='normal', weight=250, stretch='normal', size='scalable')) = 10.1925\n",
      "[2023-10-10 10:53:53] DEBUG:matplotlib.font_manager:findfont: score(FontEntry(fname='/System/Library/Fonts/Supplemental/Trebuchet MS.ttf', name='Trebuchet MS', style='normal', variant='normal', weight=400, stretch='normal', size='scalable')) = 10.05\n",
      "[2023-10-10 10:53:53] DEBUG:matplotlib.font_manager:findfont: score(FontEntry(fname='/System/Library/Fonts/Supplemental/Arial Unicode.ttf', name='Arial Unicode MS', style='normal', variant='normal', weight=400, stretch='normal', size='scalable')) = 10.05\n",
      "[2023-10-10 10:53:53] DEBUG:matplotlib.font_manager:findfont: score(FontEntry(fname='/System/Library/Fonts/Supplemental/STIXIntSmReg.otf', name='STIXIntegralsSm', style='normal', variant='normal', weight=400, stretch='normal', size='scalable')) = 10.05\n",
      "[2023-10-10 10:53:53] DEBUG:matplotlib.font_manager:findfont: score(FontEntry(fname='/System/Library/Fonts/Supplemental/NotoSansLydian-Regular.ttf', name='Noto Sans Lydian', style='normal', variant='normal', weight=400, stretch='normal', size='scalable')) = 10.05\n",
      "[2023-10-10 10:53:53] DEBUG:matplotlib.font_manager:findfont: score(FontEntry(fname='/System/Library/Fonts/Supplemental/NotoSansNewTaiLue-Regular.ttf', name='Noto Sans New Tai Lue', style='normal', variant='normal', weight=400, stretch='normal', size='scalable')) = 10.05\n",
      "[2023-10-10 10:53:53] DEBUG:matplotlib.font_manager:findfont: score(FontEntry(fname='/System/Library/Fonts/Supplemental/STIXIntUpBol.otf', name='STIXIntegralsUp', style='normal', variant='normal', weight=700, stretch='normal', size='scalable')) = 10.335\n",
      "[2023-10-10 10:53:53] DEBUG:matplotlib.font_manager:findfont: score(FontEntry(fname='/System/Library/Fonts/Supplemental/NotoSansMeeteiMayek-Regular.ttf', name='Noto Sans Meetei Mayek', style='normal', variant='normal', weight=400, stretch='normal', size='scalable')) = 10.05\n",
      "[2023-10-10 10:53:53] DEBUG:matplotlib.font_manager:findfont: score(FontEntry(fname='/System/Library/Fonts/Supplemental/Arial Narrow Italic.ttf', name='Arial Narrow', style='italic', variant='normal', weight=400, stretch='condensed', size='scalable')) = 11.25\n",
      "[2023-10-10 10:53:53] DEBUG:matplotlib.font_manager:findfont: score(FontEntry(fname='/System/Library/Fonts/Supplemental/Zapfino.ttf', name='Zapfino', style='normal', variant='normal', weight=400, stretch='normal', size='scalable')) = 10.05\n",
      "[2023-10-10 10:53:53] DEBUG:matplotlib.font_manager:findfont: score(FontEntry(fname='/System/Library/Fonts/NewYork.ttf', name='.New York', style='normal', variant='normal', weight=400, stretch='normal', size='scalable')) = 10.05\n",
      "[2023-10-10 10:53:53] DEBUG:matplotlib.font_manager:findfont: score(FontEntry(fname='/System/Library/Fonts/Supplemental/Georgia Bold.ttf', name='Georgia', style='normal', variant='normal', weight=700, stretch='normal', size='scalable')) = 10.335\n",
      "[2023-10-10 10:53:53] DEBUG:matplotlib.font_manager:findfont: score(FontEntry(fname='/System/Library/Fonts/STHeiti Medium.ttc', name='Heiti TC', style='normal', variant='normal', weight=400, stretch='normal', size='scalable')) = 10.05\n",
      "[2023-10-10 10:53:53] DEBUG:matplotlib.font_manager:findfont: score(FontEntry(fname='/System/Library/Fonts/Supplemental/NotoSansMahajani-Regular.ttf', name='Noto Sans Mahajani', style='normal', variant='normal', weight=400, stretch='normal', size='scalable')) = 10.05\n",
      "[2023-10-10 10:53:53] DEBUG:matplotlib.font_manager:findfont: score(FontEntry(fname='/System/Library/Fonts/Supplemental/NotoSansHanunoo-Regular.ttf', name='Noto Sans Hanunoo', style='normal', variant='normal', weight=400, stretch='normal', size='scalable')) = 10.05\n",
      "[2023-10-10 10:53:53] DEBUG:matplotlib.font_manager:findfont: score(FontEntry(fname='/System/Library/Fonts/Supplemental/SnellRoundhand.ttc', name='Snell Roundhand', style='normal', variant='normal', weight=500, stretch='normal', size='scalable')) = 10.145\n",
      "[2023-10-10 10:53:53] DEBUG:matplotlib.font_manager:findfont: score(FontEntry(fname='/System/Library/Fonts/Supplemental/DIN Condensed Bold.ttf', name='DIN Condensed', style='normal', variant='normal', weight=700, stretch='condensed', size='scalable')) = 10.535\n",
      "[2023-10-10 10:53:53] DEBUG:matplotlib.font_manager:findfont: score(FontEntry(fname='/System/Library/Fonts/Supplemental/Silom.ttf', name='Silom', style='normal', variant='normal', weight=400, stretch='normal', size='scalable')) = 10.05\n",
      "[2023-10-10 10:53:53] DEBUG:matplotlib.font_manager:findfont: score(FontEntry(fname='/System/Library/Fonts/Supplemental/AppleMyungjo.ttf', name='AppleMyungjo', style='normal', variant='normal', weight=400, stretch='normal', size='scalable')) = 10.05\n",
      "[2023-10-10 10:53:53] DEBUG:matplotlib.font_manager:findfont: score(FontEntry(fname='/System/Library/Fonts/Supplemental/PTSerifCaption.ttc', name='PT Serif Caption', style='normal', variant='normal', weight=400, stretch='normal', size='scalable')) = 10.05\n",
      "[2023-10-10 10:53:53] DEBUG:matplotlib.font_manager:findfont: score(FontEntry(fname='/System/Library/Fonts/Supplemental/NotoSansBassaVah-Regular.ttf', name='Noto Sans Bassa Vah', style='normal', variant='normal', weight=400, stretch='normal', size='scalable')) = 10.05\n",
      "[2023-10-10 10:53:53] DEBUG:matplotlib.font_manager:findfont: score(FontEntry(fname='/System/Library/Fonts/Supplemental/Kailasa.ttc', name='Kailasa', style='normal', variant='normal', weight=400, stretch='normal', size='scalable')) = 10.05\n",
      "[2023-10-10 10:53:53] DEBUG:matplotlib.font_manager:findfont: score(FontEntry(fname='/System/Library/Fonts/Supplemental/Ayuthaya.ttf', name='Ayuthaya', style='normal', variant='normal', weight=400, stretch='normal', size='scalable')) = 10.05\n",
      "[2023-10-10 10:53:53] DEBUG:matplotlib.font_manager:findfont: score(FontEntry(fname='/System/Library/Fonts/Supplemental/NotoSansCypriot-Regular.ttf', name='Noto Sans Cypriot', style='normal', variant='normal', weight=400, stretch='normal', size='scalable')) = 10.05\n",
      "[2023-10-10 10:53:53] DEBUG:matplotlib.font_manager:findfont: score(FontEntry(fname='/System/Library/Fonts/Supplemental/Kannada MN.ttc', name='Kannada MN', style='normal', variant='normal', weight=400, stretch='normal', size='scalable')) = 10.05\n",
      "[2023-10-10 10:53:53] DEBUG:matplotlib.font_manager:findfont: score(FontEntry(fname='/System/Library/Fonts/Supplemental/NotoSansCoptic-Regular.ttf', name='Noto Sans Coptic', style='normal', variant='normal', weight=400, stretch='normal', size='scalable')) = 10.05\n",
      "[2023-10-10 10:53:53] DEBUG:matplotlib.font_manager:findfont: score(FontEntry(fname='/System/Library/Fonts/Supplemental/NotoSansKhudawadi-Regular.ttf', name='Noto Sans Khudawadi', style='normal', variant='normal', weight=400, stretch='normal', size='scalable')) = 10.05\n",
      "[2023-10-10 10:53:53] DEBUG:matplotlib.font_manager:findfont: score(FontEntry(fname='/System/Library/Fonts/Supplemental/NotoSansOgham-Regular.ttf', name='Noto Sans Ogham', style='normal', variant='normal', weight=400, stretch='normal', size='scalable')) = 10.05\n",
      "[2023-10-10 10:53:53] DEBUG:matplotlib.font_manager:findfont: score(FontEntry(fname='/System/Library/Fonts/Supplemental/NotoSansHanifiRohingya-Regular.ttf', name='Noto Sans Hanifi Rohingya', style='normal', variant='normal', weight=400, stretch='normal', size='scalable')) = 10.05\n",
      "[2023-10-10 10:53:53] DEBUG:matplotlib.font_manager:findfont: score(FontEntry(fname='/System/Library/Fonts/Avenir.ttc', name='Avenir', style='normal', variant='normal', weight=400, stretch='normal', size='scalable')) = 10.05\n",
      "[2023-10-10 10:53:53] DEBUG:matplotlib.font_manager:findfont: score(FontEntry(fname='/System/Library/Fonts/Supplemental/Mishafi.ttf', name='Mishafi', style='normal', variant='normal', weight=400, stretch='normal', size='scalable')) = 10.05\n",
      "[2023-10-10 10:53:53] DEBUG:matplotlib.font_manager:findfont: score(FontEntry(fname='/System/Library/Fonts/MuktaMahee.ttc', name='Mukta Mahee', style='normal', variant='normal', weight=400, stretch='normal', size='scalable')) = 10.05\n",
      "[2023-10-10 10:53:53] DEBUG:matplotlib.font_manager:findfont: score(FontEntry(fname='/System/Library/Fonts/Supplemental/NotoSansMro-Regular.ttf', name='Noto Sans Mro', style='normal', variant='normal', weight=400, stretch='normal', size='scalable')) = 10.05\n",
      "[2023-10-10 10:53:53] DEBUG:matplotlib.font_manager:findfont: score(FontEntry(fname='/System/Library/Fonts/Supplemental/Malayalam Sangam MN.ttc', name='Malayalam Sangam MN', style='normal', variant='normal', weight=400, stretch='normal', size='scalable')) = 10.05\n",
      "[2023-10-10 10:53:53] DEBUG:matplotlib.font_manager:findfont: score(FontEntry(fname='/System/Library/Fonts/Supplemental/STIXGeneralBol.otf', name='STIXGeneral', style='normal', variant='normal', weight=700, stretch='normal', size='scalable')) = 10.335\n",
      "[2023-10-10 10:53:53] DEBUG:matplotlib.font_manager:findfont: score(FontEntry(fname='/System/Library/Fonts/Supplemental/STIXIntUpSmBol.otf', name='STIXIntegralsUpSm', style='normal', variant='normal', weight=700, stretch='normal', size='scalable')) = 10.335\n",
      "[2023-10-10 10:53:53] DEBUG:matplotlib.font_manager:findfont: score(FontEntry(fname='/System/Library/Fonts/Supplemental/Songti.ttc', name='Songti SC', style='normal', variant='normal', weight=900, stretch='normal', size='scalable')) = 10.525\n",
      "[2023-10-10 10:53:53] DEBUG:matplotlib.font_manager:findfont: score(FontEntry(fname='/System/Library/Fonts/Supplemental/Krungthep.ttf', name='Krungthep', style='normal', variant='normal', weight=400, stretch='normal', size='scalable')) = 10.05\n",
      "[2023-10-10 10:53:53] DEBUG:matplotlib.font_manager:findfont: score(FontEntry(fname='/System/Library/Fonts/ヒラギノ角ゴシック W8.ttc', name='Hiragino Sans', style='normal', variant='normal', weight=800, stretch='normal', size='scalable')) = 10.43\n",
      "[2023-10-10 10:53:53] DEBUG:matplotlib.font_manager:findfont: score(FontEntry(fname='/System/Library/Fonts/Supplemental/Academy Engraved LET Fonts.ttf', name='Academy Engraved LET', style='normal', variant='normal', weight=400, stretch='normal', size='scalable')) = 10.05\n",
      "[2023-10-10 10:53:53] DEBUG:matplotlib.font_manager:findfont: score(FontEntry(fname='/System/Library/Fonts/Supplemental/NotoSansOsmanya-Regular.ttf', name='Noto Sans Osmanya', style='normal', variant='normal', weight=400, stretch='normal', size='scalable')) = 10.05\n",
      "[2023-10-10 10:53:53] DEBUG:matplotlib.font_manager:findfont: score(FontEntry(fname='/System/Library/Fonts/Supplemental/Sinhala MN.ttc', name='Sinhala MN', style='normal', variant='normal', weight=400, stretch='normal', size='scalable')) = 10.05\n",
      "[2023-10-10 10:53:53] DEBUG:matplotlib.font_manager:findfont: score(FontEntry(fname='/System/Library/Fonts/Supplemental/Arial Narrow Bold.ttf', name='Arial Narrow', style='normal', variant='normal', weight=700, stretch='condensed', size='scalable')) = 10.535\n",
      "[2023-10-10 10:53:53] DEBUG:matplotlib.font_manager:findfont: score(FontEntry(fname='/System/Library/Fonts/Supplemental/NotoSansOldSouthArabian-Regular.ttf', name='Noto Sans Old South Arabian', style='normal', variant='normal', weight=400, stretch='normal', size='scalable')) = 10.05\n",
      "[2023-10-10 10:53:53] DEBUG:matplotlib.font_manager:findfont: score(FontEntry(fname='/System/Library/Fonts/Supplemental/Mshtakan.ttc', name='Mshtakan', style='normal', variant='normal', weight=400, stretch='normal', size='scalable')) = 10.05\n",
      "[2023-10-10 10:53:53] DEBUG:matplotlib.font_manager:findfont: score(FontEntry(fname='/System/Library/Fonts/Supplemental/Corsiva.ttc', name='Corsiva Hebrew', style='normal', variant='normal', weight=400, stretch='normal', size='scalable')) = 10.05\n",
      "[2023-10-10 10:53:53] DEBUG:matplotlib.font_manager:findfont: score(FontEntry(fname='/System/Library/Fonts/Supplemental/Microsoft Sans Serif.ttf', name='Microsoft Sans Serif', style='normal', variant='normal', weight=400, stretch='normal', size='scalable')) = 10.05\n",
      "[2023-10-10 10:53:53] DEBUG:matplotlib.font_manager:findfont: score(FontEntry(fname='/System/Library/Fonts/Supplemental/NotoSansHatran-Regular.ttf', name='Noto Sans Hatran', style='normal', variant='normal', weight=400, stretch='normal', size='scalable')) = 10.05\n",
      "[2023-10-10 10:53:53] DEBUG:matplotlib.font_manager:findfont: score(FontEntry(fname='/System/Library/Fonts/Supplemental/Malayalam MN.ttc', name='Malayalam MN', style='normal', variant='normal', weight=400, stretch='normal', size='scalable')) = 10.05\n",
      "[2023-10-10 10:53:53] DEBUG:matplotlib.font_manager:findfont: score(FontEntry(fname='/System/Library/Fonts/Supplemental/NotoSansNKo-Regular.ttf', name='Noto Sans NKo', style='normal', variant='normal', weight=400, stretch='normal', size='scalable')) = 10.05\n",
      "[2023-10-10 10:53:53] DEBUG:matplotlib.font_manager:findfont: score(FontEntry(fname='/System/Library/Fonts/Supplemental/NotoSansKaithi-Regular.ttf', name='Noto Sans Kaithi', style='normal', variant='normal', weight=400, stretch='normal', size='scalable')) = 10.05\n",
      "[2023-10-10 10:53:53] DEBUG:matplotlib.font_manager:findfont: score(FontEntry(fname='/System/Library/Fonts/Supplemental/Diwan Thuluth.ttf', name='Diwan Thuluth', style='normal', variant='normal', weight=400, stretch='normal', size='scalable')) = 10.05\n",
      "[2023-10-10 10:53:53] DEBUG:matplotlib.font_manager:findfont: score(FontEntry(fname='/System/Library/Fonts/Supplemental/Courier New.ttf', name='Courier New', style='normal', variant='normal', weight=400, stretch='normal', size='scalable')) = 10.05\n",
      "[2023-10-10 10:53:53] DEBUG:matplotlib.font_manager:findfont: score(FontEntry(fname='/System/Library/Fonts/Supplemental/STIXNonUniIta.otf', name='STIXNonUnicode', style='italic', variant='normal', weight=400, stretch='normal', size='scalable')) = 11.05\n",
      "[2023-10-10 10:53:53] DEBUG:matplotlib.font_manager:findfont: score(FontEntry(fname='/System/Library/Fonts/ZapfDingbats.ttf', name='Zapf Dingbats', style='normal', variant='normal', weight=400, stretch='normal', size='scalable')) = 10.05\n",
      "[2023-10-10 10:53:53] DEBUG:matplotlib.font_manager:findfont: score(FontEntry(fname='/System/Library/Fonts/Supplemental/NotoSansBrahmi-Regular.ttf', name='Noto Sans Brahmi', style='normal', variant='normal', weight=400, stretch='normal', size='scalable')) = 10.05\n",
      "[2023-10-10 10:53:53] DEBUG:matplotlib.font_manager:findfont: score(FontEntry(fname='/System/Library/Fonts/Supplemental/Bodoni 72 OS.ttc', name='Bodoni 72 Oldstyle', style='normal', variant='normal', weight=400, stretch='normal', size='scalable')) = 10.05\n",
      "[2023-10-10 10:53:53] DEBUG:matplotlib.font_manager:findfont: score(FontEntry(fname='/System/Library/Fonts/Supplemental/NotoSansSylotiNagri-Regular.ttf', name='Noto Sans Syloti Nagri', style='normal', variant='normal', weight=400, stretch='normal', size='scalable')) = 10.05\n",
      "[2023-10-10 10:53:53] DEBUG:matplotlib.font_manager:findfont: score(FontEntry(fname='/System/Library/Fonts/Supplemental/Bodoni Ornaments.ttf', name='Bodoni Ornaments', style='normal', variant='normal', weight=400, stretch='normal', size='scalable')) = 10.05\n",
      "[2023-10-10 10:53:53] DEBUG:matplotlib.font_manager:findfont: score(FontEntry(fname='/System/Library/Fonts/Supplemental/NotoSansNewa-Regular.ttf', name='Noto Sans Newa', style='normal', variant='normal', weight=400, stretch='normal', size='scalable')) = 10.05\n",
      "[2023-10-10 10:53:53] DEBUG:matplotlib.font_manager:findfont: score(FontEntry(fname='/System/Library/Fonts/Supplemental/STIXGeneral.otf', name='STIXGeneral', style='normal', variant='normal', weight=400, stretch='normal', size='scalable')) = 10.05\n",
      "[2023-10-10 10:53:53] DEBUG:matplotlib.font_manager:findfont: score(FontEntry(fname='/System/Library/Fonts/Supplemental/Bangla MN.ttc', name='Bangla MN', style='normal', variant='normal', weight=400, stretch='normal', size='scalable')) = 10.05\n",
      "[2023-10-10 10:53:53] DEBUG:matplotlib.font_manager:findfont: score(FontEntry(fname='/System/Library/Fonts/Supplemental/NotoSansCham-Regular.ttf', name='Noto Sans Cham', style='normal', variant='normal', weight=400, stretch='normal', size='scalable')) = 10.05\n",
      "[2023-10-10 10:53:53] DEBUG:matplotlib.font_manager:findfont: score(FontEntry(fname='/System/Library/Fonts/ヒラギノ角ゴシック W1.ttc', name='Hiragino Sans', style='normal', variant='normal', weight=200, stretch='normal', size='scalable')) = 10.24\n",
      "[2023-10-10 10:53:53] DEBUG:matplotlib.font_manager:findfont: score(FontEntry(fname='/System/Library/Fonts/Supplemental/NotoSansBatak-Regular.ttf', name='Noto Sans Batak', style='normal', variant='normal', weight=400, stretch='normal', size='scalable')) = 10.05\n",
      "[2023-10-10 10:53:53] DEBUG:matplotlib.font_manager:findfont: score(FontEntry(fname='/System/Library/Fonts/Apple Symbols.ttf', name='Apple Symbols', style='normal', variant='normal', weight=400, stretch='normal', size='scalable')) = 10.05\n",
      "[2023-10-10 10:53:53] DEBUG:matplotlib.font_manager:findfont: score(FontEntry(fname='/System/Library/Fonts/NewYorkItalic.ttf', name='.New York', style='italic', variant='normal', weight=400, stretch='normal', size='scalable')) = 11.05\n",
      "[2023-10-10 10:53:53] DEBUG:matplotlib.font_manager:findfont: score(FontEntry(fname='/System/Library/Fonts/ヒラギノ角ゴシック W2.ttc', name='Hiragino Sans', style='normal', variant='normal', weight=250, stretch='normal', size='scalable')) = 10.1925\n",
      "[2023-10-10 10:53:53] DEBUG:matplotlib.font_manager:findfont: score(FontEntry(fname='/System/Library/Fonts/Supplemental/Verdana Bold Italic.ttf', name='Verdana', style='italic', variant='normal', weight=700, stretch='normal', size='scalable')) = 4.971363636363637\n",
      "[2023-10-10 10:53:53] DEBUG:matplotlib.font_manager:findfont: score(FontEntry(fname='/System/Library/Fonts/SFCompactItalic.ttf', name='.SF Compact', style='italic', variant='normal', weight=1000, stretch='normal', size='scalable')) = 11.62\n",
      "[2023-10-10 10:53:53] DEBUG:matplotlib.font_manager:findfont: score(FontEntry(fname='/System/Library/Fonts/Supplemental/Galvji.ttc', name='Galvji', style='normal', variant='normal', weight=400, stretch='normal', size='scalable')) = 10.05\n",
      "[2023-10-10 10:53:53] DEBUG:matplotlib.font_manager:findfont: score(FontEntry(fname='/System/Library/Fonts/Apple Braille Pinpoint 6 Dot.ttf', name='Apple Braille', style='normal', variant='normal', weight=400, stretch='normal', size='scalable')) = 10.05\n",
      "[2023-10-10 10:53:53] DEBUG:matplotlib.font_manager:findfont: score(FontEntry(fname='/System/Library/Fonts/Supplemental/NotoSansVai-Regular.ttf', name='Noto Sans Vai', style='normal', variant='normal', weight=400, stretch='normal', size='scalable')) = 10.05\n",
      "[2023-10-10 10:53:53] DEBUG:matplotlib.font_manager:findfont: score(FontEntry(fname='/System/Library/Fonts/Apple Braille.ttf', name='Apple Braille', style='normal', variant='normal', weight=400, stretch='normal', size='scalable')) = 10.05\n",
      "[2023-10-10 10:53:53] DEBUG:matplotlib.font_manager:findfont: score(FontEntry(fname='/System/Library/Fonts/Supplemental/Myanmar MN.ttc', name='Myanmar MN', style='normal', variant='normal', weight=400, stretch='normal', size='scalable')) = 10.05\n",
      "[2023-10-10 10:53:53] DEBUG:matplotlib.font_manager:findfont: score(FontEntry(fname='/System/Library/Fonts/Supplemental/DIN Alternate Bold.ttf', name='DIN Alternate', style='normal', variant='normal', weight=700, stretch='normal', size='scalable')) = 10.335\n",
      "[2023-10-10 10:53:53] DEBUG:matplotlib.font_manager:findfont: score(FontEntry(fname='/System/Library/Fonts/Supplemental/Comic Sans MS Bold.ttf', name='Comic Sans MS', style='normal', variant='normal', weight=700, stretch='normal', size='scalable')) = 10.335\n",
      "[2023-10-10 10:53:53] DEBUG:matplotlib.font_manager:findfont: score(FontEntry(fname='/System/Library/Fonts/Supplemental/NotoSansSamaritan-Regular.ttf', name='Noto Sans Samaritan', style='normal', variant='normal', weight=400, stretch='normal', size='scalable')) = 10.05\n",
      "[2023-10-10 10:53:53] DEBUG:matplotlib.font_manager:findfont: score(FontEntry(fname='/System/Library/Fonts/Supplemental/Athelas.ttc', name='Athelas', style='normal', variant='normal', weight=400, stretch='normal', size='scalable')) = 10.05\n",
      "[2023-10-10 10:53:53] DEBUG:matplotlib.font_manager:findfont: score(FontEntry(fname='/System/Library/Fonts/Supplemental/EuphemiaCAS.ttc', name='Euphemia UCAS', style='normal', variant='normal', weight=400, stretch='normal', size='scalable')) = 10.05\n",
      "[2023-10-10 10:53:53] DEBUG:matplotlib.font_manager:findfont: score(FontEntry(fname='/System/Library/Fonts/Supplemental/NotoSansPahawhHmong-Regular.ttf', name='Noto Sans Pahawh Hmong', style='normal', variant='normal', weight=400, stretch='normal', size='scalable')) = 10.05\n",
      "[2023-10-10 10:53:53] DEBUG:matplotlib.font_manager:findfont: score(FontEntry(fname='/System/Library/Fonts/NotoSansMyanmar.ttc', name='Noto Sans Myanmar', style='normal', variant='normal', weight=900, stretch='normal', size='scalable')) = 10.525\n",
      "[2023-10-10 10:53:53] DEBUG:matplotlib.font_manager:findfont: score(FontEntry(fname='/System/Library/Fonts/Supplemental/SignPainter.ttc', name='SignPainter', style='normal', variant='normal', weight=400, stretch='normal', size='scalable')) = 10.05\n",
      "[2023-10-10 10:53:53] DEBUG:matplotlib.font_manager:findfont: score(FontEntry(fname='/System/Library/Fonts/Supplemental/Luminari.ttf', name='Luminari', style='normal', variant='normal', weight=400, stretch='normal', size='scalable')) = 10.05\n",
      "[2023-10-10 10:53:53] DEBUG:matplotlib.font_manager:findfont: score(FontEntry(fname='/System/Library/Fonts/Supplemental/Arial Narrow Bold Italic.ttf', name='Arial Narrow', style='italic', variant='normal', weight=700, stretch='condensed', size='scalable')) = 11.535\n",
      "[2023-10-10 10:53:53] DEBUG:matplotlib.font_manager:findfont: score(FontEntry(fname='/System/Library/Fonts/Supplemental/ChalkboardSE.ttc', name='Chalkboard SE', style='normal', variant='normal', weight=400, stretch='normal', size='scalable')) = 10.05\n",
      "[2023-10-10 10:53:53] DEBUG:matplotlib.font_manager:findfont: score(FontEntry(fname='/System/Library/Fonts/Supplemental/Hoefler Text.ttc', name='Hoefler Text', style='normal', variant='normal', weight=400, stretch='normal', size='scalable')) = 10.05\n",
      "[2023-10-10 10:53:53] DEBUG:matplotlib.font_manager:findfont: score(FontEntry(fname='/System/Library/Fonts/Supplemental/Bodoni 72.ttc', name='Bodoni 72', style='normal', variant='normal', weight=400, stretch='normal', size='scalable')) = 10.05\n",
      "[2023-10-10 10:53:53] DEBUG:matplotlib.font_manager:findfont: score(FontEntry(fname='/System/Library/Fonts/Supplemental/NotoSansMongolian-Regular.ttf', name='Noto Sans Mongolian', style='normal', variant='normal', weight=400, stretch='normal', size='scalable')) = 10.05\n",
      "[2023-10-10 10:53:53] DEBUG:matplotlib.font_manager:findfont: score(FontEntry(fname='/System/Library/Fonts/Supplemental/NotoSansLinearB-Regular.ttf', name='Noto Sans Linear B', style='normal', variant='normal', weight=400, stretch='normal', size='scalable')) = 10.05\n",
      "[2023-10-10 10:53:53] DEBUG:matplotlib.font_manager:findfont: score(FontEntry(fname='/System/Library/Fonts/Supplemental/AmericanTypewriter.ttc', name='American Typewriter', style='normal', variant='normal', weight=400, stretch='normal', size='scalable')) = 10.05\n",
      "[2023-10-10 10:53:53] DEBUG:matplotlib.font_manager:findfont: score(FontEntry(fname='/System/Library/Fonts/Supplemental/Georgia.ttf', name='Georgia', style='normal', variant='normal', weight=400, stretch='normal', size='scalable')) = 10.05\n",
      "[2023-10-10 10:53:53] DEBUG:matplotlib.font_manager:findfont: score(FontEntry(fname='/System/Library/Fonts/Supplemental/STIXIntUpReg.otf', name='STIXIntegralsUp', style='normal', variant='normal', weight=400, stretch='normal', size='scalable')) = 10.05\n",
      "[2023-10-10 10:53:53] DEBUG:matplotlib.font_manager:findfont: score(FontEntry(fname='/System/Library/Fonts/Supplemental/PTSans.ttc', name='PT Sans', style='normal', variant='normal', weight=400, stretch='normal', size='scalable')) = 10.05\n",
      "[2023-10-10 10:53:53] DEBUG:matplotlib.font_manager:findfont: score(FontEntry(fname='/System/Library/Fonts/MarkerFelt.ttc', name='Marker Felt', style='normal', variant='normal', weight=400, stretch='normal', size='scalable')) = 10.05\n",
      "[2023-10-10 10:53:53] DEBUG:matplotlib.font_manager:findfont: score(FontEntry(fname='/System/Library/Fonts/Supplemental/NotoSansAdlam-Regular.ttf', name='Noto Sans Adlam', style='normal', variant='normal', weight=400, stretch='normal', size='scalable')) = 10.05\n",
      "[2023-10-10 10:53:53] DEBUG:matplotlib.font_manager:findfont: score(FontEntry(fname='/System/Library/Fonts/Noteworthy.ttc', name='Noteworthy', style='normal', variant='normal', weight=300, stretch='normal', size='scalable')) = 10.145\n",
      "[2023-10-10 10:53:53] DEBUG:matplotlib.font_manager:findfont: score(FontEntry(fname='/System/Library/Fonts/Supplemental/Comic Sans MS.ttf', name='Comic Sans MS', style='normal', variant='normal', weight=400, stretch='normal', size='scalable')) = 10.05\n",
      "[2023-10-10 10:53:53] DEBUG:matplotlib.font_manager:findfont: score(FontEntry(fname='/System/Library/Fonts/Supplemental/PTMono.ttc', name='PT Mono', style='normal', variant='normal', weight=700, stretch='normal', size='scalable')) = 10.335\n",
      "[2023-10-10 10:53:53] DEBUG:matplotlib.font_manager:findfont: score(FontEntry(fname='/System/Library/Fonts/Supplemental/NotoSansSharada-Regular.ttf', name='Noto Sans Sharada', style='normal', variant='normal', weight=400, stretch='normal', size='scalable')) = 10.05\n",
      "[2023-10-10 10:53:53] DEBUG:matplotlib.font_manager:findfont: score(FontEntry(fname='/System/Library/Fonts/Supplemental/NotoSansGlagolitic-Regular.ttf', name='Noto Sans Glagolitic', style='normal', variant='normal', weight=400, stretch='normal', size='scalable')) = 10.05\n",
      "[2023-10-10 10:53:53] DEBUG:matplotlib.font_manager:findfont: score(FontEntry(fname='/System/Library/Fonts/Supplemental/NotoSansKharoshthi-Regular.ttf', name='Noto Sans Kharoshthi', style='normal', variant='normal', weight=400, stretch='normal', size='scalable')) = 10.05\n",
      "[2023-10-10 10:53:53] DEBUG:matplotlib.font_manager:findfont: score(FontEntry(fname='/System/Library/Fonts/KohinoorTelugu.ttc', name='Kohinoor Telugu', style='normal', variant='normal', weight=400, stretch='normal', size='scalable')) = 10.05\n",
      "[2023-10-10 10:53:53] DEBUG:matplotlib.font_manager:findfont: score(FontEntry(fname='/System/Library/Fonts/Supplemental/Futura.ttc', name='Futura', style='normal', variant='normal', weight=500, stretch='normal', size='scalable')) = 10.145\n",
      "[2023-10-10 10:53:53] DEBUG:matplotlib.font_manager:findfont: score(FontEntry(fname='/System/Library/Fonts/Supplemental/Telugu MN.ttc', name='Telugu MN', style='normal', variant='normal', weight=400, stretch='normal', size='scalable')) = 10.05\n",
      "[2023-10-10 10:53:53] DEBUG:matplotlib.font_manager:findfont: score(FontEntry(fname='/System/Library/Fonts/Supplemental/Courier New Italic.ttf', name='Courier New', style='italic', variant='normal', weight=400, stretch='normal', size='scalable')) = 11.05\n",
      "[2023-10-10 10:53:53] DEBUG:matplotlib.font_manager:findfont: score(FontEntry(fname='/System/Library/Fonts/Supplemental/Mishafi Gold.ttf', name='Mishafi Gold', style='normal', variant='normal', weight=400, stretch='normal', size='scalable')) = 10.05\n",
      "[2023-10-10 10:53:53] DEBUG:matplotlib.font_manager:findfont: score(FontEntry(fname='/System/Library/Fonts/Supplemental/NotoSansTagalog-Regular.ttf', name='Noto Sans Tagalog', style='normal', variant='normal', weight=400, stretch='normal', size='scalable')) = 10.05\n",
      "[2023-10-10 10:53:53] DEBUG:matplotlib.font_manager:findfont: score(FontEntry(fname='/System/Library/Fonts/Supplemental/STIXIntUpDReg.otf', name='STIXIntegralsUpD', style='normal', variant='normal', weight=400, stretch='normal', size='scalable')) = 10.05\n",
      "[2023-10-10 10:53:53] DEBUG:matplotlib.font_manager:findfont: score(FontEntry(fname='/System/Library/Fonts/Supplemental/NotoSansUgaritic-Regular.ttf', name='Noto Sans Ugaritic', style='normal', variant='normal', weight=400, stretch='normal', size='scalable')) = 10.05\n",
      "[2023-10-10 10:53:53] DEBUG:matplotlib.font_manager:findfont: score(FontEntry(fname='/System/Library/Fonts/Supplemental/NotoSansLisu-Regular.ttf', name='Noto Sans Lisu', style='normal', variant='normal', weight=400, stretch='normal', size='scalable')) = 10.05\n",
      "[2023-10-10 10:53:53] DEBUG:matplotlib.font_manager:findfont: score(FontEntry(fname='/System/Library/Fonts/Supplemental/NotoSansSyriac-Regular.ttf', name='Noto Sans Syriac', style='normal', variant='normal', weight=400, stretch='normal', size='scalable')) = 10.05\n",
      "[2023-10-10 10:53:53] DEBUG:matplotlib.font_manager:findfont: score(FontEntry(fname='/System/Library/Fonts/Supplemental/Kefa.ttc', name='Kefa', style='normal', variant='normal', weight=400, stretch='normal', size='scalable')) = 10.05\n",
      "[2023-10-10 10:53:53] DEBUG:matplotlib.font_manager:findfont: score(FontEntry(fname='/System/Library/Fonts/Supplemental/NotoSansTaiTham-Regular.ttf', name='Noto Sans Tai Tham', style='normal', variant='normal', weight=400, stretch='normal', size='scalable')) = 10.05\n",
      "[2023-10-10 10:53:53] DEBUG:matplotlib.font_manager:findfont: score(FontEntry(fname='/System/Library/Fonts/Supplemental/NotoSansShavian-Regular.ttf', name='Noto Sans Shavian', style='normal', variant='normal', weight=400, stretch='normal', size='scalable')) = 10.05\n",
      "[2023-10-10 10:53:53] DEBUG:matplotlib.font_manager:findfont: score(FontEntry(fname='/System/Library/Fonts/Supplemental/Farisi.ttf', name='Farisi', style='normal', variant='normal', weight=400, stretch='normal', size='scalable')) = 10.05\n",
      "[2023-10-10 10:53:53] DEBUG:matplotlib.font_manager:findfont: score(FontEntry(fname='/System/Library/Fonts/Supplemental/NotoSansSaurashtra-Regular.ttf', name='Noto Sans Saurashtra', style='normal', variant='normal', weight=400, stretch='normal', size='scalable')) = 10.05\n",
      "[2023-10-10 10:53:53] DEBUG:matplotlib.font_manager:findfont: score(FontEntry(fname='/System/Library/Fonts/Supplemental/Cochin.ttc', name='Cochin', style='normal', variant='normal', weight=500, stretch='normal', size='scalable')) = 10.145\n",
      "[2023-10-10 10:53:53] DEBUG:matplotlib.font_manager:findfont: score(FontEntry(fname='/System/Library/Fonts/Supplemental/Myanmar Sangam MN.ttc', name='Myanmar Sangam MN', style='normal', variant='normal', weight=400, stretch='normal', size='scalable')) = 10.05\n",
      "[2023-10-10 10:53:53] DEBUG:matplotlib.font_manager:findfont: score(FontEntry(fname='/System/Library/Fonts/Supplemental/Trebuchet MS Bold Italic.ttf', name='Trebuchet MS', style='italic', variant='normal', weight=700, stretch='normal', size='scalable')) = 11.335\n",
      "[2023-10-10 10:53:53] DEBUG:matplotlib.font_manager:findfont: score(FontEntry(fname='/System/Library/Fonts/Supplemental/NewPeninimMT.ttc', name='New Peninim MT', style='normal', variant='normal', weight=400, stretch='normal', size='scalable')) = 10.05\n",
      "[2023-10-10 10:53:53] DEBUG:matplotlib.font_manager:findfont: score(FontEntry(fname='/System/Library/Fonts/Supplemental/Wingdings.ttf', name='Wingdings', style='normal', variant='normal', weight=400, stretch='normal', size='scalable')) = 10.05\n",
      "[2023-10-10 10:53:53] DEBUG:matplotlib.font_manager:findfont: score(FontEntry(fname='/System/Library/Fonts/Supplemental/Sana.ttc', name='Sana', style='normal', variant='normal', weight=400, stretch='normal', size='scalable')) = 10.05\n",
      "[2023-10-10 10:53:53] DEBUG:matplotlib.font_manager:findfont: score(FontEntry(fname='/System/Library/Fonts/Supplemental/NotoSansWarangCiti-Regular.ttf', name='Noto Sans Warang Citi', style='normal', variant='normal', weight=400, stretch='normal', size='scalable')) = 10.05\n",
      "[2023-10-10 10:53:53] DEBUG:matplotlib.font_manager:findfont: score(FontEntry(fname='/System/Library/Fonts/Supplemental/NotoSansNabataean-Regular.ttf', name='Noto Sans Nabataean', style='normal', variant='normal', weight=400, stretch='normal', size='scalable')) = 10.05\n",
      "[2023-10-10 10:53:53] DEBUG:matplotlib.font_manager:findfont: score(FontEntry(fname='/System/Library/Fonts/Supplemental/Lao Sangam MN.ttf', name='Lao Sangam MN', style='normal', variant='normal', weight=400, stretch='normal', size='scalable')) = 10.05\n",
      "[2023-10-10 10:53:53] DEBUG:matplotlib.font_manager:findfont: score(FontEntry(fname='/System/Library/Fonts/AquaKana.ttc', name='.Aqua Kana', style='normal', variant='normal', weight=300, stretch='normal', size='scalable')) = 10.145\n",
      "[2023-10-10 10:53:53] DEBUG:matplotlib.font_manager:findfont: score(FontEntry(fname='/System/Library/Fonts/ArabicUIDisplay.ttc', name='.Arabic UI Display', style='normal', variant='normal', weight=900, stretch='normal', size='scalable')) = 10.525\n",
      "[2023-10-10 10:53:53] DEBUG:matplotlib.font_manager:findfont: score(FontEntry(fname='/System/Library/Fonts/Supplemental/NotoSansLycian-Regular.ttf', name='Noto Sans Lycian', style='normal', variant='normal', weight=400, stretch='normal', size='scalable')) = 10.05\n",
      "[2023-10-10 10:53:53] DEBUG:matplotlib.font_manager:findfont: score(FontEntry(fname='/System/Library/Fonts/Supplemental/Gurmukhi.ttf', name='Gurmukhi MT', style='normal', variant='normal', weight=500, stretch='normal', size='scalable')) = 10.145\n",
      "[2023-10-10 10:53:53] DEBUG:matplotlib.font_manager:findfont: score(FontEntry(fname='/System/Library/Fonts/Supplemental/NotoSansLepcha-Regular.ttf', name='Noto Sans Lepcha', style='normal', variant='normal', weight=400, stretch='normal', size='scalable')) = 10.05\n",
      "[2023-10-10 10:53:53] DEBUG:matplotlib.font_manager:findfont: score(FontEntry(fname='/System/Library/Fonts/Supplemental/Courier New Bold Italic.ttf', name='Courier New', style='italic', variant='normal', weight=700, stretch='normal', size='scalable')) = 11.335\n",
      "[2023-10-10 10:53:53] DEBUG:matplotlib.font_manager:findfont: score(FontEntry(fname='/System/Library/Fonts/Supplemental/NotoSansTaiLe-Regular.ttf', name='Noto Sans Tai Le', style='normal', variant='normal', weight=400, stretch='normal', size='scalable')) = 10.05\n",
      "[2023-10-10 10:53:53] DEBUG:matplotlib.font_manager:findfont: score(FontEntry(fname='/System/Library/Fonts/Supplemental/Tahoma Bold.ttf', name='Tahoma', style='normal', variant='normal', weight=700, stretch='normal', size='scalable')) = 10.335\n",
      "[2023-10-10 10:53:53] DEBUG:matplotlib.font_manager:findfont: score(FontEntry(fname='/System/Library/Fonts/Supplemental/Copperplate.ttc', name='Copperplate', style='normal', variant='normal', weight=400, stretch='normal', size='scalable')) = 10.05\n",
      "[2023-10-10 10:53:53] DEBUG:matplotlib.font_manager:findfont: score(FontEntry(fname='/System/Library/Fonts/Supplemental/NotoSansTakri-Regular.ttf', name='Noto Sans Takri', style='normal', variant='normal', weight=400, stretch='normal', size='scalable')) = 10.05\n",
      "[2023-10-10 10:53:53] DEBUG:matplotlib.font_manager:findfont: score(FontEntry(fname='/System/Library/Fonts/Optima.ttc', name='Optima', style='normal', variant='normal', weight=400, stretch='normal', size='scalable')) = 10.05\n",
      "[2023-10-10 10:53:53] DEBUG:matplotlib.font_manager:findfont: score(FontEntry(fname='/System/Library/Fonts/Supplemental/NotoSansAvestan-Regular.ttf', name='Noto Sans Avestan', style='normal', variant='normal', weight=400, stretch='normal', size='scalable')) = 10.05\n",
      "[2023-10-10 10:53:53] DEBUG:matplotlib.font_manager:findfont: score(FontEntry(fname='/System/Library/Fonts/Supplemental/Courier New Bold.ttf', name='Courier New', style='normal', variant='normal', weight=700, stretch='normal', size='scalable')) = 10.335\n",
      "[2023-10-10 10:53:53] DEBUG:matplotlib.font_manager:findfont: score(FontEntry(fname='/System/Library/Fonts/Supplemental/Charter.ttc', name='Charter', style='normal', variant='normal', weight=400, stretch='normal', size='scalable')) = 10.05\n",
      "[2023-10-10 10:53:53] DEBUG:matplotlib.font_manager:findfont: score(FontEntry(fname='/System/Library/Fonts/Supplemental/STIXNonUni.otf', name='STIXNonUnicode', style='normal', variant='normal', weight=400, stretch='normal', size='scalable')) = 10.05\n",
      "[2023-10-10 10:53:53] DEBUG:matplotlib.font_manager:findfont: score(FontEntry(fname='/System/Library/Fonts/NotoNastaliq.ttc', name='Noto Nastaliq Urdu', style='normal', variant='normal', weight=400, stretch='normal', size='scalable')) = 10.05\n",
      "[2023-10-10 10:53:53] DEBUG:matplotlib.font_manager:findfont: score(FontEntry(fname='/System/Library/Fonts/Supplemental/Tahoma.ttf', name='Tahoma', style='normal', variant='normal', weight=400, stretch='normal', size='scalable')) = 10.05\n",
      "[2023-10-10 10:53:53] DEBUG:matplotlib.font_manager:findfont: score(FontEntry(fname='/System/Library/Fonts/Supplemental/NotoSansSundanese-Regular.ttf', name='Noto Sans Sundanese', style='normal', variant='normal', weight=400, stretch='normal', size='scalable')) = 10.05\n",
      "[2023-10-10 10:53:53] DEBUG:matplotlib.font_manager:findfont: score(FontEntry(fname='/System/Library/Fonts/Supplemental/NotoSansCuneiform-Regular.ttf', name='Noto Sans Cuneiform', style='normal', variant='normal', weight=400, stretch='normal', size='scalable')) = 10.05\n",
      "[2023-10-10 10:53:53] DEBUG:matplotlib.font_manager:findfont: score(FontEntry(fname='/System/Library/Fonts/Supplemental/Lao MN.ttc', name='Lao MN', style='normal', variant='normal', weight=400, stretch='normal', size='scalable')) = 10.05\n",
      "[2023-10-10 10:53:53] DEBUG:matplotlib.font_manager:findfont: score(FontEntry(fname='/System/Library/Fonts/Supplemental/NotoSansTagbanwa-Regular.ttf', name='Noto Sans Tagbanwa', style='normal', variant='normal', weight=400, stretch='normal', size='scalable')) = 10.05\n",
      "[2023-10-10 10:53:53] DEBUG:matplotlib.font_manager:findfont: score(FontEntry(fname='/System/Library/Fonts/NotoSansOriya.ttc', name='Noto Sans Oriya', style='normal', variant='normal', weight=400, stretch='normal', size='scalable')) = 10.05\n",
      "[2023-10-10 10:53:53] DEBUG:matplotlib.font_manager:findfont: score(FontEntry(fname='/System/Library/Fonts/KohinoorGujarati.ttc', name='Kohinoor Gujarati', style='normal', variant='normal', weight=700, stretch='normal', size='scalable')) = 10.335\n",
      "[2023-10-10 10:53:53] DEBUG:matplotlib.font_manager:findfont: score(FontEntry(fname='/System/Library/Fonts/Keyboard.ttf', name='.Keyboard', style='normal', variant='normal', weight=100, stretch='normal', size='scalable')) = 10.335\n",
      "[2023-10-10 10:53:53] DEBUG:matplotlib.font_manager:findfont: score(FontEntry(fname='/System/Library/Fonts/Supplemental/ITFDevanagari.ttc', name='ITF Devanagari', style='normal', variant='normal', weight=400, stretch='normal', size='scalable')) = 10.05\n",
      "[2023-10-10 10:53:53] DEBUG:matplotlib.font_manager:findfont: score(FontEntry(fname='/System/Library/Fonts/HelveticaNeue.ttc', name='Helvetica Neue', style='normal', variant='normal', weight=400, stretch='normal', size='scalable')) = 10.05\n",
      "[2023-10-10 10:53:53] DEBUG:matplotlib.font_manager:findfont: score(FontEntry(fname='/System/Library/Fonts/Supplemental/NotoSansPauCinHau-Regular.ttf', name='Noto Sans Pau Cin Hau', style='normal', variant='normal', weight=400, stretch='normal', size='scalable')) = 10.05\n",
      "[2023-10-10 10:53:53] DEBUG:matplotlib.font_manager:findfont: score(FontEntry(fname='/System/Library/Fonts/Supplemental/Times New Roman Bold Italic.ttf', name='Times New Roman', style='italic', variant='normal', weight=700, stretch='normal', size='scalable')) = 11.335\n",
      "[2023-10-10 10:53:53] DEBUG:matplotlib.font_manager:findfont: score(FontEntry(fname='/System/Library/Fonts/ヒラギノ角ゴシック W0.ttc', name='Hiragino Sans', style='normal', variant='normal', weight=100, stretch='normal', size='scalable')) = 10.335\n",
      "[2023-10-10 10:53:53] DEBUG:matplotlib.font_manager:findfont: score(FontEntry(fname='/System/Library/Fonts/Supplemental/STIXSizFourSymBol.otf', name='STIXSizeFourSym', style='normal', variant='normal', weight=700, stretch='normal', size='scalable')) = 10.335\n",
      "[2023-10-10 10:53:53] DEBUG:matplotlib.font_manager:findfont: score(FontEntry(fname='/System/Library/Fonts/Supplemental/Telugu Sangam MN.ttc', name='Telugu Sangam MN', style='normal', variant='normal', weight=400, stretch='normal', size='scalable')) = 10.05\n",
      "[2023-10-10 10:53:53] DEBUG:matplotlib.font_manager:findfont: score(FontEntry(fname='/System/Library/Fonts/Supplemental/GujaratiMT.ttc', name='Gujarati MT', style='normal', variant='normal', weight=400, stretch='normal', size='scalable')) = 10.05\n",
      "[2023-10-10 10:53:53] DEBUG:matplotlib.font_manager:findfont: score(FontEntry(fname='/System/Library/Fonts/Apple Braille Outline 8 Dot.ttf', name='Apple Braille', style='normal', variant='normal', weight=400, stretch='normal', size='scalable')) = 10.05\n",
      "[2023-10-10 10:53:53] DEBUG:matplotlib.font_manager:findfont: score(FontEntry(fname='/System/Library/Fonts/Supplemental/NotoSansMandaic-Regular.ttf', name='Noto Sans Mandaic', style='normal', variant='normal', weight=400, stretch='normal', size='scalable')) = 10.05\n",
      "[2023-10-10 10:53:53] DEBUG:matplotlib.font_manager:findfont: score(FontEntry(fname='/System/Library/Fonts/Supplemental/NotoSansPalmyrene-Regular.ttf', name='Noto Sans Palmyrene', style='normal', variant='normal', weight=400, stretch='normal', size='scalable')) = 10.05\n",
      "[2023-10-10 10:53:53] DEBUG:matplotlib.font_manager:findfont: score(FontEntry(fname='/System/Library/Fonts/SFNSMono.ttf', name='.SF NS Mono', style='normal', variant='normal', weight=295, stretch='normal', size='scalable')) = 10.14975\n",
      "[2023-10-10 10:53:53] DEBUG:matplotlib.font_manager:findfont: score(FontEntry(fname='/System/Library/Fonts/Supplemental/NotoSansInscriptionalParthian-Regular.ttf', name='Noto Sans Inscriptional Parthian', style='normal', variant='normal', weight=400, stretch='normal', size='scalable')) = 10.05\n",
      "[2023-10-10 10:53:53] DEBUG:matplotlib.font_manager:findfont: score(FontEntry(fname='/System/Library/Fonts/ヒラギノ角ゴシック W6.ttc', name='Hiragino Sans', style='normal', variant='normal', weight=600, stretch='normal', size='scalable')) = 10.24\n",
      "[2023-10-10 10:53:53] DEBUG:matplotlib.font_manager:findfont: score(FontEntry(fname='/System/Library/Fonts/Supplemental/Raanana.ttc', name='Raanana', style='normal', variant='normal', weight=400, stretch='normal', size='scalable')) = 10.05\n",
      "[2023-10-10 10:53:53] DEBUG:matplotlib.font_manager:findfont: score(FontEntry(fname='/System/Library/Fonts/Supplemental/NotoSansSiddham-Regular.ttf', name='Noto Sans Siddham', style='normal', variant='normal', weight=400, stretch='normal', size='scalable')) = 10.05\n",
      "[2023-10-10 10:53:53] DEBUG:matplotlib.font_manager:findfont: score(FontEntry(fname='/System/Library/Fonts/Supplemental/NotoSansManichaean-Regular.ttf', name='Noto Sans Manichaean', style='normal', variant='normal', weight=400, stretch='normal', size='scalable')) = 10.05\n",
      "[2023-10-10 10:53:53] DEBUG:matplotlib.font_manager:findfont: score(FontEntry(fname='/System/Library/Fonts/Supplemental/Marion.ttc', name='Marion', style='normal', variant='normal', weight=400, stretch='normal', size='scalable')) = 10.05\n",
      "[2023-10-10 10:53:53] DEBUG:matplotlib.font_manager:findfont: score(FontEntry(fname='/System/Library/Fonts/Supplemental/NotoSansInscriptionalPahlavi-Regular.ttf', name='Noto Sans Inscriptional Pahlavi', style='normal', variant='normal', weight=400, stretch='normal', size='scalable')) = 10.05\n",
      "[2023-10-10 10:53:53] DEBUG:matplotlib.font_manager:findfont: score(FontEntry(fname='/System/Library/Fonts/PingFang.ttc', name='PingFang HK', style='normal', variant='normal', weight=400, stretch='normal', size='scalable')) = 10.05\n",
      "[2023-10-10 10:53:53] DEBUG:matplotlib.font_manager:findfont: score(FontEntry(fname='/System/Library/Fonts/Avenir Next Condensed.ttc', name='Avenir Next Condensed', style='normal', variant='normal', weight=700, stretch='condensed', size='scalable')) = 10.535\n",
      "[2023-10-10 10:53:53] DEBUG:matplotlib.font_manager:findfont: score(FontEntry(fname='/System/Library/Fonts/KohinoorBangla.ttc', name='Kohinoor Bangla', style='normal', variant='normal', weight=400, stretch='normal', size='scalable')) = 10.05\n",
      "[2023-10-10 10:53:53] DEBUG:matplotlib.font_manager:findfont: score(FontEntry(fname='/System/Library/Fonts/Supplemental/Trebuchet MS Bold.ttf', name='Trebuchet MS', style='normal', variant='normal', weight=700, stretch='normal', size='scalable')) = 10.335\n",
      "[2023-10-10 10:53:53] DEBUG:matplotlib.font_manager:findfont: score(FontEntry(fname='/System/Library/Fonts/Supplemental/Georgia Bold Italic.ttf', name='Georgia', style='italic', variant='normal', weight=700, stretch='normal', size='scalable')) = 11.335\n",
      "[2023-10-10 10:53:53] DEBUG:matplotlib.font_manager:findfont: score(FontEntry(fname='/System/Library/Fonts/Supplemental/NotoSansModi-Regular.ttf', name='Noto Sans Modi', style='normal', variant='normal', weight=400, stretch='normal', size='scalable')) = 10.05\n",
      "[2023-10-10 10:53:53] DEBUG:matplotlib.font_manager:findfont: score(FontEntry(fname='/System/Library/Fonts/Supplemental/NotoSansBhaiksuki-Regular.ttf', name='Noto Sans Bhaiksuki', style='normal', variant='normal', weight=400, stretch='normal', size='scalable')) = 10.05\n",
      "[2023-10-10 10:53:53] DEBUG:matplotlib.font_manager:findfont: score(FontEntry(fname='/System/Library/Fonts/Supplemental/NotoSansTifinagh-Regular.ttf', name='Noto Sans Tifinagh', style='normal', variant='normal', weight=400, stretch='normal', size='scalable')) = 10.05\n",
      "[2023-10-10 10:53:53] DEBUG:matplotlib.font_manager:findfont: score(FontEntry(fname='/System/Library/Fonts/Supplemental/NotoSansBuhid-Regular.ttf', name='Noto Sans Buhid', style='normal', variant='normal', weight=400, stretch='normal', size='scalable')) = 10.05\n",
      "[2023-10-10 10:53:53] DEBUG:matplotlib.font_manager:findfont: score(FontEntry(fname='/System/Library/Fonts/Supplemental/InaiMathi-MN.ttc', name='InaiMathi', style='normal', variant='normal', weight=400, stretch='normal', size='scalable')) = 10.05\n",
      "[2023-10-10 10:53:53] DEBUG:matplotlib.font_manager:findfont: score(FontEntry(fname='/System/Library/Fonts/SFNS.ttf', name='System Font', style='normal', variant='normal', weight=400, stretch='normal', size='scalable')) = 10.05\n",
      "[2023-10-10 10:53:53] DEBUG:matplotlib.font_manager:findfont: score(FontEntry(fname='/System/Library/Fonts/Supplemental/Hoefler Text Ornaments.ttf', name='Hoefler Text', style='normal', variant='normal', weight=400, stretch='normal', size='scalable')) = 10.05\n",
      "[2023-10-10 10:53:53] DEBUG:matplotlib.font_manager:findfont: score(FontEntry(fname='/System/Library/Fonts/Supplemental/NotoSansCarian-Regular.ttf', name='Noto Sans Carian', style='normal', variant='normal', weight=400, stretch='normal', size='scalable')) = 10.05\n",
      "[2023-10-10 10:53:53] DEBUG:matplotlib.font_manager:findfont: score(FontEntry(fname='/System/Library/Fonts/Supplemental/NotoSansOldNorthArabian-Regular.ttf', name='Noto Sans Old North Arabian', style='normal', variant='normal', weight=400, stretch='normal', size='scalable')) = 10.05\n",
      "[2023-10-10 10:53:53] DEBUG:matplotlib.font_manager:findfont: score(FontEntry(fname='/System/Library/Fonts/Supplemental/STIXSizOneSymReg.otf', name='STIXSizeOneSym', style='normal', variant='normal', weight=400, stretch='normal', size='scalable')) = 10.05\n",
      "[2023-10-10 10:53:53] DEBUG:matplotlib.font_manager:findfont: score(FontEntry(fname='/System/Library/Fonts/SFCompactRounded.ttf', name='.SF Compact Rounded', style='normal', variant='normal', weight=400, stretch='normal', size='scalable')) = 10.05\n",
      "[2023-10-10 10:53:53] DEBUG:matplotlib.font_manager:findfont: score(FontEntry(fname='/System/Library/Fonts/Helvetica.ttc', name='Helvetica', style='normal', variant='normal', weight=400, stretch='normal', size='scalable')) = 7.322727272727273\n",
      "[2023-10-10 10:53:53] DEBUG:matplotlib.font_manager:findfont: score(FontEntry(fname='/System/Library/Fonts/ヒラギノ丸ゴ ProN W4.ttc', name='Hiragino Maru Gothic Pro', style='normal', variant='normal', weight=400, stretch='normal', size='scalable')) = 10.05\n",
      "[2023-10-10 10:53:53] DEBUG:matplotlib.font_manager:findfont: score(FontEntry(fname='/System/Library/Fonts/Supplemental/Al Tarikh.ttc', name='Al Tarikh', style='normal', variant='normal', weight=400, stretch='normal', size='scalable')) = 10.05\n",
      "[2023-10-10 10:53:53] DEBUG:matplotlib.font_manager:findfont: score(FontEntry(fname='/System/Library/Fonts/Supplemental/Papyrus.ttc', name='Papyrus', style='normal', variant='normal', weight=400, stretch='condensed', size='scalable')) = 10.25\n",
      "[2023-10-10 10:53:53] DEBUG:matplotlib.font_manager:findfont: score(FontEntry(fname='/System/Library/Fonts/Supplemental/Herculanum.ttf', name='Herculanum', style='normal', variant='normal', weight=400, stretch='normal', size='scalable')) = 10.05\n",
      "[2023-10-10 10:53:53] DEBUG:matplotlib.font_manager:findfont: score(FontEntry(fname='/System/Library/Fonts/Supplemental/Baghdad.ttc', name='Baghdad', style='normal', variant='normal', weight=400, stretch='normal', size='scalable')) = 10.05\n",
      "[2023-10-10 10:53:53] DEBUG:matplotlib.font_manager:findfont: score(FontEntry(fname='/System/Library/Fonts/STHeiti Light.ttc', name='Heiti TC', style='normal', variant='normal', weight=300, stretch='normal', size='scalable')) = 10.145\n",
      "[2023-10-10 10:53:53] DEBUG:matplotlib.font_manager:findfont: score(FontEntry(fname='/System/Library/Fonts/Supplemental/NotoSerifAhom-Regular.ttf', name='Noto Serif Ahom', style='normal', variant='normal', weight=400, stretch='normal', size='scalable')) = 10.05\n",
      "[2023-10-10 10:53:53] DEBUG:matplotlib.font_manager:findfont: score(FontEntry(fname='/System/Library/Fonts/Supplemental/STIXGeneralItalic.otf', name='STIXGeneral', style='italic', variant='normal', weight=400, stretch='normal', size='scalable')) = 11.05\n",
      "[2023-10-10 10:53:53] DEBUG:matplotlib.font_manager:findfont: score(FontEntry(fname='/System/Library/Fonts/LucidaGrande.ttc', name='Lucida Grande', style='normal', variant='normal', weight=500, stretch='normal', size='scalable')) = 2.872272727272727\n",
      "[2023-10-10 10:53:53] DEBUG:matplotlib.font_manager:findfont: score(FontEntry(fname='/System/Library/Fonts/Supplemental/NotoSansGothic-Regular.ttf', name='Noto Sans Gothic', style='normal', variant='normal', weight=400, stretch='normal', size='scalable')) = 10.05\n",
      "[2023-10-10 10:53:53] DEBUG:matplotlib.font_manager:findfont: score(FontEntry(fname='/System/Library/Fonts/Supplemental/PartyLET-plain.ttf', name='Party LET', style='normal', variant='normal', weight=400, stretch='normal', size='scalable')) = 10.05\n",
      "[2023-10-10 10:53:53] DEBUG:matplotlib.font_manager:findfont: score(FontEntry(fname='/System/Library/Fonts/Supplemental/Trattatello.ttf', name='Trattatello', style='normal', variant='normal', weight=400, stretch='normal', size='scalable')) = 10.05\n",
      "[2023-10-10 10:53:53] DEBUG:matplotlib.font_manager:findfont: score(FontEntry(fname='/System/Library/Fonts/Supplemental/NotoSansOldPermic-Regular.ttf', name='Noto Sans Old Permic', style='normal', variant='normal', weight=400, stretch='normal', size='scalable')) = 10.05\n",
      "[2023-10-10 10:53:53] DEBUG:matplotlib.font_manager:findfont: score(FontEntry(fname='/System/Library/Fonts/Supplemental/Shree714.ttc', name='Shree Devanagari 714', style='normal', variant='normal', weight=400, stretch='normal', size='scalable')) = 10.05\n",
      "[2023-10-10 10:53:53] DEBUG:matplotlib.font_manager:findfont: score(FontEntry(fname='/System/Library/Fonts/Supplemental/NotoSansOldHungarian-Regular.ttf', name='Noto Sans Old Hungarian', style='normal', variant='normal', weight=400, stretch='normal', size='scalable')) = 10.05\n",
      "[2023-10-10 10:53:53] DEBUG:matplotlib.font_manager:findfont: score(FontEntry(fname='/System/Library/Fonts/Supplemental/Arial Bold.ttf', name='Arial', style='normal', variant='normal', weight=700, stretch='normal', size='scalable')) = 6.698636363636363\n",
      "[2023-10-10 10:53:53] DEBUG:matplotlib.font_manager:findfont: score(FontEntry(fname='/System/Library/Fonts/Supplemental/Wingdings 3.ttf', name='Wingdings 3', style='normal', variant='normal', weight=400, stretch='normal', size='scalable')) = 10.05\n",
      "[2023-10-10 10:53:53] DEBUG:matplotlib.font_manager:findfont: score(FontEntry(fname='/System/Library/Fonts/Supplemental/Arial Italic.ttf', name='Arial', style='italic', variant='normal', weight=400, stretch='normal', size='scalable')) = 7.413636363636363\n",
      "[2023-10-10 10:53:53] DEBUG:matplotlib.font_manager:findfont: score(FontEntry(fname='/System/Library/Fonts/Supplemental/STIXSizFourSymReg.otf', name='STIXSizeFourSym', style='normal', variant='normal', weight=400, stretch='normal', size='scalable')) = 10.05\n",
      "[2023-10-10 10:53:53] DEBUG:matplotlib.font_manager:findfont: score(FontEntry(fname='/System/Library/Fonts/ヒラギノ角ゴシック W4.ttc', name='Hiragino Sans', style='normal', variant='normal', weight=400, stretch='normal', size='scalable')) = 10.05\n",
      "[2023-10-10 10:53:53] DEBUG:matplotlib.font_manager:findfont: score(FontEntry(fname='/System/Library/Fonts/Supplemental/Khmer Sangam MN.ttf', name='Khmer Sangam MN', style='normal', variant='normal', weight=400, stretch='normal', size='scalable')) = 10.05\n",
      "[2023-10-10 10:53:53] DEBUG:matplotlib.font_manager:findfont: score(FontEntry(fname='/System/Library/Fonts/ヒラギノ角ゴシック W5.ttc', name='Hiragino Sans', style='normal', variant='normal', weight=500, stretch='normal', size='scalable')) = 10.145\n",
      "[2023-10-10 10:53:53] DEBUG:matplotlib.font_manager:findfont: score(FontEntry(fname='/System/Library/Fonts/Supplemental/Kokonor.ttf', name='Kokonor', style='normal', variant='normal', weight=400, stretch='normal', size='scalable')) = 10.05\n",
      "[2023-10-10 10:53:53] DEBUG:matplotlib.font_manager:findfont: score(FontEntry(fname='/System/Library/Fonts/Supplemental/Trebuchet MS Italic.ttf', name='Trebuchet MS', style='italic', variant='normal', weight=400, stretch='normal', size='scalable')) = 11.05\n",
      "[2023-10-10 10:53:53] DEBUG:matplotlib.font_manager:findfont: score(FontEntry(fname='/System/Library/Fonts/Supplemental/NotoSansRunic-Regular.ttf', name='Noto Sans Runic', style='normal', variant='normal', weight=400, stretch='normal', size='scalable')) = 10.05\n",
      "[2023-10-10 10:53:53] DEBUG:matplotlib.font_manager:findfont: score(FontEntry(fname='/System/Library/Fonts/Supplemental/Muna.ttc', name='Muna', style='normal', variant='normal', weight=400, stretch='normal', size='scalable')) = 10.05\n",
      "[2023-10-10 10:53:53] DEBUG:matplotlib.font_manager:findfont: score(FontEntry(fname='/Library/Fonts/Arial Unicode.ttf', name='Arial Unicode MS', style='normal', variant='normal', weight=400, stretch='normal', size='scalable')) = 10.05\n",
      "[2023-10-10 10:53:53] DEBUG:matplotlib.font_manager:findfont: score(FontEntry(fname='/System/Library/Fonts/Times.ttc', name='Times', style='normal', variant='normal', weight=400, stretch='normal', size='scalable')) = 10.05\n",
      "[2023-10-10 10:53:53] DEBUG:matplotlib.font_manager:findfont: score(FontEntry(fname='/System/Library/Fonts/NotoSerifMyanmar.ttc', name='Noto Serif Myanmar', style='normal', variant='normal', weight=900, stretch='normal', size='scalable')) = 10.525\n",
      "[2023-10-10 10:53:53] DEBUG:matplotlib.font_manager:findfont: score(FontEntry(fname='/System/Library/Fonts/Supplemental/Diwan Kufi.ttc', name='Diwan Kufi', style='normal', variant='normal', weight=400, stretch='normal', size='scalable')) = 10.05\n",
      "[2023-10-10 10:53:53] DEBUG:matplotlib.font_manager:findfont: score(FontEntry(fname='/System/Library/Fonts/Supplemental/Iowan Old Style.ttc', name='Iowan Old Style', style='normal', variant='normal', weight=400, stretch='normal', size='scalable')) = 10.05\n",
      "[2023-10-10 10:53:53] DEBUG:matplotlib.font_manager:findfont: score(FontEntry(fname='/System/Library/Fonts/Supplemental/Khmer MN.ttc', name='Khmer MN', style='normal', variant='normal', weight=400, stretch='normal', size='scalable')) = 10.05\n",
      "[2023-10-10 10:53:53] DEBUG:matplotlib.font_manager:findfont: score(FontEntry(fname='/System/Library/Fonts/Supplemental/AlBayan.ttc', name='Al Bayan', style='normal', variant='normal', weight=400, stretch='normal', size='scalable')) = 10.05\n",
      "[2023-10-10 10:53:53] DEBUG:matplotlib.font_manager:findfont: score(FontEntry(fname='/System/Library/Fonts/Supplemental/Didot.ttc', name='Didot', style='normal', variant='normal', weight=400, stretch='normal', size='scalable')) = 10.05\n",
      "[2023-10-10 10:53:53] DEBUG:matplotlib.font_manager:findfont: score(FontEntry(fname='/System/Library/Fonts/Supplemental/NotoSansLimbu-Regular.ttf', name='Noto Sans Limbu', style='normal', variant='normal', weight=400, stretch='normal', size='scalable')) = 10.05\n",
      "[2023-10-10 10:53:53] DEBUG:matplotlib.font_manager:findfont: score(FontEntry(fname='/System/Library/Fonts/Supplemental/Times New Roman Bold.ttf', name='Times New Roman', style='normal', variant='normal', weight=700, stretch='normal', size='scalable')) = 10.335\n",
      "[2023-10-10 10:53:53] DEBUG:matplotlib.font_manager:findfont: score(FontEntry(fname='/System/Library/Fonts/Supplemental/Oriya MN.ttc', name='Oriya MN', style='normal', variant='normal', weight=400, stretch='normal', size='scalable')) = 10.05\n",
      "[2023-10-10 10:53:53] DEBUG:matplotlib.font_manager:findfont: score(FontEntry(fname='/System/Library/Fonts/Supplemental/NotoSansTaiViet-Regular.ttf', name='Noto Sans Tai Viet', style='normal', variant='normal', weight=400, stretch='normal', size='scalable')) = 10.05\n",
      "[2023-10-10 10:53:53] DEBUG:matplotlib.font_manager:findfont: score(FontEntry(fname='/System/Library/Fonts/Supplemental/Skia.ttf', name='Skia', style='normal', variant='normal', weight=5, stretch='normal', size='scalable')) = 10.42525\n",
      "[2023-10-10 10:53:53] DEBUG:matplotlib.font_manager:findfont: score(FontEntry(fname='/System/Library/Fonts/Supplemental/Baskerville.ttc', name='Baskerville', style='normal', variant='normal', weight=400, stretch='normal', size='scalable')) = 10.05\n",
      "[2023-10-10 10:53:53] DEBUG:matplotlib.font_manager:findfont: score(FontEntry(fname='/System/Library/Fonts/Supplemental/Gurmukhi MN.ttc', name='Gurmukhi MN', style='normal', variant='normal', weight=400, stretch='normal', size='scalable')) = 10.05\n",
      "[2023-10-10 10:53:53] DEBUG:matplotlib.font_manager:findfont: score(FontEntry(fname='/System/Library/Fonts/Supplemental/STIXVar.otf', name='STIXVariants', style='normal', variant='normal', weight=400, stretch='normal', size='scalable')) = 10.05\n",
      "[2023-10-10 10:53:53] DEBUG:matplotlib.font_manager:findfont: score(FontEntry(fname='/System/Library/Fonts/Supplemental/STIXSizTwoSymBol.otf', name='STIXSizeTwoSym', style='normal', variant='normal', weight=700, stretch='normal', size='scalable')) = 10.335\n",
      "[2023-10-10 10:53:53] DEBUG:matplotlib.font_manager:findfont: score(FontEntry(fname='/System/Library/Fonts/Supplemental/Oriya Sangam MN.ttc', name='Oriya Sangam MN', style='normal', variant='normal', weight=400, stretch='normal', size='scalable')) = 10.05\n",
      "[2023-10-10 10:53:53] DEBUG:matplotlib.font_manager:findfont: score(FontEntry(fname='/System/Library/Fonts/Supplemental/Bodoni 72 Smallcaps Book.ttf', name='Bodoni 72 Smallcaps', style='normal', variant='normal', weight=400, stretch='normal', size='scalable')) = 10.05\n",
      "[2023-10-10 10:53:53] DEBUG:matplotlib.font_manager:findfont: score(FontEntry(fname='/System/Library/Fonts/SFNSMonoItalic.ttf', name='.SF NS Mono', style='italic', variant='normal', weight=295, stretch='normal', size='scalable')) = 11.14975\n",
      "[2023-10-10 10:53:53] DEBUG:matplotlib.font_manager:findfont: score(FontEntry(fname='/System/Library/Fonts/Supplemental/STIXSizThreeSymReg.otf', name='STIXSizeThreeSym', style='normal', variant='normal', weight=400, stretch='normal', size='scalable')) = 10.05\n",
      "[2023-10-10 10:53:53] DEBUG:matplotlib.font_manager:findfont: score(FontEntry(fname='/System/Library/Fonts/Supplemental/NotoSansThaana-Regular.ttf', name='Noto Sans Thaana', style='normal', variant='normal', weight=400, stretch='normal', size='scalable')) = 10.05\n",
      "[2023-10-10 10:53:53] DEBUG:matplotlib.font_manager:findfont: score(FontEntry(fname='/System/Library/Fonts/Supplemental/NotoSansEgyptianHieroglyphs-Regular.ttf', name='Noto Sans Egyptian Hieroglyphs', style='normal', variant='normal', weight=400, stretch='normal', size='scalable')) = 10.05\n",
      "[2023-10-10 10:53:53] DEBUG:matplotlib.font_manager:findfont: score(FontEntry(fname='/System/Library/Fonts/NotoSansKannada.ttc', name='Noto Sans Kannada', style='normal', variant='normal', weight=900, stretch='normal', size='scalable')) = 10.525\n",
      "[2023-10-10 10:53:53] DEBUG:matplotlib.font_manager:findfont: score(FontEntry(fname='/System/Library/Fonts/Supplemental/NotoSansTirhuta-Regular.ttf', name='Noto Sans Tirhuta', style='normal', variant='normal', weight=400, stretch='normal', size='scalable')) = 10.05\n",
      "[2023-10-10 10:53:53] DEBUG:matplotlib.font_manager:findfont: score(FontEntry(fname='/System/Library/Fonts/Supplemental/NotoSansOldItalic-Regular.ttf', name='Noto Sans Old Italic', style='italic', variant='normal', weight=400, stretch='normal', size='scalable')) = 11.05\n",
      "[2023-10-10 10:53:53] DEBUG:matplotlib.font_manager:findfont: score(FontEntry(fname='/System/Library/Fonts/NotoSansArmenian.ttc', name='Noto Sans Armenian', style='normal', variant='normal', weight=900, stretch='normal', size='scalable')) = 10.525\n",
      "[2023-10-10 10:53:53] DEBUG:matplotlib.font_manager:findfont: score(FontEntry(fname='/System/Library/Fonts/Supplemental/STIXIntDBol.otf', name='STIXIntegralsD', style='normal', variant='normal', weight=700, stretch='normal', size='scalable')) = 10.335\n",
      "[2023-10-10 10:53:53] DEBUG:matplotlib.font_manager:findfont: score(FontEntry(fname='/System/Library/Fonts/Supplemental/GillSans.ttc', name='Gill Sans', style='normal', variant='normal', weight=400, stretch='normal', size='scalable')) = 10.05\n",
      "[2023-10-10 10:53:53] DEBUG:matplotlib.font_manager:findfont: score(FontEntry(fname='/System/Library/Fonts/Thonburi.ttc', name='Thonburi', style='normal', variant='normal', weight=400, stretch='normal', size='scalable')) = 10.05\n",
      "[2023-10-10 10:53:53] DEBUG:matplotlib.font_manager:findfont: score(FontEntry(fname='/System/Library/Fonts/Supplemental/Bangla Sangam MN.ttc', name='Bangla Sangam MN', style='normal', variant='normal', weight=400, stretch='normal', size='scalable')) = 10.05\n",
      "[2023-10-10 10:53:53] DEBUG:matplotlib.font_manager:findfont: score(FontEntry(fname='/System/Library/Fonts/Supplemental/Rockwell.ttc', name='Rockwell', style='normal', variant='normal', weight=400, stretch='normal', size='scalable')) = 10.05\n",
      "[2023-10-10 10:53:53] DEBUG:matplotlib.font_manager:findfont: score(FontEntry(fname='/System/Library/Fonts/Apple Braille Outline 6 Dot.ttf', name='Apple Braille', style='normal', variant='normal', weight=400, stretch='normal', size='scalable')) = 10.05\n",
      "[2023-10-10 10:53:53] DEBUG:matplotlib.font_manager:findfont: score(FontEntry(fname='/System/Library/Fonts/Supplemental/Tamil MN.ttc', name='Tamil MN', style='normal', variant='normal', weight=400, stretch='normal', size='scalable')) = 10.05\n",
      "[2023-10-10 10:53:53] DEBUG:matplotlib.font_manager:findfont: score(FontEntry(fname='/System/Library/Fonts/Supplemental/STIXGeneralBolIta.otf', name='STIXGeneral', style='italic', variant='normal', weight=700, stretch='normal', size='scalable')) = 11.335\n",
      "[2023-10-10 10:53:53] DEBUG:matplotlib.font_manager:findfont: score(FontEntry(fname='/System/Library/Fonts/Hiragino Sans GB.ttc', name='Hiragino Sans GB', style='normal', variant='normal', weight=300, stretch='normal', size='scalable')) = 10.145\n",
      "[2023-10-10 10:53:53] DEBUG:matplotlib.font_manager:findfont: score(FontEntry(fname='/System/Library/Fonts/SFNSItalic.ttf', name='System Font', style='italic', variant='normal', weight=400, stretch='normal', size='scalable')) = 11.05\n",
      "[2023-10-10 10:53:53] DEBUG:matplotlib.font_manager:findfont: score(FontEntry(fname='/System/Library/Fonts/Supplemental/NotoSansMeroitic-Regular.ttf', name='Noto Sans Meroitic', style='normal', variant='normal', weight=400, stretch='normal', size='scalable')) = 10.05\n",
      "[2023-10-10 10:53:53] DEBUG:matplotlib.font_manager:findfont: score(FontEntry(fname='/System/Library/Fonts/Supplemental/AppleGothic.ttf', name='AppleGothic', style='normal', variant='normal', weight=400, stretch='normal', size='scalable')) = 10.05\n",
      "[2023-10-10 10:53:53] DEBUG:matplotlib.font_manager:findfont: score(FontEntry(fname='/System/Library/Fonts/Supplemental/Verdana Italic.ttf', name='Verdana', style='italic', variant='normal', weight=400, stretch='normal', size='scalable')) = 4.6863636363636365\n",
      "[2023-10-10 10:53:53] DEBUG:matplotlib.font_manager:findfont: score(FontEntry(fname='/System/Library/Fonts/Supplemental/Farah.ttc', name='Farah', style='normal', variant='normal', weight=400, stretch='normal', size='scalable')) = 10.05\n",
      "[2023-10-10 10:53:53] DEBUG:matplotlib.font_manager:findfont: score(FontEntry(fname='/System/Library/Fonts/Supplemental/Devanagari Sangam MN.ttc', name='Devanagari Sangam MN', style='normal', variant='normal', weight=400, stretch='normal', size='scalable')) = 10.05\n",
      "[2023-10-10 10:53:53] DEBUG:matplotlib.font_manager:findfont: score(FontEntry(fname='/System/Library/Fonts/Supplemental/DevanagariMT.ttc', name='Devanagari MT', style='normal', variant='normal', weight=400, stretch='normal', size='scalable')) = 10.05\n",
      "[2023-10-10 10:53:53] DEBUG:matplotlib.font_manager:findfont: score(FontEntry(fname='/System/Library/Fonts/Supplemental/STIXSizOneSymBol.otf', name='STIXSizeOneSym', style='normal', variant='normal', weight=700, stretch='normal', size='scalable')) = 10.335\n",
      "[2023-10-10 10:53:53] DEBUG:matplotlib.font_manager:findfont: score(FontEntry(fname='/System/Library/Fonts/Supplemental/PTSerif.ttc', name='PT Serif', style='normal', variant='normal', weight=400, stretch='normal', size='scalable')) = 10.05\n",
      "[2023-10-10 10:53:53] DEBUG:matplotlib.font_manager:findfont: score(FontEntry(fname='/System/Library/Fonts/Supplemental/NotoSansDuployan-Regular.ttf', name='Noto Sans Duployan', style='normal', variant='normal', weight=400, stretch='normal', size='scalable')) = 10.05\n",
      "[2023-10-10 10:53:53] DEBUG:matplotlib.font_manager:findfont: score(FontEntry(fname='/System/Library/Fonts/Supplemental/Seravek.ttc', name='Seravek', style='normal', variant='normal', weight=400, stretch='normal', size='scalable')) = 10.05\n",
      "[2023-10-10 10:53:53] DEBUG:matplotlib.font_manager:findfont: score(FontEntry(fname='/System/Library/Fonts/Supplemental/STIXNonUniBolIta.otf', name='STIXNonUnicode', style='italic', variant='normal', weight=700, stretch='normal', size='scalable')) = 11.335\n",
      "[2023-10-10 10:53:53] DEBUG:matplotlib.font_manager:findfont: score(FontEntry(fname='/System/Library/Fonts/Supplemental/NotoSansOlChiki-Regular.ttf', name='Noto Sans Ol Chiki', style='normal', variant='normal', weight=400, stretch='normal', size='scalable')) = 10.05\n",
      "[2023-10-10 10:53:53] DEBUG:matplotlib.font_manager:findfont: score(FontEntry(fname='/System/Library/Fonts/Supplemental/Verdana.ttf', name='Verdana', style='normal', variant='normal', weight=400, stretch='normal', size='scalable')) = 3.6863636363636365\n",
      "[2023-10-10 10:53:53] DEBUG:matplotlib.font_manager:findfont: score(FontEntry(fname='/System/Library/Fonts/Supplemental/Arial Black.ttf', name='Arial Black', style='normal', variant='normal', weight=900, stretch='normal', size='scalable')) = 10.525\n",
      "[2023-10-10 10:53:53] DEBUG:matplotlib.font_manager:findfont: score(FontEntry(fname='/System/Library/Fonts/Supplemental/NotoSansJavanese-Regular.otf', name='Noto Sans Javanese', style='normal', variant='normal', weight=400, stretch='normal', size='scalable')) = 10.05\n",
      "[2023-10-10 10:53:53] DEBUG:matplotlib.font_manager:findfont: score(FontEntry(fname='/System/Library/Fonts/Supplemental/Chalkduster.ttf', name='Chalkduster', style='normal', variant='normal', weight=400, stretch='normal', size='scalable')) = 10.05\n",
      "[2023-10-10 10:53:53] DEBUG:matplotlib.font_manager:findfont: score(FontEntry(fname='/System/Library/Fonts/Supplemental/Savoye LET.ttc', name='Savoye LET', style='normal', variant='normal', weight=400, stretch='normal', size='scalable')) = 10.05\n",
      "[2023-10-10 10:53:53] DEBUG:matplotlib.font_manager:findfont: score(FontEntry(fname='/System/Library/Fonts/Supplemental/Al Nile.ttc', name='Al Nile', style='normal', variant='normal', weight=400, stretch='normal', size='scalable')) = 10.05\n",
      "[2023-10-10 10:53:53] DEBUG:matplotlib.font_manager:findfont: score(FontEntry(fname='/System/Library/Fonts/Supplemental/BigCaslon.ttf', name='Big Caslon', style='normal', variant='normal', weight=500, stretch='normal', size='scalable')) = 10.145\n",
      "[2023-10-10 10:53:53] DEBUG:matplotlib.font_manager:findfont: score(FontEntry(fname='/System/Library/Fonts/Supplemental/Sathu.ttf', name='Sathu', style='normal', variant='normal', weight=400, stretch='normal', size='scalable')) = 10.05\n",
      "[2023-10-10 10:53:53] DEBUG:matplotlib.font_manager:findfont: score(FontEntry(fname='/System/Library/Fonts/Supplemental/Gurmukhi Sangam MN.ttc', name='Gurmukhi Sangam MN', style='normal', variant='normal', weight=400, stretch='normal', size='scalable')) = 10.05\n",
      "[2023-10-10 10:53:53] DEBUG:matplotlib.font_manager:findfont: score(FontEntry(fname='/System/Library/Fonts/Supplemental/Georgia Italic.ttf', name='Georgia', style='italic', variant='normal', weight=400, stretch='normal', size='scalable')) = 11.05\n",
      "[2023-10-10 10:53:53] DEBUG:matplotlib.font_manager:findfont: score(FontEntry(fname='/System/Library/Fonts/Supplemental/STIXSizThreeSymBol.otf', name='STIXSizeThreeSym', style='normal', variant='normal', weight=700, stretch='normal', size='scalable')) = 10.335\n",
      "[2023-10-10 10:53:53] DEBUG:matplotlib.font_manager:findfont: score(FontEntry(fname='/System/Library/Fonts/Supplemental/STIXVarBol.otf', name='STIXVariants', style='normal', variant='normal', weight=700, stretch='normal', size='scalable')) = 10.335\n",
      "[2023-10-10 10:53:53] DEBUG:matplotlib.font_manager:findfont: score(FontEntry(fname='/System/Library/Fonts/Supplemental/NotoSansBuginese-Regular.ttf', name='Noto Sans Buginese', style='normal', variant='normal', weight=400, stretch='normal', size='scalable')) = 10.05\n",
      "[2023-10-10 10:53:53] DEBUG:matplotlib.font_manager:findfont: score(FontEntry(fname='/System/Library/Fonts/Supplemental/Arial Narrow.ttf', name='Arial Narrow', style='normal', variant='normal', weight=400, stretch='condensed', size='scalable')) = 10.25\n",
      "[2023-10-10 10:53:53] DEBUG:matplotlib.font_manager:findfont: score(FontEntry(fname='/System/Library/Fonts/Supplemental/NotoSansPhoenician-Regular.ttf', name='Noto Sans Phoenician', style='normal', variant='normal', weight=400, stretch='normal', size='scalable')) = 10.05\n",
      "[2023-10-10 10:53:53] DEBUG:matplotlib.font_manager:findfont: score(FontEntry(fname='/System/Library/Fonts/Supplemental/Arial Bold Italic.ttf', name='Arial', style='italic', variant='normal', weight=700, stretch='normal', size='scalable')) = 7.698636363636363\n",
      "[2023-10-10 10:53:53] DEBUG:matplotlib.font_manager:findfont: score(FontEntry(fname='/System/Library/Fonts/Supplemental/STIXIntSmBol.otf', name='STIXIntegralsSm', style='normal', variant='normal', weight=700, stretch='normal', size='scalable')) = 10.335\n",
      "[2023-10-10 10:53:53] DEBUG:matplotlib.font_manager:findfont: score(FontEntry(fname='/System/Library/Fonts/Supplemental/Verdana Bold.ttf', name='Verdana', style='normal', variant='normal', weight=700, stretch='normal', size='scalable')) = 3.9713636363636367\n",
      "[2023-10-10 10:53:53] DEBUG:matplotlib.font_manager:findfont: score(FontEntry(fname='/System/Library/Fonts/ヒラギノ角ゴシック W7.ttc', name='Hiragino Sans', style='normal', variant='normal', weight=700, stretch='normal', size='scalable')) = 10.335\n",
      "[2023-10-10 10:53:53] DEBUG:matplotlib.font_manager:findfont: score(FontEntry(fname='/System/Library/Fonts/Supplemental/Impact.ttf', name='Impact', style='normal', variant='normal', weight=400, stretch='normal', size='scalable')) = 10.05\n",
      "[2023-10-10 10:53:53] DEBUG:matplotlib.font_manager:findfont: score(FontEntry(fname='/System/Library/Fonts/Supplemental/Bradley Hand Bold.ttf', name='Bradley Hand', style='normal', variant='normal', weight=700, stretch='normal', size='scalable')) = 10.335\n",
      "[2023-10-10 10:53:53] DEBUG:matplotlib.font_manager:findfont: score(FontEntry(fname='/System/Library/Fonts/Palatino.ttc', name='Palatino', style='normal', variant='normal', weight=400, stretch='normal', size='scalable')) = 10.05\n",
      "[2023-10-10 10:53:53] DEBUG:matplotlib.font_manager:findfont: score(FontEntry(fname='/System/Library/Fonts/Supplemental/NotoSansRejang-Regular.ttf', name='Noto Sans Rejang', style='normal', variant='normal', weight=400, stretch='normal', size='scalable')) = 10.05\n",
      "[2023-10-10 10:53:53] DEBUG:matplotlib.font_manager:findfont: score(FontEntry(fname='/System/Library/Fonts/ArabicUIText.ttc', name='.Arabic UI Text', style='normal', variant='normal', weight=400, stretch='normal', size='scalable')) = 10.05\n",
      "[2023-10-10 10:53:53] DEBUG:matplotlib.font_manager:findfont: score(FontEntry(fname='/System/Library/Fonts/Supplemental/PlantagenetCherokee.ttf', name='Plantagenet Cherokee', style='normal', variant='normal', weight=400, stretch='normal', size='scalable')) = 10.05\n",
      "[2023-10-10 10:53:53] DEBUG:matplotlib.font_manager:findfont: score(FontEntry(fname='/System/Library/Fonts/Supplemental/STIXSizFiveSymReg.otf', name='STIXSizeFiveSym', style='normal', variant='normal', weight=400, stretch='normal', size='scalable')) = 10.05\n",
      "[2023-10-10 10:53:53] DEBUG:matplotlib.font_manager:findfont: score(FontEntry(fname='/System/Library/Fonts/SFCompact.ttf', name='.SF Compact', style='normal', variant='normal', weight=1000, stretch='normal', size='scalable')) = 10.62\n",
      "[2023-10-10 10:53:53] DEBUG:matplotlib.font_manager:findfont: score(FontEntry(fname='/System/Library/Fonts/Supplemental/Arial.ttf', name='Arial', style='normal', variant='normal', weight=400, stretch='normal', size='scalable')) = 6.413636363636363\n",
      "[2023-10-10 10:53:53] DEBUG:matplotlib.font_manager:findfont: score(FontEntry(fname='/System/Library/Fonts/ヒラギノ角ゴシック W9.ttc', name='Hiragino Sans', style='normal', variant='normal', weight=900, stretch='normal', size='scalable')) = 10.525\n",
      "[2023-10-10 10:53:53] DEBUG:matplotlib.font_manager:findfont: score(FontEntry(fname='/System/Library/Fonts/Supplemental/STIXIntUpDBol.otf', name='STIXIntegralsUpD', style='normal', variant='normal', weight=700, stretch='normal', size='scalable')) = 10.335\n",
      "[2023-10-10 10:53:53] DEBUG:matplotlib.font_manager:findfont: score(FontEntry(fname='/System/Library/Fonts/Supplemental/STIXNonUniBol.otf', name='STIXNonUnicode', style='normal', variant='normal', weight=700, stretch='normal', size='scalable')) = 10.335\n",
      "[2023-10-10 10:53:53] DEBUG:matplotlib.font_manager:findfont: score(FontEntry(fname='/System/Library/Fonts/Supplemental/STIXIntDReg.otf', name='STIXIntegralsD', style='normal', variant='normal', weight=400, stretch='normal', size='scalable')) = 10.05\n",
      "[2023-10-10 10:53:53] DEBUG:matplotlib.font_manager:findfont: score(FontEntry(fname='/System/Library/Fonts/Supplemental/NotoSansWancho-Regular.ttf', name='Noto Sans Wancho', style='normal', variant='normal', weight=400, stretch='normal', size='scalable')) = 10.05\n",
      "[2023-10-10 10:53:53] DEBUG:matplotlib.font_manager:findfont: score(FontEntry(fname='/System/Library/Fonts/Supplemental/Webdings.ttf', name='Webdings', style='normal', variant='normal', weight=400, stretch='normal', size='scalable')) = 10.05\n",
      "[2023-10-10 10:53:53] DEBUG:matplotlib.font_manager:findfont: score(FontEntry(fname='/System/Library/Fonts/Avenir Next.ttc', name='Avenir Next', style='normal', variant='normal', weight=700, stretch='normal', size='scalable')) = 10.335\n",
      "[2023-10-10 10:53:53] DEBUG:matplotlib.font_manager:findfont: score(FontEntry(fname='/System/Library/Fonts/Supplemental/NotoSansMarchen-Regular.ttf', name='Noto Sans Marchen', style='normal', variant='normal', weight=400, stretch='normal', size='scalable')) = 10.05\n",
      "[2023-10-10 10:53:53] DEBUG:matplotlib.font_manager:findfont: score(FontEntry(fname='/System/Library/Fonts/Supplemental/DecoTypeNaskh.ttc', name='DecoType Naskh', style='normal', variant='normal', weight=400, stretch='normal', size='scalable')) = 10.05\n",
      "[2023-10-10 10:53:53] DEBUG:matplotlib.font_manager:findfont: score(FontEntry(fname='/System/Library/Fonts/Supplemental/NotoSansPhagsPa-Regular.ttf', name='Noto Sans PhagsPa', style='normal', variant='normal', weight=400, stretch='normal', size='scalable')) = 10.05\n",
      "[2023-10-10 10:53:53] DEBUG:matplotlib.font_manager:findfont: score(FontEntry(fname='/System/Library/Fonts/Supplemental/NotoSansImperialAramaic-Regular.ttf', name='Noto Sans Imperial Aramaic', style='normal', variant='normal', weight=400, stretch='normal', size='scalable')) = 10.05\n",
      "[2023-10-10 10:53:53] DEBUG:matplotlib.font_manager:findfont: score(FontEntry(fname='/System/Library/Fonts/Supplemental/NotoSerifBalinese-Regular.ttf', name='Noto Serif Balinese', style='normal', variant='normal', weight=400, stretch='normal', size='scalable')) = 10.05\n",
      "[2023-10-10 10:53:53] DEBUG:matplotlib.font_manager:findfont: score(FontEntry(fname='/System/Library/Fonts/Supplemental/Beirut.ttc', name='Beirut', style='normal', variant='normal', weight=700, stretch='normal', size='scalable')) = 10.335\n",
      "[2023-10-10 10:53:53] DEBUG:matplotlib.font_manager:findfont: score(FontEntry(fname='/System/Library/Fonts/Kohinoor.ttc', name='Kohinoor Devanagari', style='normal', variant='normal', weight=400, stretch='normal', size='scalable')) = 10.05\n",
      "[2023-10-10 10:53:53] DEBUG:matplotlib.font_manager:findfont: score(FontEntry(fname='/System/Library/Fonts/SFNSRounded.ttf', name='.SF NS Rounded', style='normal', variant='normal', weight=400, stretch='normal', size='scalable')) = 10.05\n",
      "[2023-10-10 10:53:53] DEBUG:matplotlib.font_manager:findfont: score(FontEntry(fname='/System/Library/Fonts/Supplemental/Tamil Sangam MN.ttc', name='Tamil Sangam MN', style='normal', variant='normal', weight=400, stretch='normal', size='scalable')) = 10.05\n",
      "[2023-10-10 10:53:53] DEBUG:matplotlib.font_manager:findfont: score(FontEntry(fname='/System/Library/Fonts/Supplemental/NotoSansSoraSompeng-Regular.ttf', name='Noto Sans Sora Sompeng', style='normal', variant='normal', weight=400, stretch='normal', size='scalable')) = 10.05\n",
      "[2023-10-10 10:53:53] DEBUG:matplotlib.font_manager:findfont: score(FontEntry(fname='/System/Library/Fonts/Supplemental/Chalkboard.ttc', name='Chalkboard', style='normal', variant='normal', weight=400, stretch='normal', size='scalable')) = 10.05\n",
      "[2023-10-10 10:53:53] DEBUG:matplotlib.font_manager:findfont: score(FontEntry(fname='/System/Library/Fonts/Supplemental/NotoSansYi-Regular.ttf', name='Noto Sans Yi', style='normal', variant='normal', weight=400, stretch='normal', size='scalable')) = 10.05\n",
      "[2023-10-10 10:53:53] DEBUG:matplotlib.font_manager:findfont: score(FontEntry(fname='/System/Library/Fonts/Supplemental/NotoSansChakma-Regular.ttf', name='Noto Sans Chakma', style='normal', variant='normal', weight=400, stretch='normal', size='scalable')) = 10.05\n",
      "[2023-10-10 10:53:53] DEBUG:matplotlib.font_manager:findfont: score(FontEntry(fname='/System/Library/Fonts/ヒラギノ明朝 ProN.ttc', name='Hiragino Mincho ProN', style='normal', variant='normal', weight=300, stretch='normal', size='scalable')) = 10.145\n",
      "[2023-10-10 10:53:53] DEBUG:matplotlib.font_manager:findfont: score(FontEntry(fname='/System/Library/Fonts/Supplemental/Wingdings 2.ttf', name='Wingdings 2', style='normal', variant='normal', weight=400, stretch='normal', size='scalable')) = 10.05\n",
      "[2023-10-10 10:53:53] DEBUG:matplotlib.font_manager:findfont: score(FontEntry(fname='/System/Library/Fonts/ヒラギノ角ゴシック W3.ttc', name='Hiragino Sans', style='normal', variant='normal', weight=300, stretch='normal', size='scalable')) = 10.145\n",
      "[2023-10-10 10:53:53] DEBUG:matplotlib.font_manager:findfont: score(FontEntry(fname='/System/Library/Fonts/Supplemental/KufiStandardGK.ttc', name='KufiStandardGK', style='normal', variant='normal', weight=400, stretch='normal', size='scalable')) = 10.05\n",
      "[2023-10-10 10:53:53] DEBUG:matplotlib.font_manager:findfont: score(FontEntry(fname='/System/Library/Fonts/Supplemental/Brush Script.ttf', name='Brush Script MT', style='italic', variant='normal', weight=400, stretch='normal', size='scalable')) = 11.05\n",
      "[2023-10-10 10:53:53] DEBUG:matplotlib.font_manager:findfont: score(FontEntry(fname='/System/Library/Fonts/Supplemental/Kannada Sangam MN.ttc', name='Kannada Sangam MN', style='normal', variant='normal', weight=400, stretch='normal', size='scalable')) = 10.05\n",
      "[2023-10-10 10:53:53] DEBUG:matplotlib.font_manager:findfont: score(FontEntry(fname='/System/Library/Fonts/Supplemental/Gujarati Sangam MN.ttc', name='Gujarati Sangam MN', style='normal', variant='normal', weight=400, stretch='normal', size='scalable')) = 10.05\n",
      "[2023-10-10 10:53:53] DEBUG:matplotlib.font_manager:findfont: score(FontEntry(fname='/System/Library/Fonts/Supplemental/NotoSansMultani-Regular.ttf', name='Noto Sans Multani', style='normal', variant='normal', weight=400, stretch='normal', size='scalable')) = 10.05\n",
      "[2023-10-10 10:53:53] DEBUG:matplotlib.font_manager:findfont: score(FontEntry(fname='/Users/jorgezuluagacallejas/Library/Fonts/Space Meatball.otf', name='Space Meatball', style='normal', variant='normal', weight=400, stretch='normal', size='scalable')) = 10.05\n",
      "[2023-10-10 10:53:53] DEBUG:matplotlib.font_manager:findfont: score(FontEntry(fname='/System/Library/Fonts/Symbol.ttf', name='Symbol', style='normal', variant='normal', weight=400, stretch='normal', size='scalable')) = 10.05\n",
      "[2023-10-10 10:53:53] DEBUG:matplotlib.font_manager:findfont: score(FontEntry(fname='/System/Library/Fonts/GeezaPro.ttc', name='Geeza Pro', style='normal', variant='normal', weight=400, stretch='normal', size='scalable')) = 10.05\n",
      "[2023-10-10 10:53:53] DEBUG:matplotlib.font_manager:findfont: score(FontEntry(fname='/System/Library/Fonts/Supplemental/NotoSansKayahLi-Regular.ttf', name='Noto Sans Kayah Li', style='normal', variant='normal', weight=400, stretch='normal', size='scalable')) = 10.05\n",
      "[2023-10-10 10:53:53] DEBUG:matplotlib.font_manager:findfont: score(FontEntry(fname='/System/Library/Fonts/Supplemental/NotoSansOsage-Regular.ttf', name='Noto Sans Osage', style='normal', variant='normal', weight=400, stretch='normal', size='scalable')) = 10.05\n",
      "[2023-10-10 10:53:53] DEBUG:matplotlib.font_manager:findfont: score(FontEntry(fname='/System/Library/Fonts/Supplemental/NotoSansOldPersian-Regular.ttf', name='Noto Sans Old Persian', style='normal', variant='normal', weight=400, stretch='normal', size='scalable')) = 10.05\n",
      "[2023-10-10 10:53:53] DEBUG:matplotlib.font_manager:findfont: score(FontEntry(fname='/System/Library/Fonts/Supplemental/NotoSansMiao-Regular.ttf', name='Noto Sans Miao', style='normal', variant='normal', weight=400, stretch='normal', size='scalable')) = 10.05\n",
      "[2023-10-10 10:53:53] DEBUG:matplotlib.font_manager:findfont: score(FontEntry(fname='/System/Library/Fonts/Supplemental/Damascus.ttc', name='Damascus', style='normal', variant='normal', weight=400, stretch='normal', size='scalable')) = 10.05\n",
      "[2023-10-10 10:53:53] DEBUG:matplotlib.font_manager:findfont: score(FontEntry(fname='/System/Library/Fonts/ArialHB.ttc', name='Arial Hebrew', style='normal', variant='normal', weight=400, stretch='normal', size='scalable')) = 10.05\n",
      "[2023-10-10 10:53:53] DEBUG:matplotlib.font_manager:findfont: score(FontEntry(fname='/System/Library/Fonts/Supplemental/Phosphate.ttc', name='Phosphate', style='normal', variant='normal', weight=400, stretch='normal', size='scalable')) = 10.05\n",
      "[2023-10-10 10:53:53] DEBUG:matplotlib.font_manager:findfont: score(FontEntry(fname='/System/Library/Fonts/Supplemental/NotoSansMendeKikakui-Regular.ttf', name='Noto Sans Mende Kikakui', style='normal', variant='normal', weight=400, stretch='normal', size='scalable')) = 10.05\n",
      "[2023-10-10 10:53:53] DEBUG:matplotlib.font_manager:findfont: score(FontEntry(fname='/System/Library/Fonts/Supplemental/NotoSansBamum-Regular.ttf', name='Noto Sans Bamum', style='normal', variant='normal', weight=400, stretch='normal', size='scalable')) = 10.05\n",
      "[2023-10-10 10:53:53] DEBUG:matplotlib.font_manager:findfont: score(FontEntry(fname='/System/Library/Fonts/Supplemental/SuperClarendon.ttc', name='Superclarendon', style='normal', variant='normal', weight=400, stretch='normal', size='scalable')) = 10.05\n",
      "[2023-10-10 10:53:53] DEBUG:matplotlib.font_manager:findfont: Matching sans\\-serif:style=normal:variant=normal:weight=normal:stretch=normal:size=10.0 to DejaVu Sans ('/Users/jorgezuluagacallejas/opt/anaconda3/lib/python3.9/site-packages/matplotlib/mpl-data/fonts/ttf/DejaVuSans.ttf') with score of 0.050000.\n"
     ]
    },
    {
     "data": {
      "image/png": "[encoded data removed]",
      "text/plain": [
       "<Figure size 576x576 with 1 Axes>"
      ]
     },
     "metadata": {},
     "output_type": "display_data"
    }
   ],
   "source": [
    "hyades = allstars.get_stars_area(RA=aldebaran.data.RA,Dec=aldebaran.data.Dec,radius=10,Mag=[-1,10])\n",
    "fig = hyades.plot_stars(pad=0.0,labels=False,figargs=dict(figsize=(8,8)))"
   ]
  },
  {
   "cell_type": "markdown",
   "metadata": {},
   "source": [
    "## Dates"
   ]
  },
  {
   "cell_type": "code",
   "execution_count": 6,
   "metadata": {},
   "outputs": [
    {
     "name": "stdout",
     "output_type": "stream",
     "text": [
      "Proleptic tt\n",
      "Date astro: 2000-01-01 12:00:00.00\n",
      "Datetime64: 2000-01-01T12:00:00.000\n",
      "Calendar: [1, 2000, 1, 1, 12, 0, 0, 0]\n",
      "Datetime: 2000-01-01 12:00:00\n",
      "Date SPICE: 2000-01-01 12:00:00.00\n",
      "Mixed: (2000, 1, 1, 11, 58, 56.12615615129471)\n",
      "et =  -63.873832810897575\n",
      "JED =  2451544.9992607194\n",
      "Delta-t: 63.873832810959236\n",
      "tt =  6.16608986092615e-11\n",
      "JTD =  2451545.0\n",
      "\n",
      "Proleptic utc\n",
      "Date astro: 2000-01-01 12:00:00.00\n",
      "Datetime64: 2000-01-01T12:00:00.000\n",
      "Calendar: [1, 2000, 1, 1, 12, 0, 0, 0]\n",
      "Datetime: 2000-01-01 12:00:00\n",
      "Date SPICE: 2000-01-01 12:00:00.00\n",
      "Mixed: (2000, 1, 1, 12, 0, 0.0)\n",
      "et =  6.16608986092615e-11\n",
      "JED =  2451545.0\n",
      "Delta-t: 63.873832810959236\n",
      "tt =  63.8738328110209\n",
      "JTD =  2451545.0007392806\n",
      "\n",
      "Non-proleptic tt\n",
      "Date astro: 2000-01-01 12:00:00.0\n",
      "Datetime64: 2000-01-01T12:00:00.000\n",
      "Calendar: [1, 2000, 1, 1, 12, 0, 0, 0]\n",
      "Datetime: 2000-01-01 12:00:00\n",
      "Date SPICE: 2000-01-01 12:00:00.0\n",
      "Mixed: (2000, 1, 1, 12, 0, 0.0)\n",
      "et =  -63.873832810959236\n",
      "JED =  2451544.9992607194\n",
      "Delta-t: 63.873832810959236\n",
      "tt =  0.0\n",
      "JTD =  2451545.0\n",
      "\n",
      "Non-proleptic utc\n",
      "Date astro: 2000-01-01 12:00:00.0\n",
      "Datetime64: 2000-01-01T12:00:00.000\n",
      "Calendar: [1, 2000, 1, 1, 12, 0, 0, 0]\n",
      "Datetime: 2000-01-01 12:00:00\n",
      "Date SPICE: 2000-01-01 12:00:00.0\n",
      "Mixed: (2000, 1, 1, 12, 0, 0.0)\n",
      "et =  0.0\n",
      "JED =  2451545.0\n",
      "Delta-t: 63.873832810959236\n",
      "tt =  63.873832810959236\n",
      "JTD =  2451545.0007392806\n"
     ]
    }
   ],
   "source": [
    "mtime = MonTime('2000-01-01 12:00:00.00',format='iso',scale='tt',proleptic=True,verbose=True)\n",
    "print()\n",
    "mtime = MonTime('2000-01-01 12:00:00.00',format='iso',scale='utc',proleptic=True,verbose=True)\n",
    "print()\n",
    "mtime = MonTime('2000-01-01 12:00:00.00',format='iso',scale='tt',proleptic=False,verbose=True)\n",
    "print()\n",
    "mtime = MonTime('2000-01-01 12:00:00.00',format='iso',scale='utc',proleptic=False,verbose=True)"
   ]
  },
  {
   "cell_type": "code",
   "execution_count": 7,
   "metadata": {},
   "outputs": [
    {
     "name": "stdout",
     "output_type": "stream",
     "text": [
      "Proleptic utc\n",
      "Date astro: -2500-01-01 12:00:00.00\n",
      "Datetime64: -2500-01-01T12:00:00.000\n",
      "Calendar: [-1, 2500, 1, 1, 12, 0, 0, 0]\n",
      "Datetime: 2500-01-01 12:00:00\n",
      "Date SPICE: 2501 B.C. 01-01 12:00:00.000000\n",
      "Mixed: (-2500, 1, 22, 11, 59, 59.99995976686478)\n",
      "et =  -142006262400.00003\n",
      "JED =  807953.9999999995\n",
      "Delta-t: 59699.68000000001\n",
      "tt =  -142006202700.32004\n",
      "JTD =  807954.6909685181\n",
      "\n",
      "Non-proleptic utc\n",
      "Date astro: -2501-12-11 12:00:00.0\n",
      "Datetime64: -2501-12-11T12:00:00.000\n",
      "Calendar: [-1, 2501, 12, 11, 12, 0, 0, 0]\n",
      "Datetime: 2501-12-11 12:00:00\n",
      "Date SPICE: 2502 B.C. 12-11 12:00:00.000000\n",
      "Mixed: (-2500, 1, 1, 12, 0, 0.0)\n",
      "et =  -142008076800.0\n",
      "JED =  807933.0\n",
      "Delta-t: 59699.68000000001\n",
      "tt =  -142008017100.32\n",
      "JTD =  807933.6909685185\n",
      "\n",
      "Proleptic tt\n",
      "Date astro: -2500-01-01 12:00:00.00\n",
      "Datetime64: -2500-01-01T12:00:00.000\n",
      "Calendar: [-1, 2500, 1, 1, 12, 0, 0, 0]\n",
      "Datetime: 2500-01-01 12:00:00\n",
      "Date SPICE: 2501 B.C. 01-01 12:00:00.000000\n",
      "Mixed: (-2500, 1, 21, 19, 25, 0.31997188925743103)\n",
      "et =  -142006322099.68002\n",
      "JED =  807953.3090314812\n",
      "Delta-t: 59699.68000000001\n",
      "tt =  -142006262400.00003\n",
      "JTD =  807953.9999999995\n",
      "\n",
      "Non-proleptic tt\n",
      "Date astro: -2501-12-11 12:00:00.0\n",
      "Datetime64: -2501-12-11T12:00:00.000\n",
      "Calendar: [-1, 2501, 12, 11, 12, 0, 0, 0]\n",
      "Datetime: 2501-12-11 12:00:00\n",
      "Date SPICE: 2502 B.C. 12-11 12:00:00.000000\n",
      "Mixed: (-2500, 1, 1, 12, 0, 0.0)\n",
      "et =  -142008136499.68\n",
      "JED =  807932.3090314815\n",
      "Delta-t: 59699.68000000001\n",
      "tt =  -142008076800.0\n",
      "JTD =  807933.0\n",
      "\n"
     ]
    }
   ],
   "source": [
    "mtime = MonTime('-2500-01-01 12:00:00.00',format='iso',scale='utc',proleptic=True,verbose=True)\n",
    "print()\n",
    "mtime = MonTime('-2500-01-01 12:00:00.00',format='iso',scale='utc',proleptic=False,verbose=True)\n",
    "print()\n",
    "mtime = MonTime('-2500-01-01 12:00:00.00',format='iso',scale='tt',proleptic=True,verbose=True)\n",
    "print()\n",
    "mtime = MonTime('-2500-01-01 12:00:00.00',format='iso',scale='tt',proleptic=False,verbose=True)\n",
    "print()"
   ]
  },
  {
   "cell_type": "code",
   "execution_count": 8,
   "metadata": {},
   "outputs": [
    {
     "name": "stdout",
     "output_type": "stream",
     "text": [
      "Date astro: -2500-01-01 12:00:00.0\n",
      "Datetime64: -2500-01-01T12:00:00.000\n",
      "Calendar: [-1, 2500, 1, 1, 12, 0, 0, 0]\n",
      "Datetime: 2500-01-01 12:00:00\n",
      "Date SPICE: 2501 B.C. 01-01 12:00:00.000000\n",
      "Mixed: (-2500, 1, 22, 12, 0, 0.0)\n",
      "et =  -142006322099.68\n",
      "JED =  807953.3090314815\n",
      "Delta-t: 59699.68000000001\n",
      "tt =  -142006262400.0\n",
      "JTD =  807954\n",
      "\n",
      "Date astro: -2500-01-01 12:00:00.0\n",
      "Datetime64: -2500-01-01T12:00:00.000\n",
      "Calendar: [-1, 2500, 1, 1, 12, 0, 0, 0]\n",
      "Datetime: 2500-01-01 12:00:00\n",
      "Date SPICE: 2501 B.C. 01-01 12:00:00.000000\n",
      "Mixed: (-2500, 1, 22, 12, 0, 0.0)\n",
      "et =  -142006262400.0\n",
      "JED =  807954\n",
      "Delta-t: 59699.68000000001\n",
      "tt =  -142006202700.32\n",
      "JTD =  807954.6909685185\n"
     ]
    }
   ],
   "source": [
    "mtime = MonTime(807954,format='jd',scale='tt',proleptic=True,verbose=True)\n",
    "print()\n",
    "mtime = MonTime(807954,format='jd',scale='utc',proleptic=True,verbose=True)"
   ]
  },
  {
   "cell_type": "code",
   "execution_count": 15,
   "metadata": {},
   "outputs": [
    {
     "name": "stdout",
     "output_type": "stream",
     "text": [
      "182 µs ± 3.83 µs per loop (mean ± std. dev. of 7 runs, 10,000 loops each)\n"
     ]
    }
   ],
   "source": [
    "%timeit MonTime(807954,format='jd',scale='tt',proleptic=True,verbose=False)"
   ]
  },
  {
   "cell_type": "code",
   "execution_count": 16,
   "metadata": {},
   "outputs": [
    {
     "name": "stdout",
     "output_type": "stream",
     "text": [
      "254 µs ± 8.07 µs per loop (mean ± std. dev. of 7 runs, 1,000 loops each)\n"
     ]
    }
   ],
   "source": [
    "%timeit MonTime('-2500-01-01 12:00:00.00',format='iso',scale='tt',proleptic=False,verbose=False)"
   ]
  },
  {
   "cell_type": "code",
   "execution_count": 17,
   "metadata": {},
   "outputs": [
    {
     "name": "stdout",
     "output_type": "stream",
     "text": [
      "171 µs ± 1.22 µs per loop (mean ± std. dev. of 7 runs, 1,000 loops each)\n"
     ]
    }
   ],
   "source": [
    "%timeit MonTime('-2500-01-01 12:00:00.00',format='iso',scale='tt',proleptic=True,verbose=False)"
   ]
  },
  {
   "cell_type": "code",
   "execution_count": 18,
   "metadata": {},
   "outputs": [
    {
     "name": "stdout",
     "output_type": "stream",
     "text": [
      "Proleptic tt\n",
      "Date astro: 2000-01-01 12:00:00.00\n",
      "Datetime64: 2000-01-01T12:00:00.000\n",
      "Calendar: [1, 2000, 1, 1, 12, 0, 0, 0]\n",
      "Datetime: 2000-01-01 12:00:00\n",
      "Date SPICE: 2000-01-01 12:00:00.00\n",
      "Mixed: (2000, 1, 1, 11, 58, 56.12615615129471)\n",
      "et =  -63.873832810897575\n",
      "JED =  2451544.9992607194\n",
      "Delta-t: 63.873832810959236\n",
      "tt =  6.16608986092615e-11\n",
      "JTD =  2451545.0\n"
     ]
    },
    {
     "data": {
      "text/plain": [
       "(array([[ 9.9999999772170789e-01,  6.1932310989079462e-05,\n",
       "          2.6850942970991007e-05],\n",
       "        [-6.1933062582113745e-05,  9.9999999769038916e-01,\n",
       "          2.7991380899483609e-05],\n",
       "        [-2.6849209338068896e-05, -2.7993043796858963e-05,\n",
       "          9.9999999924775473e-01]]),\n",
       " Angle(23.43929111137429))"
      ]
     },
     "execution_count": 18,
     "metadata": {},
     "output_type": "execute_result"
    }
   ],
   "source": [
    "mtime = MonTime('2000-01-01 12:00:00.00',format='iso',scale='tt',proleptic=True,verbose=True)\n",
    "mtime.M_J2000_Epoch,mtime.epsilon"
   ]
  },
  {
   "cell_type": "code",
   "execution_count": 19,
   "metadata": {},
   "outputs": [
    {
     "data": {
      "text/plain": [
       "(array([[ 1.                ,  0.                ,  0.                ],\n",
       "        [ 0.                ,  0.9174820620691818,  0.3977771559319137],\n",
       "        [ 0.                , -0.3977771559319137,  0.9174820620691818]]),\n",
       " 23.439291111111114)"
      ]
     },
     "execution_count": 19,
     "metadata": {},
     "output_type": "execute_result"
    }
   ],
   "source": [
    "M_J2000_ECLIPJ2000, np.arccos(M_J2000_ECLIPJ2000[1,1])*RAD"
   ]
  },
  {
   "cell_type": "markdown",
   "metadata": {},
   "source": [
    "## Planets and Observing Sites"
   ]
  },
  {
   "cell_type": "code",
   "execution_count": 310,
   "metadata": {},
   "outputs": [],
   "source": [
    "# Near to Aswan\n",
    "lat0 = 24.0 # deg\n",
    "lon0 = 33.0 # deg\n",
    "height0 = 0.0 # km\n",
    "\n",
    "# Date\n",
    "year0 = -2500 # 2501 b.c.e."
   ]
  },
  {
   "cell_type": "code",
   "execution_count": 722,
   "metadata": {},
   "outputs": [],
   "source": [
    "from pyplanets.planets.mercury import Mercury as pyplanets_Mercury\n",
    "from pyplanets.planets.venus import Venus as pyplanets_Venus\n",
    "from pyplanets.planets.earth import Earth as pyplanets_Earth\n",
    "from pyplanets.planets.mars import Mars as pyplanets_Mars\n",
    "from pyplanets.planets.jupiter import Jupiter as pyplanets_Jupiter\n",
    "from pyplanets.planets.saturn import Saturn as pyplanets_Saturn\n",
    "from pyplanets.planets.uranus import Uranus as pyplanets_Uranus\n",
    "from pyplanets.planets.neptune import Neptune as pyplanets_Neptune\n",
    "from pyplanets.core.constellation import Constellation as pyplanets_Constellation\n",
    "from pyplanets.core.coordinates import precession_equatorial\n",
    "from pyplanets.core.angle import Angle as pyplanets_Angle\n",
    "\n",
    "#from astropy.coordinates import SkyCoord, EarthLocation, , FK5, ICRS\n",
    "from astropy.coordinates import EarthLocation as astropy_EarthLocation\n",
    "from astropy.coordinates import AltAz as astropy_AltAz\n",
    "from astropy.coordinates import SkyCoord as astropy_SkyCoord\n",
    "from astropy.coordinates import Angle as astropy_Angle\n",
    "\n",
    "# PyEphem\n",
    "import ephem as pyephem\n",
    "\n",
    "class ObservingSite(object):\n",
    "    \"\"\"Create an observing site\n",
    "\n",
    "    Attributes:\n",
    "        \n",
    "        location: dictionary:\n",
    "            Geodetic coordinates of the Observing site:\n",
    "                lon: float [deg]: geodetic longitude\n",
    "                lat: float [deg]: geodetic latitude\n",
    "                elevation: float [km]: elevation\n",
    "\n",
    "        conditions: dictionary:\n",
    "            Physical conditions of the atmosphere on the observing site:\n",
    "                pressure: surface pressure.\n",
    "                temperature: surface temperature.\n",
    "                relative_humidity: humidity of the air.\n",
    "                obswl: observing band.\n",
    "\n",
    "        planet: PlanetaryBody:\n",
    "            Planetary body where the location is defined\n",
    "    \"\"\"\n",
    "    def __init__(self,\n",
    "                 planet=None,\n",
    "                 lon=0,lat=0,height=0,\n",
    "                 pressure=0,temperature=0,\n",
    "                 relative_humidity=0,obswl=1):\n",
    "\n",
    "        # Planet of the site\n",
    "        self.planet = planet\n",
    "\n",
    "        # Properties of the site\n",
    "        self.lon = lon\n",
    "        self.lat = lat\n",
    "        self.elevation = height\n",
    "        self.location = dict(lon=self.lon,lat=self.lat,elevation=self.elevation)\n",
    "\n",
    "        self.pressure = pressure\n",
    "        self.temperature = temperature\n",
    "        self.relative_humidity = relative_humidity\n",
    "        self.obswl = obswl\n",
    "        self.physical = dict(pressure=self.pressure*monu.hPa,temperature=self.temperature*monu.deg_C,\n",
    "                               relative_humidity=self.relative_humidity,obswl=self.obswl*monu.micron),\n",
    "\n",
    "        # Creation of site in astropy\n",
    "        location_kwargs = dict(lon=lon*monu.deg,lat=lat*monu.deg,height=height*monu.km)\n",
    "        self.astropy_site = astropy_EarthLocation(**location_kwargs)\n",
    "        \n",
    "        # Cartesian coordinates of the observer\n",
    "        self.pos_fixedplanet = np.array(list(self.astropy_site.value))\n",
    "\n",
    "        # Update site at J2000\n",
    "        self.update_site(MonTime(0,format='tt',scale='tt'))\n",
    "\n",
    "    def update_site(self,mtime):  \n",
    "        \"\"\"Update site\n",
    "        \"\"\"\n",
    "\n",
    "        # Update epoch\n",
    "        self.epoch = mtime\n",
    "\n",
    "        # Rotation matrix from fixed frame on planet to J2000\n",
    "        self.M_fixedplanet_J2000 = spy.pxform(self.planet.frameplanet,'J2000',self.epoch.tt)\n",
    "        self.M_J2000_fixedplanet = spy.invert(self.M_fixedplanet_J2000)\n",
    "\n",
    "        # Position of observer in J2000\n",
    "        self.pos_J2000 = spy.mxv(self.M_fixedplanet_J2000,self.pos_fixedplanet)\n",
    "        self.pos_Epoch = spy.mxv(self.epoch.M_J2000_Epoch,self.pos_J2000)\n",
    "\n",
    "        # Update local reference frame vectors\n",
    "        normal=spy.surfnm(self.planet.Re,self.planet.Re,self.planet.Rp,self.pos_fixedplanet)\n",
    "        uy=spy.ucrss(np.array([0,0,1]),normal)\n",
    "        ux=spy.ucrss(normal,uy)\n",
    "        self.M_local_fixedplanet=np.array(np.vstack((ux,uy,normal)).transpose().tolist())\n",
    "        self.M_fixedplanet_local=spy.invert(self.M_local_fixedplanet)\n",
    "\n",
    "        # Position of site with respect to local system of reference\n",
    "        self.pos_local = spy.mxv(self.M_fixedplanet_local,self.pos_fixedplanet)\n",
    "\n",
    "        # Compute true sidereal time\n",
    "        self.ltst = self.epoch.gtst + self.lon/15\n",
    "        \n",
    "class PlanetaryBody(object):\n",
    "    \"\"\"Create a planetary body\n",
    "\n",
    "    Examples: \n",
    "        earth = PlanetaryBody('399')\n",
    "        mars = PlanetaryBody('mars')\n",
    "        jupiter = PlanetaryBody('JUPITER')\n",
    "\n",
    "    \"\"\"\n",
    "\n",
    "    @lru_cache()\n",
    "    def __new__(cls,id):\n",
    "        \"\"\"This method is intended to avoid creating a new object with the same id\n",
    "        Instead this method create a clone of the previously created object.\n",
    "        \"\"\"\n",
    "        return super().__new__(cls)\n",
    "\n",
    "    def __init__(self,body):\n",
    "\n",
    "        # Names\n",
    "        self.body = body.upper()\n",
    "        if self.body in PLANETARY_IDS.keys():\n",
    "            self.name = self.body.lower()\n",
    "            self.id = str(PLANETARY_IDS[self.body])\n",
    "        elif self.body in PLANETARY_NAMES.keys():\n",
    "            self.id = str(self.body)\n",
    "            self.name = PLANETARY_NAMES[self.id].lower()\n",
    "        else:\n",
    "            raise ValueError(f\"Planet '{self.body}' not recognized, check variable PLANETARY_NAMES\")\n",
    "        self.capital = self.name[0].upper() + self.name[1:]\n",
    "\n",
    "        # IAU frame of planet\n",
    "        self.frameplanet = f'IAU_{self.name.upper()}'\n",
    "\n",
    "        # Obtain object properties\n",
    "        try:\n",
    "            n,rs=spy.bodvrd(self.id,'RADII',3)\n",
    "        except:\n",
    "            n,rs=spy.bodvrd(self.id+'99','RADII',3)\n",
    "        self.Re=rs[0]\n",
    "        self.Rt=rs[1]\n",
    "        self.Rp=rs[2]\n",
    "        self.f=(self.Re-self.Rp)/self.Re\n",
    "\n",
    "        # Create object from PyPlanet\n",
    "        exec(f'self.pyplanet = pyplanets_{self.capital}')\n",
    "\n",
    "        # Create Horizons object\n",
    "        self.query_horizons = astropy_Horizons(id='4')\n",
    "\n",
    "        # No predicted yet\n",
    "        self.predict = False\n",
    "\n",
    "    def calculate_sky_position(self,mtime=None,site=None,method='Horizons',verbose=True):\n",
    "        \"\"\"Calculate position of a planet \n",
    "\n",
    "        Parameters:\n",
    "            mtime: MonTime:\n",
    "                Time when the position of the planet will be calculated.\n",
    "\n",
    "            site: Site:\n",
    "                Observing site w.r.t. position of the planet will be calculated.\n",
    "\n",
    "            method:\n",
    "                'Horizons': use astroquery.\n",
    "                'SPICE': use SPICE and kernels.\n",
    "                'vsop': use VSOP87 analytical theory.\n",
    "                'all': all methods\n",
    "        \"\"\"\n",
    "        if site is None:\n",
    "            raise ValueError(\"No site selected\")\n",
    "\n",
    "        # Update orientation of site\n",
    "        Montu.vprint(verbose,f\"Computing position of body '{self.name}' at epoch: jtd = {mtime.jtd} \")\n",
    "        if mtime.tt != site.epoch.tt:\n",
    "            Montu.vprint(verbose,f\"Updating orientation of site (old time {site.epoch.datespice}, new time {mtime.datespice})\")\n",
    "            site.update_site(mtime)\n",
    "\n",
    "        # Storing epoch\n",
    "        self.epoch = mtime\n",
    "            \n",
    "        # Check if all methods are asked\n",
    "        all_methods = True if method == 'all' else False\n",
    "\n",
    "        # Check compute\n",
    "        compute = False\n",
    "\n",
    "        # Compute absolute coordinates (RA & Dec) at J2000 and epoch\n",
    "        if method == 'Horizons' or all_methods:            \n",
    "\n",
    "            # Using Horizons database\n",
    "            Montu.vprint(verbose,\"Method 'Horizons':\")\n",
    "\n",
    "            # Query ephemerides\n",
    "            self.query_horizons.location = site.location\n",
    "            self.query_horizons.epochs = self.epoch.jed # Julian Day as it was UTC\n",
    "            ephemerides = self.query_horizons.ephemerides().to_pandas().loc[0]\n",
    "\n",
    "            # Sky coordinates in J2000\n",
    "            RAJ2000 = float(ephemerides.RA/15)\n",
    "            DecJ2000 = float(ephemerides.DEC)\n",
    "            self.eq_J2000 = astropy_SkyCoord(ra=RAJ2000*monu.deg,dec=DecJ2000*monu.deg)\n",
    "            \n",
    "            # Sky coordinates @ Epoch\n",
    "            RAEpoch = float(ephemerides.RA_app/15)\n",
    "            DecEpoch = float(ephemerides.DEC_app)\n",
    "            self.eq_epoch = astropy_SkyCoord(ra=RAEpoch*monu.deg,dec=DecEpoch*monu.deg)\n",
    "            \n",
    "            # Apparent coordinates @ site\n",
    "            az = float(ephemerides.AZ)\n",
    "            el = float(ephemerides.EL)\n",
    "            self.azel = [astropy_Angle(az*monu.deg),astropy_Angle(el*monu.deg)]\n",
    "            \n",
    "            # Compute hour angle\n",
    "            self.HA = np.mod(np.arctan2(-np.sin(az*DEG)*np.cos(el*DEG)/np.cos(DecEpoch*DEG),\n",
    "                                        (np.sin(el*DEG) - np.sin(DecEpoch*DEG)*np.sin(site.lat*DEG)) / \\\n",
    "                                        (np.cos(DecEpoch*DEG) * np.cos(site.lat*DEG)))*RAD/15,24)\n",
    "            \n",
    "            # Sidereal time\n",
    "            self.tsa = np.mod(RAEpoch + self.HA,24)\n",
    "            \n",
    "            Montu.vprint(verbose,\"\\tCoordinates @ J2000 using Horizons: \",self.eq_J2000.ra,self.eq_J2000.dec)\n",
    "            Montu.vprint(verbose,f\"\\tCoordinates @ Epoch using Horizons : \",self.eq_epoch.ra,self.eq_epoch.dec)\n",
    "            Montu.vprint(verbose,f\"\\tLocal true sidereal time using Horizons: \",Montu.dec2hex(self.tsa))\n",
    "            Montu.vprint(verbose,f\"\\tHour angle @ Epoch using Horizons: \",Montu.dec2hex(self.HA))\n",
    "            Montu.vprint(verbose,f\"\\tLocal coordinates @ Epoch using Horizons: \",self.azel[0],self.azel[1])\n",
    "\n",
    "            compute = True\n",
    "\n",
    "        if method == 'SPICE' or all_methods:\n",
    "\n",
    "            # Using SPICE+pyplanets tools\n",
    "            Montu.vprint(verbose,\"Method 'SPICE':\")\n",
    "\n",
    "            # Retrieve positions in space\n",
    "            site_planet_SSB_J2000,lt = spy.spkezr(site.planet.id,mtime.tt,'J2000','None','SSB')\n",
    "            planet_SSB_J2000,lt = spy.spkezr(self.id,mtime.tt,'J2000','None','SSB')\n",
    "            site_SSB_J2000 = site_planet_SSB_J2000[:3] + site.pos_J2000 \n",
    "\n",
    "            # Celestial Coordinates at J2000\n",
    "            planet_site_J2000 = planet_SSB_J2000[:3] - site_SSB_J2000\n",
    "            r,RAbodyJ2000,DECbodyJ2000 = spy.recrad(planet_site_J2000)\n",
    "            self.eq_J2000 = astropy_SkyCoord(ra=RAbodyJ2000*monu.rad,dec=DECbodyJ2000*monu.rad)\n",
    "            \n",
    "            # Celestial Coordinates at Epoch\n",
    "            planet_site_Epoch = spy.mxv(self.epoch.M_J2000_Epoch,planet_site_J2000)\n",
    "            r,RAplanet,DECplanet = spy.recrad(planet_site_Epoch)\n",
    "            self.eq_epoch = astropy_SkyCoord(ra=RAplanet*monu.rad,dec=DECplanet*monu.rad)\n",
    "            \n",
    "            # Compute hour angle\n",
    "            self.HA = np.mod(site.ltst - RAplanet*RAD/15,24)\n",
    "            \n",
    "            # Compute elevation and azimuth\n",
    "            el = np.arcsin(np.sin(DECplanet)*np.sin(site.lat*DEG) + np.cos(DECplanet)*np.cos(site.lat*DEG)*np.cos(self.HA*15*DEG))*RAD\n",
    "            az = np.arctan2(-np.sin(self.HA*15*DEG)*np.cos(DECplanet)/np.cos(el*DEG),(np.sin(DECplanet) - np.sin(site.lat*DEG)*np.sin(el*DEG))/(np.cos(site.lat*DEG)*np.cos(el*DEG)))*RAD\n",
    "            az = np.mod(az,360)\n",
    "            \n",
    "            Montu.vprint(verbose,f\"\\tCoordinates @ J2000 using SPICE: \",self.eq_J2000.ra/15,self.eq_J2000.dec)\n",
    "            Montu.vprint(verbose,f\"\\tCoordinates @ Epoch using SPICE : \",self.eq_epoch.ra/15,self.eq_epoch.dec)\n",
    "            Montu.vprint(verbose,f\"\\tLocal true sidereal time : \",Montu.dec2hex(site.ltst))\n",
    "            Montu.vprint(verbose,f\"\\tHour angle @ Epoch using SPICE : \",Montu.dec2hex(self.HA))\n",
    "            Montu.vprint(verbose,f\"\\tLocal coordinates @ Epoch using SPICE: \",Montu.dec2hex(az),Montu.dec2hex(el))\n",
    "\n",
    "            compute = True\n",
    "\n",
    "        if method == 'VSOP87' or all_methods:\n",
    "\n",
    "            # Using VSOP87 semianalytical model implemented in PyEphem\n",
    "            Montu.vprint(verbose,\"Method 'VSOP87':\")\n",
    "\n",
    "            # Prepare object\n",
    "            self.pyephem_planet = eval(f'pyephem.{self.capital}()')\n",
    "\n",
    "            # Define observer\n",
    "            self.pyephem_site = pyephem.Observer()\n",
    "            self.pyephem_site.date = self.epoch.pyephem\n",
    "            self.pyephem_site.lat = f'{site.lat}'\n",
    "            self.pyephem_site.lon = f'{site.lon}'\n",
    "            self.pyephem_site.elevation = site.elevation\n",
    "            self.pyephem_site.temp = site.temperature\n",
    "            self.pyephem_site.pressure = site.pressure\n",
    "            \n",
    "            # Compute ephemerides\n",
    "            self.pyephem_planet.compute(self.pyephem_site)\n",
    "            RAplanet = self.pyephem_planet.ra*RAD/15\n",
    "            DECplanet = self.pyephem_planet.dec*RAD\n",
    "            self.eq_epoch = astropy_SkyCoord(ra=RAplanet*monu.deg,dec=DECplanet*monu.deg)\n",
    "            el = self.pyephem_planet.alt*RAD\n",
    "            az = self.pyephem_planet.az*RAD\n",
    "\n",
    "            # Precess towards J2000\n",
    "            RAJ2000,DECJ2000 = precession_equatorial(mtime.mixed,pyplanets_Epoch(JED_2000),\n",
    "                                                     pyplanets_Angle(RAplanet*15),pyplanets_Angle(DECplanet))\n",
    "            self.eq_J2000 = astropy_SkyCoord(ra=float(RAJ2000)*monu.deg,dec=float(DECJ2000)*monu.deg)\n",
    "\n",
    "            # Compute auxiliar coordinates\n",
    "            self.HA = np.mod(np.arctan2(-np.sin(az*DEG)*np.cos(el*DEG)/np.cos(DECplanet*DEG),\n",
    "                                        (np.sin(el*DEG) - np.sin(DECplanet*DEG)*np.sin(site.lat*DEG)) / \\\n",
    "                                        (np.cos(DECplanet*DEG) * np.cos(site.lat*DEG)))*RAD/15,24)\n",
    "            self.tsa = np.mod(RAplanet + self.HA,24)\n",
    "    \n",
    "            # Report\n",
    "            Montu.vprint(verbose,f\"\\tCoordinates @ J2000 using VSOP87: \",self.eq_J2000.ra/15,self.eq_J2000.dec)\n",
    "            Montu.vprint(verbose,f\"\\tCoordinates @ Epoch using VSOP87 : \",self.eq_epoch.ra,self.eq_epoch.dec)\n",
    "            Montu.vprint(verbose,f\"\\tLocal true sidereal time using VSOP87 : \",Montu.dec2hex(site.ltst))\n",
    "            Montu.vprint(verbose,f\"\\tHour angle @ Epoch using VSOP87 : \",Montu.dec2hex(self.HA))\n",
    "            Montu.vprint(verbose,f\"\\tLocal coordinates @ Epoch using VSOP87: \",Montu.dec2hex(az),Montu.dec2hex(el))\n",
    "\n",
    "            compute = True\n",
    "        \n",
    "        if not compute:\n",
    "            raise ValueError(f\"Method '{method}' for computing ephemerides not recognized\")\n",
    "\n",
    "    def __str__(self):\n",
    "        pass\n",
    "        "
   ]
  },
  {
   "cell_type": "code",
   "execution_count": 9,
   "metadata": {},
   "outputs": [
    {
     "name": "stdout",
     "output_type": "stream",
     "text": [
      "Computing position of body 'mars' at epoch: jtd = 807954.6909685181 \n",
      "Method 'Horizons':\n",
      "\tCoordinates @ J2000 using Horizons:  12d31m49.1472s 1d37m06.708s\n",
      "\tCoordinates @ Epoch using Horizons :  8d32m09.2832s 24d06m29.556s\n",
      "\tLocal true sidereal time using Horizons:  (20.0, 52, 25.33680635060051)\n",
      "\tHour angle @ Epoch using Horizons:  (12.0, 20, 16.053606350601513)\n",
      "\tLocal coordinates @ Epoch using Horizons:  6d11m33.7272s -41d38m29.3172s\n",
      "Method 'SPICE':\n",
      "\tCoordinates @ J2000 using SPICE:  12d31m48.75374474s 1d37m12.18389356s\n",
      "\tCoordinates @ Epoch using SPICE :  8d32m09.7958861s 24d06m28.55484868s\n",
      "\tLocal true sidereal time :  (20.0, 52, 25.322561778742454)\n",
      "\tHour angle @ Epoch using SPICE :  (12.0, 20, 15.526675677266866)\n",
      "\tLocal coordinates @ Epoch using SPICE:  (6.0, 11, 24.27473789308344) (-41.0, 38, 31.093809128925614)\n",
      "Method 'VSOP87':\n",
      "\tCoordinates @ J2000 using VSOP87:  12d31m48.35959493s 1d37m33.1091699s\n",
      "\tCoordinates @ Epoch using VSOP87 :  8d32m09.71805416s 24d06m40.92010822s\n",
      "\tLocal true sidereal time using VSOP87 :  (20.0, 52, 25.322561778742454)\n",
      "\tHour angle @ Epoch using VSOP87 :  (12.0, 20, 15.604451397793184)\n",
      "\tLocal coordinates @ Epoch using VSOP87:  (6.0, 11, 23.905564366115826) (-41.0, 38, 18.685147982311605)\n"
     ]
    }
   ],
   "source": [
    "site = ObservingSite(planet=PlanetaryBody('Earth'),\n",
    "                     lon=lon0,lat=lat0,height=height0)\n",
    "mars = PlanetaryBody('Mars')\n",
    "mtime = MonTime('-2500-01-01 12:00:00.00',scale='utc')\n",
    "site.update_site(mtime)\n",
    "mars.calculate_sky_position(mtime=mtime,site=site,method='all')"
   ]
  },
  {
   "cell_type": "code",
   "execution_count": 724,
   "metadata": {},
   "outputs": [
    {
     "name": "stdout",
     "output_type": "stream",
     "text": [
      "1.02 ms ± 50.9 µs per loop (mean ± std. dev. of 7 runs, 1,000 loops each)\n",
      "877 µs ± 4.29 µs per loop (mean ± std. dev. of 7 runs, 1,000 loops each)\n"
     ]
    }
   ],
   "source": [
    "%timeit mars.calculate_sky_position(mtime=mtime,site=site,method='SPICE',verbose=False)\n",
    "%timeit mars.calculate_sky_position(mtime=mtime,site=site,method='VSOP87',verbose=False)"
   ]
  },
  {
   "cell_type": "markdown",
   "metadata": {},
   "source": [
    "------\n",
    "\n",
    "Here I am!"
   ]
  },
  {
   "cell_type": "markdown",
   "metadata": {},
   "source": [
    "## Legacy code"
   ]
  },
  {
   "cell_type": "code",
   "execution_count": 748,
   "metadata": {},
   "outputs": [
    {
     "data": {
      "text/plain": [
       "(45.86807144703316, 89.36177318944175)"
      ]
     },
     "execution_count": 748,
     "metadata": {},
     "output_type": "execute_result"
    }
   ],
   "source": [
    "star = pyephem.star('Polaris')\n",
    "star.compute()\n",
    "star.ra*RAD,star.dec*RAD"
   ]
  },
  {
   "cell_type": "code",
   "execution_count": 10,
   "metadata": {},
   "outputs": [
    {
     "name": "stdout",
     "output_type": "stream",
     "text": [
      "-2499/1/9 08:09:53\n",
      "Date astro: -2499-12-20 08:09:53.268500\n",
      "Datetime64: -2499-12-20T08:09:53.268500\n",
      "Calendar: [-1, 2499, 12, 20, 8, 9, 53, 268500]\n",
      "Datetime: 2499-12-20 08:09:53.268500\n",
      "Date SPICE: 2500 B.C. 12-20 08:09:53.268500\n",
      "Mixed: (-2498, 1, 9, 8, 9, 53.268491327762604)\n",
      "et =  -141944241006.7315\n",
      "JED =  808671.8401998668\n",
      "Delta-t: 59644.3968\n",
      "tt =  -141944181362.33472\n",
      "JTD =  808672.5305285335\n"
     ]
    },
    {
     "data": {
      "text/plain": [
       "<montu.MonTime at 0x7fad0981acd0>"
      ]
     },
     "execution_count": 10,
     "metadata": {},
     "output_type": "execute_result"
    }
   ],
   "source": [
    "d1 = pyephem.next_solstice('-2500-12-01')\n",
    "print(d1)\n",
    "MonTime(d1 + PYEPHEM_JD_REF,format='jd',scale='utc',verbose=True)"
   ]
  },
  {
   "cell_type": "markdown",
   "metadata": {},
   "source": []
  },
  {
   "cell_type": "markdown",
   "metadata": {},
   "source": [
    "## ToDo"
   ]
  },
  {
   "cell_type": "code",
   "execution_count": 733,
   "metadata": {},
   "outputs": [
    {
     "name": "stdout",
     "output_type": "stream",
     "text": [
      "Proleptic tt\n",
      "Date astro: -1-01-01 12:00:00.00\n",
      "Datetime64: -001-01-01T12:00:00.000\n",
      "Calendar: [-1, 1, 1, 1, 12, 0, 0, 0]\n",
      "Datetime: 0001-01-01 12:00:00\n",
      "Date SPICE: 0002 B.C. 01-01 12:00:00.000000\n",
      "Mixed: (-1, 1, 3, 9, 3, 26.675443053245544)\n",
      "et =  -63145450593.32455\n",
      "JED =  1720694.877392077\n",
      "Delta-t: 10593.324537053972\n",
      "tt =  -63145440000.00001\n",
      "JTD =  1720695.0\n"
     ]
    },
    {
     "data": {
      "text/plain": [
       "<montu.MonTime at 0x7fa7cc5283a0>"
      ]
     },
     "execution_count": 733,
     "metadata": {},
     "output_type": "execute_result"
    }
   ],
   "source": [
    "MonTime('-1-01-01 12:00:00.00',verbose=True)"
   ]
  },
  {
   "cell_type": "markdown",
   "metadata": {},
   "source": [
    "------\n",
    "\n",
    "Here I am!"
   ]
  },
  {
   "cell_type": "markdown",
   "metadata": {},
   "source": []
  },
  {
   "cell_type": "code",
   "execution_count": 736,
   "metadata": {},
   "outputs": [
    {
     "data": {
      "text/plain": [
       "<ephem.Moon \"Moon\" at 0x7fa7cc417990>"
      ]
     },
     "execution_count": 736,
     "metadata": {},
     "output_type": "execute_result"
    }
   ],
   "source": [
    "pyephem.Moon()"
   ]
  },
  {
   "cell_type": "code",
   "execution_count": 737,
   "metadata": {},
   "outputs": [
    {
     "data": {
      "text/plain": [
       "<Sun \"Sun\" at 0x7fa7cc417e50>"
      ]
     },
     "execution_count": 737,
     "metadata": {},
     "output_type": "execute_result"
    }
   ],
   "source": [
    "pyephem.Sun()"
   ]
  },
  {
   "cell_type": "code",
   "execution_count": 689,
   "metadata": {},
   "outputs": [
    {
     "name": "stdout",
     "output_type": "stream",
     "text": [
      "(12.0, 31, 47.84473784893862) (1.0, 37, 22.862414150960433)\n"
     ]
    }
   ],
   "source": [
    "from pyplanets.core.coordinates import precession_equatorial,precession_newcomb\n",
    "\n",
    "\n",
    "mtime_j2000 = MonTime(0,format='tt',scale='tt')\n",
    "\n",
    "raJ2000, decJ2000 = precession_equatorial(mtime.mixed,pyplanets_Epoch(JED_2000),pyplanets_Angle(8,32,9.2832,ra=True),pyplanets_Angle(24,6,29.556))\n",
    "#raJ2000, decJ2000 = precession_equatorial(mtime.mixed,pyplanets_Epoch(JED_2000),pyplanets_Angle(40),pyplanets_Angle(40))\n",
    "#raJ2000, decJ2000 = precession_newcomb(mtime.mixed,mtime_j2000.mixed,pyplanets_Angle(8,32,9.2832,ra=True),pyplanets_Angle(24,6,29.556))\n",
    "print(Montu.dec2hex(float(raJ2000)/15),Montu.dec2hex(float(decJ2000)))"
   ]
  },
  {
   "cell_type": "code",
   "execution_count": 679,
   "metadata": {},
   "outputs": [
    {
     "data": {
      "text/plain": [
       "Epoch(2415020.0)"
      ]
     },
     "execution_count": 679,
     "metadata": {},
     "output_type": "execute_result"
    }
   ],
   "source": [
    "pyplanets_Epoch(PYEPHEM_JD_REF)"
   ]
  },
  {
   "cell_type": "code",
   "execution_count": 671,
   "metadata": {},
   "outputs": [
    {
     "name": "stdout",
     "output_type": "stream",
     "text": [
      "2000/1/1 12:00:00\n"
     ]
    }
   ],
   "source": [
    "print()"
   ]
  },
  {
   "cell_type": "code",
   "execution_count": 655,
   "metadata": {},
   "outputs": [
    {
     "data": {
      "text/plain": [
       "2451544.9992607194"
      ]
     },
     "execution_count": 655,
     "metadata": {},
     "output_type": "execute_result"
    }
   ],
   "source": [
    "mtime_j2000.jed"
   ]
  },
  {
   "cell_type": "code",
   "execution_count": 642,
   "metadata": {},
   "outputs": [
    {
     "name": "stdout",
     "output_type": "stream",
     "text": [
      "\u001b[0;31mSignature:\u001b[0m\n",
      "\u001b[0mprecession_equatorial\u001b[0m\u001b[0;34m(\u001b[0m\u001b[0;34m\u001b[0m\n",
      "\u001b[0;34m\u001b[0m    \u001b[0mstart_epoch\u001b[0m\u001b[0;34m,\u001b[0m\u001b[0;34m\u001b[0m\n",
      "\u001b[0;34m\u001b[0m    \u001b[0mfinal_epoch\u001b[0m\u001b[0;34m,\u001b[0m\u001b[0;34m\u001b[0m\n",
      "\u001b[0;34m\u001b[0m    \u001b[0mstart_ra\u001b[0m\u001b[0;34m,\u001b[0m\u001b[0;34m\u001b[0m\n",
      "\u001b[0;34m\u001b[0m    \u001b[0mstart_dec\u001b[0m\u001b[0;34m,\u001b[0m\u001b[0;34m\u001b[0m\n",
      "\u001b[0;34m\u001b[0m    \u001b[0mp_motion_ra\u001b[0m\u001b[0;34m=\u001b[0m\u001b[0;36m0.0\u001b[0m\u001b[0;34m,\u001b[0m\u001b[0;34m\u001b[0m\n",
      "\u001b[0;34m\u001b[0m    \u001b[0mp_motion_dec\u001b[0m\u001b[0;34m=\u001b[0m\u001b[0;36m0.0\u001b[0m\u001b[0;34m,\u001b[0m\u001b[0;34m\u001b[0m\n",
      "\u001b[0;34m\u001b[0m\u001b[0;34m)\u001b[0m\u001b[0;34m\u001b[0m\u001b[0;34m\u001b[0m\u001b[0m\n",
      "\u001b[0;31mDocstring:\u001b[0m\n",
      "This function converts the equatorial coordinates (right ascension and\n",
      "declination) given for an epoch and a equinox, to the corresponding\n",
      "values for another epoch and equinox. Only the **mean** positions, i.e.\n",
      "the effects of precession and proper motion, are considered here.\n",
      "\n",
      ":param start_epoch: Initial epoch when initial coordinates are given\n",
      ":type start_epoch: :py:class:`Epoch`\n",
      ":param final_epoch: Final epoch for when coordinates are going to be\n",
      "    computed\n",
      ":type final_epoch: :py:class:`Epoch`\n",
      ":param start_ra: Initial right ascension\n",
      ":type start_ra: :py:class:`Angle`\n",
      ":param start_dec: Initial declination\n",
      ":type start_dec: :py:class:`Angle`\n",
      ":param p_motion_ra: Proper motion in right ascension, in degrees per\n",
      "    year. Zero by default.\n",
      ":type p_motion_ra: :py:class:`Angle`\n",
      ":param p_motion_dec: Proper motion in declination, in degrees per year.\n",
      "    Zero by default.\n",
      ":type p_motion_dec: :py:class:`Angle`\n",
      "\n",
      ":returns: Equatorial coordinates (right ascension, declination, in that\n",
      "    order) corresponding to the final epoch, given as two objects\n",
      "    :class:`Angle` inside a tuple\n",
      ":rtype: tuple\n",
      ":raises: TypeError if input values are of wrong type.\n",
      "\n",
      ">>> start_epoch = JDE2000\n",
      ">>> final_epoch = Epoch(2028, 11, 13.19)\n",
      ">>> alpha0 = Angle(2, 44, 11.986, ra=True)\n",
      ">>> delta0 = Angle(49, 13, 42.48)\n",
      ">>> pm_ra = Angle(0, 0, 0.03425, ra=True)\n",
      ">>> pm_dec = Angle(0, 0, -0.0895)\n",
      ">>> alpha, delta = precession_equatorial(start_epoch, final_epoch, alpha0,\n",
      "...                                      delta0, pm_ra, pm_dec)\n",
      ">>> print(alpha.ra_str(False, 3))\n",
      "2:46:11.331\n",
      ">>> print(delta.dms_str(False, 2))\n",
      "49:20:54.54\n",
      "\u001b[0;31mFile:\u001b[0m      ~/opt/anaconda3/lib/python3.9/site-packages/pyplanets/core/coordinates.py\n",
      "\u001b[0;31mType:\u001b[0m      function\n"
     ]
    }
   ],
   "source": [
    "precession_equatorial?"
   ]
  },
  {
   "cell_type": "code",
   "execution_count": 636,
   "metadata": {},
   "outputs": [
    {
     "data": {
      "text/plain": [
       "{'scale': 'tt',\n",
       " 'verbose': False,\n",
       " 'mixed': Epoch(2451545.0),\n",
       " 'bce': False,\n",
       " 'deltat': 63.873832810959236,\n",
       " 'jtd': 2451545.0,\n",
       " 'tt': 0.0,\n",
       " 'jed': 2451544.9992607194,\n",
       " 'et': -63.873832810959236,\n",
       " 'style': 'astro',\n",
       " 'dateastro': '2000-01-01 12:00:00.0',\n",
       " 'date': '2000-01-01 12:00:00.0',\n",
       " 'datetime64': numpy.datetime64('2000-01-01T12:00:00.000'),\n",
       " 'calendar': [1, 2000, 1, 1, 12, 0, 0, 0],\n",
       " 'datetime': datetime.datetime(2000, 1, 1, 12, 0),\n",
       " 'datespice': '2000-01-01 12:00:00.0',\n",
       " 'astrotime': <Time object: scale='tdb' format='jd' value=2451545.0>,\n",
       " 'epsilon': Angle(23.43768724731829),\n",
       " 'delta_psi': Angle(-0.003867542410411445),\n",
       " 'gtst': 18.69713799540053,\n",
       " 'pyephem': 36524.9992607194,\n",
       " 'M_J2000_Epoch': array([[ 9.9999999772170789e-01,  6.1932310989079475e-05,\n",
       "          2.6850942970991014e-05],\n",
       "        [-6.1933062582113758e-05,  9.9999999769038916e-01,\n",
       "          2.7991380899483609e-05],\n",
       "        [-2.6849209338068903e-05, -2.7993043796858963e-05,\n",
       "          9.9999999924775473e-01]]),\n",
       " 'M_Epoch_J2000': array([[ 9.9999999772170789e-01, -6.1933062582113758e-05,\n",
       "         -2.6849209338068903e-05],\n",
       "        [ 6.1932310989079462e-05,  9.9999999769038916e-01,\n",
       "         -2.7993043796842480e-05],\n",
       "        [ 2.6850942970991014e-05,  2.7991380899500099e-05,\n",
       "          9.9999999924775473e-01]])}"
      ]
     },
     "execution_count": 636,
     "metadata": {},
     "output_type": "execute_result"
    }
   ],
   "source": [
    "mtime_j2000.__dict__"
   ]
  },
  {
   "cell_type": "code",
   "execution_count": 634,
   "metadata": {},
   "outputs": [
    {
     "data": {
      "text/plain": [
       "{'scale': 'tt',\n",
       " 'verbose': False,\n",
       " 'mixed': Epoch(2451545.0),\n",
       " 'bce': False,\n",
       " 'deltat': 63.873832810959236,\n",
       " 'jtd': 2451545.0,\n",
       " 'tt': 0.0,\n",
       " 'jed': 2451544.9992607194,\n",
       " 'et': -63.873832810959236,\n",
       " 'style': 'astro',\n",
       " 'dateastro': '2000-01-01 12:00:00.0',\n",
       " 'date': '2000-01-01 12:00:00.0',\n",
       " 'datetime64': numpy.datetime64('2000-01-01T12:00:00.000'),\n",
       " 'calendar': [1, 2000, 1, 1, 12, 0, 0, 0],\n",
       " 'datetime': datetime.datetime(2000, 1, 1, 12, 0),\n",
       " 'datespice': '2000-01-01 12:00:00.0',\n",
       " 'astrotime': <Time object: scale='tdb' format='jd' value=2451545.0>,\n",
       " 'epsilon': Angle(23.43768724731829),\n",
       " 'delta_psi': Angle(-0.003867542410411445),\n",
       " 'gtst': 18.69713799540053,\n",
       " 'pyephem': 36524.9992607194,\n",
       " 'M_J2000_Epoch': array([[ 9.9999999772170789e-01,  6.1932310989079475e-05,\n",
       "          2.6850942970991014e-05],\n",
       "        [-6.1933062582113758e-05,  9.9999999769038916e-01,\n",
       "          2.7991380899483609e-05],\n",
       "        [-2.6849209338068903e-05, -2.7993043796858963e-05,\n",
       "          9.9999999924775473e-01]]),\n",
       " 'M_Epoch_J2000': array([[ 9.9999999772170789e-01, -6.1933062582113758e-05,\n",
       "         -2.6849209338068903e-05],\n",
       "        [ 6.1932310989079462e-05,  9.9999999769038916e-01,\n",
       "         -2.7993043796842480e-05],\n",
       "        [ 2.6850942970991014e-05,  2.7991380899500099e-05,\n",
       "          9.9999999924775473e-01]])}"
      ]
     },
     "execution_count": 634,
     "metadata": {},
     "output_type": "execute_result"
    }
   ],
   "source": [
    "mtime_j2000.__dict__"
   ]
  },
  {
   "cell_type": "markdown",
   "metadata": {},
   "source": [
    "## Recycled"
   ]
  },
  {
   "cell_type": "code",
   "execution_count": 529,
   "metadata": {},
   "outputs": [
    {
     "ename": "IndentationError",
     "evalue": "unexpected indent (1399187883.py, line 4)",
     "output_type": "error",
     "traceback": [
      "\u001b[0;36m  Input \u001b[0;32mIn [529]\u001b[0;36m\u001b[0m\n\u001b[0;31m    \"\"\"\u001b[0m\n\u001b[0m    ^\u001b[0m\n\u001b[0;31mIndentationError\u001b[0m\u001b[0;31m:\u001b[0m unexpected indent\n"
     ]
    }
   ],
   "source": [
    "# Local coordinates at Epoch\n",
    "\n",
    "\n",
    "# Define planet and constellation\n",
    "            self.pyplanet_planet = eval(f\"pyplanets_{self.capital}(mtime.mixed)\")\n",
    "            self.pyplanet_site_planet = eval(f\"pyplanets_{site.planet.capital}(mtime.mixed)\")\n",
    "            self.pyplanet_constellation = pyplanets_Constellation(self.pyplanet_site_planet,self.pyplanet_planet)\n",
    "\n",
    "            # Define PyPlanet Site\n",
    "            RAplanet, DECplanet, ELON = self.pyplanet_constellation.geocentric_position()\n",
    "            RAplanet = float(RAplanet)/15\n",
    "            Montu.vprint(verbose,f\"\\tCoordinates @ Epoch using VSOP87/PyPlanet : \",Montu.dec2hex(RAplanet),Montu.dec2hex(DECplanet))\n",
    "\n",
    "\n",
    "            \"\"\"\n",
    "            normal_site=spy.surfnm(site.planet.Re,site.planet.Re,site.planet.Rp,site.pos_fixedplanet)\n",
    "            M_fixedplanet_epoch = spy.pxform('IAU_EARTH','EARTHTRUEEPOCH',site.epoch.tt)\n",
    "            normal_site_Epoch = spy.mxv(M_fixedplanet_epoch,normal_site)\n",
    "            r,HAnormal,DECnormal = spy.recrad(normal_site_Epoch)\n",
    "            Montu.vprint(verbose,f\"\\tHA site @ Epoch using SPICE : \",Montu.dec2hex(HAnormal*RAD/15))\n",
    "            print(\"Planet in fixed:\",spy.unorm(spy.mxv(site.M_J2000_fixedplanet,planet_site_J2000)))\n",
    "            print(\"X axis J2000 in fixed:\",spy.mxv(site.M_J2000_fixedplanet,[1,0,0]))\n",
    "            planet_site_local = spy.mxv(site.M_fixedplanet_local,spy.mxv(site.M_J2000_fixedplanet,planet_site_J2000))\n",
    "            print(\"Planet in local from J2000:\",spy.unorm(planet_site_local))\n",
    "            r,az,el = spy.recrad(planet_site_local)\n",
    "            Montu.vprint(verbose,f\"\\tLocal coordinates @ Epoch using SPICE: \",Montu.dec2hex(az*RAD),Montu.dec2hex(el*RAD))\n",
    "            \"\"\"\n",
    "            \n",
    "            #planet_TOPObody = spy.mxv(spy.invert(M_ITRF_TRUE),bodysite_Epoch)\n",
    "            #bodyTOPOlocal = spy.mxv(M_body_local,bodyTOPObody)\n",
    "            #r,az1,el1 = spy.recrad(bodyTOPOlocal)\n",
    "\n",
    "            \"\"\"\n",
    "            # Celestial Coordinates at Epoch\n",
    "            self.eq_epoch = self.eq_J2000.transform_to(FK5(equinox=self.epochs.astrotime))\n",
    "            Montu.vprint(verbose,f\"Coordinates @ Epoch using astropy : \",self.eq_epoch.ra/15,self.eq_epoch.dec)\n",
    "            \n",
    "            self.P_SSBJ2000 = planetSSBJ2000\n",
    "            self.X_SSBJ2000 = bodySSBJ2000\n",
    "\n",
    "            \n",
    "            \n",
    "            # Celestial Coordinates at Epoch\n",
    "            if location.planet.id == '399':\n",
    "                \n",
    "            else:\n",
    "                self.eq_epoch = SkyCoord(ra=RAbodyJ2000*u.rad,dec=DECbodyJ2000*u.rad)\n",
    "            \n",
    "            Montu.vprint(verbose,\"Coordinates @ Epoch: \",self.eq_epoch.ra/15,self.eq_epoch.dec)\n",
    "\n",
    "            # AltAz Coordinates at body\n",
    "            self.az_epoch = self.eq_J2000.transform_to(location.frame)\n",
    "            Montu.vprint(verbose,\"AltAz @ Epoch: \",self.az_epoch.az.value,self.az_epoch.alt.value)\n",
    "            Montu.vprint(verbose,\"AltAz @ Epoch: \",Montu.dec2hex(self.az_epoch.az.value),Montu.dec2hex(self.az_epoch.alt.value))\n",
    "\n",
    "            # AltAz Coordinates at body (using SPICE)\n",
    "            location.update_site(self.epochs)\n",
    "            \n",
    "            \"\"\""
   ]
  },
  {
   "cell_type": "code",
   "execution_count": 443,
   "metadata": {},
   "outputs": [
    {
     "name": "stdout",
     "output_type": "stream",
     "text": [
      "\u001b[0;31mSignature:\u001b[0m\n",
      "\u001b[0mspy\u001b[0m\u001b[0;34m.\u001b[0m\u001b[0met2lst\u001b[0m\u001b[0;34m(\u001b[0m\u001b[0;34m\u001b[0m\n",
      "\u001b[0;34m\u001b[0m    \u001b[0met\u001b[0m\u001b[0;34m:\u001b[0m \u001b[0mfloat\u001b[0m\u001b[0;34m,\u001b[0m\u001b[0;34m\u001b[0m\n",
      "\u001b[0;34m\u001b[0m    \u001b[0mbody\u001b[0m\u001b[0;34m:\u001b[0m \u001b[0mint\u001b[0m\u001b[0;34m,\u001b[0m\u001b[0;34m\u001b[0m\n",
      "\u001b[0;34m\u001b[0m    \u001b[0mlon\u001b[0m\u001b[0;34m:\u001b[0m \u001b[0mfloat\u001b[0m\u001b[0;34m,\u001b[0m\u001b[0;34m\u001b[0m\n",
      "\u001b[0;34m\u001b[0m    \u001b[0mtypein\u001b[0m\u001b[0;34m:\u001b[0m \u001b[0mstr\u001b[0m\u001b[0;34m,\u001b[0m\u001b[0;34m\u001b[0m\n",
      "\u001b[0;34m\u001b[0m    \u001b[0mtimlen\u001b[0m\u001b[0;34m:\u001b[0m \u001b[0mint\u001b[0m \u001b[0;34m=\u001b[0m \u001b[0;36m256\u001b[0m\u001b[0;34m,\u001b[0m\u001b[0;34m\u001b[0m\n",
      "\u001b[0;34m\u001b[0m    \u001b[0mampmlen\u001b[0m\u001b[0;34m:\u001b[0m \u001b[0mint\u001b[0m \u001b[0;34m=\u001b[0m \u001b[0;36m256\u001b[0m\u001b[0;34m,\u001b[0m\u001b[0;34m\u001b[0m\n",
      "\u001b[0;34m\u001b[0m\u001b[0;34m)\u001b[0m \u001b[0;34m->\u001b[0m \u001b[0mTuple\u001b[0m\u001b[0;34m[\u001b[0m\u001b[0mint\u001b[0m\u001b[0;34m,\u001b[0m \u001b[0mint\u001b[0m\u001b[0;34m,\u001b[0m \u001b[0mint\u001b[0m\u001b[0;34m,\u001b[0m \u001b[0mstr\u001b[0m\u001b[0;34m,\u001b[0m \u001b[0mstr\u001b[0m\u001b[0;34m]\u001b[0m\u001b[0;34m\u001b[0m\u001b[0;34m\u001b[0m\u001b[0m\n",
      "\u001b[0;31mDocstring:\u001b[0m\n",
      "Given an ephemeris epoch, compute the local solar time for\n",
      "an object on the surface of a body at a specified longitude.\n",
      "\n",
      "https://naif.jpl.nasa.gov/pub/naif/toolkit_docs/C/cspice/et2lst_c.html\n",
      "\n",
      ":param et: Epoch in seconds past J2000 epoch.\n",
      ":param body: ID-code of the body of interest.\n",
      ":param lon: Longitude of surface point (RADIANS).\n",
      ":param typein: Type of longitude \"PLANETOCENTRIC\", etc.\n",
      ":param timlen: Available room in output time string.\n",
      ":param ampmlen: Available room in output ampm string.\n",
      ":return:\n",
      "        Local hour on a \"24 hour\" clock,\n",
      "        Minutes past the hour,\n",
      "        Seconds past the minute,\n",
      "        String giving local time on 24 hour clock,\n",
      "        String giving time on A.M. / P.M. scale.\n",
      "\u001b[0;31mFile:\u001b[0m      ~/opt/anaconda3/lib/python3.9/site-packages/spiceypy/spiceypy.py\n",
      "\u001b[0;31mType:\u001b[0m      function\n"
     ]
    }
   ],
   "source": [
    "spy.et2lst?"
   ]
  },
  {
   "cell_type": "code",
   "execution_count": 486,
   "metadata": {},
   "outputs": [
    {
     "name": "stdout",
     "output_type": "stream",
     "text": [
      "Proleptic utc\n",
      "Date astro: 2000-01-01 12:00:00.00\n",
      "Datetime64: 2000-01-01T12:00:00.000\n",
      "Calendar: [1, 2000, 1, 1, 12, 0, 0, 0]\n",
      "Datetime: 2000-01-01 12:00:00\n",
      "Date SPICE: 2000-01-01 12:00:00.00\n",
      "Mixed: (2000, 1, 1, 12, 0, 0.0)\n",
      "et =  6.16608986092615e-11\n",
      "JED =  2451545.0\n",
      "Delta-t: 63.873832810959236\n",
      "tt =  63.8738328110209\n",
      "JTD =  2451545.0007392806\n"
     ]
    }
   ],
   "source": [
    "#mtime = MonTime('-2500-01-01 12:00:00.00',format='iso',scale='utc',proleptic=True,verbose=True)\n",
    "mtime = MonTime('2000-01-01 12:00:00.00',format='iso',scale='utc',proleptic=True,verbose=True)\n",
    "e = pyplanets_Epoch(mtime.mixed)\n"
   ]
  },
  {
   "cell_type": "code",
   "execution_count": 485,
   "metadata": {},
   "outputs": [
    {
     "data": {
      "text/plain": [
       "(20.0, 53, 49.69678344191067)"
      ]
     },
     "execution_count": 485,
     "metadata": {},
     "output_type": "execute_result"
    }
   ],
   "source": [
    "Montu.dec2hex(e.apparent_sidereal_time(mtime.epsilon,mtime.delta_psi)*24 + 33/15)"
   ]
  },
  {
   "cell_type": "code",
   "execution_count": 479,
   "metadata": {},
   "outputs": [
    {
     "data": {
      "text/plain": [
       "(Angle(-0.002837323957012407), Angle(23.975996397586172))"
      ]
     },
     "execution_count": 479,
     "metadata": {},
     "output_type": "execute_result"
    }
   ],
   "source": [
    "mtime.delta_psi,mtime.epsilon"
   ]
  },
  {
   "cell_type": "code",
   "execution_count": null,
   "metadata": {},
   "outputs": [],
   "source": []
  },
  {
   "cell_type": "code",
   "execution_count": 407,
   "metadata": {},
   "outputs": [
    {
     "data": {
      "text/plain": [
       "(-2500, 1, 22, 11, 59, 59.99995976686478)"
      ]
     },
     "execution_count": 407,
     "metadata": {},
     "output_type": "execute_result"
    }
   ],
   "source": [
    "mtime.mixed.get_full_date()"
   ]
  },
  {
   "cell_type": "code",
   "execution_count": 395,
   "metadata": {},
   "outputs": [
    {
     "data": {
      "text/plain": [
       "Epoch(807953.9999999995)"
      ]
     },
     "execution_count": 395,
     "metadata": {},
     "output_type": "execute_result"
    }
   ],
   "source": [
    "mtime.mixed"
   ]
  },
  {
   "cell_type": "code",
   "execution_count": 383,
   "metadata": {},
   "outputs": [
    {
     "ename": "AttributeError",
     "evalue": "'MonTime' object has no attribute 'datejulian'",
     "output_type": "error",
     "traceback": [
      "\u001b[0;31m---------------------------------------------------------------------------\u001b[0m",
      "\u001b[0;31mAttributeError\u001b[0m                            Traceback (most recent call last)",
      "\u001b[1;32m/Users/jorgezuluagacallejas/Dropbox/MiInvestigacion/EgyptianAstronomy/MontuPython/dev/test-new-montu.ipynb Celda 28\u001b[0m line \u001b[0;36m<module>\u001b[0;34m\u001b[0m\n\u001b[0;32m----> <a href='vscode-notebook-cell:/Users/jorgezuluagacallejas/Dropbox/MiInvestigacion/EgyptianAstronomy/MontuPython/dev/test-new-montu.ipynb#Y151sZmlsZQ%3D%3D?line=0'>1</a>\u001b[0m mtime\u001b[39m.\u001b[39mcalendar, mtime\u001b[39m.\u001b[39;49mdatejulian\n",
      "\u001b[0;31mAttributeError\u001b[0m: 'MonTime' object has no attribute 'datejulian'"
     ]
    }
   ],
   "source": [
    "mtime.calendar, mtime.datejulian"
   ]
  },
  {
   "cell_type": "markdown",
   "metadata": {},
   "source": [
    "Test conversion from equatorial to horizontal:"
   ]
  },
  {
   "cell_type": "code",
   "execution_count": 351,
   "metadata": {},
   "outputs": [
    {
     "data": {
      "text/latex": [
       "$12^{\\mathrm{h}}20^{\\mathrm{m}}04.19^{\\mathrm{s}}$"
      ],
      "text/plain": [
       "<Angle 12.334497222222222 hourangle>"
      ]
     },
     "execution_count": 351,
     "metadata": {},
     "output_type": "execute_result"
    }
   ],
   "source": [
    "ra = astropy_Angle('8:32:13.91 hours')\n",
    "dec = astropy_Angle('24:06:12.2 degrees')\n",
    "st = astropy_Angle('20:52:18.1 hours')\n",
    "ha = st - ra\n",
    "ha"
   ]
  },
  {
   "cell_type": "code",
   "execution_count": null,
   "metadata": {},
   "outputs": [],
   "source": [
    "ra = astropy_Angle('1:58:45.33 hours')\n",
    "dec = astropy_Angle('24:06:12.2 degrees')\n",
    "st = astropy_Angle('20:52:18.1 hours')\n",
    "ha = st - ra\n",
    "ha"
   ]
  },
  {
   "cell_type": "code",
   "execution_count": 352,
   "metadata": {},
   "outputs": [
    {
     "data": {
      "text/plain": [
       "((-41.0, 39, 4.028375144571896), (6.0, 8, 0.1076201842537472))"
      ]
     },
     "execution_count": 352,
     "metadata": {},
     "output_type": "execute_result"
    }
   ],
   "source": [
    "\"\"\"\n",
    "Source: \n",
    "sin(a) = sin(δ) sin(φ) + cos(δ) cos(φ) cos(H)\n",
    "sin(A) = - sin(H) cos(δ) / cos(a)\n",
    "cos(A) = { sin(δ) - sin(φ) sin(a) } / { cos(φ) cos(a) }\n",
    "\"\"\"\n",
    "el = np.arcsin(np.sin(dec.value*DEG)*np.sin(site.lat*DEG) + np.cos(dec.value*DEG)*np.cos(site.lat*DEG)*np.cos(ha.value*15*DEG))*RAD\n",
    "az = np.arctan2(-np.sin(ha.value*15*DEG)*np.cos(dec.value*DEG)/np.cos(el*DEG),(np.sin(dec.value*DEG) - np.sin(site.lat*DEG)*np.sin(el*DEG))/(np.cos(site.lat*DEG)*np.cos(el*DEG)))*RAD\n",
    "Montu.dec2hex(el),Montu.dec2hex(az)"
   ]
  },
  {
   "cell_type": "code",
   "execution_count": 355,
   "metadata": {},
   "outputs": [
    {
     "name": "stdout",
     "output_type": "stream",
     "text": [
      "-0.08745928459949977 -0.9961680950207872\n"
     ]
    },
    {
     "data": {
      "text/plain": [
       "((24.0, 6, 12.199999999966735), (12.0, 20, 4.189999999992011))"
      ]
     },
     "execution_count": 355,
     "metadata": {},
     "output_type": "execute_result"
    }
   ],
   "source": [
    "\"\"\"\n",
    "Source: \n",
    "sin(δ) = sin(a)sin(φ) + cos(a) cos(φ) cos(A)\n",
    "sin(H) = - sin(A) cos(a) / cos(δ)\n",
    "cos(H) = { sin(a) - sin(δ) sin(φ)} / cos(δ) cos(φ)\n",
    "H = t - α\n",
    "\"\"\"\n",
    "dec = np.arcsin(np.sin(el*DEG)*np.sin(site.lat*DEG) + np.cos(el*DEG)*np.cos(site.lat*DEG)*np.cos(az*DEG))*RAD\n",
    "ha = np.arctan2(-np.sin(az*DEG)*np.cos(el*DEG)/np.cos(dec*DEG),(np.sin(el*DEG)-np.sin(dec*DEG)*np.sin(site.lat*DEG))/(np.cos(dec*DEG)*np.cos(site.lat*DEG)))*RAD\n",
    "print(-np.sin(az*DEG)*np.cos(el*DEG)/np.cos(dec*DEG),(np.sin(el*DEG)-np.sin(dec*DEG)*np.sin(site.lat*DEG))/(np.cos(dec*DEG)*np.cos(site.lat*DEG)))\n",
    "Montu.dec2hex(dec),Montu.dec2hex(np.mod(ha,360)/15)"
   ]
  },
  {
   "cell_type": "code",
   "execution_count": 305,
   "metadata": {},
   "outputs": [
    {
     "data": {
      "text/latex": [
       "$20^{\\mathrm{h}}52^{\\mathrm{m}}13.97278752^{\\mathrm{s}}$"
      ],
      "text/plain": [
       "<Angle 20.870547996532697 hourangle>"
      ]
     },
     "execution_count": 305,
     "metadata": {},
     "output_type": "execute_result"
    }
   ],
   "source": [
    "astropy_Angle('11:39:43.95031061315663 hours') + mars.eq_epoch.ra\n",
    "astropy_Angle('12:20:04.17 hours') + mars.eq_epoch.ra"
   ]
  },
  {
   "cell_type": "code",
   "execution_count": null,
   "metadata": {},
   "outputs": [],
   "source": []
  },
  {
   "cell_type": "code",
   "execution_count": null,
   "metadata": {},
   "outputs": [],
   "source": []
  },
  {
   "cell_type": "code",
   "execution_count": 300,
   "metadata": {},
   "outputs": [
    {
     "name": "stdout",
     "output_type": "stream",
     "text": [
      "\u001b[0;31mInit signature:\u001b[0m \u001b[0mastropy_Angle\u001b[0m\u001b[0;34m(\u001b[0m\u001b[0mangle\u001b[0m\u001b[0;34m,\u001b[0m \u001b[0munit\u001b[0m\u001b[0;34m=\u001b[0m\u001b[0;32mNone\u001b[0m\u001b[0;34m,\u001b[0m \u001b[0mdtype\u001b[0m\u001b[0;34m=\u001b[0m\u001b[0;32mNone\u001b[0m\u001b[0;34m,\u001b[0m \u001b[0mcopy\u001b[0m\u001b[0;34m=\u001b[0m\u001b[0;32mTrue\u001b[0m\u001b[0;34m,\u001b[0m \u001b[0;34m**\u001b[0m\u001b[0mkwargs\u001b[0m\u001b[0;34m)\u001b[0m\u001b[0;34m\u001b[0m\u001b[0;34m\u001b[0m\u001b[0m\n",
      "\u001b[0;31mDocstring:\u001b[0m     \n",
      "One or more angular value(s) with units equivalent to radians or degrees.\n",
      "\n",
      "An angle can be specified either as an array, scalar, tuple (see\n",
      "below), string, `~astropy.units.Quantity` or another\n",
      ":class:`~astropy.coordinates.Angle`.\n",
      "\n",
      "The input parser is flexible and supports a variety of formats.\n",
      "The examples below illustrate common ways of initializing an `Angle`\n",
      "object. First some imports::\n",
      "\n",
      "  >>> from astropy.coordinates import Angle\n",
      "  >>> from astropy import units as u\n",
      "\n",
      "The angle values can now be provided::\n",
      "\n",
      "  >>> Angle('10.2345d')\n",
      "  <Angle 10.2345 deg>\n",
      "  >>> Angle(['10.2345d', '-20d'])\n",
      "  <Angle [ 10.2345, -20.    ] deg>\n",
      "  >>> Angle('1:2:30.43 degrees')\n",
      "  <Angle 1.04178611 deg>\n",
      "  >>> Angle('1 2 0 hours')\n",
      "  <Angle 1.03333333 hourangle>\n",
      "  >>> Angle(np.arange(1, 8), unit=u.deg)\n",
      "  <Angle [1., 2., 3., 4., 5., 6., 7.] deg>\n",
      "  >>> Angle('1°2′3″')\n",
      "  <Angle 1.03416667 deg>\n",
      "  >>> Angle('1°2′3″N')\n",
      "  <Angle 1.03416667 deg>\n",
      "  >>> Angle('1d2m3.4s')\n",
      "  <Angle 1.03427778 deg>\n",
      "  >>> Angle('1d2m3.4sS')\n",
      "  <Angle -1.03427778 deg>\n",
      "  >>> Angle('-1h2m3s')\n",
      "  <Angle -1.03416667 hourangle>\n",
      "  >>> Angle('-1h2m3sE')\n",
      "  <Angle -1.03416667 hourangle>\n",
      "  >>> Angle('-1h2.5m')\n",
      "  <Angle -1.04166667 hourangle>\n",
      "  >>> Angle('-1h2.5mW')\n",
      "  <Angle 1.04166667 hourangle>\n",
      "  >>> Angle('-1:2.5', unit=u.deg)\n",
      "  <Angle -1.04166667 deg>\n",
      "  >>> Angle((10, 11, 12), unit='hourangle')  # (h, m, s)\n",
      "  <Angle 10.18666667 hourangle>\n",
      "  >>> Angle((-1, 2, 3), unit=u.deg)  # (d, m, s)\n",
      "  <Angle -1.03416667 deg>\n",
      "  >>> Angle(10.2345 * u.deg)\n",
      "  <Angle 10.2345 deg>\n",
      "  >>> Angle(Angle(10.2345 * u.deg))\n",
      "  <Angle 10.2345 deg>\n",
      "\n",
      "Parameters\n",
      "----------\n",
      "angle : `~numpy.array`, scalar, `~astropy.units.Quantity`, :class:`~astropy.coordinates.Angle`\n",
      "    The angle value. If a tuple, will be interpreted as ``(h, m,\n",
      "    s)`` or ``(d, m, s)`` depending on ``unit``. If a string, it\n",
      "    will be interpreted following the rules described above.\n",
      "\n",
      "    If ``angle`` is a sequence or array of strings, the resulting\n",
      "    values will be in the given ``unit``, or if `None` is provided,\n",
      "    the unit will be taken from the first given value.\n",
      "\n",
      "unit : unit-like, optional\n",
      "    The unit of the value specified for the angle.  This may be\n",
      "    any string that `~astropy.units.Unit` understands, but it is\n",
      "    better to give an actual unit object.  Must be an angular\n",
      "    unit.\n",
      "\n",
      "dtype : `~numpy.dtype`, optional\n",
      "    See `~astropy.units.Quantity`.\n",
      "\n",
      "copy : bool, optional\n",
      "    See `~astropy.units.Quantity`.\n",
      "\n",
      "Raises\n",
      "------\n",
      "`~astropy.units.UnitsError`\n",
      "    If a unit is not provided or it is not an angular unit.\n",
      "\u001b[0;31mFile:\u001b[0m           ~/opt/anaconda3/lib/python3.9/site-packages/astropy/coordinates/angles.py\n",
      "\u001b[0;31mType:\u001b[0m           type\n",
      "\u001b[0;31mSubclasses:\u001b[0m     Latitude, Longitude\n"
     ]
    }
   ],
   "source": [
    "astropy_Angle?"
   ]
  },
  {
   "cell_type": "code",
   "execution_count": 263,
   "metadata": {},
   "outputs": [
    {
     "data": {
      "text/latex": [
       "$13^{\\mathrm{h}}29^{\\mathrm{m}}50.40951165^{\\mathrm{s}}$"
      ],
      "text/plain": [
       "<Longitude 13.49733597545948 hourangle>"
      ]
     },
     "execution_count": 263,
     "metadata": {},
     "output_type": "execute_result"
    }
   ],
   "source": [
    "at = astropy_Time(mtime.jtd,format='jd',scale='tt',location=site.astropy_site)\n",
    "at.sidereal_time('mean')\n",
    "at.sidereal_time('apparent')"
   ]
  },
  {
   "cell_type": "code",
   "execution_count": 258,
   "metadata": {},
   "outputs": [
    {
     "ename": "ValueError",
     "evalue": "No longitude is given but the location for the Time object is not set.",
     "output_type": "error",
     "traceback": [
      "\u001b[0;31m---------------------------------------------------------------------------\u001b[0m",
      "\u001b[0;31mValueError\u001b[0m                                Traceback (most recent call last)",
      "\u001b[1;32m/Users/jorgezuluagacallejas/Dropbox/MiInvestigacion/EgyptianAstronomy/MontuPython/dev/test-new-montu.ipynb Celda 29\u001b[0m line \u001b[0;36m<module>\u001b[0;34m\u001b[0m\n\u001b[0;32m----> <a href='vscode-notebook-cell:/Users/jorgezuluagacallejas/Dropbox/MiInvestigacion/EgyptianAstronomy/MontuPython/dev/test-new-montu.ipynb#Y124sZmlsZQ%3D%3D?line=0'>1</a>\u001b[0m site\u001b[39m.\u001b[39;49mepoch\u001b[39m.\u001b[39;49mastrotime\u001b[39m.\u001b[39;49msidereal_time(\u001b[39m'\u001b[39;49m\u001b[39mmean\u001b[39;49m\u001b[39m'\u001b[39;49m)\n",
      "File \u001b[0;32m~/opt/anaconda3/lib/python3.9/site-packages/astropy/time/core.py:1822\u001b[0m, in \u001b[0;36mTime.sidereal_time\u001b[0;34m(self, kind, longitude, model)\u001b[0m\n\u001b[1;32m   1820\u001b[0m \u001b[39mif\u001b[39;00m longitude \u001b[39mis\u001b[39;00m \u001b[39mNone\u001b[39;00m:\n\u001b[1;32m   1821\u001b[0m     \u001b[39mif\u001b[39;00m \u001b[39mself\u001b[39m\u001b[39m.\u001b[39mlocation \u001b[39mis\u001b[39;00m \u001b[39mNone\u001b[39;00m:\n\u001b[0;32m-> 1822\u001b[0m         \u001b[39mraise\u001b[39;00m \u001b[39mValueError\u001b[39;00m(\u001b[39m'\u001b[39m\u001b[39mNo longitude is given but the location for \u001b[39m\u001b[39m'\u001b[39m\n\u001b[1;32m   1823\u001b[0m                          \u001b[39m'\u001b[39m\u001b[39mthe Time object is not set.\u001b[39m\u001b[39m'\u001b[39m)\n\u001b[1;32m   1824\u001b[0m     longitude \u001b[39m=\u001b[39m \u001b[39mself\u001b[39m\u001b[39m.\u001b[39mlocation\u001b[39m.\u001b[39mlon\n\u001b[1;32m   1825\u001b[0m \u001b[39melif\u001b[39;00m longitude \u001b[39m==\u001b[39m \u001b[39m'\u001b[39m\u001b[39mgreenwich\u001b[39m\u001b[39m'\u001b[39m:\n",
      "\u001b[0;31mValueError\u001b[0m: No longitude is given but the location for the Time object is not set."
     ]
    }
   ],
   "source": []
  },
  {
   "cell_type": "code",
   "execution_count": 22,
   "metadata": {},
   "outputs": [],
   "source": [
    "from astropy.coordinates import Angle"
   ]
  },
  {
   "cell_type": "code",
   "execution_count": 23,
   "metadata": {},
   "outputs": [
    {
     "data": {
      "text/latex": [
       "$3^\\circ14{}^\\prime32.82{}^{\\prime\\prime}$"
      ],
      "text/plain": [
       "<Angle 3.24245 deg>"
      ]
     },
     "execution_count": 23,
     "metadata": {},
     "output_type": "execute_result"
    }
   ],
   "source": [
    "Angle(3.24245*monu.deg)"
   ]
  },
  {
   "cell_type": "code",
   "execution_count": 24,
   "metadata": {},
   "outputs": [
    {
     "data": {
      "text/plain": [
       "({'body': 'MARS',\n",
       "  'name': 'mars',\n",
       "  'id': '4',\n",
       "  'capital': 'Mars',\n",
       "  'framebody': 'IAU_MARS',\n",
       "  'Re': 3396.19,\n",
       "  'Rt': 3396.19,\n",
       "  'Rp': 3376.2,\n",
       "  'f': 0.005886007555525526,\n",
       "  'pyplanet': pyplanets.planets.mars.Mars,\n",
       "  'query_horizons': <astroquery.jplhorizons.core.HorizonsClass at 0x7fa7f8e4abb0>,\n",
       "  'predict': False,\n",
       "  'epoch': <montu.MonTime at 0x7fa7f8e48c40>,\n",
       "  'eq_J2000': <SkyCoord (ICRS): (ra, dec) in deg\n",
       "      (187.95314060306603, 1.6200510815438565)>,\n",
       "  'eq_epoch': <SkyCoord (ICRS): (ra, dec) in deg\n",
       "      (128.0408161920895, 24.10793190241121)>,\n",
       "  'azel': [<Angle 6.192702 deg>, <Angle -41.641477 deg>]},\n",
       " {'body': '399',\n",
       "  'id': '399',\n",
       "  'name': 'earth',\n",
       "  'capital': 'Earth',\n",
       "  'framebody': 'IAU_EARTH',\n",
       "  'Re': 6378.1366,\n",
       "  'Rt': 6378.1366,\n",
       "  'Rp': 6356.7519,\n",
       "  'f': 0.0033528131084554717,\n",
       "  'pyplanet': pyplanets.planets.earth.Earth,\n",
       "  'query_horizons': <astroquery.jplhorizons.core.HorizonsClass at 0x7fa7f8e2a670>,\n",
       "  'predict': False})"
      ]
     },
     "execution_count": 24,
     "metadata": {},
     "output_type": "execute_result"
    }
   ],
   "source": [
    "mars = PlanetaryBody('mars')\n",
    "earth = PlanetaryBody('Earth')\n",
    "earth = PlanetaryBody('399')\n",
    "mars.__dict__, earth.__dict__"
   ]
  },
  {
   "cell_type": "code",
   "execution_count": 25,
   "metadata": {},
   "outputs": [
    {
     "data": {
      "text/plain": [
       "{'planet': <__main__.PlanetaryBody at 0x7fa7f8e48bb0>,\n",
       " 'lon': 33.0,\n",
       " 'lat': 24.0,\n",
       " 'elevation': 0.0,\n",
       " 'location': {'lon': 33.0, 'lat': 24.0, 'elevation': 0.0},\n",
       " 'pressure': 0,\n",
       " 'temperature': 0,\n",
       " 'relative_humidity': 0,\n",
       " 'obswl': 1,\n",
       " 'astropy_site': <EarthLocation (4889.405181163911, 3175.2168508670934, 2578.2834220752534) km>,\n",
       " 'pos_Fixed': array([4889.405181163911 , 3175.2168508670934, 2578.2834220752534]),\n",
       " 'epoch': <montu.MonTime at 0x7fa7c14ce6d0>,\n",
       " 'M_FRAME_J2000': array([[ 0.17617425963267894,  0.9843589945964213 ,  0.                 ],\n",
       "        [-0.9843589945964213 ,  0.17617425963267894,  0.                 ],\n",
       "        [-0.                 ,  0.                 ,  1.                 ]]),\n",
       " 'pos_J2000': array([ 3986.9406047808834, -4253.538490430324 ,  2578.2834220752534]),\n",
       " 'pos_Epoch': array([ 3986.746393570004 , -4253.713234334958 ,  2578.2954434220896]),\n",
       " 'frame': <AltAz Frame (obstime=2451545.0, location=(4889.405181163911, 3175.2168508670934, 2578.2834220752534) km, pressure=0.0 hPa, temperature=0.0 deg_C, relative_humidity=0.0, obswl=1.0 micron)>}"
      ]
     },
     "execution_count": 25,
     "metadata": {},
     "output_type": "execute_result"
    }
   ],
   "source": [
    "site = ObservingSite(planet=PlanetaryBody('Earth'),\n",
    "                     lon=lon0,lat=lat0,height=height0)\n",
    "site.__dict__"
   ]
  },
  {
   "cell_type": "code",
   "execution_count": 26,
   "metadata": {},
   "outputs": [
    {
     "data": {
      "text/plain": [
       "{'planet': <__main__.PlanetaryBody at 0x7fa7f8e48bb0>,\n",
       " 'lon': 33.0,\n",
       " 'lat': 24.0,\n",
       " 'elevation': 0.0,\n",
       " 'location': {'lon': 33.0, 'lat': 24.0, 'elevation': 0.0},\n",
       " 'pressure': 0,\n",
       " 'temperature': 0,\n",
       " 'relative_humidity': 0,\n",
       " 'obswl': 1,\n",
       " 'astropy_site': <EarthLocation (4889.405181163911, 3175.2168508670934, 2578.2834220752534) km>,\n",
       " 'pos_Fixed': array([4889.405181163911 , 3175.2168508670934, 2578.2834220752534]),\n",
       " 'epoch': <montu.MonTime at 0x7fa7f8e2afa0>,\n",
       " 'M_FRAME_J2000': array([[ 0.9131506961371856 ,  0.16869069741562343, -0.37107850213883864],\n",
       "        [-0.257518690484828  ,  0.9444121201343857 , -0.2043767878068689 ],\n",
       "        [ 0.3159745720705272 ,  0.2821864559979894 ,  0.9058315924365533 ]]),\n",
       " 'pos_J2000': array([4043.647739542113 , 1212.6587746513135, 4776.42147794016  ]),\n",
       " 'pos_Epoch': array([ 4582.931261947399 , -3541.3239178987596,  2663.005151507285 ]),\n",
       " 'frame': <AltAz Frame (obstime=807953.9999999995, location=(4889.405181163911, 3175.2168508670934, 2578.2834220752534) km, pressure=0.0 hPa, temperature=0.0 deg_C, relative_humidity=0.0, obswl=1.0 micron)>}"
      ]
     },
     "execution_count": 26,
     "metadata": {},
     "output_type": "execute_result"
    }
   ],
   "source": [
    "mtime = MonTime('-2500-01-01 12:00:00.00')\n",
    "site.update_site(mtime)\n",
    "site.__dict__"
   ]
  }
 ],
 "metadata": {
  "kernelspec": {
   "display_name": "base",
   "language": "python",
   "name": "python3"
  },
  "language_info": {
   "codemirror_mode": {
    "name": "ipython",
    "version": 3
   },
   "file_extension": ".py",
   "mimetype": "text/x-python",
   "name": "python",
   "nbconvert_exporter": "python",
   "pygments_lexer": "ipython3",
   "version": "3.9.7"
  },
  "orig_nbformat": 4
 },
 "nbformat": 4,
 "nbformat_minor": 2
}
