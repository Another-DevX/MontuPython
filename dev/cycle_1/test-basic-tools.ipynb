{
  "cells": [
    {
      "cell_type": "code",
      "execution_count": 1,
      "metadata": {},
      "outputs": [],
      "source": [
        "from montu import *\n",
        "import matplotlib.pyplot as plt\n",
        "from astropy.time import Time\n",
        "from astroquery.jplhorizons import Horizons\n",
        "\n",
        "%load_ext autoreload\n",
        "%autoreload 2"
      ]
    },
    {
      "cell_type": "markdown",
      "metadata": {},
      "source": [
        "## Prepare environment"
      ]
    },
    {
      "cell_type": "markdown",
      "metadata": {},
      "source": [
        "We need to get and connect the files for ephemerides calculation:"
      ]
    },
    {
      "cell_type": "code",
      "execution_count": 2,
      "metadata": {},
      "outputs": [
        {
          "name": "stdout",
          "output_type": "stream",
          "text": [
            "Loading kernel latest_leapseconds.tls\n",
            "Loading kernel de441_part-1.bsp\n",
            "Loading kernel de441_part-2.bsp\n",
            "Loading local kernel frame.tk\n",
            "Loading local kernel pck00011.tpc\n",
            "Loading local kernel earth_assoc_itrf93.tf\n"
          ]
        }
      ],
      "source": [
        "# Load SPICE data\n",
        "Montu.load_kernels()"
      ]
    },
    {
      "cell_type": "markdown",
      "metadata": {},
      "source": [
        "## The stars"
      ]
    },
    {
      "cell_type": "markdown",
      "metadata": {},
      "source": [
        "The package is provided with a catalogue with all stars between magnitude -1.44 and magnitude 21."
      ]
    },
    {
      "cell_type": "code",
      "execution_count": 3,
      "metadata": {},
      "outputs": [],
      "source": [
        "allstars=Stars()"
      ]
    },
    {
      "cell_type": "markdown",
      "metadata": {},
      "source": [
        "Get Aldebaran position and stars around it:"
      ]
    },
    {
      "cell_type": "code",
      "execution_count": 4,
      "metadata": {},
      "outputs": [
        {
          "data": {
            "text/plain": [
              "(<Figure size 360x360 with 1 Axes>,\n",
              " <AxesSubplot:xlabel='RA [deg]', ylabel='Dec [deg]'>)"
            ]
          },
          "execution_count": 4,
          "metadata": {},
          "output_type": "execute_result"
        },
        {
          "data": {
            "image/png": "[encoded data removed]",
            "text/plain": [
              "<Figure size 360x360 with 1 Axes>"
            ]
          },
          "metadata": {
            "needs_background": "dark"
          },
          "output_type": "display_data"
        }
      ],
      "source": [
        "aldebaran = allstars.get_stars(ProperName='Aldebaran')\n",
        "hyades = allstars.get_stars_area(RA=aldebaran.data.RA,Dec=aldebaran.data.Dec,radius=5,Mag=[-1,4])\n",
        "hyades.plot_stars(pad=0.1)"
      ]
    },
    {
      "cell_type": "markdown",
      "metadata": {},
      "source": [
        "## Time issues"
      ]
    },
    {
      "cell_type": "markdown",
      "metadata": {},
      "source": [
        "`SPICE` works with the Gregorian calendar, so, it is hard to compare dates between 59 b.c. and 1582 a.d.  For instance:"
      ]
    },
    {
      "cell_type": "code",
      "execution_count": 5,
      "metadata": {},
      "outputs": [
        {
          "name": "stdout",
          "output_type": "stream",
          "text": [
            "41.18247463623287\n"
          ]
        },
        {
          "data": {
            "text/plain": [
              "1356432.0"
            ]
          },
          "execution_count": 5,
          "metadata": {},
          "output_type": "execute_result"
        }
      ],
      "source": [
        "date = '1000 B.C. 09-07 12:00:00'\n",
        "et = spy.utc2et(date)\n",
        "dt = spy.deltet(et,\"ET\")\n",
        "et -= dt\n",
        "print(dt)\n",
        "jd = spy.unitim(et,\"ET\",\"JDTDB\") \n",
        "jd"
      ]
    },
    {
      "cell_type": "markdown",
      "metadata": {},
      "source": [
        "This julian day, however, correspond to september the 16th in the Julian Calendar which is the date assumed in NASA `Horizons` system. If you compute the coordinates of Mars at that date with `SPICE`` you obtain:"
      ]
    },
    {
      "cell_type": "code",
      "execution_count": 6,
      "metadata": {},
      "outputs": [
        {
          "data": {
            "text/plain": [
              "(1356432.0, (18.0, 30, 29.027181943781954), (-25.0, 31, 5.584286831078487))"
            ]
          },
          "execution_count": 6,
          "metadata": {},
          "output_type": "execute_result"
        }
      ],
      "source": [
        "X,lt = spy.spkezr('4',et,'J2000','LT+S','399')\n",
        "r,RA,DEC = spy.reclat(X[:3])\n",
        "ra = np.mod(RA*RAD,360)/15\n",
        "jd, Montu.dec2hex(ra), Montu.dec2hex(DEC*RAD)"
      ]
    },
    {
      "cell_type": "markdown",
      "metadata": {},
      "source": [
        "Using `astroquery`:"
      ]
    },
    {
      "cell_type": "code",
      "execution_count": 7,
      "metadata": {},
      "outputs": [
        {
          "data": {
            "text/plain": [
              "((18.0, 31, 25.497600000005036), (-25.0, 30, 27.28800000000291))"
            ]
          },
          "execution_count": 7,
          "metadata": {},
          "output_type": "execute_result"
        }
      ],
      "source": [
        "RA,DEC = list(Horizons(id='4',location='399',epochs=jd).ephemerides().to_pandas().loc[0,['RA','DEC']])\n",
        "Montu.dec2hex(RA/15), Montu.dec2hex(DEC)"
      ]
    },
    {
      "cell_type": "markdown",
      "metadata": {},
      "source": [
        "Using `Horizons` app you get: RA = 18 30 29.53, DEC = -25 31 04.6. However in `Horizons` the mixed calendar date is September the 16th, 1000 b.c.\n",
        "\n",
        "In `Stellarium` the same date give us this position for Mars: RA = 18 31 22.81, Dec = -25 30 22.1. Additionally `Stellarium` use a date with negative numbers, so the date corresponding to JD = 1356432 is -999 september the 16th, 12:03:44."
      ]
    },
    {
      "cell_type": "markdown",
      "metadata": {},
      "source": [
        "**Conclusions**:\n",
        "- The results with SPICE nicely agree with HORIZONS provided the date given to Horizons is the JDTDB, not the UTC date.\n",
        "- The results of astroquery are not as accurate as SPICE.\n",
        "- The results with Stellarium are off by around 1 arcmin which for the purposes of Cultural Astronomy are not important."
      ]
    },
    {
      "cell_type": "markdown",
      "metadata": {},
      "source": [
        "Let's see what happen in `astropy`:"
      ]
    },
    {
      "cell_type": "code",
      "execution_count": 8,
      "metadata": {},
      "outputs": [
        {
          "data": {
            "text/plain": [
              "'-999-09-07 12:00:00.000'"
            ]
          },
          "execution_count": 8,
          "metadata": {},
          "output_type": "execute_result"
        }
      ],
      "source": [
        "time = Time(jd,format='jd',scale='tt').iso\n",
        "time"
      ]
    },
    {
      "cell_type": "markdown",
      "metadata": {},
      "source": [
        "A last option is to work with `numpy.datetime64` (see https://numpy.org/doc/stable/reference/arrays.datetime.html):"
      ]
    },
    {
      "cell_type": "code",
      "execution_count": 9,
      "metadata": {},
      "outputs": [
        {
          "data": {
            "text/plain": [
              "numpy.datetime64('-999-09-07T12:00:00.000')"
            ]
          },
          "execution_count": 9,
          "metadata": {},
          "output_type": "execute_result"
        }
      ],
      "source": [
        "# date = '1000 B.C. 09-07 12:00:00'\n",
        "date = '-999-09-07 12:00:00.00'\n",
        "time = np.datetime64(date)\n",
        "time"
      ]
    },
    {
      "cell_type": "markdown",
      "metadata": {},
      "source": [
        "You may generate arrays of times:"
      ]
    },
    {
      "cell_type": "code",
      "execution_count": 10,
      "metadata": {},
      "outputs": [
        {
          "data": {
            "text/plain": [
              "array(['-999-02-01', '-999-02-02', '-999-02-03', '-999-02-04',\n",
              "       '-999-02-05', '-999-02-06', '-999-02-07', '-999-02-08',\n",
              "       '-999-02-09', '-999-02-10', '-999-02-11', '-999-02-12',\n",
              "       '-999-02-13', '-999-02-14', '-999-02-15', '-999-02-16',\n",
              "       '-999-02-17', '-999-02-18', '-999-02-19', '-999-02-20',\n",
              "       '-999-02-21', '-999-02-22', '-999-02-23', '-999-02-24',\n",
              "       '-999-02-25', '-999-02-26', '-999-02-27', '-999-02-28'],\n",
              "      dtype='datetime64[D]')"
            ]
          },
          "execution_count": 10,
          "metadata": {},
          "output_type": "execute_result"
        }
      ],
      "source": [
        "np.arange('-999-02', '-999-03', dtype='datetime64[D]')"
      ]
    },
    {
      "cell_type": "markdown",
      "metadata": {},
      "source": [
        "Or perform operations:"
      ]
    },
    {
      "cell_type": "code",
      "execution_count": 11,
      "metadata": {},
      "outputs": [
        {
          "data": {
            "text/plain": [
              "numpy.datetime64('-999-09-08T12:00:00.000')"
            ]
          },
          "execution_count": 11,
          "metadata": {},
          "output_type": "execute_result"
        }
      ],
      "source": [
        "np.datetime64('-999-09-07 12:00:00.00') + np.timedelta64(1,'D')"
      ]
    },
    {
      "cell_type": "markdown",
      "metadata": {},
      "source": [
        "**Conclusions**:\n",
        "- The results with SPICE nicely agree with HORIZONS provided the date given to Horizons is the JDTDB, not the UTC date.\n",
        "- The results of astroquery are not as accurate as SPICE.\n",
        "- The results with Stellarium are off by around 1 arcmin which for the purposes of Cultural Astronomy are not important."
      ]
    },
    {
      "cell_type": "markdown",
      "metadata": {},
      "source": [
        "### The class `MonTime`"
      ]
    },
    {
      "cell_type": "markdown",
      "metadata": {},
      "source": [
        "For managing times we have designed a special class `MonTime`. If you provide to the class a simple string in different formats you can obtain many different properties of the time. For instance:"
      ]
    },
    {
      "cell_type": "code",
      "execution_count": 12,
      "metadata": {},
      "outputs": [
        {
          "name": "stdout",
          "output_type": "stream",
          "text": [
            "{'datestr': '-1470-01-01 12:00:00.00', 'bce': True, 'datetime64': numpy.datetime64('-1470-01-01T12:00:00.000'), 'cal': array([-1.47e+03,  1.00e+00,  1.00e+00,  1.20e+01,  0.00e+00,  0.00e+00,\n",
            "        0.00e+00]), 'datespice': '1471 B.C. 01-01 12:00:00.0', 'et': -109502582399.99998, 'deltat': 41.185396343449355, 'jd': 1184154.0000000002, 'astrotime': <Time object: scale='tdb' format='jd' value=1184154.0000000002>}\n"
          ]
        }
      ],
      "source": [
        "mtime_ini = MonTime('-1470-01-01 12:00:00.00')\n",
        "print(mtime_ini.__dict__)"
      ]
    },
    {
      "cell_type": "markdown",
      "metadata": {},
      "source": [
        "## Planetary ephemerides"
      ]
    },
    {
      "cell_type": "code",
      "execution_count": 13,
      "metadata": {},
      "outputs": [
        {
          "name": "stdout",
          "output_type": "stream",
          "text": [
            "1356432.0\n"
          ]
        },
        {
          "data": {
            "text/plain": [
              "((18.0, 30, 29.027181943781954),\n",
              " (-25.0, 31, 5.584286831078487),\n",
              " (276.0, 52, 44.781691123857854),\n",
              " (-2.0, 15, 38.62356137043257))"
            ]
          },
          "execution_count": 13,
          "metadata": {},
          "output_type": "execute_result"
        }
      ],
      "source": [
        "p = Planet(id='4')\n",
        "mtime = MonTime('-999-09-07 12:00:00.00')\n",
        "print(mtime.jd)\n",
        "p.calc_ephemerides(mtime.et)\n",
        "\n",
        "Montu.dec2hex(p.RAJ2000), Montu.dec2hex(p.DECJ2000), Montu.dec2hex(p.lambJ2000), Montu.dec2hex(p.betaJ2000)"
      ]
    },
    {
      "cell_type": "markdown",
      "metadata": {},
      "source": [
        "## Calculation of ephemeris of the epoch"
      ]
    },
    {
      "cell_type": "markdown",
      "metadata": {},
      "source": [
        "Special classes:"
      ]
    },
    {
      "cell_type": "code",
      "execution_count": 24,
      "metadata": {},
      "outputs": [],
      "source": [
        "from functools import lru_cache\n",
        "\n",
        "class PlanetaryBody(object):\n",
        "    \"\"\"Create a planetary body\n",
        "\n",
        "    Examples: \n",
        "        Earth = PlanetaryBody(id='399')\n",
        "        print(Earth.f)\n",
        "    \"\"\"\n",
        "\n",
        "    @lru_cache()\n",
        "    def __new__(cls,id):\n",
        "        return super().__new__(cls)\n",
        "\n",
        "    def __init__(self,id):        \n",
        "        self.id = id\n",
        "        n,rs=spy.bodvrd(self.id,\"RADII\",3)\n",
        "        self.Re=rs[0]\n",
        "        self.Rt=rs[1]\n",
        "        self.Rp=rs[2]\n",
        "        self.f=(self.Re-self.Rp)/self.Re\n",
        "\n",
        "class Site(object):\n",
        "    \"\"\"Create an observing site\n",
        "\n",
        "    Attributes:\n",
        "        \n",
        "        location: dictionary:\n",
        "            lon: float [deg]: geodetic longitude\n",
        "            lat: float [deg]: geodetic latitude\n",
        "            elevation: float [km]: eleveation\n",
        "        \n",
        "        body: dictionary:\n",
        "            id: SPICE id of body\n",
        "            frameid: Rotating reference frame\n",
        "    \"\"\"\n",
        "    def __init__(self,\n",
        "                 location=dict(lon=0,lat=0,elevation=0),\n",
        "                 body=dict(id='399',framebody='IAU_EARTH')):\n",
        "\n",
        "        # Body\n",
        "        self.body = body\n",
        "        self.Body = PlanetaryBody(self.body['id'])\n",
        "        \n",
        "        # Geodetic coordinates\n",
        "        self.location = location\n",
        "        \n",
        "        # Update position with respect to body center\n",
        "        self.geopos=spy.georec(self.location['lon']*DEG,\n",
        "                               self.location['lat']*DEG,\n",
        "                               self.location['elevation'],\n",
        "                               self.Body.Re,self.Body.f)\n",
        "        \n",
        "        # From local refrence frame to body reference frame\n",
        "        normal=spy.surfnm(self.Body.Re,\n",
        "                          self.Body.Re,\n",
        "                          self.Body.Rp,\n",
        "                          self.geopos)\n",
        "        uy=spy.ucrss(np.array([0,0,1]),normal)\n",
        "        ux=spy.ucrss(normal,uy)\n",
        "        self.local2body=np.array(np.vstack((ux,uy,normal)).transpose().tolist())\n",
        "        self.body2local=spy.invert(self.local2body)\n",
        "\n",
        "        # Update orientation\n",
        "        self.update_orientation()\n",
        "        \n",
        "    def update_orientation(self,et=0,framesky='J2000'):\n",
        "        \"\"\"Update orientation matrices for an observing site\n",
        "\n",
        "        Parameters:\n",
        "            et: float [ephemeris seconds]:\n",
        "                Time.\n",
        "\n",
        "            framesky: string: default = 'J2000':\n",
        "                Target with respect to which the transformation is performed\n",
        "                Examples: J2000, ECLIPJ2000, EARTHTRUEEPOCH\n",
        "\n",
        "        Update:\n",
        "            Matrices:\n",
        "                body2celestial, celestial2body.\n",
        "        \"\"\"\n",
        "        #Local to Body reference frame transformation\n",
        "        self.body2celestial=spy.pxform(self.body['framebody'],framesky,et)\n",
        "        self.celestial2body=spy.invert(self.body2celestial)\n",
        "\n",
        "    def to_celestial(self,az,el):\n",
        "        \"\"\"Convert from Azimuth and elevation to celestial coordinates\n",
        "        \"\"\"\n",
        "        rlocal=spy.latrec(1,az*DEG,el*DEG)\n",
        "        rbody=spy.mxv(self.local2body,rlocal)\n",
        "        rcelestial=spy.mxv(self.body2celestial,rbody)\n",
        "        r,RA,Dec=spy.reclat(rcelestial)\n",
        "        RA=RA+2*np.pi if RA<0 else RA\n",
        "        return RA*RAD,Dec*RAD\n",
        "    \n",
        "    def to_local(self,RA,Dec):\n",
        "        \"\"\"Convert from celestial coordinates to local coordinates\n",
        "        \"\"\"\n",
        "        rcelestial=spy.latrec(1,RA*DEG,Dec*DEG)\n",
        "        rbody=spy.mxv(self.celestial2body,rcelestial)\n",
        "        rlocal=spy.mxv(self.body2local,rbody)\n",
        "        r,az,el=spy.reclat(rlocal)\n",
        "        az=az+2*np.pi if az<0 else az\n",
        "        return az*RAD,el*RAD\n",
        "\n",
        "Earth = PlanetaryBody(id='399')"
      ]
    },
    {
      "cell_type": "code",
      "execution_count": 8,
      "metadata": {},
      "outputs": [
        {
          "data": {
            "text/plain": [
              "64.18392728466942"
            ]
          },
          "execution_count": 8,
          "metadata": {},
          "output_type": "execute_result"
        }
      ],
      "source": [
        "mtime = MonTime('2000-01-01 12:00:00.0')\n",
        "mtime.deltat"
      ]
    },
    {
      "cell_type": "code",
      "execution_count": 9,
      "metadata": {},
      "outputs": [
        {
          "data": {
            "text/plain": [
              "array([[ 9.99999998e-01,  6.19323110e-05,  2.68509430e-05],\n",
              "       [-6.19330626e-05,  9.99999998e-01,  2.79913809e-05],\n",
              "       [-2.68492093e-05, -2.79930438e-05,  9.99999999e-01]])"
            ]
          },
          "execution_count": 9,
          "metadata": {},
          "output_type": "execute_result"
        }
      ],
      "source": [
        "M_J2000_Epoch = spy.pxform(\"J2000\",\"EARTHTRUEEPOCH\",mtime.et)\n",
        "M_J2000_Epoch"
      ]
    },
    {
      "cell_type": "code",
      "execution_count": 18,
      "metadata": {},
      "outputs": [
        {
          "data": {
            "text/plain": [
              "array([[ 2.19394816e-01,  9.75636159e-01, -2.76761009e-05],\n",
              "       [-9.75636158e-01,  2.19394814e-01, -4.48153121e-05],\n",
              "       [-3.76514460e-05,  3.68340519e-05,  9.99999999e-01]])"
            ]
          },
          "execution_count": 18,
          "metadata": {},
          "output_type": "execute_result"
        }
      ],
      "source": [
        "mtime = MonTime('1000-01-01 12:00:00.0')\n",
        "M_Eclip_Epoch = spy.pxform(\"IAU_EARTH\",\"EARTHTRUEEPOCH\",mtime.et)\n",
        "M_Eclip_Epoch"
      ]
    },
    {
      "cell_type": "code",
      "execution_count": 21,
      "metadata": {},
      "outputs": [
        {
          "data": {
            "text/plain": [
              "77.32650989384447"
            ]
          },
          "execution_count": 21,
          "metadata": {},
          "output_type": "execute_result"
        }
      ],
      "source": [
        "np.arccos(M_Eclip_Epoch[0,0])*RAD"
      ]
    },
    {
      "cell_type": "code",
      "execution_count": 14,
      "metadata": {},
      "outputs": [
        {
          "data": {
            "text/plain": [
              "(array([[ 0.17617426,  0.98435899,  0.        ],\n",
              "        [-0.98435899,  0.17617426,  0.        ],\n",
              "        [-0.        ,  0.        ,  1.        ]]),\n",
              " 79.85300000000001)"
            ]
          },
          "execution_count": 14,
          "metadata": {},
          "output_type": "execute_result"
        }
      ],
      "source": [
        "M_ITRF_J2000 = spy.pxform(\"IAU_EARTH\",\"J2000\",0);\n",
        "M_ITRF_J2000, np.arccos(M_ITRF_J2000[0,0])*RAD"
      ]
    },
    {
      "cell_type": "code",
      "execution_count": 47,
      "metadata": {},
      "outputs": [
        {
          "data": {
            "text/plain": [
              "6.16608986092615e-11"
            ]
          },
          "execution_count": 47,
          "metadata": {},
          "output_type": "execute_result"
        }
      ],
      "source": [
        "et"
      ]
    },
    {
      "cell_type": "code",
      "execution_count": 110,
      "metadata": {},
      "outputs": [],
      "source": [
        "mtime = MonTime('2000-01-01 12:00:00.00')\n",
        "ets = np.linspace(mtime.et,mtime.et-100*DAY,1000)\n",
        "\n",
        "lat = 0*DEG # Radians\n",
        "lon = 0*DEG # Radians\n",
        "alt = 0 # km\n",
        "zs = []\n",
        "for et in ets:\n",
        "    M_ITRF_TRUE = spy.pxform(\"IAU_EARTH\",\"EARTHTRUEEPOCH\",et)\n",
        "    #M_ITRF_TRUE = spy.pxform(\"IAU_EARTH\",\"J2000\",et)\n",
        "    #for lon in np.linspace(0,360*DEG,100):\n",
        "    observerITRF = spy.georec(lon,lat,alt,Earth.Re,Earth.f)\n",
        "    observerTrue = spy.mxv(M_ITRF_TRUE,observerITRF)\n",
        "    zs += [observerTrue[0]]\n"
      ]
    },
    {
      "cell_type": "code",
      "execution_count": 111,
      "metadata": {},
      "outputs": [
        {
          "data": {
            "text/plain": [
              "[<matplotlib.lines.Line2D at 0x7fa9ca4c20a0>]"
            ]
          },
          "execution_count": 111,
          "metadata": {},
          "output_type": "execute_result"
        },
        {
          "data": {
            "image/png": "[encoded data removed]",
            "text/plain": [
              "<Figure size 432x288 with 1 Axes>"
            ]
          },
          "metadata": {
            "needs_background": "light"
          },
          "output_type": "display_data"
        }
      ],
      "source": [
        "plt.plot(ets,zs)"
      ]
    },
    {
      "cell_type": "code",
      "execution_count": null,
      "metadata": {},
      "outputs": [],
      "source": []
    },
    {
      "cell_type": "code",
      "execution_count": null,
      "metadata": {},
      "outputs": [],
      "source": []
    },
    {
      "cell_type": "code",
      "execution_count": 153,
      "metadata": {},
      "outputs": [
        {
          "name": "stdout",
          "output_type": "stream",
          "text": [
            "[-2162.44482772 -5978.19245642  -512.56020266]\n",
            "[-2162.44482772 -5978.19245642  -512.56020266]\n"
          ]
        },
        {
          "data": {
            "text/plain": [
              "(1355818.0,\n",
              " (23.0, 18, 31.460628441940912),\n",
              " (-5.0, 42, 30.80468483716558),\n",
              " (20.0, 37, 23.562971761319602),\n",
              " (-19.0, 55, 49.35759007068299),\n",
              " (109.0, 29, 36.54508626151255),\n",
              " (-8.0, 58, 29.04516639412094),\n",
              " 109.49348474618375,\n",
              " -8.974734768442811,\n",
              " 109.49348474618375,\n",
              " -8.974734768442811)"
            ]
          },
          "execution_count": 153,
          "metadata": {},
          "output_type": "execute_result"
        }
      ],
      "source": [
        "# Time\n",
        "id = '4'\n",
        "mtime = MonTime('-1000-01-01 12:00:00.00')\n",
        "et = mtime.et + mtime.deltat\n",
        "\n",
        "# Transformation matrices\n",
        "Earth = PlanetaryBody(id = '399')\n",
        "M_ITRF_J2000 = spy.pxform(\"IAU_EARTH\",\"J2000\",et);\n",
        "M_J2000_Epoch = spy.pxform(\"J2000\",\"EARTHTRUEEPOCH\",et)\n",
        "M_ITRF_TRUE = spy.pxform(\"IAU_EARTH\",\"EARTHTRUEEPOCH\",et);\n",
        "\n",
        "# Observer location\n",
        "lat = 6*DEG # Radians\n",
        "lon = -75*DEG # Radians\n",
        "alt = 0 # km\n",
        "observerITRF = spy.georec(lon,lat,alt,Earth.Re,Earth.f)\n",
        "observerJ2000 = spy.mxv(M_ITRF_J2000,observerITRF)\n",
        "print(observerJ2000)\n",
        "observerTrue = spy.mxv(M_ITRF_TRUE,observerITRF)\n",
        "observerJ2000 = spy.mxv(spy.invert(M_J2000_Epoch),observerTrue)\n",
        "print(observerJ2000)\n",
        "\n",
        "# From local refrence frame to body reference frame\n",
        "#normal=spy.surfnm(Earth.Re,Earth.Re,Earth.Rp,observerITRF)\n",
        "normal,n=spy.unorm(observerITRF)\n",
        "uy=spy.ucrss(np.array([0,0,1]),normal)\n",
        "ux=spy.ucrss(normal,uy)\n",
        "M_local_body=np.array(np.vstack((ux,uy,normal)).transpose().tolist())\n",
        "M_body_local=spy.invert(M_local_body)\n",
        "\n",
        "# Get position of Earth, body and observer in SSBJ2000\n",
        "earthSSBJ2000,lt = spy.spkezr(\"399\",et,\"J2000\",\"LT+S\",\"SOLAR SYSTEM BARYCENTER\")\n",
        "bodySSBJ2000,lt = spy.spkezr(id,et,\"J2000\",\"LT+S\",\"SOLAR SYSTEM BARYCENTER\")\n",
        "\n",
        "# Topographic position respect to J2000\n",
        "#\"\"\"\n",
        "observerSSBJ2000 = earthSSBJ2000[:3] + observerJ2000\n",
        "bodyTOPOJ2000 = bodySSBJ2000[:3] - observerSSBJ2000\n",
        "#\"\"\"\n",
        "\n",
        "# Topographic position respect to J2000\n",
        "\"\"\"\n",
        "observerSSB = earthSSBJ2000[:3] + observerTrue\n",
        "bodyTOPOJ2000 = bodySSBJ2000[:3] - observerSSB\n",
        "#\"\"\"\n",
        "# Get coordinates\n",
        "bodyTOPOEpoch = spy.mxv(M_J2000_Epoch,bodyTOPOJ2000)\n",
        "r,RAbodyJ2000,DECbodyJ2000 = spy.recrad(bodyTOPOJ2000)\n",
        "r,RAbody,DECbody = spy.recrad(bodyTOPOEpoch)\n",
        "\n",
        "# Local coordinates\n",
        "bodyTOPObody = spy.mxv(spy.invert(M_ITRF_TRUE),bodyTOPOEpoch)\n",
        "bodyTOPOlocal = spy.mxv(M_body_local,bodyTOPObody)\n",
        "r,az1,el1 = spy.recrad(bodyTOPOlocal)\n",
        "\n",
        "bodyTOPObody = spy.mxv(spy.invert(M_ITRF_J2000),bodyTOPOJ2000)\n",
        "bodyTOPOlocal = spy.mxv(M_body_local,bodyTOPObody)\n",
        "r,az,el = spy.recrad(bodyTOPOlocal)\n",
        "\n",
        "mtime.jd,\\\n",
        "Montu.dec2hex(RAbodyJ2000*RAD/15),Montu.dec2hex(DECbodyJ2000*RAD),\\\n",
        "Montu.dec2hex(RAbody*RAD/15),Montu.dec2hex(DECbody*RAD),\\\n",
        "Montu.dec2hex(az*RAD),Montu.dec2hex(el*RAD),\\\n",
        "az*RAD, el*RAD,\\\n",
        "az1*RAD, el1*RAD\n"
      ]
    },
    {
      "cell_type": "code",
      "execution_count": 130,
      "metadata": {},
      "outputs": [
        {
          "name": "stdout",
          "output_type": "stream",
          "text": [
            "\u001b[0;31mSignature:\u001b[0m \u001b[0mspy\u001b[0m\u001b[0;34m.\u001b[0m\u001b[0munorm\u001b[0m\u001b[0;34m(\u001b[0m\u001b[0mv1\u001b[0m\u001b[0;34m:\u001b[0m \u001b[0mnumpy\u001b[0m\u001b[0;34m.\u001b[0m\u001b[0mndarray\u001b[0m\u001b[0;34m)\u001b[0m \u001b[0;34m->\u001b[0m \u001b[0mTuple\u001b[0m\u001b[0;34m[\u001b[0m\u001b[0mnumpy\u001b[0m\u001b[0;34m.\u001b[0m\u001b[0mndarray\u001b[0m\u001b[0;34m,\u001b[0m \u001b[0mfloat\u001b[0m\u001b[0;34m]\u001b[0m\u001b[0;34m\u001b[0m\u001b[0;34m\u001b[0m\u001b[0m\n",
            "\u001b[0;31mDocstring:\u001b[0m\n",
            "Normalize a double precision 3-vector and return its magnitude.\n",
            "\n",
            "https://naif.jpl.nasa.gov/pub/naif/toolkit_docs/C/cspice/unorm_c.html\n",
            "\n",
            ":param v1: Vector to be normalized.\n",
            ":return: Unit vector of v1, Magnitude of v1.\n",
            "\u001b[0;31mFile:\u001b[0m      ~/opt/anaconda3/lib/python3.9/site-packages/spiceypy/spiceypy.py\n",
            "\u001b[0;31mType:\u001b[0m      function\n"
          ]
        }
      ],
      "source": [
        "spy.unorm?"
      ]
    },
    {
      "cell_type": "code",
      "execution_count": null,
      "metadata": {},
      "outputs": [],
      "source": []
    },
    {
      "cell_type": "code",
      "execution_count": 33,
      "metadata": {},
      "outputs": [
        {
          "data": {
            "text/plain": [
              "(array([ -621.69923345, -6315.82477692,  -633.65455149]),\n",
              " array([-5315.87211631, -3466.21795221,   636.00895514]))"
            ]
          },
          "execution_count": 33,
          "metadata": {},
          "output_type": "execute_result"
        }
      ],
      "source": [
        "observerJ2000, observerTrue"
      ]
    },
    {
      "cell_type": "markdown",
      "metadata": {},
      "source": [
        "For frames see: https://naif.jpl.nasa.gov/pub/naif/toolkit_docs/FORTRAN/req/frames.html#Examples%20of%20True%20Equator%20and%20Equinox%20of%20Date%20Frames"
      ]
    },
    {
      "cell_type": "markdown",
      "metadata": {},
      "source": [
        "This code works and it has been tested againts HORIZONS and Stellarium:"
      ]
    },
    {
      "cell_type": "code",
      "execution_count": 8,
      "metadata": {},
      "outputs": [
        {
          "data": {
            "text/plain": [
              "(990575.0,\n",
              " (5.0, 51, 28.586700002174155),\n",
              " (26.0, 15, 35.52184288441396),\n",
              " (1.0, 58, 16.004935344464997),\n",
              " (14.0, 48, 20.37843168460583),\n",
              " 75.36802552050914,\n",
              " -6.074118866915711)"
            ]
          },
          "execution_count": 8,
          "metadata": {},
          "output_type": "execute_result"
        }
      ],
      "source": [
        "# Time\n",
        "id = '4'\n",
        "mtime = MonTime('-2000-01-01 12:00:00.00')\n",
        "et = mtime.et\n",
        "\n",
        "# Transform matrices\n",
        "#M_J2000_Epoch = spy.pxform(\"J2000\",\"EARTHTRUEEPOCH\",et)\n",
        "M_ITRF_J2000 = spy.pxform(\"IAU_EARTH\",\"J2000\",et);\n",
        "#M_ITRF_J2000 = spy.pxform(\"ITRF\",\"J2000\",et);\n",
        "M_J2000_Epoch = spy.pxform(\"J2000\",\"EARTHTRUEEPOCH\",et)\n",
        "\n",
        "# Observer location\n",
        "lat = 6*DEG\n",
        "lon = 285*DEG\n",
        "alt = 0 # km\n",
        "observerITRF = spy.georec(lon,lat,alt,Earth.Re,Earth.f)\n",
        "observerJ2000 = spy.mxv(M_ITRF_J2000,observerITRF)\n",
        "\n",
        "# Get position of Earth, body and observer in SSBJ2000\n",
        "earthSSBJ2000,lt = spy.spkezr(\"399\",et,\"J2000\",\"LT+S\",\"SOLAR SYSTEM BARYCENTER\")\n",
        "bodySSBJ2000,lt = spy.spkezr(id,et,\"J2000\",\"LT+S\",\"SOLAR SYSTEM BARYCENTER\")\n",
        "\n",
        "# Topographic position\n",
        "observerSSBJ2000 = earthSSBJ2000[:3] + observerJ2000\n",
        "bodyTOPOJ2000 = bodySSBJ2000[:3] - observerSSBJ2000\n",
        "\n",
        "\"\"\"\n",
        "# Checking: -1000\n",
        "RAbodyJ2000 = 23 + 19./60 + 20.76/3600\n",
        "DECbodyJ2000 = -(5 + 37./60 + 4.4/3600)\n",
        "bodyTOPOJ2000 = spy.latrec(1,15*RAbodyJ2000*DEG,DECbodyJ2000*DEG)\n",
        "#\"\"\"\n",
        "\"\"\"\n",
        "# Checking: -2000\n",
        "RAbodyJ2000 = 5 + 52/60 + 3.99/3600\n",
        "DECbodyJ2000 = 26 + 15/60 + 33.3/3600\n",
        "bodyTOPOJ2000 = spy.latrec(1,15*RAbodyJ2000*DEG,DECbodyJ2000*DEG)\n",
        "#\"\"\"\n",
        "\"\"\"\n",
        "# Checking: -3000\n",
        "RAbodyJ2000 = 272.17461\n",
        "DECbodyJ2000 = -23.02726\n",
        "bodyTOPOJ2000 = spy.latrec(1,RAbodyJ2000*DEG,DECbodyJ2000*DEG)\n",
        "#\"\"\"\n",
        "\n",
        "# Get coordinates\n",
        "bodyTOPOEpoch = spy.mxv(M_J2000_Epoch,bodyTOPOJ2000)\n",
        "r,RAbodyJ2000,DECbodyJ2000 = spy.recrad(bodyTOPOJ2000)\n",
        "r,RAbody,DECbody = spy.recrad(bodyTOPOEpoch)\n",
        "\n",
        "# Local \n",
        "site = Site(location=dict(lon=lon,lat=lat,elevation=alt))\n",
        "#site.update_orientation(et=mtime.et,framesky=\"J2000\")\n",
        "#az,el = site.to_local(RAbodyJ2000*RAD,DECbodyJ2000*RAD)\n",
        "site.update_orientation(et=mtime.et,framesky=\"EARTHTRUEEPOCH\")\n",
        "az,el = site.to_local(RAbody*RAD,DECbody*RAD)\n",
        "\n",
        "# Muestra coordenadas\n",
        "\"\"\"\n",
        "RAbodyJ2000*RAD,DECbodyJ2000*RAD,RAbody*RAD,DECbody*RAD\n",
        "\"\"\"\n",
        "#\"\"\"\n",
        "mtime.jd,\\\n",
        "Montu.dec2hex(RAbodyJ2000*RAD/15),Montu.dec2hex(DECbodyJ2000*RAD),\\\n",
        "Montu.dec2hex(RAbody*RAD/15),Montu.dec2hex(DECbody*RAD),\\\n",
        "az,el\n",
        "#\"\"\"\n",
        "\n"
      ]
    },
    {
      "cell_type": "code",
      "execution_count": 10,
      "metadata": {},
      "outputs": [],
      "source": [
        "earthSSBJ2000,lt = spy.spkezr(\"399\",et,\"EARTHTRUEEPOCH\",\"LT+S\",\"SOLAR SYSTEM BARYCENTER\")"
      ]
    },
    {
      "cell_type": "code",
      "execution_count": null,
      "metadata": {},
      "outputs": [],
      "source": [
        "# Time\n",
        "id = '4'\n",
        "mtime = MonTime('-2000-01-01 12:00:00.00')\n",
        "et = mtime.et\n",
        "\n",
        "# Transform matrices\n",
        "#M_J2000_Epoch = spy.pxform(\"J2000\",\"EARTHTRUEEPOCH\",et)\n",
        "M_ITRF_J2000 = spy.pxform(\"IAU_EARTH\",\"J2000\",et);\n",
        "#M_ITRF_J2000 = spy.pxform(\"ITRF\",\"J2000\",et);\n",
        "M_J2000_Epoch = spy.pxform(\"J2000\",\"EARTHTRUEEPOCH\",et)\n",
        "\n",
        "# Observer location\n",
        "lat = 6*DEG\n",
        "lon = 285*DEG\n",
        "alt = 0 # km\n",
        "observerITRF = spy.georec(lon,lat,alt,Earth.Re,Earth.f)\n",
        "observerJ2000 = spy.mxv(M_ITRF_J2000,observerITRF)\n",
        "\n",
        "# Get position of Earth, body and observer in SSBJ2000\n",
        "earthSSBJ2000,lt = spy.spkezr(\"399\",et,\"J2000\",\"LT+S\",\"SOLAR SYSTEM BARYCENTER\")\n",
        "bodySSBJ2000,lt = spy.spkezr(id,et,\"J2000\",\"LT+S\",\"SOLAR SYSTEM BARYCENTER\")\n",
        "\n",
        "# Topographic position\n",
        "observerSSBJ2000 = earthSSBJ2000[:3] + observerJ2000\n",
        "bodyTOPOJ2000 = bodySSBJ2000[:3] - observerSSBJ2000\n",
        "\n",
        "\"\"\"\n",
        "# Checking: -1000\n",
        "RAbodyJ2000 = 23 + 19./60 + 20.76/3600\n",
        "DECbodyJ2000 = -(5 + 37./60 + 4.4/3600)\n",
        "bodyTOPOJ2000 = spy.latrec(1,15*RAbodyJ2000*DEG,DECbodyJ2000*DEG)\n",
        "#\"\"\"\n",
        "\"\"\"\n",
        "# Checking: -2000\n",
        "RAbodyJ2000 = 5 + 52/60 + 3.99/3600\n",
        "DECbodyJ2000 = 26 + 15/60 + 33.3/3600\n",
        "bodyTOPOJ2000 = spy.latrec(1,15*RAbodyJ2000*DEG,DECbodyJ2000*DEG)\n",
        "#\"\"\"\n",
        "\"\"\"\n",
        "# Checking: -3000\n",
        "RAbodyJ2000 = 272.17461\n",
        "DECbodyJ2000 = -23.02726\n",
        "bodyTOPOJ2000 = spy.latrec(1,RAbodyJ2000*DEG,DECbodyJ2000*DEG)\n",
        "#\"\"\"\n",
        "\n",
        "# Get coordinates\n",
        "bodyTOPOEpoch = spy.mxv(M_J2000_Epoch,bodyTOPOJ2000)\n",
        "r,RAbodyJ2000,DECbodyJ2000 = spy.recrad(bodyTOPOJ2000)\n",
        "r,RAbody,DECbody = spy.recrad(bodyTOPOEpoch)\n",
        "\n",
        "# Local \n",
        "site = Site(location=dict(lon=lon,lat=lat,elevation=alt))\n",
        "#site.update_orientation(et=mtime.et,framesky=\"J2000\")\n",
        "#az,el = site.to_local(RAbodyJ2000*RAD,DECbodyJ2000*RAD)\n",
        "site.update_orientation(et=mtime.et,framesky=\"EARTHTRUEEPOCH\")\n",
        "az,el = site.to_local(RAbody*RAD,DECbody*RAD)\n",
        "\n",
        "# Muestra coordenadas\n",
        "\"\"\"\n",
        "RAbodyJ2000*RAD,DECbodyJ2000*RAD,RAbody*RAD,DECbody*RAD\n",
        "\"\"\"\n",
        "#\"\"\"\n",
        "mtime.jd,\\\n",
        "Montu.dec2hex(RAbodyJ2000*RAD/15),Montu.dec2hex(DECbodyJ2000*RAD),\\\n",
        "Montu.dec2hex(RAbody*RAD/15),Montu.dec2hex(DECbody*RAD),\\\n",
        "az,el\n",
        "#\"\"\"\n",
        "\n"
      ]
    },
    {
      "cell_type": "code",
      "execution_count": null,
      "metadata": {},
      "outputs": [],
      "source": []
    },
    {
      "cell_type": "code",
      "execution_count": 460,
      "metadata": {},
      "outputs": [
        {
          "data": {
            "text/plain": [
              "5.857940750000604"
            ]
          },
          "execution_count": 460,
          "metadata": {},
          "output_type": "execute_result"
        }
      ],
      "source": [
        "RAbodyJ2000*RAD/15"
      ]
    },
    {
      "cell_type": "code",
      "execution_count": null,
      "metadata": {},
      "outputs": [],
      "source": []
    },
    {
      "cell_type": "code",
      "execution_count": null,
      "metadata": {},
      "outputs": [],
      "source": []
    },
    {
      "cell_type": "markdown",
      "metadata": {},
      "source": [
        "**Conclusion**:\n",
        "- The conversion J2000 to True Epoch works fine with errors below 1 arcsec."
      ]
    },
    {
      "cell_type": "code",
      "execution_count": 452,
      "metadata": {},
      "outputs": [
        {
          "ename": "ValueError",
          "evalue": "Invalid isoformat string: '1001bce-01-01 00:00:00.00'",
          "output_type": "error",
          "traceback": [
            "\u001b[0;31m---------------------------------------------------------------------------\u001b[0m",
            "\u001b[0;31mValueError\u001b[0m                                Traceback (most recent call last)",
            "\u001b[1;32m/Users/jorgezuluagacallejas/Dropbox/MiInvestigacion/EgyptianAstronomy/MontuPython/dev/test-basic-tools.ipynb Celda 42\u001b[0m line \u001b[0;36m<module>\u001b[0;34m\u001b[0m\n\u001b[0;32m----> <a href='vscode-notebook-cell:/Users/jorgezuluagacallejas/Dropbox/MiInvestigacion/EgyptianAstronomy/MontuPython/dev/test-basic-tools.ipynb#Y224sZmlsZQ%3D%3D?line=0'>1</a>\u001b[0m ra_dec_to_azimuth_elevation(RAbody\u001b[39m*\u001b[39;49mRAD\u001b[39m/\u001b[39;49m\u001b[39m15\u001b[39;49m,DECbody\u001b[39m*\u001b[39;49mRAD,\u001b[39m6\u001b[39;49m,\u001b[39m-\u001b[39;49m\u001b[39m75\u001b[39;49m,\u001b[39m0\u001b[39;49m,\u001b[39m\"\u001b[39;49m\u001b[39m1001bce-01-01 00:00:00.00\u001b[39;49m\u001b[39m\"\u001b[39;49m)\n",
            "\u001b[1;32m/Users/jorgezuluagacallejas/Dropbox/MiInvestigacion/EgyptianAstronomy/MontuPython/dev/test-basic-tools.ipynb Celda 42\u001b[0m line \u001b[0;36mra_dec_to_azimuth_elevation\u001b[0;34m(ra, dec, observer_latitude, observer_longitude, observer_altitude, date_time)\u001b[0m\n\u001b[1;32m     <a href='vscode-notebook-cell:/Users/jorgezuluagacallejas/Dropbox/MiInvestigacion/EgyptianAstronomy/MontuPython/dev/test-basic-tools.ipynb#Y224sZmlsZQ%3D%3D?line=24'>25</a>\u001b[0m dec_rad \u001b[39m=\u001b[39m math\u001b[39m.\u001b[39mradians(dec)\n\u001b[1;32m     <a href='vscode-notebook-cell:/Users/jorgezuluagacallejas/Dropbox/MiInvestigacion/EgyptianAstronomy/MontuPython/dev/test-basic-tools.ipynb#Y224sZmlsZQ%3D%3D?line=26'>27</a>\u001b[0m \u001b[39m# Calculate the Hour Angle (HA)\u001b[39;00m\n\u001b[0;32m---> <a href='vscode-notebook-cell:/Users/jorgezuluagacallejas/Dropbox/MiInvestigacion/EgyptianAstronomy/MontuPython/dev/test-basic-tools.ipynb#Y224sZmlsZQ%3D%3D?line=27'>28</a>\u001b[0m observation_time \u001b[39m=\u001b[39m datetime\u001b[39m.\u001b[39;49mdatetime\u001b[39m.\u001b[39;49mfromisoformat(date_time)\n\u001b[1;32m     <a href='vscode-notebook-cell:/Users/jorgezuluagacallejas/Dropbox/MiInvestigacion/EgyptianAstronomy/MontuPython/dev/test-basic-tools.ipynb#Y224sZmlsZQ%3D%3D?line=28'>29</a>\u001b[0m sidereal_time \u001b[39m=\u001b[39m calculate_sidereal_time(observer_longitude, observation_time)\n\u001b[1;32m     <a href='vscode-notebook-cell:/Users/jorgezuluagacallejas/Dropbox/MiInvestigacion/EgyptianAstronomy/MontuPython/dev/test-basic-tools.ipynb#Y224sZmlsZQ%3D%3D?line=29'>30</a>\u001b[0m ha_rad \u001b[39m=\u001b[39m sidereal_time \u001b[39m-\u001b[39m ra_rad\n",
            "\u001b[0;31mValueError\u001b[0m: Invalid isoformat string: '1001bce-01-01 00:00:00.00'"
          ]
        }
      ],
      "source": [
        "ra_dec_to_azimuth_elevation(RAbody*RAD/15,DECbody*RAD,6,-75,0,\"1000-01-01 00:00:00.00\")"
      ]
    },
    {
      "cell_type": "code",
      "execution_count": null,
      "metadata": {},
      "outputs": [],
      "source": []
    },
    {
      "cell_type": "code",
      "execution_count": 446,
      "metadata": {},
      "outputs": [
        {
          "name": "stdout",
          "output_type": "stream",
          "text": [
            "Azimuth: 297.78640906684296 degrees\n",
            "Elevation: -1.1584062048035044 degrees\n"
          ]
        }
      ],
      "source": [
        "\n",
        "import math\n",
        "\n",
        "def ra_dec_to_azimuth_elevation(ra, dec, observer_latitude, observer_longitude, observer_altitude, date_time):\n",
        "    \"\"\"\n",
        "    Convert Right Ascension (RA) and Declination (Dec) to Azimuth and Elevation (Altitude)\n",
        "    for a given observer's location and time.\n",
        "\n",
        "    Parameters:\n",
        "        ra (float): Right Ascension in degrees.\n",
        "        dec (float): Declination in degrees.\n",
        "        observer_latitude (float): Observer's latitude in degrees (North positive).\n",
        "        observer_longitude (float): Observer's longitude in degrees (East positive).\n",
        "        observer_altitude (float): Observer's elevation above sea level in meters.\n",
        "        date_time (str): Date and time of observation in ISO format (e.g., \"2023-09-30T20:00:00\").\n",
        "\n",
        "    Returns:\n",
        "        (float, float): Azimuth (degrees), Elevation (Altitude) in degrees.\n",
        "    \"\"\"\n",
        "    # Convert observer's latitude and longitude to radians\n",
        "    observer_lat_rad = math.radians(observer_latitude)\n",
        "    observer_lon_rad = math.radians(observer_longitude)\n",
        "\n",
        "    # Convert RA and Dec to radians\n",
        "    ra_rad = math.radians(ra)\n",
        "    dec_rad = math.radians(dec)\n",
        "\n",
        "    # Calculate the Hour Angle (HA)\n",
        "    observation_time = datetime.datetime.fromisoformat(date_time)\n",
        "    sidereal_time = calculate_sidereal_time(observer_longitude, observation_time)\n",
        "    ha_rad = sidereal_time - ra_rad\n",
        "\n",
        "    # Calculate the Altitude (Elevation)\n",
        "    sin_alt = (math.sin(dec_rad) * math.sin(observer_lat_rad)) + (math.cos(dec_rad) * math.cos(observer_lat_rad) * math.cos(ha_rad))\n",
        "    altitude_rad = math.asin(sin_alt)\n",
        "    altitude_deg = math.degrees(altitude_rad)\n",
        "\n",
        "    # Calculate the Azimuth\n",
        "    cos_azimuth = (math.sin(dec_rad) - (math.sin(observer_lat_rad) * sin_alt)) / (math.cos(observer_lat_rad) * math.cos(altitude_rad))\n",
        "    azimuth_rad = math.acos(cos_azimuth)\n",
        "    if math.sin(ha_rad) > 0:\n",
        "        azimuth_rad = 2 * math.pi - azimuth_rad\n",
        "    azimuth_deg = math.degrees(azimuth_rad)\n",
        "\n",
        "    return azimuth_deg, altitude_deg\n",
        "\n",
        "def calculate_sidereal_time(observer_longitude, observation_time):\n",
        "    \"\"\"\n",
        "    Calculate the Sidereal Time for a given observer's longitude and observation time.\n",
        "\n",
        "    Parameters:\n",
        "        observer_longitude (float): Observer's longitude in degrees (East positive).\n",
        "        observation_time (datetime.datetime): Date and time of observation.\n",
        "\n",
        "    Returns:\n",
        "        float: Sidereal Time in radians.\n",
        "    \"\"\"\n",
        "    # Convert observer's longitude to radians\n",
        "    observer_lon_rad = math.radians(observer_longitude)\n",
        "\n",
        "    # Calculate the Julian Date\n",
        "    year = observation_time.year\n",
        "    month = observation_time.month\n",
        "    day = observation_time.day\n",
        "    hour = observation_time.hour\n",
        "    minute = observation_time.minute\n",
        "    second = observation_time.second\n",
        "    jd = julian_date(year, month, day, hour, minute, second)\n",
        "\n",
        "    # Calculate the Sidereal Time\n",
        "    t = (jd - 2451545.0) / 36525.0\n",
        "    sidereal_time_deg = 280.46061837 + 360.98564736629 * (jd - 2451545) + t**2 * (0.000387933 - t / 38710000)\n",
        "    sidereal_time_rad = math.radians(sidereal_time_deg)\n",
        "\n",
        "    # Adjust for observer's longitude\n",
        "    sidereal_time_rad += observer_lon_rad\n",
        "\n",
        "    # Ensure the result is in the range [0, 2*pi]\n",
        "    sidereal_time_rad = sidereal_time_rad % (2 * math.pi)\n",
        "\n",
        "    return sidereal_time_rad\n",
        "\n",
        "def julian_date(year, month, day, hour, minute, second):\n",
        "    \"\"\"\n",
        "    Calculate the Julian Date for a given date and time.\n",
        "\n",
        "    Parameters:\n",
        "        year (int): Year.\n",
        "        month (int): Month.\n",
        "        day (int): Day.\n",
        "        hour (int): Hour.\n",
        "        minute (int): Minute.\n",
        "        second (float): Second.\n",
        "\n",
        "    Returns:\n",
        "        float: Julian Date.\n",
        "    \"\"\"\n",
        "    if month <= 2:\n",
        "        year -= 1\n",
        "        month += 12\n",
        "    A = math.floor(year / 100)\n",
        "    B = 2 - A + math.floor(A / 4)\n",
        "    jd = math.floor(365.25 * (year + 4716)) + math.floor(30.6001 * (month + 1)) + day + B - 1524.5\n",
        "    jd += hour / 24.0 + minute / 1440.0 + second / 86400.0\n",
        "    return jd\n",
        "\n",
        "# Example usage:\n",
        "import datetime\n",
        "\n",
        "ra = 83.6331  # Right Ascension in degrees\n",
        "dec = 22.0145  # Declination in degrees\n",
        "observer_latitude = 34.0522  # Observer's latitude in degrees\n",
        "observer_longitude = -118.2437  # Observer's longitude in degrees\n",
        "observer_altitude = 100  # Observer's elevation in meters\n",
        "date_time = \"2023-09-30T20:00:00\"  # Observation date and time in ISO format\n",
        "\n",
        "azimuth, elevation = ra_dec_to_azimuth_elevation(ra, dec, observer_latitude, observer_longitude, observer_altitude, date_time)\n",
        "\n",
        "print(f\"Azimuth: {azimuth} degrees\")\n",
        "print(f\"Elevation: {elevation} degrees\")\n"
      ]
    },
    {
      "cell_type": "code",
      "execution_count": 436,
      "metadata": {},
      "outputs": [
        {
          "data": {
            "text/plain": [
              "((23.0, 18, 30.083879825275233), (-5.0, 42, 38.599501804743284))"
            ]
          },
          "execution_count": 436,
          "metadata": {},
          "output_type": "execute_result"
        }
      ],
      "source": [
        "mars = Planet(id='4')\n",
        "mars.calc_ephemerides(et)\n",
        "Montu.dec2hex(mars.RAJ2000), Montu.dec2hex(mars.DECJ2000)\n"
      ]
    },
    {
      "cell_type": "code",
      "execution_count": 373,
      "metadata": {},
      "outputs": [
        {
          "name": "stdout",
          "output_type": "stream",
          "text": [
            "88.01383333333334 26.25947222222222 9.804408993984469 -69.11200377659614\n"
          ]
        }
      ],
      "source": [
        "# 2000\n",
        "#\"\"\"\n",
        "ra = 22 + 2./60 + 4.28/3600\n",
        "dec = -(13 + 10./60 + 56.7/3600)\n",
        "#\"\"\"\n",
        "#\"\"\"\n",
        "ra = 22 + 2./60 + 6.17/3600\n",
        "dec = -(13 + 10./60 + 49.7/3600)\n",
        "#\"\"\"\n",
        "# -2000, J2000\n",
        "ra = 5 + 52/60 + 3.32/3600\n",
        "dec = 26 + 15/60 + 34.1/3600\n",
        "# -2000, True\n",
        "\"\"\"\n",
        "ra = 1 + 58/60 + 44.57/3600\n",
        "dec = 14 + 51/60 + 1.4/3600\n",
        "#\"\"\"\n",
        "\n",
        "#site.update_orientation(et=mtime.et,framesky='EARTHTRUEEPOCH')\n",
        "site.update_orientation(et=mtime.et,framesky='J2000')\n",
        "az,el = site.to_local(15*ra,dec)\n",
        "print(15*ra,dec,az,el)\n",
        "#Montu.dec2hex(az),Montu.dec2hex(el)"
      ]
    },
    {
      "cell_type": "code",
      "execution_count": 445,
      "metadata": {},
      "outputs": [
        {
          "data": {
            "text/html": [
              "<div><i>Table masked=True length=1</i>\n",
              "<table id=\"table140251813784112\" class=\"table-striped table-bordered table-condensed\">\n",
              "<thead><tr><th>targetname</th><th>datetime_str</th><th>datetime_jd</th><th>solar_presence</th><th>flags</th><th>RA</th><th>DEC</th><th>RA_app</th><th>DEC_app</th><th>RA_rate</th><th>DEC_rate</th><th>AZ</th><th>EL</th><th>AZ_rate</th><th>EL_rate</th><th>sat_X</th><th>sat_Y</th><th>sat_PANG</th><th>siderealtime</th><th>airmass</th><th>magextinct</th><th>V</th><th>surfbright</th><th>illumination</th><th>illum_defect</th><th>sat_sep</th><th>sat_vis</th><th>ang_width</th><th>PDObsLon</th><th>PDObsLat</th><th>PDSunLon</th><th>PDSunLat</th><th>SubSol_ang</th><th>SubSol_dist</th><th>NPole_ang</th><th>NPole_dist</th><th>EclLon</th><th>EclLat</th><th>r</th><th>r_rate</th><th>delta</th><th>delta_rate</th><th>lighttime</th><th>vel_sun</th><th>vel_obs</th><th>elong</th><th>elongFlag</th><th>alpha</th><th>lunar_elong</th><th>lunar_illum</th><th>sat_alpha</th><th>sunTargetPA</th><th>velocityPA</th><th>OrbPlaneAng</th><th>constellation</th><th>TDB-UT</th><th>ObsEclLon</th><th>ObsEclLat</th><th>NPole_RA</th><th>NPole_DEC</th><th>GlxLon</th><th>GlxLat</th><th>solartime</th><th>earth_lighttime</th><th>RA_3sigma</th><th>DEC_3sigma</th><th>SMAA_3sigma</th><th>SMIA_3sigma</th><th>Theta_3sigma</th><th>Area_3sigma</th><th>RSS_3sigma</th><th>r_3sigma</th><th>r_rate_3sigma</th><th>SBand_3sigma</th><th>XBand_3sigma</th><th>DoppDelay_3sigma</th><th>true_anom</th><th>hour_angle</th><th>alpha_true</th><th>PABLon</th><th>PABLat</th></tr></thead>\n",
              "<thead><tr><th>---</th><th>---</th><th>d</th><th>---</th><th>---</th><th>deg</th><th>deg</th><th>deg</th><th>deg</th><th>arcsec / h</th><th>arcsec / h</th><th>deg</th><th>deg</th><th>arcsec / min</th><th>arcsec / min</th><th>arcsec</th><th>arcsec</th><th>deg</th><th>---</th><th>---</th><th>mag</th><th>mag</th><th>mag / arcsec2</th><th>%</th><th>arcsec</th><th>arcsec</th><th>---</th><th>arcsec</th><th>deg</th><th>deg</th><th>deg</th><th>deg</th><th>deg</th><th>arcsec</th><th>deg</th><th>arcsec</th><th>deg</th><th>deg</th><th>AU</th><th>km / s</th><th>AU</th><th>km / s</th><th>min</th><th>km / s</th><th>km / s</th><th>deg</th><th>---</th><th>deg</th><th>deg</th><th>%</th><th>deg</th><th>deg</th><th>deg</th><th>deg</th><th>---</th><th>s</th><th>deg</th><th>deg</th><th>deg</th><th>deg</th><th>deg</th><th>deg</th><th>---</th><th>min</th><th>arcsec</th><th>arcsec</th><th>arcsec</th><th>arcsec</th><th>deg</th><th>arcsec2</th><th>arcsec</th><th>km</th><th>km / s</th><th>Hz</th><th>Hz</th><th>s</th><th>deg</th><th>---</th><th>deg</th><th>deg</th><th>deg</th></tr></thead>\n",
              "<thead><tr><th>str19</th><th>str25</th><th>float64</th><th>str1</th><th>str1</th><th>float64</th><th>float64</th><th>float64</th><th>float64</th><th>float64</th><th>float64</th><th>float64</th><th>float64</th><th>float64</th><th>float64</th><th>float64</th><th>float64</th><th>float64</th><th>float64</th><th>float64</th><th>float64</th><th>int64</th><th>int64</th><th>int64</th><th>int64</th><th>float64</th><th>str1</th><th>int64</th><th>int64</th><th>int64</th><th>int64</th><th>int64</th><th>str3</th><th>int64</th><th>int64</th><th>int64</th><th>float64</th><th>float64</th><th>float64</th><th>float64</th><th>float64</th><th>float64</th><th>float64</th><th>float64</th><th>float64</th><th>float64</th><th>str2</th><th>float64</th><th>float64</th><th>float64</th><th>float64</th><th>float64</th><th>float64</th><th>float64</th><th>str3</th><th>float64</th><th>float64</th><th>float64</th><th>int64</th><th>int64</th><th>float64</th><th>float64</th><th>float64</th><th>float64</th><th>int64</th><th>int64</th><th>int64</th><th>int64</th><th>int64</th><th>int64</th><th>int64</th><th>int64</th><th>int64</th><th>int64</th><th>int64</th><th>int64</th><th>float64</th><th>float64</th><th>float64</th><th>float64</th><th>float64</th></tr></thead>\n",
              "<tr><td>Mars Barycenter (4)</td><td>b1001-Jan-11 12:00:00.000</td><td>1355818.0</td><td>*</td><td>m</td><td>349.83644</td><td>-5.61801</td><td>309.56795</td><td>-19.87339</td><td>110.2659</td><td>30.53001</td><td>137.956594</td><td>54.832582</td><td>597.55</td><td>600.12</td><td>87073.501</td><td>12146.313</td><td>87.205</td><td>19.023589716</td><td>1.222</td><td>0.344</td><td>--</td><td>--</td><td>--</td><td>--</td><td>88845.72</td><td>*</td><td>--</td><td>--</td><td>--</td><td>--</td><td>--</td><td>n.a</td><td>--</td><td>--</td><td>--</td><td>5.3858</td><td>-1.646</td><td>1.417140779238</td><td>1.4915305</td><td>2.25386356222776</td><td>6.6769207</td><td>18.74481166</td><td>25.8794445</td><td>52.379167</td><td>24.6794</td><td>/T</td><td>16.9312</td><td>24.6</td><td>0.1658</td><td>138.3895</td><td>68.84</td><td>246.023</td><td>-0.79257</td><td>Aqr</td><td>25177.635212</td><td>306.8096161</td><td>-1.0495228</td><td>--</td><td>--</td><td>73.259835</td><td>-59.292804</td><td>12.1406848828</td><td>0.000355</td><td>--</td><td>--</td><td>--</td><td>--</td><td>--</td><td>--</td><td>--</td><td>--</td><td>--</td><td>--</td><td>--</td><td>--</td><td>42.8635</td><td>-1.614273615</td><td>16.9261</td><td>356.9181</td><td>-1.4104</td></tr>\n",
              "</table></div>"
            ],
            "text/plain": [
              "<Table masked=True length=1>\n",
              "     targetname            datetime_str       datetime_jd ...  PABLon   PABLat\n",
              "        ---                    ---                 d      ...   deg      deg  \n",
              "       str19                  str25             float64   ... float64  float64\n",
              "------------------- ------------------------- ----------- ... -------- -------\n",
              "Mars Barycenter (4) b1001-Jan-11 12:00:00.000   1355818.0 ... 356.9181 -1.4104"
            ]
          },
          "execution_count": 445,
          "metadata": {},
          "output_type": "execute_result"
        }
      ],
      "source": [
        "#epochs = dict(start='1001BC-01-01 12:00:00',stop='1001BC-01-01 12:01:00',step='1d')\n",
        "epochs = 1355818\n",
        "Horizons(id='4',location=dict(lon=285*DEG,lat=6,elevation=0),epochs=epochs).ephemerides()"
      ]
    },
    {
      "cell_type": "code",
      "execution_count": 344,
      "metadata": {},
      "outputs": [
        {
          "data": {
            "text/plain": [
              "(330.52562, -13.1807, 330.51788, -13.18267, 107.387501, 39.90738)"
            ]
          },
          "execution_count": 344,
          "metadata": {},
          "output_type": "execute_result"
        }
      ],
      "source": [
        "epochs = dict(start='2000-01-01 12:00:00',stop='2000-01-01 12:01:00',step='1d')\n",
        "RA,DEC,RA_app,DEC_app,AZ,EL = Horizons(id='4',\n",
        "                                       location=dict(lon=75*DEG,lat=6*DEG,elevation=0),\n",
        "                                       epochs=epochs).ephemerides().to_pandas().loc[0,[\"RA\",\"DEC\",\"RA_app\",\"DEC_app\",\"AZ\",\"EL\"]]\n",
        "np.set_printoptions(precision=17)\n",
        "RA,DEC,RA_app,DEC_app,AZ,EL\n"
      ]
    },
    {
      "cell_type": "code",
      "execution_count": 348,
      "metadata": {},
      "outputs": [
        {
          "name": "stdout",
          "output_type": "stream",
          "text": [
            "101.93835441904227 -35.76562778014633\n"
          ]
        }
      ],
      "source": [
        "\"\"\"\n",
        "ra = 22 + 2./60 + 4.28/3600\n",
        "dec = -(13 + 10./60 + 56.7/3600)\n",
        "\"\"\"\n",
        "ra = 330.52562\n",
        "dec = -13.1807\n",
        "\n",
        "#site.update_orientation(et=mtime.et,framesky='EARTHTRUEEPOCH')\n",
        "site.update_orientation(et=mtime.et,framesky='J2000')\n",
        "az,el = site.to_local(ra,dec)\n",
        "print(az,el)\n",
        "#Montu.dec2hex(az),Montu.dec2hex(el)"
      ]
    },
    {
      "cell_type": "code",
      "execution_count": 320,
      "metadata": {},
      "outputs": [
        {
          "name": "stdout",
          "output_type": "stream",
          "text": [
            "[6.123234e-17 0.000000e+00 1.000000e+00]\n"
          ]
        },
        {
          "data": {
            "text/plain": [
              "(1.898818934515219e-15, 5.9999999999999964)"
            ]
          },
          "execution_count": 320,
          "metadata": {},
          "output_type": "execute_result"
        }
      ],
      "source": []
    },
    {
      "cell_type": "code",
      "execution_count": 313,
      "metadata": {},
      "outputs": [
        {
          "data": {
            "text/plain": [
              "array([-0.02705396,  0.10096674,  0.9945219 ])"
            ]
          },
          "execution_count": 313,
          "metadata": {},
          "output_type": "execute_result"
        }
      ],
      "source": [
        "spy.mxv(site.local2body,[1,0,0])"
      ]
    },
    {
      "cell_type": "code",
      "execution_count": 306,
      "metadata": {},
      "outputs": [
        {
          "data": {
            "text/plain": [
              "array([0., 0., 1.])"
            ]
          },
          "execution_count": 306,
          "metadata": {},
          "output_type": "execute_result"
        }
      ],
      "source": [
        "spy.mxv(site.body2local,spy.mxv(site.local2body,[0,0,1]))"
      ]
    },
    {
      "cell_type": "code",
      "execution_count": 289,
      "metadata": {},
      "outputs": [
        {
          "data": {
            "text/plain": [
              "{'body': {'id': '399', 'framebody': 'IAU_EARTH'},\n",
              " 'Body': <__main__.PlanetaryBody at 0x7f8efd909760>,\n",
              " 'location': {'lon': 6, 'lat': -75, 'elevation': 0},\n",
              " 'geopos': array([ 1646.89131453,   173.09525218, -6138.7652813 ]),\n",
              " 'local2body': array([[ 0.96063438, -0.10452846,  0.25740121],\n",
              "        [ 0.10096674,  0.9945219 ,  0.02705396],\n",
              "        [ 0.25881905,  0.        , -0.96592583]]),\n",
              " 'body2local': array([[ 0.96063438,  0.10096674,  0.25881905],\n",
              "        [-0.10452846,  0.9945219 ,  0.        ],\n",
              "        [ 0.25740121,  0.02705396, -0.96592583]]),\n",
              " 'body2celestial': array([[ 1.23882484e-01, -9.92296896e-01,  7.55211275e-06],\n",
              "        [ 9.92296896e-01,  1.23882484e-01, -6.56356461e-11],\n",
              "        [-9.35509357e-07,  7.49394617e-06,  1.00000000e+00]]),\n",
              " 'celestial2body': array([[ 1.23882484e-01,  9.92296896e-01, -9.35509357e-07],\n",
              "        [-9.92296896e-01,  1.23882484e-01,  7.49394617e-06],\n",
              "        [ 7.55211275e-06, -6.56356461e-11,  1.00000000e+00]])}"
            ]
          },
          "execution_count": 289,
          "metadata": {},
          "output_type": "execute_result"
        }
      ],
      "source": [
        "site = Site(location=dict(lon=6,lat=-75,elevation=0))\n",
        "site.update_orientation(et=mtime.jd,framesky=\"J2000\")\n",
        "site.__dict__"
      ]
    },
    {
      "cell_type": "code",
      "execution_count": null,
      "metadata": {},
      "outputs": [],
      "source": []
    },
    {
      "cell_type": "code",
      "execution_count": 271,
      "metadata": {},
      "outputs": [],
      "source": [
        "site.update_orientation(et=0)"
      ]
    },
    {
      "cell_type": "code",
      "execution_count": 272,
      "metadata": {},
      "outputs": [
        {
          "data": {
            "text/plain": [
              "(286.147, 15.000000000000002)"
            ]
          },
          "execution_count": 272,
          "metadata": {},
          "output_type": "execute_result"
        }
      ],
      "source": [
        "site.to_celestial(0,0)"
      ]
    },
    {
      "cell_type": "code",
      "execution_count": 273,
      "metadata": {},
      "outputs": [
        {
          "data": {
            "text/plain": [
              "(74.37588683625005, 0.0)"
            ]
          },
          "execution_count": 273,
          "metadata": {},
          "output_type": "execute_result"
        }
      ],
      "source": [
        "site.to_local(0,0)"
      ]
    },
    {
      "cell_type": "code",
      "execution_count": null,
      "metadata": {},
      "outputs": [],
      "source": [
        "\n",
        "\n",
        "#Convert Az,h into RA, DEC at a location lon,lat,alt on the moon\n",
        "def loc2Sky(et,RA,Dec,lon,lat,alt,bodyid=\"MOON\",frameid=\"IAU_MOON\"):\n",
        "    \"\"\"Convert \n",
        "\n",
        "\n",
        "    Az,h,lon,lat in degress.\n",
        "    alt in km.\n",
        "    \n",
        "    Return RA(deg) and DEC(deg)\n",
        "    \n",
        "    Example: \n",
        "        Az=29.9670;h=19.2504\n",
        "        loc2Sky(et,Az,h,LON_MOON,LAT_MOON,ALT_MOON,\"MOON\",\"IAU_MOON\")\n",
        "    \"\"\"\n",
        "    #Rectangular position\n",
        "    r_local=spy.latrec(1,Az*DEG,h*DEG)\n",
        "    \n",
        "    #Size of the object\n",
        "    n,rs=spy.bodvrd(bodyid,\"RADII\",3)\n",
        "    Re=rs[0];Rp=rs[2]\n",
        "    f=(Re-Rp)/Re\n",
        "    geopos=spy.georec(lon*DEG,lat*DEG,alt,Re,f)\n",
        "\n",
        "    #Local to Body reference frame transformation\n",
        "    normal=spy.surfnm(Re,Re,Rp,geopos)\n",
        "    uy=spy.ucrss(np.array([0,0,1]),normal)\n",
        "    ux=spy.ucrss(normal,uy)\n",
        "    Local2Body=np.array(np.vstack((ux,uy,normal)).transpose().tolist())\n",
        "    \n",
        "    #Body to J2000\n",
        "    Body2j2000=spy.pxform(frameid,\"J2000\",et)\n",
        "    \n",
        "    #Transform vector from local to IAU moon\n",
        "    r_body=spy.mxv(Local2Body,r_local)\n",
        "    r_j2000=spy.mxv(Body2j2000,r_body)\n",
        "\n",
        "    #J2000 coordinates\n",
        "    r,RA,DEC=spy.reclat(r_j2000)\n",
        "    RA=RA+2*np.pi if RA<0 else RA\n",
        "    return RA*RAD,DEC*RAD "
      ]
    },
    {
      "cell_type": "code",
      "execution_count": 176,
      "metadata": {},
      "outputs": [],
      "source": [
        "#Convert Az,h into RA, DEC at a location lon,lat,alt on the moon\n",
        "def loc2Sky(et,Az,h,lon,lat,alt,bodyid=\"MOON\",frameid=\"IAU_MOON\"):\n",
        "    \"\"\"\n",
        "    Az,h,lon,lat in degress.\n",
        "    alt in km.\n",
        "    \n",
        "    Return RA(deg) and DEC(deg)\n",
        "    \n",
        "    Example: \n",
        "        Az=29.9670;h=19.2504\n",
        "        loc2Sky(et,Az,h,LON_MOON,LAT_MOON,ALT_MOON,\"MOON\",\"IAU_MOON\")\n",
        "    \"\"\"\n",
        "    #Rectangular position\n",
        "    r_local=spy.latrec(1,Az*DEG,h*DEG)\n",
        "    \n",
        "    #Size of the object\n",
        "    n,rs=spy.bodvrd(bodyid,\"RADII\",3)\n",
        "    Re=rs[0];Rp=rs[2]\n",
        "    f=(Re-Rp)/Re\n",
        "    geopos=spy.georec(lon*DEG,lat*DEG,alt,Re,f)\n",
        "\n",
        "    #Local to Body reference frame transformation\n",
        "    normal=spy.surfnm(Re,Re,Rp,geopos)\n",
        "    uy=spy.ucrss(np.array([0,0,1]),normal)\n",
        "    ux=spy.ucrss(normal,uy)\n",
        "    Local2Body=np.array(np.vstack((ux,uy,normal)).transpose().tolist())\n",
        "    \n",
        "    #Body to J2000\n",
        "    Body2j2000=spy.pxform(frameid,\"J2000\",et)\n",
        "    \n",
        "    #Transform vector from local to IAU moon\n",
        "    r_body=spy.mxv(Local2Body,r_local)\n",
        "    r_j2000=spy.mxv(Body2j2000,r_body)\n",
        "\n",
        "    #J2000 coordinates\n",
        "    r,RA,DEC=spy.reclat(r_j2000)\n",
        "    RA=RA+2*np.pi if RA<0 else RA\n",
        "    return RA*RAD,DEC*RAD "
      ]
    },
    {
      "cell_type": "code",
      "execution_count": 177,
      "metadata": {},
      "outputs": [
        {
          "ename": "NameError",
          "evalue": "name 'LON_MOON' is not defined",
          "output_type": "error",
          "traceback": [
            "\u001b[0;31m---------------------------------------------------------------------------\u001b[0m",
            "\u001b[0;31mNameError\u001b[0m                                 Traceback (most recent call last)",
            "\u001b[1;32m/Users/jorgezuluagacallejas/Dropbox/MiInvestigacion/EgyptianAstronomy/MontuPython/dev/test-basic-tools.ipynb Celda 41\u001b[0m line \u001b[0;36m<module>\u001b[0;34m\u001b[0m\n\u001b[1;32m      <a href='vscode-notebook-cell:/Users/jorgezuluagacallejas/Dropbox/MiInvestigacion/EgyptianAstronomy/MontuPython/dev/test-basic-tools.ipynb#Y123sZmlsZQ%3D%3D?line=0'>1</a>\u001b[0m Az\u001b[39m=\u001b[39m\u001b[39m29.9670\u001b[39m;h\u001b[39m=\u001b[39m\u001b[39m19.2504\u001b[39m\n\u001b[0;32m----> <a href='vscode-notebook-cell:/Users/jorgezuluagacallejas/Dropbox/MiInvestigacion/EgyptianAstronomy/MontuPython/dev/test-basic-tools.ipynb#Y123sZmlsZQ%3D%3D?line=1'>2</a>\u001b[0m loc2Sky(et,Az,h,LON_MOON,LAT_MOON,ALT_MOON,\u001b[39m\"\u001b[39m\u001b[39mMOON\u001b[39m\u001b[39m\"\u001b[39m,\u001b[39m\"\u001b[39m\u001b[39mIAU_MOON\u001b[39m\u001b[39m\"\u001b[39m)\n",
            "\u001b[0;31mNameError\u001b[0m: name 'LON_MOON' is not defined"
          ]
        }
      ],
      "source": [
        "Az=29.9670;h=19.2504\n",
        "loc2Sky(et,Az,h,LON_MOON,LAT_MOON,ALT_MOON,\"MOON\",\"IAU_MOON\")"
      ]
    },
    {
      "cell_type": "code",
      "execution_count": null,
      "metadata": {},
      "outputs": [],
      "source": [
        "normal=spy.surfnm(REARTH,REARTH,REARTH*(1-FEARTH),observerITRF93)\n",
        "uy=spy.ucrss(np.array([0,0,1]),normal)\n",
        "ux=spy.ucrss(normal,uy)\n",
        "    vp[\"l2b\"]=np.array(np.vstack((ux,uy,normal)).transpose().tolist())\n",
        "    vp[\"b2l\"]=np.linalg.inv(vp[\"l2b\"])"
      ]
    },
    {
      "cell_type": "code",
      "execution_count": 150,
      "metadata": {},
      "outputs": [
        {
          "data": {
            "text/plain": [
              "625333.0"
            ]
          },
          "execution_count": 150,
          "metadata": {},
          "output_type": "execute_result"
        }
      ],
      "source": [
        "mtime.jd"
      ]
    },
    {
      "cell_type": "code",
      "execution_count": 253,
      "metadata": {},
      "outputs": [
        {
          "data": {
            "text/html": [
              "<div><i>Table masked=True length=1</i>\n",
              "<table id=\"table140251511620032\" class=\"table-striped table-bordered table-condensed\">\n",
              "<thead><tr><th>targetname</th><th>datetime_str</th><th>datetime_jd</th><th>solar_presence</th><th>flags</th><th>RA</th><th>DEC</th><th>RA_app</th><th>DEC_app</th><th>RA_rate</th><th>DEC_rate</th><th>AZ</th><th>EL</th><th>AZ_rate</th><th>EL_rate</th><th>sat_X</th><th>sat_Y</th><th>sat_PANG</th><th>siderealtime</th><th>airmass</th><th>magextinct</th><th>V</th><th>surfbright</th><th>illumination</th><th>illum_defect</th><th>sat_sep</th><th>sat_vis</th><th>ang_width</th><th>PDObsLon</th><th>PDObsLat</th><th>PDSunLon</th><th>PDSunLat</th><th>SubSol_ang</th><th>SubSol_dist</th><th>NPole_ang</th><th>NPole_dist</th><th>EclLon</th><th>EclLat</th><th>r</th><th>r_rate</th><th>delta</th><th>delta_rate</th><th>lighttime</th><th>vel_sun</th><th>vel_obs</th><th>elong</th><th>elongFlag</th><th>alpha</th><th>lunar_elong</th><th>lunar_illum</th><th>sat_alpha</th><th>sunTargetPA</th><th>velocityPA</th><th>OrbPlaneAng</th><th>constellation</th><th>TDB-UT</th><th>ObsEclLon</th><th>ObsEclLat</th><th>NPole_RA</th><th>NPole_DEC</th><th>GlxLon</th><th>GlxLat</th><th>solartime</th><th>earth_lighttime</th><th>RA_3sigma</th><th>DEC_3sigma</th><th>SMAA_3sigma</th><th>SMIA_3sigma</th><th>Theta_3sigma</th><th>Area_3sigma</th><th>RSS_3sigma</th><th>r_3sigma</th><th>r_rate_3sigma</th><th>SBand_3sigma</th><th>XBand_3sigma</th><th>DoppDelay_3sigma</th><th>true_anom</th><th>hour_angle</th><th>alpha_true</th><th>PABLon</th><th>PABLat</th></tr></thead>\n",
              "<thead><tr><th>---</th><th>---</th><th>d</th><th>---</th><th>---</th><th>deg</th><th>deg</th><th>deg</th><th>deg</th><th>arcsec / h</th><th>arcsec / h</th><th>deg</th><th>deg</th><th>arcsec / min</th><th>arcsec / min</th><th>arcsec</th><th>arcsec</th><th>deg</th><th>---</th><th>---</th><th>mag</th><th>mag</th><th>mag / arcsec2</th><th>%</th><th>arcsec</th><th>arcsec</th><th>---</th><th>arcsec</th><th>deg</th><th>deg</th><th>deg</th><th>deg</th><th>deg</th><th>arcsec</th><th>deg</th><th>arcsec</th><th>deg</th><th>deg</th><th>AU</th><th>km / s</th><th>AU</th><th>km / s</th><th>min</th><th>km / s</th><th>km / s</th><th>deg</th><th>---</th><th>deg</th><th>deg</th><th>%</th><th>deg</th><th>deg</th><th>deg</th><th>deg</th><th>---</th><th>s</th><th>deg</th><th>deg</th><th>deg</th><th>deg</th><th>deg</th><th>deg</th><th>---</th><th>min</th><th>arcsec</th><th>arcsec</th><th>arcsec</th><th>arcsec</th><th>deg</th><th>arcsec2</th><th>arcsec</th><th>km</th><th>km / s</th><th>Hz</th><th>Hz</th><th>s</th><th>deg</th><th>---</th><th>deg</th><th>deg</th><th>deg</th></tr></thead>\n",
              "<thead><tr><th>str19</th><th>str18</th><th>float64</th><th>str1</th><th>str1</th><th>float64</th><th>float64</th><th>float64</th><th>float64</th><th>float64</th><th>float64</th><th>float64</th><th>float64</th><th>float64</th><th>float64</th><th>float64</th><th>float64</th><th>float64</th><th>float64</th><th>float64</th><th>float64</th><th>int64</th><th>int64</th><th>int64</th><th>int64</th><th>float64</th><th>str1</th><th>int64</th><th>int64</th><th>int64</th><th>int64</th><th>int64</th><th>str3</th><th>int64</th><th>int64</th><th>int64</th><th>float64</th><th>float64</th><th>float64</th><th>float64</th><th>float64</th><th>float64</th><th>float64</th><th>float64</th><th>float64</th><th>float64</th><th>str2</th><th>float64</th><th>float64</th><th>float64</th><th>float64</th><th>float64</th><th>float64</th><th>float64</th><th>str3</th><th>float64</th><th>float64</th><th>float64</th><th>int64</th><th>int64</th><th>float64</th><th>float64</th><th>float64</th><th>float64</th><th>int64</th><th>int64</th><th>int64</th><th>int64</th><th>int64</th><th>int64</th><th>int64</th><th>int64</th><th>int64</th><th>int64</th><th>int64</th><th>int64</th><th>float64</th><th>float64</th><th>float64</th><th>float64</th><th>float64</th></tr></thead>\n",
              "<tr><td>Mars Barycenter (4)</td><td>b3000-Jan-01 12:00</td><td>625674.0</td><td>*</td><td>m</td><td>31.61082</td><td>12.76927</td><td>327.26241</td><td>-13.90788</td><td>87.02527</td><td>34.21848</td><td>104.848337</td><td>19.884186</td><td>79.51</td><td>870.94</td><td>228902.027</td><td>34709.244</td><td>95.261</td><td>17.1867634408</td><td>2.913</td><td>0.819</td><td>--</td><td>--</td><td>--</td><td>--</td><td>236932.4</td><td>*</td><td>--</td><td>--</td><td>--</td><td>--</td><td>--</td><td>n.a</td><td>--</td><td>--</td><td>--</td><td>68.9409</td><td>0.2332</td><td>1.571769841345</td><td>1.9388927</td><td>1.69191263896891</td><td>15.3993858</td><td>14.07120834</td><td>23.3797758</td><td>35.3986273</td><td>65.8146</td><td>/T</td><td>35.0964</td><td>62.7</td><td>0.2857</td><td>79.089</td><td>69.748</td><td>247.665</td><td>-1.03692</td><td>Ari</td><td>73282.88944</td><td>324.7369741</td><td>-0.3344782</td><td>--</td><td>--</td><td>149.835341</td><td>-46.148862</td><td>11.9933016367</td><td>0.000355</td><td>--</td><td>--</td><td>--</td><td>--</td><td>--</td><td>--</td><td>--</td><td>--</td><td>--</td><td>--</td><td>--</td><td>--</td><td>115.5119</td><td>-4.630730884</td><td>35.0942</td><td>51.3897</td><td>0.1056</td></tr>\n",
              "</table></div>"
            ],
            "text/plain": [
              "<Table masked=True length=1>\n",
              "     targetname        datetime_str    datetime_jd ...  PABLon  PABLat\n",
              "        ---                ---              d      ...   deg     deg  \n",
              "       str19              str18          float64   ... float64 float64\n",
              "------------------- ------------------ ----------- ... ------- -------\n",
              "Mars Barycenter (4) b3000-Jan-01 12:00    625674.0 ... 51.3897  0.1056"
            ]
          },
          "execution_count": 253,
          "metadata": {},
          "output_type": "execute_result"
        }
      ],
      "source": [
        "epochs = dict(start='3000BC-01-01 12:00:00',stop='3000BC-01-01 12:01:00',step='1d')\n",
        "Horizons(id='4',location=dict(lon=75*DEG,lat=6*DEG,elevation=0),\n",
        "         epochs=epochs).ephemerides()"
      ]
    },
    {
      "cell_type": "code",
      "execution_count": 252,
      "metadata": {},
      "outputs": [],
      "source": [
        "def equatorial_to_local(ra, dec, longitude, latitude, elevation, date_time):\n",
        "    \"\"\"\n",
        "    Convert equatorial coordinates (Right Ascension and Declination) to local\n",
        "    coordinates (Altitude and Azimuth) for a given observer location and time.\n",
        "\n",
        "    Parameters:\n",
        "        ra (float): Right Ascension in degrees.\n",
        "        dec (float): Declination in degrees.\n",
        "        longitude (float): Observer's longitude in degrees (East positive).\n",
        "        latitude (float): Observer's latitude in degrees (North positive).\n",
        "        elevation (float): Observer's elevation above sea level in meters.\n",
        "        date_time (str): Date and time of observation in ISO format (e.g., \"2023-09-30T20:00:00\").\n",
        "\n",
        "    Returns:\n",
        "        (float, float): Altitude (degrees), Azimuth (degrees).\n",
        "    \"\"\"\n",
        "    # Create an EarthLocation object for the observer's location\n",
        "    observer_location = EarthLocation(\n",
        "        lon=longitude * u.deg,\n",
        "        lat=latitude * u.deg,\n",
        "        height=elevation * u.m\n",
        "    )\n",
        "\n",
        "    # Create a Time object for the observation date and time\n",
        "    #observation_time = Time(date_time, format='isot', scale='utc')\n",
        "    observation_time = Time(date_time, format='jd', scale='utc')\n",
        "\n",
        "    # Create a SkyCoord object for the target's equatorial coordinates\n",
        "    target_coord = SkyCoord(ra=ra * u.deg, dec=dec * u.deg)\n",
        "\n",
        "    # Transform equatorial coordinates to local coordinates\n",
        "    altaz_frame = AltAz(obstime=observation_time, location=observer_location)\n",
        "    local_coord = target_coord.transform_to(altaz_frame)\n",
        "\n",
        "    # Extract altitude and azimuth\n",
        "    altitude = local_coord.alt.deg\n",
        "    azimuth = local_coord.az.deg\n",
        "\n",
        "    return altitude, azimuth"
      ]
    },
    {
      "cell_type": "code",
      "execution_count": 255,
      "metadata": {},
      "outputs": [
        {
          "data": {
            "text/plain": [
              "(-55.283569845170895, 105.82698224907773)"
            ]
          },
          "execution_count": 255,
          "metadata": {},
          "output_type": "execute_result"
        }
      ],
      "source": [
        "altitude, azimuth = equatorial_to_local(31.61082, 12.76927, -75, 6, 0, 625674.0)\n",
        "altitude, azimuth"
      ]
    },
    {
      "cell_type": "code",
      "execution_count": 167,
      "metadata": {},
      "outputs": [
        {
          "data": {
            "text/plain": [
              "(2.0, 6, 26.59679999999934)"
            ]
          },
          "execution_count": 167,
          "metadata": {},
          "output_type": "execute_result"
        }
      ],
      "source": [
        "RA,Dec = Horizons(id='4',\n",
        "                  location=dict(lon=75*DEG,lat=6*DEG,elevation=0),\n",
        "                  epochs=epochs).ephemerides().to_pandas().loc[0,[\"RA\",\"DEC\"]]\n",
        "Montu.dec2hex(RA/15)"
      ]
    },
    {
      "cell_type": "code",
      "execution_count": 125,
      "metadata": {},
      "outputs": [
        {
          "data": {
            "text/plain": [
              "(625333.0, '3001 B.C. 01-01 12:00:00.0')"
            ]
          },
          "execution_count": 125,
          "metadata": {},
          "output_type": "execute_result"
        }
      ],
      "source": [
        "mtime.jd, mtime.datespice"
      ]
    },
    {
      "cell_type": "code",
      "execution_count": 83,
      "metadata": {},
      "outputs": [],
      "source": [
        "mtime = MonTime(990558,format='jd')"
      ]
    },
    {
      "cell_type": "code",
      "execution_count": 86,
      "metadata": {},
      "outputs": [
        {
          "data": {
            "text/plain": [
              "'2002 B.C. DEC 15 12:00:00.000'"
            ]
          },
          "execution_count": 86,
          "metadata": {},
          "output_type": "execute_result"
        }
      ],
      "source": [
        "mtime.datespice"
      ]
    },
    {
      "cell_type": "code",
      "execution_count": 132,
      "metadata": {},
      "outputs": [],
      "source": [
        "from astroquery.jplhorizons import Horizons"
      ]
    },
    {
      "cell_type": "code",
      "execution_count": 136,
      "metadata": {},
      "outputs": [
        {
          "data": {
            "text/html": [
              "<div><i>Table masked=True length=1</i>\n",
              "<table id=\"table140252075100288\" class=\"table-striped table-bordered table-condensed\">\n",
              "<thead><tr><th>targetname</th><th>datetime_str</th><th>datetime_jd</th><th>solar_presence</th><th>flags</th><th>RA</th><th>DEC</th><th>RA_app</th><th>DEC_app</th><th>RA_rate</th><th>DEC_rate</th><th>AZ</th><th>EL</th><th>AZ_rate</th><th>EL_rate</th><th>sat_X</th><th>sat_Y</th><th>sat_PANG</th><th>siderealtime</th><th>airmass</th><th>magextinct</th><th>V</th><th>surfbright</th><th>illumination</th><th>illum_defect</th><th>sat_sep</th><th>sat_vis</th><th>ang_width</th><th>PDObsLon</th><th>PDObsLat</th><th>PDSunLon</th><th>PDSunLat</th><th>SubSol_ang</th><th>SubSol_dist</th><th>NPole_ang</th><th>NPole_dist</th><th>EclLon</th><th>EclLat</th><th>r</th><th>r_rate</th><th>delta</th><th>delta_rate</th><th>lighttime</th><th>vel_sun</th><th>vel_obs</th><th>elong</th><th>elongFlag</th><th>alpha</th><th>lunar_elong</th><th>lunar_illum</th><th>sat_alpha</th><th>sunTargetPA</th><th>velocityPA</th><th>OrbPlaneAng</th><th>constellation</th><th>TDB-UT</th><th>ObsEclLon</th><th>ObsEclLat</th><th>NPole_RA</th><th>NPole_DEC</th><th>GlxLon</th><th>GlxLat</th><th>solartime</th><th>earth_lighttime</th><th>RA_3sigma</th><th>DEC_3sigma</th><th>SMAA_3sigma</th><th>SMIA_3sigma</th><th>Theta_3sigma</th><th>Area_3sigma</th><th>RSS_3sigma</th><th>r_3sigma</th><th>r_rate_3sigma</th><th>SBand_3sigma</th><th>XBand_3sigma</th><th>DoppDelay_3sigma</th><th>true_anom</th><th>hour_angle</th><th>alpha_true</th><th>PABLon</th><th>PABLat</th></tr></thead>\n",
              "<thead><tr><th>---</th><th>---</th><th>d</th><th>---</th><th>---</th><th>deg</th><th>deg</th><th>deg</th><th>deg</th><th>arcsec / h</th><th>arcsec / h</th><th>deg</th><th>deg</th><th>arcsec / min</th><th>arcsec / min</th><th>arcsec</th><th>arcsec</th><th>deg</th><th>---</th><th>---</th><th>mag</th><th>mag</th><th>mag / arcsec2</th><th>%</th><th>arcsec</th><th>arcsec</th><th>---</th><th>arcsec</th><th>deg</th><th>deg</th><th>deg</th><th>deg</th><th>deg</th><th>arcsec</th><th>deg</th><th>arcsec</th><th>deg</th><th>deg</th><th>AU</th><th>km / s</th><th>AU</th><th>km / s</th><th>min</th><th>km / s</th><th>km / s</th><th>deg</th><th>---</th><th>deg</th><th>deg</th><th>%</th><th>deg</th><th>deg</th><th>deg</th><th>deg</th><th>---</th><th>s</th><th>deg</th><th>deg</th><th>deg</th><th>deg</th><th>deg</th><th>deg</th><th>---</th><th>min</th><th>arcsec</th><th>arcsec</th><th>arcsec</th><th>arcsec</th><th>deg</th><th>arcsec2</th><th>arcsec</th><th>km</th><th>km / s</th><th>Hz</th><th>Hz</th><th>s</th><th>deg</th><th>---</th><th>deg</th><th>deg</th><th>deg</th></tr></thead>\n",
              "<thead><tr><th>str19</th><th>str24</th><th>float64</th><th>str1</th><th>str1</th><th>float64</th><th>float64</th><th>float64</th><th>float64</th><th>float64</th><th>float64</th><th>float64</th><th>float64</th><th>float64</th><th>float64</th><th>float64</th><th>float64</th><th>float64</th><th>float64</th><th>float64</th><th>float64</th><th>int64</th><th>int64</th><th>int64</th><th>int64</th><th>float64</th><th>str1</th><th>int64</th><th>int64</th><th>int64</th><th>int64</th><th>int64</th><th>str3</th><th>int64</th><th>int64</th><th>int64</th><th>float64</th><th>float64</th><th>float64</th><th>float64</th><th>float64</th><th>float64</th><th>float64</th><th>float64</th><th>float64</th><th>float64</th><th>str2</th><th>float64</th><th>float64</th><th>float64</th><th>float64</th><th>float64</th><th>float64</th><th>float64</th><th>str3</th><th>float64</th><th>float64</th><th>float64</th><th>int64</th><th>int64</th><th>float64</th><th>float64</th><th>float64</th><th>float64</th><th>int64</th><th>int64</th><th>int64</th><th>int64</th><th>int64</th><th>int64</th><th>int64</th><th>int64</th><th>int64</th><th>int64</th><th>int64</th><th>int64</th><th>float64</th><th>float64</th><th>float64</th><th>float64</th><th>float64</th></tr></thead>\n",
              "<tr><td>Mars Barycenter (4)</td><td>3570-Dec-25 00:00:00.000</td><td>3025333.5</td><td></td><td></td><td>120.68956</td><td>23.47852</td><td>143.38074</td><td>17.66728</td><td>-5.48606</td><td>9.516021</td><td>67.004908</td><td>39.293136</td><td>-222.17</td><td>830.8</td><td>-428119.52</td><td>147172.982</td><td>273.151</td><td>6.3327060916</td><td>1.576</td><td>0.443</td><td>--</td><td>--</td><td>--</td><td>--</td><td>476956.6</td><td>*</td><td>--</td><td>--</td><td>--</td><td>--</td><td>--</td><td>n.a</td><td>--</td><td>--</td><td>--</td><td>90.0407</td><td>1.2198</td><td>1.553135291478</td><td>2.1995546</td><td>0.70505158504315</td><td>-9.3429985</td><td>5.86373523</td><td>23.667026</td><td>9.4724602</td><td>132.4879</td><td>/L</td><td>27.9563</td><td>171.3</td><td>21.9599</td><td>19.5557</td><td>278.734</td><td>282.102</td><td>-1.3268</td><td>Cnc</td><td>69.183075</td><td>139.9875053</td><td>3.1301661</td><td>--</td><td>--</td><td>198.39131</td><td>25.57339</td><td>0.1474302209</td><td>0.000355</td><td>--</td><td>--</td><td>--</td><td>--</td><td>--</td><td>--</td><td>--</td><td>--</td><td>--</td><td>--</td><td>--</td><td>--</td><td>107.0491</td><td>-3.226010223</td><td>27.9523</td><td>103.9871</td><td>2.1576</td></tr>\n",
              "</table></div>"
            ],
            "text/plain": [
              "<Table masked=True length=1>\n",
              "     targetname           datetime_str       datetime_jd ...  PABLon   PABLat\n",
              "        ---                   ---                 d      ...   deg      deg  \n",
              "       str19                 str24             float64   ... float64  float64\n",
              "------------------- ------------------------ ----------- ... -------- -------\n",
              "Mars Barycenter (4) 3570-Dec-25 00:00:00.000   3025333.5 ... 103.9871  2.1576"
            ]
          },
          "execution_count": 136,
          "metadata": {},
          "output_type": "execute_result"
        }
      ],
      "source": [
        "Horizons(id='4',location=dict(lon=75*DEG,lat=6*DEG,elevation=0),epochs=mtime.jd).ephemerides()"
      ]
    },
    {
      "cell_type": "markdown",
      "metadata": {},
      "source": [
        "## Playing around with NOVAS"
      ]
    },
    {
      "cell_type": "code",
      "execution_count": 132,
      "metadata": {},
      "outputs": [
        {
          "name": "stdout",
          "output_type": "stream",
          "text": [
            "\u001b[33mDEPRECATION: pyodbc 4.0.0-unsupported has a non-standard version number. pip 23.3 will enforce this behaviour change. A possible replacement is to upgrade to a newer version of pyodbc or contact the author to suggest that they release a version with a conforming version number. Discussion can be found at https://github.com/pypa/pip/issues/12063\u001b[0m\u001b[33m\n",
            "\u001b[0m"
          ]
        }
      ],
      "source": [
        "!pip install -q novas"
      ]
    },
    {
      "cell_type": "code",
      "execution_count": 148,
      "metadata": {},
      "outputs": [
        {
          "name": "stdout",
          "output_type": "stream",
          "text": [
            "Collecting novas_de405\n",
            "  Downloading novas_de405-1997.1.tar.gz (55.0 MB)\n",
            "\u001b[2K     \u001b[90m━━━━━━━━━━━━━━━━━━━━━━━━━━━━━━━━━━━━━━━━\u001b[0m \u001b[32m55.0/55.0 MB\u001b[0m \u001b[31m4.7 MB/s\u001b[0m eta \u001b[36m0:00:00\u001b[0m00:01\u001b[0m00:01\u001b[0m\n",
            "\u001b[?25h  Preparing metadata (setup.py) ... \u001b[?25ldone\n",
            "\u001b[?25hBuilding wheels for collected packages: novas_de405\n",
            "  Building wheel for novas_de405 (setup.py) ... \u001b[?25ldone\n",
            "\u001b[?25h  Created wheel for novas_de405: filename=novas_de405-1997.1-py3-none-any.whl size=54955764 sha256=cea69ea7d2e22fe3b92e900d240081d4c8bbec8aefb4beda84bdac58c29068d8\n",
            "  Stored in directory: /Users/jorgezuluagacallejas/Library/Caches/pip/wheels/ce/a1/8e/a4fa61854fbfdaf836727e8375da57e94cda29846b2f3e4249\n",
            "Successfully built novas_de405\n",
            "\u001b[33mDEPRECATION: pyodbc 4.0.0-unsupported has a non-standard version number. pip 23.3 will enforce this behaviour change. A possible replacement is to upgrade to a newer version of pyodbc or contact the author to suggest that they release a version with a conforming version number. Discussion can be found at https://github.com/pypa/pip/issues/12063\u001b[0m\u001b[33m\n",
            "\u001b[0mInstalling collected packages: novas_de405\n",
            "Successfully installed novas_de405-1997.1\n"
          ]
        }
      ],
      "source": [
        "!pip install novas_de405"
      ]
    },
    {
      "cell_type": "code",
      "execution_count": 149,
      "metadata": {},
      "outputs": [],
      "source": [
        "from novas import compat as novas"
      ]
    },
    {
      "cell_type": "code",
      "execution_count": 150,
      "metadata": {},
      "outputs": [
        {
          "data": {
            "text/plain": [
              "2456203.0"
            ]
          },
          "execution_count": 150,
          "metadata": {},
          "output_type": "execute_result"
        }
      ],
      "source": [
        "jd_tt = novas.julian_date(2012, 10, 2, 12.0)\n",
        "jd_tt"
      ]
    },
    {
      "cell_type": "code",
      "execution_count": 152,
      "metadata": {},
      "outputs": [
        {
          "data": {
            "text/plain": [
              "0.0"
            ]
          },
          "execution_count": 152,
          "metadata": {},
          "output_type": "execute_result"
        }
      ],
      "source": [
        "mars = novas.make_object(0, 4, 'Mars', None)\n",
        "ra, dec, dis = novas.astro_planet(jd_tt, mars)\n",
        "ra"
      ]
    },
    {
      "cell_type": "markdown",
      "metadata": {},
      "source": [
        "## Using astropy"
      ]
    },
    {
      "cell_type": "code",
      "execution_count": 168,
      "metadata": {},
      "outputs": [
        {
          "name": "stdout",
          "output_type": "stream",
          "text": [
            "[-2162.44482772 -5978.19245642  -512.56020266]\n",
            "[-2162.44482772 -5978.19245642  -512.56020266]\n"
          ]
        },
        {
          "data": {
            "text/plain": [
              "(1355818.0,\n",
              " (23.0, 18, 31.460628441940912),\n",
              " (-5.0, 42, 30.80468483716558),\n",
              " (20.0, 37, 23.562971761319602),\n",
              " (-19.0, 55, 49.35759007068299),\n",
              " (109.0, 29, 36.54508626151255),\n",
              " (-8.0, 58, 29.04516639412094),\n",
              " 109.49348474618375,\n",
              " -8.974734768442811,\n",
              " 109.49348474618375,\n",
              " -8.974734768442811)"
            ]
          },
          "execution_count": 168,
          "metadata": {},
          "output_type": "execute_result"
        }
      ],
      "source": [
        "# Time\n",
        "id = '4'\n",
        "mtime = MonTime('-1000-01-01 12:00:00.00')\n",
        "et = mtime.et + mtime.deltat\n",
        "\n",
        "# Transformation matrices\n",
        "Earth = PlanetaryBody(id = '399')\n",
        "M_ITRF_J2000 = spy.pxform(\"IAU_EARTH\",\"J2000\",et);\n",
        "M_J2000_Epoch = spy.pxform(\"J2000\",\"EARTHTRUEEPOCH\",et)\n",
        "M_ITRF_TRUE = spy.pxform(\"IAU_EARTH\",\"EARTHTRUEEPOCH\",et);\n",
        "\n",
        "# Observer location\n",
        "lat = 6*DEG # Radians\n",
        "lon = -75*DEG # Radians\n",
        "alt = 0 # km\n",
        "observerITRF = spy.georec(lon,lat,alt,Earth.Re,Earth.f)\n",
        "observerJ2000 = spy.mxv(M_ITRF_J2000,observerITRF)\n",
        "print(observerJ2000)\n",
        "observerTrue = spy.mxv(M_ITRF_TRUE,observerITRF)\n",
        "observerJ2000 = spy.mxv(spy.invert(M_J2000_Epoch),observerTrue)\n",
        "print(observerJ2000)\n",
        "\n",
        "# From local refrence frame to body reference frame\n",
        "#normal=spy.surfnm(Earth.Re,Earth.Re,Earth.Rp,observerITRF)\n",
        "normal,n=spy.unorm(observerITRF)\n",
        "uy=spy.ucrss(np.array([0,0,1]),normal)\n",
        "ux=spy.ucrss(normal,uy)\n",
        "M_local_body=np.array(np.vstack((ux,uy,normal)).transpose().tolist())\n",
        "M_body_local=spy.invert(M_local_body)\n",
        "\n",
        "# Get position of Earth, body and observer in SSBJ2000\n",
        "earthSSBJ2000,lt = spy.spkezr(\"399\",et,\"J2000\",\"LT+S\",\"SOLAR SYSTEM BARYCENTER\")\n",
        "bodySSBJ2000,lt = spy.spkezr(id,et,\"J2000\",\"LT+S\",\"SOLAR SYSTEM BARYCENTER\")\n",
        "\n",
        "# Topographic position respect to J2000\n",
        "#\"\"\"\n",
        "observerSSBJ2000 = earthSSBJ2000[:3] + observerJ2000\n",
        "bodyTOPOJ2000 = bodySSBJ2000[:3] - observerSSBJ2000\n",
        "#\"\"\"\n",
        "\n",
        "# Topographic position respect to J2000\n",
        "\"\"\"\n",
        "observerSSB = earthSSBJ2000[:3] + observerTrue\n",
        "bodyTOPOJ2000 = bodySSBJ2000[:3] - observerSSB\n",
        "#\"\"\"\n",
        "# Get coordinates\n",
        "bodyTOPOEpoch = spy.mxv(M_J2000_Epoch,bodyTOPOJ2000)\n",
        "r,RAbodyJ2000,DECbodyJ2000 = spy.recrad(bodyTOPOJ2000)\n",
        "r,RAbody,DECbody = spy.recrad(bodyTOPOEpoch)\n",
        "\n",
        "# Local coordinates\n",
        "bodyTOPObody = spy.mxv(spy.invert(M_ITRF_TRUE),bodyTOPOEpoch)\n",
        "bodyTOPOlocal = spy.mxv(M_body_local,bodyTOPObody)\n",
        "r,az1,el1 = spy.recrad(bodyTOPOlocal)\n",
        "\n",
        "bodyTOPObody = spy.mxv(spy.invert(M_ITRF_J2000),bodyTOPOJ2000)\n",
        "bodyTOPOlocal = spy.mxv(M_body_local,bodyTOPObody)\n",
        "r,az,el = spy.recrad(bodyTOPOlocal)\n",
        "\n",
        "mtime.jd,\\\n",
        "Montu.dec2hex(RAbodyJ2000*RAD/15),Montu.dec2hex(DECbodyJ2000*RAD),\\\n",
        "Montu.dec2hex(RAbody*RAD/15),Montu.dec2hex(DECbody*RAD),\\\n",
        "Montu.dec2hex(az*RAD),Montu.dec2hex(el*RAD),\\\n",
        "az*RAD, el*RAD,\\\n",
        "az1*RAD, el1*RAD\n"
      ]
    },
    {
      "cell_type": "code",
      "execution_count": 198,
      "metadata": {},
      "outputs": [],
      "source": [
        "from astropy.time import Time\n",
        "from astropy.coordinates import SkyCoord, EarthLocation, AltAz, FK5, ICRS\n",
        "import astropy.units as u\n",
        "from astropy.coordinates.erfa_astrom import erfa_astrom, ErfaAstromInterpolator"
      ]
    },
    {
      "cell_type": "code",
      "execution_count": 171,
      "metadata": {},
      "outputs": [
        {
          "data": {
            "text/plain": [
              "-1.3089969389957472"
            ]
          },
          "execution_count": 171,
          "metadata": {},
          "output_type": "execute_result"
        }
      ],
      "source": [
        "lon"
      ]
    },
    {
      "cell_type": "code",
      "execution_count": 184,
      "metadata": {},
      "outputs": [
        {
          "data": {
            "text/plain": [
              "(<EarthLocation (1642.18631101, -6128.7227482, 662.41475029) km>,\n",
              " array([ 1641.80010628, -6127.28141252,   662.25791283]))"
            ]
          },
          "execution_count": 184,
          "metadata": {},
          "output_type": "execute_result"
        }
      ],
      "source": [
        "obstime = Time(mtime.jd,format='jd',scale='tt')\n",
        "alt = 1.5\n",
        "location = EarthLocation(lon=-75*u.deg, lat=6*u.deg,height=alt*u.km)\n",
        "location, observerITRF"
      ]
    },
    {
      "cell_type": "code",
      "execution_count": 185,
      "metadata": {},
      "outputs": [
        {
          "data": {
            "text/plain": [
              "<AltAz Frame (obstime=1355818.0, location=(1642.18631101, -6128.7227482, 662.41475029) km, pressure=0.0 hPa, temperature=0.0 deg_C, relative_humidity=0.0, obswl=1.0 micron)>"
            ]
          },
          "execution_count": 185,
          "metadata": {},
          "output_type": "execute_result"
        }
      ],
      "source": [
        "frame = AltAz(obstime=obstime, location=location)\n",
        "frame"
      ]
    },
    {
      "cell_type": "code",
      "execution_count": 206,
      "metadata": {},
      "outputs": [
        {
          "data": {
            "text/plain": [
              "<SkyCoord (ICRS): (ra, dec) in deg\n",
              "    (349.83698047, -5.61750218)>"
            ]
          },
          "execution_count": 206,
          "metadata": {},
          "output_type": "execute_result"
        }
      ],
      "source": [
        "mars = SkyCoord(ra='23h19m20.875314s', dec='-05d37m03.00784s',frame=ICRS,equinox='J2000.0')\n",
        "mars"
      ]
    },
    {
      "cell_type": "code",
      "execution_count": 208,
      "metadata": {},
      "outputs": [
        {
          "data": {
            "text/plain": [
              "<SkyCoord (AltAz: obstime=1355818.0, location=(1642.18631101, -6128.7227482, 662.41475029) km, pressure=0.0 hPa, temperature=0.0 deg_C, relative_humidity=0.0, obswl=1.0 micron): (az, alt) in deg\n",
              "    (108.99985612, -15.47953183)>"
            ]
          },
          "execution_count": 208,
          "metadata": {},
          "output_type": "execute_result"
        }
      ],
      "source": [
        "coords = mars.transform_to(frame)\n",
        "coords"
      ]
    },
    {
      "cell_type": "code",
      "execution_count": 212,
      "metadata": {},
      "outputs": [
        {
          "data": {
            "text/plain": [
              "(108.99985612134904, -15.479531832996527)"
            ]
          },
          "execution_count": 212,
          "metadata": {},
          "output_type": "execute_result"
        }
      ],
      "source": [
        "coords.az.value, coords.alt.value"
      ]
    },
    {
      "cell_type": "code",
      "execution_count": null,
      "metadata": {},
      "outputs": [],
      "source": [
        "mars = SkyCoord(ra='23h19m20.875314s', dec='-05d37m03.00784s',frame=ICRS,equinox='J2000.0')"
      ]
    },
    {
      "cell_type": "code",
      "execution_count": 205,
      "metadata": {},
      "outputs": [
        {
          "data": {
            "text/plain": [
              "<Time object: scale='tt' format='jd' value=1355818.0>"
            ]
          },
          "execution_count": 205,
          "metadata": {},
          "output_type": "execute_result"
        }
      ],
      "source": [
        "obstime"
      ]
    },
    {
      "cell_type": "code",
      "execution_count": 180,
      "metadata": {},
      "outputs": [
        {
          "name": "stdout",
          "output_type": "stream",
          "text": [
            "1.58 ms ± 22.7 µs per loop (mean ± std. dev. of 7 runs, 100 loops each)\n"
          ]
        }
      ],
      "source": [
        "%timeit mars.transform_to(frame)"
      ]
    },
    {
      "cell_type": "code",
      "execution_count": 183,
      "metadata": {},
      "outputs": [
        {
          "name": "stdout",
          "output_type": "stream",
          "text": [
            "2.31 ms ± 232 µs per loop (mean ± std. dev. of 7 runs, 100 loops each)\n"
          ]
        }
      ],
      "source": [
        "erfa_astrom.set(ErfaAstromInterpolator(300 * u.s))\n",
        "%timeit mars.transform_to(frame)"
      ]
    },
    {
      "cell_type": "code",
      "execution_count": null,
      "metadata": {},
      "outputs": [],
      "source": [
        "mars.transform_to()"
      ]
    },
    {
      "cell_type": "code",
      "execution_count": 186,
      "metadata": {},
      "outputs": [
        {
          "data": {
            "text/plain": [
              "<SkyCoord (ICRS): (ra, dec) in deg\n",
              "    (68.98016279, 16.50930235)>"
            ]
          },
          "execution_count": 186,
          "metadata": {},
          "output_type": "execute_result"
        }
      ],
      "source": [
        "SkyCoord.from_name('Aldebaran')"
      ]
    },
    {
      "cell_type": "markdown",
      "metadata": {},
      "source": [
        "## Ephemerides routine"
      ]
    },
    {
      "cell_type": "code",
      "execution_count": 264,
      "metadata": {},
      "outputs": [],
      "source": [
        "import astropy.units as u"
      ]
    },
    {
      "cell_type": "markdown",
      "metadata": {},
      "source": [
        "First you define the object you will observe that can be a planet of a star:"
      ]
    },
    {
      "cell_type": "code",
      "execution_count": 265,
      "metadata": {},
      "outputs": [],
      "source": [
        "body = Planet(id='4')"
      ]
    },
    {
      "cell_type": "markdown",
      "metadata": {},
      "source": [
        "Now you have to define an observing time:"
      ]
    },
    {
      "cell_type": "code",
      "execution_count": 269,
      "metadata": {},
      "outputs": [
        {
          "name": "stdout",
          "output_type": "stream",
          "text": [
            "Defined using date: 2451545.0007428695 64.18392728473108 2000-01-01 12:00:00.00\n",
            "Defined using et: 2451544.9992571305 -64.18392726322381 2000-01-01 11:58:55.816\n",
            "Defined using jd: 2451545.0 0.0 2000-01-01 12:00:00.000\n"
          ]
        }
      ],
      "source": [
        "mtime = MonTime('2000-01-01 12:00:00.00',scale='utc')\n",
        "print(\"Defined using date:\",mtime.jd,mtime.et,mtime.datestr)\n",
        "mtime = MonTime(0,format='et',scale='utc')\n",
        "print(\"Defined using et:\",mtime.jd,mtime.et,mtime.datestr)\n",
        "mtime = MonTime(2451545,format='jd',scale='tt')\n",
        "print(\"Defined using jd:\",mtime.jd,mtime.et,mtime.datestr)"
      ]
    },
    {
      "cell_type": "markdown",
      "metadata": {},
      "source": [
        "This is the right date:"
      ]
    },
    {
      "cell_type": "code",
      "execution_count": 314,
      "metadata": {},
      "outputs": [
        {
          "data": {
            "text/plain": [
              "(1355818.0004766812,\n",
              " <Time object: scale='tdb' format='jd' value=1355818.0004766812>)"
            ]
          },
          "execution_count": 314,
          "metadata": {},
          "output_type": "execute_result"
        }
      ],
      "source": [
        "mtime = MonTime('-1000-01-01 12:00:00.00',scale='utc')\n",
        "et = mtime.et\n",
        "mtime.jd, mtime.astrotime"
      ]
    },
    {
      "cell_type": "markdown",
      "metadata": {},
      "source": [
        "You need an observing site:"
      ]
    },
    {
      "cell_type": "code",
      "execution_count": 375,
      "metadata": {},
      "outputs": [
        {
          "data": {
            "text/plain": [
              "<AltAz Frame (obstime=1355818.0004766812, location=(1641.8002092, -6127.28179662, 662.25795759) km, pressure=0.0 hPa, temperature=0.0 deg_C, relative_humidity=0.0, obswl=1.0 micron)>"
            ]
          },
          "execution_count": 375,
          "metadata": {},
          "output_type": "execute_result"
        }
      ],
      "source": [
        "location = EarthLocation(lon=-75*u.deg, lat=6*u.deg,height=alt*u.km)\n",
        "location.ITRF = np.array(list(location.value))\n",
        "location.M_ITRF_J2000 = spy.pxform('IAU_EARTH','J2000',et)\n",
        "location.J2000 = spy.mxv(M_ITRF_J2000,np.array(list(location.value)))\n",
        "location.ITRF,location.J2000\n",
        "location.frame = AltAz(obstime=mtime.astrotime, location=location)\n",
        "location.frame"
      ]
    },
    {
      "cell_type": "markdown",
      "metadata": {},
      "source": [
        "Now you may calculate the position of the planet with respect to the location:"
      ]
    },
    {
      "cell_type": "code",
      "execution_count": 418,
      "metadata": {},
      "outputs": [
        {
          "name": "stdout",
          "output_type": "stream",
          "text": [
            "[-1.18846065e+08  7.95258219e+07  3.51843920e+07]\n",
            "Coordinates @ J2000:  23d18m32.62776562s -5d42m23.06923546s\n",
            "Coordinates @ Epoch:  20d37m24.86639786s -19d55m44.31175677s\n",
            "AltAz @ Epoch:  109.0663856224683 -15.107663312274362\n"
          ]
        }
      ],
      "source": [
        "earthSSBJ2000,lt = spy.spkezr('399',et,'J2000','None','SSB')\n",
        "bodySSBJ2000,lt = spy.spkezr(body.id,et,'J2000','None','SSB')\n",
        "location.SSBJ2000 = earthSSBJ2000[:3] + location.J2000\n",
        "print(location.SSBJ2000)\n",
        "\n",
        "# Celestial Coordinates at J2000\n",
        "bodyTOPOJ2000 = bodySSBJ2000[:3] - location.SSBJ2000\n",
        "r,RAbodyJ2000,DECbodyJ2000 = spy.recrad(bodyTOPOJ2000)\n",
        "bodyJ2000 = SkyCoord(ra=RAbodyJ2000*u.rad,dec=DECbodyJ2000*u.rad)\n",
        "\n",
        "# Celestial Coordinates at Epoch\n",
        "M_J2000_Epoch = spy.pxform('J2000','EARTHTRUEEPOCH',et)\n",
        "bodyTOPOEpoch = spy.mxv(M_J2000_Epoch,bodyTOPOJ2000)\n",
        "r,RAbody,DECbody = spy.recrad(bodyTOPOEpoch)\n",
        "bodyEpoch = SkyCoord(ra=RAbody*u.rad,dec=DECbody*u.rad)\n",
        "print(\"Coordinates @ J2000: \",bodyJ2000.ra/15,bodyJ2000.dec)\n",
        "print(\"Coordinates @ Epoch: \",bodyEpoch.ra/15,bodyEpoch.dec)\n",
        "\n",
        "# AltAz Coordinates at Epoch\n",
        "bodyAltAz = bodyJ2000.transform_to(location.frame)\n",
        "print(\"AltAz @ Epoch: \",bodyAltAz.az.value,bodyAltAz.alt.value)"
      ]
    },
    {
      "cell_type": "code",
      "execution_count": 342,
      "metadata": {},
      "outputs": [
        {
          "name": "stdout",
          "output_type": "stream",
          "text": [
            "Coordinates @ J2000:  23d18m32.62776562s -5d42m23.06923546s\n",
            "Coordinates @ Epoch:  20d37m23.98395065s -19d55m55.3290936s\n"
          ]
        }
      ],
      "source": [
        "bodyJ2000 = SkyCoord(ra=RAbodyJ2000*u.rad,dec=DECbodyJ2000*u.rad,frame=FK5(equinox='J2000'))\n",
        "print(\"Coordinates @ J2000: \",bodyJ2000.ra/15,bodyJ2000.dec)\n",
        "bodyEpoch = bodyJ2000.transform_to(FK5(equinox=mtime.astrotime))\n",
        "print(\"Coordinates @ Epoch: \",bodyEpoch.ra/15,bodyEpoch.dec)"
      ]
    },
    {
      "cell_type": "markdown",
      "metadata": {},
      "source": [
        "## Final class design"
      ]
    },
    {
      "cell_type": "code",
      "execution_count": 571,
      "metadata": {},
      "outputs": [],
      "source": [
        "from astropy.time import Time\n",
        "from astropy.coordinates import SkyCoord, EarthLocation, AltAz, FK5, ICRS\n",
        "import astropy.units as u\n",
        "from astropy.coordinates.erfa_astrom import erfa_astrom, ErfaAstromInterpolator\n",
        "from functools import lru_cache\n",
        "\n",
        "class PlanetaryBody(object):\n",
        "    \"\"\"Create a planetary body\n",
        "\n",
        "    Examples: \n",
        "        earth = PlanetaryBody(id='399')\n",
        "        print(Earth.f)\n",
        "    \"\"\"\n",
        "\n",
        "    @lru_cache()\n",
        "    def __new__(cls,id):\n",
        "        \"\"\"This method is intended to avoid creating a new object with the same id\n",
        "        Instead this method create a clone of the previously created object.\n",
        "        \"\"\"\n",
        "        return super().__new__(cls)\n",
        "\n",
        "    def __init__(self,id):\n",
        "\n",
        "        # Obtain properties of object\n",
        "        self.id = id\n",
        "        n,rs=spy.bodvrd(self.id,\"RADII\",3)\n",
        "        self.Re=rs[0]\n",
        "        self.Rt=rs[1]\n",
        "        self.Rp=rs[2]\n",
        "        self.f=(self.Re-self.Rp)/self.Re\n",
        "\n",
        "        # Set dummy ephemerides\n",
        "        self.epochs = []\n",
        "        self.eq_J2000 = SkyCoord(ra=0*u.deg,dec=0*u.deg)\n",
        "        self.eq_epoch = SkyCoord(ra=0*u.deg,dec=0*u.deg)\n",
        "        self.az_epoch = None\n",
        "\n",
        "    def calculate_ephemerides(self,location,epochs,verbose=True):\n",
        "\n",
        "        self.epochs = epochs\n",
        "\n",
        "        # Ephemeris time\n",
        "        et = epochs.et\n",
        "\n",
        "        # Retrieve position of planet\n",
        "        try:\n",
        "            Montu.vprint(verbose,f\"Retrieving position for object {location.planet.id}\")\n",
        "            planetSSBJ2000,lt = spy.spkezr(location.planet.id,et,'J2000','None','SSB')\n",
        "        except:\n",
        "            Montu.vprint(verbose,f\"\\tCorrecting id to {location.planet.id[0]}\")\n",
        "            planetSSBJ2000,lt = spy.spkezr(location.planet.id[0],et,'J2000','None','SSB')\n",
        "            \n",
        "        try:\n",
        "            Montu.vprint(verbose,f\"Retrieving position for object {self.id}\")\n",
        "            bodySSBJ2000,lt = spy.spkezr(self.id,et,'J2000','None','SSB')\n",
        "        except:\n",
        "            Montu.vprint(verbose,f\"\\tCorrecting id to {self.id[0]}\")\n",
        "            bodySSBJ2000,lt = spy.spkezr(self.id[0],et,'J2000','None','SSB')\n",
        "\n",
        "        # Position of the observing site with respect to SSB\n",
        "        location.SSBJ2000 = planetSSBJ2000[:3] + location.J2000\n",
        "        \n",
        "        # Celestial Coordinates at J2000\n",
        "        bodyTOPOJ2000 = bodySSBJ2000[:3] - location.SSBJ2000\n",
        "        r,RAbodyJ2000,DECbodyJ2000 = spy.recrad(bodyTOPOJ2000)\n",
        "        self.eq_J2000 = SkyCoord(ra=RAbodyJ2000*u.rad,dec=DECbodyJ2000*u.rad)\n",
        "        Montu.vprint(verbose,\"Coordinates @ J2000: \",self.eq_J2000.ra/15,self.eq_J2000.dec)\n",
        "\n",
        "        # Celestial Coordinates at Epoch\n",
        "        if location.planet.id == '399':\n",
        "            # Method 1: using astropy\n",
        "            self.eq_epoch = self.eq_J2000.transform_to(FK5(equinox=self.epochs.astrotime))\n",
        "            \n",
        "            \"\"\"\n",
        "            # There is a second method to precess the coordinates using SPICE\n",
        "            Montu.vprint(verbose,f\"Coordinates @ Epoch using astropy : \",self.eq_epoch.ra/15,self.eq_epoch.dec)\n",
        "            # Method 2: using SPICE\n",
        "            M_J2000_Epoch = spy.pxform('J2000','EARTHTRUEEPOCH',et)\n",
        "            bodyTOPOEpoch = spy.mxv(M_J2000_Epoch,bodyTOPOJ2000)\n",
        "            r,RAbody,DECbody = spy.recrad(bodyTOPOEpoch)\n",
        "            self.eq_epoch = SkyCoord(ra=RAbody*u.rad,dec=DECbody*u.rad)\n",
        "            Montu.vprint(verbose,f\"Coordinates @ Epoch using SPICE : \",self.eq_epoch.ra/15,self.eq_epoch.dec)\n",
        "            \"\"\"\n",
        "        else:\n",
        "            self.eq_epoch = SkyCoord(ra=RAbodyJ2000*u.rad,dec=DECbodyJ2000*u.rad)\n",
        "        \n",
        "        Montu.vprint(verbose,\"Coordinates @ Epoch: \",self.eq_epoch.ra/15,self.eq_epoch.dec)\n",
        "\n",
        "        # AltAz Coordinates at body\n",
        "        self.az_epoch = self.eq_J2000.transform_to(location.frame)\n",
        "        Montu.vprint(verbose,\"AltAz @ Epoch: \",self.az_epoch.az.value,self.az_epoch.alt.value)      \n",
        "    \n",
        "    def __str__(self):\n",
        "        str = f\"\"\"\n",
        "Planetary body id: {self.id}\n",
        "Size: {self.Re,self.Rt,self.Rp,self.f}\n",
        "Epoch: {self.epochs.datestr}\n",
        "Coordinates:\n",
        "    equatorial J2000 = {self.eq_J2000}\n",
        "    equatorial @ epochs = {self.eq_epoch}\n",
        "    AltAz @ epochs = {self.az_epoch}\n",
        "\"\"\"\n",
        "        return str\n",
        "class ObservingSite(object):\n",
        "    \"\"\"Create an observing site\n",
        "\n",
        "    Attributes:\n",
        "        \n",
        "        location: dictionary:\n",
        "            lon: float [deg]: geodetic longitude\n",
        "            lat: float [deg]: geodetic latitude\n",
        "            elevation: float [km]: eleveation\n",
        "        \n",
        "        body: dictionary:\n",
        "            id: SPICE id of body\n",
        "            frameid: Rotating reference frame\n",
        "    \"\"\"\n",
        "    def __init__(self,\n",
        "                 location=dict(lon=0*u.deg,lat=0*u.deg,height=0),\n",
        "                 conditions=dict(pressure=0*u.hPa,temperature=0*u.deg_C,relative_humidity=0,obswl=1*u.micron),\n",
        "                 onplanet=PlanetaryBody(id='399')):\n",
        "\n",
        "        # Body\n",
        "        self.planet = onplanet\n",
        "        \n",
        "        # Geodetic coordinates\n",
        "        self.location = location  \n",
        "\n",
        "        # Atmospheric conditions\n",
        "        self.conditions = conditions \n",
        "\n",
        "        # Cartesian coordinates\n",
        "        #kwargs = location | conditions\n",
        "        kwargs = location | dict()\n",
        "        self.site = EarthLocation(**kwargs)\n",
        "        self.ITRF = np.array(list(self.site.value))\n",
        "\n",
        "        # Update site with a dummy time (J2000.0)\n",
        "        self.update_site(MonTime(0,format='et',scale='tt'))\n",
        "\n",
        "    def update_site(self,mtime):  \n",
        "        self.mtime = mtime\n",
        "        et = mtime.et\n",
        "        self.M_ITRF_J2000 = spy.pxform('IAU_EARTH','J2000',et)\n",
        "        self.J2000 = spy.mxv(M_ITRF_J2000,np.array(list(self.site.value)))\n",
        "        self.frame = AltAz(obstime=mtime.astrotime,location=self.site)\n",
        "\n",
        "    def __str__(self):\n",
        "        str = f\"\"\"\n",
        "Geodetic coordinates: {self.location}\n",
        "Atmospheric conditions: {self.conditions}\n",
        "Cartesian coordinates:\n",
        "  ITRF = {self.ITRF}\n",
        "  J2000 = {self.J2000}   \n",
        "Planet: {self.planet}\n",
        "Present epoch: {self.mtime.datestr}\n",
        "Frame: {self.frame}\n",
        "\"\"\"\n",
        "        return str"
      ]
    },
    {
      "cell_type": "markdown",
      "metadata": {},
      "source": [
        "Let's test it:"
      ]
    },
    {
      "cell_type": "code",
      "execution_count": 572,
      "metadata": {},
      "outputs": [
        {
          "name": "stdout",
          "output_type": "stream",
          "text": [
            "Date =  -2500-01-01 12:00:00.00\n",
            "Time =  807954.0004766849\n",
            "Retrieving position for object 399\n",
            "Retrieving position for object 499\n",
            "\tCorrecting id to 4\n",
            "Coordinates @ J2000:  12d32m27.20217244s 1d31m51.68980447s\n",
            "Coordinates @ Epoch:  8d32m53.48686627s 24d02m50.12925959s\n",
            "AltAz @ Epoch:  293.33263317147623 14.315897115588912\n"
          ]
        }
      ],
      "source": [
        "# Examples\n",
        "earth = PlanetaryBody(id='399')\n",
        "mars = PlanetaryBody(id='499')\n",
        "sun = PlanetaryBody(id='10')\n",
        "moon = PlanetaryBody(id='301')\n",
        "\n",
        "# Time of observations\n",
        "mtime = MonTime('-2500-01-01 12:00:00.00',scale='utc')\n",
        "print(\"Date = \",mtime.datestr)\n",
        "print(\"Time = \",mtime.jd)\n",
        "\n",
        "# Observing location\n",
        "medellin = ObservingSite(location=dict(lon=-75*u.deg,lat=6*u.deg,height=0*u.km),\n",
        "                         onplanet = earth)\n",
        "medellin.update_site(mtime)\n",
        "\n",
        "# Calculate ephemerides\n",
        "mars.calculate_ephemerides(location=medellin,epochs=mtime,verbose=1)"
      ]
    },
    {
      "cell_type": "markdown",
      "metadata": {},
      "source": [
        "Conclusions:\n",
        "\n",
        "- Computing precession and nutation is a true pain in the ass.\n",
        "- Different sources give you different values: Stellarium, AstroPy, SPICE, HORIZONS.\n",
        "- Supposedly, the most reliable source is HORIZONS, but ¿how can we know it?\n",
        "- I have performed many tests with different "
      ]
    }
  ],
  "metadata": {
    "colab": {
      "provenance": []
    },
    "kernelspec": {
      "display_name": "Python 3",
      "language": "python",
      "name": "python3"
    },
    "language_info": {
      "codemirror_mode": {
        "name": "ipython",
        "version": 3
      },
      "file_extension": ".py",
      "mimetype": "text/x-python",
      "name": "python",
      "nbconvert_exporter": "python",
      "pygments_lexer": "ipython3",
      "version": "3.9.7"
    }
  },
  "nbformat": 4,
  "nbformat_minor": 0
}
