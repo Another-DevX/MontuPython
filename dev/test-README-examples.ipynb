{
 "cells": [
  {
   "cell_type": "code",
   "execution_count": 1,
   "metadata": {},
   "outputs": [
    {
     "name": "stdout",
     "output_type": "stream",
     "text": [
      "Loading kernel latest_leapseconds.tls\n",
      "Loading kernel de441_part-1.bsp\n",
      "Loading kernel de441_part-2.bsp\n",
      "Loading local kernel frame.tk\n",
      "Loading local kernel pck00011.tpc\n",
      "Loading local kernel earth_assoc_itrf93.tf\n"
     ]
    }
   ],
   "source": [
    "import montu\n",
    "from montu import *\n",
    "#from montu.__cycle_1 import *\n",
    "Montu.load_kernels()\n",
    "allstars=Stars()\n",
    "\n",
    "%load_ext autoreload\n",
    "%autoreload 2"
   ]
  },
  {
   "cell_type": "code",
   "execution_count": 2,
   "metadata": {},
   "outputs": [
    {
     "name": "stdout",
     "output_type": "stream",
     "text": [
      "Montu Time Object:\n",
      "--------------------------\n",
      "Date in proleptic UTC: -2500-01-01 12:00:00.0000\n",
      "Date in mixed UTC: -2500-01-22 12:00:00:\n",
      "Date in SPICE format: 2501 B.C. 01-01 12:00:00.00\n",
      "General:\n",
      "    Components: [-1, 2500, 1, 1, 12, 0, 0, 0]\n",
      "    Is bce: True\n",
      "    Is Julian: True\n",
      "Uniform scales:\n",
      "    Terrestrial time:\n",
      "        tt: -142006202700.32004\n",
      "        jtd: 807954.6909685181\n",
      "    UTC time:\n",
      "        et: -142006262400.00003\n",
      "        jed: 807953.9999999997\n",
      "    Delta-t = TT - UTC = 59699.68000000001\n",
      "Objects:\n",
      "    Date in datetime64 format: -2500-01-01T12:00:00.000000\n",
      "    Date in PyPlanet Epoch: 807953.9999999997\n",
      "    Date in PyEphem Epoch: -2501/1/22 12:00:00\n",
      "    Date in AstroPy Time: 807954.6909685181\n",
      "Astronomical properties at Epoch:\n",
      "    True obliquity of ecliptic: 23:58:33.587\n",
      "    True nutation longitude: 00:00:10.214\n",
      "    Greenwhich Meridian Sidereal Time: 18:40:25.323\n",
      "\n"
     ]
    }
   ],
   "source": [
    "mtime = MonTime('bce2501-01-01 12:00:00')\n",
    "print(mtime)"
   ]
  },
  {
   "cell_type": "code",
   "execution_count": 3,
   "metadata": {},
   "outputs": [],
   "source": [
    "earth = PlanetaryBody('Earth')\n",
    "tebas = ObservingSite(planet=earth,lon=33,lat=24,height=0)\n",
    "mtime = MonTime('bce2501-01-01 12:00:00')\n",
    "mars = PlanetaryBody('Mars')"
   ]
  },
  {
   "cell_type": "code",
   "execution_count": 5,
   "metadata": {},
   "outputs": [
    {
     "name": "stdout",
     "output_type": "stream",
     "text": [
      "Computing position of body 'mars' at epoch: jtd = 807954.6909685181 \n",
      "Method 'SPICE':\n",
      "\tPosition Epoch: prolectic gregorian -2500-01-01 12:00:00.0000, JED = 807953.9999999997\n",
      "\tCoordinates @ J2000: \n",
      "\t\tEquatorial: 12:31:48.754 01:37:12.184\n",
      "\t\tEcliptic: 186:39:46.949 04:38:36.308\n",
      "\tCoordinates @ Epoch : \n",
      "\t\tEquatorial: 08:32:9.796 24:06:28.555\n",
      "\t\tEcliptic: 124:21:21.542 04:39:5.339\n",
      "\tObserving conditions: \n",
      "\t\tDistance to site [au]:  0.6604503488431318\n",
      "\t\tDistance to sun [au]:  1.6261149729988635\n",
      "\t\tSolar elongation [deg]:  157:49:18.876\n",
      "\t\tPhase angle [deg]:  13:21:31.981\n",
      "\t\tMagnitude:  -1.1\n",
      "\tOther properties: \n",
      "\t\tLocal true sidereal time:  20:52:25.323\n",
      "\t\tHour angle @ Epoch:  12:20:15.527\n",
      "\t\tLocal coordinates @ Epoch:  06:11:24.275 -41:38:31.094\n"
     ]
    }
   ],
   "source": [
    "mars.calculate_sky_position(mtime,tebas)"
   ]
  },
  {
   "cell_type": "code",
   "execution_count": 6,
   "metadata": {},
   "outputs": [
    {
     "name": "stdout",
     "output_type": "stream",
     "text": [
      "Computing position of body 'mars' at epoch: jtd = 807954.6909685181 \n",
      "Method 'Horizons':\n",
      "\tPosition Epoch: prolectic gregorian -2500-01-01 12:00:00.0000, JED = 807953.9999999997\n",
      "\tCoordinates @ J2000: \n",
      "\t\tEquatorial: 12:31:49.147 01:37:6.708\n",
      "\t\tEcliptic: 186:39:54.558 04:38:33.609\n",
      "\tCoordinates @ Epoch : \n",
      "\t\tEquatorial: 08:32:9.283 24:06:29.556\n",
      "\t\tEcliptic: 124:21:14.472 04:39:4.619\n",
      "\tObserving conditions: \n",
      "\t\tDistance to site [au]:  0.66052182424896\n",
      "\t\tDistance to sun [au]:  1.626124866723\n",
      "\t\tSolar elongation [deg]:  157:47:51.000\n",
      "\t\tPhase angle [deg]:  13:22:14.880\n",
      "\t\tMagnitude:  -1.1\n",
      "\tOther properties: \n",
      "\t\tLocal true sidereal time:  20:52:25.323\n",
      "\t\tHour angle @ Epoch:  12:20:16.054\n",
      "\t\tLocal coordinates @ Epoch:  06:11:33.727 -41:38:29.317\n",
      "Method 'VSOP87':\n",
      "\tPosition Epoch: prolectic gregorian -2500-01-01 12:00:00.0000, JED = 807953.9999999997\n",
      "\tCoordinates @ J2000: \n",
      "\t\tEquatorial: 12:31:48.360 01:37:33.109\n",
      "\t\tEcliptic: 186:39:33.205 04:38:53.193\n",
      "\tCoordinates @ Epoch : \n",
      "\t\tEquatorial: 08:32:9.718 24:06:40.920\n",
      "\t\tEcliptic: 124:21:17.390 04:39:17.040\n",
      "\tObserving conditions: \n",
      "\t\tDistance to site [au]:  0.6604883074760437\n",
      "\t\tDistance to sun [au]:  1.626107096672058\n",
      "\t\tSolar elongation [deg]:  157:49:6.094\n",
      "\t\tPhase angle [deg]:  13:21:48.632\n",
      "\t\tMagnitude:  -1.13\n",
      "\tOther properties: \n",
      "\t\tLocal true sidereal time:  20:52:25.323\n",
      "\t\tHour angle @ Epoch:  12:20:15.604\n",
      "\t\tLocal coordinates @ Epoch:  06:11:23.906 -41:38:18.685\n",
      "Method 'SPICE':\n",
      "\tPosition Epoch: prolectic gregorian -2500-01-01 12:00:00.0000, JED = 807953.9999999997\n",
      "\tCoordinates @ J2000: \n",
      "\t\tEquatorial: 12:31:48.754 01:37:12.184\n",
      "\t\tEcliptic: 186:39:46.949 04:38:36.308\n",
      "\tCoordinates @ Epoch : \n",
      "\t\tEquatorial: 08:32:9.796 24:06:28.555\n",
      "\t\tEcliptic: 124:21:21.542 04:39:5.339\n",
      "\tObserving conditions: \n",
      "\t\tDistance to site [au]:  0.6604503488431318\n",
      "\t\tDistance to sun [au]:  1.6261149729988635\n",
      "\t\tSolar elongation [deg]:  157:49:18.876\n",
      "\t\tPhase angle [deg]:  13:21:31.981\n",
      "\t\tMagnitude:  -1.1\n",
      "\tOther properties: \n",
      "\t\tLocal true sidereal time:  20:52:25.323\n",
      "\t\tHour angle @ Epoch:  12:20:15.527\n",
      "\t\tLocal coordinates @ Epoch:  06:11:24.275 -41:38:31.094\n"
     ]
    }
   ],
   "source": [
    "mars.calculate_sky_position(mtime,tebas,method='all')"
   ]
  },
  {
   "cell_type": "code",
   "execution_count": 7,
   "metadata": {},
   "outputs": [
    {
     "data": {
      "image/png": "[encoded data removed]",
      "text/plain": [
       "<Figure size 576x576 with 1 Axes>"
      ]
     },
     "metadata": {},
     "output_type": "display_data"
    }
   ],
   "source": [
    "aldebaran = allstars.get_stars(ProperName='Aldebaran')\n",
    "hyades = allstars.get_stars_area(RA=aldebaran.data.RA,Dec=aldebaran.data.Dec,radius=10,Mag=[-1,5])\n",
    "fig,ax = hyades.plot_stars(pad=0.0,labels=False,figargs=dict(figsize=(8,8)))\n",
    "fig.savefig('gallery/hyades.png')"
   ]
  },
  {
   "cell_type": "code",
   "execution_count": null,
   "metadata": {},
   "outputs": [],
   "source": []
  }
 ],
 "metadata": {
  "kernelspec": {
   "display_name": "base",
   "language": "python",
   "name": "python3"
  },
  "language_info": {
   "codemirror_mode": {
    "name": "ipython",
    "version": 3
   },
   "file_extension": ".py",
   "mimetype": "text/x-python",
   "name": "python",
   "nbconvert_exporter": "python",
   "pygments_lexer": "ipython3",
   "version": "3.9.7"
  }
 },
 "nbformat": 4,
 "nbformat_minor": 2
}
