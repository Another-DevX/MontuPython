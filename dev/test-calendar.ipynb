{
 "cells": [
  {
   "cell_type": "markdown",
   "metadata": {},
   "source": [
    "# Montu Python \n",
    "## Astronomical ephemerides for the Ancient World\n",
    "## Test: Template"
   ]
  },
  {
   "cell_type": "code",
   "execution_count": 50,
   "metadata": {},
   "outputs": [
    {
     "name": "stdout",
     "output_type": "stream",
     "text": [
      "The autoreload extension is already loaded. To reload it, use:\n",
      "  %reload_ext autoreload\n"
     ]
    }
   ],
   "source": [
    "import montu\n",
    "from montu import D2H,PRINTDF,TABLEDF\n",
    "import pandas as pd\n",
    "import numpy as np\n",
    "\n",
    "# Load legacy code to compare\n",
    "import montu.__cycle_3 as montu2\n",
    "montu2.Util.load_kernels()\n",
    "\n",
    "# Autoreload\n",
    "%load_ext autoreload\n",
    "%autoreload 2"
   ]
  },
  {
   "cell_type": "markdown",
   "metadata": {},
   "source": [
    "## Testing calendario"
   ]
  },
  {
   "cell_type": "markdown",
   "metadata": {},
   "source": [
    "Dates around 1 CE:"
   ]
  },
  {
   "cell_type": "code",
   "execution_count": 416,
   "metadata": {},
   "outputs": [
    {
     "data": {
      "text/plain": [
       "Time('0240-01-01 12:00:00.0000'/'240-01-01 12:00:00'/'hrw 3022-III-Peret-11'/JED 1808718.0/JTD 1808718.0955845)"
      ]
     },
     "execution_count": 416,
     "metadata": {},
     "output_type": "execute_result"
    }
   ],
   "source": [
    "#montu.Time('0-1-1',calendar='proleptic')\n",
    "montu.Time('240-01-01 12:00:00',calendar='mixed')"
   ]
  },
  {
   "cell_type": "code",
   "execution_count": 417,
   "metadata": {},
   "outputs": [
    {
     "data": {
      "text/plain": [
       "Time('0139-07-19 00:00:00.0000'/'139-07-20 00:00:00'/'hrw 2922-I-Akhet-1'/JED 1772027.5/JTD 1772027.6066806)"
      ]
     },
     "execution_count": 417,
     "metadata": {},
     "output_type": "execute_result"
    }
   ],
   "source": [
    "montu.Time('139-07-20 00:00:00',calendar='mixed')"
   ]
  },
  {
   "cell_type": "code",
   "execution_count": 423,
   "metadata": {},
   "outputs": [
    {
     "data": {
      "text/plain": [
       "Time('0139-07-19 18:00:00.0000'/'139-07-20 18:00:00'/'hrw 2922-I-Akhet-1'/JED 1772028.25/JTD 1772028.3566806)"
      ]
     },
     "execution_count": 423,
     "metadata": {},
     "output_type": "execute_result"
    }
   ],
   "source": [
    "montu.Time('h 2922-I-Akhet-1 18:00:00',calendar='caniucular')"
   ]
  },
  {
   "cell_type": "code",
   "execution_count": 420,
   "metadata": {},
   "outputs": [
    {
     "name": "stdout",
     "output_type": "stream",
     "text": [
      "201 µs ± 9.55 µs per loop (mean ± std. dev. of 7 runs, 1,000 loops each)\n"
     ]
    }
   ],
   "source": [
    "%timeit montu.Time('hrw 2922-I-Akhet-1 12:00:00',calendar='caniucular')"
   ]
  },
  {
   "cell_type": "markdown",
   "metadata": {},
   "source": [
    "Lull page 95:"
   ]
  },
  {
   "cell_type": "code",
   "execution_count": 81,
   "metadata": {},
   "outputs": [
    {
     "data": {
      "text/plain": [
       "283.4140999315537"
      ]
     },
     "execution_count": 81,
     "metadata": {},
     "output_type": "execute_result"
    }
   ],
   "source": [
    "mtime1 = montu.Time('240-06-01',calendar='mixed')\n",
    "mtime2 = montu.Time('44 bce 01-01',calendar='mixed')\n",
    "mtime1.sub(mtime2)/365.25"
   ]
  },
  {
   "cell_type": "code",
   "execution_count": 82,
   "metadata": {},
   "outputs": [
    {
     "data": {
      "text/plain": [
       "numpy.timedelta64(283,'us')"
      ]
     },
     "execution_count": 82,
     "metadata": {},
     "output_type": "execute_result"
    }
   ],
   "source": [
    "(mtime1.readable.obj_datetime64 - mtime2.readable.obj_datetime64)/(1e6*montu.CALYEAR)"
   ]
  },
  {
   "cell_type": "code",
   "execution_count": 35,
   "metadata": {},
   "outputs": [
    {
     "data": {
      "text/plain": [
       "Time('-0000-05-30 12:00:00.0000'/'0-06-01 12:00:00'/JED 1721210.0/JTD 1721210.1224421)"
      ]
     },
     "execution_count": 35,
     "metadata": {},
     "output_type": "execute_result"
    }
   ],
   "source": [
    "montu.Time('0-06-01 12:00:00',calendar='mixed')"
   ]
  },
  {
   "cell_type": "markdown",
   "metadata": {},
   "source": [
    "Year of *apokatastasis*: 139 c.e."
   ]
  },
  {
   "cell_type": "code",
   "execution_count": 120,
   "metadata": {},
   "outputs": [
    {
     "data": {
      "text/plain": [
       "Time('0139-05-31 12:00:00.0000'/'139-06-01 12:00:00'/JED 1771979.0/JTD 1771979.1066898)"
      ]
     },
     "execution_count": 120,
     "metadata": {},
     "output_type": "execute_result"
    }
   ],
   "source": [
    "mtime_apk1 = montu.Time('139-06-01 12:00:00',calendar='mixed')\n",
    "mtime_apk1"
   ]
  },
  {
   "cell_type": "code",
   "execution_count": 122,
   "metadata": {},
   "outputs": [
    {
     "data": {
      "text/plain": [
       "Time('-1321-05-20 12:00:00.0000'/'-1321-06-01 12:00:00'/JED 1238714.0/JTD 1238714.3651713)"
      ]
     },
     "execution_count": 122,
     "metadata": {},
     "output_type": "execute_result"
    }
   ],
   "source": [
    "mtime_apk2 = mtime_apk1.sub(1461*montu.CALYEAR).get_readable()\n",
    "mtime_apk2"
   ]
  },
  {
   "cell_type": "code",
   "execution_count": 125,
   "metadata": {},
   "outputs": [
    {
     "data": {
      "text/plain": [
       "(46074096000, 46074096000.0)"
      ]
     },
     "execution_count": 125,
     "metadata": {},
     "output_type": "execute_result"
    }
   ],
   "source": [
    "1461*montu.CALYEAR, 1460*montu.JULYEAR"
   ]
  },
  {
   "cell_type": "code",
   "execution_count": 118,
   "metadata": {},
   "outputs": [
    {
     "data": {
      "text/plain": [
       "-1460.0"
      ]
     },
     "execution_count": 118,
     "metadata": {},
     "output_type": "execute_result"
    }
   ],
   "source": [
    "mtime_apk2.diff(mtime_apk1)/365.25"
   ]
  },
  {
   "cell_type": "code",
   "execution_count": 126,
   "metadata": {},
   "outputs": [
    {
     "data": {
      "text/plain": [
       "1460"
      ]
     },
     "execution_count": 126,
     "metadata": {},
     "output_type": "execute_result"
    }
   ],
   "source": [
    "365*4"
   ]
  },
  {
   "cell_type": "code",
   "execution_count": 114,
   "metadata": {},
   "outputs": [
    {
     "data": {
      "text/plain": [
       "Time('-2781-05-09 12:00:00.0000'/'-2781-06-01 12:00:00'/JED 705449.0/JTD 705449.7838125)"
      ]
     },
     "execution_count": 114,
     "metadata": {},
     "output_type": "execute_result"
    }
   ],
   "source": [
    "mtime_apk3 = mtime_apk2.sub(1460*montu.JULYEAR).get_readable()\n",
    "mtime_apk3"
   ]
  },
  {
   "cell_type": "code",
   "execution_count": 115,
   "metadata": {},
   "outputs": [
    {
     "data": {
      "text/plain": [
       "Time('-4241-04-28 12:00:00.0000'/'-4241-06-01 12:00:00'/JED 172184.0/JTD 172185.3603507)"
      ]
     },
     "execution_count": 115,
     "metadata": {},
     "output_type": "execute_result"
    }
   ],
   "source": [
    "mtime_apk4 = mtime_apk3.sub(1460*montu.JULYEAR).get_readable()\n",
    "mtime_apk4\n"
   ]
  },
  {
   "cell_type": "code",
   "execution_count": 349,
   "metadata": {},
   "outputs": [],
   "source": [
    "HORUS_MONTH = dict(I=1,II=2,III=3,IV=4)\n",
    "HORUS_SEASON = dict(AKHET=1,PERET=2,SHEMU=3,\n",
    "                    A=1,P=2,S=3,\n",
    "                    AKH=1,PER=2,SHE=3)\n",
    "MONTH_HORUS = {str(v): k for k, v in HORUS_MONTH.items()}\n",
    "SEASON_HORUS = {'0':'Mesut','1':'Akhet','2':'Peret','3':'Shemu'}\n",
    "\n",
    "def _horus_days(horus=0,month='I',season='Akhet',day=1):\n",
    "    \"\"\"Obtain the number of days since I-Akhet-1 of the\n",
    "    year of the first ancient egyptian apokotástasis (2782 b.c.e.).\n",
    "\n",
    "    Parameters:\n",
    "        horus: int, default = 0:\n",
    "            Horus year, i.e. civil year starting at 2782 bce.\n",
    "        \n",
    "        month: string, default = 'I':\n",
    "            Month in the season. Values are I, II, III, IV\n",
    "\n",
    "        season: string, default = 'Akhet':\n",
    "            Season of the year. \n",
    "            Values are AKHET (A,AKH), PERET (P,PER), SHEMU (S,SHE).\n",
    "\n",
    "        day: int, default = 1:\n",
    "            Day. It must be between 1 and 30 (including).\n",
    "\n",
    "    Return:\n",
    "        Number of days since 2782 bce I-Akhet-1.\n",
    "    \"\"\"\n",
    "    D = (int(day)-1) + (HORUS_SEASON[season]-1)*120 + (HORUS_MONTH[month]-1)*30 + int(horus)*365\n",
    "    return D\n",
    "\n",
    "def _horus_date_to_days(date):\n",
    "    \"\"\"Obtain the number of days since I-Akhet-1 of the\n",
    "    year of the first ancient egyptian apokotástasis (2782 b.c.e.).\n",
    "\n",
    "    Parameters:\n",
    "        date: string:\n",
    "            Format: CCYY-MM-SS-DD\n",
    "\n",
    "            where: \n",
    "                CCYY: Horus year, 0 = 2782 bce.\n",
    "                MM: Number of month (I, II, III, IV)\n",
    "                SS: Name (letter of abreviation) of season:\n",
    "                    Akhet (akh,a), Peret (per,p), Shemu (she,s)\n",
    "                DD: Number of day\n",
    "\n",
    "    Return:\n",
    "        hd: int:\n",
    "            Horus days. Number of days since 2782 bce I-Akhet-1.\n",
    "    \"\"\"\n",
    "    comps = date.split('-')\n",
    "    \n",
    "    # Adjust ranges\n",
    "    comps[0] = int(comps[0].strip('hHrw ')) # Horus year\n",
    "    comps[1] = comps[1].upper() # Month (I, II, III, IV)\n",
    "    comps[2] = comps[2].upper() # Season (akhet,peret,shemu)\n",
    "    comps[3] = int(comps[3]) # Day (1..30)\n",
    "\n",
    "    if comps[1] not in HORUS_MONTH.keys():\n",
    "        raise ValueError(f\"Month '{comps[1]}' not recognized in '{date}', it must be among {tuple(HORUS_MONTH.keys())}\")\n",
    "    if comps[2] not in HORUS_SEASON.keys():\n",
    "        raise ValueError(f\"Season '{comps[2]}' not recognized in '{date}', it must be among {tuple(HORUS_SEASON.keys())}\")\n",
    "    if (int(comps[3])>30) or (int(comps[3])<1):\n",
    "        raise ValueError(f\"Day '{comps[3]}' out of range. It must be between [1,30]\")\n",
    "\n",
    "    return _horus_days(*comps)\n",
    "\n",
    "def _days_to_horus_date(hdays):\n",
    "    \"\"\"Convert from Horus days to civil date\n",
    "    \"\"\""
   ]
  },
  {
   "cell_type": "code",
   "execution_count": 353,
   "metadata": {},
   "outputs": [
    {
     "data": {
      "text/plain": [
       "(0, 30, 180, 180, 365180)"
      ]
     },
     "execution_count": 353,
     "metadata": {},
     "output_type": "execute_result"
    }
   ],
   "source": [
    "(_horus_days(0,'I','A',1),\n",
    "_horus_days(0,'II','A',1),\n",
    "_horus_days(0,'III','P',1),\n",
    "_horus_date_to_days('0-III-P-1'),\n",
    "_horus_date_to_days('hrw 1000-III-P-1'),\n",
    ")"
   ]
  },
  {
   "cell_type": "code",
   "execution_count": 348,
   "metadata": {},
   "outputs": [
    {
     "data": {
      "text/plain": [
       "'1000'"
      ]
     },
     "execution_count": 348,
     "metadata": {},
     "output_type": "execute_result"
    }
   ],
   "source": [
    "'hrw 1000'.strip('hHrw ')"
   ]
  },
  {
   "cell_type": "code",
   "execution_count": 387,
   "metadata": {},
   "outputs": [
    {
     "data": {
      "text/plain": [
       "Time('0139-07-19 00:00:00.0000'/'139-07-20 00:00:00'/JED 1772027.5/JTD 1772027.6066806)"
      ]
     },
     "execution_count": 387,
     "metadata": {},
     "output_type": "execute_result"
    }
   ],
   "source": [
    "mtime_apk1 = montu.Time('139-07-20 00:00:00',calendar='mixed')\n",
    "mtime_apk1"
   ]
  },
  {
   "cell_type": "code",
   "execution_count": 388,
   "metadata": {},
   "outputs": [
    {
     "data": {
      "text/plain": [
       "Time('-2781-06-27 00:00:00.0000'/'-2781-07-20 00:00:00'/JED 705497.5/JTD 705498.2838125)"
      ]
     },
     "execution_count": 388,
     "metadata": {},
     "output_type": "execute_result"
    }
   ],
   "source": [
    "mtime_apk2 = mtime_apk1.sub(2*1461*montu.CALYEAR).get_readable()\n",
    "mtime_apk2"
   ]
  },
  {
   "cell_type": "code",
   "execution_count": 389,
   "metadata": {},
   "outputs": [
    {
     "data": {
      "text/plain": [
       "705498.2838125"
      ]
     },
     "execution_count": 389,
     "metadata": {},
     "output_type": "execute_result"
    }
   ],
   "source": [
    "mtime_apk2.jtd"
   ]
  },
  {
   "cell_type": "code",
   "execution_count": 390,
   "metadata": {},
   "outputs": [
    {
     "name": "stdout",
     "output_type": "stream",
     "text": [
      "Montu Time Object:\n",
      "-------------------------- \n",
      "Readable:\n",
      "    Date in proleptic UTC: -2781-06-27 00:00:00.0000\n",
      "    Date in mixed UTC: -2781-07-20 00:00:00\n",
      "    Date in SPICE format: 2782 B.C. 06-27 00:00:00.00\n",
      "    Date in caniucular format: hrw 0-I-Akhet-1\n",
      "    Components: [-1, 2781, 6, 27, 0, 0, 0, 0]\n",
      "Objects:\n",
      "    Date in datetime64 format: -2781-06-27T00:00:00.000000\n",
      "    Date in PyPlanet Epoch: 705497.5\n",
      "    Date in PyEphem Epoch: -2782/7/20 00:00:00\n",
      "General:\n",
      "    Is bce: True\n",
      "    Is Julian: True\n",
      "Uniform scales:\n",
      "    Terrestrial time:\n",
      "        tt: -150858436278.6\n",
      "        jtd: 705498.2838125\n",
      "        htd: 0.7838124999543652\n",
      "    UTC time:\n",
      "        et: -150858504000.0\n",
      "        jed: 705497.5\n",
      "        hed: 0.0\n",
      "    Delta-t = TT - UTC = 67721.4\n",
      "\n"
     ]
    }
   ],
   "source": [
    "print(mtime_apk2.get_readable())"
   ]
  },
  {
   "cell_type": "code",
   "execution_count": 386,
   "metadata": {},
   "outputs": [
    {
     "ename": "AttributeError",
     "evalue": "module 'montu' has no attribute 'JED_APOKATASTASIS'",
     "output_type": "error",
     "traceback": [
      "\u001b[0;31m---------------------------------------------------------------------------\u001b[0m",
      "\u001b[0;31mAttributeError\u001b[0m                            Traceback (most recent call last)",
      "\u001b[1;32m/home/jzuluaga/EgyptianAstronomy/MontuPython/dev/test-calendar.ipynb Cell 26\u001b[0m line \u001b[0;36m1\n\u001b[0;32m----> <a href='vscode-notebook-cell:/home/jzuluaga/EgyptianAstronomy/MontuPython/dev/test-calendar.ipynb#Y154sZmlsZQ%3D%3D?line=0'>1</a>\u001b[0m montu\u001b[39m.\u001b[39;49mJED_APOKATASTASIS\u001b[39m-\u001b[39mmontu\u001b[39m.\u001b[39mJTD_APOKATASTASIS\n",
      "\u001b[0;31mAttributeError\u001b[0m: module 'montu' has no attribute 'JED_APOKATASTASIS'"
     ]
    }
   ],
   "source": [
    "montu.JED_APOKATASTASIS-montu.JTD_APOKATASTASIS"
   ]
  },
  {
   "cell_type": "code",
   "execution_count": 282,
   "metadata": {},
   "outputs": [],
   "source": [
    "JED_APOKATASTASIS = 705497.5"
   ]
  },
  {
   "cell_type": "code",
   "execution_count": 283,
   "metadata": {},
   "outputs": [
    {
     "data": {
      "text/plain": [
       "Time('-2781-06-27 00:00:00.0000'/'-2781-07-20 00:00:00'/JED 705497.5/JTD 705498.2838125)"
      ]
     },
     "execution_count": 283,
     "metadata": {},
     "output_type": "execute_result"
    }
   ],
   "source": [
    "mtime = montu.Time('-2781-07-20 00:00:00',calendar='mixed')\n",
    "mtime"
   ]
  },
  {
   "cell_type": "code",
   "execution_count": 284,
   "metadata": {},
   "outputs": [
    {
     "data": {
      "text/plain": [
       "0.0"
      ]
     },
     "execution_count": 284,
     "metadata": {},
     "output_type": "execute_result"
    }
   ],
   "source": [
    "hd = mtime.jed - JED_APOKATASTASIS\n",
    "hd"
   ]
  },
  {
   "cell_type": "code",
   "execution_count": 285,
   "metadata": {},
   "outputs": [
    {
     "data": {
      "text/plain": [
       "(0, 0.0, 1, 0.0, 1, 1, '0-I-Akhet-1')"
      ]
     },
     "execution_count": 285,
     "metadata": {},
     "output_type": "execute_result"
    }
   ],
   "source": [
    "hy = int(hd/365)\n",
    "dy = hd%365\n",
    "s = int(dy/120) + 1\n",
    "ds = dy - 120*(s-1)\n",
    "m = int(ds/30) + 1\n",
    "d = int(ds - 30*(m-1)) + 1\n",
    "\n",
    "hy,dy,s,ds,m,d, str(hy) + \"-\" + MONTH_HORUS[str(s)] + \"-\" + SEASON_HORUS[str(s)] + \"-\" + str(d)"
   ]
  },
  {
   "cell_type": "code",
   "execution_count": 323,
   "metadata": {},
   "outputs": [],
   "source": [
    "JED_APOKATASTASIS = 705497.5\n",
    "\n",
    "def _horus_day_to_caniucular(hd):\n",
    "    \"\"\"Convert from Horus day to caniucular date\n",
    "\n",
    "    Parameters:\n",
    "        hd: int:\n",
    "            Horus days, ie. number of days since\n",
    "            2782 b.c.e. 07-20, which is the apokatastasis date\n",
    "            according to the reference date of Censorino\n",
    "            (see Lull, pag. 96)\n",
    "\n",
    "    Return:\n",
    "        cdate: string:\n",
    "            Caniucular date in the format CCYY-MM-SS-DD where: \n",
    "                CCYY: Horus year, 0 = 2782 bce.\n",
    "                MM: Number of month (I, II, III, IV)\n",
    "                SS: Name (letter of abreviation) of season:\n",
    "                    Akhet (akh,a), Peret (per,p), Shemu (she,s)\n",
    "                DD: Number of day\n",
    "    \"\"\"\n",
    "    hy = int(hd/365) \n",
    "    dy = hd%365\n",
    "    if dy<360:\n",
    "        s = int(dy/120) + 1\n",
    "        ds = dy - 120*(s-1)\n",
    "        m = int(ds/30) + 1\n",
    "        d = int(ds - 30*(m-1)) + 1\n",
    "        caniucular = str(hy) + \"h-\" + MONTH_HORUS[str(m)] + \"-\" + SEASON_HORUS[str(s)] + \"-\" + str(d)\n",
    "    else:\n",
    "        # Epagomenos\n",
    "        d = int(dy - 360 + 1)\n",
    "        caniucular = str(hy) + \"h-\" + \"I\" + \"-\" + SEASON_HORUS['0'] + \"-\" + str(d)\n",
    "    return caniucular\n",
    "\n",
    "def _mixed_to_caniucular(datemix):\n",
    "    \"\"\"Convert a mixed date to caniucular\n",
    "    \"\"\"\n",
    "    # Create montu.Time object\n",
    "    mtime = montu.Time(datemix,calendar='mixed')\n",
    "\n",
    "    # Compute yhe horus day\n",
    "    hd = mtime.jed - JED_APOKATASTASIS\n",
    "\n",
    "    # Compute the caniucular date\n",
    "    cdate = _horus_day_to_caniucular(hd)\n",
    "    return cdate\n"
   ]
  },
  {
   "cell_type": "code",
   "execution_count": 324,
   "metadata": {},
   "outputs": [
    {
     "data": {
      "text/plain": [
       "'0h-I-Akhet-1'"
      ]
     },
     "execution_count": 324,
     "metadata": {},
     "output_type": "execute_result"
    }
   ],
   "source": [
    "mtime = montu.Time('-2781-07-20 00:00:00',calendar='mixed')\n",
    "hd = mtime.jed - JED_APOKATASTASIS\n",
    "_horus_day_to_caniucular(hd)"
   ]
  },
  {
   "cell_type": "code",
   "execution_count": 335,
   "metadata": {},
   "outputs": [
    {
     "data": {
      "text/plain": [
       "('0h-I-Akhet-1',\n",
       " '1461h-I-Akhet-1',\n",
       " '2922h-I-Akhet-1',\n",
       " '2095h-II-Peret-10',\n",
       " '2460h-IV-Peret-1',\n",
       " '2460h-I-Akhet-1',\n",
       " '2546h-III-Shemu-7',\n",
       " '2571h-III-Shemu-7',\n",
       " '2545h-I-Peret-17',\n",
       " '3167h-III-Akhet-6')"
      ]
     },
     "execution_count": 335,
     "metadata": {},
     "output_type": "execute_result"
    }
   ],
   "source": [
    "(_mixed_to_caniucular('bce 2782-07-20'),#Apokatastasis I\n",
    "_mixed_to_caniucular('bce 1322-07-20'),#Apokatastasis II\n",
    "_mixed_to_caniucular('139-07-20'),#Apokatastasis III\n",
    "_mixed_to_caniucular('bce 688-07-20'),#Lull, 105\n",
    "_mixed_to_caniucular('bce 323-06-10'),#Lull, 96\n",
    "_mixed_to_caniucular('bce 324-11-12'),#Lull, 96\n",
    "_mixed_to_caniucular('bce 237-08-23'),#Lull, 96\n",
    "_mixed_to_caniucular('bce 212-08-17'),#Lull, 96\n",
    "_mixed_to_caniucular('bce 238-03-07'),#Lull, 97\n",
    "_mixed_to_caniucular('384-07-23'),#Lull, 98\n",
    ")"
   ]
  },
  {
   "cell_type": "code",
   "execution_count": 358,
   "metadata": {},
   "outputs": [
    {
     "data": {
      "text/plain": [
       "Time('-1321-07-08 00:00:00.0000'/'-1321-07-20 00:00:00'/JED 1238762.5/JTD 1238762.8651713)"
      ]
     },
     "execution_count": 358,
     "metadata": {},
     "output_type": "execute_result"
    }
   ],
   "source": [
    "montu.Time(montu.Time._horus_date_to_days('hrw 1461-I-Akhet-1') + JED_APOKATASTASIS,format='jd').get_readable()"
   ]
  },
  {
   "cell_type": "code",
   "execution_count": 373,
   "metadata": {},
   "outputs": [
    {
     "name": "stdout",
     "output_type": "stream",
     "text": [
      "Montu Time Object:\n",
      "-------------------------- \n",
      "Readable:\n",
      "    Date in proleptic UTC: -2781-06-27 12:00:00.0000\n",
      "    Date in mixed UTC: -2781-07-20 12:00:00\n",
      "    Date in SPICE format: 2782 B.C. 06-27 12:00:00.00\n",
      "    Date in caniucular format: hrw 0-I-Akhet-1\n",
      "    Components: [-1, 2781, 6, 27, 12, 0, 0, 0]\n",
      "Objects:\n",
      "    Date in datetime64 format: -2781-06-27T12:00:00.000000\n",
      "    Date in PyPlanet Epoch: 705498.0\n",
      "    Date in PyEphem Epoch: -2782/7/20 12:00:00\n",
      "General:\n",
      "    Is bce: True\n",
      "    Is Julian: True\n",
      "Uniform scales:\n",
      "    Terrestrial time:\n",
      "        tt: -150858393078.6\n",
      "        jtd: 705498.7838125\n",
      "    UTC time:\n",
      "        et: -150858460800.0\n",
      "        jed: 705498.0\n",
      "        hd: 0.5\n",
      "    Delta-t = TT - UTC = 67721.4\n",
      "\n"
     ]
    }
   ],
   "source": [
    "mtime = montu.Time('-2781-07-20 12:00:00',calendar='mixed')\n",
    "print(mtime)"
   ]
  },
  {
   "cell_type": "code",
   "execution_count": 371,
   "metadata": {},
   "outputs": [
    {
     "data": {
      "text/plain": [
       "'hrw 0-I-Akhet-1'"
      ]
     },
     "execution_count": 371,
     "metadata": {},
     "output_type": "execute_result"
    }
   ],
   "source": [
    "mtime.readable.datecan"
   ]
  },
  {
   "cell_type": "code",
   "execution_count": 369,
   "metadata": {},
   "outputs": [
    {
     "name": "stdout",
     "output_type": "stream",
     "text": [
      "644 µs ± 121 µs per loop (mean ± std. dev. of 7 runs, 1,000 loops each)\n"
     ]
    }
   ],
   "source": [
    "%timeit mtime = montu.Time('-2781-07-20',calendar='mixed')"
   ]
  },
  {
   "cell_type": "code",
   "execution_count": 360,
   "metadata": {},
   "outputs": [
    {
     "ename": "ValueError",
     "evalue": "Error parsing datetime string \"hrw 0-I-Akhet-1\" at position 0",
     "output_type": "error",
     "traceback": [
      "\u001b[0;31m---------------------------------------------------------------------------\u001b[0m",
      "\u001b[0;31mValueError\u001b[0m                                Traceback (most recent call last)",
      "\u001b[1;32m/home/jzuluaga/EgyptianAstronomy/MontuPython/dev/test-calendar.ipynb Cell 32\u001b[0m line \u001b[0;36m1\n\u001b[0;32m----> <a href='vscode-notebook-cell:/home/jzuluaga/EgyptianAstronomy/MontuPython/dev/test-calendar.ipynb#Y144sZmlsZQ%3D%3D?line=0'>1</a>\u001b[0m montu\u001b[39m.\u001b[39;49mTime(\u001b[39m'\u001b[39;49m\u001b[39mhrw 0-I-Akhet-1\u001b[39;49m\u001b[39m'\u001b[39;49m,calendar\u001b[39m=\u001b[39;49m\u001b[39m'\u001b[39;49m\u001b[39mcaniucular\u001b[39;49m\u001b[39m'\u001b[39;49m)\n",
      "File \u001b[0;32m/mnt/c/Users/jorge.zuluaga/Dropbox/MiInvestigacion/EgyptianAstronomy/MontuPython/montu/time.py:126\u001b[0m, in \u001b[0;36mTime.__init__\u001b[0;34m(self, date, format, scale, calendar, full)\u001b[0m\n\u001b[1;32m    121\u001b[0m \u001b[39mself\u001b[39m\u001b[39m.\u001b[39mcalendar \u001b[39m=\u001b[39m calendar\n\u001b[1;32m    123\u001b[0m \u001b[39mif\u001b[39;00m \u001b[39mformat\u001b[39m \u001b[39m==\u001b[39m \u001b[39m'\u001b[39m\u001b[39miso\u001b[39m\u001b[39m'\u001b[39m:\n\u001b[1;32m    124\u001b[0m \n\u001b[1;32m    125\u001b[0m     \u001b[39m# Parse string\u001b[39;00m\n\u001b[0;32m--> 126\u001b[0m     \u001b[39mself\u001b[39;49m\u001b[39m.\u001b[39;49m_parse_datestr(date)    \n\u001b[1;32m    128\u001b[0m     \u001b[39m# Date was provided as a string\u001b[39;00m\n\u001b[1;32m    129\u001b[0m     \u001b[39mif\u001b[39;00m calendar\u001b[39m==\u001b[39m\u001b[39m'\u001b[39m\u001b[39mproleptic\u001b[39m\u001b[39m'\u001b[39m:\n\u001b[1;32m    130\u001b[0m \n\u001b[1;32m    131\u001b[0m         \u001b[39m# Calculate deltat: you only need year and month\u001b[39;00m\n",
      "File \u001b[0;32m/mnt/c/Users/jorge.zuluaga/Dropbox/MiInvestigacion/EgyptianAstronomy/MontuPython/montu/time.py:263\u001b[0m, in \u001b[0;36mTime._parse_datestr\u001b[0;34m(self, date)\u001b[0m\n\u001b[1;32m    260\u001b[0m     \u001b[39mself\u001b[39m\u001b[39m.\u001b[39mreadable\u001b[39m.\u001b[39mdatepro \u001b[39m=\u001b[39m re\u001b[39m.\u001b[39msub(\u001b[39m'\u001b[39m\u001b[39m(\u001b[39m\u001b[39m\\\u001b[39m\u001b[39md+)\u001b[39m\u001b[39m\\\u001b[39m\u001b[39ms*b[\u001b[39m\u001b[39m\\\u001b[39m\u001b[39m.]*c[\u001b[39m\u001b[39m\\\u001b[39m\u001b[39m.]*e[\u001b[39m\u001b[39m\\\u001b[39m\u001b[39m.]*\u001b[39m\u001b[39m\\\u001b[39m\u001b[39ms*\u001b[39m\u001b[39m'\u001b[39m,subs2,\u001b[39mself\u001b[39m\u001b[39m.\u001b[39mreadable\u001b[39m.\u001b[39mdatepro\u001b[39m.\u001b[39mlower())\n\u001b[1;32m    262\u001b[0m \u001b[39m# Create calendar and datetime object\u001b[39;00m\n\u001b[0;32m--> 263\u001b[0m \u001b[39mself\u001b[39m\u001b[39m.\u001b[39mreadable\u001b[39m.\u001b[39mobj_datetime64 \u001b[39m=\u001b[39m np\u001b[39m.\u001b[39;49mdatetime64(\u001b[39mself\u001b[39;49m\u001b[39m.\u001b[39;49mreadable\u001b[39m.\u001b[39;49mdatepro)\n\u001b[1;32m    264\u001b[0m \u001b[39mself\u001b[39m\u001b[39m.\u001b[39mreadable\u001b[39m.\u001b[39mcomps \u001b[39m=\u001b[39m montu\u001b[39m.\u001b[39mUtil\u001b[39m.\u001b[39mdt2cal(\n\u001b[1;32m    265\u001b[0m     np\u001b[39m.\u001b[39mdatetime64(\u001b[39mself\u001b[39m\u001b[39m.\u001b[39mreadable\u001b[39m.\u001b[39mdatepro\u001b[39m.\u001b[39mstrip(\u001b[39m'\u001b[39m\u001b[39m-\u001b[39m\u001b[39m'\u001b[39m)),\n\u001b[1;32m    266\u001b[0m     bce\u001b[39m=\u001b[39m\u001b[39mself\u001b[39m\u001b[39m.\u001b[39mbce)\n\u001b[1;32m    268\u001b[0m \u001b[39m# Generate info\u001b[39;00m\n",
      "\u001b[0;31mValueError\u001b[0m: Error parsing datetime string \"hrw 0-I-Akhet-1\" at position 0"
     ]
    }
   ],
   "source": [
    "montu.Time('hrw 0-I-Akhet-1',calendar='caniucular')"
   ]
  },
  {
   "cell_type": "code",
   "execution_count": 337,
   "metadata": {},
   "outputs": [
    {
     "data": {
      "text/plain": [
       "'1461h-I-Akhet-1'"
      ]
     },
     "execution_count": 337,
     "metadata": {},
     "output_type": "execute_result"
    }
   ],
   "source": [
    "montu.Time._mixed_to_caniucular('bce 1322-07-20') #Apokatastasis II"
   ]
  },
  {
   "cell_type": "code",
   "execution_count": 288,
   "metadata": {},
   "outputs": [
    {
     "data": {
      "text/plain": [
       "(1.0, 705498.5, '0-I-Akhet-2')"
      ]
     },
     "execution_count": 288,
     "metadata": {},
     "output_type": "execute_result"
    }
   ],
   "source": [
    "mtime2 = mtime.add(1*montu.DAY)\n",
    "hd = mtime2.jed - JED_APOKATASTASIS\n",
    "hd, mtime2.jed, _horus_day_to_caniucular(hd)"
   ]
  },
  {
   "cell_type": "code",
   "execution_count": 295,
   "metadata": {},
   "outputs": [
    {
     "name": "stdout",
     "output_type": "stream",
     "text": [
      "|   Day | Gregorian            | Caniucular      |\n",
      "|-------|----------------------|-----------------|\n",
      "|     1 | -2720-07-20 00:00:00 | 61-I-Akhet-17   |\n",
      "|     2 | -2720-07-21 00:00:00 | 61-I-Akhet-18   |\n",
      "|     3 | -2720-07-22 00:01:01 | 61-I-Akhet-19   |\n",
      "|     4 | -2720-07-23 00:02:02 | 61-I-Akhet-20   |\n",
      "|     5 | -2720-07-24 00:03:03 | 61-I-Akhet-21   |\n",
      "|     6 | -2720-07-25 00:04:04 | 61-I-Akhet-22   |\n",
      "|     7 | -2720-07-26 00:05:05 | 61-I-Akhet-23   |\n",
      "|     8 | -2720-07-27 00:06:06 | 61-I-Akhet-24   |\n",
      "|     9 | -2720-07-28 00:07:07 | 61-I-Akhet-25   |\n",
      "|    10 | -2720-07-29 00:08:08 | 61-I-Akhet-26   |\n",
      "|    11 | -2720-07-30 00:09:09 | 61-I-Akhet-27   |\n",
      "|    12 | -2720-07-31 00:10:10 | 61-I-Akhet-28   |\n",
      "|    13 | -2720-08-01 00:11:11 | 61-I-Akhet-29   |\n",
      "|    14 | -2720-08-02 00:12:12 | 61-I-Akhet-30   |\n",
      "|    15 | -2720-08-03 00:13:13 | 61-II-Akhet-1   |\n",
      "|    16 | -2720-08-04 00:14:14 | 61-II-Akhet-2   |\n",
      "|    17 | -2720-08-05 00:15:15 | 61-II-Akhet-3   |\n",
      "|    18 | -2720-08-06 00:16:16 | 61-II-Akhet-4   |\n",
      "|    19 | -2720-08-07 00:17:17 | 61-II-Akhet-5   |\n",
      "|    20 | -2720-08-08 00:18:18 | 61-II-Akhet-6   |\n",
      "|    21 | -2720-08-09 00:19:19 | 61-II-Akhet-7   |\n",
      "|    22 | -2720-08-10 00:20:20 | 61-II-Akhet-8   |\n",
      "|    23 | -2720-08-11 00:21:21 | 61-II-Akhet-9   |\n",
      "|    24 | -2720-08-12 00:22:22 | 61-II-Akhet-10  |\n",
      "|    25 | -2720-08-13 00:23:23 | 61-II-Akhet-11  |\n",
      "|    26 | -2720-08-14 00:24:24 | 61-II-Akhet-12  |\n",
      "|    27 | -2720-08-15 00:25:25 | 61-II-Akhet-13  |\n",
      "|    28 | -2720-08-16 00:26:26 | 61-II-Akhet-14  |\n",
      "|    29 | -2720-08-17 00:27:27 | 61-II-Akhet-15  |\n",
      "|    30 | -2720-08-18 00:28:28 | 61-II-Akhet-16  |\n",
      "|    31 | -2720-08-19 00:29:29 | 61-II-Akhet-17  |\n",
      "|    32 | -2720-08-20 00:30:30 | 61-II-Akhet-18  |\n",
      "|    33 | -2720-08-21 00:31:31 | 61-II-Akhet-19  |\n",
      "|    34 | -2720-08-22 00:32:32 | 61-II-Akhet-20  |\n",
      "|    35 | -2720-08-23 00:33:33 | 61-II-Akhet-21  |\n",
      "|    36 | -2720-08-24 00:34:34 | 61-II-Akhet-22  |\n",
      "|    37 | -2720-08-25 00:35:35 | 61-II-Akhet-23  |\n",
      "|    38 | -2720-08-26 00:36:36 | 61-II-Akhet-24  |\n",
      "|    39 | -2720-08-27 00:37:37 | 61-II-Akhet-25  |\n",
      "|    40 | -2720-08-28 00:38:38 | 61-II-Akhet-26  |\n",
      "|    41 | -2720-08-29 00:39:39 | 61-II-Akhet-27  |\n",
      "|    42 | -2720-08-30 00:40:40 | 61-II-Akhet-28  |\n",
      "|    43 | -2720-08-31 00:41:41 | 61-II-Akhet-29  |\n",
      "|    44 | -2720-09-01 00:42:42 | 61-II-Akhet-30  |\n",
      "|    45 | -2720-09-02 00:43:43 | 61-III-Akhet-1  |\n",
      "|    46 | -2720-09-03 00:44:44 | 61-III-Akhet-2  |\n",
      "|    47 | -2720-09-04 00:45:45 | 61-III-Akhet-3  |\n",
      "|    48 | -2720-09-05 00:46:46 | 61-III-Akhet-4  |\n",
      "|    49 | -2720-09-06 00:47:47 | 61-III-Akhet-5  |\n",
      "|    50 | -2720-09-07 00:48:48 | 61-III-Akhet-6  |\n",
      "|    51 | -2720-09-08 00:49:49 | 61-III-Akhet-7  |\n",
      "|    52 | -2720-09-09 00:50:50 | 61-III-Akhet-8  |\n",
      "|    53 | -2720-09-10 00:51:51 | 61-III-Akhet-9  |\n",
      "|    54 | -2720-09-11 00:52:52 | 61-III-Akhet-10 |\n",
      "|    55 | -2720-09-12 00:53:53 | 61-III-Akhet-11 |\n",
      "|    56 | -2720-09-13 00:54:54 | 61-III-Akhet-12 |\n",
      "|    57 | -2720-09-14 00:55:55 | 61-III-Akhet-13 |\n",
      "|    58 | -2720-09-15 00:56:56 | 61-III-Akhet-14 |\n",
      "|    59 | -2720-09-16 00:57:57 | 61-III-Akhet-15 |\n",
      "|    60 | -2720-09-17 00:58:58 | 61-III-Akhet-16 |\n",
      "|    61 | -2720-09-18 00:59:59 | 61-III-Akhet-17 |\n",
      "|    62 | -2720-09-19 01:00:00 | 61-III-Akhet-18 |\n",
      "|    63 | -2720-09-20 01:01:01 | 61-III-Akhet-19 |\n",
      "|    64 | -2720-09-21 01:02:02 | 61-III-Akhet-20 |\n",
      "|    65 | -2720-09-22 01:03:03 | 61-III-Akhet-21 |\n",
      "|    66 | -2720-09-23 01:04:04 | 61-III-Akhet-22 |\n",
      "|    67 | -2720-09-24 01:05:05 | 61-III-Akhet-23 |\n",
      "|    68 | -2720-09-25 01:06:06 | 61-III-Akhet-24 |\n",
      "|    69 | -2720-09-26 01:07:07 | 61-III-Akhet-25 |\n",
      "|    70 | -2720-09-27 01:08:08 | 61-III-Akhet-26 |\n",
      "|    71 | -2720-09-28 01:09:09 | 61-III-Akhet-27 |\n",
      "|    72 | -2720-09-29 01:10:10 | 61-III-Akhet-28 |\n",
      "|    73 | -2720-09-30 01:11:11 | 61-III-Akhet-29 |\n",
      "|    74 | -2720-10-01 01:12:12 | 61-III-Akhet-30 |\n",
      "|    75 | -2720-10-02 01:12:12 | 61-IV-Akhet-1   |\n",
      "|    76 | -2720-10-03 01:13:13 | 61-IV-Akhet-2   |\n",
      "|    77 | -2720-10-04 01:14:14 | 61-IV-Akhet-3   |\n",
      "|    78 | -2720-10-05 01:15:15 | 61-IV-Akhet-4   |\n",
      "|    79 | -2720-10-06 01:16:16 | 61-IV-Akhet-5   |\n",
      "|    80 | -2720-10-07 01:17:17 | 61-IV-Akhet-6   |\n",
      "|    81 | -2720-10-08 01:18:18 | 61-IV-Akhet-7   |\n",
      "|    82 | -2720-10-09 01:19:19 | 61-IV-Akhet-8   |\n",
      "|    83 | -2720-10-10 01:20:20 | 61-IV-Akhet-9   |\n",
      "|    84 | -2720-10-11 01:21:21 | 61-IV-Akhet-10  |\n",
      "|    85 | -2720-10-12 01:22:22 | 61-IV-Akhet-11  |\n",
      "|    86 | -2720-10-13 01:23:23 | 61-IV-Akhet-12  |\n",
      "|    87 | -2720-10-14 01:24:24 | 61-IV-Akhet-13  |\n",
      "|    88 | -2720-10-15 01:25:25 | 61-IV-Akhet-14  |\n",
      "|    89 | -2720-10-16 01:26:26 | 61-IV-Akhet-15  |\n",
      "|    90 | -2720-10-17 01:27:27 | 61-IV-Akhet-16  |\n",
      "|    91 | -2720-10-18 01:28:28 | 61-IV-Akhet-17  |\n",
      "|    92 | -2720-10-19 01:29:29 | 61-IV-Akhet-18  |\n",
      "|    93 | -2720-10-20 01:30:30 | 61-IV-Akhet-19  |\n",
      "|    94 | -2720-10-21 01:31:31 | 61-IV-Akhet-20  |\n",
      "|    95 | -2720-10-22 01:32:32 | 61-IV-Akhet-21  |\n",
      "|    96 | -2720-10-23 01:33:33 | 61-IV-Akhet-22  |\n",
      "|    97 | -2720-10-24 01:34:34 | 61-IV-Akhet-23  |\n",
      "|    98 | -2720-10-25 01:35:35 | 61-IV-Akhet-24  |\n",
      "|    99 | -2720-10-26 01:36:36 | 61-IV-Akhet-25  |\n",
      "|   100 | -2720-10-27 01:37:37 | 61-IV-Akhet-26  |\n",
      "|   101 | -2720-10-28 01:38:38 | 61-IV-Akhet-27  |\n",
      "|   102 | -2720-10-29 01:39:39 | 61-IV-Akhet-28  |\n",
      "|   103 | -2720-10-30 01:40:40 | 61-IV-Akhet-29  |\n",
      "|   104 | -2720-10-31 01:41:41 | 61-IV-Akhet-30  |\n",
      "|   105 | -2720-11-01 01:42:42 | 61-I-Peret-1    |\n",
      "|   106 | -2720-11-02 01:43:43 | 61-I-Peret-2    |\n",
      "|   107 | -2720-11-03 01:44:44 | 61-I-Peret-3    |\n",
      "|   108 | -2720-11-04 01:45:45 | 61-I-Peret-4    |\n",
      "|   109 | -2720-11-05 01:46:46 | 61-I-Peret-5    |\n",
      "|   110 | -2720-11-06 01:47:47 | 61-I-Peret-6    |\n",
      "|   111 | -2720-11-07 01:48:48 | 61-I-Peret-7    |\n",
      "|   112 | -2720-11-08 01:49:49 | 61-I-Peret-8    |\n",
      "|   113 | -2720-11-09 01:50:50 | 61-I-Peret-9    |\n",
      "|   114 | -2720-11-10 01:51:51 | 61-I-Peret-10   |\n",
      "|   115 | -2720-11-11 01:52:52 | 61-I-Peret-11   |\n",
      "|   116 | -2720-11-12 01:53:53 | 61-I-Peret-12   |\n",
      "|   117 | -2720-11-13 01:54:54 | 61-I-Peret-13   |\n",
      "|   118 | -2720-11-14 01:55:55 | 61-I-Peret-14   |\n",
      "|   119 | -2720-11-15 01:56:56 | 61-I-Peret-15   |\n",
      "|   120 | -2720-11-16 01:57:57 | 61-I-Peret-16   |\n",
      "|   121 | -2720-11-17 01:58:58 | 61-I-Peret-17   |\n",
      "|   122 | -2720-11-18 01:59:59 | 61-I-Peret-18   |\n",
      "|   123 | -2720-11-19 02:00:00 | 61-I-Peret-19   |\n",
      "|   124 | -2720-11-20 02:01:01 | 61-I-Peret-20   |\n",
      "|   125 | -2720-11-21 02:02:02 | 61-I-Peret-21   |\n",
      "|   126 | -2720-11-22 02:03:03 | 61-I-Peret-22   |\n",
      "|   127 | -2720-11-23 02:04:04 | 61-I-Peret-23   |\n",
      "|   128 | -2720-11-24 02:05:05 | 61-I-Peret-24   |\n",
      "|   129 | -2720-11-25 02:06:06 | 61-I-Peret-25   |\n",
      "|   130 | -2720-11-26 02:07:07 | 61-I-Peret-26   |\n",
      "|   131 | -2720-11-27 02:08:08 | 61-I-Peret-27   |\n",
      "|   132 | -2720-11-28 02:09:09 | 61-I-Peret-28   |\n",
      "|   133 | -2720-11-29 02:10:10 | 61-I-Peret-29   |\n",
      "|   134 | -2720-11-30 02:11:11 | 61-I-Peret-30   |\n",
      "|   135 | -2720-12-01 02:12:12 | 61-II-Peret-1   |\n",
      "|   136 | -2720-12-02 02:13:13 | 61-II-Peret-2   |\n",
      "|   137 | -2720-12-03 02:14:14 | 61-II-Peret-3   |\n",
      "|   138 | -2720-12-04 02:15:15 | 61-II-Peret-4   |\n",
      "|   139 | -2720-12-05 02:16:16 | 61-II-Peret-5   |\n",
      "|   140 | -2720-12-06 02:17:17 | 61-II-Peret-6   |\n",
      "|   141 | -2720-12-07 02:18:18 | 61-II-Peret-7   |\n",
      "|   142 | -2720-12-08 02:19:19 | 61-II-Peret-8   |\n",
      "|   143 | -2720-12-09 02:20:20 | 61-II-Peret-9   |\n",
      "|   144 | -2720-12-10 02:21:21 | 61-II-Peret-10  |\n",
      "|   145 | -2720-12-11 02:22:22 | 61-II-Peret-11  |\n",
      "|   146 | -2720-12-12 02:23:23 | 61-II-Peret-12  |\n",
      "|   147 | -2720-12-13 02:24:24 | 61-II-Peret-13  |\n",
      "|   148 | -2720-12-14 02:24:24 | 61-II-Peret-14  |\n",
      "|   149 | -2720-12-15 02:25:25 | 61-II-Peret-15  |\n",
      "|   150 | -2720-12-16 02:26:26 | 61-II-Peret-16  |\n",
      "|   151 | -2720-12-17 02:27:27 | 61-II-Peret-17  |\n",
      "|   152 | -2720-12-18 02:28:28 | 61-II-Peret-18  |\n",
      "|   153 | -2720-12-19 02:29:29 | 61-II-Peret-19  |\n",
      "|   154 | -2720-12-20 02:30:30 | 61-II-Peret-20  |\n",
      "|   155 | -2720-12-21 02:31:31 | 61-II-Peret-21  |\n",
      "|   156 | -2720-12-22 02:32:32 | 61-II-Peret-22  |\n",
      "|   157 | -2720-12-23 02:33:33 | 61-II-Peret-23  |\n",
      "|   158 | -2720-12-24 02:34:34 | 61-II-Peret-24  |\n",
      "|   159 | -2720-12-25 02:35:35 | 61-II-Peret-25  |\n",
      "|   160 | -2720-12-26 02:36:36 | 61-II-Peret-26  |\n",
      "|   161 | -2720-12-27 02:37:37 | 61-II-Peret-27  |\n",
      "|   162 | -2720-12-28 02:38:38 | 61-II-Peret-28  |\n",
      "|   163 | -2720-12-29 02:39:39 | 61-II-Peret-29  |\n",
      "|   164 | -2720-12-30 02:40:40 | 61-II-Peret-30  |\n",
      "|   165 | -2720-12-31 02:41:41 | 61-III-Peret-1  |\n",
      "|   166 | -2719-01-01 02:42:42 | 61-III-Peret-2  |\n",
      "|   167 | -2719-01-02 02:43:43 | 61-III-Peret-3  |\n",
      "|   168 | -2719-01-03 02:44:44 | 61-III-Peret-4  |\n",
      "|   169 | -2719-01-04 02:45:45 | 61-III-Peret-5  |\n",
      "|   170 | -2719-01-05 02:46:46 | 61-III-Peret-6  |\n",
      "|   171 | -2719-01-06 02:47:47 | 61-III-Peret-7  |\n",
      "|   172 | -2719-01-07 02:48:48 | 61-III-Peret-8  |\n",
      "|   173 | -2719-01-08 02:49:49 | 61-III-Peret-9  |\n",
      "|   174 | -2719-01-09 02:50:50 | 61-III-Peret-10 |\n",
      "|   175 | -2719-01-10 02:51:51 | 61-III-Peret-11 |\n",
      "|   176 | -2719-01-11 02:52:52 | 61-III-Peret-12 |\n",
      "|   177 | -2719-01-12 02:53:53 | 61-III-Peret-13 |\n",
      "|   178 | -2719-01-13 02:54:54 | 61-III-Peret-14 |\n",
      "|   179 | -2719-01-14 02:55:55 | 61-III-Peret-15 |\n",
      "|   180 | -2719-01-15 02:56:56 | 61-III-Peret-16 |\n",
      "|   181 | -2719-01-16 02:57:57 | 61-III-Peret-17 |\n",
      "|   182 | -2719-01-17 02:58:58 | 61-III-Peret-18 |\n",
      "|   183 | -2719-01-18 02:59:59 | 61-III-Peret-19 |\n",
      "|   184 | -2719-01-19 03:00:00 | 61-III-Peret-20 |\n",
      "|   185 | -2719-01-20 03:01:01 | 61-III-Peret-21 |\n",
      "|   186 | -2719-01-21 03:02:02 | 61-III-Peret-22 |\n",
      "|   187 | -2719-01-22 03:03:03 | 61-III-Peret-23 |\n",
      "|   188 | -2719-01-23 03:04:04 | 61-III-Peret-24 |\n",
      "|   189 | -2719-01-24 03:05:05 | 61-III-Peret-25 |\n",
      "|   190 | -2719-01-25 03:06:06 | 61-III-Peret-26 |\n",
      "|   191 | -2719-01-26 03:07:07 | 61-III-Peret-27 |\n",
      "|   192 | -2719-01-27 03:08:08 | 61-III-Peret-28 |\n",
      "|   193 | -2719-01-28 03:09:09 | 61-III-Peret-29 |\n",
      "|   194 | -2719-01-29 03:10:10 | 61-III-Peret-30 |\n",
      "|   195 | -2719-01-30 03:11:11 | 61-IV-Peret-1   |\n",
      "|   196 | -2719-01-31 03:12:12 | 61-IV-Peret-2   |\n",
      "|   197 | -2719-02-01 03:13:13 | 61-IV-Peret-3   |\n",
      "|   198 | -2719-02-02 03:14:14 | 61-IV-Peret-4   |\n",
      "|   199 | -2719-02-03 03:15:15 | 61-IV-Peret-5   |\n",
      "|   200 | -2719-02-04 03:16:16 | 61-IV-Peret-6   |\n",
      "|   201 | -2719-02-05 03:17:17 | 61-IV-Peret-7   |\n",
      "|   202 | -2719-02-06 03:18:18 | 61-IV-Peret-8   |\n",
      "|   203 | -2719-02-07 03:19:19 | 61-IV-Peret-9   |\n",
      "|   204 | -2719-02-08 03:20:20 | 61-IV-Peret-10  |\n",
      "|   205 | -2719-02-09 03:21:21 | 61-IV-Peret-11  |\n",
      "|   206 | -2719-02-10 03:22:22 | 61-IV-Peret-12  |\n",
      "|   207 | -2719-02-11 03:23:23 | 61-IV-Peret-13  |\n",
      "|   208 | -2719-02-12 03:24:24 | 61-IV-Peret-14  |\n",
      "|   209 | -2719-02-13 03:25:25 | 61-IV-Peret-15  |\n",
      "|   210 | -2719-02-14 03:26:26 | 61-IV-Peret-16  |\n",
      "|   211 | -2719-02-15 03:27:27 | 61-IV-Peret-17  |\n",
      "|   212 | -2719-02-16 03:28:28 | 61-IV-Peret-18  |\n",
      "|   213 | -2719-02-17 03:29:29 | 61-IV-Peret-19  |\n",
      "|   214 | -2719-02-18 03:30:30 | 61-IV-Peret-20  |\n",
      "|   215 | -2719-02-19 03:31:31 | 61-IV-Peret-21  |\n",
      "|   216 | -2719-02-20 03:32:32 | 61-IV-Peret-22  |\n",
      "|   217 | -2719-02-21 03:33:33 | 61-IV-Peret-23  |\n",
      "|   218 | -2719-02-22 03:34:34 | 61-IV-Peret-24  |\n",
      "|   219 | -2719-02-23 03:35:35 | 61-IV-Peret-25  |\n",
      "|   220 | -2719-02-24 03:36:36 | 61-IV-Peret-26  |\n",
      "|   221 | -2719-02-25 03:36:36 | 61-IV-Peret-27  |\n",
      "|   222 | -2719-02-26 03:37:37 | 61-IV-Peret-28  |\n",
      "|   223 | -2719-02-27 03:38:38 | 61-IV-Peret-29  |\n",
      "|   224 | -2719-02-28 03:39:39 | 61-IV-Peret-30  |\n",
      "|   225 | -2719-03-01 03:40:40 | 61-I-Shemu-1    |\n",
      "|   226 | -2719-03-02 03:41:41 | 61-I-Shemu-2    |\n",
      "|   227 | -2719-03-03 03:42:42 | 61-I-Shemu-3    |\n",
      "|   228 | -2719-03-04 03:43:43 | 61-I-Shemu-4    |\n",
      "|   229 | -2719-03-05 03:44:44 | 61-I-Shemu-5    |\n",
      "|   230 | -2719-03-06 03:45:45 | 61-I-Shemu-6    |\n",
      "|   231 | -2719-03-07 03:46:46 | 61-I-Shemu-7    |\n",
      "|   232 | -2719-03-08 03:47:47 | 61-I-Shemu-8    |\n",
      "|   233 | -2719-03-09 03:48:48 | 61-I-Shemu-9    |\n",
      "|   234 | -2719-03-10 03:49:49 | 61-I-Shemu-10   |\n",
      "|   235 | -2719-03-11 03:50:50 | 61-I-Shemu-11   |\n",
      "|   236 | -2719-03-12 03:51:51 | 61-I-Shemu-12   |\n",
      "|   237 | -2719-03-13 03:52:52 | 61-I-Shemu-13   |\n",
      "|   238 | -2719-03-14 03:53:53 | 61-I-Shemu-14   |\n",
      "|   239 | -2719-03-15 03:54:54 | 61-I-Shemu-15   |\n",
      "|   240 | -2719-03-16 03:55:55 | 61-I-Shemu-16   |\n",
      "|   241 | -2719-03-17 03:56:56 | 61-I-Shemu-17   |\n",
      "|   242 | -2719-03-18 03:57:57 | 61-I-Shemu-18   |\n",
      "|   243 | -2719-03-19 03:58:58 | 61-I-Shemu-19   |\n",
      "|   244 | -2719-03-20 03:59:59 | 61-I-Shemu-20   |\n",
      "|   245 | -2719-03-21 04:00:00 | 61-I-Shemu-21   |\n",
      "|   246 | -2719-03-22 04:01:01 | 61-I-Shemu-22   |\n",
      "|   247 | -2719-03-23 04:02:02 | 61-I-Shemu-23   |\n",
      "|   248 | -2719-03-24 04:03:03 | 61-I-Shemu-24   |\n",
      "|   249 | -2719-03-25 04:04:04 | 61-I-Shemu-25   |\n",
      "|   250 | -2719-03-26 04:05:05 | 61-I-Shemu-26   |\n",
      "|   251 | -2719-03-27 04:06:06 | 61-I-Shemu-27   |\n",
      "|   252 | -2719-03-28 04:07:07 | 61-I-Shemu-28   |\n",
      "|   253 | -2719-03-29 04:08:08 | 61-I-Shemu-29   |\n",
      "|   254 | -2719-03-30 04:09:09 | 61-I-Shemu-30   |\n",
      "|   255 | -2719-03-31 04:10:10 | 61-II-Shemu-1   |\n",
      "|   256 | -2719-04-01 04:11:11 | 61-II-Shemu-2   |\n",
      "|   257 | -2719-04-02 04:12:12 | 61-II-Shemu-3   |\n",
      "|   258 | -2719-04-03 04:13:13 | 61-II-Shemu-4   |\n",
      "|   259 | -2719-04-04 04:14:14 | 61-II-Shemu-5   |\n",
      "|   260 | -2719-04-05 04:15:15 | 61-II-Shemu-6   |\n",
      "|   261 | -2719-04-06 04:16:16 | 61-II-Shemu-7   |\n",
      "|   262 | -2719-04-07 04:17:17 | 61-II-Shemu-8   |\n",
      "|   263 | -2719-04-08 04:18:18 | 61-II-Shemu-9   |\n",
      "|   264 | -2719-04-09 04:19:19 | 61-II-Shemu-10  |\n",
      "|   265 | -2719-04-10 04:20:20 | 61-II-Shemu-11  |\n",
      "|   266 | -2719-04-11 04:21:21 | 61-II-Shemu-12  |\n",
      "|   267 | -2719-04-12 04:22:22 | 61-II-Shemu-13  |\n",
      "|   268 | -2719-04-13 04:23:23 | 61-II-Shemu-14  |\n",
      "|   269 | -2719-04-14 04:24:24 | 61-II-Shemu-15  |\n",
      "|   270 | -2719-04-15 04:25:25 | 61-II-Shemu-16  |\n",
      "|   271 | -2719-04-16 04:26:26 | 61-II-Shemu-17  |\n",
      "|   272 | -2719-04-17 04:27:27 | 61-II-Shemu-18  |\n",
      "|   273 | -2719-04-18 04:28:28 | 61-II-Shemu-19  |\n",
      "|   274 | -2719-04-19 04:29:29 | 61-II-Shemu-20  |\n",
      "|   275 | -2719-04-20 04:30:30 | 61-II-Shemu-21  |\n",
      "|   276 | -2719-04-21 04:31:31 | 61-II-Shemu-22  |\n",
      "|   277 | -2719-04-22 04:32:32 | 61-II-Shemu-23  |\n",
      "|   278 | -2719-04-23 04:33:33 | 61-II-Shemu-24  |\n",
      "|   279 | -2719-04-24 04:34:34 | 61-II-Shemu-25  |\n",
      "|   280 | -2719-04-25 04:35:35 | 61-II-Shemu-26  |\n",
      "|   281 | -2719-04-26 04:36:36 | 61-II-Shemu-27  |\n",
      "|   282 | -2719-04-27 04:37:37 | 61-II-Shemu-28  |\n",
      "|   283 | -2719-04-28 04:38:38 | 61-II-Shemu-29  |\n",
      "|   284 | -2719-04-29 04:39:39 | 61-II-Shemu-30  |\n",
      "|   285 | -2719-04-30 04:40:40 | 61-III-Shemu-1  |\n",
      "|   286 | -2719-05-01 04:41:41 | 61-III-Shemu-2  |\n",
      "|   287 | -2719-05-02 04:42:42 | 61-III-Shemu-3  |\n",
      "|   288 | -2719-05-03 04:43:43 | 61-III-Shemu-4  |\n",
      "|   289 | -2719-05-04 04:44:44 | 61-III-Shemu-5  |\n",
      "|   290 | -2719-05-05 04:45:45 | 61-III-Shemu-6  |\n",
      "|   291 | -2719-05-06 04:46:46 | 61-III-Shemu-7  |\n",
      "|   292 | -2719-05-07 04:47:47 | 61-III-Shemu-8  |\n",
      "|   293 | -2719-05-08 04:48:48 | 61-III-Shemu-9  |\n",
      "|   294 | -2719-05-09 04:48:48 | 61-III-Shemu-10 |\n",
      "|   295 | -2719-05-10 04:49:49 | 61-III-Shemu-11 |\n",
      "|   296 | -2719-05-11 04:50:50 | 61-III-Shemu-12 |\n",
      "|   297 | -2719-05-12 04:51:51 | 61-III-Shemu-13 |\n",
      "|   298 | -2719-05-13 04:52:52 | 61-III-Shemu-14 |\n",
      "|   299 | -2719-05-14 04:53:53 | 61-III-Shemu-15 |\n",
      "|   300 | -2719-05-15 04:54:54 | 61-III-Shemu-16 |\n",
      "|   301 | -2719-05-16 04:55:55 | 61-III-Shemu-17 |\n",
      "|   302 | -2719-05-17 04:56:56 | 61-III-Shemu-18 |\n",
      "|   303 | -2719-05-18 04:57:57 | 61-III-Shemu-19 |\n",
      "|   304 | -2719-05-19 04:58:58 | 61-III-Shemu-20 |\n",
      "|   305 | -2719-05-20 04:59:59 | 61-III-Shemu-21 |\n",
      "|   306 | -2719-05-21 05:00:00 | 61-III-Shemu-22 |\n",
      "|   307 | -2719-05-22 05:01:01 | 61-III-Shemu-23 |\n",
      "|   308 | -2719-05-23 05:02:02 | 61-III-Shemu-24 |\n",
      "|   309 | -2719-05-24 05:03:03 | 61-III-Shemu-25 |\n",
      "|   310 | -2719-05-25 05:04:04 | 61-III-Shemu-26 |\n",
      "|   311 | -2719-05-26 05:05:05 | 61-III-Shemu-27 |\n",
      "|   312 | -2719-05-27 05:06:06 | 61-III-Shemu-28 |\n",
      "|   313 | -2719-05-28 05:07:07 | 61-III-Shemu-29 |\n",
      "|   314 | -2719-05-29 05:08:08 | 61-III-Shemu-30 |\n",
      "|   315 | -2719-05-30 05:09:09 | 61-IV-Shemu-1   |\n",
      "|   316 | -2719-05-31 05:10:10 | 61-IV-Shemu-2   |\n",
      "|   317 | -2719-06-01 05:11:11 | 61-IV-Shemu-3   |\n",
      "|   318 | -2719-06-02 05:12:12 | 61-IV-Shemu-4   |\n",
      "|   319 | -2719-06-03 05:13:13 | 61-IV-Shemu-5   |\n",
      "|   320 | -2719-06-04 05:14:14 | 61-IV-Shemu-6   |\n",
      "|   321 | -2719-06-05 05:15:15 | 61-IV-Shemu-7   |\n",
      "|   322 | -2719-06-06 05:16:16 | 61-IV-Shemu-8   |\n",
      "|   323 | -2719-06-07 05:17:17 | 61-IV-Shemu-9   |\n",
      "|   324 | -2719-06-08 05:18:18 | 61-IV-Shemu-10  |\n",
      "|   325 | -2719-06-09 05:19:19 | 61-IV-Shemu-11  |\n",
      "|   326 | -2719-06-10 05:20:20 | 61-IV-Shemu-12  |\n",
      "|   327 | -2719-06-11 05:21:21 | 61-IV-Shemu-13  |\n",
      "|   328 | -2719-06-12 05:22:22 | 61-IV-Shemu-14  |\n",
      "|   329 | -2719-06-13 05:23:23 | 61-IV-Shemu-15  |\n",
      "|   330 | -2719-06-14 05:24:24 | 61-IV-Shemu-16  |\n",
      "|   331 | -2719-06-15 05:25:25 | 61-IV-Shemu-17  |\n",
      "|   332 | -2719-06-16 05:26:26 | 61-IV-Shemu-18  |\n",
      "|   333 | -2719-06-17 05:27:27 | 61-IV-Shemu-19  |\n",
      "|   334 | -2719-06-18 05:28:28 | 61-IV-Shemu-20  |\n",
      "|   335 | -2719-06-19 05:29:29 | 61-IV-Shemu-21  |\n",
      "|   336 | -2719-06-20 05:30:30 | 61-IV-Shemu-22  |\n",
      "|   337 | -2719-06-21 05:31:31 | 61-IV-Shemu-23  |\n",
      "|   338 | -2719-06-22 05:32:32 | 61-IV-Shemu-24  |\n",
      "|   339 | -2719-06-23 05:33:33 | 61-IV-Shemu-25  |\n",
      "|   340 | -2719-06-24 05:34:34 | 61-IV-Shemu-26  |\n",
      "|   341 | -2719-06-25 05:35:35 | 61-IV-Shemu-27  |\n",
      "|   342 | -2719-06-26 05:36:36 | 61-IV-Shemu-28  |\n",
      "|   343 | -2719-06-27 05:37:37 | 61-IV-Shemu-29  |\n",
      "|   344 | -2719-06-28 05:38:38 | 61-IV-Shemu-30  |\n",
      "|   345 | -2719-06-29 05:39:39 | 61-I-Mesut-1    |\n",
      "|   346 | -2719-06-30 05:40:40 | 61-I-Mesut-2    |\n",
      "|   347 | -2719-07-01 05:41:41 | 61-I-Mesut-3    |\n",
      "|   348 | -2719-07-02 05:42:42 | 61-I-Mesut-4    |\n",
      "|   349 | -2719-07-03 05:43:43 | 61-I-Mesut-5    |\n",
      "|   350 | -2719-07-04 05:44:44 | 62-I-Akhet-1    |\n",
      "|   351 | -2719-07-05 05:45:45 | 62-I-Akhet-2    |\n",
      "|   352 | -2719-07-06 05:46:46 | 62-I-Akhet-3    |\n",
      "|   353 | -2719-07-07 05:47:47 | 62-I-Akhet-4    |\n",
      "|   354 | -2719-07-08 05:48:48 | 62-I-Akhet-5    |\n",
      "|   355 | -2719-07-09 05:49:49 | 62-I-Akhet-6    |\n",
      "|   356 | -2719-07-10 05:50:50 | 62-I-Akhet-7    |\n",
      "|   357 | -2719-07-11 05:51:51 | 62-I-Akhet-8    |\n",
      "|   358 | -2719-07-12 05:52:52 | 62-I-Akhet-9    |\n",
      "|   359 | -2719-07-13 05:53:53 | 62-I-Akhet-10   |\n",
      "|   360 | -2719-07-14 05:54:54 | 62-I-Akhet-11   |\n",
      "|   361 | -2719-07-15 05:55:55 | 62-I-Akhet-12   |\n",
      "|   362 | -2719-07-16 05:56:56 | 62-I-Akhet-13   |\n",
      "|   363 | -2719-07-17 05:57:57 | 62-I-Akhet-14   |\n",
      "|   364 | -2719-07-18 05:58:58 | 62-I-Akhet-15   |\n",
      "|   365 | -2719-07-19 05:59:59 | 62-I-Akhet-16   |\n",
      "|   366 | -2719-07-20 06:00:00 | 62-I-Akhet-17   |\n"
     ]
    }
   ],
   "source": [
    "mtime = montu.Time('-2720-07-20 00:00:00',calendar='mixed')\n",
    "dates = []\n",
    "SOTHIC_TO_JULIAN = 365.25/365\n",
    "for d in np.arange(0,366):\n",
    "    mtime2 = mtime.add(d*montu.DAY*SOTHIC_TO_JULIAN)\n",
    "    hd = mtime2.jed - JED_APOKATASTASIS\n",
    "    cdate = _horus_day_to_caniucular(hd)\n",
    "    dates += [{\n",
    "        'Day':d+1,\n",
    "        'Gregorian':mtime2.get_readable().readable.datemix,\n",
    "        'Caniucular':cdate,\n",
    "    }]\n",
    "TABLEDF(dates)"
   ]
  },
  {
   "cell_type": "markdown",
   "metadata": {},
   "source": [
    "### Testing lunar phases"
   ]
  },
  {
   "cell_type": "markdown",
   "metadata": {},
   "source": [
    "Date of festival in day 6 in Egypt (Lull, page 92):"
   ]
  },
  {
   "cell_type": "code",
   "execution_count": 441,
   "metadata": {},
   "outputs": [
    {
     "data": {
      "text/plain": [
       "(Object Moon positions:\n",
       " |           tt |         jed | Name   |   RAJ2000 |   DecJ2000 |   RAEpoch |   DecEpoch |   RAGeo |   DecGeo |       el |      az |\n",
       " |--------------|-------------|--------|-----------|------------|-----------|------------|---------|----------|----------|---------|\n",
       " | -70541396369 | 1.63509e+06 | Moon   |   16.2303 |    -17.139 |   14.1509 |   -9.11631 | 14.1833 | -8.84156 | -56.1375 | 290.625 |'\n",
       " Object Moon conditions:\n",
       " |           tt |         jed | Name   |      ha |   Vmag |   rise_time |   rise_az |    set_time |   set_az |   transit_time |   transit_el |   elongation |   earth_distance |   sun_distance | is_circumpolar   | is_neverup   |   angsize |   phase |    hlat |    hlon |   hlong |\n",
       " |--------------|-------------|--------|---------|--------|-------------|-----------|-------------|----------|----------------|--------------|--------------|------------------|----------------|------------------|--------------|-----------|---------|---------|---------|---------|\n",
       " | -70541396369 | 1.63509e+06 | Moon   | 9.87458 | -11.48 | 1.63509e+06 |   101.498 | 1.63509e+06 |  256.507 |    1.63509e+06 |      54.1849 |      68.1094 |       0.00249348 |        1.00162 | False            | False        |   1924.31 | 31.4659 | 4.26264 | 213.557 | 213.557 |',\n",
       " 68.10936737060547)"
      ]
     },
     "execution_count": 441,
     "metadata": {},
     "output_type": "execute_result"
    }
   ],
   "source": [
    "moon = montu.Planet('Moon')\n",
    "Tebas = montu.Observer(lat=24,lon=33)\n",
    "\n",
    "mtime = montu.Time('237 bce 08-23 00:00:00',calendar='mixed')\n",
    "moon.conditions_in_sky(at=mtime,observer=Tebas)\n",
    "moon, moon.condition.elongation"
   ]
  },
  {
   "cell_type": "markdown",
   "metadata": {},
   "source": [
    "After 25 civil years:"
   ]
  },
  {
   "cell_type": "code",
   "execution_count": 442,
   "metadata": {},
   "outputs": [
    {
     "data": {
      "text/plain": [
       "Time('-0211-08-13 00:00:00.0000'/'-211-08-17 00:00:00'/JED 1644218.5/JTD 1644218.6495243)"
      ]
     },
     "execution_count": 442,
     "metadata": {},
     "output_type": "execute_result"
    }
   ],
   "source": [
    "mtime.add(25*montu.CALYEAR).get_readable()"
   ]
  },
  {
   "cell_type": "markdown",
   "metadata": {},
   "source": [
    "Which is the date of the celebration in the time of Ptolomeus IV Filopator."
   ]
  },
  {
   "cell_type": "markdown",
   "metadata": {},
   "source": [
    "At the sixth day of the lunar cycle the elongation must be:"
   ]
  },
  {
   "cell_type": "code",
   "execution_count": 444,
   "metadata": {},
   "outputs": [
    {
     "data": {
      "text/plain": [
       "73.22033898305085"
      ]
     },
     "execution_count": 444,
     "metadata": {},
     "output_type": "execute_result"
    }
   ],
   "source": [
    "360/29.5*6"
   ]
  },
  {
   "cell_type": "code",
   "execution_count": 445,
   "metadata": {},
   "outputs": [
    {
     "data": {
      "text/plain": [
       "73.59571075439453"
      ]
     },
     "execution_count": 445,
     "metadata": {},
     "output_type": "execute_result"
    }
   ],
   "source": [
    "mtime = montu.Time('212 bce 08-17 00:00:00',calendar='mixed')\n",
    "moon.conditions_in_sky(at=mtime,observer=Tebas)\n",
    "moon.condition.elongation"
   ]
  },
  {
   "cell_type": "markdown",
   "metadata": {},
   "source": [
    "## Computation of lunar phases"
   ]
  },
  {
   "cell_type": "markdown",
   "metadata": {},
   "source": [
    "First quarters of 2023:"
   ]
  },
  {
   "cell_type": "code",
   "execution_count": 475,
   "metadata": {},
   "outputs": [
    {
     "data": {
      "text/plain": [
       "{'full1': ['2023-01-06 23:09:10.8000', 7.907907465007156, 5.96470835711807],\n",
       " 'last1': ['2023-01-15 02:11:35.3000', 8.126672363374382, 14.091380720492452],\n",
       " 'new1': ['2023-01-21 20:54:23.1000', 6.7797199985943735, 20.871100719086826],\n",
       " 'first1': ['2023-01-28 15:20:01.7000', 6.767808315809816, 27.638909034896642],\n",
       " 'full2': ['2023-02-05 18:29:51.7000', 8.131828685291111, 35.77073772018775],\n",
       " 'last2': ['2023-02-13 16:01:56.3000', 7.897275378461927, 43.66801309864968],\n",
       " 'new2': ['2023-02-20 07:06:56.9000', 6.628478765487671, 50.29649186413735],\n",
       " 'first2': ['2023-02-27 08:06:50.3000', 7.0415904857218266, 57.33808234985918]}"
      ]
     },
     "execution_count": 475,
     "metadata": {},
     "output_type": "execute_result"
    }
   ],
   "source": [
    "mtime = montu.Time('2023-01-01 00:00:00')\n",
    "montu.Moon.next_moon_quarters(since=mtime,output='datepro',numquarters=8)"
   ]
  },
  {
   "cell_type": "code",
   "execution_count": 476,
   "metadata": {},
   "outputs": [
    {
     "name": "stdout",
     "output_type": "stream",
     "text": [
      "2.17 ms ± 850 µs per loop (mean ± std. dev. of 7 runs, 1,000 loops each)\n"
     ]
    }
   ],
   "source": [
    "%timeit montu.Moon.next_moon_quarters(since=mtime,output='jed',numquarters=8)"
   ]
  },
  {
   "cell_type": "code",
   "execution_count": 478,
   "metadata": {},
   "outputs": [
    {
     "data": {
      "text/html": [
       "<div>\n",
       "<style scoped>\n",
       "    .dataframe tbody tr th:only-of-type {\n",
       "        vertical-align: middle;\n",
       "    }\n",
       "\n",
       "    .dataframe tbody tr th {\n",
       "        vertical-align: top;\n",
       "    }\n",
       "\n",
       "    .dataframe thead th {\n",
       "        text-align: right;\n",
       "    }\n",
       "</style>\n",
       "<table border=\"1\" class=\"dataframe\">\n",
       "  <thead>\n",
       "    <tr style=\"text-align: right;\">\n",
       "      <th></th>\n",
       "      <th>Quarter</th>\n",
       "      <th>Datetime</th>\n",
       "      <th>delta-t</th>\n",
       "      <th>delta-0</th>\n",
       "    </tr>\n",
       "  </thead>\n",
       "  <tbody>\n",
       "    <tr>\n",
       "      <th>0</th>\n",
       "      <td>full</td>\n",
       "      <td>2023-01-06 23:09:10.8000</td>\n",
       "      <td>7.90790746500715613</td>\n",
       "      <td>5.96470835711807013</td>\n",
       "    </tr>\n",
       "    <tr>\n",
       "      <th>1</th>\n",
       "      <td>last</td>\n",
       "      <td>2023-01-15 02:11:35.3000</td>\n",
       "      <td>8.12667236337438226</td>\n",
       "      <td>14.09138072049245238</td>\n",
       "    </tr>\n",
       "    <tr>\n",
       "      <th>2</th>\n",
       "      <td>new</td>\n",
       "      <td>2023-01-21 20:54:23.1000</td>\n",
       "      <td>6.77971999859437346</td>\n",
       "      <td>20.87110071908682585</td>\n",
       "    </tr>\n",
       "    <tr>\n",
       "      <th>3</th>\n",
       "      <td>first</td>\n",
       "      <td>2023-01-28 15:20:01.7000</td>\n",
       "      <td>6.76780831580981612</td>\n",
       "      <td>27.63890903489664197</td>\n",
       "    </tr>\n",
       "    <tr>\n",
       "      <th>4</th>\n",
       "      <td>full</td>\n",
       "      <td>2023-02-05 18:29:51.7000</td>\n",
       "      <td>8.13182868529111147</td>\n",
       "      <td>35.77073772018775344</td>\n",
       "    </tr>\n",
       "    <tr>\n",
       "      <th>5</th>\n",
       "      <td>last</td>\n",
       "      <td>2023-02-13 16:01:56.3000</td>\n",
       "      <td>7.89727537846192718</td>\n",
       "      <td>43.66801309864968061</td>\n",
       "    </tr>\n",
       "    <tr>\n",
       "      <th>6</th>\n",
       "      <td>new</td>\n",
       "      <td>2023-02-20 07:06:56.9000</td>\n",
       "      <td>6.62847876548767090</td>\n",
       "      <td>50.29649186413735151</td>\n",
       "    </tr>\n",
       "    <tr>\n",
       "      <th>7</th>\n",
       "      <td>first</td>\n",
       "      <td>2023-02-27 08:06:50.3000</td>\n",
       "      <td>7.04159048572182655</td>\n",
       "      <td>57.33808234985917807</td>\n",
       "    </tr>\n",
       "  </tbody>\n",
       "</table>\n",
       "</div>"
      ],
      "text/plain": [
       "  Quarter                  Datetime              delta-t               delta-0\n",
       "0    full  2023-01-06 23:09:10.8000  7.90790746500715613   5.96470835711807013\n",
       "1    last  2023-01-15 02:11:35.3000  8.12667236337438226  14.09138072049245238\n",
       "2     new  2023-01-21 20:54:23.1000  6.77971999859437346  20.87110071908682585\n",
       "3   first  2023-01-28 15:20:01.7000  6.76780831580981612  27.63890903489664197\n",
       "4    full  2023-02-05 18:29:51.7000  8.13182868529111147  35.77073772018775344\n",
       "5    last  2023-02-13 16:01:56.3000  7.89727537846192718  43.66801309864968061\n",
       "6     new  2023-02-20 07:06:56.9000  6.62847876548767090  50.29649186413735151\n",
       "7   first  2023-02-27 08:06:50.3000  7.04159048572182655  57.33808234985917807"
      ]
     },
     "execution_count": 478,
     "metadata": {},
     "output_type": "execute_result"
    }
   ],
   "source": [
    "mtime = montu.Time('2023-01-01 00:00:00')\n",
    "pd.DataFrame(montu.Moon.next_moon_quarters(since=mtime,output='datepro',numquarters=8,format='columns'))"
   ]
  },
  {
   "cell_type": "markdown",
   "metadata": {},
   "source": [
    "Other routines for the moon:"
   ]
  },
  {
   "cell_type": "code",
   "execution_count": 18,
   "metadata": {},
   "outputs": [
    {
     "data": {
      "text/plain": [
       "['apparent_ecliptical_pos',\n",
       " 'apparent_equatorial_pos',\n",
       " 'geocentric_ecliptical_pos',\n",
       " 'illuminated_fraction_disk',\n",
       " 'longitude_mean_ascending_node',\n",
       " 'longitude_mean_perigee',\n",
       " 'longitude_true_ascending_node',\n",
       " 'moon_librations',\n",
       " 'moon_maximum_declination',\n",
       " 'moon_passage_nodes',\n",
       " 'moon_perigee_apogee',\n",
       " 'moon_phase',\n",
       " 'moon_position_angle_axis',\n",
       " 'position_bright_limb']"
      ]
     },
     "execution_count": 18,
     "metadata": {},
     "output_type": "execute_result"
    }
   ],
   "source": [
    "montu.Util.get_methods(montu.pymeeus_Moon)"
   ]
  },
  {
   "cell_type": "markdown",
   "metadata": {},
   "source": [
    "Returning back to the Ptolomei:"
   ]
  },
  {
   "cell_type": "code",
   "execution_count": 474,
   "metadata": {},
   "outputs": [
    {
     "data": {
      "text/plain": [
       "{'first': ['-236-08-24 19:33:33', 6.695649390108883, 1.8146231442224234],\n",
       " 'full': ['-236-09-01 05:08:08', 7.399298035539687, 9.21392117976211],\n",
       " 'last': ['-236-09-09 09:29:29', 8.18161708698608, 17.39553826674819],\n",
       " 'new': ['-236-09-16 12:56:56', 7.143462132662535, 24.539000399410725]}"
      ]
     },
     "execution_count": 474,
     "metadata": {},
     "output_type": "execute_result"
    }
   ],
   "source": [
    "moon = montu.Planet('Moon')\n",
    "Tebas = montu.Observer(lat=24,lon=33)\n",
    "mtime = montu.Time('237 bce 08-23 00:00:00',calendar='mixed')\n",
    "quarter_dates = montu.Moon.next_moon_quarters(since=mtime,output='datemix',numquarters=4)\n",
    "quarter_dates"
   ]
  },
  {
   "cell_type": "code",
   "execution_count": 454,
   "metadata": {},
   "outputs": [
    {
     "data": {
      "text/plain": [
       "{'first': ['-211-08-18 11:46:46', 6.7300694161094725, 1.4906561214011163],\n",
       " 'full': ['-211-08-26 13:08:08', 8.057218122296035, 9.547874243697152],\n",
       " 'last': ['-211-09-03 11:30:30', 7.931733892066404, 17.479608135763556],\n",
       " 'new': ['-211-09-10 02:35:35', 6.628545432118699, 24.108153567882255]}"
      ]
     },
     "execution_count": 454,
     "metadata": {},
     "output_type": "execute_result"
    }
   ],
   "source": [
    "montu.Moon.next_moon_quarters(since=mtime.add(25*montu.CALYEAR),output='datemix',numquarters=4)"
   ]
  },
  {
   "cell_type": "markdown",
   "metadata": {},
   "source": [
    "## Developer storage"
   ]
  },
  {
   "cell_type": "code",
   "execution_count": null,
   "metadata": {},
   "outputs": [],
   "source": [
    "def next_moon_quarters(since=None,\n",
    "                  quarters=['new','first','full','last'],\n",
    "                  output='jed'):\n",
    "    \n",
    "    pyepoch = montu.pymeeus_Epoch(mtime.jed)\n",
    "\n",
    "    quarter_dates = dict()\n",
    "\n",
    "    for quarter in quarters:\n",
    "        quarter_pyepoch = montu.pymeeus_Moon.moon_phase(pyepoch,target=quarter)\n",
    "\n",
    "        # If before move search 29 days to the future\n",
    "        if float(quarter_pyepoch) < mtime.jed:\n",
    "            quarter_pyepoch=montu.pymeeus_Moon.moon_phase(quarter_pyepoch+29,target=quarter)\n",
    "        if float(quarter_pyepoch) > (mtime.jed + 30):\n",
    "            quarter_pyepoch=montu.pymeeus_Moon.moon_phase(quarter_pyepoch-58,target=quarter)\n",
    "\n",
    "        # Extract date\n",
    "        if output == 'jed':\n",
    "            return_value = float(quarter_pyepoch)\n",
    "        elif output == 'date':\n",
    "            return_value = quarter_pyepoch.get_full_date()\n",
    "        elif output == 'mtime':\n",
    "            return_value = montu.Time(float(quarter_pyepoch),format='jd').get_readable()\n",
    "        elif output == 'datepro':\n",
    "            return_value = montu.Time(float(quarter_pyepoch),format='jd').get_readable().readable.datepro\n",
    "        elif output == 'datemix':\n",
    "            return_value = montu.Time(float(quarter_pyepoch),format='jd').get_readable().readable.datemix\n",
    "        else:\n",
    "            raise ValueError(f\"Output format '{output}' not recognized (valid are 'jed', 'mtime')\")\n",
    "        quarter_dates[quarter] = return_value\n",
    "\n",
    "    if output in ['jed','date']:\n",
    "        quarter_dates = sorted(quarter_dates.items(),key=lambda x:x[1])\n",
    "\n",
    "    return quarter_dates"
   ]
  },
  {
   "cell_type": "code",
   "execution_count": null,
   "metadata": {},
   "outputs": [],
   "source": [
    "def next_moon_quarters2(since=None,\n",
    "                  quarters=['new','first','full','last'],\n",
    "                  output='jed'):\n",
    "    \n",
    "    quarter_dates = dict()\n",
    "    pyepoch = montu.pymeeus_Epoch(mtime.jed)\n",
    "\n",
    "    nquarters = 0\n",
    "    \n",
    "    # Prepare search\n",
    "    new_pyepoch = montu.pymeeus_Moon.moon_phase(pyepoch-15,target='new')\n",
    "    next_pyepoch = new_pyepoch\n",
    "    prev_pyepoch = next_pyepoch\n",
    "\n",
    "    print(\"Closest new':\",montu.Time(float(next_pyepoch),format='jd').get_readable().readable.datepro)\n",
    "    n = 1\n",
    "    while nquarters<4:\n",
    "        # Which is the next wuarter\n",
    "        quarter = quarters[n%4]\n",
    "        if quarter == 'new':\n",
    "            new_pyepoch = next_pyepoch\n",
    "        \n",
    "        print(f\"Reference:\",montu.Time(float(new_pyepoch),format='jd').get_readable().readable.datepro)\n",
    "        \n",
    "        # Search for next quarters\n",
    "        next_pyepoch = montu.pymeeus_Moon.moon_phase(new_pyepoch,target=quarter)\n",
    "        print(f\"\\tNext quarter '{quarter}':\",montu.Time(float(next_pyepoch),format='jd').get_readable().readable.datepro)\n",
    "        delta_quarter = float(next_pyepoch - prev_pyepoch)\n",
    "        print(f\"\\tTime to previous:\",delta_quarter)\n",
    "\n",
    "        # Check if quarter is posterior\n",
    "        if float(next_pyepoch) > mtime.jed:\n",
    "            delta_day = float(next_pyepoch - mtime.jed)\n",
    "            print(\"\\t\\tStored\")\n",
    "            # Extract date\n",
    "            if output == 'jed':\n",
    "                return_value = float(next_pyepoch)\n",
    "            elif output == 'date':\n",
    "                return_value = next_pyepoch.get_full_date()\n",
    "            elif output == 'mtime':\n",
    "                return_value = montu.Time(float(next_pyepoch),format='jd').get_readable()\n",
    "            elif output == 'datepro':\n",
    "                return_value = montu.Time(float(next_pyepoch),format='jd').get_readable().readable.datepro\n",
    "            elif output == 'datemix':\n",
    "                return_value = montu.Time(float(next_pyepoch),format='jd').get_readable().readable.datemix\n",
    "            else:\n",
    "                raise ValueError(f\"Output format '{output}' not recognized (valid are 'jed', 'mtime')\")\n",
    "            quarter_dates[quarter] = [return_value,delta_quarter,delta_day]\n",
    "            nquarters += 1\n",
    "        \n",
    "        # Sum \n",
    "        prev_pyepoch = next_pyepoch\n",
    "        n += 1\n",
    "        \n",
    "    return quarter_dates"
   ]
  },
  {
   "cell_type": "markdown",
   "metadata": {},
   "source": [
    "first full moon of a year"
   ]
  },
  {
   "cell_type": "code",
   "execution_count": null,
   "metadata": {},
   "outputs": [
    {
     "name": "stdout",
     "output_type": "stream",
     "text": [
      "Quarter 'new': 2022-11-23 22:58:19.1000\n",
      "Quarter 'first': 2022-11-30 14:37:39.1000\n",
      "Quarter 'full': 2022-12-08 04:09:22.1000\n",
      "Quarter 'last': 2022-12-16 08:57:19.8000\n"
     ]
    }
   ],
   "source": [
    "mtime = montu.Time('2022-12-01 00:00:00')\n",
    "pyepoch = montu.pymeeus_Epoch(mtime.jed)\n",
    "for quarter in 'new','first','full','last':\n",
    "    quarter_pyepoch = montu.pymeeus_Moon.moon_phase(pyepoch,target=quarter)\n",
    "    mtime_quarter = montu.Time(float(quarter_pyepoch),format='jd').get_readable()\n",
    "    print(f\"Quarter '{quarter}': {mtime_quarter.readable.datepro}\")"
   ]
  },
  {
   "cell_type": "markdown",
   "metadata": {},
   "source": [
    "This is the closest but I want the next"
   ]
  },
  {
   "cell_type": "code",
   "execution_count": null,
   "metadata": {},
   "outputs": [
    {
     "name": "stdout",
     "output_type": "stream",
     "text": [
      "Quarter 'last': 2022-12-16 08:57:19.8000\n"
     ]
    }
   ],
   "source": [
    "mtime = montu.Time('2022-12-01 00:00:00')\n",
    "pyepoch = montu.pymeeus_Epoch(mtime.jed)\n",
    "quarter_pyepoch = montu.pymeeus_Moon.moon_phase(pyepoch,target='new')\n",
    "print(f\"Quarter '{quarter}': {mtime_quarter.readable.datepro}\")"
   ]
  },
  {
   "cell_type": "code",
   "execution_count": null,
   "metadata": {},
   "outputs": [
    {
     "name": "stdout",
     "output_type": "stream",
     "text": [
      "Adjusting\n",
      "Quarter 'full': 2023-01-06 23:09:10.8000\n"
     ]
    }
   ],
   "source": [
    "mtime = montu.Time('2023-01-01 00:00:00')\n",
    "pyepoch = montu.pymeeus_Epoch(mtime.jed)\n",
    "\n",
    "quarter = 'new'\n",
    "quarter = 'full'\n",
    "quarter_pyepoch = montu.pymeeus_Moon.moon_phase(pyepoch,target=quarter)\n",
    "if float(quarter_pyepoch) < mtime.jed:\n",
    "    quarter_pyepoch=montu.pymeeus_Moon.moon_phase(quarter_pyepoch+29,target=quarter)\n",
    "if float(quarter_pyepoch) > (mtime.jed + 29.5):\n",
    "    quarter_pyepoch=montu.pymeeus_Moon.moon_phase(quarter_pyepoch-37,target=quarter)\n",
    "\n",
    "mtime_quarter = montu.Time(float(quarter_pyepoch),format='jd').get_readable()\n",
    "print(f\"Quarter '{quarter}': {mtime_quarter.readable.datepro}\")"
   ]
  },
  {
   "cell_type": "code",
   "execution_count": null,
   "metadata": {},
   "outputs": [
    {
     "name": "stdout",
     "output_type": "stream",
     "text": [
      "Closest new': 2023-01-21 20:54:23.1000\n",
      "Reference: 2023-01-21 20:54:23.1000\n",
      "\tNext quarter 'first': 2023-01-28 15:20:01.7000\n",
      "\tTime to previous: 6.767808315809816\n",
      "\t\tStored\n",
      "Reference: 2023-01-21 20:54:23.1000\n",
      "\tNext quarter 'full': 2023-02-05 18:29:51.7000\n",
      "\tTime to previous: 8.131828685291111\n",
      "\t\tStored\n",
      "Reference: 2023-01-21 20:54:23.1000\n",
      "\tNext quarter 'last': 2023-02-13 16:01:56.3000\n",
      "\tTime to previous: 7.897275378461927\n",
      "\t\tStored\n",
      "Reference: 2023-02-13 16:01:56.3000\n",
      "\tNext quarter 'new': 2023-02-20 07:06:56.9000\n",
      "\tTime to previous: 6.628478765487671\n",
      "\t\tStored\n"
     ]
    },
    {
     "data": {
      "text/plain": [
       "{'first': ['2023-01-28 15:20:01.7000', 6.767808315809816, 6.274325734935701],\n",
       " 'full': ['2023-02-05 18:29:51.7000', 8.131828685291111, 14.406154420226812],\n",
       " 'last': ['2023-02-13 16:01:56.3000', 7.897275378461927, 22.30342979868874],\n",
       " 'new': ['2023-02-20 07:06:56.9000', 6.628478765487671, 28.93190856417641]}"
      ]
     },
     "metadata": {},
     "output_type": "display_data"
    }
   ],
   "source": [
    "#mtime = montu.Time('2023-01-31 00:00:00')\n",
    "mtime = montu.Time('2023-01-22 08:45:00')\n",
    "next_moon_quarters2(since=mtime,output='datepro')"
   ]
  },
  {
   "cell_type": "code",
   "execution_count": null,
   "metadata": {},
   "outputs": [
    {
     "data": {
      "text/plain": [
       "{'new1': ['2023-01-21 20:54:23.1000', 6.7797199985943735, 20.506517419125885],\n",
       " 'first1': ['2023-01-28 15:20:01.7000', 6.767808315809816, 27.2743257349357],\n",
       " 'full1': ['2023-02-05 18:29:51.7000', 8.131828685291111, 35.40615442022681],\n",
       " 'last1': ['2023-02-13 16:01:56.3000', 7.897275378461927, 43.30342979868874],\n",
       " 'new2': ['2023-02-20 07:06:56.9000', 6.628478765487671, 49.93190856417641],\n",
       " 'first2': ['2023-02-27 08:06:50.3000', 7.0415904857218266, 56.97349904989824]}"
      ]
     },
     "metadata": {},
     "output_type": "display_data"
    }
   ],
   "source": [
    "mtime = montu.Time('2023-01-01 08:45:00')\n",
    "montu.Moon.next_moon_quarters(since=mtime,output='datepro',starting_at='new',numquarters=6)"
   ]
  },
  {
   "cell_type": "markdown",
   "metadata": {},
   "source": [
    "### Calendar development"
   ]
  },
  {
   "cell_type": "code",
   "execution_count": null,
   "metadata": {},
   "outputs": [],
   "source": []
  }
 ],
 "metadata": {
  "kernelspec": {
   "display_name": "Python 3",
   "language": "python",
   "name": "python3"
  },
  "language_info": {
   "codemirror_mode": {
    "name": "ipython",
    "version": 3
   },
   "file_extension": ".py",
   "mimetype": "text/x-python",
   "name": "python",
   "nbconvert_exporter": "python",
   "pygments_lexer": "ipython3",
   "version": "3.9.16"
  }
 },
 "nbformat": 4,
 "nbformat_minor": 2
}
