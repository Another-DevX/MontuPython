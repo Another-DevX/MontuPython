{
 "cells": [
  {
   "cell_type": "markdown",
   "metadata": {},
   "source": [
    "# Montu Python \n",
    "## Astronomical ephemerides for the Ancient World\n",
    "## Test file: testing new version of `MontuPython`\n"
   ]
  },
  {
   "cell_type": "code",
   "execution_count": 61,
   "metadata": {},
   "outputs": [
    {
     "name": "stdout",
     "output_type": "stream",
     "text": [
      "Loading kernel latest_leapseconds.tls\n",
      "Loading kernel de441_part-1.bsp\n",
      "Loading kernel de441_part-2.bsp\n",
      "Loading local kernel frame.tk\n",
      "Loading local kernel pck00011.tpc\n",
      "Loading local kernel earth_assoc_itrf93.tf\n",
      "The autoreload extension is already loaded. To reload it, use:\n",
      "  %reload_ext autoreload\n"
     ]
    }
   ],
   "source": [
    "from montu import *\n",
    "Montu.load_kernels()\n",
    "%load_ext autoreload\n",
    "%autoreload 2"
   ]
  },
  {
   "cell_type": "code",
   "execution_count": 18,
   "metadata": {},
   "outputs": [
    {
     "data": {
      "text/plain": [
       "'0.4.0'"
      ]
     },
     "execution_count": 18,
     "metadata": {},
     "output_type": "execute_result"
    }
   ],
   "source": [
    "version"
   ]
  },
  {
   "cell_type": "markdown",
   "metadata": {},
   "source": [
    "Reference values for the tests:"
   ]
  },
  {
   "cell_type": "code",
   "execution_count": 174,
   "metadata": {},
   "outputs": [],
   "source": [
    "# Near to Aswan\n",
    "lat0 = 24.0 # deg\n",
    "lon0 = 33.0 # deg\n",
    "height0 = 0.0 # km\n",
    "\n",
    "# Date\n",
    "year0 = -2500 # 2501 b.c.e."
   ]
  },
  {
   "cell_type": "markdown",
   "metadata": {},
   "source": [
    "## Stars"
   ]
  },
  {
   "cell_type": "markdown",
   "metadata": {},
   "source": [
    "Get all stars:"
   ]
  },
  {
   "cell_type": "code",
   "execution_count": 19,
   "metadata": {},
   "outputs": [],
   "source": [
    "allstars = Stars()"
   ]
  },
  {
   "cell_type": "markdown",
   "metadata": {},
   "source": []
  },
  {
   "cell_type": "markdown",
   "metadata": {},
   "source": [
    "Filter stars:"
   ]
  },
  {
   "cell_type": "code",
   "execution_count": 20,
   "metadata": {},
   "outputs": [
    {
     "data": {
      "text/html": [
       "<table border=\"1\" class=\"dataframe\">\n",
       "  <thead>\n",
       "    <tr style=\"text-align: right;\">\n",
       "      <th></th>\n",
       "      <th>StarID</th>\n",
       "      <th>Hip</th>\n",
       "      <th>HD</th>\n",
       "      <th>HR</th>\n",
       "      <th>Gliese</th>\n",
       "      <th>BayerFlamsteed</th>\n",
       "      <th>ProperName</th>\n",
       "      <th>RA</th>\n",
       "      <th>Dec</th>\n",
       "      <th>Distance</th>\n",
       "      <th>Mag</th>\n",
       "      <th>AbsMag</th>\n",
       "      <th>Spectrum</th>\n",
       "      <th>ColorIndex</th>\n",
       "    </tr>\n",
       "  </thead>\n",
       "  <tbody>\n",
       "    <tr>\n",
       "      <th>15107</th>\n",
       "      <td>15108</td>\n",
       "      <td>21421</td>\n",
       "      <td>29139.0</td>\n",
       "      <td>1457.0</td>\n",
       "      <td>Gl 171.1A</td>\n",
       "      <td>87Alp Tau</td>\n",
       "      <td>Aldebaran</td>\n",
       "      <td>4.59866679000000023</td>\n",
       "      <td>16.50976164000000068</td>\n",
       "      <td>19.96406468356959962</td>\n",
       "      <td>0.87</td>\n",
       "      <td>-0.63124484155242799</td>\n",
       "      <td>K5III</td>\n",
       "      <td>1.53800000000000003</td>\n",
       "    </tr>\n",
       "  </tbody>\n",
       "</table>"
      ],
      "text/plain": [
       "<IPython.core.display.HTML object>"
      ]
     },
     "metadata": {},
     "output_type": "display_data"
    }
   ],
   "source": [
    "aldebaran = allstars.get_stars(ProperName='Aldebaran')\n",
    "Montu.print_df(aldebaran.data)"
   ]
  },
  {
   "cell_type": "markdown",
   "metadata": {},
   "source": [
    "All stars around Aldebaran:"
   ]
  },
  {
   "cell_type": "code",
   "execution_count": 21,
   "metadata": {},
   "outputs": [
    {
     "data": {
      "image/png": "[encoded data removed]",
      "text/plain": [
       "<Figure size 576x576 with 1 Axes>"
      ]
     },
     "metadata": {},
     "output_type": "display_data"
    }
   ],
   "source": [
    "hyades = allstars.get_stars_area(RA=aldebaran.data.RA,Dec=aldebaran.data.Dec,radius=10,Mag=[-1,10])\n",
    "fig = hyades.plot_stars(pad=0.0,labels=False,figargs=dict(figsize=(8,8)))"
   ]
  },
  {
   "cell_type": "markdown",
   "metadata": {},
   "source": [
    "## Dates"
   ]
  },
  {
   "cell_type": "code",
   "execution_count": 30,
   "metadata": {},
   "outputs": [
    {
     "name": "stdout",
     "output_type": "stream",
     "text": [
      "Proleptic tt\n",
      "Date astro: 2000-01-01 12:00:00.00\n",
      "Datetime64: 2000-01-01T12:00:00.000\n",
      "Calendar: [1, 2000, 1, 1, 12, 0, 0, 0]\n",
      "Datetime: 2000-01-01 12:00:00\n",
      "Date SPICE: 2000-01-01 12:00:00.00\n",
      "Mixed: (2000, 1, 1, 11, 58, 56.12615615129471)\n",
      "et =  -63.873832810897575\n",
      "JED =  2451544.9992607194\n",
      "Delta-t: 63.873832810959236\n",
      "tt =  6.16608986092615e-11\n",
      "JTD =  2451545.0\n",
      "\n",
      "Proleptic utc\n",
      "Date astro: 2000-01-01 12:00:00.00\n",
      "Datetime64: 2000-01-01T12:00:00.000\n",
      "Calendar: [1, 2000, 1, 1, 12, 0, 0, 0]\n",
      "Datetime: 2000-01-01 12:00:00\n",
      "Date SPICE: 2000-01-01 12:00:00.00\n",
      "Mixed: (2000, 1, 1, 12, 0, 0.0)\n",
      "et =  6.16608986092615e-11\n",
      "JED =  2451545.0\n",
      "Delta-t: 63.873832810959236\n",
      "tt =  63.8738328110209\n",
      "JTD =  2451545.0007392806\n",
      "\n",
      "Non-proleptic tt\n",
      "Date astro: 2000-01-01 12:00:00.0\n",
      "Datetime64: 2000-01-01T12:00:00.000\n",
      "Calendar: [1, 2000, 1, 1, 12, 0, 0, 0]\n",
      "Datetime: 2000-01-01 12:00:00\n",
      "Date SPICE: 2000-01-01 12:00:00.0\n",
      "Mixed: (2000, 1, 1, 12, 0, 0.0)\n",
      "et =  -63.873832810959236\n",
      "JED =  2451544.9992607194\n",
      "Delta-t: 63.873832810959236\n",
      "tt =  0.0\n",
      "JTD =  2451545.0\n",
      "\n",
      "Non-proleptic utc\n",
      "Date astro: 2000-01-01 12:00:00.0\n",
      "Datetime64: 2000-01-01T12:00:00.000\n",
      "Calendar: [1, 2000, 1, 1, 12, 0, 0, 0]\n",
      "Datetime: 2000-01-01 12:00:00\n",
      "Date SPICE: 2000-01-01 12:00:00.0\n",
      "Mixed: (2000, 1, 1, 12, 0, 0.0)\n",
      "et =  0.0\n",
      "JED =  2451545.0\n",
      "Delta-t: 63.873832810959236\n",
      "tt =  63.873832810959236\n",
      "JTD =  2451545.0007392806\n"
     ]
    }
   ],
   "source": [
    "mtime = MonTime('2000-01-01 12:00:00.00',format='iso',scale='tt',proleptic=True)\n",
    "print()\n",
    "mtime = MonTime('2000-01-01 12:00:00.00',format='iso',scale='utc',proleptic=True)\n",
    "print()\n",
    "mtime = MonTime('2000-01-01 12:00:00.00',format='iso',scale='tt',proleptic=False)\n",
    "print()\n",
    "mtime = MonTime('2000-01-01 12:00:00.00',format='iso',scale='utc',proleptic=False)"
   ]
  },
  {
   "cell_type": "code",
   "execution_count": 31,
   "metadata": {},
   "outputs": [
    {
     "name": "stdout",
     "output_type": "stream",
     "text": [
      "Proleptic utc\n",
      "Date astro: -2500-01-01 12:00:00.00\n",
      "Datetime64: -2500-01-01T12:00:00.000\n",
      "Calendar: [-1, 2500, 1, 1, 12, 0, 0, 0]\n",
      "Datetime: 2500-01-01 12:00:00\n",
      "Date SPICE: 2501 B.C. 01-01 12:00:00.000000\n",
      "Mixed: (-2500, 1, 22, 11, 59, 59.99995976686478)\n",
      "et =  -142006262400.00003\n",
      "JED =  807953.9999999995\n",
      "Delta-t: 59699.68000000001\n",
      "tt =  -142006202700.32004\n",
      "JTD =  807954.6909685181\n",
      "\n",
      "Non-proleptic utc\n",
      "Date astro: -2501-12-11 12:00:00.0\n",
      "Datetime64: -2501-12-11T12:00:00.000\n",
      "Calendar: [-1, 2501, 12, 11, 12, 0, 0, 0]\n",
      "Datetime: 2501-12-11 12:00:00\n",
      "Date SPICE: 2502 B.C. 12-11 12:00:00.000000\n",
      "Mixed: (-2500, 1, 1, 12, 0, 0.0)\n",
      "et =  -142008076800.0\n",
      "JED =  807933.0\n",
      "Delta-t: 59699.68000000001\n",
      "tt =  -142008017100.32\n",
      "JTD =  807933.6909685185\n",
      "\n",
      "Proleptic tt\n",
      "Date astro: -2500-01-01 12:00:00.00\n",
      "Datetime64: -2500-01-01T12:00:00.000\n",
      "Calendar: [-1, 2500, 1, 1, 12, 0, 0, 0]\n",
      "Datetime: 2500-01-01 12:00:00\n",
      "Date SPICE: 2501 B.C. 01-01 12:00:00.000000\n",
      "Mixed: (-2500, 1, 21, 19, 25, 0.31997188925743103)\n",
      "et =  -142006322099.68002\n",
      "JED =  807953.3090314812\n",
      "Delta-t: 59699.68000000001\n",
      "tt =  -142006262400.00003\n",
      "JTD =  807953.9999999995\n",
      "\n",
      "Non-proleptic tt\n",
      "Date astro: -2501-12-11 12:00:00.0\n",
      "Datetime64: -2501-12-11T12:00:00.000\n",
      "Calendar: [-1, 2501, 12, 11, 12, 0, 0, 0]\n",
      "Datetime: 2501-12-11 12:00:00\n",
      "Date SPICE: 2502 B.C. 12-11 12:00:00.000000\n",
      "Mixed: (-2500, 1, 1, 12, 0, 0.0)\n",
      "et =  -142008136499.68\n",
      "JED =  807932.3090314815\n",
      "Delta-t: 59699.68000000001\n",
      "tt =  -142008076800.0\n",
      "JTD =  807933.0\n",
      "\n"
     ]
    }
   ],
   "source": [
    "mtime = MonTime('-2500-01-01 12:00:00.00',format='iso',scale='utc',proleptic=True)\n",
    "print()\n",
    "mtime = MonTime('-2500-01-01 12:00:00.00',format='iso',scale='utc',proleptic=False)\n",
    "print()\n",
    "mtime = MonTime('-2500-01-01 12:00:00.00',format='iso',scale='tt',proleptic=True)\n",
    "print()\n",
    "mtime = MonTime('-2500-01-01 12:00:00.00',format='iso',scale='tt',proleptic=False)\n",
    "print()"
   ]
  },
  {
   "cell_type": "code",
   "execution_count": 33,
   "metadata": {},
   "outputs": [
    {
     "name": "stdout",
     "output_type": "stream",
     "text": [
      "Date astro: -2500-01-01 12:00:00.0\n",
      "Datetime64: -2500-01-01T12:00:00.000\n",
      "Calendar: [-1, 2500, 1, 1, 12, 0, 0, 0]\n",
      "Datetime: 2500-01-01 12:00:00\n",
      "Date SPICE: 2501 B.C. 01-01 12:00:00.000000\n",
      "Mixed: (-2500, 1, 22, 12, 0, 0.0)\n",
      "et =  -142006322099.68\n",
      "JED =  807953.3090314815\n",
      "Delta-t: 59699.68000000001\n",
      "tt =  -142006262400.0\n",
      "JTD =  807954\n",
      "\n",
      "Date astro: -2500-01-01 12:00:00.0\n",
      "Datetime64: -2500-01-01T12:00:00.000\n",
      "Calendar: [-1, 2500, 1, 1, 12, 0, 0, 0]\n",
      "Datetime: 2500-01-01 12:00:00\n",
      "Date SPICE: 2501 B.C. 01-01 12:00:00.000000\n",
      "Mixed: (-2500, 1, 22, 12, 0, 0.0)\n",
      "et =  -142006262400.0\n",
      "JED =  807954\n",
      "Delta-t: 59699.68000000001\n",
      "tt =  -142006202700.32\n",
      "JTD =  807954.6909685185\n"
     ]
    }
   ],
   "source": [
    "mtime = MonTime(807954,format='jd',scale='tt',proleptic=True)\n",
    "print()\n",
    "mtime = MonTime(807954,format='jd',scale='utc',proleptic=True)"
   ]
  },
  {
   "cell_type": "code",
   "execution_count": 54,
   "metadata": {},
   "outputs": [
    {
     "name": "stdout",
     "output_type": "stream",
     "text": [
      "132 µs ± 383 ns per loop (mean ± std. dev. of 7 runs, 10,000 loops each)\n"
     ]
    }
   ],
   "source": [
    "%timeit MonTime(807954,format='jd',scale='tt',proleptic=True,verbose=False)"
   ]
  },
  {
   "cell_type": "code",
   "execution_count": 55,
   "metadata": {},
   "outputs": [
    {
     "name": "stdout",
     "output_type": "stream",
     "text": [
      "204 µs ± 1.49 µs per loop (mean ± std. dev. of 7 runs, 1,000 loops each)\n"
     ]
    }
   ],
   "source": [
    "%timeit MonTime('-2500-01-01 12:00:00.00',format='iso',scale='tt',proleptic=False,verbose=False)"
   ]
  },
  {
   "cell_type": "code",
   "execution_count": 56,
   "metadata": {},
   "outputs": [
    {
     "name": "stdout",
     "output_type": "stream",
     "text": [
      "130 µs ± 112 ns per loop (mean ± std. dev. of 7 runs, 10,000 loops each)\n"
     ]
    }
   ],
   "source": [
    "%timeit MonTime('-2500-01-01 12:00:00.00',format='iso',scale='tt',proleptic=True,verbose=False)"
   ]
  },
  {
   "cell_type": "code",
   "execution_count": 57,
   "metadata": {},
   "outputs": [
    {
     "data": {
      "text/plain": [
       "(array([[ 9.9999999772170789e-01,  6.1932310989079462e-05,\n",
       "          2.6850942970991007e-05],\n",
       "        [-6.1933062582113745e-05,  9.9999999769038916e-01,\n",
       "          2.7991380899483609e-05],\n",
       "        [-2.6849209338068896e-05, -2.7993043796858963e-05,\n",
       "          9.9999999924775473e-01]]),\n",
       " Angle(23.43929111137429))"
      ]
     },
     "execution_count": 57,
     "metadata": {},
     "output_type": "execute_result"
    }
   ],
   "source": [
    "mtime = MonTime('2000-01-01 12:00:00.00',format='iso',scale='tt',proleptic=True)\n",
    "mtime.M_J2000_Epoch,mtime.epsilon"
   ]
  },
  {
   "cell_type": "code",
   "execution_count": 58,
   "metadata": {},
   "outputs": [
    {
     "data": {
      "text/plain": [
       "(array([[ 1.                ,  0.                ,  0.                ],\n",
       "        [ 0.                ,  0.9174820620691818,  0.3977771559319137],\n",
       "        [ 0.                , -0.3977771559319137,  0.9174820620691818]]),\n",
       " 23.439291111111114)"
      ]
     },
     "execution_count": 58,
     "metadata": {},
     "output_type": "execute_result"
    }
   ],
   "source": [
    "M_J2000_ECLIPJ2000, np.arccos(M_J2000_ECLIPJ2000[1,1])*RAD"
   ]
  },
  {
   "cell_type": "markdown",
   "metadata": {},
   "source": [
    "## Planets"
   ]
  },
  {
   "cell_type": "code",
   "execution_count": 414,
   "metadata": {},
   "outputs": [],
   "source": [
    "from pyplanets.planets.mercury import Mercury as pyplanets_Mercury\n",
    "from pyplanets.planets.venus import Venus as pyplanets_Venus\n",
    "from pyplanets.planets.earth import Earth as pyplanets_Earth\n",
    "from pyplanets.planets.mars import Mars as pyplanets_Mars\n",
    "from pyplanets.planets.jupiter import Jupiter as pyplanets_Jupiter\n",
    "from pyplanets.planets.saturn import Saturn as pyplanets_Saturn\n",
    "from pyplanets.planets.uranus import Uranus as pyplanets_Uranus\n",
    "from pyplanets.planets.neptune import Neptune as pyplanets_Neptune\n",
    "\n",
    "#from astropy.coordinates import SkyCoord, EarthLocation, , FK5, ICRS\n",
    "from astropy.coordinates import EarthLocation as astropy_EarthLocation\n",
    "from astropy.coordinates import AltAz as astropy_AltAz\n",
    "from astropy.coordinates import SkyCoord as astropy_SkyCoord\n",
    "from astropy.coordinates import Angle as astropy_Angle\n",
    "\n",
    "class ObservingSite(object):\n",
    "    \"\"\"Create an observing site\n",
    "\n",
    "    Attributes:\n",
    "        \n",
    "        location: dictionary:\n",
    "            Geodetic coordinates of the Observing site:\n",
    "                lon: float [deg]: geodetic longitude\n",
    "                lat: float [deg]: geodetic latitude\n",
    "                elevation: float [km]: elevation\n",
    "\n",
    "        conditions: dictionary:\n",
    "            Physical conditions of the atmosphere on the observing site:\n",
    "                pressure: surface pressure.\n",
    "                temperature: surface temperature.\n",
    "                relative_humidity: humidity of the air.\n",
    "                obswl: observing band.\n",
    "\n",
    "        planet: PlanetaryBody:\n",
    "            Planetary body where the location is defined\n",
    "    \"\"\"\n",
    "    def __init__(self,\n",
    "                 planet=None,\n",
    "                 lon=0,lat=0,height=0,\n",
    "                 pressure=0,temperature=0,\n",
    "                 relative_humidity=0,obswl=1):\n",
    "\n",
    "        # Planet of the site\n",
    "        self.planet = planet\n",
    "\n",
    "        # Properties of the site\n",
    "        self.lon = lon\n",
    "        self.lat = lat\n",
    "        self.elevation = height\n",
    "        self.location = dict(lon=self.lon,lat=self.lat,elevation=self.elevation)\n",
    "\n",
    "        self.pressure = pressure\n",
    "        self.temperature = temperature\n",
    "        self.relative_humidity = relative_humidity\n",
    "        self.obswl = obswl\n",
    "\n",
    "        # Creation of site in astropy\n",
    "        location_kwargs = dict(lon=lon*monu.deg,lat=lat*monu.deg,height=height*monu.km)\n",
    "        physical_kwargs = dict(pressure=0*monu.hPa,temperature=0*monu.deg_C,\n",
    "                               relative_humidity=0,obswl=1*monu.micron),\n",
    "        self.astropy_site = astropy_EarthLocation(**location_kwargs)\n",
    "        \n",
    "        # Cartesian coordinates of the observer\n",
    "        self.pos_Fixed = np.array(list(self.astropy_site.value))\n",
    "\n",
    "        # Update site\n",
    "        mtime = MonTime(0,format='tt',scale='tt')\n",
    "        self.update_site(mtime)\n",
    "\n",
    "    def update_site(self,mtime):  \n",
    "        \"\"\"Update site\n",
    "        \"\"\"\n",
    "        # Epoch\n",
    "        self.epoch = mtime\n",
    "\n",
    "        # Rotation matrix\n",
    "        self.M_FRAME_J2000 = spy.pxform(self.planet.framebody,'J2000',self.epoch.tt)\n",
    "\n",
    "        # Position of observer in J2000\n",
    "        self.pos_J2000 = spy.mxv(self.M_FRAME_J2000,self.pos_Fixed)\n",
    "        self.pos_Epoch = spy.mxv(self.epoch.M_J2000_Epoch,self.pos_J2000)\n",
    "\n",
    "        # Alt. azimutal frame\n",
    "        self.frame = astropy_AltAz(obstime=self.epoch.astrotime,\n",
    "                                   location=self.astropy_site)\n",
    "        \n",
    "        # Update local reference frame vectors\n",
    "        normal=spy.surfnm(self.planet.Re,self.planet.Re,self.planet.Rp,self.pos_Fixed)\n",
    "        uy=spy.ucrss(np.array([0,0,1]),normal)\n",
    "        ux=spy.ucrss(normal,uy)\n",
    "        M_local_body=np.array(np.vstack((ux,uy,normal)).transpose().tolist())\n",
    "        M_body_local=spy.invert(M_local_body)\n",
    "\n",
    "class PlanetaryBody(object):\n",
    "    \"\"\"Create a planetary body\n",
    "\n",
    "    Examples: \n",
    "        earth = PlanetaryBody('399')\n",
    "        print(Earth.f)\n",
    "\n",
    "        mars = PlanetaryBody('mars')\n",
    "\n",
    "    \"\"\"\n",
    "\n",
    "    @lru_cache()\n",
    "    def __new__(cls,id):\n",
    "        \"\"\"This method is intended to avoid creating a new object with the same id\n",
    "        Instead this method create a clone of the previously created object.\n",
    "        \"\"\"\n",
    "        return super().__new__(cls)\n",
    "\n",
    "    def __init__(self,body):\n",
    "\n",
    "        self.body = body.upper()\n",
    "        \n",
    "        if self.body in PLANETARY_IDS.keys():\n",
    "            self.name = self.body.lower()\n",
    "            self.id = str(PLANETARY_IDS[self.body])\n",
    "        elif self.body in PLANETARY_NAMES.keys():\n",
    "            self.id = str(self.body)\n",
    "            self.name = PLANETARY_NAMES[self.id].lower()\n",
    "        else:\n",
    "            raise ValueError(f\"Planet '{self.body}' not recognized, check variable PLANETARY_NAMES\")\n",
    "        self.capital = self.name[0].upper() + self.name[1:]\n",
    "        self.framebody = f'IAU_{self.name.upper()}'\n",
    "\n",
    "        # Obtain object properties\n",
    "        try:\n",
    "            n,rs=spy.bodvrd(self.id,'RADII',3)\n",
    "        except:\n",
    "            n,rs=spy.bodvrd(self.id+'99','RADII',3)\n",
    "        self.Re=rs[0]\n",
    "        self.Rt=rs[1]\n",
    "        self.Rp=rs[2]\n",
    "        self.f=(self.Re-self.Rp)/self.Re\n",
    "\n",
    "        # Create object from PyPlanet\n",
    "        exec(f'self.pyplanet = pyplanets_{self.capital}')\n",
    "\n",
    "        # Create Horizons object\n",
    "        self.query_horizons = astropy_Horizons(id='4')\n",
    "\n",
    "        # No predicted yet\n",
    "        self.predict = False\n",
    "\n",
    "    def calculate_sky_position(self,mtime=None,site=None,method='Horizons',verbose=True):\n",
    "        \"\"\"Calculate position of a planet \n",
    "\n",
    "        Parameters:\n",
    "            mtime: MonTime:\n",
    "                Time when the position of the planet will be calculated.\n",
    "\n",
    "            site: Site:\n",
    "                Observing site w.r.t. position of the planet will be calculated.\n",
    "\n",
    "            method:\n",
    "                'Horizons': use astroquery.\n",
    "                'SPICE': use SPICE and kernels.\n",
    "                'vsop': use VSOP87 analytical theory.\n",
    "                'all': all methods\n",
    "        \"\"\"\n",
    "        if site is None:\n",
    "            raise ValueError(\"No site selected\")\n",
    "\n",
    "        # Update orientation of site\n",
    "        Montu.vprint(verbose,f\"Computing position of body '{self.name}' at epoch: jtd = {mtime.jtd} \")\n",
    "        if mtime.tt != site.epoch.tt:\n",
    "            Montu.vprint(verbose,f\"Updating orientation of site (old time {site.epoch.datespice}, new time {mtime.datespice})\")\n",
    "            site.update_site(mtime)\n",
    "\n",
    "        # Storing epoch\n",
    "        self.epoch = mtime\n",
    "            \n",
    "        # Check if all methods are asked\n",
    "        all_methods = True if method == 'all' else False\n",
    "\n",
    "        # Compute absolute coordinates (RA & Dec) at J2000 and epoch\n",
    "        if method == 'Horizons' or all_methods:            \n",
    "            Montu.vprint(verbose,\"Method 'Horizons':\")\n",
    "\n",
    "            # Query ephemerides\n",
    "            self.query_horizons.location = site.location\n",
    "            self.query_horizons.epochs = self.epoch.jed # Julian Day as it was UTC\n",
    "            ephemerides = self.query_horizons.ephemerides().to_pandas().loc[0]\n",
    "\n",
    "            # Sky coordinates in J2000\n",
    "            RAJ2000 = float(ephemerides.RA/15)\n",
    "            DecJ2000 = float(ephemerides.DEC)\n",
    "            self.eq_J2000 = astropy_SkyCoord(ra=RAJ2000*monu.deg,dec=DecJ2000*monu.deg)\n",
    "            Montu.vprint(verbose,\"\\tCoordinates @ J2000: \",self.eq_J2000.ra,self.eq_J2000.dec)\n",
    "\n",
    "            # Sky coordinates @ Epoch\n",
    "            RAEpoch = float(ephemerides.RA_app/15)\n",
    "            DecEpoch = float(ephemerides.DEC_app)\n",
    "            self.eq_epoch = astropy_SkyCoord(ra=RAEpoch*monu.deg,dec=DecEpoch*monu.deg)\n",
    "            Montu.vprint(verbose,f\"\\tCoordinates @ Epoch using SPICE : \",self.eq_epoch.ra,self.eq_epoch.dec)\n",
    "\n",
    "            # Apparent coordinates @ site\n",
    "            az = float(ephemerides.AZ)\n",
    "            el = float(ephemerides.EL)\n",
    "            self.azel = [astropy_Angle(az*monu.deg),astropy_Angle(el*monu.deg)]\n",
    "            Montu.vprint(verbose,f\"\\tLocal coordinates @ Epoch : \",self.azel[0],self.azel[1])\n",
    "\n",
    "        if method == 'SPICE' or all_methods:\n",
    "\n",
    "            Montu.vprint(verbose,\"Method 'SPICE':\")\n",
    "\n",
    "            # Retrieve positions in space\n",
    "            Montu.vprint(verbose,f\"\\tRetrieving position for planet where site is located '{site.planet.id}'\")\n",
    "            site_planet_SSBJ2000,lt = spy.spkezr(site.planet.id,mtime.tt,'J2000','None','SSB')\n",
    "\n",
    "            Montu.vprint(verbose,f\"\\tRetrieving position for planet '{self.id}'\")\n",
    "            planet_SSBJ2000,lt = spy.spkezr(self.id,mtime.tt,'J2000','None','SSB')\n",
    "            \n",
    "            Montu.vprint(verbose,f\"\\tSite planet '{site.planet.id}' position w.r.t. SSB = \",\n",
    "                        spy.mxv(M_J2000_ECLIPJ2000,site_planet_SSBJ2000[:3]),\n",
    "                        spy.mxv(M_J2000_ECLIPJ2000,site_planet_SSBJ2000[3:])\n",
    "                        )\n",
    "            Montu.vprint(verbose,f\"\\tPlanet '{self.id}' position w.r.t. SSB = \",\n",
    "                        spy.mxv(M_J2000_ECLIPJ2000,planet_SSBJ2000[:3]),\n",
    "                        spy.mxv(M_J2000_ECLIPJ2000,planet_SSBJ2000[3:]),\n",
    "                        )\n",
    "            \n",
    "            # Position of the observing site with respect to SSB\n",
    "            site_SSBJ2000 = site_planet_SSBJ2000[:3] + site.pos_J2000 \n",
    "\n",
    "            # Celestial Coordinates at J2000\n",
    "            planet_TOPOJ2000 = planet_SSBJ2000[:3] - site_SSBJ2000\n",
    "            r,RAbodyJ2000,DECbodyJ2000 = spy.recrad(planet_TOPOJ2000)\n",
    "            self.eq_J2000 = astropy_SkyCoord(ra=RAbodyJ2000*monu.rad,dec=DECbodyJ2000*monu.rad)\n",
    "            Montu.vprint(verbose,f\"\\tCoordinates @ J2000: \",self.eq_J2000.ra/15,self.eq_J2000.dec)\n",
    "\n",
    "            # Celestial Coordinates at Epoch\n",
    "            planet_TOPOEpoch = spy.mxv(self.epoch.M_J2000_Epoch,planet_TOPOJ2000)\n",
    "            r,RAplanet,DECplanet = spy.recrad(planet_TOPOEpoch)\n",
    "            self.eq_epoch = astropy_SkyCoord(ra=RAplanet*monu.rad,dec=DECplanet*monu.rad)\n",
    "            Montu.vprint(verbose,f\"\\tCoordinates @ Epoch using SPICE : \",self.eq_epoch.ra/15,self.eq_epoch.dec)\n",
    "\n",
    "            # Local coordinates at Epoch\n",
    "            #planet_TOPObody = spy.mxv(spy.invert(M_ITRF_TRUE),bodyTOPOEpoch)\n",
    "            #bodyTOPOlocal = spy.mxv(M_body_local,bodyTOPObody)\n",
    "            #r,az1,el1 = spy.recrad(bodyTOPOlocal)\n",
    "\n",
    "            \"\"\"\n",
    "            # Celestial Coordinates at Epoch\n",
    "            self.eq_epoch = self.eq_J2000.transform_to(FK5(equinox=self.epochs.astrotime))\n",
    "            Montu.vprint(verbose,f\"Coordinates @ Epoch using astropy : \",self.eq_epoch.ra/15,self.eq_epoch.dec)\n",
    "            \n",
    "            self.P_SSBJ2000 = planetSSBJ2000\n",
    "            self.X_SSBJ2000 = bodySSBJ2000\n",
    "\n",
    "            \n",
    "            \n",
    "            # Celestial Coordinates at Epoch\n",
    "            if location.planet.id == '399':\n",
    "                \n",
    "            else:\n",
    "                self.eq_epoch = SkyCoord(ra=RAbodyJ2000*u.rad,dec=DECbodyJ2000*u.rad)\n",
    "            \n",
    "            Montu.vprint(verbose,\"Coordinates @ Epoch: \",self.eq_epoch.ra/15,self.eq_epoch.dec)\n",
    "\n",
    "            # AltAz Coordinates at body\n",
    "            self.az_epoch = self.eq_J2000.transform_to(location.frame)\n",
    "            Montu.vprint(verbose,\"AltAz @ Epoch: \",self.az_epoch.az.value,self.az_epoch.alt.value)\n",
    "            Montu.vprint(verbose,\"AltAz @ Epoch: \",Montu.dec2hex(self.az_epoch.az.value),Montu.dec2hex(self.az_epoch.alt.value))\n",
    "\n",
    "            # AltAz Coordinates at body (using SPICE)\n",
    "            location.update_site(self.epochs)\n",
    "            az,el = location.to_local(self.eq_epoch.ra.value,self.eq_epoch.dec.value)\n",
    "            Montu.vprint(verbose,\"AltAz @ Epoch (SPICE): \",Montu.dec2hex(az),Montu.dec2hex(el))\n",
    "            \"\"\"\n",
    "        elif method == 'VSOP87':\n",
    "            pass\n",
    "        \"\"\"\n",
    "        else:\n",
    "            raise ValueError(f\"Method '{method}' for computing ephemerides not recognized\")\n",
    "        \"\"\"\n",
    "        \n",
    "        self.predict = True\n",
    "\n",
    "    def __str__(self):\n",
    "        str = f\"\"\"Information about '{self.name}\n",
    "    Dimensions:\n",
    "        Re, Rp, Re = {self.Re}, {self.Rp}, {self.Rt} km\n",
    "        f = {self.f}\n",
    "\"\"\"\n",
    "        if self.predict:\n",
    "            str += f\"\"\"\n",
    "    Position at epoch {self.epoch.dateastro}:        \n",
    "        RA(J2000) = {self.RAJ2000}\n",
    "        Dec(J2000) = {self.DecJ2000}\n",
    "\n",
    "        RA(Epoch) = {self.RAEpcoh}\n",
    "        Dec(Epoch) = {self.DecEpoch}\n",
    "\"\"\"\n",
    "        return str\n",
    "        "
   ]
  },
  {
   "cell_type": "code",
   "execution_count": 415,
   "metadata": {},
   "outputs": [
    {
     "name": "stdout",
     "output_type": "stream",
     "text": [
      "Computing position of body 'mars' at epoch: jtd = 807954.6909685181 \n",
      "Method 'Horizons':\n",
      "\tCoordinates @ J2000:  12d31m49.1472s 1d37m06.708s\n",
      "\tCoordinates @ Epoch using SPICE :  8d32m09.2832s 24d06m29.556s\n",
      "\tLocal coordinates @ Epoch :  6d11m33.7272s -41d38m29.3172s\n",
      "Method 'SPICE':\n",
      "\tRetrieving position for planet where site is located '399'\n",
      "\tRetrieving position for planet '4'\n",
      "\tSite planet '399' position w.r.t. SSB =  [-1.4305228111864543e+08  3.9229527538835682e+07  5.4131266942912526e+05] [ -8.318991284868057  -28.730667414660573   -0.2918878627075152]\n",
      "\tPlanet '4' position w.r.t. SSB =  [-2.4086558453273386e+08  2.7797890106387239e+07  8.5432623238092214e+06] [ -1.2384638704523976 -22.51721308912209    -0.3644098251815677]\n",
      "\tCoordinates @ J2000:  12d31m48.75374474s 1d37m12.18389356s\n",
      "\tCoordinates @ Epoch using SPICE :  8d32m09.7958861s 24d06m28.55484868s\n"
     ]
    }
   ],
   "source": [
    "site = ObservingSite(planet=PlanetaryBody('Earth'),\n",
    "                     lon=lon0,lat=lat0,height=height0)\n",
    "mars = PlanetaryBody('mars')\n",
    "mtime = MonTime('-2500-01-01 12:00:00.00',scale='utc')\n",
    "site.update_site(mtime)\n",
    "#mars.calculate_sky_position(mtime=mtime,site=site,method='SPICE')\n",
    "#mars.calculate_sky_position(mtime=mtime,site=site,method='Horizons')\n",
    "mars.calculate_sky_position(mtime=mtime,site=site,method='all')\n",
    "#print(Montu.dec2hex(mars.RAJ2000),mars.DecJ2000,mars.RAEpoch,mars.DecEpoch)\n",
    "#print(mars)"
   ]
  },
  {
   "cell_type": "code",
   "execution_count": 405,
   "metadata": {},
   "outputs": [],
   "source": [
    "from astropy.coordinates import Angle"
   ]
  },
  {
   "cell_type": "code",
   "execution_count": 407,
   "metadata": {},
   "outputs": [
    {
     "data": {
      "text/latex": [
       "$3^\\circ14{}^\\prime32.82{}^{\\prime\\prime}$"
      ],
      "text/plain": [
       "<Angle 3.24245 deg>"
      ]
     },
     "execution_count": 407,
     "metadata": {},
     "output_type": "execute_result"
    }
   ],
   "source": [
    "Angle(3.24245*monu.deg)"
   ]
  },
  {
   "cell_type": "code",
   "execution_count": 293,
   "metadata": {},
   "outputs": [
    {
     "data": {
      "text/plain": [
       "({'body': 'MARS',\n",
       "  'name': 'mars',\n",
       "  'id': '4',\n",
       "  'capital': 'Mars',\n",
       "  'framebody': 'IAU_MARS',\n",
       "  'Re': 3396.19,\n",
       "  'Rt': 3396.19,\n",
       "  'Rp': 3376.2,\n",
       "  'f': 0.005886007555525526,\n",
       "  'pyplanet': pyplanets.planets.mars.Mars,\n",
       "  'query_horizons': <astroquery.jplhorizons.core.HorizonsClass at 0x7fe80ac0b070>},\n",
       " {'body': '399',\n",
       "  'id': '399',\n",
       "  'name': 'earth',\n",
       "  'capital': 'Earth',\n",
       "  'framebody': 'IAU_EARTH',\n",
       "  'Re': 6378.1366,\n",
       "  'Rt': 6378.1366,\n",
       "  'Rp': 6356.7519,\n",
       "  'f': 0.0033528131084554717,\n",
       "  'pyplanet': pyplanets.planets.earth.Earth,\n",
       "  'query_horizons': <astroquery.jplhorizons.core.HorizonsClass at 0x7fe81f6d13a0>})"
      ]
     },
     "execution_count": 293,
     "metadata": {},
     "output_type": "execute_result"
    }
   ],
   "source": [
    "mars = PlanetaryBody('mars')\n",
    "earth = PlanetaryBody('Earth')\n",
    "earth = PlanetaryBody('399')\n",
    "mars.__dict__, earth.__dict__"
   ]
  },
  {
   "cell_type": "code",
   "execution_count": 251,
   "metadata": {},
   "outputs": [
    {
     "data": {
      "text/plain": [
       "{'planet': <__main__.PlanetaryBody at 0x7fe7fa829610>,\n",
       " 'lon': 33.0,\n",
       " 'lat': 24.0,\n",
       " 'elevation': 0.0,\n",
       " 'location': {'lon': 33.0, 'lat': 24.0, 'elevation': 0.0},\n",
       " 'pressure': 0,\n",
       " 'temperature': 0,\n",
       " 'relative_humidity': 0,\n",
       " 'obswl': 1,\n",
       " 'astropy_site': <EarthLocation (4889.405181163911, 3175.2168508670934, 2578.2834220752534) km>,\n",
       " 'pos_Fixed': array([4889.405181163911 , 3175.2168508670934, 2578.2834220752534]),\n",
       " 'epoch': <montu.MonTime at 0x7fe80afbef70>,\n",
       " 'M_FRAME_J2000': array([[ 0.17617425963267894,  0.9843589945964213 ,  0.                 ],\n",
       "        [-0.9843589945964213 ,  0.17617425963267894,  0.                 ],\n",
       "        [-0.                 ,  0.                 ,  1.                 ]]),\n",
       " 'pos_J2000': array([ 3986.9406047808834, -4253.538490430324 ,  2578.2834220752534]),\n",
       " 'pos_Epoch': array([ 3986.746393570004 , -4253.713234334958 ,  2578.2954434220896]),\n",
       " 'frame': <AltAz Frame (obstime=2451545.0, location=(4889.405181163911, 3175.2168508670934, 2578.2834220752534) km, pressure=0.0 hPa, temperature=0.0 deg_C, relative_humidity=0.0, obswl=1.0 micron)>}"
      ]
     },
     "execution_count": 251,
     "metadata": {},
     "output_type": "execute_result"
    }
   ],
   "source": [
    "site = ObservingSite(planet=PlanetaryBody('Earth'),\n",
    "                     lon=lon0,lat=lat0,height=height0)\n",
    "site.__dict__"
   ]
  },
  {
   "cell_type": "code",
   "execution_count": 252,
   "metadata": {},
   "outputs": [
    {
     "data": {
      "text/plain": [
       "{'planet': <__main__.PlanetaryBody at 0x7fe7fa829610>,\n",
       " 'lon': 33.0,\n",
       " 'lat': 24.0,\n",
       " 'elevation': 0.0,\n",
       " 'location': {'lon': 33.0, 'lat': 24.0, 'elevation': 0.0},\n",
       " 'pressure': 0,\n",
       " 'temperature': 0,\n",
       " 'relative_humidity': 0,\n",
       " 'obswl': 1,\n",
       " 'astropy_site': <EarthLocation (4889.405181163911, 3175.2168508670934, 2578.2834220752534) km>,\n",
       " 'pos_Fixed': array([4889.405181163911 , 3175.2168508670934, 2578.2834220752534]),\n",
       " 'epoch': <montu.MonTime at 0x7fe81f901cd0>,\n",
       " 'M_FRAME_J2000': array([[ 0.9131506961371856 ,  0.16869069741562343, -0.37107850213883864],\n",
       "        [-0.257518690484828  ,  0.9444121201343857 , -0.2043767878068689 ],\n",
       "        [ 0.3159745720705272 ,  0.2821864559979894 ,  0.9058315924365533 ]]),\n",
       " 'pos_J2000': array([4043.647739542113 , 1212.6587746513135, 4776.42147794016  ]),\n",
       " 'pos_Epoch': array([ 4582.931261947399 , -3541.3239178987596,  2663.005151507285 ]),\n",
       " 'frame': <AltAz Frame (obstime=807953.9999999995, location=(4889.405181163911, 3175.2168508670934, 2578.2834220752534) km, pressure=0.0 hPa, temperature=0.0 deg_C, relative_humidity=0.0, obswl=1.0 micron)>}"
      ]
     },
     "execution_count": 252,
     "metadata": {},
     "output_type": "execute_result"
    }
   ],
   "source": [
    "mtime = MonTime('-2500-01-01 12:00:00.00')\n",
    "site.update_site(mtime)\n",
    "site.__dict__"
   ]
  },
  {
   "cell_type": "code",
   "execution_count": 319,
   "metadata": {},
   "outputs": [
    {
     "name": "stdout",
     "output_type": "stream",
     "text": [
      "Computing position of body 'mars' at epoch: jtd = 807954.6909685181 \n",
      "Retrieving position for planet where site is located '399'\n",
      "Retrieving position for planet '4'\n",
      "Site planet '399' position w.r.t. SSB =  [-1.4305228111864543e+08  3.9229527538835682e+07  5.4131266942912526e+05] [ -8.318991284868057  -28.730667414660573   -0.2918878627075152]\n",
      "Planet '4' position w.r.t. SSB =  [-2.4086558453273386e+08  2.7797890106387239e+07  8.5432623238092214e+06] [ -1.2384638704523976 -22.51721308912209    -0.3644098251815677]\n"
     ]
    }
   ],
   "source": [
    "mars = PlanetaryBody('mars')\n",
    "mtime = MonTime('-2500-01-01 12:00:00.00',scale='utc')\n",
    "mars.calculate_sky_position(mtime=mtime,site=site,method='SPICE')\n",
    "#mars.calculate_sky_position(mtime=mtime,site=site,method='Horizons')\n",
    "#print(Montu.dec2hex(mars.RAJ2000),mars.DecJ2000,mars.RAEpoch,mars.DecEpoch)"
   ]
  },
  {
   "cell_type": "code",
   "execution_count": 320,
   "metadata": {},
   "outputs": [
    {
     "ename": "AttributeError",
     "evalue": "'PlanetaryBody' object has no attribute 'RAJ2000'",
     "output_type": "error",
     "traceback": [
      "\u001b[0;31m---------------------------------------------------------------------------\u001b[0m",
      "\u001b[0;31mAttributeError\u001b[0m                            Traceback (most recent call last)",
      "\u001b[1;32m/Users/jorgezuluagacallejas/Dropbox/MiInvestigacion/EgyptianAstronomy/MontuPython/dev/test-new-montu.ipynb Celda 29\u001b[0m line \u001b[0;36m<module>\u001b[0;34m\u001b[0m\n\u001b[0;32m----> <a href='vscode-notebook-cell:/Users/jorgezuluagacallejas/Dropbox/MiInvestigacion/EgyptianAstronomy/MontuPython/dev/test-new-montu.ipynb#Y252sZmlsZQ%3D%3D?line=0'>1</a>\u001b[0m \u001b[39mprint\u001b[39;49m(mars)\n",
      "\u001b[1;32m/Users/jorgezuluagacallejas/Dropbox/MiInvestigacion/EgyptianAstronomy/MontuPython/dev/test-new-montu.ipynb Celda 29\u001b[0m line \u001b[0;36mPlanetaryBody.__str__\u001b[0;34m(self)\u001b[0m\n\u001b[1;32m    <a href='vscode-notebook-cell:/Users/jorgezuluagacallejas/Dropbox/MiInvestigacion/EgyptianAstronomy/MontuPython/dev/test-new-montu.ipynb#Y252sZmlsZQ%3D%3D?line=245'>246</a>\u001b[0m         \u001b[39mstr\u001b[39m \u001b[39m=\u001b[39m \u001b[39mf\u001b[39m\u001b[39m\"\"\"\u001b[39m\u001b[39mInformation about \u001b[39m\u001b[39m'\u001b[39m\u001b[39m{\u001b[39;00m\u001b[39mself\u001b[39m\u001b[39m.\u001b[39mname\u001b[39m}\u001b[39;00m\n\u001b[1;32m    <a href='vscode-notebook-cell:/Users/jorgezuluagacallejas/Dropbox/MiInvestigacion/EgyptianAstronomy/MontuPython/dev/test-new-montu.ipynb#Y252sZmlsZQ%3D%3D?line=246'>247</a>\u001b[0m \u001b[39m    Dimensions:\u001b[39m\n\u001b[1;32m    <a href='vscode-notebook-cell:/Users/jorgezuluagacallejas/Dropbox/MiInvestigacion/EgyptianAstronomy/MontuPython/dev/test-new-montu.ipynb#Y252sZmlsZQ%3D%3D?line=247'>248</a>\u001b[0m \u001b[39m        Re, Rp, Re = \u001b[39m\u001b[39m{\u001b[39;00m\u001b[39mself\u001b[39m\u001b[39m.\u001b[39mRe\u001b[39m}\u001b[39;00m\u001b[39m, \u001b[39m\u001b[39m{\u001b[39;00m\u001b[39mself\u001b[39m\u001b[39m.\u001b[39mRp\u001b[39m}\u001b[39;00m\u001b[39m, \u001b[39m\u001b[39m{\u001b[39;00m\u001b[39mself\u001b[39m\u001b[39m.\u001b[39mRt\u001b[39m}\u001b[39;00m\u001b[39m km\u001b[39m\n\u001b[1;32m    <a href='vscode-notebook-cell:/Users/jorgezuluagacallejas/Dropbox/MiInvestigacion/EgyptianAstronomy/MontuPython/dev/test-new-montu.ipynb#Y252sZmlsZQ%3D%3D?line=248'>249</a>\u001b[0m \u001b[39m        f = \u001b[39m\u001b[39m{\u001b[39;00m\u001b[39mself\u001b[39m\u001b[39m.\u001b[39mf\u001b[39m}\u001b[39;00m\n\u001b[1;32m    <a href='vscode-notebook-cell:/Users/jorgezuluagacallejas/Dropbox/MiInvestigacion/EgyptianAstronomy/MontuPython/dev/test-new-montu.ipynb#Y252sZmlsZQ%3D%3D?line=249'>250</a>\u001b[0m \u001b[39m\"\"\"\u001b[39m\n\u001b[1;32m    <a href='vscode-notebook-cell:/Users/jorgezuluagacallejas/Dropbox/MiInvestigacion/EgyptianAstronomy/MontuPython/dev/test-new-montu.ipynb#Y252sZmlsZQ%3D%3D?line=250'>251</a>\u001b[0m         \u001b[39mif\u001b[39;00m \u001b[39mself\u001b[39m\u001b[39m.\u001b[39mpredict:\n\u001b[1;32m    <a href='vscode-notebook-cell:/Users/jorgezuluagacallejas/Dropbox/MiInvestigacion/EgyptianAstronomy/MontuPython/dev/test-new-montu.ipynb#Y252sZmlsZQ%3D%3D?line=251'>252</a>\u001b[0m             \u001b[39mstr\u001b[39m \u001b[39m+\u001b[39m\u001b[39m=\u001b[39m \u001b[39mf\u001b[39m\u001b[39m\"\"\"\u001b[39m\n\u001b[1;32m    <a href='vscode-notebook-cell:/Users/jorgezuluagacallejas/Dropbox/MiInvestigacion/EgyptianAstronomy/MontuPython/dev/test-new-montu.ipynb#Y252sZmlsZQ%3D%3D?line=252'>253</a>\u001b[0m \u001b[39m    Position at epoch \u001b[39m\u001b[39m{\u001b[39;00m\u001b[39mself\u001b[39m\u001b[39m.\u001b[39mepoch\u001b[39m.\u001b[39mdateastro\u001b[39m}\u001b[39;00m\u001b[39m:        \u001b[39m\n\u001b[0;32m--> <a href='vscode-notebook-cell:/Users/jorgezuluagacallejas/Dropbox/MiInvestigacion/EgyptianAstronomy/MontuPython/dev/test-new-montu.ipynb#Y252sZmlsZQ%3D%3D?line=253'>254</a>\u001b[0m \u001b[39m        RA(J2000) = \u001b[39m\u001b[39m{\u001b[39;00m\u001b[39mself\u001b[39m\u001b[39m.\u001b[39mRAJ2000\u001b[39m}\u001b[39;00m\n\u001b[1;32m    <a href='vscode-notebook-cell:/Users/jorgezuluagacallejas/Dropbox/MiInvestigacion/EgyptianAstronomy/MontuPython/dev/test-new-montu.ipynb#Y252sZmlsZQ%3D%3D?line=254'>255</a>\u001b[0m \u001b[39m        Dec(J2000) = \u001b[39m\u001b[39m{\u001b[39;00m\u001b[39mself\u001b[39m\u001b[39m.\u001b[39mDecJ2000\u001b[39m}\u001b[39;00m\n\u001b[1;32m    <a href='vscode-notebook-cell:/Users/jorgezuluagacallejas/Dropbox/MiInvestigacion/EgyptianAstronomy/MontuPython/dev/test-new-montu.ipynb#Y252sZmlsZQ%3D%3D?line=255'>256</a>\u001b[0m \n\u001b[1;32m    <a href='vscode-notebook-cell:/Users/jorgezuluagacallejas/Dropbox/MiInvestigacion/EgyptianAstronomy/MontuPython/dev/test-new-montu.ipynb#Y252sZmlsZQ%3D%3D?line=256'>257</a>\u001b[0m \u001b[39m        RA(Epoch) = \u001b[39m\u001b[39m{\u001b[39;00m\u001b[39mself\u001b[39m\u001b[39m.\u001b[39mRAEpcoh\u001b[39m}\u001b[39;00m\n\u001b[1;32m    <a href='vscode-notebook-cell:/Users/jorgezuluagacallejas/Dropbox/MiInvestigacion/EgyptianAstronomy/MontuPython/dev/test-new-montu.ipynb#Y252sZmlsZQ%3D%3D?line=257'>258</a>\u001b[0m \u001b[39m        Dec(Epoch) = \u001b[39m\u001b[39m{\u001b[39;00m\u001b[39mself\u001b[39m\u001b[39m.\u001b[39mDecEpoch\u001b[39m}\u001b[39;00m\n\u001b[1;32m    <a href='vscode-notebook-cell:/Users/jorgezuluagacallejas/Dropbox/MiInvestigacion/EgyptianAstronomy/MontuPython/dev/test-new-montu.ipynb#Y252sZmlsZQ%3D%3D?line=258'>259</a>\u001b[0m \u001b[39m\"\"\"\u001b[39m\n\u001b[1;32m    <a href='vscode-notebook-cell:/Users/jorgezuluagacallejas/Dropbox/MiInvestigacion/EgyptianAstronomy/MontuPython/dev/test-new-montu.ipynb#Y252sZmlsZQ%3D%3D?line=259'>260</a>\u001b[0m         \u001b[39mreturn\u001b[39;00m \u001b[39mstr\u001b[39m\n",
      "\u001b[0;31mAttributeError\u001b[0m: 'PlanetaryBody' object has no attribute 'RAJ2000'"
     ]
    }
   ],
   "source": []
  },
  {
   "cell_type": "code",
   "execution_count": null,
   "metadata": {},
   "outputs": [],
   "source": []
  },
  {
   "cell_type": "code",
   "execution_count": null,
   "metadata": {},
   "outputs": [],
   "source": []
  },
  {
   "cell_type": "code",
   "execution_count": 248,
   "metadata": {},
   "outputs": [
    {
     "ename": "ValueError",
     "evalue": "'location' must contain lon, lat, elevation",
     "output_type": "error",
     "traceback": [
      "\u001b[0;31m---------------------------------------------------------------------------\u001b[0m",
      "\u001b[0;31mValueError\u001b[0m                                Traceback (most recent call last)",
      "\u001b[1;32m/Users/jorgezuluagacallejas/Dropbox/MiInvestigacion/EgyptianAstronomy/MontuPython/dev/test-new-montu.ipynb Celda 29\u001b[0m line \u001b[0;36m<module>\u001b[0;34m\u001b[0m\n\u001b[0;32m----> <a href='vscode-notebook-cell:/Users/jorgezuluagacallejas/Dropbox/MiInvestigacion/EgyptianAstronomy/MontuPython/dev/test-new-montu.ipynb#Y246sZmlsZQ%3D%3D?line=0'>1</a>\u001b[0m mars\u001b[39m.\u001b[39;49mquery_horizons\u001b[39m.\u001b[39;49mephemerides()\n",
      "File \u001b[0;32m~/opt/anaconda3/lib/python3.9/site-packages/astroquery/utils/class_or_instance.py:25\u001b[0m, in \u001b[0;36mclass_or_instance.__get__.<locals>.f\u001b[0;34m(*args, **kwds)\u001b[0m\n\u001b[1;32m     23\u001b[0m \u001b[39mdef\u001b[39;00m \u001b[39mf\u001b[39m(\u001b[39m*\u001b[39margs, \u001b[39m*\u001b[39m\u001b[39m*\u001b[39mkwds):\n\u001b[1;32m     24\u001b[0m     \u001b[39mif\u001b[39;00m obj \u001b[39mis\u001b[39;00m \u001b[39mnot\u001b[39;00m \u001b[39mNone\u001b[39;00m:\n\u001b[0;32m---> 25\u001b[0m         \u001b[39mreturn\u001b[39;00m \u001b[39mself\u001b[39;49m\u001b[39m.\u001b[39;49mfn(obj, \u001b[39m*\u001b[39;49margs, \u001b[39m*\u001b[39;49m\u001b[39m*\u001b[39;49mkwds)\n\u001b[1;32m     26\u001b[0m     \u001b[39melse\u001b[39;00m:\n\u001b[1;32m     27\u001b[0m         \u001b[39mreturn\u001b[39;00m \u001b[39mself\u001b[39m\u001b[39m.\u001b[39mfn(\u001b[39mcls\u001b[39m, \u001b[39m*\u001b[39margs, \u001b[39m*\u001b[39m\u001b[39m*\u001b[39mkwds)\n",
      "File \u001b[0;32m~/opt/anaconda3/lib/python3.9/site-packages/astroquery/utils/process_asyncs.py:26\u001b[0m, in \u001b[0;36masync_to_sync.<locals>.create_method.<locals>.newmethod\u001b[0;34m(self, *args, **kwargs)\u001b[0m\n\u001b[1;32m     22\u001b[0m \u001b[39m@class_or_instance\u001b[39m\n\u001b[1;32m     23\u001b[0m \u001b[39mdef\u001b[39;00m \u001b[39mnewmethod\u001b[39m(\u001b[39mself\u001b[39m, \u001b[39m*\u001b[39margs, \u001b[39m*\u001b[39m\u001b[39m*\u001b[39mkwargs):\n\u001b[1;32m     24\u001b[0m     verbose \u001b[39m=\u001b[39m kwargs\u001b[39m.\u001b[39mpop(\u001b[39m'\u001b[39m\u001b[39mverbose\u001b[39m\u001b[39m'\u001b[39m, \u001b[39mFalse\u001b[39;00m)\n\u001b[0;32m---> 26\u001b[0m     response \u001b[39m=\u001b[39m \u001b[39mgetattr\u001b[39;49m(\u001b[39mself\u001b[39;49m, async_method_name)(\u001b[39m*\u001b[39;49margs, \u001b[39m*\u001b[39;49m\u001b[39m*\u001b[39;49mkwargs)\n\u001b[1;32m     27\u001b[0m     \u001b[39mif\u001b[39;00m kwargs\u001b[39m.\u001b[39mget(\u001b[39m'\u001b[39m\u001b[39mget_query_payload\u001b[39m\u001b[39m'\u001b[39m) \u001b[39mor\u001b[39;00m kwargs\u001b[39m.\u001b[39mget(\u001b[39m'\u001b[39m\u001b[39mfield_help\u001b[39m\u001b[39m'\u001b[39m):\n\u001b[1;32m     28\u001b[0m         \u001b[39mreturn\u001b[39;00m response\n",
      "File \u001b[0;32m~/opt/anaconda3/lib/python3.9/site-packages/astroquery/jplhorizons/core.py:540\u001b[0m, in \u001b[0;36mHorizonsClass.ephemerides_async\u001b[0;34m(self, airmass_lessthan, solar_elongation, max_hour_angle, rate_cutoff, skip_daylight, refraction, refsystem, closest_apparition, no_fragments, quantities, get_query_payload, get_raw_response, cache, extra_precision)\u001b[0m\n\u001b[1;32m    537\u001b[0m \u001b[39mif\u001b[39;00m \u001b[39misinstance\u001b[39m(\u001b[39mself\u001b[39m\u001b[39m.\u001b[39mlocation, \u001b[39mdict\u001b[39m):\n\u001b[1;32m    538\u001b[0m     \u001b[39mif\u001b[39;00m (\u001b[39m'\u001b[39m\u001b[39mlon\u001b[39m\u001b[39m'\u001b[39m \u001b[39mnot\u001b[39;00m \u001b[39min\u001b[39;00m \u001b[39mself\u001b[39m\u001b[39m.\u001b[39mlocation \u001b[39mor\u001b[39;00m \u001b[39m'\u001b[39m\u001b[39mlat\u001b[39m\u001b[39m'\u001b[39m \u001b[39mnot\u001b[39;00m \u001b[39min\u001b[39;00m \u001b[39mself\u001b[39m\u001b[39m.\u001b[39mlocation \u001b[39mor\u001b[39;00m\n\u001b[1;32m    539\u001b[0m             \u001b[39m'\u001b[39m\u001b[39melevation\u001b[39m\u001b[39m'\u001b[39m \u001b[39mnot\u001b[39;00m \u001b[39min\u001b[39;00m \u001b[39mself\u001b[39m\u001b[39m.\u001b[39mlocation):\n\u001b[0;32m--> 540\u001b[0m         \u001b[39mraise\u001b[39;00m \u001b[39mValueError\u001b[39;00m((\u001b[39m\"\u001b[39m\u001b[39m'\u001b[39m\u001b[39mlocation\u001b[39m\u001b[39m'\u001b[39m\u001b[39m must contain lon, lat, \u001b[39m\u001b[39m\"\u001b[39m\n\u001b[1;32m    541\u001b[0m                           \u001b[39m\"\u001b[39m\u001b[39melevation\u001b[39m\u001b[39m\"\u001b[39m))\n\u001b[1;32m    543\u001b[0m     \u001b[39mif\u001b[39;00m \u001b[39m'\u001b[39m\u001b[39mbody\u001b[39m\u001b[39m'\u001b[39m \u001b[39mnot\u001b[39;00m \u001b[39min\u001b[39;00m \u001b[39mself\u001b[39m\u001b[39m.\u001b[39mlocation:\n\u001b[1;32m    544\u001b[0m         \u001b[39mself\u001b[39m\u001b[39m.\u001b[39mlocation[\u001b[39m'\u001b[39m\u001b[39mbody\u001b[39m\u001b[39m'\u001b[39m] \u001b[39m=\u001b[39m \u001b[39m'\u001b[39m\u001b[39m399\u001b[39m\u001b[39m'\u001b[39m\n",
      "\u001b[0;31mValueError\u001b[0m: 'location' must contain lon, lat, elevation"
     ]
    }
   ],
   "source": [
    "mars.query_horizons.location = \n",
    "mars.query_horizons.ephemerides()"
   ]
  },
  {
   "cell_type": "code",
   "execution_count": 247,
   "metadata": {},
   "outputs": [
    {
     "data": {
      "text/plain": [
       "{'_session': <requests.sessions.Session at 0x7fe80afb3250>,\n",
       " 'cache_location': '/Users/jorgezuluagacallejas/.astropy/cache/astroquery/Horizons',\n",
       " '_cache_active': True,\n",
       " 'id': '4',\n",
       " 'location': {'lon': 33.0, 'lat': 24.0, 'height': 0.0},\n",
       " 'epochs': 807953.9999999995,\n",
       " 'id_type': None,\n",
       " 'return_raw': False,\n",
       " 'query_type': None,\n",
       " 'uri': None,\n",
       " 'raw_response': None}"
      ]
     },
     "execution_count": 247,
     "metadata": {},
     "output_type": "execute_result"
    }
   ],
   "source": [
    "mars.query_horizons.__dict__"
   ]
  },
  {
   "cell_type": "code",
   "execution_count": null,
   "metadata": {},
   "outputs": [],
   "source": []
  },
  {
   "cell_type": "markdown",
   "metadata": {},
   "source": [
    "mars.query_hoarizons.locationa"
   ]
  },
  {
   "cell_type": "code",
   "execution_count": null,
   "metadata": {},
   "outputs": [],
   "source": []
  },
  {
   "cell_type": "code",
   "execution_count": null,
   "metadata": {},
   "outputs": [],
   "source": []
  },
  {
   "cell_type": "code",
   "execution_count": null,
   "metadata": {},
   "outputs": [],
   "source": []
  },
  {
   "cell_type": "code",
   "execution_count": null,
   "metadata": {},
   "outputs": [],
   "source": []
  },
  {
   "cell_type": "code",
   "execution_count": 155,
   "metadata": {},
   "outputs": [
    {
     "data": {
      "text/plain": [
       "({'body': 'MARS',\n",
       "  'name': 'mars',\n",
       "  'id': '4',\n",
       "  'capital': 'Mars',\n",
       "  'Re': 3396.19,\n",
       "  'Rt': 3396.19,\n",
       "  'Rp': 3376.2,\n",
       "  'f': 0.005886007555525526,\n",
       "  'pyplanet': pyplanets.planets.mars.Mars,\n",
       "  'query_horizons': <astroquery.jplhorizons.core.HorizonsClass at 0x7fe82b707df0>},\n",
       " {'body': '399',\n",
       "  'id': '399',\n",
       "  'name': 'earth',\n",
       "  'capital': 'Earth',\n",
       "  'Re': 6378.1366,\n",
       "  'Rt': 6378.1366,\n",
       "  'Rp': 6356.7519,\n",
       "  'f': 0.0033528131084554717,\n",
       "  'pyplanet': pyplanets.planets.earth.Earth,\n",
       "  'query_horizons': <astroquery.jplhorizons.core.HorizonsClass at 0x7fe7d80eb6a0>})"
      ]
     },
     "execution_count": 155,
     "metadata": {},
     "output_type": "execute_result"
    }
   ],
   "source": [
    "mars = PlanetaryBody('mars')\n",
    "earth = PlanetaryBody('Earth')\n",
    "earth = PlanetaryBody('399')\n",
    "mars.__dict__, earth.__dict__"
   ]
  },
  {
   "cell_type": "code",
   "execution_count": null,
   "metadata": {},
   "outputs": [],
   "source": []
  },
  {
   "cell_type": "code",
   "execution_count": 145,
   "metadata": {},
   "outputs": [
    {
     "data": {
      "text/plain": [
       "<pyplanets.planets.mars.Mars at 0x7fe7f9c1b670>"
      ]
     },
     "execution_count": 145,
     "metadata": {},
     "output_type": "execute_result"
    }
   ],
   "source": [
    "mtime = MonTime(0,format='tt',scale='tt')\n",
    "mars.pyplanet(mtime.mixed)"
   ]
  },
  {
   "cell_type": "code",
   "execution_count": 146,
   "metadata": {},
   "outputs": [
    {
     "data": {
      "text/plain": [
       "<__main__.ObservingSite at 0x7fe80ab99610>"
      ]
     },
     "execution_count": 146,
     "metadata": {},
     "output_type": "execute_result"
    }
   ],
   "source": [
    "ObservingSite(planet=earth,location=dict(lon=lon0*monu.deg,\n",
    "                                         lat=lat0*monu.deg,\n",
    "                                         elevation=height0*monu.km))"
   ]
  },
  {
   "cell_type": "code",
   "execution_count": null,
   "metadata": {},
   "outputs": [],
   "source": []
  },
  {
   "cell_type": "code",
   "execution_count": null,
   "metadata": {},
   "outputs": [],
   "source": []
  },
  {
   "cell_type": "code",
   "execution_count": null,
   "metadata": {},
   "outputs": [],
   "source": [
    "\n",
    "        # Update site with a dummy time (J2000.0)\n",
    "        self.update_site(MonTime(0,format='et',scale='tt'))\n",
    "\n",
    "        # Update position with respect to body center\n",
    "        self.geopos=spy.georec(self.location['lon'].value*DEG,\n",
    "                               self.location['lat'].value*DEG,\n",
    "                               self.location['height'].value*DEG,\n",
    "                               self.planet.Re,self.planet.f)\n",
    "        \n",
    "        # From local refrence frame to body reference frame\n",
    "        normal=spy.surfnm(self.planet.Re,\n",
    "                          self.planet.Rt,\n",
    "                          self.planet.Rp,\n",
    "                          self.geopos)\n",
    "        uy=spy.ucrss(np.array([0,0,1]),normal)\n",
    "        ux=spy.ucrss(normal,uy)\n",
    "        self.local2body=np.array(np.vstack((ux,uy,normal)).transpose().tolist())\n",
    "        self.body2local=spy.invert(self.local2body)\n",
    "\n",
    "        # Update orientation\n",
    "        self.update_orientation()\n",
    "\n",
    "    def update_site(self,mtime):  \n",
    "        self.mtime = mtime\n",
    "        et = mtime.et\n",
    "        self.M_ITRF_J2000 = spy.pxform('IAU_EARTH','J2000',et)\n",
    "        self.J2000 = spy.mxv(self.M_ITRF_J2000,np.array(list(self.site.value)))\n",
    "        self.frame = AltAz(obstime=mtime.astrotime,location=self.site)\n",
    "        self.update_orientation(et,framesky='EARTHTRUEEPOCH')\n",
    "\n",
    "    def update_orientation(self,et=0,framesky='J2000'):\n",
    "        \"\"\"Update orientation matrices for an observing site\n",
    "\n",
    "        Parameters:\n",
    "            et: float [ephemeris seconds]:\n",
    "                Time.\n",
    "\n",
    "            framesky: string: default = 'J2000':\n",
    "                Target with respect to which the transformation is performed\n",
    "                Examples: J2000, ECLIPJ2000, EARTHTRUEEPOCH\n",
    "\n",
    "        Update:\n",
    "            Matrices:\n",
    "                body2celestial, celestial2body.\n",
    "        \"\"\"\n",
    "        #Local to Body reference frame transformation\n",
    "        self.body2celestial=spy.pxform(self.planet.framebody,framesky,et)\n",
    "        self.celestial2body=spy.invert(self.body2celestial)\n",
    "\n",
    "    def to_celestial(self,az,el):\n",
    "        \"\"\"Convert from Azimuth and elevation to celestial coordinates\n",
    "        \"\"\"\n",
    "        rlocal=spy.latrec(1,az*DEG,el*DEG)\n",
    "        rbody=spy.mxv(self.local2body,rlocal)\n",
    "        rcelestial=spy.mxv(self.body2celestial,rbody)\n",
    "        r,RA,Dec=spy.reclat(rcelestial)\n",
    "        RA=RA+2*np.pi if RA<0 else RA\n",
    "        return RA*RAD,Dec*RAD\n",
    "    \n",
    "    def to_local(self,RA,Dec):\n",
    "        \"\"\"Convert from celestial coordinates to local coordinates\n",
    "        \"\"\"\n",
    "        rcelestial=spy.latrec(1,RA*DEG,Dec*DEG)\n",
    "        rbody=spy.mxv(self.celestial2body,rcelestial)\n",
    "        rlocal=spy.mxv(self.body2local,rbody)\n",
    "        r,az,el=spy.reclat(rlocal)\n",
    "        az=az+2*np.pi if az<0 else az\n",
    "        return az*RAD,el*RAD"
   ]
  },
  {
   "cell_type": "code",
   "execution_count": 120,
   "metadata": {},
   "outputs": [],
   "source": [
    "query = astropy_Horizons(id='4')"
   ]
  },
  {
   "cell_type": "code",
   "execution_count": 121,
   "metadata": {},
   "outputs": [],
   "source": [
    "query.location = '@0'"
   ]
  },
  {
   "cell_type": "code",
   "execution_count": 122,
   "metadata": {},
   "outputs": [
    {
     "data": {
      "text/html": [
       "<div><i>Table masked=True length=1</i>\n",
       "<table id=\"table140635137839888\" class=\"table-striped table-bordered table-condensed\">\n",
       "<thead><tr><th>targetname</th><th>datetime_str</th><th>datetime_jd</th><th>solar_presence</th><th>flags</th><th>RA</th><th>DEC</th><th>RA_app</th><th>DEC_app</th><th>RA_rate</th><th>DEC_rate</th><th>AZ</th><th>EL</th><th>AZ_rate</th><th>EL_rate</th><th>sat_X</th><th>sat_Y</th><th>sat_PANG</th><th>siderealtime</th><th>airmass</th><th>magextinct</th><th>V</th><th>surfbright</th><th>illumination</th><th>illum_defect</th><th>sat_sep</th><th>sat_vis</th><th>ang_width</th><th>PDObsLon</th><th>PDObsLat</th><th>PDSunLon</th><th>PDSunLat</th><th>SubSol_ang</th><th>SubSol_dist</th><th>NPole_ang</th><th>NPole_dist</th><th>EclLon</th><th>EclLat</th><th>r</th><th>r_rate</th><th>delta</th><th>delta_rate</th><th>lighttime</th><th>vel_sun</th><th>vel_obs</th><th>elong</th><th>elongFlag</th><th>alpha</th><th>IB_elong</th><th>IB_illum</th><th>sat_alpha</th><th>sunTargetPA</th><th>velocityPA</th><th>OrbPlaneAng</th><th>constellation</th><th>TDB-UT</th><th>ObsEclLon</th><th>ObsEclLat</th><th>NPole_RA</th><th>NPole_DEC</th><th>GlxLon</th><th>GlxLat</th><th>solartime</th><th>earth_lighttime</th><th>RA_3sigma</th><th>DEC_3sigma</th><th>SMAA_3sigma</th><th>SMIA_3sigma</th><th>Theta_3sigma</th><th>Area_3sigma</th><th>RSS_3sigma</th><th>r_3sigma</th><th>r_rate_3sigma</th><th>SBand_3sigma</th><th>XBand_3sigma</th><th>DoppDelay_3sigma</th><th>true_anom</th><th>hour_angle</th><th>alpha_true</th><th>PABLon</th><th>PABLat</th></tr></thead>\n",
       "<thead><tr><th>---</th><th>---</th><th>d</th><th>---</th><th>---</th><th>deg</th><th>deg</th><th>deg</th><th>deg</th><th>arcsec / h</th><th>arcsec / h</th><th>deg</th><th>deg</th><th>arcsec / min</th><th>arcsec / min</th><th>arcsec</th><th>arcsec</th><th>deg</th><th>---</th><th>---</th><th>mag</th><th>mag</th><th>mag / arcsec2</th><th>%</th><th>arcsec</th><th>arcsec</th><th>---</th><th>arcsec</th><th>deg</th><th>deg</th><th>deg</th><th>deg</th><th>deg</th><th>arcsec</th><th>deg</th><th>arcsec</th><th>deg</th><th>deg</th><th>AU</th><th>km / s</th><th>AU</th><th>km / s</th><th>min</th><th>km / s</th><th>km / s</th><th>deg</th><th>---</th><th>deg</th><th>deg</th><th>%</th><th>deg</th><th>deg</th><th>deg</th><th>deg</th><th>---</th><th>s</th><th>deg</th><th>deg</th><th>deg</th><th>deg</th><th>deg</th><th>deg</th><th>---</th><th>min</th><th>arcsec</th><th>arcsec</th><th>arcsec</th><th>arcsec</th><th>deg</th><th>arcsec2</th><th>arcsec</th><th>km</th><th>km / s</th><th>Hz</th><th>Hz</th><th>s</th><th>deg</th><th>---</th><th>deg</th><th>deg</th><th>deg</th></tr></thead>\n",
       "<thead><tr><th>str19</th><th>str24</th><th>float64</th><th>str1</th><th>str1</th><th>float64</th><th>float64</th><th>float64</th><th>float64</th><th>float64</th><th>float64</th><th>int64</th><th>int64</th><th>int64</th><th>int64</th><th>float64</th><th>float64</th><th>float64</th><th>int64</th><th>int64</th><th>int64</th><th>int64</th><th>int64</th><th>int64</th><th>int64</th><th>float64</th><th>str1</th><th>int64</th><th>int64</th><th>int64</th><th>int64</th><th>int64</th><th>str3</th><th>int64</th><th>int64</th><th>int64</th><th>float64</th><th>float64</th><th>float64</th><th>float64</th><th>float64</th><th>float64</th><th>float64</th><th>float64</th><th>float64</th><th>float64</th><th>str2</th><th>float64</th><th>int64</th><th>int64</th><th>float64</th><th>float64</th><th>float64</th><th>float64</th><th>str3</th><th>float64</th><th>float64</th><th>float64</th><th>int64</th><th>int64</th><th>float64</th><th>float64</th><th>int64</th><th>float64</th><th>int64</th><th>int64</th><th>int64</th><th>int64</th><th>int64</th><th>int64</th><th>int64</th><th>int64</th><th>int64</th><th>int64</th><th>int64</th><th>int64</th><th>float64</th><th>int64</th><th>float64</th><th>float64</th><th>float64</th></tr></thead>\n",
       "<tr><td>Mars Barycenter (4)</td><td>2023-Oct-05 07:20:42.686</td><td>2460222.806049606</td><td></td><td></td><td>211.40509</td><td>-12.18552</td><td>211.40509</td><td>-12.18552</td><td>66.47304</td><td>-26.3485</td><td>--</td><td>--</td><td>--</td><td>--</td><td>60910.334</td><td>-27181.01</td><td>115.29</td><td>--</td><td>999</td><td>--</td><td>--</td><td>--</td><td>--</td><td>--</td><td>66235.57</td><td>o</td><td>--</td><td>--</td><td>--</td><td>--</td><td>--</td><td>n.a</td><td>--</td><td>--</td><td>--</td><td>213.5546</td><td>0.5075</td><td>1.590370538801</td><td>-1.9056803</td><td>1.59858825062082</td><td>-1.9436219</td><td>13.29505307</td><td>23.0955361</td><td>23.1105229</td><td>18.3988</td><td>/L</td><td>0.0941</td><td>--</td><td>--</td><td>161.5071</td><td>112.784</td><td>291.623</td><td>0.0</td><td>Vir</td><td>69.182347</td><td>213.4561695</td><td>0.5125625</td><td>--</td><td>--</td><td>329.92209</td><td>46.761866</td><td>--</td><td>8.246334</td><td>--</td><td>--</td><td>--</td><td>--</td><td>--</td><td>--</td><td>--</td><td>--</td><td>--</td><td>--</td><td>--</td><td>--</td><td>237.4106</td><td>--</td><td>0.0941</td><td>213.5032</td><td>0.5101</td></tr>\n",
       "</table></div>"
      ],
      "text/plain": [
       "<Table masked=True length=1>\n",
       "     targetname           datetime_str       ...  PABLon   PABLat\n",
       "        ---                   ---            ...   deg      deg  \n",
       "       str19                 str24           ... float64  float64\n",
       "------------------- ------------------------ ... -------- -------\n",
       "Mars Barycenter (4) 2023-Oct-05 07:20:42.686 ... 213.5032  0.5101"
      ]
     },
     "execution_count": 122,
     "metadata": {},
     "output_type": "execute_result"
    }
   ],
   "source": [
    "query.ephemerides()"
   ]
  },
  {
   "cell_type": "code",
   "execution_count": null,
   "metadata": {},
   "outputs": [],
   "source": []
  }
 ],
 "metadata": {
  "kernelspec": {
   "display_name": "base",
   "language": "python",
   "name": "python3"
  },
  "language_info": {
   "codemirror_mode": {
    "name": "ipython",
    "version": 3
   },
   "file_extension": ".py",
   "mimetype": "text/x-python",
   "name": "python",
   "nbconvert_exporter": "python",
   "pygments_lexer": "ipython3",
   "version": "3.9.7"
  },
  "orig_nbformat": 4
 },
 "nbformat": 4,
 "nbformat_minor": 2
}
