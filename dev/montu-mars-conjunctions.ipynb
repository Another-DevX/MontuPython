{
  "cells": [
    {
      "cell_type": "markdown",
      "metadata": {},
      "source": [
        "# Montu Python\n",
        "\n",
        "## Case of study: Montu (Aldebaran) and Mars conjunction in times of Egypt"
      ]
    },
    {
      "cell_type": "code",
      "execution_count": 1,
      "metadata": {},
      "outputs": [
        {
          "name": "stdout",
          "output_type": "stream",
          "text": [
            "Loading kernel latest_leapseconds.tls\n",
            "Loading kernel de441_part-1.bsp\n",
            "Loading kernel de441_part-2.bsp\n"
          ]
        }
      ],
      "source": [
        "from montu import *\n",
        "import matplotlib.pyplot as plt\n",
        "%matplotlib inline\n",
        "\n",
        "# Load SPICE data\n",
        "Montu.load_kernels(verbose=True)\n",
        "\n",
        "# Load stars\n",
        "allstars=Stars()\n",
        "\n",
        "%load_ext autoreload\n",
        "%autoreload 2"
      ]
    },
    {
      "cell_type": "markdown",
      "metadata": {},
      "source": [
        "## The stars"
      ]
    },
    {
      "cell_type": "markdown",
      "metadata": {},
      "source": [
        "Get Aldebaran position and stars around it:"
      ]
    },
    {
      "cell_type": "code",
      "execution_count": 2,
      "metadata": {},
      "outputs": [
        {
          "data": {
            "image/png": "[encoded data removed]",
            "text/plain": [
              "<Figure size 360x360 with 1 Axes>"
            ]
          },
          "metadata": {
            "needs_background": "dark"
          },
          "output_type": "display_data"
        }
      ],
      "source": [
        "aldebaran = allstars.get_stars(ProperName='Aldebaran')\n",
        "hyades = allstars.get_stars_area(RA=aldebaran.data.RA,Dec=aldebaran.data.Dec,radius=5,Mag=[-1,4])\n",
        "fig,axs = hyades.plot_stars(pad=0.1)"
      ]
    },
    {
      "cell_type": "markdown",
      "metadata": {},
      "source": [
        "## A known conjunction"
      ]
    },
    {
      "cell_type": "markdown",
      "metadata": {},
      "source": [
        "On Spetember the 7th, 2022 Mars get very close to the Hyades and Aldebaran. This is how the conjunction was predicted (see original publication [here](https://whenthecurveslineup.com/2022/08/08/2022-september-7-mars-aldebaran-conjunction-evening-moon-saturn/):\n",
        "\n",
        "<img src='https://i0.wp.com/whenthecurveslineup.com/wp-content/uploads/2022/08/mars_220907-t.png?w=601&ssl=1'/>"
      ]
    },
    {
      "cell_type": "markdown",
      "metadata": {},
      "source": [
        "Create the planet and choose the time of the conjunction:"
      ]
    },
    {
      "cell_type": "code",
      "execution_count": 3,
      "metadata": {},
      "outputs": [],
      "source": [
        "mars = Planet(id='4')\n",
        "mtime = MonTime('2022-09-07 00:00:00')"
      ]
    },
    {
      "cell_type": "markdown",
      "metadata": {},
      "source": [
        "Get the ephemeris for the planet at the time of conjunction:"
      ]
    },
    {
      "cell_type": "code",
      "execution_count": 4,
      "metadata": {},
      "outputs": [
        {
          "data": {
            "text/plain": [
              "(4.5262400464155474,\n",
              " 20.665033231657006,\n",
              " 15107    4.598667\n",
              " Name: RA, dtype: float64,\n",
              " 15107    16.509762\n",
              " Name: Dec, dtype: float64)"
            ]
          },
          "execution_count": 4,
          "metadata": {},
          "output_type": "execute_result"
        }
      ],
      "source": [
        "mars.calc_ephemerides(mtime.et)\n",
        "mars.RAJ2000,mars.DECJ2000,aldebaran.data.RA,aldebaran.data.Dec"
      ]
    },
    {
      "cell_type": "markdown",
      "metadata": {},
      "source": [
        "As we can see Mars and Aldebaran are pretty close on that date. Let's see the configuration:"
      ]
    },
    {
      "cell_type": "code",
      "execution_count": 5,
      "metadata": {},
      "outputs": [
        {
          "data": {
            "text/plain": [
              "[<matplotlib.lines.Line2D at 0x7faa38f20e80>]"
            ]
          },
          "execution_count": 5,
          "metadata": {},
          "output_type": "execute_result"
        },
        {
          "data": {
            "image/png": "[encoded data removed]",
            "text/plain": [
              "<Figure size 360x360 with 1 Axes>"
            ]
          },
          "metadata": {
            "needs_background": "dark"
          },
          "output_type": "display_data"
        }
      ],
      "source": [
        "fig,ax = hyades.plot_stars(pad=0.1)\n",
        "ax.plot(15*mars.RAJ2000, mars.DECJ2000,'ro',ms=10)"
      ]
    },
    {
      "cell_type": "markdown",
      "metadata": {},
      "source": [
        "We can compute the angular distance:"
      ]
    },
    {
      "cell_type": "code",
      "execution_count": 6,
      "metadata": {},
      "outputs": [
        {
          "data": {
            "text/plain": [
              "(4.0, 16, 51.19847246213048)"
            ]
          },
          "execution_count": 6,
          "metadata": {},
          "output_type": "execute_result"
        }
      ],
      "source": [
        "angdist = mars.angle_to_star(aldebaran)\n",
        "Montu.dec2hex(angdist)"
      ]
    },
    {
      "cell_type": "markdown",
      "metadata": {},
      "source": [
        "Que coincide con lo predicho con `Stellarium`\n",
        "\n",
        "<img src=\"https://github.com/seap-udea/MontuPython/blob/main/dev/gallery/conjunction-mars-aldebaran-2022-stellarium.png?raw=true\"/>"
      ]
    },
    {
      "cell_type": "markdown",
      "metadata": {},
      "source": [
        "What was the angle $\\theta$ between Mars and the Sun at that day? This angle give us an indication of an opposition, $\\cos\\theta \\approx -1$ or a conjunction $\\cos\\theta \\approx +1$. To make this we need to create the sun as a planet: "
      ]
    },
    {
      "cell_type": "code",
      "execution_count": 7,
      "metadata": {},
      "outputs": [],
      "source": [
        "sun = Planet(id='10')\n",
        "sun.calc_ephemerides(epochs=mtime.et)"
      ]
    },
    {
      "cell_type": "markdown",
      "metadata": {},
      "source": [
        "And then compute the angular distance between them:"
      ]
    },
    {
      "cell_type": "code",
      "execution_count": 8,
      "metadata": {},
      "outputs": [
        {
          "data": {
            "text/plain": [
              "(94.0, 40, 40.702914656577605)"
            ]
          },
          "execution_count": 8,
          "metadata": {},
          "output_type": "execute_result"
        }
      ],
      "source": [
        "teta = mars.angle_to_planet(sun)\n",
        "Montu.dec2hex(teta)"
      ]
    },
    {
      "cell_type": "markdown",
      "metadata": {},
      "source": [
        "So, Mars is almost in quadrature with the Sun as confirmed by Stellarium."
      ]
    },
    {
      "cell_type": "markdown",
      "metadata": {},
      "source": [
        "Now we will compute the angular motion of Mars in the weeks after the conjunction:"
      ]
    },
    {
      "cell_type": "code",
      "execution_count": 9,
      "metadata": {},
      "outputs": [
        {
          "data": {
            "image/png": "[encoded data removed]",
            "text/plain": [
              "<Figure size 360x360 with 1 Axes>"
            ]
          },
          "metadata": {
            "needs_background": "dark"
          },
          "output_type": "display_data"
        }
      ],
      "source": [
        "mtime = MonTime('2022-09-07 00:00:00')\n",
        "deltat = 200*DAY\n",
        "ets = np.linspace(mtime.et,mtime.et+deltat,100)\n",
        "fig,ax = hyades.plot_stars(pad=0.1)\n",
        "\n",
        "for et in ets:\n",
        "    mars.calc_ephemerides(et)\n",
        "    ax.plot(15*mars.RAJ2000, mars.DECJ2000,'ro',ms=5)"
      ]
    },
    {
      "cell_type": "markdown",
      "metadata": {},
      "source": [
        "The stationary points are around two well-defined dates"
      ]
    },
    {
      "cell_type": "code",
      "execution_count": 112,
      "metadata": {},
      "outputs": [
        {
          "name": "stdout",
          "output_type": "stream",
          "text": [
            "(16.0, 32, 4.378411814606693) (129.0, 56, 43.29549085143981) 0.049748952424355695\n",
            "(8.0, 31, 55.134176910966346) (137.0, 36, 9.747943105744525) 0.024293390944437148\n"
          ]
        }
      ],
      "source": [
        "mtime = MonTime('2022-10-29 00:00:00')\n",
        "mars.calc_ephemerides(mtime.et)\n",
        "angdist = mars.angle_to_star(aldebaran)\n",
        "\n",
        "sun.calc_ephemerides(epochs=mtime.et)\n",
        "teta = mars.angle_to_planet(sun)\n",
        "ra_speed, dec_speed, ang_speed = mars.calc_proper_motion(mtime.et,dt=0.001*DAY)\n",
        "print(Montu.dec2hex(angdist), Montu.dec2hex(teta),ang_speed*DAY)\n",
        "\n",
        "mtime = MonTime('2023-01-11 00:00:00')\n",
        "mars.calc_ephemerides(mtime.et)\n",
        "angdist = mars.angle_to_star(aldebaran)\n",
        "ra_speed, dec_speed, ang_speed = mars.calc_proper_motion(mtime.et,dt=0.001*DAY)\n",
        "\n",
        "sun.calc_ephemerides(epochs=mtime.et)\n",
        "teta = mars.angle_to_planet(sun)\n",
        "print(Montu.dec2hex(angdist), Montu.dec2hex(teta),ang_speed*DAY)"
      ]
    },
    {
      "cell_type": "markdown",
      "metadata": {},
      "source": [
        "Look that Mars, in both cases is almost at opposition with respect to the Sun. \n",
        "\n",
        "Let's see now a plot of angular distance and teta close to the conjunction:"
      ]
    },
    {
      "cell_type": "code",
      "execution_count": 105,
      "metadata": {},
      "outputs": [
        {
          "data": {
            "image/png": "[encoded data removed]",
            "text/plain": [
              "<Figure size 720x432 with 3 Axes>"
            ]
          },
          "metadata": {
            "needs_background": "light"
          },
          "output_type": "display_data"
        }
      ],
      "source": [
        "mtime = MonTime('2022-09-07 00:00:00')\n",
        "deltat = 200*DAY\n",
        "ets = np.linspace(mtime.et,mtime.et+deltat,100)\n",
        "\n",
        "fig,axs = plt.subplots(2,1,figsize=(10,6),sharex=True)\n",
        "\n",
        "ax = axs[0]\n",
        "ax2 = ax.twinx()\n",
        "\n",
        "for et in ets:\n",
        "    # Update position \n",
        "    mars.calc_ephemerides(et)\n",
        "    sun.calc_ephemerides(et)\n",
        "\n",
        "    # Angular distances    \n",
        "    angdist = mars.angle_to_star(aldebaran)\n",
        "    teta = mars.angle_to_planet(sun)\n",
        "    \n",
        "    # Angular velocity\n",
        "    ra_speed, dec_speed, ang_speed = mars.calc_proper_motion(et,dt=0.01*DAY)\n",
        "\n",
        "    # Plot\n",
        "    ax.plot(et,angdist,'ro')\n",
        "    ax2.plot(et,teta,'bo')\n",
        "    axs[1].plot(et,ang_speed*DAY,'ko')\n",
        "\n",
        "for ax in axs:\n",
        "    ax.grid()\n",
        "    # ax.margins(0)\n",
        "\n",
        "Montu.time_ticks(axs[1],nticks=30,rotation=90)\n",
        "axs[0].set_ylabel(\"Angular distance to Aldebaran [deg]\",color='r')\n",
        "ax2.set_ylabel(\"Elongation [deg]\",color='b')\n",
        "axs[1].set_ylabel(\"Angular speed [deg/day]\",color='k')\n",
        "\n",
        "fig.tight_layout()"
      ]
    }
  ],
  "metadata": {
    "colab": {
      "provenance": []
    },
    "kernelspec": {
      "display_name": "base",
      "language": "python",
      "name": "python3"
    },
    "language_info": {
      "codemirror_mode": {
        "name": "ipython",
        "version": 3
      },
      "file_extension": ".py",
      "mimetype": "text/x-python",
      "name": "python",
      "nbconvert_exporter": "python",
      "pygments_lexer": "ipython3",
      "version": "3.9.7"
    }
  },
  "nbformat": 4,
  "nbformat_minor": 0
}
