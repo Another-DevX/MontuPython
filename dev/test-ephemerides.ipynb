{
  "cells": [
    {
      "cell_type": "markdown",
      "metadata": {},
      "source": [
        "# Ephemerides calculation routine"
      ]
    },
    {
      "cell_type": "code",
      "execution_count": 1,
      "metadata": {},
      "outputs": [
        {
          "name": "stdout",
          "output_type": "stream",
          "text": [
            "Loading kernel latest_leapseconds.tls\n",
            "Loading kernel de441_part-1.bsp\n",
            "Loading kernel de441_part-2.bsp\n",
            "Loading local kernel frame.tk\n",
            "Loading local kernel pck00011.tpc\n",
            "Loading local kernel earth_assoc_itrf93.tf\n"
          ]
        }
      ],
      "source": [
        "from montu import *\n",
        "import matplotlib.pyplot as plt\n",
        "from astropy.time import Time\n",
        "from astroquery.jplhorizons import Horizons\n",
        "\n",
        "%load_ext autoreload\n",
        "%autoreload 2\n",
        "\n",
        "# Load SPICE data\n",
        "Montu.load_kernels()"
      ]
    },
    {
      "cell_type": "markdown",
      "metadata": {},
      "source": [
        "## Final class design"
      ]
    },
    {
      "cell_type": "code",
      "execution_count": 59,
      "metadata": {},
      "outputs": [],
      "source": [
        "from astropy.time import Time\n",
        "from astropy.coordinates import SkyCoord, EarthLocation, AltAz, FK5, ICRS\n",
        "import astropy.units as u\n",
        "from astropy.coordinates.erfa_astrom import erfa_astrom, ErfaAstromInterpolator\n",
        "from functools import lru_cache\n",
        "\n",
        "AU = 149597870.700 # km\n",
        "CSPEED = 299792.458 # km/s \n",
        "\n",
        "class PlanetaryBody(object):\n",
        "    \"\"\"Create a planetary body\n",
        "\n",
        "    Examples: \n",
        "        earth = PlanetaryBody(id='399')\n",
        "        print(Earth.f)\n",
        "    \"\"\"\n",
        "\n",
        "    @lru_cache()\n",
        "    def __new__(cls,id):\n",
        "        \"\"\"This method is intended to avoid creating a new object with the same id\n",
        "        Instead this method create a clone of the previously created object.\n",
        "        \"\"\"\n",
        "        return super().__new__(cls)\n",
        "\n",
        "    def __init__(self,id):\n",
        "\n",
        "        # Obtain properties of object\n",
        "        self.id = id\n",
        "        n,rs=spy.bodvrd(self.id,\"RADII\",3)\n",
        "        self.Re=rs[0]\n",
        "        self.Rt=rs[1]\n",
        "        self.Rp=rs[2]\n",
        "        self.f=(self.Re-self.Rp)/self.Re\n",
        "\n",
        "        # Set dummy ephemerides\n",
        "        self.epochs = []\n",
        "        self.eq_J2000 = SkyCoord(ra=0*u.deg,dec=0*u.deg)\n",
        "        self.eq_epoch = SkyCoord(ra=0*u.deg,dec=0*u.deg)\n",
        "        self.az_epoch = None\n",
        "\n",
        "    def calculate_ephemerides(self,location,epochs,verbose=True):\n",
        "\n",
        "        self.epochs = epochs\n",
        "\n",
        "        # Ephemeris time\n",
        "        et = epochs.et\n",
        "\n",
        "        # Retrieve position of planet\n",
        "        try:\n",
        "            Montu.vprint(verbose,f\"Retrieving position for object {location.planet.id}\")\n",
        "            planetSSBJ2000,lt = spy.spkezr(location.planet.id,et,'J2000','None','SSB')\n",
        "        except:\n",
        "            Montu.vprint(verbose,f\"\\tCorrecting id to {location.planet.id[0]}\")\n",
        "            planetSSBJ2000,lt = spy.spkezr(location.planet.id[0],et,'J2000','None','SSB')\n",
        "            \n",
        "        try:\n",
        "            Montu.vprint(verbose,f\"Retrieving position for object {self.id}\")\n",
        "            bodySSBJ2000,lt = spy.spkezr(self.id,et,'J2000','None','SSB')\n",
        "        except:\n",
        "            Montu.vprint(verbose,f\"\\tCorrecting id to {self.id[0]}\")\n",
        "            bodySSBJ2000,lt = spy.spkezr(self.id[0],et,'J2000','None','SSB')\n",
        "\n",
        "        \"\"\"\n",
        "        This has been tested using Horizons @ 2000-01-01 12:00:00.0 UTC and it gives the \n",
        "        position exactly \n",
        "        \"\"\"\n",
        "        M_J2000_ECLIPJ2000 = spy.pxform('J2000','ECLIPJ2000',et)\n",
        "        Montu.vprint(verbose,epochs.jd)\n",
        "        Montu.vprint(verbose,f\"Planet {location.planet.id} position w.r.t. SSB = \",\n",
        "                     spy.mxv(M_J2000_ECLIPJ2000,planetSSBJ2000[:3]),\n",
        "                     spy.mxv(M_J2000_ECLIPJ2000,planetSSBJ2000[3:])\n",
        "                     )\n",
        "        Montu.vprint(verbose,f\"Body {self.id} position w.r.t. SSB = \",\n",
        "                     spy.mxv(M_J2000_ECLIPJ2000,bodySSBJ2000[:3]),\n",
        "                     spy.mxv(M_J2000_ECLIPJ2000,bodySSBJ2000[3:]),\n",
        "                     )\n",
        "\n",
        "        # Position of the observing site with respect to SSB\n",
        "        location.SSBJ2000 = planetSSBJ2000[:3] + location.J2000\n",
        "        \n",
        "        # Celestial Coordinates at J2000\n",
        "        bodyTOPOJ2000 = bodySSBJ2000[:3] - location.SSBJ2000\n",
        "        r,RAbodyJ2000,DECbodyJ2000 = spy.recrad(bodyTOPOJ2000)\n",
        "        self.eq_J2000 = SkyCoord(ra=RAbodyJ2000*u.rad,dec=DECbodyJ2000*u.rad)\n",
        "        Montu.vprint(verbose,\"Coordinates @ J2000: \",self.eq_J2000.ra/15,self.eq_J2000.dec)\n",
        "\n",
        "        # Celestial Coordinates at Epoch\n",
        "        if location.planet.id == '399':\n",
        "            # Method 1: using astropy\n",
        "            self.eq_epoch = self.eq_J2000.transform_to(FK5(equinox=self.epochs.astrotime))\n",
        "            \n",
        "            \"\"\"\n",
        "            # There is a second method to precess the coordinates using SPICE\n",
        "            Montu.vprint(verbose,f\"Coordinates @ Epoch using astropy : \",self.eq_epoch.ra/15,self.eq_epoch.dec)\n",
        "            # Method 2: using SPICE\n",
        "            M_J2000_Epoch = spy.pxform('J2000','EARTHTRUEEPOCH',et)\n",
        "            bodyTOPOEpoch = spy.mxv(M_J2000_Epoch,bodyTOPOJ2000)\n",
        "            r,RAbody,DECbody = spy.recrad(bodyTOPOEpoch)\n",
        "            self.eq_epoch = SkyCoord(ra=RAbody*u.rad,dec=DECbody*u.rad)\n",
        "            Montu.vprint(verbose,f\"Coordinates @ Epoch using SPICE : \",self.eq_epoch.ra/15,self.eq_epoch.dec)\n",
        "            \"\"\"\n",
        "        else:\n",
        "            self.eq_epoch = SkyCoord(ra=RAbodyJ2000*u.rad,dec=DECbodyJ2000*u.rad)\n",
        "        \n",
        "        Montu.vprint(verbose,\"Coordinates @ Epoch: \",self.eq_epoch.ra/15,self.eq_epoch.dec)\n",
        "\n",
        "        # AltAz Coordinates at body\n",
        "        self.az_epoch = self.eq_J2000.transform_to(location.frame)\n",
        "        Montu.vprint(verbose,\"AltAz @ Epoch: \",self.az_epoch.az.value,self.az_epoch.alt.value)      \n",
        "    \n",
        "    def __str__(self):\n",
        "        str = f\"\"\"\n",
        "Planetary body id: {self.id}\n",
        "Size: {self.Re,self.Rt,self.Rp,self.f}\n",
        "Epoch: {self.epochs.datestr}\n",
        "Coordinates:\n",
        "    equatorial J2000 = {self.eq_J2000}\n",
        "    equatorial @ epochs = {self.eq_epoch}\n",
        "    AltAz @ epochs = {self.az_epoch}\n",
        "\"\"\"\n",
        "        return str\n",
        "class ObservingSite(object):\n",
        "    \"\"\"Create an observing site\n",
        "\n",
        "    Attributes:\n",
        "        \n",
        "        location: dictionary:\n",
        "            lon: float [deg]: geodetic longitude\n",
        "            lat: float [deg]: geodetic latitude\n",
        "            elevation: float [km]: eleveation\n",
        "        \n",
        "        body: dictionary:\n",
        "            id: SPICE id of body\n",
        "            frameid: Rotating reference frame\n",
        "    \"\"\"\n",
        "    def __init__(self,\n",
        "                 location=dict(lon=0*u.deg,lat=0*u.deg,height=0),\n",
        "                 conditions=dict(pressure=0*u.hPa,temperature=0*u.deg_C,relative_humidity=0,obswl=1*u.micron),\n",
        "                 onplanet=PlanetaryBody(id='399')):\n",
        "\n",
        "        # Body\n",
        "        self.planet = onplanet\n",
        "        \n",
        "        # Geodetic coordinates\n",
        "        self.location = location  \n",
        "\n",
        "        # Atmospheric conditions\n",
        "        self.conditions = conditions \n",
        "\n",
        "        # Cartesian coordinates\n",
        "        #kwargs = location | conditions\n",
        "        kwargs = location | dict()\n",
        "        self.site = EarthLocation(**kwargs)\n",
        "        self.ITRF = np.array(list(self.site.value))\n",
        "\n",
        "        # Update site with a dummy time (J2000.0)\n",
        "        self.update_site(MonTime(0,format='et',scale='tt'))\n",
        "\n",
        "    def update_site(self,mtime):  \n",
        "        self.mtime = mtime\n",
        "        et = mtime.et\n",
        "        self.M_ITRF_J2000 = spy.pxform('IAU_EARTH','J2000',et)\n",
        "        self.J2000 = spy.mxv(self.M_ITRF_J2000,np.array(list(self.site.value)))\n",
        "        self.frame = AltAz(obstime=mtime.astrotime,location=self.site)\n",
        "\n",
        "    def __str__(self):\n",
        "        str = f\"\"\"\n",
        "Geodetic coordinates: {self.location}\n",
        "Atmospheric conditions: {self.conditions}\n",
        "Cartesian coordinates:\n",
        "  ITRF = {self.ITRF}\n",
        "  J2000 = {self.J2000}   \n",
        "Planet: {self.planet}\n",
        "Present epoch: {self.mtime.datestr}\n",
        "Frame: {self.frame}\n",
        "\"\"\"\n",
        "        return str"
      ]
    },
    {
      "cell_type": "markdown",
      "metadata": {},
      "source": [
        "Let's test it:"
      ]
    },
    {
      "cell_type": "code",
      "execution_count": 87,
      "metadata": {},
      "outputs": [
        {
          "name": "stdout",
          "output_type": "stream",
          "text": [
            "Date =  -1600-01-01 12:00:00.00\n",
            "Time =  1136672.0004766833\n",
            "Retrieving position for object 399\n",
            "Retrieving position for object 499\n",
            "\tCorrecting id to 4\n",
            "1136672.0004766833\n",
            "Planet 399 position w.r.t. SSB =  [-1.30262696e+08  7.15581325e+07  6.59757711e+05] [-14.79888945 -26.17780062  -0.21212022]\n",
            "Body 499 position w.r.t. SSB =  [ 2.11465772e+08  2.26211055e+07 -6.31614150e+06] [-1.08797027 25.76840812  0.51867821]\n",
            "Coordinates @ J2000:  23d31m53.71185342s -4d17m45.98937256s\n",
            "Coordinates @ Epoch:  20d18m11.20595914s -21d07m31.41105532s\n",
            "AltAz @ Epoch:  110.40604113826734 -11.129366925990883\n"
          ]
        }
      ],
      "source": [
        "# Examples\n",
        "earth = PlanetaryBody(id='399')\n",
        "mars = PlanetaryBody(id='499')\n",
        "sun = PlanetaryBody(id='10')\n",
        "moon = PlanetaryBody(id='301')\n",
        "\n",
        "# Time of observations\n",
        "mtime = MonTime('-1600-01-01 12:00:00.00',scale='utc')\n",
        "print(\"Date = \",mtime.datestr)\n",
        "print(\"Time = \",mtime.jd)\n",
        "\n",
        "# Observing location\n",
        "medellin = ObservingSite(location=dict(lon=-75*u.deg,lat=6*u.deg,height=0*u.km),\n",
        "                         onplanet = earth)\n",
        "medellin.update_site(mtime)\n",
        "\n",
        "# Calculate ephemerides\n",
        "mars.calculate_ephemerides(location=medellin,epochs=mtime,verbose=1)"
      ]
    },
    {
      "cell_type": "markdown",
      "metadata": {},
      "source": [
        "Conclusions:\n",
        "\n",
        "- Computing precession and nutation is a true pain in the ass.\n",
        "- Different sources give you different values: Stellarium, AstroPy, SPICE, HORIZONS.\n",
        "- Supposedly, the most reliable source is HORIZONS, but ¿how can we know it?\n",
        "- I have performed many tests with different times before and the precision oscilates between arcsecs and several degrees (for the most remote times) Terrible!\n",
        "- Some sources of interest that should be consulted are:\n",
        "    - Circular 179 of the USNO: https://aa.usno.navy.mil/downloads/Circular_179.pdf\n",
        "    - Documentation for coordinates system for AstroPy: https://docs.astropy.org/en/stable/coordinates/\n",
        "- The models in Stellarium pretty agrees with Horizons, meaning they are using similar sources.\n",
        "- In order to make just comparisons between Horizons and MontuPython you need to:\n",
        "    - Change the date format in Horizons to Gregorian (not mixed).\n",
        "    - Pass the date as Julian days in UT.\n",
        "- PyPlanets (which uses the analytical model VSOP87) produce results much more similar to MontuPython than NASA Horizons.  ¿Where do the differences come from? ¿is the precession and nutation models in PyPlanets more simple than those in Horizons and Stellarium.\n",
        "- Stellarium uses the VSOP87 model."
      ]
    },
    {
      "cell_type": "code",
      "execution_count": 26,
      "metadata": {},
      "outputs": [
        {
          "data": {
            "text/plain": [
              "2451545.0"
            ]
          },
          "execution_count": 26,
          "metadata": {},
          "output_type": "execute_result"
        }
      ],
      "source": [
        "mtime.jd"
      ]
    },
    {
      "cell_type": "code",
      "execution_count": 65,
      "metadata": {},
      "outputs": [
        {
          "data": {
            "text/plain": [
              "(              x             y             z\n",
              " 0  1.128810e+08 -1.771285e+08 -6.559353e+06,\n",
              "           vx        vy        vz\n",
              " 0  21.470874  14.98432 -0.234728)"
            ]
          },
          "execution_count": 65,
          "metadata": {},
          "output_type": "execute_result"
        }
      ],
      "source": [
        "year = '1601bc'\n",
        "query = Horizons(id='4',location='@0',epochs=dict(start='1601-01-01 12:00:00',stop='1601-01-01 12:01:00',step='1d'))\n",
        "data = query.vectors().to_pandas()\n",
        "data[['x','y','z']] *= AU\n",
        "data[['vx','vy','vz']] *= AU/DAY\n",
        "data[['x','y','z']],data[['vx','vy','vz']]"
      ]
    },
    {
      "cell_type": "code",
      "execution_count": 80,
      "metadata": {},
      "outputs": [
        {
          "data": {
            "text/html": [
              "<div><i>Table masked=True length=1</i>\n",
              "<table id=\"table140202652320528\" class=\"table-striped table-bordered table-condensed\">\n",
              "<thead><tr><th>targetname</th><th>datetime_str</th><th>datetime_jd</th><th>solar_presence</th><th>flags</th><th>RA</th><th>DEC</th><th>RA_app</th><th>DEC_app</th><th>RA_rate</th><th>DEC_rate</th><th>AZ</th><th>EL</th><th>AZ_rate</th><th>EL_rate</th><th>sat_X</th><th>sat_Y</th><th>sat_PANG</th><th>siderealtime</th><th>airmass</th><th>magextinct</th><th>V</th><th>surfbright</th><th>illumination</th><th>illum_defect</th><th>sat_sep</th><th>sat_vis</th><th>ang_width</th><th>PDObsLon</th><th>PDObsLat</th><th>PDSunLon</th><th>PDSunLat</th><th>SubSol_ang</th><th>SubSol_dist</th><th>NPole_ang</th><th>NPole_dist</th><th>EclLon</th><th>EclLat</th><th>r</th><th>r_rate</th><th>delta</th><th>delta_rate</th><th>lighttime</th><th>vel_sun</th><th>vel_obs</th><th>elong</th><th>elongFlag</th><th>alpha</th><th>lunar_elong</th><th>lunar_illum</th><th>sat_alpha</th><th>sunTargetPA</th><th>velocityPA</th><th>OrbPlaneAng</th><th>constellation</th><th>TDB-UT</th><th>ObsEclLon</th><th>ObsEclLat</th><th>NPole_RA</th><th>NPole_DEC</th><th>GlxLon</th><th>GlxLat</th><th>solartime</th><th>earth_lighttime</th><th>RA_3sigma</th><th>DEC_3sigma</th><th>SMAA_3sigma</th><th>SMIA_3sigma</th><th>Theta_3sigma</th><th>Area_3sigma</th><th>RSS_3sigma</th><th>r_3sigma</th><th>r_rate_3sigma</th><th>SBand_3sigma</th><th>XBand_3sigma</th><th>DoppDelay_3sigma</th><th>true_anom</th><th>hour_angle</th><th>alpha_true</th><th>PABLon</th><th>PABLat</th></tr></thead>\n",
              "<thead><tr><th>---</th><th>---</th><th>d</th><th>---</th><th>---</th><th>deg</th><th>deg</th><th>deg</th><th>deg</th><th>arcsec / h</th><th>arcsec / h</th><th>deg</th><th>deg</th><th>arcsec / min</th><th>arcsec / min</th><th>arcsec</th><th>arcsec</th><th>deg</th><th>---</th><th>---</th><th>mag</th><th>mag</th><th>mag / arcsec2</th><th>%</th><th>arcsec</th><th>arcsec</th><th>---</th><th>arcsec</th><th>deg</th><th>deg</th><th>deg</th><th>deg</th><th>deg</th><th>arcsec</th><th>deg</th><th>arcsec</th><th>deg</th><th>deg</th><th>AU</th><th>km / s</th><th>AU</th><th>km / s</th><th>min</th><th>km / s</th><th>km / s</th><th>deg</th><th>---</th><th>deg</th><th>deg</th><th>%</th><th>deg</th><th>deg</th><th>deg</th><th>deg</th><th>---</th><th>s</th><th>deg</th><th>deg</th><th>deg</th><th>deg</th><th>deg</th><th>deg</th><th>---</th><th>min</th><th>arcsec</th><th>arcsec</th><th>arcsec</th><th>arcsec</th><th>deg</th><th>arcsec2</th><th>arcsec</th><th>km</th><th>km / s</th><th>Hz</th><th>Hz</th><th>s</th><th>deg</th><th>---</th><th>deg</th><th>deg</th><th>deg</th></tr></thead>\n",
              "<thead><tr><th>str19</th><th>str18</th><th>float64</th><th>str1</th><th>str1</th><th>float64</th><th>float64</th><th>float64</th><th>float64</th><th>float64</th><th>float64</th><th>float64</th><th>float64</th><th>float64</th><th>float64</th><th>float64</th><th>float64</th><th>float64</th><th>float64</th><th>int64</th><th>int64</th><th>int64</th><th>int64</th><th>int64</th><th>int64</th><th>float64</th><th>str1</th><th>int64</th><th>int64</th><th>int64</th><th>int64</th><th>int64</th><th>str3</th><th>int64</th><th>int64</th><th>int64</th><th>float64</th><th>float64</th><th>float64</th><th>float64</th><th>float64</th><th>float64</th><th>float64</th><th>float64</th><th>float64</th><th>float64</th><th>str2</th><th>float64</th><th>float64</th><th>float64</th><th>float64</th><th>float64</th><th>float64</th><th>float64</th><th>str3</th><th>float64</th><th>float64</th><th>float64</th><th>int64</th><th>int64</th><th>float64</th><th>float64</th><th>float64</th><th>float64</th><th>int64</th><th>int64</th><th>int64</th><th>int64</th><th>int64</th><th>int64</th><th>int64</th><th>int64</th><th>int64</th><th>int64</th><th>int64</th><th>int64</th><th>float64</th><th>float64</th><th>float64</th><th>float64</th><th>float64</th></tr></thead>\n",
              "<tr><td>Mars Barycenter (4)</td><td>b1602-Dec-18 12:00</td><td>1136644.0</td><td>*</td><td></td><td>333.12656</td><td>-12.63994</td><td>281.69939</td><td>-24.63237</td><td>116.7309</td><td>9.666536</td><td>113.939623</td><td>-15.603199</td><td>-7.25</td><td>818.36</td><td>97784.851</td><td>-6376.75</td><td>99.721</td><td>11.8174040122</td><td>999</td><td>--</td><td>--</td><td>--</td><td>--</td><td>--</td><td>97161.67</td><td>*</td><td>--</td><td>--</td><td>--</td><td>--</td><td>--</td><td>n.a</td><td>--</td><td>--</td><td>--</td><td>349.1325</td><td>-1.9912</td><td>1.40128321223</td><td>1.0648754</td><td>2.20553888780212</td><td>6.2423618</td><td>18.3429076</td><td>26.152097</td><td>52.4178577</td><td>26.9894</td><td>/T</td><td>18.5956</td><td>4.929</td><td>7.4097</td><td>134.4151</td><td>71.143</td><td>248.976</td><td>-0.66828</td><td>Aqr</td><td>36977.068139</td><td>280.6240592</td><td>-1.1887801</td><td>--</td><td>--</td><td>46.223853</td><td>-50.137444</td><td>7.0026418089</td><td>0.000355</td><td>--</td><td>--</td><td>--</td><td>--</td><td>--</td><td>--</td><td>--</td><td>--</td><td>--</td><td>--</td><td>--</td><td>--</td><td>29.2355</td><td>-6.962555612</td><td>18.5904</td><td>339.8306</td><td>-1.744</td></tr>\n",
              "</table></div>"
            ],
            "text/plain": [
              "<Table masked=True length=1>\n",
              "     targetname        datetime_str    datetime_jd ...  PABLon   PABLat\n",
              "        ---                ---              d      ...   deg      deg  \n",
              "       str19              str18          float64   ... float64  float64\n",
              "------------------- ------------------ ----------- ... -------- -------\n",
              "Mars Barycenter (4) b1602-Dec-18 12:00   1136644.0 ... 339.8306  -1.744"
            ]
          },
          "execution_count": 80,
          "metadata": {},
          "output_type": "execute_result"
        }
      ],
      "source": [
        "year = '1602bc'\n",
        "query = Horizons(id='4',location=dict(lon=285,lat=6,elevation=0),epochs=dict(start=f'{year}-12-18 12:00:00',stop=f'{year}-12-18 12:01:00',step='1d'))\n",
        "query.ephemerides()"
      ]
    },
    {
      "cell_type": "code",
      "execution_count": 90,
      "metadata": {},
      "outputs": [
        {
          "data": {
            "text/html": [
              "<div><i>Table masked=True length=1</i>\n",
              "<table id=\"table140202657629136\" class=\"table-striped table-bordered table-condensed\">\n",
              "<thead><tr><th>targetname</th><th>datetime_str</th><th>datetime_jd</th><th>solar_presence</th><th>flags</th><th>RA</th><th>DEC</th><th>RA_app</th><th>DEC_app</th><th>RA_rate</th><th>DEC_rate</th><th>AZ</th><th>EL</th><th>AZ_rate</th><th>EL_rate</th><th>sat_X</th><th>sat_Y</th><th>sat_PANG</th><th>siderealtime</th><th>airmass</th><th>magextinct</th><th>V</th><th>surfbright</th><th>illumination</th><th>illum_defect</th><th>sat_sep</th><th>sat_vis</th><th>ang_width</th><th>PDObsLon</th><th>PDObsLat</th><th>PDSunLon</th><th>PDSunLat</th><th>SubSol_ang</th><th>SubSol_dist</th><th>NPole_ang</th><th>NPole_dist</th><th>EclLon</th><th>EclLat</th><th>r</th><th>r_rate</th><th>delta</th><th>delta_rate</th><th>lighttime</th><th>vel_sun</th><th>vel_obs</th><th>elong</th><th>elongFlag</th><th>alpha</th><th>lunar_elong</th><th>lunar_illum</th><th>sat_alpha</th><th>sunTargetPA</th><th>velocityPA</th><th>OrbPlaneAng</th><th>constellation</th><th>TDB-UT</th><th>ObsEclLon</th><th>ObsEclLat</th><th>NPole_RA</th><th>NPole_DEC</th><th>GlxLon</th><th>GlxLat</th><th>solartime</th><th>earth_lighttime</th><th>RA_3sigma</th><th>DEC_3sigma</th><th>SMAA_3sigma</th><th>SMIA_3sigma</th><th>Theta_3sigma</th><th>Area_3sigma</th><th>RSS_3sigma</th><th>r_3sigma</th><th>r_rate_3sigma</th><th>SBand_3sigma</th><th>XBand_3sigma</th><th>DoppDelay_3sigma</th><th>true_anom</th><th>hour_angle</th><th>alpha_true</th><th>PABLon</th><th>PABLat</th></tr></thead>\n",
              "<thead><tr><th>---</th><th>---</th><th>d</th><th>---</th><th>---</th><th>deg</th><th>deg</th><th>deg</th><th>deg</th><th>arcsec / h</th><th>arcsec / h</th><th>deg</th><th>deg</th><th>arcsec / min</th><th>arcsec / min</th><th>arcsec</th><th>arcsec</th><th>deg</th><th>---</th><th>---</th><th>mag</th><th>mag</th><th>mag / arcsec2</th><th>%</th><th>arcsec</th><th>arcsec</th><th>---</th><th>arcsec</th><th>deg</th><th>deg</th><th>deg</th><th>deg</th><th>deg</th><th>arcsec</th><th>deg</th><th>arcsec</th><th>deg</th><th>deg</th><th>AU</th><th>km / s</th><th>AU</th><th>km / s</th><th>min</th><th>km / s</th><th>km / s</th><th>deg</th><th>---</th><th>deg</th><th>deg</th><th>%</th><th>deg</th><th>deg</th><th>deg</th><th>deg</th><th>---</th><th>s</th><th>deg</th><th>deg</th><th>deg</th><th>deg</th><th>deg</th><th>deg</th><th>---</th><th>min</th><th>arcsec</th><th>arcsec</th><th>arcsec</th><th>arcsec</th><th>deg</th><th>arcsec2</th><th>arcsec</th><th>km</th><th>km / s</th><th>Hz</th><th>Hz</th><th>s</th><th>deg</th><th>---</th><th>deg</th><th>deg</th><th>deg</th></tr></thead>\n",
              "<thead><tr><th>str19</th><th>str25</th><th>float64</th><th>str1</th><th>str1</th><th>float64</th><th>float64</th><th>float64</th><th>float64</th><th>float64</th><th>float64</th><th>float64</th><th>float64</th><th>float64</th><th>float64</th><th>float64</th><th>float64</th><th>float64</th><th>float64</th><th>int64</th><th>int64</th><th>int64</th><th>int64</th><th>int64</th><th>int64</th><th>float64</th><th>str1</th><th>int64</th><th>int64</th><th>int64</th><th>int64</th><th>int64</th><th>str3</th><th>int64</th><th>int64</th><th>int64</th><th>float64</th><th>float64</th><th>float64</th><th>float64</th><th>float64</th><th>float64</th><th>float64</th><th>float64</th><th>float64</th><th>float64</th><th>str2</th><th>float64</th><th>float64</th><th>float64</th><th>float64</th><th>float64</th><th>float64</th><th>float64</th><th>str3</th><th>float64</th><th>float64</th><th>float64</th><th>int64</th><th>int64</th><th>float64</th><th>float64</th><th>float64</th><th>float64</th><th>int64</th><th>int64</th><th>int64</th><th>int64</th><th>int64</th><th>int64</th><th>int64</th><th>int64</th><th>int64</th><th>int64</th><th>int64</th><th>int64</th><th>float64</th><th>float64</th><th>float64</th><th>float64</th><th>float64</th></tr></thead>\n",
              "<tr><td>Mars Barycenter (4)</td><td>b1601-Jan-15 12:00:00.000</td><td>1136672.0</td><td>*</td><td></td><td>353.2685</td><td>-4.16406</td><td>304.88068</td><td>-21.04867</td><td>111.582</td><td>27.09602</td><td>110.314014</td><td>-11.481637</td><td>29.9</td><td>839.86</td><td>72200.801</td><td>8223.867</td><td>87.802</td><td>13.6573015453</td><td>999</td><td>--</td><td>--</td><td>--</td><td>--</td><td>--</td><td>73199.79</td><td>*</td><td>--</td><td>--</td><td>--</td><td>--</td><td>--</td><td>n.a</td><td>--</td><td>--</td><td>--</td><td>6.1715</td><td>-1.6949</td><td>1.42281243148</td><td>1.5756192</td><td>2.30966103046323</td><td>5.7567233</td><td>19.20886505</td><td>25.7833581</td><td>53.7382914</td><td>20.3333</td><td>/T</td><td>14.0044</td><td>8.785</td><td>1.0888</td><td>145.6623</td><td>69.109</td><td>245.761</td><td>-0.8024</td><td>Aqr</td><td>36975.416044</td><td>302.2627446</td><td>-1.0574999</td><td>--</td><td>--</td><td>80.333257</td><td>-60.38354</td><td>6.7880607783</td><td>0.000355</td><td>--</td><td>--</td><td>--</td><td>--</td><td>--</td><td>--</td><td>--</td><td>--</td><td>--</td><td>--</td><td>--</td><td>--</td><td>46.2655</td><td>-6.668077115</td><td>13.999</td><td>359.1693</td><td>-1.4346</td></tr>\n",
              "</table></div>"
            ],
            "text/plain": [
              "<Table masked=True length=1>\n",
              "     targetname            datetime_str       datetime_jd ...  PABLon   PABLat\n",
              "        ---                    ---                 d      ...   deg      deg  \n",
              "       str19                  str25             float64   ... float64  float64\n",
              "------------------- ------------------------- ----------- ... -------- -------\n",
              "Mars Barycenter (4) b1601-Jan-15 12:00:00.000   1136672.0 ... 359.1693 -1.4346"
            ]
          },
          "execution_count": 90,
          "metadata": {},
          "output_type": "execute_result"
        }
      ],
      "source": [
        "query = Horizons(id='4',location=dict(lon=285,lat=6,elevation=0),epochs=1136672)\n",
        "query.ephemerides()"
      ]
    },
    {
      "cell_type": "code",
      "execution_count": 103,
      "metadata": {},
      "outputs": [
        {
          "data": {
            "text/plain": [
              "10"
            ]
          },
          "execution_count": 103,
          "metadata": {},
          "output_type": "execute_result"
        }
      ],
      "source": [
        "mtime = MonTime('-1600-01-01 12:00:00',scale='tt')\n",
        "jds = np.arange(mtime.jd,mtime.jd-1000,-100)\n",
        "len(jds)"
      ]
    },
    {
      "cell_type": "code",
      "execution_count": 104,
      "metadata": {},
      "outputs": [
        {
          "data": {
            "text/html": [
              "<div><i>Table masked=True length=10</i>\n",
              "<table id=\"table140202364085680\" class=\"table-striped table-bordered table-condensed\">\n",
              "<thead><tr><th>targetname</th><th>datetime_str</th><th>datetime_jd</th><th>solar_presence</th><th>flags</th><th>RA</th><th>DEC</th><th>RA_app</th><th>DEC_app</th><th>RA_rate</th><th>DEC_rate</th><th>AZ</th><th>EL</th><th>AZ_rate</th><th>EL_rate</th><th>sat_X</th><th>sat_Y</th><th>sat_PANG</th><th>siderealtime</th><th>airmass</th><th>magextinct</th><th>V</th><th>surfbright</th><th>illumination</th><th>illum_defect</th><th>sat_sep</th><th>sat_vis</th><th>ang_width</th><th>PDObsLon</th><th>PDObsLat</th><th>PDSunLon</th><th>PDSunLat</th><th>SubSol_ang</th><th>SubSol_dist</th><th>NPole_ang</th><th>NPole_dist</th><th>EclLon</th><th>EclLat</th><th>r</th><th>r_rate</th><th>delta</th><th>delta_rate</th><th>lighttime</th><th>vel_sun</th><th>vel_obs</th><th>elong</th><th>elongFlag</th><th>alpha</th><th>lunar_elong</th><th>lunar_illum</th><th>sat_alpha</th><th>sunTargetPA</th><th>velocityPA</th><th>OrbPlaneAng</th><th>constellation</th><th>TDB-UT</th><th>ObsEclLon</th><th>ObsEclLat</th><th>NPole_RA</th><th>NPole_DEC</th><th>GlxLon</th><th>GlxLat</th><th>solartime</th><th>earth_lighttime</th><th>RA_3sigma</th><th>DEC_3sigma</th><th>SMAA_3sigma</th><th>SMIA_3sigma</th><th>Theta_3sigma</th><th>Area_3sigma</th><th>RSS_3sigma</th><th>r_3sigma</th><th>r_rate_3sigma</th><th>SBand_3sigma</th><th>XBand_3sigma</th><th>DoppDelay_3sigma</th><th>true_anom</th><th>hour_angle</th><th>alpha_true</th><th>PABLon</th><th>PABLat</th></tr></thead>\n",
              "<thead><tr><th>---</th><th>---</th><th>d</th><th>---</th><th>---</th><th>deg</th><th>deg</th><th>deg</th><th>deg</th><th>arcsec / h</th><th>arcsec / h</th><th>deg</th><th>deg</th><th>arcsec / min</th><th>arcsec / min</th><th>arcsec</th><th>arcsec</th><th>deg</th><th>---</th><th>---</th><th>mag</th><th>mag</th><th>mag / arcsec2</th><th>%</th><th>arcsec</th><th>arcsec</th><th>---</th><th>arcsec</th><th>deg</th><th>deg</th><th>deg</th><th>deg</th><th>deg</th><th>arcsec</th><th>deg</th><th>arcsec</th><th>deg</th><th>deg</th><th>AU</th><th>km / s</th><th>AU</th><th>km / s</th><th>min</th><th>km / s</th><th>km / s</th><th>deg</th><th>---</th><th>deg</th><th>deg</th><th>%</th><th>deg</th><th>deg</th><th>deg</th><th>deg</th><th>---</th><th>s</th><th>deg</th><th>deg</th><th>deg</th><th>deg</th><th>deg</th><th>deg</th><th>---</th><th>min</th><th>arcsec</th><th>arcsec</th><th>arcsec</th><th>arcsec</th><th>deg</th><th>arcsec2</th><th>arcsec</th><th>km</th><th>km / s</th><th>Hz</th><th>Hz</th><th>s</th><th>deg</th><th>---</th><th>deg</th><th>deg</th><th>deg</th></tr></thead>\n",
              "<thead><tr><th>str19</th><th>str25</th><th>float64</th><th>str1</th><th>str1</th><th>float64</th><th>float64</th><th>float64</th><th>float64</th><th>float64</th><th>float64</th><th>float64</th><th>float64</th><th>float64</th><th>float64</th><th>float64</th><th>float64</th><th>float64</th><th>float64</th><th>float64</th><th>float64</th><th>int64</th><th>int64</th><th>int64</th><th>int64</th><th>float64</th><th>str1</th><th>int64</th><th>int64</th><th>int64</th><th>int64</th><th>int64</th><th>str3</th><th>int64</th><th>int64</th><th>int64</th><th>float64</th><th>float64</th><th>float64</th><th>float64</th><th>float64</th><th>float64</th><th>float64</th><th>float64</th><th>float64</th><th>float64</th><th>str2</th><th>float64</th><th>float64</th><th>float64</th><th>float64</th><th>float64</th><th>float64</th><th>float64</th><th>str3</th><th>float64</th><th>float64</th><th>float64</th><th>int64</th><th>int64</th><th>float64</th><th>float64</th><th>float64</th><th>float64</th><th>int64</th><th>int64</th><th>int64</th><th>int64</th><th>int64</th><th>int64</th><th>int64</th><th>int64</th><th>int64</th><th>int64</th><th>int64</th><th>int64</th><th>float64</th><th>float64</th><th>float64</th><th>float64</th><th>float64</th></tr></thead>\n",
              "<tr><td>Mars Barycenter (4)</td><td>b1604-Jul-29 12:00:00.000</td><td>1135772.0</td><td>*</td><td>m</td><td>205.93988</td><td>-10.57471</td><td>159.79838</td><td>9.07263</td><td>94.17443</td><td>-40.5547</td><td>75.819114</td><td>-30.282665</td><td>192.66</td><td>868.49</td><td>156264.206</td><td>-47215.13</td><td>98.592</td><td>2.518395673</td><td>999.0</td><td>--</td><td>--</td><td>--</td><td>--</td><td>--</td><td>168474.2</td><td>*</td><td>--</td><td>--</td><td>--</td><td>--</td><td>--</td><td>n.a</td><td>--</td><td>--</td><td>--</td><td>237.2681</td><td>0.0794</td><td>1.493937655915</td><td>-2.1656066</td><td>1.99026328431593</td><td>6.9318267</td><td>16.552515</td><td>24.6046343</td><td>41.6930716</td><td>46.7984</td><td>/T</td><td>29.3942</td><td>152.9</td><td>97.0933</td><td>103.8074</td><td>111.069</td><td>293.416</td><td>0.95219</td><td>Vir</td><td>37028.537599</td><td>157.9351772</td><td>0.3504839</td><td>--</td><td>--</td><td>323.27338</td><td>50.221206</td><td>6.9903732727</td><td>0.000355</td><td>--</td><td>--</td><td>--</td><td>--</td><td>--</td><td>--</td><td>--</td><td>--</td><td>--</td><td>--</td><td>--</td><td>--</td><td>277.3853</td><td>-8.134829359</td><td>29.3902</td><td>222.5683</td><td>0.1202</td></tr>\n",
              "<tr><td>Mars Barycenter (4)</td><td>b1604-Nov-06 12:00:00.000</td><td>1135872.0</td><td>*</td><td>m</td><td>282.76551</td><td>-24.21008</td><td>228.9494</td><td>-19.30453</td><td>112.612</td><td>-32.6389</td><td>108.981326</td><td>-4.432386</td><td>71.87</td><td>846.8</td><td>70013.551</td><td>-25804.71</td><td>113.046</td><td>9.0893542594</td><td>999.0</td><td>--</td><td>--</td><td>--</td><td>--</td><td>--</td><td>73530.53</td><td>*</td><td>--</td><td>--</td><td>--</td><td>--</td><td>--</td><td>n.a</td><td>--</td><td>--</td><td>--</td><td>295.8377</td><td>-1.7623</td><td>1.39629605588</td><td>-0.8889163</td><td>2.27407865044865</td><td>2.7541119</td><td>18.91293542</td><td>26.2382819</td><td>53.7862847</td><td>20.4251</td><td>/T</td><td>14.2118</td><td>37.4</td><td>2.2922</td><td>145.3631</td><td>87.062</td><td>266.483</td><td>-0.13863</td><td>Sgr</td><td>37022.633318</td><td>231.6939041</td><td>-0.8086887</td><td>--</td><td>--</td><td>11.082637</td><td>-10.694917</td><td>7.1522492946</td><td>0.000355</td><td>--</td><td>--</td><td>--</td><td>--</td><td>--</td><td>--</td><td>--</td><td>--</td><td>--</td><td>--</td><td>--</td><td>--</td><td>335.9829</td><td>-6.173939164</td><td>14.2063</td><td>288.7302</td><td>-1.5352</td></tr>\n",
              "<tr><td>Mars Barycenter (4)</td><td>b1603-Feb-14 12:00:00.000</td><td>1135972.0</td><td>*</td><td></td><td>0.37828</td><td>-1.02383</td><td>312.84993</td><td>-19.08646</td><td>109.8899</td><td>31.72337</td><td>110.516199</td><td>9.330195</td><td>143.25</td><td>838.88</td><td>-6856.27</td><td>-5962.62</td><td>228.547</td><td>15.6603952726</td><td>5.901</td><td>1.659</td><td>--</td><td>--</td><td>--</td><td>--</td><td>9062.073</td><td>*</td><td>--</td><td>--</td><td>--</td><td>--</td><td>--</td><td>n.a</td><td>--</td><td>--</td><td>--</td><td>358.3276</td><td>-1.8517</td><td>1.411624220352</td><td>1.3586749</td><td>2.40984271295893</td><td>1.0078682</td><td>20.0420507</td><td>25.9742476</td><td>55.5388603</td><td>2.5172</td><td>/L</td><td>1.782</td><td>123.0</td><td>75.5754</td><td>175.7007</td><td>221.235</td><td>245.542</td><td>-0.73465</td><td>Psc</td><td>37016.729508</td><td>310.0011986</td><td>-1.0589935</td><td>--</td><td>--</td><td>96.19849</td><td>-61.278274</td><td>6.6706547714</td><td>0.000355</td><td>--</td><td>--</td><td>--</td><td>--</td><td>--</td><td>--</td><td>--</td><td>--</td><td>--</td><td>--</td><td>--</td><td>--</td><td>38.459</td><td>-5.196266568</td><td>1.7872</td><td>359.1313</td><td>-1.471</td></tr>\n",
              "<tr><td>Mars Barycenter (4)</td><td>b1603-May-25 12:00:00.000</td><td>1136072.0</td><td>*</td><td>m</td><td>70.66347</td><td>22.34989</td><td>20.63484</td><td>8.49348</td><td>92.86476</td><td>40.0186</td><td>83.97108</td><td>43.172113</td><td>3.63</td><td>891.01</td><td>-86902.08</td><td>-32991.48</td><td>252.872</td><td>22.231346752</td><td>1.459</td><td>0.41</td><td>--</td><td>--</td><td>--</td><td>--</td><td>94623.63</td><td>*</td><td>--</td><td>--</td><td>--</td><td>--</td><td>--</td><td>n.a</td><td>--</td><td>--</td><td>--</td><td>54.9594</td><td>-0.1645</td><td>1.523517885675</td><td>2.1757381</td><td>2.36796052417533</td><td>-4.1485752</td><td>19.69372716</td><td>24.1316424</td><td>48.4188642</td><td>26.2843</td><td>/L</td><td>17.2093</td><td>81.9</td><td>65.7178</td><td>136.5063</td><td>261.554</td><td>260.217</td><td>0.36462</td><td>Tau</td><td>37010.82617</td><td>22.2411876</td><td>-0.3476253</td><td>--</td><td>--</td><td>177.19384</td><td>-15.382234</td><td>7.1668223723</td><td>0.000355</td><td>--</td><td>--</td><td>--</td><td>--</td><td>--</td><td>--</td><td>--</td><td>--</td><td>--</td><td>--</td><td>--</td><td>--</td><td>95.1218</td><td>-3.144309356</td><td>17.2143</td><td>63.5609</td><td>-0.0328</td></tr>\n",
              "<tr><td>Mars Barycenter (4)</td><td>b1603-Sep-02 12:00:00.000</td><td>1136172.0</td><td>*</td><td></td><td>138.22203</td><td>17.39134</td><td>85.00073</td><td>24.66662</td><td>85.5327</td><td>5.415815</td><td>32.302533</td><td>67.571584</td><td>-664.14</td><td>478.72</td><td>-219657.23</td><td>40877.512</td><td>291.011</td><td>4.8023755552</td><td>1.081</td><td>0.304</td><td>--</td><td>--</td><td>--</td><td>--</td><td>215598.7</td><td>*</td><td>--</td><td>--</td><td>--</td><td>--</td><td>--</td><td>n.a</td><td>--</td><td>--</td><td>--</td><td>103.4751</td><td>1.4711</td><td>1.629588081329</td><td>1.2937582</td><td>1.88282912538166</td><td>-13.277583</td><td>15.65901235</td><td>22.505991</td><td>35.1169428</td><td>59.8885</td><td>/L</td><td>31.9003</td><td>105.0</td><td>14.8996</td><td>88.2112</td><td>288.08</td><td>286.162</td><td>0.82744</td><td>Cnc</td><td>37004.923303</td><td>85.4573921</td><td>0.8637126</td><td>--</td><td>--</td><td>211.886077</td><td>38.887637</td><td>6.9556232604</td><td>0.000355</td><td>--</td><td>--</td><td>--</td><td>--</td><td>--</td><td>--</td><td>--</td><td>--</td><td>--</td><td>--</td><td>--</td><td>--</td><td>143.6787</td><td>-0.864339534</td><td>31.903</td><td>119.4271</td><td>1.4006</td></tr>\n",
              "<tr><td>Mars Barycenter (4)</td><td>b1603-Dec-11 12:00:00.000</td><td>1136272.0</td><td>*</td><td></td><td>181.11427</td><td>2.99293</td><td>133.35886</td><td>21.13147</td><td>26.31896</td><td>-3.20248</td><td>296.457557</td><td>50.912034</td><td>-250.82</td><td>-803.08</td><td>-372594.33</td><td>154707.888</td><td>283.442</td><td>11.3733294192</td><td>1.287</td><td>0.362</td><td>--</td><td>--</td><td>--</td><td>--</td><td>420622.9</td><td>*</td><td>--</td><td>--</td><td>--</td><td>--</td><td>--</td><td>n.a</td><td>--</td><td>--</td><td>--</td><td>147.8849</td><td>2.1143</td><td>1.659330423862</td><td>-0.3063274</td><td>0.96408755247057</td><td>-15.3933305</td><td>8.01807168</td><td>22.0689397</td><td>16.2316365</td><td>116.8397</td><td>/L</td><td>31.935</td><td>67.9</td><td>99.6978</td><td>31.2253</td><td>292.353</td><td>295.367</td><td>-1.36711</td><td>Vir</td><td>36999.020908</td><td>129.8941482</td><td>3.1569475</td><td>--</td><td>--</td><td>275.960735</td><td>63.376638</td><td>7.0491672481</td><td>0.000355</td><td>--</td><td>--</td><td>--</td><td>--</td><td>--</td><td>--</td><td>--</td><td>--</td><td>--</td><td>--</td><td>--</td><td>--</td><td>188.0682</td><td>2.48273883</td><td>31.9324</td><td>163.8485</td><td>2.758</td></tr>\n",
              "<tr><td>Mars Barycenter (4)</td><td>b1602-Mar-21 12:00:00.000</td><td>1136372.0</td><td>*</td><td>m</td><td>165.42534</td><td>10.00288</td><td>115.29815</td><td>25.18165</td><td>7.301385</td><td>-8.12076</td><td>321.885555</td><td>-49.776127</td><td>599.9</td><td>-554.0</td><td>458521.855</td><td>110625.447</td><td>62.609</td><td>17.944351906</td><td>999.0</td><td>--</td><td>--</td><td>--</td><td>--</td><td>--</td><td>455512.3</td><td>*</td><td>--</td><td>--</td><td>--</td><td>--</td><td>--</td><td>n.a</td><td>--</td><td>--</td><td>--</td><td>193.2359</td><td>1.5264</td><td>1.597146075899</td><td>-1.7507266</td><td>0.77438669725919</td><td>10.4087746</td><td>6.44037777</td><td>22.993714</td><td>10.5473586</td><td>126.5312</td><td>/T</td><td>30.5377</td><td>174.6</td><td>17.309</td><td>22.9311</td><td>115.592</td><td>292.179</td><td>-1.42917</td><td>Leo</td><td>36993.118985</td><td>112.7906124</td><td>3.3139626</td><td>--</td><td>--</td><td>241.203805</td><td>58.994057</td><td>6.7889123642</td><td>0.000355</td><td>--</td><td>--</td><td>--</td><td>--</td><td>--</td><td>--</td><td>--</td><td>--</td><td>--</td><td>--</td><td>--</td><td>--</td><td>233.4091</td><td>10.257808622</td><td>30.5411</td><td>177.9884</td><td>2.5972</td></tr>\n",
              "<tr><td>Mars Barycenter (4)</td><td>b1602-Jun-29 12:00:00.000</td><td>1136472.0</td><td>*</td><td></td><td>201.95385</td><td>-9.12392</td><td>155.84731</td><td>10.52921</td><td>86.49323</td><td>-36.9015</td><td>62.61492</td><td>-54.209573</td><td>389.96</td><td>795.37</td><td>247134.415</td><td>-47111.75</td><td>86.084</td><td>0.5153147056</td><td>999.0</td><td>--</td><td>--</td><td>--</td><td>--</td><td>--</td><td>259523.9</td><td>*</td><td>--</td><td>--</td><td>--</td><td>--</td><td>--</td><td>n.a</td><td>--</td><td>--</td><td>--</td><td>244.4268</td><td>-0.1848</td><td>1.477888189396</td><td>-2.1099068</td><td>1.43154646225568</td><td>9.840741</td><td>11.90580888</td><td>24.865855</td><td>28.8504055</td><td>72.09</td><td>/T</td><td>40.7373</td><td>32.5</td><td>62.3121</td><td>67.1727</td><td>112.023</td><td>294.549</td><td>1.15533</td><td>Vir</td><td>36987.217533</td><td>153.7797409</td><td>0.2420645</td><td>--</td><td>--</td><td>317.849841</td><td>52.691857</td><td>7.1203666139</td><td>0.000355</td><td>--</td><td>--</td><td>--</td><td>--</td><td>--</td><td>--</td><td>--</td><td>--</td><td>--</td><td>--</td><td>--</td><td>--</td><td>284.5744</td><td>-9.874505885</td><td>40.7355</td><td>224.0547</td><td>-0.0574</td></tr>\n",
              "<tr><td>Mars Barycenter (4)</td><td>b1602-Oct-07 12:00:00.000</td><td>1136572.0</td><td>*</td><td>m</td><td>274.78305</td><td>-24.93273</td><td>221.53199</td><td>-17.49943</td><td>109.9704</td><td>-36.1679</td><td>106.561317</td><td>-25.838914</td><td>-25.94</td><td>858.47</td><td>148690.227</td><td>-62636.15</td><td>115.44</td><td>7.0862998599</td><td>999.0</td><td>--</td><td>--</td><td>--</td><td>--</td><td>--</td><td>159096.5</td><td>*</td><td>--</td><td>--</td><td>--</td><td>--</td><td>--</td><td>n.a</td><td>--</td><td>--</td><td>--</td><td>303.9706</td><td>-1.9101</td><td>1.390937571891</td><td>-0.5970602</td><td>1.916312862656</td><td>6.8599119</td><td>15.9374881</td><td>26.3311924</td><td>45.2162083</td><td>44.1935</td><td>/T</td><td>29.6198</td><td>171.4</td><td>80.6009</td><td>106.1868</td><td>89.21</td><td>270.045</td><td>0.35033</td><td>Sgr</td><td>36981.316553</td><td>224.4330361</td><td>-1.0851235</td><td>--</td><td>--</td><td>7.168439</td><td>-4.518074</td><td>7.0710276225</td><td>0.000355</td><td>--</td><td>--</td><td>--</td><td>--</td><td>--</td><td>--</td><td>--</td><td>--</td><td>--</td><td>--</td><td>--</td><td>--</td><td>344.1022</td><td>-7.68249934</td><td>29.6155</td><td>289.1504</td><td>-1.7974</td></tr>\n",
              "<tr><td>Mars Barycenter (4)</td><td>b1601-Jan-15 12:00:00.000</td><td>1136672.0</td><td>*</td><td></td><td>353.2685</td><td>-4.16406</td><td>304.88068</td><td>-21.04867</td><td>111.582</td><td>27.09602</td><td>110.314014</td><td>-11.481637</td><td>29.9</td><td>839.86</td><td>72200.801</td><td>8223.867</td><td>87.802</td><td>13.6573015453</td><td>999.0</td><td>--</td><td>--</td><td>--</td><td>--</td><td>--</td><td>73199.79</td><td>*</td><td>--</td><td>--</td><td>--</td><td>--</td><td>--</td><td>n.a</td><td>--</td><td>--</td><td>--</td><td>6.1715</td><td>-1.6949</td><td>1.42281243148</td><td>1.5756192</td><td>2.30966103046323</td><td>5.7567233</td><td>19.20886505</td><td>25.7833581</td><td>53.7382914</td><td>20.3333</td><td>/T</td><td>14.0044</td><td>8.785</td><td>1.0888</td><td>145.6623</td><td>69.109</td><td>245.761</td><td>-0.8024</td><td>Aqr</td><td>36975.416044</td><td>302.2627446</td><td>-1.0574999</td><td>--</td><td>--</td><td>80.333257</td><td>-60.38354</td><td>6.7880607783</td><td>0.000355</td><td>--</td><td>--</td><td>--</td><td>--</td><td>--</td><td>--</td><td>--</td><td>--</td><td>--</td><td>--</td><td>--</td><td>--</td><td>46.2655</td><td>-6.668077115</td><td>13.999</td><td>359.1693</td><td>-1.4346</td></tr>\n",
              "</table></div>"
            ],
            "text/plain": [
              "<Table masked=True length=10>\n",
              "     targetname            datetime_str       datetime_jd ...  PABLon   PABLat\n",
              "        ---                    ---                 d      ...   deg      deg  \n",
              "       str19                  str25             float64   ... float64  float64\n",
              "------------------- ------------------------- ----------- ... -------- -------\n",
              "Mars Barycenter (4) b1604-Jul-29 12:00:00.000   1135772.0 ... 222.5683  0.1202\n",
              "Mars Barycenter (4) b1604-Nov-06 12:00:00.000   1135872.0 ... 288.7302 -1.5352\n",
              "Mars Barycenter (4) b1603-Feb-14 12:00:00.000   1135972.0 ... 359.1313  -1.471\n",
              "Mars Barycenter (4) b1603-May-25 12:00:00.000   1136072.0 ...  63.5609 -0.0328\n",
              "Mars Barycenter (4) b1603-Sep-02 12:00:00.000   1136172.0 ... 119.4271  1.4006\n",
              "Mars Barycenter (4) b1603-Dec-11 12:00:00.000   1136272.0 ... 163.8485   2.758\n",
              "Mars Barycenter (4) b1602-Mar-21 12:00:00.000   1136372.0 ... 177.9884  2.5972\n",
              "Mars Barycenter (4) b1602-Jun-29 12:00:00.000   1136472.0 ... 224.0547 -0.0574\n",
              "Mars Barycenter (4) b1602-Oct-07 12:00:00.000   1136572.0 ... 289.1504 -1.7974\n",
              "Mars Barycenter (4) b1601-Jan-15 12:00:00.000   1136672.0 ... 359.1693 -1.4346"
            ]
          },
          "execution_count": 104,
          "metadata": {},
          "output_type": "execute_result"
        }
      ],
      "source": [
        "query = Horizons(id='4',location=dict(lon=285,lat=6,elevation=0),epochs=jds)\n",
        "query.ephemerides()"
      ]
    },
    {
      "cell_type": "markdown",
      "metadata": {},
      "source": [
        "Guide to Stellarium: https://stellarium.org/files/guide.pdf"
      ]
    },
    {
      "cell_type": "markdown",
      "metadata": {},
      "source": [
        "## PyPlanets"
      ]
    },
    {
      "cell_type": "markdown",
      "metadata": {},
      "source": [
        "Another package that provides positions with relatively good accuracy is `PyPlanets` (https://pypi.org/project/pyplanets/, https://github.com/martin5f/pyplanets). This package uses the VSOP87 semianalytic theory for computing planetary positions."
      ]
    },
    {
      "cell_type": "code",
      "execution_count": 158,
      "metadata": {},
      "outputs": [],
      "source": [
        "from pyplanets.core.epoch import Epoch\n",
        "from pyplanets.core.constellation import Constellation\n",
        "from pyplanets.planets.earth import Earth\n",
        "from pyplanets.planets.mars import Mars"
      ]
    },
    {
      "cell_type": "code",
      "execution_count": 159,
      "metadata": {},
      "outputs": [
        {
          "data": {
            "text/plain": [
              "23.87061494774927"
            ]
          },
          "execution_count": 159,
          "metadata": {},
          "output_type": "execute_result"
        }
      ],
      "source": [
        "e0 = pyplanets.core.coordinates.mean_obliquity(-1500, 4, 10)\n",
        "float(e0)\n"
      ]
    },
    {
      "cell_type": "markdown",
      "metadata": {},
      "source": [
        "Interestingly, the `Epoch` class of PyPlanets use a mixed calendar: Gregorian after 1582-Oct-15 and Julian before."
      ]
    },
    {
      "cell_type": "markdown",
      "metadata": {},
      "source": [
        "Let's compute a position:"
      ]
    },
    {
      "cell_type": "code",
      "execution_count": 170,
      "metadata": {},
      "outputs": [
        {
          "name": "stdout",
          "output_type": "stream",
          "text": [
            "Julian day =  <bound method Epoch.jde of Epoch(625308.0)>\n",
            "[2023-10-01 15:56:32] DEBUG:pyplanets.core.constellation:Iteration-# / delta = 1 / 1.5201502632067154\n",
            "[2023-10-01 15:56:32] DEBUG:pyplanets.core.constellation:Iteration-# / delta = 2 / 1.5203018255369887\n",
            "[2023-10-01 15:56:32] DEBUG:pyplanets.core.constellation:Iteration-# / delta = 3 / 1.5203018189391821\n",
            "[2023-10-01 15:56:32] DEBUG:pyplanets.core.constellation:Iteration-# / delta = 4 / 1.5203018189391821\n",
            "[2023-10-01 15:56:32] DEBUG:pyplanets.core.constellation:Total iterations / tau[min] = 4 / 12.643964606601408\n"
          ]
        },
        {
          "data": {
            "text/plain": [
              "((12.0, 23, 49.36779810826664), (-1.0, 13, 34.98439819692443))"
            ]
          },
          "execution_count": 170,
          "metadata": {},
          "output_type": "execute_result"
        }
      ],
      "source": [
        "epoch = Epoch(-3000, 1, 1, 12, 0, 0)\n",
        "print(\"Julian day = \",epoch.jde)\n",
        "mars = Mars(epoch)\n",
        "earth = Earth(epoch)\n",
        "constellation = Constellation(earth, mars)\n",
        "ra, dec, elon = constellation.geocentric_position()\n",
        "Montu.dec2hex(float(ra)/15), Montu.dec2hex(float(dec))"
      ]
    },
    {
      "cell_type": "code",
      "execution_count": 172,
      "metadata": {},
      "outputs": [
        {
          "data": {
            "text/plain": [
              "Angle(24.02100913228953)"
            ]
          },
          "execution_count": 172,
          "metadata": {},
          "output_type": "execute_result"
        }
      ],
      "source": [
        "pyplanets.core.coordinates.mean_obliquity(epoch)"
      ]
    },
    {
      "cell_type": "markdown",
      "metadata": {},
      "source": [
        "Compare with Montu calculations:"
      ]
    },
    {
      "cell_type": "code",
      "execution_count": 179,
      "metadata": {},
      "outputs": [
        {
          "name": "stdout",
          "output_type": "stream",
          "text": [
            "Date =  -3001-12-07 12:00:00.000\n",
            "Time =  625308.0\n",
            "Retrieving position for object 399\n",
            "Retrieving position for object 499\n",
            "\tCorrecting id to 4\n",
            "625308.0\n",
            "Planet 399 position w.r.t. SSB =  [-1.22086148e+08  8.20096617e+07  1.09791947e+06] [-17.02801759 -24.76619828  -0.26337573]\n",
            "Body 499 position w.r.t. SSB =  [-1.80694180e+08 -1.37734547e+08  3.78429226e+06] [ 16.16053341 -17.82173141  -0.86656891]\n",
            "Coordinates @ J2000:  16d55m29.25157321s -21d55m49.8804411s\n",
            "Coordinates @ Epoch:  12d23m50.11531786s -1d13m44.06302408s\n",
            "AltAz @ Epoch:  144.0832274094903 81.09466373451114\n"
          ]
        }
      ],
      "source": [
        "# Examples\n",
        "earth = PlanetaryBody(id='399')\n",
        "mars = PlanetaryBody(id='499')\n",
        "sun = PlanetaryBody(id='10')\n",
        "moon = PlanetaryBody(id='301')\n",
        "\n",
        "# Time of observations\n",
        "mtime = MonTime(epoch.jde(),format='jd',scale='tt')\n",
        "print(\"Date = \",mtime.datestr)\n",
        "print(\"Time = \",mtime.jd)\n",
        "\n",
        "# Observing location\n",
        "medellin = ObservingSite(location=dict(lon=-75*u.deg,lat=6*u.deg,height=0*u.km),\n",
        "                         onplanet = earth)\n",
        "medellin.update_site(mtime)\n",
        "\n",
        "# Calculate ephemerides\n",
        "mars.calculate_ephemerides(location=medellin,epochs=mtime,verbose=1)"
      ]
    },
    {
      "cell_type": "code",
      "execution_count": null,
      "metadata": {},
      "outputs": [],
      "source": []
    },
    {
      "cell_type": "markdown",
      "metadata": {},
      "source": [
        "Which pretty agrees."
      ]
    },
    {
      "cell_type": "markdown",
      "metadata": {},
      "source": [
        "Interestingly, the values computed by `PyPlanet` are not close to that in Stellarium, that for this time are: RA/Dec (J2000.0): 16h57m45.23s/-21 ${ }^{\\circ} 59^{\\prime} 43.2^{\\prime \\prime}$ RA/Déc (on date): $12 \\mathrm{~h} 25 \\mathrm{~m} 47.75 \\mathrm{~s} / \\mathrm{-1}^{\\circ} 27^{\\prime} 02.7^{\\prime \\prime}$"
      ]
    },
    {
      "cell_type": "code",
      "execution_count": 165,
      "metadata": {},
      "outputs": [],
      "source": [
        "import pyplanets.core.coordinates\n",
        "from pyplanets.core.angle import Angle\n",
        "from pyplanets.core.epoch import Epoch, JDE2000"
      ]
    },
    {
      "cell_type": "code",
      "execution_count": 169,
      "metadata": {},
      "outputs": [
        {
          "name": "stdout",
          "output_type": "stream",
          "text": [
            "Equatorial to horizontal: Azimuth 68.034\n",
            "Equatorial to horizontal: Elevation 15.125\n"
          ]
        }
      ],
      "source": [
        "# Location in the planet\n",
        "lon = Angle(77, 3, 56)\n",
        "lat = Angle(38, 55, 17)\n",
        "\n",
        "# ra and declination\n",
        "ra = Angle(23, 9, 16.641, ra=True)\n",
        "dec = Angle(-6, 43, 11.61)\n",
        "\n",
        "# Sidereal time\n",
        "theta0 = Angle(8, 34, 57.0896, ra=True)\n",
        "\n",
        "# Obliquity\n",
        "eps = Angle(23, 26, 36.87)\n",
        "\n",
        "# Compute correction to convert from mean to apparent sidereal time\n",
        "delta = Angle(0, 0, ((-3.868 * np.cos(eps.rad())) / 15.0), ra=True)\n",
        "theta0 += delta\n",
        "\n",
        "# Hour angle\n",
        "h = theta0 - lon - ra\n",
        "\n",
        "# Conversion\n",
        "azi, ele = pyplanets.core.coordinates.equatorial2horizontal(h, dec, lat)\n",
        "print(\"Equatorial to horizontal: Azimuth\", round(azi, 3))  # 68.034\n",
        "print(\"Equatorial to horizontal: Elevation\", round(ele, 3))  # 15.125"
      ]
    },
    {
      "cell_type": "markdown",
      "metadata": {},
      "source": [
        "## PyEphem"
      ]
    },
    {
      "cell_type": "markdown",
      "metadata": {},
      "source": [
        "Manual: \n",
        "Comment on theory used by PyEphem: https://stackoverflow.com/a/27985894 "
      ]
    },
    {
      "cell_type": "code",
      "execution_count": 173,
      "metadata": {},
      "outputs": [
        {
          "name": "stdout",
          "output_type": "stream",
          "text": [
            "Collecting pyephem\n",
            "  Downloading pyephem-9.99.tar.gz (1.4 kB)\n",
            "  Preparing metadata (setup.py) ... \u001b[?25ldone\n",
            "\u001b[?25hCollecting ephem (from pyephem)\n",
            "  Downloading ephem-4.1.4-cp39-cp39-macosx_10_9_x86_64.whl (1.4 MB)\n",
            "\u001b[2K     \u001b[90m━━━━━━━━━━━━━━━━━━━━━━━━━━━━━━━━━━━━━━━━\u001b[0m \u001b[32m1.4/1.4 MB\u001b[0m \u001b[31m4.0 MB/s\u001b[0m eta \u001b[36m0:00:00\u001b[0ma \u001b[36m0:00:01\u001b[0m\n",
            "\u001b[?25hBuilding wheels for collected packages: pyephem\n",
            "  Building wheel for pyephem (setup.py) ... \u001b[?25ldone\n",
            "\u001b[?25h  Created wheel for pyephem: filename=pyephem-9.99-py3-none-any.whl size=1568 sha256=c722cc209f27fc4c0080c7b826d1214432f68a287d85aa100092ea867d60371c\n",
            "  Stored in directory: /Users/jorgezuluagacallejas/Library/Caches/pip/wheels/02/73/42/2da2a6ffa002ca833e62efa578a65914eba0c5f3a188c07c02\n",
            "Successfully built pyephem\n",
            "\u001b[33mDEPRECATION: pyodbc 4.0.0-unsupported has a non-standard version number. pip 23.3 will enforce this behaviour change. A possible replacement is to upgrade to a newer version of pyodbc or contact the author to suggest that they release a version with a conforming version number. Discussion can be found at https://github.com/pypa/pip/issues/12063\u001b[0m\u001b[33m\n",
            "\u001b[0mInstalling collected packages: ephem, pyephem\n",
            "Successfully installed ephem-4.1.4 pyephem-9.99\n"
          ]
        }
      ],
      "source": [
        "!pip install pyephem"
      ]
    },
    {
      "cell_type": "code",
      "execution_count": 174,
      "metadata": {},
      "outputs": [],
      "source": [
        "import ephem"
      ]
    },
    {
      "cell_type": "code",
      "execution_count": 175,
      "metadata": {},
      "outputs": [],
      "source": [
        "mars = ephem.Mars()"
      ]
    },
    {
      "cell_type": "markdown",
      "metadata": {},
      "source": []
    },
    {
      "cell_type": "code",
      "execution_count": 213,
      "metadata": {},
      "outputs": [
        {
          "name": "stdout",
          "output_type": "stream",
          "text": [
            "12:25:53.30 -1:27:41.3\n"
          ]
        }
      ],
      "source": [
        "mars.compute('-3001/1/1 12:00:00')\n",
        "print(mars.ra, mars.dec)"
      ]
    },
    {
      "cell_type": "code",
      "execution_count": 214,
      "metadata": {},
      "outputs": [
        {
          "name": "stdout",
          "output_type": "stream",
          "text": [
            "142.35529445502598 80.59871839500835\n"
          ]
        }
      ],
      "source": [
        "boston = ephem.Observer()\n",
        "boston.lat = '6'\n",
        "boston.lon = '-75'\n",
        "boston.elevation = 0\n",
        "boston.temp = 0\n",
        "boston.pressure = 0\n",
        "boston.date = '-3001/1/1 12:00:00'\n",
        "mars = ephem.Mars()\n",
        "mars.compute(boston)\n",
        "print(float(mars.az)*RAD, float(mars.alt)*RAD)"
      ]
    },
    {
      "cell_type": "code",
      "execution_count": 203,
      "metadata": {},
      "outputs": [
        {
          "name": "stdout",
          "output_type": "stream",
          "text": [
            "\u001b[0;31mInit signature:\u001b[0m \u001b[0mephem\u001b[0m\u001b[0;34m.\u001b[0m\u001b[0mObserver\u001b[0m\u001b[0;34m(\u001b[0m\u001b[0mself\u001b[0m\u001b[0;34m,\u001b[0m \u001b[0;34m/\u001b[0m\u001b[0;34m,\u001b[0m \u001b[0;34m*\u001b[0m\u001b[0margs\u001b[0m\u001b[0;34m,\u001b[0m \u001b[0;34m**\u001b[0m\u001b[0mkwargs\u001b[0m\u001b[0;34m)\u001b[0m\u001b[0;34m\u001b[0m\u001b[0;34m\u001b[0m\u001b[0m\n",
            "\u001b[0;31mDocstring:\u001b[0m     \n",
            "A location on earth for which positions are to be computed.\n",
            "\n",
            "An `Observer` instance allows you to compute the positions of\n",
            "celestial bodies as seen from a particular latitude and longitude on\n",
            "the Earth's surface.  The constructor takes no parameters; instead,\n",
            "set its attributes once you have created it.  Defaults:\n",
            "\n",
            "`date` - the moment the `Observer` is created\n",
            "`lat` - zero latitude\n",
            "`lon` - zero longitude\n",
            "`elevation` - 0 meters above sea level\n",
            "`horizon` - 0 degrees\n",
            "`epoch` - J2000\n",
            "`temp` - 15 degrees Celsius\n",
            "`pressure` - 1010 mBar\n",
            "\u001b[0;31mFile:\u001b[0m           ~/opt/anaconda3/lib/python3.9/site-packages/ephem/__init__.py\n",
            "\u001b[0;31mType:\u001b[0m           type\n",
            "\u001b[0;31mSubclasses:\u001b[0m     \n"
          ]
        }
      ],
      "source": [
        "ephem.Observer?"
      ]
    },
    {
      "cell_type": "markdown",
      "metadata": {},
      "source": [
        "This is definitively the best package."
      ]
    },
    {
      "cell_type": "markdown",
      "metadata": {},
      "source": [
        "## SkyField"
      ]
    },
    {
      "cell_type": "code",
      "execution_count": 187,
      "metadata": {},
      "outputs": [
        {
          "name": "stdout",
          "output_type": "stream",
          "text": [
            "Requirement already satisfied: skyfield in /Users/jorgezuluagacallejas/opt/anaconda3/lib/python3.9/site-packages (1.42)\n",
            "Requirement already satisfied: certifi>=2017.4.17 in /Users/jorgezuluagacallejas/opt/anaconda3/lib/python3.9/site-packages (from skyfield) (2021.10.8)\n",
            "Requirement already satisfied: jplephem>=2.13 in /Users/jorgezuluagacallejas/opt/anaconda3/lib/python3.9/site-packages (from skyfield) (2.17)\n",
            "Requirement already satisfied: numpy in /Users/jorgezuluagacallejas/opt/anaconda3/lib/python3.9/site-packages (from skyfield) (1.22.4)\n",
            "Requirement already satisfied: sgp4>=2.2 in /Users/jorgezuluagacallejas/opt/anaconda3/lib/python3.9/site-packages (from skyfield) (2.20)\n",
            "\u001b[33mDEPRECATION: pyodbc 4.0.0-unsupported has a non-standard version number. pip 23.3 will enforce this behaviour change. A possible replacement is to upgrade to a newer version of pyodbc or contact the author to suggest that they release a version with a conforming version number. Discussion can be found at https://github.com/pypa/pip/issues/12063\u001b[0m\u001b[33m\n",
            "\u001b[0m"
          ]
        }
      ],
      "source": [
        "!pip install skyfield"
      ]
    },
    {
      "cell_type": "code",
      "execution_count": 215,
      "metadata": {},
      "outputs": [
        {
          "name": "stderr",
          "output_type": "stream",
          "text": [
            "[                                 ]   2% de441.bsp"
          ]
        },
        {
          "ename": "KeyboardInterrupt",
          "evalue": "",
          "output_type": "error",
          "traceback": [
            "\u001b[0;31m---------------------------------------------------------------------------\u001b[0m",
            "\u001b[0;31mKeyboardInterrupt\u001b[0m                         Traceback (most recent call last)",
            "\u001b[1;32m/Users/jorgezuluagacallejas/Dropbox/MiInvestigacion/EgyptianAstronomy/MontuPython/dev/test-ephemerides.ipynb Celda 42\u001b[0m line \u001b[0;36m<module>\u001b[0;34m\u001b[0m\n\u001b[1;32m      <a href='vscode-notebook-cell:/Users/jorgezuluagacallejas/Dropbox/MiInvestigacion/EgyptianAstronomy/MontuPython/dev/test-ephemerides.ipynb#Y516sZmlsZQ%3D%3D?line=4'>5</a>\u001b[0m t \u001b[39m=\u001b[39m ts\u001b[39m.\u001b[39mtt_jd(mtime\u001b[39m.\u001b[39mjd)\n\u001b[1;32m      <a href='vscode-notebook-cell:/Users/jorgezuluagacallejas/Dropbox/MiInvestigacion/EgyptianAstronomy/MontuPython/dev/test-ephemerides.ipynb#Y516sZmlsZQ%3D%3D?line=6'>7</a>\u001b[0m \u001b[39m# Load the JPL ephemeris DE421 (covers 1900-2050).\u001b[39;00m\n\u001b[0;32m----> <a href='vscode-notebook-cell:/Users/jorgezuluagacallejas/Dropbox/MiInvestigacion/EgyptianAstronomy/MontuPython/dev/test-ephemerides.ipynb#Y516sZmlsZQ%3D%3D?line=7'>8</a>\u001b[0m planets \u001b[39m=\u001b[39m load(\u001b[39m'\u001b[39;49m\u001b[39mde441.bsp\u001b[39;49m\u001b[39m'\u001b[39;49m)\n\u001b[1;32m      <a href='vscode-notebook-cell:/Users/jorgezuluagacallejas/Dropbox/MiInvestigacion/EgyptianAstronomy/MontuPython/dev/test-ephemerides.ipynb#Y516sZmlsZQ%3D%3D?line=8'>9</a>\u001b[0m earth, mars \u001b[39m=\u001b[39m planets[\u001b[39m'\u001b[39m\u001b[39mearth\u001b[39m\u001b[39m'\u001b[39m], planets[\u001b[39m'\u001b[39m\u001b[39mmars barycenter\u001b[39m\u001b[39m'\u001b[39m]\n\u001b[1;32m     <a href='vscode-notebook-cell:/Users/jorgezuluagacallejas/Dropbox/MiInvestigacion/EgyptianAstronomy/MontuPython/dev/test-ephemerides.ipynb#Y516sZmlsZQ%3D%3D?line=10'>11</a>\u001b[0m \u001b[39m\"\"\"\u001b[39;00m\n\u001b[1;32m     <a href='vscode-notebook-cell:/Users/jorgezuluagacallejas/Dropbox/MiInvestigacion/EgyptianAstronomy/MontuPython/dev/test-ephemerides.ipynb#Y516sZmlsZQ%3D%3D?line=11'>12</a>\u001b[0m \u001b[39m# What's the position of Mars, viewed from Earth?\u001b[39;00m\n\u001b[1;32m     <a href='vscode-notebook-cell:/Users/jorgezuluagacallejas/Dropbox/MiInvestigacion/EgyptianAstronomy/MontuPython/dev/test-ephemerides.ipynb#Y516sZmlsZQ%3D%3D?line=12'>13</a>\u001b[0m \u001b[39mastrometric = earth.at(t).observe(mars)\u001b[39;00m\n\u001b[0;32m   (...)\u001b[0m\n\u001b[1;32m     <a href='vscode-notebook-cell:/Users/jorgezuluagacallejas/Dropbox/MiInvestigacion/EgyptianAstronomy/MontuPython/dev/test-ephemerides.ipynb#Y516sZmlsZQ%3D%3D?line=17'>18</a>\u001b[0m \u001b[39mprint(distance)\u001b[39;00m\n\u001b[1;32m     <a href='vscode-notebook-cell:/Users/jorgezuluagacallejas/Dropbox/MiInvestigacion/EgyptianAstronomy/MontuPython/dev/test-ephemerides.ipynb#Y516sZmlsZQ%3D%3D?line=18'>19</a>\u001b[0m \u001b[39m\"\"\"\u001b[39;00m\n",
            "File \u001b[0;32m~/opt/anaconda3/lib/python3.9/site-packages/skyfield/iokit.py:193\u001b[0m, in \u001b[0;36mLoader.__call__\u001b[0;34m(self, filename, reload, backup, builtin)\u001b[0m\n\u001b[1;32m    190\u001b[0m     f \u001b[39m=\u001b[39m BytesIO(get_data(\u001b[39m'\u001b[39m\u001b[39mskyfield.data\u001b[39m\u001b[39m'\u001b[39m, filename))\n\u001b[1;32m    191\u001b[0m     \u001b[39mreturn\u001b[39;00m parser(f)\n\u001b[0;32m--> 193\u001b[0m path \u001b[39m=\u001b[39m \u001b[39mself\u001b[39;49m\u001b[39m.\u001b[39;49m_assure(url, filename, reload, backup)\n\u001b[1;32m    195\u001b[0m \u001b[39mif\u001b[39;00m parser \u001b[39mis\u001b[39;00m \u001b[39mnot\u001b[39;00m \u001b[39mNone\u001b[39;00m:\n\u001b[1;32m    196\u001b[0m     \u001b[39mself\u001b[39m\u001b[39m.\u001b[39m_log(\u001b[39m'\u001b[39m\u001b[39m  Parsing with \u001b[39m\u001b[39m{0}\u001b[39;00m\u001b[39m()\u001b[39m\u001b[39m'\u001b[39m, parser\u001b[39m.\u001b[39m\u001b[39m__name__\u001b[39m)\n",
            "File \u001b[0;32m~/opt/anaconda3/lib/python3.9/site-packages/skyfield/iokit.py:214\u001b[0m, in \u001b[0;36mLoader._assure\u001b[0;34m(self, url, filename, reload, backup)\u001b[0m\n\u001b[1;32m    211\u001b[0m         \u001b[39mraise\u001b[39;00m \u001b[39mValueError\u001b[39;00m(\u001b[39m'\u001b[39m\u001b[39mSkyfield does not know where to download \u001b[39m\u001b[39m{!r}\u001b[39;00m\u001b[39m'\u001b[39m\n\u001b[1;32m    212\u001b[0m                          \u001b[39m.\u001b[39mformat(filename))\n\u001b[1;32m    213\u001b[0m     \u001b[39mself\u001b[39m\u001b[39m.\u001b[39m_log(\u001b[39m'\u001b[39m\u001b[39m  Downloading \u001b[39m\u001b[39m{0}\u001b[39;00m\u001b[39m'\u001b[39m, url)\n\u001b[0;32m--> 214\u001b[0m     download(url, path, \u001b[39mself\u001b[39;49m\u001b[39m.\u001b[39;49mverbose, backup\u001b[39m=\u001b[39;49mbackup)\n\u001b[1;32m    215\u001b[0m \u001b[39mreturn\u001b[39;00m path\n",
            "File \u001b[0;32m~/opt/anaconda3/lib/python3.9/site-packages/skyfield/iokit.py:561\u001b[0m, in \u001b[0;36mdownload\u001b[0;34m(url, path, verbose, blocksize, backup)\u001b[0m\n\u001b[1;32m    559\u001b[0m length \u001b[39m=\u001b[39m \u001b[39m0\u001b[39m\n\u001b[1;32m    560\u001b[0m \u001b[39mwhile\u001b[39;00m \u001b[39mTrue\u001b[39;00m:\n\u001b[0;32m--> 561\u001b[0m     data \u001b[39m=\u001b[39m connection\u001b[39m.\u001b[39;49mread(blocksize)\n\u001b[1;32m    562\u001b[0m     \u001b[39mif\u001b[39;00m \u001b[39mnot\u001b[39;00m data:\n\u001b[1;32m    563\u001b[0m         \u001b[39mbreak\u001b[39;00m\n",
            "File \u001b[0;32m~/opt/anaconda3/lib/python3.9/http/client.py:462\u001b[0m, in \u001b[0;36mHTTPResponse.read\u001b[0;34m(self, amt)\u001b[0m\n\u001b[1;32m    459\u001b[0m \u001b[39mif\u001b[39;00m amt \u001b[39mis\u001b[39;00m \u001b[39mnot\u001b[39;00m \u001b[39mNone\u001b[39;00m:\n\u001b[1;32m    460\u001b[0m     \u001b[39m# Amount is given, implement using readinto\u001b[39;00m\n\u001b[1;32m    461\u001b[0m     b \u001b[39m=\u001b[39m \u001b[39mbytearray\u001b[39m(amt)\n\u001b[0;32m--> 462\u001b[0m     n \u001b[39m=\u001b[39m \u001b[39mself\u001b[39;49m\u001b[39m.\u001b[39;49mreadinto(b)\n\u001b[1;32m    463\u001b[0m     \u001b[39mreturn\u001b[39;00m \u001b[39mmemoryview\u001b[39m(b)[:n]\u001b[39m.\u001b[39mtobytes()\n\u001b[1;32m    464\u001b[0m \u001b[39melse\u001b[39;00m:\n\u001b[1;32m    465\u001b[0m     \u001b[39m# Amount is not given (unbounded read) so we must check self.length\u001b[39;00m\n\u001b[1;32m    466\u001b[0m     \u001b[39m# and self.chunked\u001b[39;00m\n",
            "File \u001b[0;32m~/opt/anaconda3/lib/python3.9/http/client.py:506\u001b[0m, in \u001b[0;36mHTTPResponse.readinto\u001b[0;34m(self, b)\u001b[0m\n\u001b[1;32m    501\u001b[0m         b \u001b[39m=\u001b[39m \u001b[39mmemoryview\u001b[39m(b)[\u001b[39m0\u001b[39m:\u001b[39mself\u001b[39m\u001b[39m.\u001b[39mlength]\n\u001b[1;32m    503\u001b[0m \u001b[39m# we do not use _safe_read() here because this may be a .will_close\u001b[39;00m\n\u001b[1;32m    504\u001b[0m \u001b[39m# connection, and the user is reading more bytes than will be provided\u001b[39;00m\n\u001b[1;32m    505\u001b[0m \u001b[39m# (for example, reading in 1k chunks)\u001b[39;00m\n\u001b[0;32m--> 506\u001b[0m n \u001b[39m=\u001b[39m \u001b[39mself\u001b[39;49m\u001b[39m.\u001b[39;49mfp\u001b[39m.\u001b[39;49mreadinto(b)\n\u001b[1;32m    507\u001b[0m \u001b[39mif\u001b[39;00m \u001b[39mnot\u001b[39;00m n \u001b[39mand\u001b[39;00m b:\n\u001b[1;32m    508\u001b[0m     \u001b[39m# Ideally, we would raise IncompleteRead if the content-length\u001b[39;00m\n\u001b[1;32m    509\u001b[0m     \u001b[39m# wasn't satisfied, but it might break compatibility.\u001b[39;00m\n\u001b[1;32m    510\u001b[0m     \u001b[39mself\u001b[39m\u001b[39m.\u001b[39m_close_conn()\n",
            "File \u001b[0;32m~/opt/anaconda3/lib/python3.9/socket.py:704\u001b[0m, in \u001b[0;36mSocketIO.readinto\u001b[0;34m(self, b)\u001b[0m\n\u001b[1;32m    702\u001b[0m \u001b[39mwhile\u001b[39;00m \u001b[39mTrue\u001b[39;00m:\n\u001b[1;32m    703\u001b[0m     \u001b[39mtry\u001b[39;00m:\n\u001b[0;32m--> 704\u001b[0m         \u001b[39mreturn\u001b[39;00m \u001b[39mself\u001b[39;49m\u001b[39m.\u001b[39;49m_sock\u001b[39m.\u001b[39;49mrecv_into(b)\n\u001b[1;32m    705\u001b[0m     \u001b[39mexcept\u001b[39;00m timeout:\n\u001b[1;32m    706\u001b[0m         \u001b[39mself\u001b[39m\u001b[39m.\u001b[39m_timeout_occurred \u001b[39m=\u001b[39m \u001b[39mTrue\u001b[39;00m\n",
            "File \u001b[0;32m~/opt/anaconda3/lib/python3.9/ssl.py:1241\u001b[0m, in \u001b[0;36mSSLSocket.recv_into\u001b[0;34m(self, buffer, nbytes, flags)\u001b[0m\n\u001b[1;32m   1237\u001b[0m     \u001b[39mif\u001b[39;00m flags \u001b[39m!=\u001b[39m \u001b[39m0\u001b[39m:\n\u001b[1;32m   1238\u001b[0m         \u001b[39mraise\u001b[39;00m \u001b[39mValueError\u001b[39;00m(\n\u001b[1;32m   1239\u001b[0m           \u001b[39m\"\u001b[39m\u001b[39mnon-zero flags not allowed in calls to recv_into() on \u001b[39m\u001b[39m%s\u001b[39;00m\u001b[39m\"\u001b[39m \u001b[39m%\u001b[39m\n\u001b[1;32m   1240\u001b[0m           \u001b[39mself\u001b[39m\u001b[39m.\u001b[39m\u001b[39m__class__\u001b[39m)\n\u001b[0;32m-> 1241\u001b[0m     \u001b[39mreturn\u001b[39;00m \u001b[39mself\u001b[39;49m\u001b[39m.\u001b[39;49mread(nbytes, buffer)\n\u001b[1;32m   1242\u001b[0m \u001b[39melse\u001b[39;00m:\n\u001b[1;32m   1243\u001b[0m     \u001b[39mreturn\u001b[39;00m \u001b[39msuper\u001b[39m()\u001b[39m.\u001b[39mrecv_into(buffer, nbytes, flags)\n",
            "File \u001b[0;32m~/opt/anaconda3/lib/python3.9/ssl.py:1099\u001b[0m, in \u001b[0;36mSSLSocket.read\u001b[0;34m(self, len, buffer)\u001b[0m\n\u001b[1;32m   1097\u001b[0m \u001b[39mtry\u001b[39;00m:\n\u001b[1;32m   1098\u001b[0m     \u001b[39mif\u001b[39;00m buffer \u001b[39mis\u001b[39;00m \u001b[39mnot\u001b[39;00m \u001b[39mNone\u001b[39;00m:\n\u001b[0;32m-> 1099\u001b[0m         \u001b[39mreturn\u001b[39;00m \u001b[39mself\u001b[39;49m\u001b[39m.\u001b[39;49m_sslobj\u001b[39m.\u001b[39;49mread(\u001b[39mlen\u001b[39;49m, buffer)\n\u001b[1;32m   1100\u001b[0m     \u001b[39melse\u001b[39;00m:\n\u001b[1;32m   1101\u001b[0m         \u001b[39mreturn\u001b[39;00m \u001b[39mself\u001b[39m\u001b[39m.\u001b[39m_sslobj\u001b[39m.\u001b[39mread(\u001b[39mlen\u001b[39m)\n",
            "\u001b[0;31mKeyboardInterrupt\u001b[0m: "
          ]
        }
      ],
      "source": [
        "from skyfield.api import load\n",
        "\n",
        "# Create a timescale and ask the current time.\n",
        "ts = load.timescale()\n",
        "t = ts.tt_jd(mtime.jd)\n",
        "\n",
        "# Load the JPL ephemeris DE421 (covers 1900-2050).\n",
        "planets = load('de441.bsp')\n",
        "earth, mars = planets['earth'], planets['mars barycenter']\n",
        "\n",
        "\"\"\"\n",
        "# What's the position of Mars, viewed from Earth?\n",
        "astrometric = earth.at(t).observe(mars)\n",
        "ra, dec, distance = astrometric.radec()\n",
        "\n",
        "print(ra)\n",
        "print(dec)\n",
        "print(distance)\n",
        "\"\"\""
      ]
    },
    {
      "cell_type": "code",
      "execution_count": 218,
      "metadata": {},
      "outputs": [
        {
          "name": "stdout",
          "output_type": "stream",
          "text": [
            "TODO.md                       test-basic-tools.ipynb\n",
            "\u001b[34mdata\u001b[m\u001b[m                          test-ephemerides.ipynb\n",
            "\u001b[34mgallery\u001b[m\u001b[m                       test.py\n",
            "montu-mars-conjunctions.ipynb \u001b[34mtmp\u001b[m\u001b[m\n",
            "montunctions.ipynb\n"
          ]
        }
      ],
      "source": [
        "!ls"
      ]
    },
    {
      "cell_type": "code",
      "execution_count": 217,
      "metadata": {},
      "outputs": [],
      "source": [
        "!rm -rf de441*"
      ]
    },
    {
      "cell_type": "code",
      "execution_count": null,
      "metadata": {},
      "outputs": [],
      "source": []
    }
  ],
  "metadata": {
    "colab": {
      "provenance": []
    },
    "kernelspec": {
      "display_name": "Python 3",
      "language": "python",
      "name": "python3"
    },
    "language_info": {
      "codemirror_mode": {
        "name": "ipython",
        "version": 3
      },
      "file_extension": ".py",
      "mimetype": "text/x-python",
      "name": "python",
      "nbconvert_exporter": "python",
      "pygments_lexer": "ipython3",
      "version": "3.9.7"
    }
  },
  "nbformat": 4,
  "nbformat_minor": 0
}
