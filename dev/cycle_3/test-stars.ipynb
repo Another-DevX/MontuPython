{
 "cells": [
  {
   "cell_type": "markdown",
   "metadata": {},
   "source": [
    "# Montu Python \n",
    "## Astronomical ephemerides for the Ancient World\n",
    "## Test: Stars (new stellar catalogue)\n"
   ]
  },
  {
   "cell_type": "code",
   "execution_count": 1,
   "metadata": {},
   "outputs": [],
   "source": [
    "# Montu packages and data\n",
    "import montu as mn\n",
    "\n",
    "# These magic commands are intended to allow updating the packages if they change\n",
    "%load_ext autoreload\n",
    "%autoreload 2"
   ]
  },
  {
   "cell_type": "markdown",
   "metadata": {},
   "source": [
    "## Load catalogue"
   ]
  },
  {
   "cell_type": "markdown",
   "metadata": {},
   "source": [
    "Load full catalogue:"
   ]
  },
  {
   "cell_type": "code",
   "execution_count": 59,
   "metadata": {},
   "outputs": [
    {
     "name": "stdout",
     "output_type": "stream",
     "text": [
      "Number of stars in catalogue: 119626\n"
     ]
    }
   ],
   "source": [
    "allstars = mn.Stars()\n",
    "print(f\"Number of stars in catalogue: {allstars.number}\")"
   ]
  },
  {
   "cell_type": "markdown",
   "metadata": {},
   "source": [
    "The `Stars` object has an attribute which is a DataFrame:"
   ]
  },
  {
   "cell_type": "code",
   "execution_count": 62,
   "metadata": {},
   "outputs": [
    {
     "data": {
      "text/html": [
       "<div>\n",
       "<style scoped>\n",
       "    .dataframe tbody tr th:only-of-type {\n",
       "        vertical-align: middle;\n",
       "    }\n",
       "\n",
       "    .dataframe tbody tr th {\n",
       "        vertical-align: top;\n",
       "    }\n",
       "\n",
       "    .dataframe thead th {\n",
       "        text-align: right;\n",
       "    }\n",
       "</style>\n",
       "<table border=\"1\" class=\"dataframe\">\n",
       "  <thead>\n",
       "    <tr style=\"text-align: right;\">\n",
       "      <th></th>\n",
       "      <th>MN</th>\n",
       "      <th>HD</th>\n",
       "      <th>HR</th>\n",
       "      <th>HIP</th>\n",
       "      <th>Gl</th>\n",
       "      <th>Name</th>\n",
       "      <th>OtherDesignations</th>\n",
       "      <th>ProperName</th>\n",
       "      <th>Bayer</th>\n",
       "      <th>Flamsteed</th>\n",
       "      <th>...</th>\n",
       "      <th>XJ2000</th>\n",
       "      <th>YJ2000</th>\n",
       "      <th>ZJ2000</th>\n",
       "      <th>VXJ2000</th>\n",
       "      <th>VYJ2000</th>\n",
       "      <th>VZJ2000</th>\n",
       "      <th>Primary</th>\n",
       "      <th>MultipleID</th>\n",
       "      <th>IsMultiple</th>\n",
       "      <th>IsVariable</th>\n",
       "    </tr>\n",
       "  </thead>\n",
       "  <tbody>\n",
       "    <tr>\n",
       "      <th>0</th>\n",
       "      <td>1</td>\n",
       "      <td>0</td>\n",
       "      <td>0</td>\n",
       "      <td>0</td>\n",
       "      <td>NaN</td>\n",
       "      <td>Sol</td>\n",
       "      <td>MN 1/Sol</td>\n",
       "      <td>Sol</td>\n",
       "      <td>NaN</td>\n",
       "      <td>NaN</td>\n",
       "      <td>...</td>\n",
       "      <td>0.00000500000000000</td>\n",
       "      <td>0.00000000000000000</td>\n",
       "      <td>0.00000000000000000</td>\n",
       "      <td>0.00000000</td>\n",
       "      <td>0.00000000</td>\n",
       "      <td>0.00000000</td>\n",
       "      <td>0</td>\n",
       "      <td>NaN</td>\n",
       "      <td>0</td>\n",
       "      <td>0</td>\n",
       "    </tr>\n",
       "    <tr>\n",
       "      <th>1</th>\n",
       "      <td>2</td>\n",
       "      <td>48915</td>\n",
       "      <td>2491</td>\n",
       "      <td>32349</td>\n",
       "      <td>Gl 244A</td>\n",
       "      <td>Sirius</td>\n",
       "      <td>9 CMa/9Alp CMa/Gl 244A/HD 48915/HIP 32349/HR 2...</td>\n",
       "      <td>Sirius</td>\n",
       "      <td>α CMa</td>\n",
       "      <td>9 CMa</td>\n",
       "      <td>...</td>\n",
       "      <td>-0.49432300000000001</td>\n",
       "      <td>2.47673100000000002</td>\n",
       "      <td>-0.75848499999999996</td>\n",
       "      <td>-0.00001221</td>\n",
       "      <td>-0.00001207</td>\n",
       "      <td>0.00000953</td>\n",
       "      <td>32263</td>\n",
       "      <td>Gl 244</td>\n",
       "      <td>1</td>\n",
       "      <td>1</td>\n",
       "    </tr>\n",
       "    <tr>\n",
       "      <th>2</th>\n",
       "      <td>3</td>\n",
       "      <td>45348</td>\n",
       "      <td>2326</td>\n",
       "      <td>30438</td>\n",
       "      <td>NaN</td>\n",
       "      <td>Canopus</td>\n",
       "      <td>Alp Car/Canopus/HD 45348/HIP 30438/HR 2326/HYG...</td>\n",
       "      <td>Canopus</td>\n",
       "      <td>α Car</td>\n",
       "      <td>NaN</td>\n",
       "      <td>...</td>\n",
       "      <td>-5.99267899999999987</td>\n",
       "      <td>57.13203399999999732</td>\n",
       "      <td>-75.39610500000000570</td>\n",
       "      <td>-0.00001049</td>\n",
       "      <td>0.00002059</td>\n",
       "      <td>-0.00001140</td>\n",
       "      <td>30365</td>\n",
       "      <td>NaN</td>\n",
       "      <td>0</td>\n",
       "      <td>1</td>\n",
       "    </tr>\n",
       "  </tbody>\n",
       "</table>\n",
       "<p>3 rows × 33 columns</p>\n",
       "</div>"
      ],
      "text/plain": [
       "   MN     HD    HR    HIP       Gl     Name  \\\n",
       "0   1      0     0      0      NaN      Sol   \n",
       "1   2  48915  2491  32349  Gl 244A   Sirius   \n",
       "2   3  45348  2326  30438      NaN  Canopus   \n",
       "\n",
       "                                   OtherDesignations ProperName  Bayer  \\\n",
       "0                                           MN 1/Sol        Sol    NaN   \n",
       "1  9 CMa/9Alp CMa/Gl 244A/HD 48915/HIP 32349/HR 2...     Sirius  α CMa   \n",
       "2  Alp Car/Canopus/HD 45348/HIP 30438/HR 2326/HYG...    Canopus  α Car   \n",
       "\n",
       "  Flamsteed  ...               XJ2000                YJ2000  \\\n",
       "0       NaN  ...  0.00000500000000000   0.00000000000000000   \n",
       "1     9 CMa  ... -0.49432300000000001   2.47673100000000002   \n",
       "2       NaN  ... -5.99267899999999987  57.13203399999999732   \n",
       "\n",
       "                 ZJ2000     VXJ2000     VYJ2000     VZJ2000  Primary  \\\n",
       "0   0.00000000000000000  0.00000000  0.00000000  0.00000000        0   \n",
       "1  -0.75848499999999996 -0.00001221 -0.00001207  0.00000953    32263   \n",
       "2 -75.39610500000000570 -0.00001049  0.00002059 -0.00001140    30365   \n",
       "\n",
       "   MultipleID  IsMultiple  IsVariable  \n",
       "0         NaN           0           0  \n",
       "1      Gl 244           1           1  \n",
       "2         NaN           0           1  \n",
       "\n",
       "[3 rows x 33 columns]"
      ]
     },
     "execution_count": 62,
     "metadata": {},
     "output_type": "execute_result"
    }
   ],
   "source": [
    "allstars.data.head(3)"
   ]
  },
  {
   "cell_type": "markdown",
   "metadata": {},
   "source": [
    "We can filter stars by magnitude:"
   ]
  },
  {
   "cell_type": "code",
   "execution_count": 63,
   "metadata": {},
   "outputs": [
    {
     "data": {
      "text/plain": [
       "8920"
      ]
     },
     "execution_count": 63,
     "metadata": {},
     "output_type": "execute_result"
    }
   ],
   "source": [
    "stars = allstars.get_stars(Vmag=[-2,6.5])\n",
    "stars.number"
   ]
  },
  {
   "cell_type": "markdown",
   "metadata": {},
   "source": [
    "Now get one particular star:"
   ]
  },
  {
   "cell_type": "code",
   "execution_count": 64,
   "metadata": {},
   "outputs": [
    {
     "data": {
      "text/html": [
       "<div>\n",
       "<style scoped>\n",
       "    .dataframe tbody tr th:only-of-type {\n",
       "        vertical-align: middle;\n",
       "    }\n",
       "\n",
       "    .dataframe tbody tr th {\n",
       "        vertical-align: top;\n",
       "    }\n",
       "\n",
       "    .dataframe thead th {\n",
       "        text-align: right;\n",
       "    }\n",
       "</style>\n",
       "<table border=\"1\" class=\"dataframe\">\n",
       "  <thead>\n",
       "    <tr style=\"text-align: right;\">\n",
       "      <th></th>\n",
       "      <th>MN</th>\n",
       "      <th>HD</th>\n",
       "      <th>HR</th>\n",
       "      <th>HIP</th>\n",
       "      <th>Gl</th>\n",
       "      <th>Name</th>\n",
       "      <th>OtherDesignations</th>\n",
       "      <th>ProperName</th>\n",
       "      <th>Bayer</th>\n",
       "      <th>Flamsteed</th>\n",
       "      <th>...</th>\n",
       "      <th>XJ2000</th>\n",
       "      <th>YJ2000</th>\n",
       "      <th>ZJ2000</th>\n",
       "      <th>VXJ2000</th>\n",
       "      <th>VYJ2000</th>\n",
       "      <th>VZJ2000</th>\n",
       "      <th>Primary</th>\n",
       "      <th>MultipleID</th>\n",
       "      <th>IsMultiple</th>\n",
       "      <th>IsVariable</th>\n",
       "    </tr>\n",
       "  </thead>\n",
       "  <tbody>\n",
       "    <tr>\n",
       "      <th>14</th>\n",
       "      <td>15</td>\n",
       "      <td>29139</td>\n",
       "      <td>1457</td>\n",
       "      <td>21421</td>\n",
       "      <td>Gl 171.1A</td>\n",
       "      <td>Aldebaran</td>\n",
       "      <td>87 Tau/87Alp Tau/Aldebaran/Gl 171.1A/HD 29139/...</td>\n",
       "      <td>Aldebaran</td>\n",
       "      <td>α Tau</td>\n",
       "      <td>87 Tau</td>\n",
       "      <td>...</td>\n",
       "      <td>7.0272199999999998</td>\n",
       "      <td>18.28760400000000175</td>\n",
       "      <td>5.80666100000000007</td>\n",
       "      <td>-0.00000214</td>\n",
       "      <td>0.00005709</td>\n",
       "      <td>0.00001528</td>\n",
       "      <td>21368</td>\n",
       "      <td>Gl 171.1</td>\n",
       "      <td>1</td>\n",
       "      <td>1</td>\n",
       "    </tr>\n",
       "  </tbody>\n",
       "</table>\n",
       "<p>1 rows × 33 columns</p>\n",
       "</div>"
      ],
      "text/plain": [
       "    MN     HD    HR    HIP         Gl       Name  \\\n",
       "14  15  29139  1457  21421  Gl 171.1A  Aldebaran   \n",
       "\n",
       "                                    OtherDesignations ProperName  Bayer  \\\n",
       "14  87 Tau/87Alp Tau/Aldebaran/Gl 171.1A/HD 29139/...  Aldebaran  α Tau   \n",
       "\n",
       "   Flamsteed  ...              XJ2000                YJ2000  \\\n",
       "14    87 Tau  ...  7.0272199999999998  18.28760400000000175   \n",
       "\n",
       "                 ZJ2000     VXJ2000     VYJ2000     VZJ2000  Primary  \\\n",
       "14  5.80666100000000007 -0.00000214  0.00005709  0.00001528    21368   \n",
       "\n",
       "    MultipleID  IsMultiple  IsVariable  \n",
       "14    Gl 171.1           1           1  \n",
       "\n",
       "[1 rows x 33 columns]"
      ]
     },
     "execution_count": 64,
     "metadata": {},
     "output_type": "execute_result"
    }
   ],
   "source": [
    "aldebaran = stars.get_stars(ProperName='Aldebaran')\n",
    "aldebaran.data"
   ]
  },
  {
   "cell_type": "code",
   "execution_count": 88,
   "metadata": {},
   "outputs": [
    {
     "data": {
      "image/png": "[encoded data removed]",
      "text/plain": [
       "<Figure size 800x800 with 1 Axes>"
      ]
     },
     "metadata": {},
     "output_type": "display_data"
    }
   ],
   "source": [
    "hyades = stars.get_stars_around(center=[aldebaran.data.RAJ2000,aldebaran.data.DecJ2000],radius=5.5,Vmag=[-1,5])\n",
    "fig = hyades.plot_stars()"
   ]
  },
  {
   "cell_type": "code",
   "execution_count": null,
   "metadata": {},
   "outputs": [],
   "source": []
  }
 ],
 "metadata": {
  "kernelspec": {
   "display_name": "Python 3",
   "language": "python",
   "name": "python3"
  },
  "language_info": {
   "codemirror_mode": {
    "name": "ipython",
    "version": 3
   },
   "file_extension": ".py",
   "mimetype": "text/x-python",
   "name": "python",
   "nbconvert_exporter": "python",
   "pygments_lexer": "ipython3",
   "version": "3.9.16"
  }
 },
 "nbformat": 4,
 "nbformat_minor": 2
}
