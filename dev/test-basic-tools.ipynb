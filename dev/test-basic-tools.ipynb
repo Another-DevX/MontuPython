{
  "cells": [
    {
      "cell_type": "code",
      "execution_count": 1,
      "metadata": {},
      "outputs": [],
      "source": [
        "from montu import *\n",
        "import matplotlib.pyplot as plt\n",
        "from astropy.time import Time\n",
        "from astroquery.jplhorizons import Horizons\n",
        "\n",
        "%load_ext autoreload\n",
        "%autoreload 2"
      ]
    },
    {
      "cell_type": "markdown",
      "metadata": {},
      "source": [
        "## Prepare environment"
      ]
    },
    {
      "cell_type": "markdown",
      "metadata": {},
      "source": [
        "We need to get and connect the files for ephemerides calculation:"
      ]
    },
    {
      "cell_type": "code",
      "execution_count": 2,
      "metadata": {},
      "outputs": [
        {
          "name": "stdout",
          "output_type": "stream",
          "text": [
            "Loading kernel latest_leapseconds.tls\n",
            "Loading kernel de441_part-1.bsp\n"
          ]
        }
      ],
      "source": [
        "# Load SPICE data\n",
        "Montu.load_kernels()"
      ]
    },
    {
      "cell_type": "markdown",
      "metadata": {},
      "source": [
        "## The stars"
      ]
    },
    {
      "cell_type": "markdown",
      "metadata": {},
      "source": [
        "The package is provided with a catalogue with all stars between magnitude -1.44 and magnitude 21."
      ]
    },
    {
      "cell_type": "code",
      "execution_count": 3,
      "metadata": {},
      "outputs": [],
      "source": [
        "allstars=Stars()"
      ]
    },
    {
      "cell_type": "markdown",
      "metadata": {},
      "source": [
        "Get Aldebaran position and stars around it:"
      ]
    },
    {
      "cell_type": "code",
      "execution_count": 4,
      "metadata": {},
      "outputs": [
        {
          "data": {
            "text/plain": [
              "(<Figure size 500x500 with 1 Axes>,\n",
              " <AxesSubplot: xlabel='RA [deg]', ylabel='Dec [deg]'>)"
            ]
          },
          "execution_count": 4,
          "metadata": {},
          "output_type": "execute_result"
        },
        {
          "data": {
            "image/png": "[encoded data removed]",
            "text/plain": [
              "<Figure size 500x500 with 1 Axes>"
            ]
          },
          "metadata": {},
          "output_type": "display_data"
        }
      ],
      "source": [
        "aldebaran = allstars.get_stars(ProperName='Aldebaran')\n",
        "hyades = allstars.get_stars_area(RA=aldebaran.data.RA,Dec=aldebaran.data.Dec,radius=5,Mag=[-1,4])\n",
        "hyades.plot_stars(pad=0.1)"
      ]
    },
    {
      "cell_type": "markdown",
      "metadata": {},
      "source": [
        "## Time issues"
      ]
    },
    {
      "cell_type": "markdown",
      "metadata": {},
      "source": [
        "`SPICE` works with the Gregorian calendar, so, it is hard to compare dates between 59 b.c. and 1582 a.d.  For instance:"
      ]
    },
    {
      "cell_type": "code",
      "execution_count": 5,
      "metadata": {},
      "outputs": [
        {
          "name": "stdout",
          "output_type": "stream",
          "text": [
            "41.18247463623287\n"
          ]
        },
        {
          "data": {
            "text/plain": [
              "1356432.0"
            ]
          },
          "execution_count": 5,
          "metadata": {},
          "output_type": "execute_result"
        }
      ],
      "source": [
        "date = '1000 B.C. 09-07 12:00:00'\n",
        "et = spy.utc2et(date)\n",
        "dt = spy.deltet(et,\"ET\")\n",
        "et -= dt\n",
        "print(dt)\n",
        "jd = spy.unitim(et,\"ET\",\"JDTDB\") \n",
        "jd"
      ]
    },
    {
      "cell_type": "markdown",
      "metadata": {},
      "source": [
        "This julian day, however, correspond to september the 16th in the Julian Calendar which is the date assumed in NASA `Horizons` system. If you compute the coordinates of Mars at that date with `SPICE`` you obtain:"
      ]
    },
    {
      "cell_type": "code",
      "execution_count": 6,
      "metadata": {},
      "outputs": [
        {
          "data": {
            "text/plain": [
              "(1356432.0, (18.0, 30, 29.027181943781954), (-25.0, 31, 5.584286831078487))"
            ]
          },
          "execution_count": 6,
          "metadata": {},
          "output_type": "execute_result"
        }
      ],
      "source": [
        "X,lt = spy.spkezr('4',et,'J2000','LT+S','399')\n",
        "r,RA,DEC = spy.reclat(X[:3])\n",
        "ra = np.mod(RA*RAD,360)/15\n",
        "jd, Montu.dec2hex(ra), Montu.dec2hex(DEC*RAD)"
      ]
    },
    {
      "cell_type": "markdown",
      "metadata": {},
      "source": [
        "Using `astroquery`:"
      ]
    },
    {
      "cell_type": "code",
      "execution_count": 7,
      "metadata": {},
      "outputs": [
        {
          "data": {
            "text/plain": [
              "((18.0, 31, 25.497600000005036), (-25.0, 30, 27.28800000000291))"
            ]
          },
          "execution_count": 7,
          "metadata": {},
          "output_type": "execute_result"
        }
      ],
      "source": [
        "RA,DEC = list(Horizons(id='4',location='399',epochs=jd).ephemerides().to_pandas().loc[0,['RA','DEC']])\n",
        "Montu.dec2hex(RA/15), Montu.dec2hex(DEC)"
      ]
    },
    {
      "cell_type": "markdown",
      "metadata": {},
      "source": [
        "Using `Horizons` app you get: RA = 18 30 29.53, DEC = -25 31 04.6. However in `Horizons` the mixed calendar date is September the 16th, 1000 b.c.\n",
        "\n",
        "In `Stellarium` the same date give us this position for Mars: RA = 18 31 22.81, Dec = -25 30 22.1. Additionally `Stellarium` use a date with negative numbers, so the date corresponding to JD = 1356432 is -999 september the 16th, 12:03:44."
      ]
    },
    {
      "cell_type": "markdown",
      "metadata": {},
      "source": [
        "**Conclusions**:\n",
        "- The results with SPICE nicely agree with HORIZONS provided the date given to Horizons is the JDTDB, not the UTC date.\n",
        "- The results of astroquery are not as accurate as SPICE.\n",
        "- The results with Stellarium are off by around 1 arcmin which for the purposes of Cultural Astronomy are not important."
      ]
    },
    {
      "cell_type": "markdown",
      "metadata": {},
      "source": [
        "Let's see what happen in `astropy`:"
      ]
    },
    {
      "cell_type": "code",
      "execution_count": 8,
      "metadata": {},
      "outputs": [
        {
          "data": {
            "text/plain": [
              "'-999-09-07 12:00:00.000'"
            ]
          },
          "execution_count": 8,
          "metadata": {},
          "output_type": "execute_result"
        }
      ],
      "source": [
        "time = Time(jd,format='jd',scale='tt').iso\n",
        "time"
      ]
    },
    {
      "cell_type": "markdown",
      "metadata": {},
      "source": [
        "A last option is to work with `numpy.datetime64` (see https://numpy.org/doc/stable/reference/arrays.datetime.html):"
      ]
    },
    {
      "cell_type": "code",
      "execution_count": 9,
      "metadata": {},
      "outputs": [
        {
          "data": {
            "text/plain": [
              "numpy.datetime64('-999-09-07T12:00:00.000')"
            ]
          },
          "execution_count": 9,
          "metadata": {},
          "output_type": "execute_result"
        }
      ],
      "source": [
        "# date = '1000 B.C. 09-07 12:00:00'\n",
        "date = '-999-09-07 12:00:00.00'\n",
        "time = np.datetime64(date)\n",
        "time"
      ]
    },
    {
      "cell_type": "markdown",
      "metadata": {},
      "source": [
        "You may generate arrays of times:"
      ]
    },
    {
      "cell_type": "code",
      "execution_count": 10,
      "metadata": {},
      "outputs": [
        {
          "data": {
            "text/plain": [
              "array(['-999-02-01', '-999-02-02', '-999-02-03', '-999-02-04',\n",
              "       '-999-02-05', '-999-02-06', '-999-02-07', '-999-02-08',\n",
              "       '-999-02-09', '-999-02-10', '-999-02-11', '-999-02-12',\n",
              "       '-999-02-13', '-999-02-14', '-999-02-15', '-999-02-16',\n",
              "       '-999-02-17', '-999-02-18', '-999-02-19', '-999-02-20',\n",
              "       '-999-02-21', '-999-02-22', '-999-02-23', '-999-02-24',\n",
              "       '-999-02-25', '-999-02-26', '-999-02-27', '-999-02-28'],\n",
              "      dtype='datetime64[D]')"
            ]
          },
          "execution_count": 10,
          "metadata": {},
          "output_type": "execute_result"
        }
      ],
      "source": [
        "np.arange('-999-02', '-999-03', dtype='datetime64[D]')"
      ]
    },
    {
      "cell_type": "markdown",
      "metadata": {},
      "source": [
        "Or perform operations:"
      ]
    },
    {
      "cell_type": "code",
      "execution_count": 11,
      "metadata": {},
      "outputs": [
        {
          "data": {
            "text/plain": [
              "numpy.datetime64('-999-09-08T12:00:00.000')"
            ]
          },
          "execution_count": 11,
          "metadata": {},
          "output_type": "execute_result"
        }
      ],
      "source": [
        "np.datetime64('-999-09-07 12:00:00.00') + np.timedelta64(1,'D')"
      ]
    },
    {
      "cell_type": "markdown",
      "metadata": {},
      "source": [
        "**Conclusions**:\n",
        "- The results with SPICE nicely agree with HORIZONS provided the date given to Horizons is the JDTDB, not the UTC date.\n",
        "- The results of astroquery are not as accurate as SPICE.\n",
        "- The results with Stellarium are off by around 1 arcmin which for the purposes of Cultural Astronomy are not important."
      ]
    },
    {
      "cell_type": "markdown",
      "metadata": {},
      "source": [
        "### The class `MonTime`"
      ]
    },
    {
      "cell_type": "markdown",
      "metadata": {},
      "source": [
        "For managing times we have designed a special class `MonTime`. If you provide to the class a simple string in different formats you can obtain many different properties of the time. For instance:"
      ]
    },
    {
      "cell_type": "code",
      "execution_count": 12,
      "metadata": {},
      "outputs": [
        {
          "name": "stdout",
          "output_type": "stream",
          "text": [
            "{'datestr': '-1470-01-01 12:00:00.00', 'bce': True, 'datetime64': numpy.datetime64('-1470-01-01T12:00:00.000'), 'cal': array([-1.47e+03,  1.00e+00,  1.00e+00,  1.20e+01,  0.00e+00,  0.00e+00,\n",
            "        0.00e+00]), 'datespice': '1471 B.C. 01-01 12:00:00.0', 'et': -109502582399.99998, 'deltat': 41.185396343449355, 'jd': 1184154.0000000002, 'astrotime': <Time object: scale='tdb' format='jd' value=1184154.0000000002>}\n"
          ]
        }
      ],
      "source": [
        "mtime_ini = MonTime('-1470-01-01 12:00:00.00')\n",
        "print(mtime_ini.__dict__)"
      ]
    },
    {
      "cell_type": "markdown",
      "metadata": {},
      "source": [
        "## Planetary ephemerides"
      ]
    },
    {
      "cell_type": "code",
      "execution_count": 13,
      "metadata": {},
      "outputs": [
        {
          "name": "stdout",
          "output_type": "stream",
          "text": [
            "1356432.0\n"
          ]
        },
        {
          "data": {
            "text/plain": [
              "((18.0, 30, 29.027181943781954),\n",
              " (-25.0, 31, 5.584286831078487),\n",
              " (276.0, 52, 44.781691123857854),\n",
              " (-2.0, 15, 38.62356137043257))"
            ]
          },
          "execution_count": 13,
          "metadata": {},
          "output_type": "execute_result"
        }
      ],
      "source": [
        "p = Planet(id='4')\n",
        "mtime = MonTime('-999-09-07 12:00:00.00')\n",
        "print(mtime.jd)\n",
        "p.calc_ephemerides(mtime.et)\n",
        "\n",
        "Montu.dec2hex(p.RAJ2000), Montu.dec2hex(p.DECJ2000), Montu.dec2hex(p.lambJ2000), Montu.dec2hex(p.betaJ2000)"
      ]
    }
  ],
  "metadata": {
    "colab": {
      "provenance": []
    },
    "kernelspec": {
      "display_name": "Python 3",
      "language": "python",
      "name": "python3"
    },
    "language_info": {
      "codemirror_mode": {
        "name": "ipython",
        "version": 3
      },
      "file_extension": ".py",
      "mimetype": "text/x-python",
      "name": "python",
      "nbconvert_exporter": "python",
      "pygments_lexer": "ipython3",
      "version": "3.11.0"
    }
  },
  "nbformat": 4,
  "nbformat_minor": 0
}
