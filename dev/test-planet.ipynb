{
 "cells": [
  {
   "cell_type": "markdown",
   "metadata": {},
   "source": [
    "# Montu Python \n",
    "## Astronomical ephemerides for the Ancient World\n",
    "## Test file: testing Planetary Body routines "
   ]
  },
  {
   "cell_type": "code",
   "execution_count": 1,
   "metadata": {},
   "outputs": [],
   "source": [
    "from montu import *\n",
    "Montu.load_kernels(verbose=False)\n",
    "\n",
    "from scipy.optimize import newton,minimize_scalar,bisect\n",
    "%load_ext autoreload\n",
    "%autoreload 2"
   ]
  },
  {
   "cell_type": "markdown",
   "metadata": {},
   "source": [
    "## Edition of Class"
   ]
  },
  {
   "cell_type": "code",
   "execution_count": 319,
   "metadata": {},
   "outputs": [],
   "source": [
    "###############################################################\n",
    "# Planetary body\n",
    "###############################################################\n",
    "PLANETARY_IDS = dict(\n",
    "    SUN = 10,\n",
    "    MERCURY = 1,\n",
    "    VERNUS = 2,\n",
    "    EARTH = 399,\n",
    "    MOON = 301,\n",
    "    MARS = 4,\n",
    "    JUPITER = 5,\n",
    "    SATURN = 6,\n",
    "    URANUS = 7,\n",
    "    NEPTUNE = 8,\n",
    ")\n",
    "PLANETARY_NAMES = {str(v): k for k, v in PLANETARY_IDS.items()}\n",
    "\n",
    "class PlanetaryBodyx(object):\n",
    "    \"\"\"Create a planetary body\n",
    "\n",
    "    Examples: \n",
    "        earth = PlanetaryBody('399')\n",
    "        mars = PlanetaryBody('mars')\n",
    "        jupiter = PlanetaryBody('JUPITER')\n",
    "\n",
    "    \"\"\"\n",
    "\n",
    "    @lru_cache()\n",
    "    def __new__(cls,id):\n",
    "        \"\"\"This method is intended to avoid creating a new object with the same id\n",
    "        Instead this method create a clone of the previously created object.\n",
    "        \"\"\"\n",
    "        return super().__new__(cls)\n",
    "\n",
    "    def __init__(self,body):\n",
    "\n",
    "        # Names\n",
    "        self.body = body.upper()\n",
    "        if self.body in PLANETARY_IDS.keys():\n",
    "            self.name = self.body.lower()\n",
    "            self.id = str(PLANETARY_IDS[self.body])\n",
    "        elif self.body in PLANETARY_NAMES.keys():\n",
    "            self.id = str(self.body)\n",
    "            self.name = PLANETARY_NAMES[self.id].lower()\n",
    "        else:\n",
    "            raise ValueError(f\"Planet '{self.body}' not recognized, check variable PLANETARY_NAMES\")\n",
    "        self.capital = self.name[0].upper() + self.name[1:]\n",
    "\n",
    "        # IAU frame of planet\n",
    "        self.frameplanet = f'IAU_{self.name.upper()}'\n",
    "\n",
    "        # Obtain object properties\n",
    "        try:\n",
    "            n,rs=spy.bodvrd(self.id,'RADII',3)\n",
    "        except:\n",
    "            n,rs=spy.bodvrd(self.id+'99','RADII',3)\n",
    "        self.Re=rs[0]\n",
    "        self.Rt=rs[1]\n",
    "        self.Rp=rs[2]\n",
    "        self.f=(self.Re-self.Rp)/self.Re\n",
    "\n",
    "        # Create object from PyPlanet\n",
    "        exec(f'self.pyplanet = pyplanets_{self.capital}')\n",
    "\n",
    "        # Create Horizons object\n",
    "        self.query_horizons = astropy_Horizons(id='4')\n",
    "\n",
    "        # No predicted yet\n",
    "        self.predict = False\n",
    "\n",
    "    def calculate_sky_position(self,mtime=None,site=None,method='Horizons',\n",
    "                               store=None,verbose=True):\n",
    "        \"\"\"Calculate position of a planet \n",
    "\n",
    "        Parameters:\n",
    "            mtime: MonTime:\n",
    "                Time when the position of the planet will be calculated.\n",
    "\n",
    "            site: Site:\n",
    "                Observing site w.r.t. position of the planet will be calculated.\n",
    "\n",
    "            method:\n",
    "                'Horizons': use astroquery.\n",
    "                'SPICE': use SPICE and kernels.\n",
    "                'VSOP87': use VSOP87 analytical theory.\n",
    "                'all': all methods\n",
    "        \"\"\"\n",
    "        self.data = {\n",
    "            'datetime64':[mtime.obj_datetime64],\n",
    "            'datetime_proleptic':[mtime.obj_datetime],\n",
    "            'datetime_mixed':[mtime.obj_datetimemix],\n",
    "            'tt':[mtime.tt]\n",
    "            }\n",
    "        if store:\n",
    "            if 'df' not in self.__dict__.keys():\n",
    "                self.df = pd.DataFrame()\n",
    "        \n",
    "        if site is None:\n",
    "            raise ValueError(\"No site selected\")\n",
    "\n",
    "        # Update orientation of site\n",
    "        Montu.vprint(verbose,f\"Computing position of body '{self.name}' at epoch: jtd = {mtime.jtd} \")\n",
    "        if mtime.tt != site.epoch.tt:\n",
    "            Montu.vprint(verbose,f\"Updating orientation of site (old time {site.epoch.datespice}, new time {mtime.datespice})\")\n",
    "            site.update_site(mtime)\n",
    "\n",
    "        # Storing epoch\n",
    "        self.epoch = mtime\n",
    "            \n",
    "        # Check if all methods are asked\n",
    "        all_methods = True if method == 'all' else False\n",
    "\n",
    "        # Check compute\n",
    "        compute = False\n",
    "\n",
    "        # Compute absolute coordinates (RA & Dec) at J2000 and epoch\n",
    "        if method == 'Horizons' or all_methods:            \n",
    "\n",
    "            # Using Horizons database\n",
    "            Montu.vprint(verbose,\"Method 'Horizons':\")\n",
    "\n",
    "            # Query ephemerides\n",
    "            self.query_horizons.location = site.location\n",
    "            self.query_horizons.epochs = self.epoch.jed # Julian Day as it was UTC\n",
    "            self.ephemerides = self.query_horizons.ephemerides().to_pandas()\n",
    "            ephemerides = self.ephemerides.loc[0]\n",
    "\n",
    "            # Sky coordinates in J2000\n",
    "            self.RAJ2000 = float(ephemerides.RA/15)\n",
    "            self.DecJ2000 = float(ephemerides.DEC)\n",
    "            \n",
    "            # Ecliptic coordinates in J2000\n",
    "            uJ2000 = np.array([np.cos(self.DecJ2000*DEG)*np.cos(15*self.RAJ2000*DEG),\n",
    "                               np.cos(self.DecJ2000*DEG)*np.sin(15*self.RAJ2000*DEG),\n",
    "                               np.sin(self.DecJ2000*DEG)])\n",
    "            ecJ2000 = spy.mxv(M_J2000_ECLIPJ2000,uJ2000)\n",
    "            r,LonJ2000,LatJ2000 = spy.recrad(ecJ2000)\n",
    "            self.LonJ2000 = LonJ2000*RAD\n",
    "            self.LatJ2000 = LatJ2000*RAD\n",
    "\n",
    "            # Sky coordinates @ Epoch\n",
    "            self.RAEpoch = float(ephemerides.RA_app/15)\n",
    "            self.DecEpoch = float(ephemerides.DEC_app)\n",
    "            self.LonEpoch = float(ephemerides.ObsEclLon)\n",
    "            self.LatEpoch = float(ephemerides.ObsEclLat)\n",
    "            \n",
    "            # Apparent coordinates @ site\n",
    "            self.az = float(ephemerides.AZ)\n",
    "            self.el = float(ephemerides.EL)\n",
    "            \n",
    "            # Compute hour angle\n",
    "            self.HA = np.mod(np.arctan2(-np.sin(self.az*DEG)*np.cos(self.el*DEG)/np.cos(self.DecEpoch*DEG),\n",
    "                                        (np.sin(self.el*DEG) - np.sin(self.DecEpoch*DEG)*np.sin(site.lat*DEG)) / \\\n",
    "                                        (np.cos(self.DecEpoch*DEG) * np.cos(site.lat*DEG)))*RAD/15,24)\n",
    "            \n",
    "            # Sidereal time\n",
    "            self.tsa = np.mod(self.RAEpoch + self.HA,24)\n",
    "\n",
    "            self._store_data('Horizons')\n",
    "            Montu.vprint(verbose,\"\\tCoordinates @ J2000: \")\n",
    "            Montu.vprint(verbose,\"\\t\\tEquatorial:\",Montu.dec2hex(self.RAJ2000),Montu.dec2hex(self.DecJ2000))\n",
    "            Montu.vprint(verbose,\"\\t\\tEcliptic:\",Montu.dec2hex(self.LonJ2000),Montu.dec2hex(self.LatJ2000))\n",
    "            Montu.vprint(verbose,f\"\\tCoordinates @ Epoch : \")\n",
    "            Montu.vprint(verbose,\"\\t\\tEquatorial:\",Montu.dec2hex(self.RAEpoch),Montu.dec2hex(self.DecEpoch))\n",
    "            Montu.vprint(verbose,\"\\t\\tEcliptic:\",Montu.dec2hex(self.LonEpoch),Montu.dec2hex(self.LatEpoch))\n",
    "            Montu.vprint(verbose,f\"\\tLocal true sidereal time: \",Montu.dec2hex(self.tsa))\n",
    "            Montu.vprint(verbose,f\"\\tHour angle @ Epoch: \",Montu.dec2hex(self.HA))\n",
    "            Montu.vprint(verbose,f\"\\tLocal coordinates @ Epoch: \",Montu.dec2hex(self.az),Montu.dec2hex(self.el))\n",
    "\n",
    "            compute = True\n",
    "\n",
    "        if method == 'VSOP87' or all_methods:\n",
    "\n",
    "            # Using VSOP87 semianalytical model implemented in PyEphem\n",
    "            Montu.vprint(verbose,\"Method 'VSOP87':\")\n",
    "\n",
    "            # Prepare object\n",
    "            self.pyephem_planet = eval(f'pyephem.{self.capital}()')\n",
    "\n",
    "            # Define observer\n",
    "            self.pyephem_site = pyephem.Observer()\n",
    "            self.pyephem_site.date = self.epoch.obj_pyephem\n",
    "            self.pyephem_site.lat = f'{site.lat}'\n",
    "            self.pyephem_site.lon = f'{site.lon}'\n",
    "            self.pyephem_site.elevation = site.elevation\n",
    "            self.pyephem_site.temp = site.temperature\n",
    "            self.pyephem_site.pressure = site.pressure\n",
    "            \n",
    "            # Compute ephemerides\n",
    "            self.pyephem_planet.compute(self.pyephem_site)\n",
    "            self.RAEpoch = float(self.pyephem_planet.ra)*RAD/15\n",
    "            self.DecEpoch = float(self.pyephem_planet.dec)*RAD\n",
    "   \n",
    "            # Ecliptic coordinates at Epoch\n",
    "            uEpoch = np.array([np.cos(self.DecEpoch*DEG)*np.cos(15*self.RAEpoch*DEG),\n",
    "                               np.cos(self.DecEpoch*DEG)*np.sin(15*self.RAEpoch*DEG),\n",
    "                               np.sin(self.DecEpoch*DEG)])\n",
    "            ecEpoch = spy.mxv(site.epoch.M_equatorial_ecliptic,uEpoch)\n",
    "            r,LonEpoch,LatEpoch = spy.recrad(ecEpoch)\n",
    "            self.LonEpoch = LonEpoch*RAD\n",
    "            self.LatEpoch = LatEpoch*RAD\n",
    "            \n",
    "            # Compute elevation and azimuth\n",
    "            self.el = self.pyephem_planet.alt*RAD\n",
    "            self.az = self.pyephem_planet.az*RAD\n",
    "\n",
    "            # Precess towards J2000\n",
    "            self.RAJ2000,self.DecJ2000 = precession_equatorial(mtime.obj_pyplanet,pyplanets_Epoch(JED_2000),\n",
    "                                                               pyplanets_Angle(15*self.RAEpoch),\n",
    "                                                               pyplanets_Angle(self.DecEpoch))\n",
    "            self.RAJ2000 = float(self.RAJ2000)/15\n",
    "            self.DecJ2000 = float(self.DecJ2000)\n",
    "\n",
    "            # Ecliptic coordinates in J2000\n",
    "            uJ2000 = np.array([np.cos(self.DecJ2000*DEG)*np.cos(15*self.RAJ2000*DEG),\n",
    "                               np.cos(self.DecJ2000*DEG)*np.sin(15*self.RAJ2000*DEG),\n",
    "                               np.sin(self.DecJ2000*DEG)])\n",
    "            ecJ2000 = spy.mxv(M_J2000_ECLIPJ2000,uJ2000)\n",
    "            r,LonJ2000,LatJ2000 = spy.recrad(ecJ2000)\n",
    "            self.LonJ2000 = LonJ2000*RAD\n",
    "            self.LatJ2000 = LatJ2000*RAD\n",
    "                        \n",
    "            # Compute auxiliar coordinates\n",
    "            self.HA = np.mod(np.arctan2(-np.sin(self.az*DEG)*np.cos(self.el*DEG)/np.cos(self.DecEpoch*DEG),\n",
    "                                        (np.sin(self.el*DEG) - np.sin(self.DecEpoch*DEG)*np.sin(site.lat*DEG)) / \\\n",
    "                                        (np.cos(self.DecEpoch*DEG) * np.cos(site.lat*DEG)))*RAD/15,24)\n",
    "            self.tsa = np.mod(self.RAEpoch + self.HA,24)\n",
    "\n",
    "            self._store_data('VSOP87')\n",
    "            Montu.vprint(verbose,\"\\tCoordinates @ J2000: \")\n",
    "            Montu.vprint(verbose,\"\\t\\tEquatorial:\",Montu.dec2hex(self.RAJ2000),Montu.dec2hex(self.DecJ2000))\n",
    "            Montu.vprint(verbose,\"\\t\\tEcliptic:\",Montu.dec2hex(self.LonJ2000),Montu.dec2hex(self.LatJ2000))\n",
    "            Montu.vprint(verbose,f\"\\tCoordinates @ Epoch : \")\n",
    "            Montu.vprint(verbose,\"\\t\\tEquatorial:\",Montu.dec2hex(self.RAEpoch),Montu.dec2hex(self.DecEpoch))\n",
    "            Montu.vprint(verbose,\"\\t\\tEcliptic:\",Montu.dec2hex(self.LonEpoch),Montu.dec2hex(self.LatEpoch))\n",
    "            Montu.vprint(verbose,f\"\\tLocal true sidereal time: \",Montu.dec2hex(self.tsa))\n",
    "            Montu.vprint(verbose,f\"\\tHour angle @ Epoch: \",Montu.dec2hex(self.HA))\n",
    "            Montu.vprint(verbose,f\"\\tLocal coordinates @ Epoch: \",Montu.dec2hex(self.az),Montu.dec2hex(self.el))\n",
    "\n",
    "            compute = True\n",
    "\n",
    "        if method == 'SPICE' or all_methods:\n",
    "\n",
    "            # Using SPICE+pyplanets tools\n",
    "            Montu.vprint(verbose,\"Method 'SPICE':\")\n",
    "\n",
    "            # Retrieve positions in space\n",
    "            site_planet_SSB_J2000,lt = spy.spkezr(site.planet.id,mtime.tt,'J2000','None','SSB')\n",
    "            planet_SSB_J2000,lt = spy.spkezr(self.id,mtime.tt,'J2000','None','SSB')\n",
    "            site_SSB_J2000 = site_planet_SSB_J2000[:3] + site.pos_J2000 \n",
    "\n",
    "            # Celestial Coordinates at J2000\n",
    "            planet_site_J2000 = planet_SSB_J2000[:3] - site_SSB_J2000\n",
    "            r,RAJ2000,DECJ2000 = spy.recrad(planet_site_J2000)\n",
    "            self.RAJ2000 = RAJ2000*RAD/15\n",
    "            self.DecJ2000 = DECJ2000*RAD\n",
    "\n",
    "            # Ecliptic coordinates J2000\n",
    "            planet_site_EJ2000 = spy.mxv(M_J2000_ECLIPJ2000,planet_site_J2000)\n",
    "            r,LonJ2000,LatJ2000 = spy.recrad(planet_site_EJ2000)\n",
    "            self.LonJ2000 = LonJ2000*RAD\n",
    "            self.LatJ2000 = LatJ2000*RAD\n",
    "\n",
    "            # Celestial Coordinates at Epoch\n",
    "            planet_site_Epoch = spy.mxv(self.epoch.M_J2000_Epoch,planet_site_J2000)\n",
    "            r,RAplanet,DECplanet = spy.recrad(planet_site_Epoch)\n",
    "            self.RAEpoch = RAplanet*RAD/15\n",
    "            self.DecEpoch = DECplanet*RAD\n",
    "\n",
    "            # Ecliptic coordinates at Epoch\n",
    "            uEpoch = np.array([np.cos(self.DecEpoch*DEG)*np.cos(15*self.RAEpoch*DEG),\n",
    "                               np.cos(self.DecEpoch*DEG)*np.sin(15*self.RAEpoch*DEG),\n",
    "                               np.sin(self.DecEpoch*DEG)])\n",
    "            ecEpoch = spy.mxv(site.epoch.M_equatorial_ecliptic,uEpoch)\n",
    "            r,LonEpoch,LatEpoch = spy.recrad(ecEpoch)\n",
    "            self.LonEpoch = LonEpoch*RAD\n",
    "            self.LatEpoch = LatEpoch*RAD\n",
    "\n",
    "            # Compute hour angle\n",
    "            self.HA = np.mod(site.ltst - self.RAEpoch,24)\n",
    "            \n",
    "            # Compute elevation and azimuth\n",
    "            self.el = np.arcsin(np.sin(self.DecEpoch*DEG)*np.sin(site.lat*DEG) + \\\n",
    "                                np.cos(self.DecEpoch*DEG)*np.cos(site.lat*DEG)*np.cos(self.HA*15*DEG))*RAD\n",
    "            self.az = np.arctan2(-np.sin(self.HA*15*DEG)*np.cos(self.DecEpoch*DEG)/np.cos(self.el*DEG),\n",
    "                                 (np.sin(self.DecEpoch*DEG) - np.sin(site.lat*DEG)*np.sin(self.el*DEG))/\\\n",
    "                                    (np.cos(site.lat*DEG)*np.cos(self.el*DEG)))*RAD\n",
    "            self.az = np.mod(self.az,360)\n",
    "\n",
    "\n",
    "            # Local sidereal time\n",
    "            self.tsa = np.mod(self.RAEpoch + self.HA,24) \n",
    "\n",
    "            self._store_data('SPICE')\n",
    "            Montu.vprint(verbose,\"\\tCoordinates @ J2000: \")\n",
    "            Montu.vprint(verbose,\"\\t\\tEquatorial:\",Montu.dec2hex(self.RAJ2000),Montu.dec2hex(self.DecJ2000))\n",
    "            Montu.vprint(verbose,\"\\t\\tEcliptic:\",Montu.dec2hex(self.LonJ2000),Montu.dec2hex(self.LatJ2000))\n",
    "            Montu.vprint(verbose,f\"\\tCoordinates @ Epoch : \")\n",
    "            Montu.vprint(verbose,\"\\t\\tEquatorial:\",Montu.dec2hex(self.RAEpoch),Montu.dec2hex(self.DecEpoch))\n",
    "            Montu.vprint(verbose,\"\\t\\tEcliptic:\",Montu.dec2hex(self.LonEpoch),Montu.dec2hex(self.LatEpoch))\n",
    "            Montu.vprint(verbose,f\"\\tLocal true sidereal time: \",Montu.dec2hex(site.ltst))\n",
    "            Montu.vprint(verbose,f\"\\tHour angle @ Epoch: \",Montu.dec2hex(self.HA))\n",
    "            Montu.vprint(verbose,f\"\\tLocal coordinates @ Epoch: \",Montu.dec2hex(self.az),Montu.dec2hex(self.el))\n",
    "\n",
    "            compute = True\n",
    "\n",
    "        if not compute:\n",
    "            raise ValueError(f\"Method '{method}' for computing ephemerides not recognized\")\n",
    "\n",
    "        if store:\n",
    "            self.df=pd.concat([self.df,pd.DataFrame(self.data)])\n",
    "\n",
    "    def ecliptic_longitude_advance(self,mtime,site,dt=1*HOUR,method='SPICE'):\n",
    "        \"\"\"Compute the rate of ecliptic longitude advance\n",
    "        \"\"\"\n",
    "\n",
    "        # Time before\n",
    "        self.calculate_sky_position(mtime-dt,site,method,verbose=0)\n",
    "        EclLon_m_dt = self.LonEpoch\n",
    "\n",
    "        # Time after \n",
    "        self.calculate_sky_position(mtime+dt,site,method,verbose=0)\n",
    "        EclLon_p_dt = self.LonEpoch\n",
    "\n",
    "        # Angle diff\n",
    "        angle_diff = (EclLon_p_dt-EclLon_m_dt)\n",
    "\n",
    "        # Angle differences: thanx ChatGPT!\n",
    "        if angle_diff > 180:\n",
    "            angle_diff -= 360\n",
    "        elif angle_diff < -180:\n",
    "            angle_diff += 360\n",
    "        \n",
    "        # Compute derivative using central difference algorithm\n",
    "        dlondt = angle_diff/(2*dt)*DAY # Degrees per day\n",
    "\n",
    "        return dlondt\n",
    "\n",
    "    def reset_store(self):\n",
    "        self.df = pd.DataFrame()\n",
    "\n",
    "    def _store_data(self,metstr):\n",
    "        self.data.update({\n",
    "                # Generic\n",
    "                f'RAJ2000':[self.RAJ2000],f'DecJ2000':[self.DecJ2000],\n",
    "                f'RAEpoch':[self.RAEpoch],f'DecEpoch':[self.DecEpoch],\n",
    "                f'LonJ2000':[self.LonJ2000],f'LatJ2000':[self.LatJ2000],\n",
    "                f'LonEpoch':[self.LonEpoch],f'LatEpoch':[self.LatEpoch],\n",
    "                f'tsa':[self.tsa],f'HA':[self.HA],f'az':[self.az],f'el':[self.el],\n",
    "                # Method\n",
    "                f'RAJ2000_{metstr}':[self.RAJ2000],f'DecJ2000_{metstr}':[self.DecJ2000],\n",
    "                f'RAEpoch_{metstr}':[self.RAEpoch],f'DecEpoch_{metstr}':[self.DecEpoch],\n",
    "                f'LonJ2000_{metstr}':[self.LonJ2000],f'LatJ2000_{metstr}':[self.LatJ2000],\n",
    "                f'LonEpoch_{metstr}':[self.LonEpoch],f'LatEpoch_{metstr}':[self.LatEpoch],\n",
    "                f'tsa_{metstr}':[self.tsa],f'HA_{metstr}':[self.HA],f'az_{metstr}':[self.az],f'el_{metstr}':[self.el],\n",
    "            })\n",
    "\n",
    "    def __str__(self):\n",
    "        str = f\"\"\"Planetary Body\n",
    "===============================\n",
    "Names: \n",
    "    Basic name: {self.name}\n",
    "\"\"\"\n",
    "        return str"
   ]
  },
  {
   "cell_type": "markdown",
   "metadata": {},
   "source": [
    "## Body string"
   ]
  },
  {
   "cell_type": "code",
   "execution_count": 17,
   "metadata": {},
   "outputs": [
    {
     "name": "stdout",
     "output_type": "stream",
     "text": [
      "Planetary Body\n",
      "===============================\n",
      "Names: \n",
      "    Basic name: mars\n",
      "\n"
     ]
    }
   ],
   "source": [
    "# Site\n",
    "tebas = ObservingSite(planet=PlanetaryBody('Earth'),lon=33,lat=24,height=0)\n",
    "\n",
    "# Planet\n",
    "mars = PlanetaryBody('Mars')\n",
    "\n",
    "print(mars)"
   ]
  },
  {
   "cell_type": "markdown",
   "metadata": {},
   "source": [
    "## Body ephemerides"
   ]
  },
  {
   "cell_type": "code",
   "execution_count": 18,
   "metadata": {},
   "outputs": [],
   "source": [
    "# Site\n",
    "tebas = ObservingSite(planet=PlanetaryBody('Earth'),lon=33,lat=24,height=0)\n",
    "\n",
    "# Planet\n",
    "mars = PlanetaryBody('Mars')"
   ]
  },
  {
   "cell_type": "code",
   "execution_count": 19,
   "metadata": {},
   "outputs": [
    {
     "name": "stdout",
     "output_type": "stream",
     "text": [
      "Montu Time Object:\n",
      "--------------------------\n",
      "General:\n",
      "    Calendar: proleptic\n",
      "    Is bce: True\n",
      "    Components UTC: [-1, 2500, 1, 1, 12, 0, 0, 0]\n",
      "Uniform scales:\n",
      "    Delta-t = TT - UTC = 59699.68000000001\n",
      "    Terrestrial time:\n",
      "        tt: -142006202700.32\n",
      "        jtd: 807954.6909685184\n",
      "    UTC time:\n",
      "        et: -142006262400.0\n",
      "        jed: 807953.9999999999\n",
      "Strings:\n",
      "    Date in native format: -2500-01-01 12:00:00.0\n",
      "    Date in SPICE format: 2501 B.C. 01-01 12:00:00.000000\n",
      "    Date in mixed calendar: -2501-1-22 12:00:00\n",
      "Objects:\n",
      "    Date in datetime64 format: -2500-01-01T12:00:00.000\n",
      "    Date in datetime format: 2500-01-01 12:00:00\n",
      "    Date in PyPlanet Epoch: 807953.9999999999\n",
      "    Date in PyEphem Epoch: -2501/1/22 12:00:00\n",
      "    Date in AstroPy Time: 807954.6909685184\n",
      "Astronomical properties at Epoch:\n",
      "    True obliquity of ecliptic: 23:58:33.587\n",
      "    True nutation longitude: 00:00:10.214\n",
      "    Greenwhich Meridian Sidereal Time: 18:40:25.323\n",
      "Hash: 657477800420500236\n",
      "\n",
      "Computing position of body 'mars' at epoch: jtd = 807954.6909685184 \n",
      "Updating orientation of site (old time 2000-01-01 11:58:56.126200, new time 2501 B.C. 01-01 12:00:00.000000)\n",
      "Method 'Horizons':\n",
      "\tCoordinates @ J2000: \n",
      "\t\tEquatorial: (12.0, 31, 49.14719999999818) (1.0, 37, 6.7080000000001405)\n",
      "\t\tEcliptic: (186.0, 39, 54.55755751664583) (4.0, 38, 33.60945464297373)\n",
      "\tCoordinates @ Epoch : \n",
      "\t\tEquatorial: (8.0, 32, 9.283199999998999) (24.0, 6, 29.555999999998903)\n",
      "\t\tEcliptic: (124.0, 21, 14.472000000019989) (4.0, 39, 4.619159999998601)\n",
      "\tLocal true sidereal time:  (20.0, 52, 25.33680635060051)\n",
      "\tHour angle @ Epoch:  (12.0, 20, 16.053606350601513)\n",
      "\tLocal coordinates @ Epoch:  (6.0, 11, 33.727199999998945) (-41.0, 38, 29.317200000006665)\n",
      "Method 'SPICE':\n",
      "\tCoordinates @ J2000: \n",
      "\t\tEquatorial: (12.0, 31, 48.75374471536361) (1.0, 37, 12.183893707210274)\n",
      "\t\tEcliptic: (186.0, 39, 46.94915035185886) (4.0, 38, 36.30772065411392)\n",
      "\tCoordinates @ Epoch : \n",
      "\t\tEquatorial: (8.0, 32, 9.7958860775843) (24.0, 6, 28.554848777837947)\n",
      "\t\tEcliptic: (124.0, 21, 21.541927979009188) (4.0, 39, 5.338625036125535)\n",
      "\tLocal true sidereal time:  (20.0, 52, 25.32259203620299)\n",
      "\tHour angle @ Epoch:  (12.0, 20, 15.526705958618692)\n",
      "\tLocal coordinates @ Epoch:  (6.0, 11, 24.27528943044642) (-41.0, 38, 31.093764289017827)\n",
      "Method 'VSOP87':\n",
      "\tCoordinates @ J2000: \n",
      "\t\tEquatorial: (12.0, 31, 48.35959491216798) (1.0, 37, 33.10917010023772)\n",
      "\t\tEcliptic: (186.0, 39, 33.204611828884936) (4.0, 38, 53.19324054798258)\n",
      "\tCoordinates @ Epoch : \n",
      "\t\tEquatorial: (8.0, 32, 9.71805413547699) (24.0, 6, 40.9201083707282)\n",
      "\t\tEcliptic: (124.0, 21, 17.39024402412724) (4.0, 39, 17.039572599530572)\n",
      "\tLocal true sidereal time:  (20.0, 52, 25.322505532880086)\n",
      "\tHour angle @ Epoch:  (12.0, 20, 15.604451397396701)\n",
      "\tLocal coordinates @ Epoch:  (6.0, 11, 23.905564366115826) (-41.0, 38, 18.685147982311605)\n"
     ]
    }
   ],
   "source": [
    "# Compare\n",
    "mtime_initial = MonTime('-2500-01-01 12:00:00.00',scale='utc',calendar='proleptic')\n",
    "print(mtime_initial)\n",
    "mars.calculate_sky_position(mtime_initial,tebas,method='all',verbose=1)"
   ]
  },
  {
   "cell_type": "markdown",
   "metadata": {},
   "source": [
    "## Store coordinates"
   ]
  },
  {
   "cell_type": "code",
   "execution_count": 263,
   "metadata": {},
   "outputs": [
    {
     "data": {
      "text/html": [
       "<div>\n",
       "<style scoped>\n",
       "    .dataframe tbody tr th:only-of-type {\n",
       "        vertical-align: middle;\n",
       "    }\n",
       "\n",
       "    .dataframe tbody tr th {\n",
       "        vertical-align: top;\n",
       "    }\n",
       "\n",
       "    .dataframe thead th {\n",
       "        text-align: right;\n",
       "    }\n",
       "</style>\n",
       "<table border=\"1\" class=\"dataframe\">\n",
       "  <thead>\n",
       "    <tr style=\"text-align: right;\">\n",
       "      <th></th>\n",
       "      <th>datetime64</th>\n",
       "      <th>datetime_proleptic</th>\n",
       "      <th>datetime_mixed</th>\n",
       "      <th>tt</th>\n",
       "      <th>RAJ2000</th>\n",
       "      <th>DecJ2000</th>\n",
       "      <th>RAEpoch</th>\n",
       "      <th>DecEpoch</th>\n",
       "      <th>LonJ2000</th>\n",
       "      <th>LatJ2000</th>\n",
       "      <th>...</th>\n",
       "      <th>RAEpoch_SPICE</th>\n",
       "      <th>DecEpoch_SPICE</th>\n",
       "      <th>LonJ2000_SPICE</th>\n",
       "      <th>LatJ2000_SPICE</th>\n",
       "      <th>LonEpoch_SPICE</th>\n",
       "      <th>LatEpoch_SPICE</th>\n",
       "      <th>tsa_SPICE</th>\n",
       "      <th>HA_SPICE</th>\n",
       "      <th>az_SPICE</th>\n",
       "      <th>el_SPICE</th>\n",
       "    </tr>\n",
       "  </thead>\n",
       "  <tbody>\n",
       "    <tr>\n",
       "      <th>0</th>\n",
       "      <td>-1450-01-01T00:00:00.000</td>\n",
       "      <td>1450-01-01 00:00:00</td>\n",
       "      <td>1450-01-14 00:00:00</td>\n",
       "      <td>-1.08871439402720001e+11</td>\n",
       "      <td>19.28113419072872503</td>\n",
       "      <td>-22.94138470182542022</td>\n",
       "      <td>15.83292821196119604</td>\n",
       "      <td>-20.68980348583406226</td>\n",
       "      <td>287.64591740821771282</td>\n",
       "      <td>-0.67161002014417048</td>\n",
       "      <td>...</td>\n",
       "      <td>15.83292821196119604</td>\n",
       "      <td>-20.68980348583406226</td>\n",
       "      <td>287.64591740821771282</td>\n",
       "      <td>-0.67161002014417048</td>\n",
       "      <td>239.81888571956281453</td>\n",
       "      <td>-0.22445253153269043</td>\n",
       "      <td>8.86583770822446837</td>\n",
       "      <td>17.03290949626327233</td>\n",
       "      <td>104.09760447928354665</td>\n",
       "      <td>-20.96373982578912987</td>\n",
       "    </tr>\n",
       "    <tr>\n",
       "      <th>0</th>\n",
       "      <td>-1450-01-02T00:00:00.000</td>\n",
       "      <td>1450-01-02 00:00:00</td>\n",
       "      <td>1450-01-15 00:00:00</td>\n",
       "      <td>-1.08871353002720001e+11</td>\n",
       "      <td>19.33527485530276735</td>\n",
       "      <td>-22.85308312380527695</td>\n",
       "      <td>15.88516403355871454</td>\n",
       "      <td>-20.86545587257937839</td>\n",
       "      <td>288.39917869824762420</td>\n",
       "      <td>-0.68404454053252539</td>\n",
       "      <td>...</td>\n",
       "      <td>15.88516403355871454</td>\n",
       "      <td>-20.86545587257937839</td>\n",
       "      <td>288.39917869824762420</td>\n",
       "      <td>-0.68404454053252539</td>\n",
       "      <td>240.57210441467407236</td>\n",
       "      <td>-0.23844242866684087</td>\n",
       "      <td>8.93154684927829834</td>\n",
       "      <td>17.04638281571958203</td>\n",
       "      <td>104.34057683648586590</td>\n",
       "      <td>-20.84111340417761227</td>\n",
       "    </tr>\n",
       "  </tbody>\n",
       "</table>\n",
       "<p>2 rows × 52 columns</p>\n",
       "</div>"
      ],
      "text/plain": [
       "                 datetime64   datetime_proleptic       datetime_mixed  \\\n",
       "0  -1450-01-01T00:00:00.000  1450-01-01 00:00:00  1450-01-14 00:00:00   \n",
       "0  -1450-01-02T00:00:00.000  1450-01-02 00:00:00  1450-01-15 00:00:00   \n",
       "\n",
       "                        tt               RAJ2000              DecJ2000  \\\n",
       "0 -1.08871439402720001e+11  19.28113419072872503 -22.94138470182542022   \n",
       "0 -1.08871353002720001e+11  19.33527485530276735 -22.85308312380527695   \n",
       "\n",
       "                RAEpoch              DecEpoch               LonJ2000  \\\n",
       "0  15.83292821196119604 -20.68980348583406226  287.64591740821771282   \n",
       "0  15.88516403355871454 -20.86545587257937839  288.39917869824762420   \n",
       "\n",
       "              LatJ2000  ...         RAEpoch_SPICE        DecEpoch_SPICE  \\\n",
       "0 -0.67161002014417048  ...  15.83292821196119604 -20.68980348583406226   \n",
       "0 -0.68404454053252539  ...  15.88516403355871454 -20.86545587257937839   \n",
       "\n",
       "          LonJ2000_SPICE       LatJ2000_SPICE         LonEpoch_SPICE  \\\n",
       "0  287.64591740821771282 -0.67161002014417048  239.81888571956281453   \n",
       "0  288.39917869824762420 -0.68404454053252539  240.57210441467407236   \n",
       "\n",
       "        LatEpoch_SPICE            tsa_SPICE              HA_SPICE  \\\n",
       "0 -0.22445253153269043  8.86583770822446837  17.03290949626327233   \n",
       "0 -0.23844242866684087  8.93154684927829834  17.04638281571958203   \n",
       "\n",
       "                az_SPICE              el_SPICE  \n",
       "0  104.09760447928354665 -20.96373982578912987  \n",
       "0  104.34057683648586590 -20.84111340417761227  \n",
       "\n",
       "[2 rows x 52 columns]"
      ]
     },
     "execution_count": 263,
     "metadata": {},
     "output_type": "execute_result"
    }
   ],
   "source": [
    "# Site\n",
    "tebas = ObservingSite(planet=PlanetaryBodyx('Earth'),lon=33,lat=24,height=0)\n",
    "\n",
    "# Planet\n",
    "mars = PlanetaryBodyx('Mars')\n",
    "mars.reset_store()\n",
    "\n",
    "# Reference date\n",
    "mtime_initial = MonTime('-1450-01-01 00:00:00.00',scale='utc',calendar='proleptic')\n",
    "\n",
    "# Initial\n",
    "mars.calculate_sky_position(mtime_initial,tebas,method='all',verbose=0,store=1)\n",
    "mars.calculate_sky_position(mtime_initial+1*DAY,tebas,method='all',verbose=0,store=1)\n",
    "mars.df"
   ]
  },
  {
   "cell_type": "markdown",
   "metadata": {},
   "source": [
    "Compute dates of *marstices*:"
   ]
  },
  {
   "cell_type": "code",
   "execution_count": 253,
   "metadata": {},
   "outputs": [
    {
     "name": "stdout",
     "output_type": "stream",
     "text": [
      "(-1450, 9, 17, 15, 5, 31.96665644645691)\n",
      "(-1450, 12, 1, 23, 22, 31.998332887887955)\n"
     ]
    }
   ],
   "source": [
    "epoch1 = pyplanets_Mars(mtime_initial.obj_pyplanet).station_longitude_1()\n",
    "print(epoch1.get_full_date())\n",
    "epoch2 = pyplanets_Mars(mtime_initial.obj_pyplanet).station_longitude_2()\n",
    "print(epoch2.get_full_date())"
   ]
  },
  {
   "cell_type": "markdown",
   "metadata": {},
   "source": [
    "## Get ephemerides from SPICE"
   ]
  },
  {
   "cell_type": "code",
   "execution_count": 254,
   "metadata": {},
   "outputs": [
    {
     "name": "stderr",
     "output_type": "stream",
     "text": [
      "100%|██████████| 365/365 [00:00<00:00, 380.65it/s]\n"
     ]
    }
   ],
   "source": [
    "mars.reset_store()\n",
    "for t in tqdm.tqdm(np.arange(0,365,1)):\n",
    "    mars.calculate_sky_position(mtime_initial+t*DAY,tebas,method='SPICE',verbose=0,store=1)"
   ]
  },
  {
   "cell_type": "code",
   "execution_count": 255,
   "metadata": {},
   "outputs": [
    {
     "data": {
      "image/png": "[encoded data removed]",
      "text/plain": [
       "<Figure size 432x288 with 1 Axes>"
      ]
     },
     "metadata": {
      "needs_background": "light"
     },
     "output_type": "display_data"
    }
   ],
   "source": [
    "fig,ax = plt.subplots()\n",
    "\n",
    "cond = [True]*len(mars.df)\n",
    "ax.plot(mars.df[cond].datetime_proleptic,mars.df[cond].LonEpoch)\n",
    "ax.tick_params(axis='x',rotation=45)"
   ]
  },
  {
   "cell_type": "code",
   "execution_count": 257,
   "metadata": {},
   "outputs": [
    {
     "data": {
      "image/png": "[encoded data removed]",
      "text/plain": [
       "<Figure size 432x288 with 1 Axes>"
      ]
     },
     "metadata": {
      "needs_background": "light"
     },
     "output_type": "display_data"
    }
   ],
   "source": [
    "fig,ax = plt.subplots()\n",
    "\n",
    "cond = (mars.df.datetime_mixed >= datetime(1450,8,1)) & (mars.df.datetime_mixed <= datetime(1450,12,31))\n",
    "\n",
    "ax.plot(mars.df[cond].datetime_proleptic,mars.df.loc[cond,'LonEpoch'])\n",
    "ax.tick_params(axis='x',rotation=45)"
   ]
  },
  {
   "cell_type": "code",
   "execution_count": 258,
   "metadata": {},
   "outputs": [],
   "source": [
    "import plotly.express as px\n",
    "import plotly.graph_objects as go"
   ]
  },
  {
   "cell_type": "code",
   "execution_count": 259,
   "metadata": {},
   "outputs": [
    {
     "data": {
      "application/vnd.plotly.v1+json": {
       "config": {
        "plotlyServerURL": "https://plot.ly"
       },
       "data": [
        {
         "hovertemplate": "variable=LonJ2000<br>datetime_proleptic=%{x}<br>value=%{y}<extra></extra>",
         "legendgroup": "LonJ2000",
         "marker": {
          "color": "#636efa",
          "symbol": "circle"
         },
         "mode": "markers",
         "name": "LonJ2000",
         "orientation": "v",
         "showlegend": true,
         "type": "scatter",
         "x": [
          "1450-01-01T00:00:00",
          "1450-01-02T00:00:00",
          "1450-01-03T00:00:00",
          "1450-01-04T00:00:00",
          "1450-01-05T00:00:00",
          "1450-01-06T00:00:00",
          "1450-01-07T00:00:00",
          "1450-01-08T00:00:00",
          "1450-01-09T00:00:00",
          "1450-01-10T00:00:00",
          "1450-01-11T00:00:00",
          "1450-01-12T00:00:00",
          "1450-01-13T00:00:00",
          "1450-01-14T00:00:00",
          "1450-01-15T00:00:00",
          "1450-01-16T00:00:00",
          "1450-01-17T00:00:00",
          "1450-01-18T00:00:00",
          "1450-01-19T00:00:00",
          "1450-01-20T00:00:00",
          "1450-01-21T00:00:00",
          "1450-01-22T00:00:00",
          "1450-01-23T00:00:00",
          "1450-01-24T00:00:00",
          "1450-01-25T00:00:00",
          "1450-01-26T00:00:00",
          "1450-01-27T00:00:00",
          "1450-01-28T00:00:00",
          "1450-01-29T00:00:00",
          "1450-01-30T00:00:00",
          "1450-01-31T00:00:00",
          "1450-02-01T00:00:00",
          "1450-02-02T00:00:00",
          "1450-02-03T00:00:00",
          "1450-02-04T00:00:00",
          "1450-02-05T00:00:00",
          "1450-02-06T00:00:00",
          "1450-02-07T00:00:00",
          "1450-02-08T00:00:00",
          "1450-02-09T00:00:00",
          "1450-02-10T00:00:00",
          "1450-02-11T00:00:00",
          "1450-02-12T00:00:00",
          "1450-02-13T00:00:00",
          "1450-02-14T00:00:00",
          "1450-02-15T00:00:00",
          "1450-02-16T00:00:00",
          "1450-02-17T00:00:00",
          "1450-02-18T00:00:00",
          "1450-02-19T00:00:00",
          "1450-02-20T00:00:00",
          "1450-02-21T00:00:00",
          "1450-02-22T00:00:00",
          "1450-02-23T00:00:00",
          "1450-02-24T00:00:00",
          "1450-02-25T00:00:00",
          "1450-02-26T00:00:00",
          "1450-02-27T00:00:00",
          "1450-02-28T00:00:00",
          "1450-03-01T00:00:00",
          "1450-03-02T00:00:00",
          "1450-03-03T00:00:00",
          "1450-03-04T00:00:00",
          "1450-03-05T00:00:00",
          "1450-03-06T00:00:00",
          "1450-03-07T00:00:00",
          "1450-03-08T00:00:00",
          "1450-03-09T00:00:00",
          "1450-03-10T00:00:00",
          "1450-03-11T00:00:00",
          "1450-03-12T00:00:00",
          "1450-03-13T00:00:00",
          "1450-03-14T00:00:00",
          "1450-03-15T00:00:00",
          "1450-03-16T00:00:00",
          "1450-03-17T00:00:00",
          "1450-03-18T00:00:00",
          "1450-03-19T00:00:00",
          "1450-03-20T00:00:00",
          "1450-03-21T00:00:00",
          "1450-03-22T00:00:00",
          "1450-03-23T00:00:00",
          "1450-03-24T00:00:00",
          "1450-03-25T00:00:00",
          "1450-03-26T00:00:00",
          "1450-03-27T00:00:00",
          "1450-03-28T00:00:00",
          "1450-03-29T00:00:00",
          "1450-03-30T00:00:00",
          "1450-03-31T00:00:00",
          "1450-04-01T00:00:00",
          "1450-04-02T00:00:00",
          "1450-04-03T00:00:00",
          "1450-04-04T00:00:00",
          "1450-04-05T00:00:00",
          "1450-04-06T00:00:00",
          "1450-04-07T00:00:00",
          "1450-04-08T00:00:00",
          "1450-04-09T00:00:00",
          "1450-04-10T00:00:00",
          "1450-04-11T00:00:00",
          "1450-04-12T00:00:00",
          "1450-04-13T00:00:00",
          "1450-04-14T00:00:00",
          "1450-04-15T00:00:00",
          "1450-04-16T00:00:00",
          "1450-04-17T00:00:00",
          "1450-04-18T00:00:00",
          "1450-04-19T00:00:00",
          "1450-04-20T00:00:00",
          "1450-04-21T00:00:00",
          "1450-04-22T00:00:00",
          "1450-04-23T00:00:00",
          "1450-04-24T00:00:00",
          "1450-04-25T00:00:00",
          "1450-04-26T00:00:00",
          "1450-04-27T00:00:00",
          "1450-04-28T00:00:00",
          "1450-04-29T00:00:00",
          "1450-04-30T00:00:00",
          "1450-05-01T00:00:00",
          "1450-05-02T00:00:00",
          "1450-05-03T00:00:00",
          "1450-05-04T00:00:00",
          "1450-05-05T00:00:00",
          "1450-05-06T00:00:00",
          "1450-05-07T00:00:00",
          "1450-05-08T00:00:00",
          "1450-05-09T00:00:00",
          "1450-05-10T00:00:00",
          "1450-05-11T00:00:00",
          "1450-05-12T00:00:00",
          "1450-05-13T00:00:00",
          "1450-05-14T00:00:00",
          "1450-05-15T00:00:00",
          "1450-05-16T00:00:00",
          "1450-05-17T00:00:00",
          "1450-05-18T00:00:00",
          "1450-05-19T00:00:00",
          "1450-05-20T00:00:00",
          "1450-05-21T00:00:00",
          "1450-05-22T00:00:00",
          "1450-05-23T00:00:00",
          "1450-05-24T00:00:00",
          "1450-05-25T00:00:00",
          "1450-05-26T00:00:00",
          "1450-05-27T00:00:00",
          "1450-05-28T00:00:00",
          "1450-05-29T00:00:00",
          "1450-05-30T00:00:00",
          "1450-05-31T00:00:00",
          "1450-06-01T00:00:00",
          "1450-06-02T00:00:00",
          "1450-06-03T00:00:00",
          "1450-06-04T00:00:00",
          "1450-06-05T00:00:00",
          "1450-06-06T00:00:00",
          "1450-06-07T00:00:00",
          "1450-06-08T00:00:00",
          "1450-06-09T00:00:00",
          "1450-06-10T00:00:00",
          "1450-06-11T00:00:00",
          "1450-06-12T00:00:00",
          "1450-06-13T00:00:00",
          "1450-06-14T00:00:00",
          "1450-06-15T00:00:00",
          "1450-06-16T00:00:00",
          "1450-06-17T00:00:00",
          "1450-06-18T00:00:00",
          "1450-06-19T00:00:00",
          "1450-06-20T00:00:00",
          "1450-06-21T00:00:00",
          "1450-06-22T00:00:00",
          "1450-06-23T00:00:00",
          "1450-06-24T00:00:00",
          "1450-06-25T00:00:00",
          "1450-06-26T00:00:00",
          "1450-06-27T00:00:00",
          "1450-06-28T00:00:00",
          "1450-06-29T00:00:00",
          "1450-06-30T00:00:00",
          "1450-07-01T00:00:00",
          "1450-07-02T00:00:00",
          "1450-07-03T00:00:00",
          "1450-07-04T00:00:00",
          "1450-07-05T00:00:00",
          "1450-07-06T00:00:00",
          "1450-07-07T00:00:00",
          "1450-07-08T00:00:00",
          "1450-07-09T00:00:00",
          "1450-07-10T00:00:00",
          "1450-07-11T00:00:00",
          "1450-07-12T00:00:00",
          "1450-07-13T00:00:00",
          "1450-07-14T00:00:00",
          "1450-07-15T00:00:00",
          "1450-07-16T00:00:00",
          "1450-07-17T00:00:00",
          "1450-07-18T00:00:00",
          "1450-07-19T00:00:00",
          "1450-07-20T00:00:00",
          "1450-07-21T00:00:00",
          "1450-07-22T00:00:00",
          "1450-07-23T00:00:00",
          "1450-07-24T00:00:00",
          "1450-07-25T00:00:00",
          "1450-07-26T00:00:00",
          "1450-07-27T00:00:00",
          "1450-07-28T00:00:00",
          "1450-07-29T00:00:00",
          "1450-07-30T00:00:00",
          "1450-07-31T00:00:00",
          "1450-08-01T00:00:00",
          "1450-08-02T00:00:00",
          "1450-08-03T00:00:00",
          "1450-08-04T00:00:00",
          "1450-08-05T00:00:00",
          "1450-08-06T00:00:00",
          "1450-08-07T00:00:00",
          "1450-08-08T00:00:00",
          "1450-08-09T00:00:00",
          "1450-08-10T00:00:00",
          "1450-08-11T00:00:00",
          "1450-08-12T00:00:00",
          "1450-08-13T00:00:00",
          "1450-08-14T00:00:00",
          "1450-08-15T00:00:00",
          "1450-08-16T00:00:00",
          "1450-08-17T00:00:00",
          "1450-08-18T00:00:00",
          "1450-08-19T00:00:00",
          "1450-08-20T00:00:00",
          "1450-08-21T00:00:00",
          "1450-08-22T00:00:00",
          "1450-08-23T00:00:00",
          "1450-08-24T00:00:00",
          "1450-08-25T00:00:00",
          "1450-08-26T00:00:00",
          "1450-08-27T00:00:00",
          "1450-08-28T00:00:00",
          "1450-08-29T00:00:00",
          "1450-08-30T00:00:00",
          "1450-08-31T00:00:00",
          "1450-09-01T00:00:00",
          "1450-09-02T00:00:00",
          "1450-09-03T00:00:00",
          "1450-09-04T00:00:00",
          "1450-09-05T00:00:00",
          "1450-09-06T00:00:00",
          "1450-09-07T00:00:00",
          "1450-09-08T00:00:00",
          "1450-09-09T00:00:00",
          "1450-09-10T00:00:00",
          "1450-09-11T00:00:00",
          "1450-09-12T00:00:00",
          "1450-09-13T00:00:00",
          "1450-09-14T00:00:00",
          "1450-09-15T00:00:00",
          "1450-09-16T00:00:00",
          "1450-09-17T00:00:00",
          "1450-09-18T00:00:00",
          "1450-09-19T00:00:00",
          "1450-09-20T00:00:00",
          "1450-09-21T00:00:00",
          "1450-09-22T00:00:00",
          "1450-09-23T00:00:00",
          "1450-09-24T00:00:00",
          "1450-09-25T00:00:00",
          "1450-09-26T00:00:00",
          "1450-09-27T00:00:00",
          "1450-09-28T00:00:00",
          "1450-09-29T00:00:00",
          "1450-09-30T00:00:00",
          "1450-10-01T00:00:00",
          "1450-10-02T00:00:00",
          "1450-10-03T00:00:00",
          "1450-10-04T00:00:00",
          "1450-10-05T00:00:00",
          "1450-10-06T00:00:00",
          "1450-10-07T00:00:00",
          "1450-10-08T00:00:00",
          "1450-10-09T00:00:00",
          "1450-10-10T00:00:00",
          "1450-10-11T00:00:00",
          "1450-10-12T00:00:00",
          "1450-10-13T00:00:00",
          "1450-10-14T00:00:00",
          "1450-10-15T00:00:00",
          "1450-10-16T00:00:00",
          "1450-10-17T00:00:00",
          "1450-10-18T00:00:00",
          "1450-10-19T00:00:00",
          "1450-10-20T00:00:00",
          "1450-10-21T00:00:00",
          "1450-10-22T00:00:00",
          "1450-10-23T00:00:00",
          "1450-10-24T00:00:00",
          "1450-10-25T00:00:00",
          "1450-10-26T00:00:00",
          "1450-10-27T00:00:00",
          "1450-10-28T00:00:00",
          "1450-10-29T00:00:00",
          "1450-10-30T00:00:00",
          "1450-10-31T00:00:00",
          "1450-11-01T00:00:00",
          "1450-11-02T00:00:00",
          "1450-11-03T00:00:00",
          "1450-11-04T00:00:00",
          "1450-11-05T00:00:00",
          "1450-11-06T00:00:00",
          "1450-11-07T00:00:00",
          "1450-11-08T00:00:00",
          "1450-11-09T00:00:00",
          "1450-11-10T00:00:00",
          "1450-11-11T00:00:00",
          "1450-11-12T00:00:00",
          "1450-11-13T00:00:00",
          "1450-11-14T00:00:00",
          "1450-11-15T00:00:00",
          "1450-11-16T00:00:00",
          "1450-11-17T00:00:00",
          "1450-11-18T00:00:00",
          "1450-11-19T00:00:00",
          "1450-11-20T00:00:00",
          "1450-11-21T00:00:00",
          "1450-11-22T00:00:00",
          "1450-11-23T00:00:00",
          "1450-11-24T00:00:00",
          "1450-11-25T00:00:00",
          "1450-11-26T00:00:00",
          "1450-11-27T00:00:00",
          "1450-11-28T00:00:00",
          "1450-11-29T00:00:00",
          "1450-11-30T00:00:00",
          "1450-12-01T00:00:00",
          "1450-12-02T00:00:00",
          "1450-12-03T00:00:00",
          "1450-12-04T00:00:00",
          "1450-12-05T00:00:00",
          "1450-12-06T00:00:00",
          "1450-12-07T00:00:00",
          "1450-12-08T00:00:00",
          "1450-12-09T00:00:00",
          "1450-12-10T00:00:00",
          "1450-12-11T00:00:00",
          "1450-12-12T00:00:00",
          "1450-12-13T00:00:00",
          "1450-12-14T00:00:00",
          "1450-12-15T00:00:00",
          "1450-12-16T00:00:00",
          "1450-12-17T00:00:00",
          "1450-12-18T00:00:00",
          "1450-12-19T00:00:20.924800",
          "1450-12-20T00:00:20.924800",
          "1450-12-21T00:00:20.924800",
          "1450-12-22T00:00:20.924800",
          "1450-12-23T00:00:20.924800",
          "1450-12-24T00:00:20.924800",
          "1450-12-25T00:00:20.924800",
          "1450-12-26T00:00:20.924800",
          "1450-12-27T00:00:20.924800",
          "1450-12-28T00:00:20.924800",
          "1450-12-29T00:00:20.924800",
          "1450-12-30T00:00:20.924800",
          "1450-12-31T00:00:20.924800"
         ],
         "xaxis": "x",
         "y": [
          287.6459174082177,
          288.3991786982476,
          289.1527767786128,
          289.9067119635916,
          290.6609863686074,
          291.41560337637753,
          292.17056668597286,
          292.92587906111254,
          293.6815410717637,
          294.43755018212727,
          295.19390040891693,
          295.9505825367038,
          296.7075846908801,
          297.4648930232018,
          298.222492330949,
          298.98036652965976,
          299.7384989755483,
          300.4968726730475,
          301.25547041398204,
          302.01427489056897,
          302.77326881382953,
          303.53243505654143,
          304.2917568277878,
          305.05121787620067,
          305.8108027124789,
          306.57049683995535,
          307.33028698462783,
          308.0901613208264,
          308.85010969145094,
          309.61012381718547,
          310.37019747287286,
          311.13032658015754,
          311.89050913049596,
          312.6507448313233,
          313.41103439222803,
          314.1713784627793,
          314.93177638305406,
          315.69222503362727,
          316.4527180763984,
          317.21324573597224,
          317.9737950693969,
          318.73435053172466,
          319.4948946215023,
          320.2554084525072,
          321.0158721831903,
          321.77626530123945,
          322.53656679676845,
          323.2967552704869,
          324.05680902306415,
          324.81670616556863,
          325.57642478108187,
          326.33594315492707,
          327.09524007566966,
          327.85429519290443,
          328.6130894041981,
          329.3716052359938,
          330.1298271833417,
          330.8877419784687,
          331.645338762243,
          332.402609129619,
          333.1595470087849,
          333.916148321964,
          334.6724103806516,
          335.42833100865505,
          336.1839074668085,
          336.9391353467203,
          337.69400765265243,
          338.4485142549409,
          339.2026417823723,
          339.9563738864145,
          340.70969172511093,
          341.46257450453317,
          342.2149999597144,
          342.96694471764374,
          343.7183845354923,
          344.4692944391931,
          345.21964880397553,
          345.9694214253472,
          346.71858563034436,
          347.46711447506004,
          348.21498106302994,
          348.9621589968691,
          349.7086229427814,
          350.4543492503995,
          351.19931654130204,
          351.94350617155965,
          352.68690249133726,
          353.42949285965017,
          354.17126740830605,
          354.91221857282926,
          355.65234041931035,
          356.39162780549395,
          357.13007543425545,
          357.86767688901926,
          358.6044237688975,
          359.34030504296555,
          0.07530670455770422,
          0.8094117372506423,
          1.5426003332942828,
          2.2748502616591626,
          3.0061372775477744,
          3.7364354895867593,
          4.465717637844321,
          5.193955271151241,
          5.921118839818466,
          6.647177740129445,
          7.372100362475706,
          8.095854207041642,
          8.818406136634827,
          9.53972282770147,
          10.259771447477089,
          10.978520522595888,
          11.695940883708918,
          12.412006504637526,
          13.12669504397828,
          13.839987960200549,
          14.551870182681462,
          15.262329425594917,
          15.971355284534102,
          16.678938251237756,
          17.385068745867517,
          18.08973623024796,
          18.792928445398342,
          19.49463080981893,
          20.194826009101156,
          20.893493792078715,
          21.590610962720092,
          22.286151528151315,
          22.980086942533955,
          23.672386380788176,
          24.36301698538675,
          25.051944048632315,
          25.739131116137422,
          26.424540021267806,
          27.10813088455368,
          27.789862137423228,
          28.469690654978944,
          29.14757210054199,
          29.823461578652378,
          30.497314639823852,
          31.16908856618277,
          31.838743716305743,
          32.50624459598107,
          33.17156034000338,
          33.83466446254374,
          34.495533973193886,
          35.154148126024815,
          35.81048709598287,
          36.46453079079261,
          37.116257888572754,
          37.76564510410598,
          38.41266664825608,
          39.05729384281897,
          39.69949486593003,
          40.339234614416554,
          40.97647467163782,
          41.611173362726994,
          42.2432858689174,
          42.87276436496745,
          43.49955814286787,
          44.12361369241389,
          44.74487472442408,
          45.36328214463118,
          45.978774015675185,
          46.591285581237535,
          47.200749466349826,
          47.80709619720185,
          48.41025517209931,
          49.01015612200943,
          49.606730905605524,
          50.19991524627741,
          50.78964988568627,
          51.37588074681521,
          51.95855805301379,
          52.537634725475236,
          53.11306455210543,
          53.68480053872626,
          54.25279364419668,
          54.816991911842614,
          55.37733990833178,
          55.933778360153696,
          56.48624390115049,
          57.0346688804831,
          57.57898121087177,
          58.11910425471153,
          58.654956750308735,
          59.18645277550484,
          59.71350173688371,
          60.23600836560238,
          60.75387270067233,
          61.26699005072752,
          61.77525094808523,
          62.2785411451906,
          62.776741751639065,
          63.269729660560905,
          63.75737844074551,
          64.23955982856383,
          64.71614578912182,
          65.18701082699307,
          65.65203393404498,
          66.11109949405552,
          66.56409677265042,
          67.01091817095197,
          67.45145685429708,
          67.88560443371864,
          68.31324913624783,
          68.73427458320747,
          69.14855907870924,
          69.55597523069541,
          69.95638973967324,
          70.34966324113337,
          70.73565014224889,
          71.11419843703933,
          71.4851495128658,
          71.84833797498185,
          72.20359151684893,
          72.55073085602189,
          72.88956974443794,
          73.21991505557344,
          73.54156695652756,
          73.85431919577026,
          74.15795957768474,
          74.45227074592128,
          74.73703143787715,
          75.01201836164275,
          75.27700872937659,
          75.53178322359638,
          75.77612883436936,
          76.00984078497302,
          76.23272290276326,
          76.4445863304772,
          76.64524711304517,
          76.83452352638754,
          77.01223388987702,
          77.17819521557456,
          77.33222267971983,
          77.4741297031309,
          77.60372838828968,
          77.72083010990046,
          77.82524613141018,
          77.91678819104754,
          77.99526905852252,
          78.06050310687591,
          78.11230697289274,
          78.15050039214607,
          78.17490729042427,
          78.18535719409397,
          78.18168699731308,
          78.16374310563815,
          78.13138397396348,
          78.08448307142511,
          78.02293232084695,
          77.9466460416169,
          77.85556533045191,
          77.74966261881066,
          77.62894588529619,
          77.4934618110573,
          77.34329723798697,
          77.17857871813692,
          76.99947056723931,
          76.80617229621865,
          76.59891632672569,
          76.37796654768042,
          76.14361780999393,
          75.89619612761894,
          75.63605922796381,
          75.36359712043921,
          75.07923244550109,
          74.78342047178714,
          74.47664870270602,
          74.15943613408261,
          73.83233227111951,
          73.49591606224993,
          73.1507949268695,
          72.79760402980347,
          72.43700588230814,
          72.06969024265945,
          71.69637418184138,
          71.31780210908808,
          70.93474553306258,
          70.54800235176711,
          70.1583954805666,
          69.76677061468484,
          69.37399289151497,
          68.9809422290666,
          68.58850724849516,
          68.1975779696763,
          67.80903781822073,
          67.4237557233506,
          67.04257906818543,
          66.66632797753307,
          66.29579104568741,
          65.93172229866975,
          65.57483904517943,
          65.22582028050495,
          64.88530540069668,
          64.5538930968156,
          64.23214039938483,
          63.92056192397637,
          63.61962943323863,
          63.329771878979074,
          63.051376108648604,
          62.78478839020616,
          62.530316804620306,
          62.28823437763421,
          62.058782619757466,
          61.84217500404219,
          61.638599913774904,
          61.4482227441988,
          61.271187067285695,
          61.107614960748634,
          60.957606699490405,
          60.821240019791,
          60.698569147258326,
          60.589623776611155,
          60.4944082134441,
          60.412900904306476,
          60.34505454991596,
          60.29079690105252,
          60.25003220250413,
          60.22264312905505,
          60.208492991586645,
          60.20742799201906,
          60.219279355552246,
          60.243865239525,
          60.28099238846178,
          60.33045756604962,
          60.39204884723055,
          60.46554689973841,
          60.55072642011941,
          60.64735789645637,
          60.755209817449305,
          60.8740513068791,
          61.0036549458323,
          61.14379933682464,
          61.294270898766236,
          61.45486454420016,
          61.62538321882876,
          61.80563659738195,
          61.995439373112234,
          62.19460952919452,
          62.402966829879546,
          62.62033162269579,
          62.84652395572125,
          63.08136298586096,
          63.32466665778702,
          63.57625164005154,
          63.83593349859001,
          64.1035270679251,
          64.37884695705065,
          64.66170811233125,
          64.95192636082834,
          65.24931887403214,
          65.55370451894277,
          65.86490409555138,
          66.18274049418298,
          66.50703884257747,
          66.83762674981946,
          67.17433478393312,
          67.5169973202201,
          67.86545383296932,
          68.21955054575822,
          68.57914212998834,
          68.94409296215045,
          69.31427747538683
         ],
         "yaxis": "y"
        }
       ],
       "layout": {
        "legend": {
         "title": {
          "text": "variable"
         },
         "tracegroupgap": 0
        },
        "margin": {
         "t": 60
        },
        "template": {
         "data": {
          "bar": [
           {
            "error_x": {
             "color": "#2a3f5f"
            },
            "error_y": {
             "color": "#2a3f5f"
            },
            "marker": {
             "line": {
              "color": "#E5ECF6",
              "width": 0.5
             },
             "pattern": {
              "fillmode": "overlay",
              "size": 10,
              "solidity": 0.2
             }
            },
            "type": "bar"
           }
          ],
          "barpolar": [
           {
            "marker": {
             "line": {
              "color": "#E5ECF6",
              "width": 0.5
             },
             "pattern": {
              "fillmode": "overlay",
              "size": 10,
              "solidity": 0.2
             }
            },
            "type": "barpolar"
           }
          ],
          "carpet": [
           {
            "aaxis": {
             "endlinecolor": "#2a3f5f",
             "gridcolor": "white",
             "linecolor": "white",
             "minorgridcolor": "white",
             "startlinecolor": "#2a3f5f"
            },
            "baxis": {
             "endlinecolor": "#2a3f5f",
             "gridcolor": "white",
             "linecolor": "white",
             "minorgridcolor": "white",
             "startlinecolor": "#2a3f5f"
            },
            "type": "carpet"
           }
          ],
          "choropleth": [
           {
            "colorbar": {
             "outlinewidth": 0,
             "ticks": ""
            },
            "type": "choropleth"
           }
          ],
          "contour": [
           {
            "colorbar": {
             "outlinewidth": 0,
             "ticks": ""
            },
            "colorscale": [
             [
              0,
              "#0d0887"
             ],
             [
              0.1111111111111111,
              "#46039f"
             ],
             [
              0.2222222222222222,
              "#7201a8"
             ],
             [
              0.3333333333333333,
              "#9c179e"
             ],
             [
              0.4444444444444444,
              "#bd3786"
             ],
             [
              0.5555555555555556,
              "#d8576b"
             ],
             [
              0.6666666666666666,
              "#ed7953"
             ],
             [
              0.7777777777777778,
              "#fb9f3a"
             ],
             [
              0.8888888888888888,
              "#fdca26"
             ],
             [
              1,
              "#f0f921"
             ]
            ],
            "type": "contour"
           }
          ],
          "contourcarpet": [
           {
            "colorbar": {
             "outlinewidth": 0,
             "ticks": ""
            },
            "type": "contourcarpet"
           }
          ],
          "heatmap": [
           {
            "colorbar": {
             "outlinewidth": 0,
             "ticks": ""
            },
            "colorscale": [
             [
              0,
              "#0d0887"
             ],
             [
              0.1111111111111111,
              "#46039f"
             ],
             [
              0.2222222222222222,
              "#7201a8"
             ],
             [
              0.3333333333333333,
              "#9c179e"
             ],
             [
              0.4444444444444444,
              "#bd3786"
             ],
             [
              0.5555555555555556,
              "#d8576b"
             ],
             [
              0.6666666666666666,
              "#ed7953"
             ],
             [
              0.7777777777777778,
              "#fb9f3a"
             ],
             [
              0.8888888888888888,
              "#fdca26"
             ],
             [
              1,
              "#f0f921"
             ]
            ],
            "type": "heatmap"
           }
          ],
          "heatmapgl": [
           {
            "colorbar": {
             "outlinewidth": 0,
             "ticks": ""
            },
            "colorscale": [
             [
              0,
              "#0d0887"
             ],
             [
              0.1111111111111111,
              "#46039f"
             ],
             [
              0.2222222222222222,
              "#7201a8"
             ],
             [
              0.3333333333333333,
              "#9c179e"
             ],
             [
              0.4444444444444444,
              "#bd3786"
             ],
             [
              0.5555555555555556,
              "#d8576b"
             ],
             [
              0.6666666666666666,
              "#ed7953"
             ],
             [
              0.7777777777777778,
              "#fb9f3a"
             ],
             [
              0.8888888888888888,
              "#fdca26"
             ],
             [
              1,
              "#f0f921"
             ]
            ],
            "type": "heatmapgl"
           }
          ],
          "histogram": [
           {
            "marker": {
             "pattern": {
              "fillmode": "overlay",
              "size": 10,
              "solidity": 0.2
             }
            },
            "type": "histogram"
           }
          ],
          "histogram2d": [
           {
            "colorbar": {
             "outlinewidth": 0,
             "ticks": ""
            },
            "colorscale": [
             [
              0,
              "#0d0887"
             ],
             [
              0.1111111111111111,
              "#46039f"
             ],
             [
              0.2222222222222222,
              "#7201a8"
             ],
             [
              0.3333333333333333,
              "#9c179e"
             ],
             [
              0.4444444444444444,
              "#bd3786"
             ],
             [
              0.5555555555555556,
              "#d8576b"
             ],
             [
              0.6666666666666666,
              "#ed7953"
             ],
             [
              0.7777777777777778,
              "#fb9f3a"
             ],
             [
              0.8888888888888888,
              "#fdca26"
             ],
             [
              1,
              "#f0f921"
             ]
            ],
            "type": "histogram2d"
           }
          ],
          "histogram2dcontour": [
           {
            "colorbar": {
             "outlinewidth": 0,
             "ticks": ""
            },
            "colorscale": [
             [
              0,
              "#0d0887"
             ],
             [
              0.1111111111111111,
              "#46039f"
             ],
             [
              0.2222222222222222,
              "#7201a8"
             ],
             [
              0.3333333333333333,
              "#9c179e"
             ],
             [
              0.4444444444444444,
              "#bd3786"
             ],
             [
              0.5555555555555556,
              "#d8576b"
             ],
             [
              0.6666666666666666,
              "#ed7953"
             ],
             [
              0.7777777777777778,
              "#fb9f3a"
             ],
             [
              0.8888888888888888,
              "#fdca26"
             ],
             [
              1,
              "#f0f921"
             ]
            ],
            "type": "histogram2dcontour"
           }
          ],
          "mesh3d": [
           {
            "colorbar": {
             "outlinewidth": 0,
             "ticks": ""
            },
            "type": "mesh3d"
           }
          ],
          "parcoords": [
           {
            "line": {
             "colorbar": {
              "outlinewidth": 0,
              "ticks": ""
             }
            },
            "type": "parcoords"
           }
          ],
          "pie": [
           {
            "automargin": true,
            "type": "pie"
           }
          ],
          "scatter": [
           {
            "fillpattern": {
             "fillmode": "overlay",
             "size": 10,
             "solidity": 0.2
            },
            "type": "scatter"
           }
          ],
          "scatter3d": [
           {
            "line": {
             "colorbar": {
              "outlinewidth": 0,
              "ticks": ""
             }
            },
            "marker": {
             "colorbar": {
              "outlinewidth": 0,
              "ticks": ""
             }
            },
            "type": "scatter3d"
           }
          ],
          "scattercarpet": [
           {
            "marker": {
             "colorbar": {
              "outlinewidth": 0,
              "ticks": ""
             }
            },
            "type": "scattercarpet"
           }
          ],
          "scattergeo": [
           {
            "marker": {
             "colorbar": {
              "outlinewidth": 0,
              "ticks": ""
             }
            },
            "type": "scattergeo"
           }
          ],
          "scattergl": [
           {
            "marker": {
             "colorbar": {
              "outlinewidth": 0,
              "ticks": ""
             }
            },
            "type": "scattergl"
           }
          ],
          "scattermapbox": [
           {
            "marker": {
             "colorbar": {
              "outlinewidth": 0,
              "ticks": ""
             }
            },
            "type": "scattermapbox"
           }
          ],
          "scatterpolar": [
           {
            "marker": {
             "colorbar": {
              "outlinewidth": 0,
              "ticks": ""
             }
            },
            "type": "scatterpolar"
           }
          ],
          "scatterpolargl": [
           {
            "marker": {
             "colorbar": {
              "outlinewidth": 0,
              "ticks": ""
             }
            },
            "type": "scatterpolargl"
           }
          ],
          "scatterternary": [
           {
            "marker": {
             "colorbar": {
              "outlinewidth": 0,
              "ticks": ""
             }
            },
            "type": "scatterternary"
           }
          ],
          "surface": [
           {
            "colorbar": {
             "outlinewidth": 0,
             "ticks": ""
            },
            "colorscale": [
             [
              0,
              "#0d0887"
             ],
             [
              0.1111111111111111,
              "#46039f"
             ],
             [
              0.2222222222222222,
              "#7201a8"
             ],
             [
              0.3333333333333333,
              "#9c179e"
             ],
             [
              0.4444444444444444,
              "#bd3786"
             ],
             [
              0.5555555555555556,
              "#d8576b"
             ],
             [
              0.6666666666666666,
              "#ed7953"
             ],
             [
              0.7777777777777778,
              "#fb9f3a"
             ],
             [
              0.8888888888888888,
              "#fdca26"
             ],
             [
              1,
              "#f0f921"
             ]
            ],
            "type": "surface"
           }
          ],
          "table": [
           {
            "cells": {
             "fill": {
              "color": "#EBF0F8"
             },
             "line": {
              "color": "white"
             }
            },
            "header": {
             "fill": {
              "color": "#C8D4E3"
             },
             "line": {
              "color": "white"
             }
            },
            "type": "table"
           }
          ]
         },
         "layout": {
          "annotationdefaults": {
           "arrowcolor": "#2a3f5f",
           "arrowhead": 0,
           "arrowwidth": 1
          },
          "autotypenumbers": "strict",
          "coloraxis": {
           "colorbar": {
            "outlinewidth": 0,
            "ticks": ""
           }
          },
          "colorscale": {
           "diverging": [
            [
             0,
             "#8e0152"
            ],
            [
             0.1,
             "#c51b7d"
            ],
            [
             0.2,
             "#de77ae"
            ],
            [
             0.3,
             "#f1b6da"
            ],
            [
             0.4,
             "#fde0ef"
            ],
            [
             0.5,
             "#f7f7f7"
            ],
            [
             0.6,
             "#e6f5d0"
            ],
            [
             0.7,
             "#b8e186"
            ],
            [
             0.8,
             "#7fbc41"
            ],
            [
             0.9,
             "#4d9221"
            ],
            [
             1,
             "#276419"
            ]
           ],
           "sequential": [
            [
             0,
             "#0d0887"
            ],
            [
             0.1111111111111111,
             "#46039f"
            ],
            [
             0.2222222222222222,
             "#7201a8"
            ],
            [
             0.3333333333333333,
             "#9c179e"
            ],
            [
             0.4444444444444444,
             "#bd3786"
            ],
            [
             0.5555555555555556,
             "#d8576b"
            ],
            [
             0.6666666666666666,
             "#ed7953"
            ],
            [
             0.7777777777777778,
             "#fb9f3a"
            ],
            [
             0.8888888888888888,
             "#fdca26"
            ],
            [
             1,
             "#f0f921"
            ]
           ],
           "sequentialminus": [
            [
             0,
             "#0d0887"
            ],
            [
             0.1111111111111111,
             "#46039f"
            ],
            [
             0.2222222222222222,
             "#7201a8"
            ],
            [
             0.3333333333333333,
             "#9c179e"
            ],
            [
             0.4444444444444444,
             "#bd3786"
            ],
            [
             0.5555555555555556,
             "#d8576b"
            ],
            [
             0.6666666666666666,
             "#ed7953"
            ],
            [
             0.7777777777777778,
             "#fb9f3a"
            ],
            [
             0.8888888888888888,
             "#fdca26"
            ],
            [
             1,
             "#f0f921"
            ]
           ]
          },
          "colorway": [
           "#636efa",
           "#EF553B",
           "#00cc96",
           "#ab63fa",
           "#FFA15A",
           "#19d3f3",
           "#FF6692",
           "#B6E880",
           "#FF97FF",
           "#FECB52"
          ],
          "font": {
           "color": "#2a3f5f"
          },
          "geo": {
           "bgcolor": "white",
           "lakecolor": "white",
           "landcolor": "#E5ECF6",
           "showlakes": true,
           "showland": true,
           "subunitcolor": "white"
          },
          "hoverlabel": {
           "align": "left"
          },
          "hovermode": "closest",
          "mapbox": {
           "style": "light"
          },
          "paper_bgcolor": "white",
          "plot_bgcolor": "#E5ECF6",
          "polar": {
           "angularaxis": {
            "gridcolor": "white",
            "linecolor": "white",
            "ticks": ""
           },
           "bgcolor": "#E5ECF6",
           "radialaxis": {
            "gridcolor": "white",
            "linecolor": "white",
            "ticks": ""
           }
          },
          "scene": {
           "xaxis": {
            "backgroundcolor": "#E5ECF6",
            "gridcolor": "white",
            "gridwidth": 2,
            "linecolor": "white",
            "showbackground": true,
            "ticks": "",
            "zerolinecolor": "white"
           },
           "yaxis": {
            "backgroundcolor": "#E5ECF6",
            "gridcolor": "white",
            "gridwidth": 2,
            "linecolor": "white",
            "showbackground": true,
            "ticks": "",
            "zerolinecolor": "white"
           },
           "zaxis": {
            "backgroundcolor": "#E5ECF6",
            "gridcolor": "white",
            "gridwidth": 2,
            "linecolor": "white",
            "showbackground": true,
            "ticks": "",
            "zerolinecolor": "white"
           }
          },
          "shapedefaults": {
           "line": {
            "color": "#2a3f5f"
           }
          },
          "ternary": {
           "aaxis": {
            "gridcolor": "white",
            "linecolor": "white",
            "ticks": ""
           },
           "baxis": {
            "gridcolor": "white",
            "linecolor": "white",
            "ticks": ""
           },
           "bgcolor": "#E5ECF6",
           "caxis": {
            "gridcolor": "white",
            "linecolor": "white",
            "ticks": ""
           }
          },
          "title": {
           "x": 0.05
          },
          "xaxis": {
           "automargin": true,
           "gridcolor": "white",
           "linecolor": "white",
           "ticks": "",
           "title": {
            "standoff": 15
           },
           "zerolinecolor": "white",
           "zerolinewidth": 2
          },
          "yaxis": {
           "automargin": true,
           "gridcolor": "white",
           "linecolor": "white",
           "ticks": "",
           "title": {
            "standoff": 15
           },
           "zerolinecolor": "white",
           "zerolinewidth": 2
          }
         }
        },
        "xaxis": {
         "anchor": "y",
         "domain": [
          0,
          1
         ],
         "rangeslider": {
          "visible": true
         },
         "title": {
          "text": "datetime_proleptic"
         }
        },
        "yaxis": {
         "anchor": "x",
         "domain": [
          0,
          1
         ],
         "title": {
          "text": "value"
         }
        }
       }
      }
     },
     "metadata": {},
     "output_type": "display_data"
    }
   ],
   "source": [
    "fig = px.scatter(mars.df,x='datetime_proleptic',y=['LonJ2000'])\n",
    "fig.update_xaxes(rangeslider_visible=True)"
   ]
  },
  {
   "cell_type": "code",
   "execution_count": 252,
   "metadata": {},
   "outputs": [
    {
     "name": "stdout",
     "output_type": "stream",
     "text": [
      "Montu Time Object:\n",
      "--------------------------\n",
      "General:\n",
      "    Calendar: proleptic\n",
      "    Is bce: True\n",
      "    Components UTC: [-1, 1450, 9, 4, 0, 0, 0, 0]\n",
      "Uniform scales:\n",
      "    Delta-t = TT - UTC = 34197.280000000006\n",
      "    Terrestrial time:\n",
      "        tt: -108850185002.72\n",
      "        jtd: 1191704.8958018518\n",
      "    UTC time:\n",
      "        et: -108850219200.0\n",
      "        jed: 1191704.5\n",
      "Strings:\n",
      "    Date in native format: -1450-09-04 00:00:00.0\n",
      "    Date in SPICE format: 1451 B.C. 09-04 00:00:00.000000\n",
      "    Date in mixed calendar: -1450-09-17 00:00:00\n",
      "Objects:\n",
      "    Date in datetime64 format: -1450-09-04T00:00:00.000\n",
      "    Date in datetime format proleptic: 1450-09-04 00:00:00\n",
      "    Date in datetime format mixed: 1450-09-17 00:00:00\n",
      "    Date in PyPlanet Epoch: 1191704.5\n",
      "    Date in PyEphem Epoch: -1451/9/17 00:00:00\n",
      "    Date in AstroPy Time: 1191704.8958018518\n",
      "Astronomical properties at Epoch:\n",
      "    True obliquity of ecliptic: 23:51:50.319\n",
      "    True nutation longitude: 00:00:15.178\n",
      "    Greenwhich Meridian Sidereal Time: 22:49:49.514\n",
      "Hash: -2364875774398946776\n",
      "\n"
     ]
    }
   ],
   "source": [
    "mtime = MonTime('-1450-09-04 00:00:00.0')\n",
    "print(mtime)"
   ]
  },
  {
   "cell_type": "markdown",
   "metadata": {},
   "source": [
    "## Compute speed of motion"
   ]
  },
  {
   "cell_type": "code",
   "execution_count": 497,
   "metadata": {},
   "outputs": [
    {
     "name": "stderr",
     "output_type": "stream",
     "text": [
      "100%|██████████| 500/500 [00:02<00:00, 218.99it/s]\n"
     ]
    }
   ],
   "source": [
    "mars = PlanetaryBody('Mars')\n",
    "mars.reset_store()\n",
    "\n",
    "mtime_initial = MonTime('-1450-01-01 00:00:00.0')\n",
    "\n",
    "dlondts = []\n",
    "datetimes = []\n",
    "for t in tqdm.tqdm(np.linspace(-3*365,3*365,500)):\n",
    "    mtime = mtime_initial + t*DAY\n",
    "    dlondts += [mars.ecliptic_longitude_advance(mtime,tebas,method='SPICE',dt=1*DAY)]\n",
    "    datetimes += [t]\n"
   ]
  },
  {
   "cell_type": "code",
   "execution_count": 498,
   "metadata": {},
   "outputs": [
    {
     "data": {
      "image/png": "[encoded data removed]",
      "text/plain": [
       "<Figure size 432x288 with 1 Axes>"
      ]
     },
     "metadata": {
      "needs_background": "light"
     },
     "output_type": "display_data"
    }
   ],
   "source": [
    "plt.plot(datetimes,dlondts)\n",
    "plt.grid()"
   ]
  },
  {
   "cell_type": "markdown",
   "metadata": {},
   "source": [
    "Find the minima close to a date:"
   ]
  },
  {
   "cell_type": "code",
   "execution_count": 493,
   "metadata": {},
   "outputs": [
    {
     "data": {
      "text/plain": [
       "     fun: -0.42201926478554697\n",
       " message: 'Solution found.'\n",
       "    nfev: 22\n",
       "  status: 0\n",
       " success: True\n",
       "       x: 705.7940023793592"
      ]
     },
     "execution_count": 493,
     "metadata": {},
     "output_type": "execute_result"
    }
   ],
   "source": [
    "mtime_initial = MonTime('50-01-01 00:00:00.0')\n",
    "retrograde = lambda t:mars.ecliptic_longitude_advance(mtime_initial+t*DAY,tebas,method='SPICE',dt=1*HOUR)\n",
    "min = minimize_scalar(retrograde,bounds=(0,2000),method='Bounded')\n",
    "min"
   ]
  },
  {
   "cell_type": "code",
   "execution_count": 546,
   "metadata": {},
   "outputs": [
    {
     "name": "stdout",
     "output_type": "stream",
     "text": [
      "Montu Time Object:\n",
      "--------------------------\n",
      "General:\n",
      "    Calendar: proleptic\n",
      "    Is bce: True\n",
      "    Components UTC: [-1, 4713, 11, 24, 12, 0, 0, 0]\n",
      "Uniform scales:\n",
      "    Terrestrial time:\n",
      "        tt: -211813351485.5232\n",
      "        jtd: 1.5800286666666663\n",
      "    UTC time:\n",
      "        et: -211813488000.0\n",
      "        jed: 0\n",
      "    Delta-t = TT - UTC = 136514.47679999997\n",
      "Strings:\n",
      "    Date in SPICE format: 4714 B.C. 11-24 12:00:00.000000\n",
      "    Date in proleptic calendar: -4713-11-24 12:00:00.0\n",
      "    Date in proleptic calendar (jul.year): 0001-11-24 12:00:00.000000\n",
      "    Date in mixed calendar: -4712-01-01 12:00:00\n",
      "    Date in mixed calendar (jul.year): -0001-01-01 12:00:00\n",
      "Objects:\n",
      "    Date in datetime64 format: -4713-11-24T12:00:00.000\n",
      "    Date in datetime format proleptic: 4713-11-24 12:00:00\n",
      "    Date in datetime format proleptic (julian year): 0001-11-24 12:00:00\n",
      "    Date in datetime format mixed: 4712-01-01 12:00:00\n",
      "    Date in datetime format mixed (julian year): 0001-01-01 12:00:00\n",
      "    Date in PyPlanet Epoch: 0\n",
      "    Date in PyEphem Epoch: -4713/1/1 12:00:00\n",
      "    Date in AstroPy Time: 1.5800286666666663\n",
      "Astronomical properties at Epoch:\n",
      "    True obliquity of ecliptic: 24:09:7.175\n",
      "    True nutation longitude: 00:00:1.430\n",
      "    Greenwhich Meridian Sidereal Time: 16:13:22.528\n",
      "Hash: 5988667924203047908\n",
      "\n"
     ]
    }
   ],
   "source": [
    "mtime = MonTime(0*365,format='jd',scale='utc')\n",
    "print(mtime)"
   ]
  },
  {
   "cell_type": "code",
   "execution_count": 523,
   "metadata": {},
   "outputs": [
    {
     "name": "stdout",
     "output_type": "stream",
     "text": [
      "Montu Time Object:\n",
      "--------------------------\n",
      "General:\n",
      "    Calendar: proleptic\n",
      "    Is bce: True\n",
      "    Components UTC: [-1, 4713, 11, 24, 12, 0, 41, 808000]\n",
      "Uniform scales:\n",
      "    Delta-t = TT - UTC = 136514.47679999997\n",
      "    Terrestrial time:\n",
      "        tt: -211813351443.7152\n",
      "        jtd: 1.5805125553160906\n",
      "    UTC time:\n",
      "        et: -211813487958.19202\n",
      "        jed: 0.00048388864942428\n",
      "Strings:\n",
      "    Date in native format: -4713-11-24 12:00:41.808000\n",
      "    Date in SPICE format: 4714 B.C. 11-24 12:00:41.808000\n",
      "    Date in mixed calendar: 0001-01-01 12:00:42\n",
      "Objects:\n",
      "    Date in datetime64 format: -4713-11-24T12:00:41.808000\n",
      "    Date in datetime format proleptic: 4713-11-24 12:00:41.808000\n",
      "    Date in datetime julian format proleptic: 0001-11-24 12:00:41.808000\n",
      "    Date in datetime format mixed: 0001-01-01 12:00:42\n",
      "    Date in PyPlanet Epoch: 0.00048388864942428\n",
      "    Date in PyEphem Epoch: -4713/1/1 12:00:42\n",
      "    Date in AstroPy Time: 1.5805125553160906\n",
      "Astronomical properties at Epoch:\n",
      "    True obliquity of ecliptic: 24:09:7.175\n",
      "    True nutation longitude: 00:00:1.430\n",
      "    Greenwhich Meridian Sidereal Time: 16:14:4.451\n",
      "Hash: 3944403690414064134\n",
      "\n"
     ]
    }
   ],
   "source": [
    "mtime = MonTime('bce4714-11-24 12:00:00',scale='utc',calendar='proleptic')\n",
    "print(mtime)"
   ]
  },
  {
   "cell_type": "code",
   "execution_count": 506,
   "metadata": {},
   "outputs": [
    {
     "data": {
      "text/plain": [
       "datetime.datetime(1, 1, 1, 0, 0)"
      ]
     },
     "execution_count": 506,
     "metadata": {},
     "output_type": "execute_result"
    }
   ],
   "source": [
    "datetime(1,1,1)"
   ]
  },
  {
   "cell_type": "code",
   "execution_count": 538,
   "metadata": {},
   "outputs": [
    {
     "name": "stdout",
     "output_type": "stream",
     "text": [
      "Montu Time Object:\n",
      "--------------------------\n",
      "General:\n",
      "    Calendar: proleptic\n",
      "    Is bce: True\n",
      "    Components UTC: [-1, 2500, 1, 1, 12, 0, 0, 0]\n",
      "Uniform scales:\n",
      "    Delta-t = TT - UTC = 59699.68000000001\n",
      "    Terrestrial time:\n",
      "        tt: -142006202700.32\n",
      "        jtd: 807954.6909685184\n",
      "    UTC time:\n",
      "        et: -142006262400.0\n",
      "        jed: 807953.9999999999\n",
      "Strings:\n",
      "    Date in native format: -2500-01-01 12:00:00.0\n",
      "    Date in SPICE format: 2501 B.C. 01-01 12:00:00.000000\n",
      "    Date in mixed calendar (jul.year): 2214-01-01 12:00:00.000000\n",
      "    Date in mixed calendar: -2500-01-22 12:00:00\n",
      "Objects:\n",
      "    Date in datetime64 format: -2500-01-01T12:00:00.000\n",
      "    Date in datetime format proleptic: 2500-01-01 12:00:00\n",
      "    Date in datetime format proleptic (julian year): 2214-01-01 12:00:00\n",
      "    Date in datetime format mixed: 2500-01-22 12:00:00\n",
      "    Date in PyPlanet Epoch: 807953.9999999999\n",
      "    Date in PyEphem Epoch: -2501/1/22 12:00:00\n",
      "    Date in AstroPy Time: 807954.6909685184\n",
      "Astronomical properties at Epoch:\n",
      "    True obliquity of ecliptic: 23:58:33.587\n",
      "    True nutation longitude: 00:00:10.214\n",
      "    Greenwhich Meridian Sidereal Time: 18:40:25.323\n",
      "Hash: 6859940102146886086\n",
      "\n"
     ]
    }
   ],
   "source": [
    "mtime = MonTime('-2500-01-01 12:00:00.00',scale='utc')\n",
    "print(mtime)"
   ]
  },
  {
   "cell_type": "markdown",
   "metadata": {},
   "source": [
    "## Distances and magnitudes"
   ]
  },
  {
   "cell_type": "code",
   "execution_count": 112,
   "metadata": {},
   "outputs": [
    {
     "name": "stdout",
     "output_type": "stream",
     "text": [
      "Computing position of body 'mars' at epoch: jtd = 1173197.4080055554 \n",
      "Updating orientation of site (old time 2000-01-01 11:58:56.126200, new time 1501 B.C. 01-01 12:00:00.000000)\n",
      "We need distances and magnitudes\n",
      "Method 'Horizons':\n",
      "\tPosition Epoch:  -1500-01-01 12:00:00.0 1173196.9999999998\n",
      "\tCoordinates @ J2000: \n",
      "\t\tEquatorial: 02:09:6.062 13:14:18.024\n",
      "\t\tEcliptic: 34:36:39.045 00:11:29.358\n",
      "\tCoordinates @ Epoch : \n",
      "\t\tEquatorial: 23:09:0.199 -5:37:56.352\n",
      "\t\tEcliptic: 346:04:51.896 00:03:2.511\n",
      "\tObserving conditions: \n",
      "\t\tDistance to site [au]:  1.7233433942796\n",
      "\t\tDistance to sun [au]:  1.5570528373\n",
      "\t\tSolar elongation [deg]:  63:26:27.240\n",
      "\t\tPhase angle [deg]:  34:40:41.880\n",
      "\t\tMagnitude:  0.9\n",
      "\tOther properties: \n",
      "\t\tLocal true sidereal time:  20:54:22.784\n",
      "\t\tHour angle @ Epoch:  21:45:22.597\n",
      "\t\tLocal coordinates @ Epoch:  127:43:13.948 45:47:35.642\n",
      "Method 'VSOP87':\n",
      "\tPosition Epoch:  -1500-01-01 12:00:00.0 1173196.9999999998\n",
      "\tCoordinates @ J2000: \n",
      "\t\tEquatorial: 02:09:4.244 13:14:14.481\n",
      "\t\tEcliptic: 34:36:12.855 00:11:34.950\n",
      "\tCoordinates @ Epoch : \n",
      "\t\tEquatorial: 23:09:1.169 -5:37:51.627\n",
      "\t\tEcliptic: 346:05:7.076 00:03:3.855\n",
      "\tObserving conditions: \n",
      "\t\tDistance to site [au]:  1.7233058214187622\n",
      "\t\tDistance to sun [au]:  1.5570685863494873\n",
      "\t\tSolar elongation [deg]:  63:26:4.975\n",
      "\t\tPhase angle [deg]:  34:41:1.837\n",
      "\t\tMagnitude:  1.18\n",
      "\tOther properties: \n",
      "\t\tLocal true sidereal time:  20:54:22.784\n",
      "\t\tHour angle @ Epoch:  21:45:21.615\n",
      "\t\tLocal coordinates @ Epoch:  127:42:54.550 45:47:28.247\n",
      "Method 'SPICE':\n",
      "\tPosition Epoch:  -1500-01-01 12:00:00.0 1173196.9999999998\n",
      "\tCoordinates @ J2000: \n",
      "\t\tEquatorial: 02:09:7.192 13:14:28.281\n",
      "\t\tEcliptic: 34:36:58.030 00:11:33.470\n",
      "\tCoordinates @ Epoch : \n",
      "\t\tEquatorial: 23:09:3.325 -5:37:37.745\n",
      "\t\tEcliptic: 346:05:42.115 00:03:3.797\n",
      "\tObserving conditions: \n",
      "\t\tDistance to site [au]:  1.7233698567503328\n",
      "\t\tDistance to sun [au]:  1.557070283284482\n",
      "\t\tSolar elongation [deg]:  63:26:4.975\n",
      "\t\tPhase angle [deg]:  34:41:5.403\n",
      "\t\tMagnitude:  0.9\n",
      "\tOther properties: \n",
      "\t\tLocal true sidereal time:  20:54:22.784\n",
      "\t\tHour angle @ Epoch:  21:45:19.460\n",
      "\t\tLocal coordinates @ Epoch:  127:42:8.382 45:47:14.423\n"
     ]
    }
   ],
   "source": [
    "from montu import *\n",
    "earth = PlanetaryBody('Earth')\n",
    "tebas = ObservingSite(planet=earth,lon=33,lat=24,height=0)\n",
    "mtime = MonTime('bce1501-01-01 12:00:00')\n",
    "mars = PlanetaryBody('Mars')\n",
    "mars.calculate_sky_position(mtime,tebas,method='all',store=1)"
   ]
  },
  {
   "cell_type": "code",
   "execution_count": 114,
   "metadata": {},
   "outputs": [
    {
     "data": {
      "text/plain": [
       "Index(['datetime64', 'tt', 'jtd', 'jed', 'RAJ2000', 'DecJ2000', 'RAEpoch',\n",
       "       'DecEpoch', 'LonJ2000', 'LatJ2000', 'LonEpoch', 'LatEpoch', 'tsa', 'HA',\n",
       "       'az', 'el', 'site_distance', 'sun_distance', 'elongation', 'phase',\n",
       "       'mag', 'RAJ2000_Horizons', 'DecJ2000_Horizons', 'RAEpoch_Horizons',\n",
       "       'DecEpoch_Horizons', 'LonJ2000_Horizons', 'LatJ2000_Horizons',\n",
       "       'LonEpoch_Horizons', 'LatEpoch_Horizons', 'tsa_Horizons', 'HA_Horizons',\n",
       "       'az_Horizons', 'el_Horizons', 'site_distance_Horizons',\n",
       "       'sun_distance_Horizons', 'elongation_Horizons', 'phase_Horizons',\n",
       "       'mag_Horizons', 'RAJ2000_VSOP87', 'DecJ2000_VSOP87', 'RAEpoch_VSOP87',\n",
       "       'DecEpoch_VSOP87', 'LonJ2000_VSOP87', 'LatJ2000_VSOP87',\n",
       "       'LonEpoch_VSOP87', 'LatEpoch_VSOP87', 'tsa_VSOP87', 'HA_VSOP87',\n",
       "       'az_VSOP87', 'el_VSOP87', 'site_distance_VSOP87', 'sun_distance_VSOP87',\n",
       "       'elongation_VSOP87', 'phase_VSOP87', 'mag_VSOP87', 'RAJ2000_SPICE',\n",
       "       'DecJ2000_SPICE', 'RAEpoch_SPICE', 'DecEpoch_SPICE', 'LonJ2000_SPICE',\n",
       "       'LatJ2000_SPICE', 'LonEpoch_SPICE', 'LatEpoch_SPICE', 'tsa_SPICE',\n",
       "       'HA_SPICE', 'az_SPICE', 'el_SPICE', 'site_distance_SPICE',\n",
       "       'sun_distance_SPICE', 'elongation_SPICE', 'phase_SPICE', 'mag_SPICE'],\n",
       "      dtype='object')"
      ]
     },
     "execution_count": 114,
     "metadata": {},
     "output_type": "execute_result"
    }
   ],
   "source": [
    "mars.df.columns"
   ]
  },
  {
   "cell_type": "code",
   "execution_count": 102,
   "metadata": {},
   "outputs": [
    {
     "ename": "TypeError",
     "evalue": "magnitude() missing 1 required positional argument: 'phase_angle'",
     "output_type": "error",
     "traceback": [
      "\u001b[0;31m---------------------------------------------------------------------------\u001b[0m",
      "\u001b[0;31mTypeError\u001b[0m                                 Traceback (most recent call last)",
      "\u001b[1;32m/Users/jorgezuluagacallejas/Dropbox/MiInvestigacion/EgyptianAstronomy/MontuPython/dev/test-planet.ipynb Celda 32\u001b[0m line \u001b[0;36m<module>\u001b[0;34m\u001b[0m\n\u001b[0;32m----> <a href='vscode-notebook-cell:/Users/jorgezuluagacallejas/Dropbox/MiInvestigacion/EgyptianAstronomy/MontuPython/dev/test-planet.ipynb#Y116sZmlsZQ%3D%3D?line=0'>1</a>\u001b[0m mars\u001b[39m.\u001b[39;49mpyplanet\u001b[39m.\u001b[39;49mmagnitude(mars\u001b[39m.\u001b[39;49msundistance,\n\u001b[1;32m      <a href='vscode-notebook-cell:/Users/jorgezuluagacallejas/Dropbox/MiInvestigacion/EgyptianAstronomy/MontuPython/dev/test-planet.ipynb#Y116sZmlsZQ%3D%3D?line=1'>2</a>\u001b[0m                         mars\u001b[39m.\u001b[39;49mdistance,\n\u001b[1;32m      <a href='vscode-notebook-cell:/Users/jorgezuluagacallejas/Dropbox/MiInvestigacion/EgyptianAstronomy/MontuPython/dev/test-planet.ipynb#Y116sZmlsZQ%3D%3D?line=2'>3</a>\u001b[0m                         pyplanets_Angle(mars\u001b[39m.\u001b[39;49mphase))\n",
      "\u001b[0;31mTypeError\u001b[0m: magnitude() missing 1 required positional argument: 'phase_angle'"
     ]
    }
   ],
   "source": [
    "mars.pyplanet.magnitude(mars.sundistance,\n",
    "                        mars.distance,\n",
    "                        pyplanets_Angle(mars.phase))"
   ]
  },
  {
   "cell_type": "code",
   "execution_count": 103,
   "metadata": {},
   "outputs": [],
   "source": [
    "from pymeeus.Mars import Mars"
   ]
  },
  {
   "cell_type": "code",
   "execution_count": 107,
   "metadata": {},
   "outputs": [
    {
     "data": {
      "text/plain": [
       "-1.1"
      ]
     },
     "execution_count": 107,
     "metadata": {},
     "output_type": "execute_result"
    }
   ],
   "source": [
    "Mars.magnitude(mars.sundistance,mars.distance,mars.phase*DEG)"
   ]
  },
  {
   "cell_type": "code",
   "execution_count": 21,
   "metadata": {},
   "outputs": [
    {
     "data": {
      "text/plain": [
       "Index(['targetname', 'datetime_str', 'datetime_jd', 'solar_presence', 'flags',\n",
       "       'RA', 'DEC', 'RA_app', 'DEC_app', 'RA_rate', 'DEC_rate', 'AZ', 'EL',\n",
       "       'AZ_rate', 'EL_rate', 'sat_X', 'sat_Y', 'sat_PANG', 'siderealtime',\n",
       "       'airmass', 'magextinct', 'V', 'surfbright', 'illumination',\n",
       "       'illum_defect', 'sat_sep', 'sat_vis', 'ang_width', 'PDObsLon',\n",
       "       'PDObsLat', 'PDSunLon', 'PDSunLat', 'SubSol_ang', 'SubSol_dist',\n",
       "       'NPole_ang', 'NPole_dist', 'EclLon', 'EclLat', 'r', 'r_rate', 'delta',\n",
       "       'delta_rate', 'lighttime', 'vel_sun', 'vel_obs', 'elong', 'elongFlag',\n",
       "       'alpha', 'lunar_elong', 'lunar_illum', 'sat_alpha', 'sunTargetPA',\n",
       "       'velocityPA', 'OrbPlaneAng', 'constellation', 'TDB-UT', 'ObsEclLon',\n",
       "       'ObsEclLat', 'NPole_RA', 'NPole_DEC', 'GlxLon', 'GlxLat', 'solartime',\n",
       "       'earth_lighttime', 'RA_3sigma', 'DEC_3sigma', 'SMAA_3sigma',\n",
       "       'SMIA_3sigma', 'Theta_3sigma', 'Area_3sigma', 'RSS_3sigma', 'r_3sigma',\n",
       "       'r_rate_3sigma', 'SBand_3sigma', 'XBand_3sigma', 'DoppDelay_3sigma',\n",
       "       'true_anom', 'hour_angle', 'alpha_true', 'PABLon', 'PABLat'],\n",
       "      dtype='object')"
      ]
     },
     "execution_count": 21,
     "metadata": {},
     "output_type": "execute_result"
    }
   ],
   "source": [
    "mars.ephemerides.columns"
   ]
  },
  {
   "cell_type": "code",
   "execution_count": 91,
   "metadata": {},
   "outputs": [
    {
     "data": {
      "text/plain": [
       "0    <NA>\n",
       "Name: illumination, dtype: Int64"
      ]
     },
     "execution_count": 91,
     "metadata": {},
     "output_type": "execute_result"
    }
   ],
   "source": [
    "mars.ephemerides.illumination"
   ]
  },
  {
   "cell_type": "code",
   "execution_count": 36,
   "metadata": {},
   "outputs": [],
   "source": [
    "import astropy.constants as astropy_const"
   ]
  },
  {
   "cell_type": "code",
   "execution_count": 40,
   "metadata": {},
   "outputs": [
    {
     "data": {
      "text/latex": [
       "$299792458 \\; \\mathrm{\\frac{m}{s}}$"
      ],
      "text/plain": [
       "<<class 'astropy.constants.codata2018.CODATA2018'> name='Speed of light in vacuum' value=299792458.0 uncertainty=0.0 unit='m / s' reference='CODATA 2018'>"
      ]
     },
     "execution_count": 40,
     "metadata": {},
     "output_type": "execute_result"
    }
   ],
   "source": [
    "astropy_const.c"
   ]
  },
  {
   "cell_type": "code",
   "execution_count": 44,
   "metadata": {},
   "outputs": [
    {
     "data": {
      "text/plain": [
       "0    0.06129319996668109\n",
       "Name: earth_lighttime, dtype: float64"
      ]
     },
     "execution_count": 44,
     "metadata": {},
     "output_type": "execute_result"
    }
   ],
   "source": [
    "mars.ephemerides.earth_lighttime*DAY*astropy_const.c.value/1e3/AU"
   ]
  },
  {
   "cell_type": "code",
   "execution_count": 57,
   "metadata": {},
   "outputs": [
    {
     "data": {
      "text/plain": [
       "0    13.37579999999999991\n",
       "Name: alpha, dtype: float64"
      ]
     },
     "execution_count": 57,
     "metadata": {},
     "output_type": "execute_result"
    }
   ],
   "source": [
    "mars.ephemerides.alpha"
   ]
  },
  {
   "cell_type": "code",
   "execution_count": 58,
   "metadata": {},
   "outputs": [
    {
     "data": {
      "text/plain": [
       "0    13.37079999999999913\n",
       "Name: alpha_true, dtype: float64"
      ]
     },
     "execution_count": 58,
     "metadata": {},
     "output_type": "execute_result"
    }
   ],
   "source": [
    "mars.ephemerides.alpha_true"
   ]
  },
  {
   "cell_type": "code",
   "execution_count": 62,
   "metadata": {},
   "outputs": [
    {
     "data": {
      "text/plain": [
       "0    157.79750000000001364\n",
       "Name: elong, dtype: float64"
      ]
     },
     "execution_count": 62,
     "metadata": {},
     "output_type": "execute_result"
    }
   ],
   "source": [
    "mars.ephemerides.elong"
   ]
  },
  {
   "cell_type": "code",
   "execution_count": 61,
   "metadata": {},
   "outputs": [
    {
     "data": {
      "text/plain": [
       "Index(['targetname', 'datetime_str', 'datetime_jd', 'solar_presence', 'flags',\n",
       "       'RA', 'DEC', 'RA_app', 'DEC_app', 'RA_rate', 'DEC_rate', 'AZ', 'EL',\n",
       "       'AZ_rate', 'EL_rate', 'sat_X', 'sat_Y', 'sat_PANG', 'siderealtime',\n",
       "       'airmass', 'magextinct', 'V', 'surfbright', 'illumination',\n",
       "       'illum_defect', 'sat_sep', 'sat_vis', 'ang_width', 'PDObsLon',\n",
       "       'PDObsLat', 'PDSunLon', 'PDSunLat', 'SubSol_ang', 'SubSol_dist',\n",
       "       'NPole_ang', 'NPole_dist', 'EclLon', 'EclLat', 'r', 'r_rate', 'delta',\n",
       "       'delta_rate', 'lighttime', 'vel_sun', 'vel_obs', 'elong', 'elongFlag',\n",
       "       'alpha', 'lunar_elong', 'lunar_illum', 'sat_alpha', 'sunTargetPA',\n",
       "       'velocityPA', 'OrbPlaneAng', 'constellation', 'TDB-UT', 'ObsEclLon',\n",
       "       'ObsEclLat', 'NPole_RA', 'NPole_DEC', 'GlxLon', 'GlxLat', 'solartime',\n",
       "       'earth_lighttime', 'RA_3sigma', 'DEC_3sigma', 'SMAA_3sigma',\n",
       "       'SMIA_3sigma', 'Theta_3sigma', 'Area_3sigma', 'RSS_3sigma', 'r_3sigma',\n",
       "       'r_rate_3sigma', 'SBand_3sigma', 'XBand_3sigma', 'DoppDelay_3sigma',\n",
       "       'true_anom', 'hour_angle', 'alpha_true', 'PABLon', 'PABLat'],\n",
       "      dtype='object')"
      ]
     },
     "execution_count": 61,
     "metadata": {},
     "output_type": "execute_result"
    }
   ],
   "source": [
    "mars.ephemerides.columns"
   ]
  },
  {
   "cell_type": "code",
   "execution_count": 92,
   "metadata": {},
   "outputs": [
    {
     "data": {
      "text/plain": [
       "-1.13"
      ]
     },
     "execution_count": 92,
     "metadata": {},
     "output_type": "execute_result"
    }
   ],
   "source": [
    "mars.pyephem_planet.mag"
   ]
  },
  {
   "cell_type": "code",
   "execution_count": 27,
   "metadata": {},
   "outputs": [],
   "source": [
    "mars.pyephem_planet.compute(mars.pyephem_site)\n"
   ]
  },
  {
   "cell_type": "code",
   "execution_count": 28,
   "metadata": {},
   "outputs": [
    {
     "data": {
      "text/plain": [
       "0.6604883074760437"
      ]
     },
     "execution_count": 28,
     "metadata": {},
     "output_type": "execute_result"
    }
   ],
   "source": [
    "mars.pyephem_planet.earth_distance"
   ]
  },
  {
   "cell_type": "code",
   "execution_count": 84,
   "metadata": {},
   "outputs": [
    {
     "data": {
      "text/plain": [
       "-1.13"
      ]
     },
     "execution_count": 84,
     "metadata": {},
     "output_type": "execute_result"
    }
   ],
   "source": [
    "mars.pyephem_planet.mag"
   ]
  },
  {
   "cell_type": "code",
   "execution_count": null,
   "metadata": {},
   "outputs": [],
   "source": []
  },
  {
   "cell_type": "code",
   "execution_count": 66,
   "metadata": {},
   "outputs": [
    {
     "data": {
      "text/plain": [
       "-157.818359375"
      ]
     },
     "execution_count": 66,
     "metadata": {},
     "output_type": "execute_result"
    }
   ],
   "source": [
    "mars.pyephem_planet.elong*RAD"
   ]
  },
  {
   "cell_type": "code",
   "execution_count": 65,
   "metadata": {},
   "outputs": [
    {
     "name": "stdout",
     "output_type": "stream",
     "text": [
      "\u001b[0;31mType:\u001b[0m        Mars\n",
      "\u001b[0;31mString form:\u001b[0m <Mars \"Mars\" at 0x7f842b971040>\n",
      "\u001b[0;31mFile:\u001b[0m        ~/opt/anaconda3/lib/python3.9/site-packages/ephem/__init__.py\n",
      "\u001b[0;31mDocstring:\u001b[0m   Create a Body instance representing Mars\n"
     ]
    }
   ],
   "source": [
    "mars.pyephem_planet?"
   ]
  },
  {
   "cell_type": "code",
   "execution_count": 51,
   "metadata": {},
   "outputs": [
    {
     "data": {
      "text/plain": [
       "1.9418296813964844"
      ]
     },
     "execution_count": 51,
     "metadata": {},
     "output_type": "execute_result"
    }
   ],
   "source": [
    "mars.pyephem_planet.hlong"
   ]
  },
  {
   "cell_type": "code",
   "execution_count": 56,
   "metadata": {},
   "outputs": [
    {
     "data": {
      "text/plain": [
       "24.111366696769647"
      ]
     },
     "execution_count": 56,
     "metadata": {},
     "output_type": "execute_result"
    }
   ],
   "source": [
    "mars.pyephem_planet.dec*RAD"
   ]
  },
  {
   "cell_type": "code",
   "execution_count": 73,
   "metadata": {},
   "outputs": [
    {
     "data": {
      "text/plain": [
       "98.64616394042969"
      ]
     },
     "execution_count": 73,
     "metadata": {},
     "output_type": "execute_result"
    }
   ],
   "source": [
    "mars.pyephem_planet.phase"
   ]
  },
  {
   "cell_type": "code",
   "execution_count": 95,
   "metadata": {},
   "outputs": [
    {
     "data": {
      "text/plain": [
       "1.626107096672058"
      ]
     },
     "execution_count": 95,
     "metadata": {},
     "output_type": "execute_result"
    }
   ],
   "source": [
    "mars.pyephem_planet.sun_distance"
   ]
  },
  {
   "cell_type": "code",
   "execution_count": 96,
   "metadata": {},
   "outputs": [
    {
     "data": {
      "text/plain": [
       "0    1.62612486672299994\n",
       "Name: r, dtype: float64"
      ]
     },
     "execution_count": 96,
     "metadata": {},
     "output_type": "execute_result"
    }
   ],
   "source": [
    "mars.ephemerides.r"
   ]
  },
  {
   "cell_type": "code",
   "execution_count": 93,
   "metadata": {},
   "outputs": [
    {
     "name": "stdout",
     "output_type": "stream",
     "text": [
      "\u001b[0;31mType:\u001b[0m        getset_descriptor\n",
      "\u001b[0;31mString form:\u001b[0m <attribute 'mag' of 'ephem.Body' objects>\n",
      "\u001b[0;31mDocstring:\u001b[0m   magnitude\n"
     ]
    }
   ],
   "source": [
    "pyephem.Planet.mag?21\n",
    "\n",
    "\n"
   ]
  },
  {
   "cell_type": "code",
   "execution_count": 94,
   "metadata": {},
   "outputs": [
    {
     "name": "stdout",
     "output_type": "stream",
     "text": [
      "\u001b[0;31mSignature:\u001b[0m \u001b[0mpyplanets_Mars\u001b[0m\u001b[0;34m.\u001b[0m\u001b[0mmagnitude\u001b[0m\u001b[0;34m(\u001b[0m\u001b[0mself\u001b[0m\u001b[0;34m,\u001b[0m \u001b[0msun_dist\u001b[0m\u001b[0;34m,\u001b[0m \u001b[0mearth_dist\u001b[0m\u001b[0;34m,\u001b[0m \u001b[0mphase_angle\u001b[0m\u001b[0;34m)\u001b[0m \u001b[0;34m->\u001b[0m \u001b[0mfloat\u001b[0m\u001b[0;34m\u001b[0m\u001b[0;34m\u001b[0m\u001b[0m\n",
      "\u001b[0;31mDocstring:\u001b[0m\n",
      "This function computes the approximate magnitude of Mars.\n",
      "\n",
      ":param sun_dist: Distance from Mars to the Sun, in Astronomical Units\n",
      ":type sun_dist: float\n",
      ":param earth_dist: Distance from Mars to Earth, in Astronomical Units\n",
      ":type earth_dist: float\n",
      ":param phase_angle: Mars phase angle\n",
      ":type phase_angle: float, :py:class:`Angle`\n",
      "\n",
      ":returns: Mars' magnitude\n",
      ":rtype: float\n",
      "\u001b[0;31mFile:\u001b[0m      ~/opt/anaconda3/lib/python3.9/site-packages/pyplanets/planets/mars.py\n",
      "\u001b[0;31mType:\u001b[0m      function\n"
     ]
    }
   ],
   "source": [
    "pyplanets_Mars.magnitude?"
   ]
  },
  {
   "cell_type": "code",
   "execution_count": 97,
   "metadata": {},
   "outputs": [
    {
     "data": {
      "text/plain": [
       "-1.13"
      ]
     },
     "execution_count": 97,
     "metadata": {},
     "output_type": "execute_result"
    }
   ],
   "source": [
    "mars.pyephem_planet.mag"
   ]
  },
  {
   "cell_type": "markdown",
   "metadata": {},
   "source": [
    "## Algorithm to calculate station in longitude for mars"
   ]
  },
  {
   "cell_type": "code",
   "execution_count": null,
   "metadata": {},
   "outputs": [
    {
     "name": "stdout",
     "output_type": "stream",
     "text": [
      "-1999.9535519125684 990473.0365413779 990551.5847383336\n",
      "-1997.9547929704718 991237.9500486348 991318.5404239997\n",
      "-1995.9535488216961 992003.6864322815 992083.8105434901\n",
      "-1993.9547898727549 992775.5512183867 992852.2389160669\n",
      "-1991.9535457340617 993563.4193280826 993631.2026313848\n",
      "-1989.954786778285 994372.682377654 994433.6022621093\n",
      "-1987.9535426496661 995164.5984547004 995235.2379030539\n",
      "-1985.9547836870624 995937.6887916481 996014.7479095068\n",
      "-1983.9535395685084 996703.6491770019 996783.6262110925\n",
      "-1981.9547805990867 997468.3761049401 997548.9350165927\n",
      "-1979.953536490589 997468.3761049401 997548.9350165927\n"
     ]
    }
   ],
   "source": [
    "marstices = pd.DataFrame()\n",
    "i = 0\n",
    "\n",
    "# Range of years\n",
    "initial_year = -2000\n",
    "final_year = -70\n",
    "\n",
    "mars.reset_store()\n",
    "mtime = MonTime(f'{initial_year}-01-01 00:00:00.00',scale='utc',calendar='proleptic')\n",
    "i=0\n",
    "while True:\n",
    "    epoch1 = Mars(mtime.obj_pyplanet).station_longitude_1()\n",
    "    epoch2 = Mars(mtime.obj_pyplanet).station_longitude_2()\n",
    "    print(mtime.obj_pyplanet.year(),epoch1,epoch2)\n",
    "    mtime1 = MonTime(float(epoch1),format='jd',calendar='mixed')\n",
    "    mtime2 = MonTime(float(epoch2),format='jd',calendar='mixed')\n",
    "\n",
    "    mtime = mtime + 2*YEAR\n",
    "    i+=1\n",
    "    if i>10:break"
   ]
  },
  {
   "cell_type": "code",
   "execution_count": null,
   "metadata": {},
   "outputs": [
    {
     "name": "stdout",
     "output_type": "stream",
     "text": [
      "-1999.9535519125684 990473.0365413779 990551.5847383336\n",
      "-1997.9547929704718 991237.9500486348 991318.5404239997\n",
      "-1995.9535488216961 992003.6864322815 992083.8105434901\n",
      "-1993.9547898727549 992003.6864322815 992083.8105434901\n",
      "-1991.9535457340617 993563.4193280826 993631.2026313848\n",
      "-1989.954786778285 993563.4193280826 993631.2026313848\n",
      "-1987.9535426496661 995164.5984547004 995235.2379030539\n",
      "-1985.9547836870624 995164.5984547004 995235.2379030539\n",
      "-1983.9535395685084 996703.6491770019 996783.6262110925\n",
      "-1981.9547805990867 996703.6491770019 996783.6262110925\n",
      "-1979.953536490589 997468.3761049401 997548.9350165927\n"
     ]
    }
   ],
   "source": [
    "marstices = pd.DataFrame()\n",
    "i = 0\n",
    "\n",
    "# Range of years\n",
    "initial_year = -2000\n",
    "final_year = -70\n",
    "\n",
    "mars.reset_store()\n",
    "mtime = MonTime(f'{initial_year}-01-01 00:00:00.00',scale='utc',calendar='proleptic')\n",
    "i=0\n",
    "while True:\n",
    "    epoch1 = Extra.station_longitude_1(mtime.year)\n",
    "    epoch2 = Extra.station_longitude_2(mtime.year)\n",
    "    print(mtime.obj_pyplanet.year(),epoch1,epoch2)\n",
    "    mtime1 = MonTime(float(epoch1),format='jd',calendar='mixed')\n",
    "    mtime2 = MonTime(float(epoch2),format='jd',calendar='mixed')\n",
    "\n",
    "    mtime = mtime + 2*YEAR\n",
    "    i+=1\n",
    "    if i>10:break"
   ]
  },
  {
   "cell_type": "code",
   "execution_count": null,
   "metadata": {},
   "outputs": [
    {
     "data": {
      "text/plain": [
       "998610.0062072593"
      ]
     },
     "metadata": {},
     "output_type": "display_data"
    }
   ],
   "source": [
    "mtime.jed"
   ]
  },
  {
   "cell_type": "code",
   "execution_count": null,
   "metadata": {},
   "outputs": [
    {
     "data": {
      "text/plain": [
       "(Epoch(997468.3761049401),\n",
       " Epoch(997548.9350165927),\n",
       " '-1982-11-15 21:01:35.466800',\n",
       " '-1981-02-04 10:26:25.433600')"
      ]
     },
     "metadata": {},
     "output_type": "display_data"
    }
   ],
   "source": [
    "epoch1,epoch2,mtime1.datestr,mtime2.datestr"
   ]
  },
  {
   "cell_type": "code",
   "execution_count": null,
   "metadata": {},
   "outputs": [
    {
     "data": {
      "text/plain": [
       "(997468.3761049401, 997548.9350165927)"
      ]
     },
     "metadata": {},
     "output_type": "display_data"
    }
   ],
   "source": [
    "station_longitude_1(-1979.953536490589),station_longitude_2(-1979.953536490589)"
   ]
  },
  {
   "cell_type": "code",
   "execution_count": null,
   "metadata": {},
   "outputs": [
    {
     "name": "stdout",
     "output_type": "stream",
     "text": [
      "-3000\n"
     ]
    },
    {
     "data": {
      "text/plain": [
       "625464.8061463411"
      ]
     },
     "metadata": {},
     "output_type": "display_data"
    }
   ],
   "source": [
    "jde"
   ]
  },
  {
   "cell_type": "markdown",
   "metadata": {},
   "source": [
    "## Montu Algorithm"
   ]
  },
  {
   "cell_type": "markdown",
   "metadata": {},
   "source": [
    "We will develop an algorithm to find station in longitude.\n",
    "\n",
    "First define a routine to show the advance in longitude for the planet:"
   ]
  },
  {
   "cell_type": "code",
   "execution_count": null,
   "metadata": {},
   "outputs": [],
   "source": [
    "def plot_station(planet,jde,dt=1,npoints=50):\n",
    "\n",
    "    mtime_initial = MonTime(jde,format='jd')\n",
    "    dlondts = []\n",
    "    lons = []\n",
    "    datetimes = []\n",
    "    for t in np.linspace(-dt*365,dt*365,npoints):\n",
    "        mtime = mtime_initial + t*DAY\n",
    "        planet.calculate_sky_position(mtime,tebas,verbose=0,store=0)\n",
    "        dlondts += [mars.ecliptic_longitude_advance(mtime,tebas,method='SPICE',dt=1*DAY)]\n",
    "        lons += [planet.LonEpoch] \n",
    "        datetimes += [mtime.jed]\n",
    "\n",
    "    fig,axs = plt.subplots(2,1,sharex=True)\n",
    "\n",
    "    ax = axs[0]\n",
    "    ax.plot(datetimes,dlondts)\n",
    "    ax.axvline(jde,color='r')\n",
    "    ax.grid()\n",
    "\n",
    "    ax = axs[1]\n",
    "    ax.plot(datetimes,lons)\n",
    "    ax.axvline(jde,color='r')\n",
    "    ax.grid()"
   ]
  },
  {
   "cell_type": "code",
   "execution_count": null,
   "metadata": {},
   "outputs": [
    {
     "data": {
      "image/png": "[encoded data removed]",
      "text/plain": [
       "<Figure size 640x480 with 2 Axes>"
      ]
     },
     "metadata": {},
     "output_type": "display_data"
    }
   ],
   "source": [
    "from montu import *\n",
    "\n",
    "jde = station_longitude_1(-2500)\n",
    "mars = PlanetaryBody('Mars')\n",
    "\n",
    "plot_station(mars,jde)"
   ]
  },
  {
   "cell_type": "code",
   "execution_count": null,
   "metadata": {},
   "outputs": [
    {
     "data": {
      "text/plain": [
       "(990209.4999999999, 990551.5847383336)"
      ]
     },
     "metadata": {},
     "output_type": "display_data"
    },
    {
     "data": {
      "image/png": "[encoded data removed]",
      "text/plain": [
       "<Figure size 640x480 with 2 Axes>"
      ]
     },
     "metadata": {},
     "output_type": "display_data"
    }
   ],
   "source": [
    "mtime = MonTime('-2001-01-01 00:00:00.00')\n",
    "plot_station(mars,mtime.jed,dt=3)\n",
    "mtime.jed, station_longitude_2(mtime.year)"
   ]
  },
  {
   "cell_type": "code",
   "execution_count": null,
   "metadata": {},
   "outputs": [],
   "source": [
    "def ecliptic_longitude(t):\n",
    "    mars.calculate_sky_position(mtime+t*DAY,tebas,verbose=0,store=0)\n",
    "    return mars.LonEpoch"
   ]
  },
  {
   "cell_type": "code",
   "execution_count": null,
   "metadata": {},
   "outputs": [
    {
     "data": {
      "text/plain": [
       "-387.8175923002247"
      ]
     },
     "metadata": {},
     "output_type": "display_data"
    }
   ],
   "source": [
    "min=minimize_scalar(ecliptic_longitude)\n",
    "min.x"
   ]
  },
  {
   "cell_type": "code",
   "execution_count": null,
   "metadata": {},
   "outputs": [
    {
     "data": {
      "image/png": "[encoded data removed]",
      "text/plain": [
       "<Figure size 640x480 with 2 Axes>"
      ]
     },
     "metadata": {},
     "output_type": "display_data"
    }
   ],
   "source": [
    "plot_station(mars,(mtime+min.x*DAY).jed,npoints=100)"
   ]
  },
  {
   "cell_type": "code",
   "execution_count": null,
   "metadata": {},
   "outputs": [],
   "source": [
    "retrograde = lambda t:mars.ecliptic_longitude_advance(mtime+t*DAY,tebas,method='SPICE',dt=1*HOUR)"
   ]
  },
  {
   "cell_type": "code",
   "execution_count": null,
   "metadata": {},
   "outputs": [
    {
     "ename": "ValueError",
     "evalue": "year 53191 is out of range",
     "output_type": "error",
     "traceback": [
      "\u001b[0;31m---------------------------------------------------------------------------\u001b[0m\n",
      "\u001b[0;31mValueError\u001b[0m                                Traceback (most recent call last)\n",
      "File \u001b[0;32m~/Dropbox/MiInvestigacion/EgyptianAstronomy/MontuPython/montu/__init__.py:637\u001b[0m, in \u001b[0;36mMonTime.update_time\u001b[0;34m(self, time, format, scale)\u001b[0m\n",
      "\u001b[1;32m    636\u001b[0m \u001b[39mtry\u001b[39;00m:\n",
      "\u001b[0;32m--> 637\u001b[0m     \u001b[39mself\u001b[39m\u001b[39m.\u001b[39mobj_datetimemix \u001b[39m=\u001b[39m datetime(\u001b[39m*\u001b[39;49mcals)\n",
      "\u001b[1;32m    638\u001b[0m \u001b[39mexcept\u001b[39;00m \u001b[39mValueError\u001b[39;00m:\n",
      "\n",
      "\u001b[0;31mValueError\u001b[0m: year 53191 is out of range\n",
      "\n",
      "During handling of the above exception, another exception occurred:\n",
      "\n",
      "\u001b[0;31mValueError\u001b[0m                                Traceback (most recent call last)\n",
      "\u001b[1;32m/Users/jorgezuluagacallejas/Dropbox/MiInvestigacion/EgyptianAstronomy/MontuPython/dev/montunctions-reloaded.ipynb Celda 88\u001b[0m line \u001b[0;36m<module>\u001b[0;34m\u001b[0m\n",
      "\u001b[0;32m----> <a href='vscode-notebook-cell:/Users/jorgezuluagacallejas/Dropbox/MiInvestigacion/EgyptianAstronomy/MontuPython/dev/montunctions-reloaded.ipynb#Y415sZmlsZQ%3D%3D?line=0'>1</a>\u001b[0m newton(retrograde,\u001b[39m0\u001b[39;49m)\n",
      "\n",
      "File \u001b[0;32m~/opt/anaconda3/lib/python3.9/site-packages/scipy/optimize/zeros.py:355\u001b[0m, in \u001b[0;36mnewton\u001b[0;34m(func, x0, fprime, args, tol, maxiter, fprime2, x1, rtol, full_output, disp)\u001b[0m\n",
      "\u001b[1;32m    353\u001b[0m         p0, q0 \u001b[39m=\u001b[39m p1, q1\n",
      "\u001b[1;32m    354\u001b[0m         p1 \u001b[39m=\u001b[39m p\n",
      "\u001b[0;32m--> 355\u001b[0m         q1 \u001b[39m=\u001b[39m func(p1, \u001b[39m*\u001b[39;49margs)\n",
      "\u001b[1;32m    356\u001b[0m         funcalls \u001b[39m+\u001b[39m\u001b[39m=\u001b[39m \u001b[39m1\u001b[39m\n",
      "\u001b[1;32m    358\u001b[0m \u001b[39mif\u001b[39;00m disp:\n",
      "\n",
      "\u001b[1;32m/Users/jorgezuluagacallejas/Dropbox/MiInvestigacion/EgyptianAstronomy/MontuPython/dev/montunctions-reloaded.ipynb Celda 88\u001b[0m line \u001b[0;36m<lambda>\u001b[0;34m(t)\u001b[0m\n",
      "\u001b[0;32m----> <a href='vscode-notebook-cell:/Users/jorgezuluagacallejas/Dropbox/MiInvestigacion/EgyptianAstronomy/MontuPython/dev/montunctions-reloaded.ipynb#Y415sZmlsZQ%3D%3D?line=0'>1</a>\u001b[0m retrograde \u001b[39m=\u001b[39m \u001b[39mlambda\u001b[39;00m t:mars\u001b[39m.\u001b[39mecliptic_longitude_advance(mtime\u001b[39m+\u001b[39;49mt\u001b[39m*\u001b[39;49mDAY,tebas,method\u001b[39m=\u001b[39m\u001b[39m'\u001b[39m\u001b[39mSPICE\u001b[39m\u001b[39m'\u001b[39m,dt\u001b[39m=\u001b[39m\u001b[39m1\u001b[39m\u001b[39m*\u001b[39mHOUR)\n",
      "\n",
      "File \u001b[0;32m~/Dropbox/MiInvestigacion/EgyptianAstronomy/MontuPython/montu/__init__.py:710\u001b[0m, in \u001b[0;36mMonTime.__add__\u001b[0;34m(self, dtt)\u001b[0m\n",
      "\u001b[1;32m    708\u001b[0m new \u001b[39m=\u001b[39m copy\u001b[39m.\u001b[39mdeepcopy(\u001b[39mself\u001b[39m)\n",
      "\u001b[1;32m    709\u001b[0m new\u001b[39m.\u001b[39mtt \u001b[39m+\u001b[39m\u001b[39m=\u001b[39m dtt\n",
      "\u001b[0;32m--> 710\u001b[0m new\u001b[39m.\u001b[39;49mupdate_time()\n",
      "\u001b[1;32m    711\u001b[0m \u001b[39mreturn\u001b[39;00m new\n",
      "\n",
      "File \u001b[0;32m~/Dropbox/MiInvestigacion/EgyptianAstronomy/MontuPython/montu/__init__.py:640\u001b[0m, in \u001b[0;36mMonTime.update_time\u001b[0;34m(self, time, format, scale)\u001b[0m\n",
      "\u001b[1;32m    638\u001b[0m \u001b[39mexcept\u001b[39;00m \u001b[39mValueError\u001b[39;00m:\n",
      "\u001b[1;32m    639\u001b[0m     cals[\u001b[39m1\u001b[39m] \u001b[39m=\u001b[39m cals[\u001b[39m1\u001b[39m]\u001b[39m-\u001b[39m\u001b[39m1\u001b[39m\n",
      "\u001b[0;32m--> 640\u001b[0m     \u001b[39mself\u001b[39m\u001b[39m.\u001b[39mobj_datetimemix \u001b[39m=\u001b[39m datetime(\u001b[39m*\u001b[39;49mcals)\n",
      "\u001b[1;32m    641\u001b[0m \u001b[39mif\u001b[39;00m \u001b[39mself\u001b[39m\u001b[39m.\u001b[39mbce:\n",
      "\u001b[1;32m    642\u001b[0m     \u001b[39mself\u001b[39m\u001b[39m.\u001b[39mdatemixed \u001b[39m=\u001b[39m \u001b[39mself\u001b[39m\u001b[39m.\u001b[39mobj_datetimemix\u001b[39m.\u001b[39mstrftime(\u001b[39m'\u001b[39m\u001b[39m-\u001b[39m\u001b[39m%\u001b[39m\u001b[39mY-\u001b[39m\u001b[39m%\u001b[39m\u001b[39mm-\u001b[39m\u001b[39m%d\u001b[39;00m\u001b[39m \u001b[39m\u001b[39m%\u001b[39m\u001b[39mH:\u001b[39m\u001b[39m%\u001b[39m\u001b[39mM:\u001b[39m\u001b[39m%\u001b[39m\u001b[39mS\u001b[39m\u001b[39m'\u001b[39m)\n",
      "\n",
      "\u001b[0;31mValueError\u001b[0m: year 53191 is out of range"
     ]
    }
   ],
   "source": [
    "newton(retrograde,0)"
   ]
  },
  {
   "cell_type": "code",
   "execution_count": null,
   "metadata": {},
   "outputs": [
    {
     "ename": "ValueError",
     "evalue": "f(a) and f(b) must have different signs",
     "output_type": "error",
     "traceback": [
      "\u001b[0;31m---------------------------------------------------------------------------\u001b[0m\n",
      "\u001b[0;31mValueError\u001b[0m                                Traceback (most recent call last)\n",
      "\u001b[1;32m/Users/jorgezuluagacallejas/Dropbox/MiInvestigacion/EgyptianAstronomy/MontuPython/dev/montunctions-reloaded.ipynb Celda 88\u001b[0m line \u001b[0;36m<module>\u001b[0;34m\u001b[0m\n",
      "\u001b[0;32m----> <a href='vscode-notebook-cell:/Users/jorgezuluagacallejas/Dropbox/MiInvestigacion/EgyptianAstronomy/MontuPython/dev/montunctions-reloaded.ipynb#Y414sZmlsZQ%3D%3D?line=0'>1</a>\u001b[0m bisect(retrograde,\u001b[39m0\u001b[39;49m,\u001b[39m100\u001b[39;49m)\n",
      "\n",
      "File \u001b[0;32m~/opt/anaconda3/lib/python3.9/site-packages/scipy/optimize/zeros.py:549\u001b[0m, in \u001b[0;36mbisect\u001b[0;34m(f, a, b, args, xtol, rtol, maxiter, full_output, disp)\u001b[0m\n",
      "\u001b[1;32m    547\u001b[0m \u001b[39mif\u001b[39;00m rtol \u001b[39m<\u001b[39m _rtol:\n",
      "\u001b[1;32m    548\u001b[0m     \u001b[39mraise\u001b[39;00m \u001b[39mValueError\u001b[39;00m(\u001b[39m\"\u001b[39m\u001b[39mrtol too small (\u001b[39m\u001b[39m%g\u001b[39;00m\u001b[39m < \u001b[39m\u001b[39m%g\u001b[39;00m\u001b[39m)\u001b[39m\u001b[39m\"\u001b[39m \u001b[39m%\u001b[39m (rtol, _rtol))\n",
      "\u001b[0;32m--> 549\u001b[0m r \u001b[39m=\u001b[39m _zeros\u001b[39m.\u001b[39;49m_bisect(f, a, b, xtol, rtol, maxiter, args, full_output, disp)\n",
      "\u001b[1;32m    550\u001b[0m \u001b[39mreturn\u001b[39;00m results_c(full_output, r)\n",
      "\n",
      "\u001b[0;31mValueError\u001b[0m: f(a) and f(b) must have different signs"
     ]
    }
   ],
   "source": [
    "bisect(retrograde,0,100)"
   ]
  },
  {
   "cell_type": "code",
   "execution_count": null,
   "metadata": {},
   "outputs": [],
   "source": [
    "from scipy.optimize import newton,minimize_scalar,bisect"
   ]
  },
  {
   "cell_type": "code",
   "execution_count": null,
   "metadata": {},
   "outputs": [
    {
     "data": {
      "text/plain": [
       "     fun: -0.41806554236882226\n",
       " message: 'Solution found.'\n",
       "    nfev: 25\n",
       "  status: 0\n",
       " success: True\n",
       "       x: 700.363640665241"
      ]
     },
     "metadata": {},
     "output_type": "display_data"
    }
   ],
   "source": [
    "min = minimize_scalar(retrograde,bounds=(0,2000),method='Bounded')\n",
    "min"
   ]
  },
  {
   "cell_type": "code",
   "execution_count": null,
   "metadata": {},
   "outputs": [
    {
     "data": {
      "text/plain": [
       "     fun: -0.31952267484200547\n",
       " message: 'Solution found.'\n",
       "    nfev: 16\n",
       "  status: 0\n",
       " success: True\n",
       "       x: -46.720785832768534"
      ]
     },
     "metadata": {},
     "output_type": "display_data"
    }
   ],
   "source": [
    "min = minimize_scalar(retrograde,bounds=(-50,0),method='Bounded')\n",
    "min"
   ]
  },
  {
   "cell_type": "code",
   "execution_count": null,
   "metadata": {},
   "outputs": [
    {
     "data": {
      "image/png": "[encoded data removed]",
      "text/plain": [
       "<Figure size 640x480 with 2 Axes>"
      ]
     },
     "metadata": {},
     "output_type": "display_data"
    }
   ],
   "source": [
    "plot_station(mars,(mtime-24.393896157742745*DAY).jed,npoints=100)"
   ]
  },
  {
   "cell_type": "code",
   "execution_count": null,
   "metadata": {},
   "outputs": [],
   "source": []
  }
 ],
 "metadata": {
  "kernelspec": {
   "display_name": "base",
   "language": "python",
   "name": "python3"
  },
  "language_info": {
   "codemirror_mode": {
    "name": "ipython",
    "version": 3
   },
   "file_extension": ".py",
   "mimetype": "text/x-python",
   "name": "python",
   "nbconvert_exporter": "python",
   "pygments_lexer": "ipython3",
   "version": "3.9.7"
  }
 },
 "nbformat": 4,
 "nbformat_minor": 2
}
