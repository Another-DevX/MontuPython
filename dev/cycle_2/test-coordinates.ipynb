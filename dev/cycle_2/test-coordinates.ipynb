{
 "cells": [
  {
   "cell_type": "markdown",
   "metadata": {},
   "source": [
    "# Montu Python \n",
    "## Astronomical ephemerides for the Ancient World\n",
    "## Test: Coordinates\n"
   ]
  },
  {
   "cell_type": "code",
   "execution_count": 479,
   "metadata": {},
   "outputs": [
    {
     "name": "stdout",
     "output_type": "stream",
     "text": [
      "The autoreload extension is already loaded. To reload it, use:\n",
      "  %reload_ext autoreload\n"
     ]
    }
   ],
   "source": [
    "# Montu packages and data\n",
    "from montu import *\n",
    "\n",
    "# These magic commands are intended to allow updating the packages if they change\n",
    "%load_ext autoreload\n",
    "%autoreload 2"
   ]
  },
  {
   "cell_type": "code",
   "execution_count": 480,
   "metadata": {},
   "outputs": [
    {
     "data": {
      "text/plain": [
       "Index(['StarID', 'Hip', 'HD', 'HR', 'Gliese', 'BayerFlamsteed', 'ProperName',\n",
       "       'RAJ2000', 'DecJ2000', 'Distance', 'Mag', 'AbsMag', 'Spectrum',\n",
       "       'ColorIndex'],\n",
       "      dtype='object')"
      ]
     },
     "execution_count": 480,
     "metadata": {},
     "output_type": "execute_result"
    }
   ],
   "source": [
    "ALL_STARS.data.columns"
   ]
  },
  {
   "cell_type": "code",
   "execution_count": 481,
   "metadata": {},
   "outputs": [
    {
     "data": {
      "text/html": [
       "<div>\n",
       "<style scoped>\n",
       "    .dataframe tbody tr th:only-of-type {\n",
       "        vertical-align: middle;\n",
       "    }\n",
       "\n",
       "    .dataframe tbody tr th {\n",
       "        vertical-align: top;\n",
       "    }\n",
       "\n",
       "    .dataframe thead th {\n",
       "        text-align: right;\n",
       "    }\n",
       "</style>\n",
       "<table border=\"1\" class=\"dataframe\">\n",
       "  <thead>\n",
       "    <tr style=\"text-align: right;\">\n",
       "      <th></th>\n",
       "      <th>StarID</th>\n",
       "      <th>Hip</th>\n",
       "      <th>HD</th>\n",
       "      <th>HR</th>\n",
       "      <th>Gliese</th>\n",
       "      <th>BayerFlamsteed</th>\n",
       "      <th>ProperName</th>\n",
       "      <th>RAJ2000</th>\n",
       "      <th>DecJ2000</th>\n",
       "      <th>Distance</th>\n",
       "      <th>Mag</th>\n",
       "      <th>AbsMag</th>\n",
       "      <th>Spectrum</th>\n",
       "      <th>ColorIndex</th>\n",
       "    </tr>\n",
       "  </thead>\n",
       "  <tbody>\n",
       "    <tr>\n",
       "      <th>15107</th>\n",
       "      <td>15108</td>\n",
       "      <td>21421</td>\n",
       "      <td>29139.0</td>\n",
       "      <td>1457.0</td>\n",
       "      <td>Gl 171.1A</td>\n",
       "      <td>87Alp Tau</td>\n",
       "      <td>Aldebaran</td>\n",
       "      <td>4.59866679000000023</td>\n",
       "      <td>16.50976164000000068</td>\n",
       "      <td>19.96406468356959962</td>\n",
       "      <td>0.87</td>\n",
       "      <td>-0.63124484155242799</td>\n",
       "      <td>K5III</td>\n",
       "      <td>1.53800000000000003</td>\n",
       "    </tr>\n",
       "  </tbody>\n",
       "</table>\n",
       "</div>"
      ],
      "text/plain": [
       "       StarID    Hip       HD      HR     Gliese BayerFlamsteed ProperName  \\\n",
       "15107   15108  21421  29139.0  1457.0  Gl 171.1A      87Alp Tau  Aldebaran   \n",
       "\n",
       "                   RAJ2000              DecJ2000              Distance   Mag  \\\n",
       "15107  4.59866679000000023  16.50976164000000068  19.96406468356959962  0.87   \n",
       "\n",
       "                    AbsMag Spectrum           ColorIndex  \n",
       "15107 -0.63124484155242799    K5III  1.53800000000000003  "
      ]
     },
     "execution_count": 481,
     "metadata": {},
     "output_type": "execute_result"
    }
   ],
   "source": [
    "aldebaran = ALL_STARS.get_stars(ProperName='Aldebaran')\n",
    "aldebaran.data"
   ]
  },
  {
   "cell_type": "code",
   "execution_count": 482,
   "metadata": {},
   "outputs": [
    {
     "data": {
      "text/html": [
       "<div>\n",
       "<style scoped>\n",
       "    .dataframe tbody tr th:only-of-type {\n",
       "        vertical-align: middle;\n",
       "    }\n",
       "\n",
       "    .dataframe tbody tr th {\n",
       "        vertical-align: top;\n",
       "    }\n",
       "\n",
       "    .dataframe thead th {\n",
       "        text-align: right;\n",
       "    }\n",
       "</style>\n",
       "<table border=\"1\" class=\"dataframe\">\n",
       "  <thead>\n",
       "    <tr style=\"text-align: right;\">\n",
       "      <th></th>\n",
       "      <th>StarID</th>\n",
       "      <th>Hip</th>\n",
       "      <th>HD</th>\n",
       "      <th>HR</th>\n",
       "      <th>Gliese</th>\n",
       "      <th>BayerFlamsteed</th>\n",
       "      <th>ProperName</th>\n",
       "      <th>RAJ2000</th>\n",
       "      <th>DecJ2000</th>\n",
       "      <th>Distance</th>\n",
       "      <th>Mag</th>\n",
       "      <th>AbsMag</th>\n",
       "      <th>Spectrum</th>\n",
       "      <th>ColorIndex</th>\n",
       "    </tr>\n",
       "  </thead>\n",
       "  <tbody>\n",
       "    <tr>\n",
       "      <th>3265</th>\n",
       "      <td>3266</td>\n",
       "      <td>4674</td>\n",
       "      <td>5747.0</td>\n",
       "      <td>NaN</td>\n",
       "      <td>NaN</td>\n",
       "      <td>NaN</td>\n",
       "      <td>NaN</td>\n",
       "      <td>1.00076816999999996</td>\n",
       "      <td>60.51000064000000123</td>\n",
       "      <td>145.13788098693800066</td>\n",
       "      <td>7.08999999999999986</td>\n",
       "      <td>1.28109610953812991</td>\n",
       "      <td>G8II</td>\n",
       "      <td>0.96899999999999997</td>\n",
       "    </tr>\n",
       "    <tr>\n",
       "      <th>3266</th>\n",
       "      <td>3267</td>\n",
       "      <td>4675</td>\n",
       "      <td>5788.0</td>\n",
       "      <td>282.0</td>\n",
       "      <td>NaN</td>\n",
       "      <td>NaN</td>\n",
       "      <td>NaN</td>\n",
       "      <td>1.00098532000000007</td>\n",
       "      <td>44.71330426000000102</td>\n",
       "      <td>128.86597938144299746</td>\n",
       "      <td>5.69000000000000039</td>\n",
       "      <td>0.13930860629094299</td>\n",
       "      <td>B9.5Vn</td>\n",
       "      <td>-0.01000000000000000</td>\n",
       "    </tr>\n",
       "    <tr>\n",
       "      <th>3267</th>\n",
       "      <td>3268</td>\n",
       "      <td>4676</td>\n",
       "      <td>5861.0</td>\n",
       "      <td>NaN</td>\n",
       "      <td>NaN</td>\n",
       "      <td>NaN</td>\n",
       "      <td>NaN</td>\n",
       "      <td>1.00101358999999990</td>\n",
       "      <td>-2.01891577000000000</td>\n",
       "      <td>91.07468123861569609</td>\n",
       "      <td>7.34999999999999964</td>\n",
       "      <td>2.55301170057036986</td>\n",
       "      <td>F5</td>\n",
       "      <td>0.46000000000000002</td>\n",
       "    </tr>\n",
       "    <tr>\n",
       "      <th>3268</th>\n",
       "      <td>3269</td>\n",
       "      <td>4677</td>\n",
       "      <td>5859.0</td>\n",
       "      <td>NaN</td>\n",
       "      <td>NaN</td>\n",
       "      <td>NaN</td>\n",
       "      <td>NaN</td>\n",
       "      <td>1.00156991999999989</td>\n",
       "      <td>2.63298132999999979</td>\n",
       "      <td>378.78787878787898080</td>\n",
       "      <td>7.62000000000000011</td>\n",
       "      <td>-0.27198036565084399</td>\n",
       "      <td>K2</td>\n",
       "      <td>1.50299999999999989</td>\n",
       "    </tr>\n",
       "    <tr>\n",
       "      <th>3269</th>\n",
       "      <td>3270</td>\n",
       "      <td>4679</td>\n",
       "      <td>232341.0</td>\n",
       "      <td>NaN</td>\n",
       "      <td>NaN</td>\n",
       "      <td>NaN</td>\n",
       "      <td>NaN</td>\n",
       "      <td>1.00230930000000007</td>\n",
       "      <td>55.29066293000000343</td>\n",
       "      <td>740.74074074074098917</td>\n",
       "      <td>8.86999999999999922</td>\n",
       "      <td>-0.47833115752497002</td>\n",
       "      <td>B9</td>\n",
       "      <td>0.07099999999999999</td>\n",
       "    </tr>\n",
       "    <tr>\n",
       "      <th>...</th>\n",
       "      <td>...</td>\n",
       "      <td>...</td>\n",
       "      <td>...</td>\n",
       "      <td>...</td>\n",
       "      <td>...</td>\n",
       "      <td>...</td>\n",
       "      <td>...</td>\n",
       "      <td>...</td>\n",
       "      <td>...</td>\n",
       "      <td>...</td>\n",
       "      <td>...</td>\n",
       "      <td>...</td>\n",
       "      <td>...</td>\n",
       "      <td>...</td>\n",
       "    </tr>\n",
       "    <tr>\n",
       "      <th>85905</th>\n",
       "      <td>85906</td>\n",
       "      <td>0</td>\n",
       "      <td>NaN</td>\n",
       "      <td>NaN</td>\n",
       "      <td>NN 3119</td>\n",
       "      <td>NaN</td>\n",
       "      <td>NaN</td>\n",
       "      <td>1.85062555646462990</td>\n",
       "      <td>-6.11559415849939025</td>\n",
       "      <td>10.00000000000000000</td>\n",
       "      <td>14.59999999999999964</td>\n",
       "      <td>14.59999999999999964</td>\n",
       "      <td>m</td>\n",
       "      <td>NaN</td>\n",
       "    </tr>\n",
       "    <tr>\n",
       "      <th>85906</th>\n",
       "      <td>85907</td>\n",
       "      <td>0</td>\n",
       "      <td>NaN</td>\n",
       "      <td>NaN</td>\n",
       "      <td>NN 3120</td>\n",
       "      <td>NaN</td>\n",
       "      <td>NaN</td>\n",
       "      <td>1.85651355992470002</td>\n",
       "      <td>21.39935041260130077</td>\n",
       "      <td>17.85714285714290028</td>\n",
       "      <td>13.90000000000000036</td>\n",
       "      <td>12.64094013503100022</td>\n",
       "      <td>M4</td>\n",
       "      <td>NaN</td>\n",
       "    </tr>\n",
       "    <tr>\n",
       "      <th>85907</th>\n",
       "      <td>85908</td>\n",
       "      <td>0</td>\n",
       "      <td>NaN</td>\n",
       "      <td>NaN</td>\n",
       "      <td>Gl  81  B</td>\n",
       "      <td>NaN</td>\n",
       "      <td>NaN</td>\n",
       "      <td>1.93168084288376996</td>\n",
       "      <td>-51.61203560616610275</td>\n",
       "      <td>17.48557440111909855</td>\n",
       "      <td>10.69999999999999929</td>\n",
       "      <td>9.48660048273336010</td>\n",
       "      <td>NaN</td>\n",
       "      <td>NaN</td>\n",
       "    </tr>\n",
       "    <tr>\n",
       "      <th>85908</th>\n",
       "      <td>85909</td>\n",
       "      <td>0</td>\n",
       "      <td>NaN</td>\n",
       "      <td>NaN</td>\n",
       "      <td>Gl  81.1B</td>\n",
       "      <td>NaN</td>\n",
       "      <td>NaN</td>\n",
       "      <td>1.95353105306032004</td>\n",
       "      <td>-10.24579527747789953</td>\n",
       "      <td>33.97893306150189829</td>\n",
       "      <td>11.21000000000000085</td>\n",
       "      <td>8.55395131049806068</td>\n",
       "      <td>m</td>\n",
       "      <td>1.37999999999999989</td>\n",
       "    </tr>\n",
       "    <tr>\n",
       "      <th>85909</th>\n",
       "      <td>85910</td>\n",
       "      <td>0</td>\n",
       "      <td>NaN</td>\n",
       "      <td>NaN</td>\n",
       "      <td>GJ 1041 B</td>\n",
       "      <td>NaN</td>\n",
       "      <td>NaN</td>\n",
       "      <td>1.98653115528366997</td>\n",
       "      <td>3.51811810569340988</td>\n",
       "      <td>10.75268817204299943</td>\n",
       "      <td>14.00000000000000000</td>\n",
       "      <td>13.84241474276969974</td>\n",
       "      <td>m</td>\n",
       "      <td>NaN</td>\n",
       "    </tr>\n",
       "  </tbody>\n",
       "</table>\n",
       "<p>3310 rows × 14 columns</p>\n",
       "</div>"
      ],
      "text/plain": [
       "       StarID   Hip        HD     HR     Gliese BayerFlamsteed ProperName  \\\n",
       "3265     3266  4674    5747.0    NaN        NaN            NaN        NaN   \n",
       "3266     3267  4675    5788.0  282.0        NaN            NaN        NaN   \n",
       "3267     3268  4676    5861.0    NaN        NaN            NaN        NaN   \n",
       "3268     3269  4677    5859.0    NaN        NaN            NaN        NaN   \n",
       "3269     3270  4679  232341.0    NaN        NaN            NaN        NaN   \n",
       "...       ...   ...       ...    ...        ...            ...        ...   \n",
       "85905   85906     0       NaN    NaN    NN 3119            NaN        NaN   \n",
       "85906   85907     0       NaN    NaN    NN 3120            NaN        NaN   \n",
       "85907   85908     0       NaN    NaN  Gl  81  B            NaN        NaN   \n",
       "85908   85909     0       NaN    NaN  Gl  81.1B            NaN        NaN   \n",
       "85909   85910     0       NaN    NaN  GJ 1041 B            NaN        NaN   \n",
       "\n",
       "                   RAJ2000              DecJ2000               Distance  \\\n",
       "3265   1.00076816999999996  60.51000064000000123  145.13788098693800066   \n",
       "3266   1.00098532000000007  44.71330426000000102  128.86597938144299746   \n",
       "3267   1.00101358999999990  -2.01891577000000000   91.07468123861569609   \n",
       "3268   1.00156991999999989   2.63298132999999979  378.78787878787898080   \n",
       "3269   1.00230930000000007  55.29066293000000343  740.74074074074098917   \n",
       "...                    ...                   ...                    ...   \n",
       "85905  1.85062555646462990  -6.11559415849939025   10.00000000000000000   \n",
       "85906  1.85651355992470002  21.39935041260130077   17.85714285714290028   \n",
       "85907  1.93168084288376996 -51.61203560616610275   17.48557440111909855   \n",
       "85908  1.95353105306032004 -10.24579527747789953   33.97893306150189829   \n",
       "85909  1.98653115528366997   3.51811810569340988   10.75268817204299943   \n",
       "\n",
       "                        Mag                AbsMag Spectrum  \\\n",
       "3265    7.08999999999999986   1.28109610953812991     G8II   \n",
       "3266    5.69000000000000039   0.13930860629094299   B9.5Vn   \n",
       "3267    7.34999999999999964   2.55301170057036986       F5   \n",
       "3268    7.62000000000000011  -0.27198036565084399       K2   \n",
       "3269    8.86999999999999922  -0.47833115752497002       B9   \n",
       "...                     ...                   ...      ...   \n",
       "85905  14.59999999999999964  14.59999999999999964        m   \n",
       "85906  13.90000000000000036  12.64094013503100022       M4   \n",
       "85907  10.69999999999999929   9.48660048273336010      NaN   \n",
       "85908  11.21000000000000085   8.55395131049806068        m   \n",
       "85909  14.00000000000000000  13.84241474276969974        m   \n",
       "\n",
       "                ColorIndex  \n",
       "3265   0.96899999999999997  \n",
       "3266  -0.01000000000000000  \n",
       "3267   0.46000000000000002  \n",
       "3268   1.50299999999999989  \n",
       "3269   0.07099999999999999  \n",
       "...                    ...  \n",
       "85905                  NaN  \n",
       "85906                  NaN  \n",
       "85907                  NaN  \n",
       "85908  1.37999999999999989  \n",
       "85909                  NaN  \n",
       "\n",
       "[3310 rows x 14 columns]"
      ]
     },
     "execution_count": 482,
     "metadata": {},
     "output_type": "execute_result"
    }
   ],
   "source": [
    "ALL_STARS.get_stars(RAJ2000=[1,2]).data"
   ]
  },
  {
   "cell_type": "code",
   "execution_count": 483,
   "metadata": {},
   "outputs": [
    {
     "data": {
      "image/png": "[encoded data removed]",
      "text/plain": [
       "<Figure size 800x800 with 1 Axes>"
      ]
     },
     "metadata": {},
     "output_type": "display_data"
    }
   ],
   "source": [
    "aldebaran = ALL_STARS.get_stars(ProperName='Aldebaran')\n",
    "hyades = ALL_STARS.get_stars_area(RA=aldebaran.data.RAJ2000,Dec=aldebaran.data.DecJ2000,\n",
    "                                  suffix='J2000',radius=10,Mag=[-1,5])\n",
    "fig,ax = hyades.plot_stars(pad=0.0,labels=False,figargs=dict(figsize=(8,8)))"
   ]
  },
  {
   "cell_type": "code",
   "execution_count": 484,
   "metadata": {},
   "outputs": [],
   "source": [
    "from montu import *\n",
    "earth = PlanetaryBody('Earth')\n",
    "tebas = ObservingSite(planet=earth,lon=33,lat=24,height=0)"
   ]
  },
  {
   "cell_type": "code",
   "execution_count": 485,
   "metadata": {},
   "outputs": [
    {
     "name": "stdout",
     "output_type": "stream",
     "text": [
      "-2500-01-01 12:00:00.0002\n",
      "-2500-01-11 12:00:00.0001\n",
      "-2500-01-11 12:00:00.0001\n"
     ]
    }
   ],
   "source": [
    "mtime = MonTime('-2500-01-01 12:00:00')\n",
    "tebas.update_site(mtime)\n",
    "print(tebas.epoch.datepro)\n",
    "tebas.update_site(mtime + 10*DAY)\n",
    "print(tebas.epoch.datepro)\n",
    "tebas.update_site(mtime + 10*DAY)\n",
    "print(tebas.epoch.datepro)"
   ]
  },
  {
   "cell_type": "code",
   "execution_count": 487,
   "metadata": {},
   "outputs": [
    {
     "name": "stdout",
     "output_type": "stream",
     "text": [
      "1.29 ms ± 69.2 µs per loop (mean ± std. dev. of 7 runs, 1,000 loops each)\n"
     ]
    }
   ],
   "source": [
    "%timeit tebas.update_site(mtime + 10*DAY)"
   ]
  },
  {
   "cell_type": "code",
   "execution_count": 488,
   "metadata": {},
   "outputs": [
    {
     "name": "stdout",
     "output_type": "stream",
     "text": [
      "Computing position of body 'mars' at epoch: jtd = 807954.69096852 \n",
      "Method 'SPICE':\n",
      "\tPosition Epoch: prolectic gregorian -2500-01-01 12:00:00.0002, JED = 807954.0\n",
      "\tCoordinates @ J2000: \n",
      "\t\tEquatorial: 12:31:48.754 01:37:12.184\n",
      "\t\tEcliptic: 186:39:46.949 04:38:36.308\n",
      "\tCoordinates @ Epoch : \n",
      "\t\tEquatorial: 08:32:9.796 24:06:28.555\n",
      "\t\tEcliptic: 124:21:21.542 04:39:5.339\n",
      "\tObserving conditions: \n",
      "\t\tDistance to site [au]:  0.660450348835636\n",
      "\t\tDistance to sun [au]:  1.626114972997512\n",
      "\t\tSolar elongation [deg]:  157:49:18.876\n",
      "\t\tPhase angle [deg]:  13:21:31.981\n",
      "\t\tMagnitude:  -1.1\n",
      "\tOther properties: \n",
      "\t\tLocal true sidereal time:  20:52:25.323\n",
      "\t\tHour angle @ Epoch:  12:20:15.527\n",
      "\t\tLocal coordinates @ Epoch:  06:11:24.275 -41:38:31.094\n"
     ]
    }
   ],
   "source": [
    "from montu import *\n",
    "Montu.load_kernels(PRECISION_KERNELS)\n",
    "earth = PlanetaryBody('Earth')\n",
    "tebas = ObservingSite(planet=earth,lon=33,lat=24,height=0)\n",
    "mtime = MonTime('-2500-01-01 12:00:00')\n",
    "mars = PlanetaryBody('Mars')\n",
    "mars.reset_store()\n",
    "mars.calculate_sky_position(mtime,tebas,method='SPICE',store=1)"
   ]
  },
  {
   "cell_type": "code",
   "execution_count": 489,
   "metadata": {},
   "outputs": [
    {
     "data": {
      "text/html": [
       "<div>\n",
       "<style scoped>\n",
       "    .dataframe tbody tr th:only-of-type {\n",
       "        vertical-align: middle;\n",
       "    }\n",
       "\n",
       "    .dataframe tbody tr th {\n",
       "        vertical-align: top;\n",
       "    }\n",
       "\n",
       "    .dataframe thead th {\n",
       "        text-align: right;\n",
       "    }\n",
       "</style>\n",
       "<table border=\"1\" class=\"dataframe\">\n",
       "  <thead>\n",
       "    <tr style=\"text-align: right;\">\n",
       "      <th></th>\n",
       "      <th>az_comp</th>\n",
       "      <th>el_comp</th>\n",
       "    </tr>\n",
       "  </thead>\n",
       "  <tbody>\n",
       "    <tr>\n",
       "      <th>0</th>\n",
       "      <td>6.19007652077834969</td>\n",
       "      <td>-41.64197048578358817</td>\n",
       "    </tr>\n",
       "  </tbody>\n",
       "</table>\n",
       "</div>"
      ],
      "text/plain": [
       "               az_comp               el_comp\n",
       "0  6.19007652077834969 -41.64197048578358817"
      ]
     },
     "execution_count": 489,
     "metadata": {},
     "output_type": "execute_result"
    }
   ],
   "source": [
    "SkyCoordinates.to_altaz(mars.df,tebas,mtime)[['az_comp','el_comp']]"
   ]
  },
  {
   "cell_type": "code",
   "execution_count": 490,
   "metadata": {},
   "outputs": [
    {
     "name": "stdout",
     "output_type": "stream",
     "text": [
      "1.08 ms ± 81.2 µs per loop (mean ± std. dev. of 7 runs, 1,000 loops each)\n"
     ]
    }
   ],
   "source": [
    "%timeit SkyCoordinates.to_altaz(mars.df,tebas,mtime)[['az_comp','el_comp']]"
   ]
  },
  {
   "cell_type": "code",
   "execution_count": 491,
   "metadata": {},
   "outputs": [
    {
     "data": {
      "text/plain": [
       "Index(['datepro', 'datemix', 'datetime64', 'tt', 'jtd', 'jed', 'RAJ2000',\n",
       "       'DecJ2000', 'RAEpoch', 'DecEpoch', 'LonJ2000', 'LatJ2000', 'LonEpoch',\n",
       "       'LatEpoch', 'tsa', 'HA', 'az', 'el', 'site_distance', 'sun_distance',\n",
       "       'elongation', 'phase', 'mag', 'RAJ2000_SPICE', 'DecJ2000_SPICE',\n",
       "       'RAEpoch_SPICE', 'DecEpoch_SPICE', 'LonJ2000_SPICE', 'LatJ2000_SPICE',\n",
       "       'LonEpoch_SPICE', 'LatEpoch_SPICE', 'tsa_SPICE', 'HA_SPICE', 'az_SPICE',\n",
       "       'el_SPICE', 'site_distance_SPICE', 'sun_distance_SPICE',\n",
       "       'elongation_SPICE', 'phase_SPICE', 'mag_SPICE'],\n",
       "      dtype='object')"
      ]
     },
     "execution_count": 491,
     "metadata": {},
     "output_type": "execute_result"
    }
   ],
   "source": [
    "mars.df.columns"
   ]
  },
  {
   "cell_type": "code",
   "execution_count": 492,
   "metadata": {},
   "outputs": [],
   "source": [
    "SkyCoordinates.to_altaz(mars.df,tebas,mtime,inplace=True)"
   ]
  },
  {
   "cell_type": "code",
   "execution_count": 493,
   "metadata": {},
   "outputs": [
    {
     "data": {
      "text/plain": [
       "Index(['datepro', 'datemix', 'datetime64', 'tt', 'jtd', 'jed', 'RAJ2000',\n",
       "       'DecJ2000', 'RAEpoch', 'DecEpoch', 'LonJ2000', 'LatJ2000', 'LonEpoch',\n",
       "       'LatEpoch', 'tsa', 'HA', 'az', 'el', 'site_distance', 'sun_distance',\n",
       "       'elongation', 'phase', 'mag', 'RAJ2000_SPICE', 'DecJ2000_SPICE',\n",
       "       'RAEpoch_SPICE', 'DecEpoch_SPICE', 'LonJ2000_SPICE', 'LatJ2000_SPICE',\n",
       "       'LonEpoch_SPICE', 'LatEpoch_SPICE', 'tsa_SPICE', 'HA_SPICE', 'az_SPICE',\n",
       "       'el_SPICE', 'site_distance_SPICE', 'sun_distance_SPICE',\n",
       "       'elongation_SPICE', 'phase_SPICE', 'mag_SPICE', 'HA_comp', 'az_comp',\n",
       "       'el_comp'],\n",
       "      dtype='object')"
      ]
     },
     "execution_count": 493,
     "metadata": {},
     "output_type": "execute_result"
    }
   ],
   "source": [
    "mars.df.columns"
   ]
  },
  {
   "cell_type": "code",
   "execution_count": 495,
   "metadata": {},
   "outputs": [
    {
     "data": {
      "text/plain": [
       "Index(['datepro', 'datemix', 'datetime64', 'tt', 'jtd', 'jed', 'RAJ2000',\n",
       "       'DecJ2000', 'RAEpoch', 'DecEpoch', 'LonJ2000', 'LatJ2000', 'LonEpoch',\n",
       "       'LatEpoch', 'tsa', 'HA', 'az', 'el', 'site_distance', 'sun_distance',\n",
       "       'elongation', 'phase', 'mag', 'RAJ2000_SPICE', 'DecJ2000_SPICE',\n",
       "       'RAEpoch_SPICE', 'DecEpoch_SPICE', 'LonJ2000_SPICE', 'LatJ2000_SPICE',\n",
       "       'LonEpoch_SPICE', 'LatEpoch_SPICE', 'tsa_SPICE', 'HA_SPICE', 'az_SPICE',\n",
       "       'el_SPICE', 'site_distance_SPICE', 'sun_distance_SPICE',\n",
       "       'elongation_SPICE', 'phase_SPICE', 'mag_SPICE', 'HA_comp', 'az_comp',\n",
       "       'el_comp', 'RAEpoch_comp', 'DecEpoch_comp'],\n",
       "      dtype='object')"
      ]
     },
     "execution_count": 495,
     "metadata": {},
     "output_type": "execute_result"
    }
   ],
   "source": [
    "SkyCoordinates.precess_coordinates(mars.df,mtime,inplace=True)\n",
    "mars.df.columns"
   ]
  },
  {
   "cell_type": "code",
   "execution_count": 496,
   "metadata": {},
   "outputs": [
    {
     "data": {
      "text/plain": [
       "DecEpoch    24.10793190255713725\n",
       "RAEpoch      8.53605441277297849\n",
       "dtype: float64"
      ]
     },
     "execution_count": 496,
     "metadata": {},
     "output_type": "execute_result"
    }
   ],
   "source": [
    "obj = pd.Series(dict(DecEpoch=mars.DecEpoch,RAEpoch=mars.RAEpoch))\n",
    "obj"
   ]
  },
  {
   "cell_type": "code",
   "execution_count": 497,
   "metadata": {},
   "outputs": [
    {
     "data": {
      "text/html": [
       "<div>\n",
       "<style scoped>\n",
       "    .dataframe tbody tr th:only-of-type {\n",
       "        vertical-align: middle;\n",
       "    }\n",
       "\n",
       "    .dataframe tbody tr th {\n",
       "        vertical-align: top;\n",
       "    }\n",
       "\n",
       "    .dataframe thead th {\n",
       "        text-align: right;\n",
       "    }\n",
       "</style>\n",
       "<table border=\"1\" class=\"dataframe\">\n",
       "  <thead>\n",
       "    <tr style=\"text-align: right;\">\n",
       "      <th></th>\n",
       "      <th>DecEpoch</th>\n",
       "      <th>RAEpoch</th>\n",
       "    </tr>\n",
       "  </thead>\n",
       "  <tbody>\n",
       "    <tr>\n",
       "      <th>0</th>\n",
       "      <td>24.10793190255713725</td>\n",
       "      <td>8.53605441277297849</td>\n",
       "    </tr>\n",
       "  </tbody>\n",
       "</table>\n",
       "</div>"
      ],
      "text/plain": [
       "               DecEpoch              RAEpoch\n",
       "0  24.10793190255713725  8.53605441277297849"
      ]
     },
     "execution_count": 497,
     "metadata": {},
     "output_type": "execute_result"
    }
   ],
   "source": [
    "SkyCoordinates.to_altaz(obj,tebas,mtime)"
   ]
  },
  {
   "cell_type": "code",
   "execution_count": 499,
   "metadata": {},
   "outputs": [
    {
     "data": {
      "text/plain": [
       "DecEpoch    24.10793190255713725\n",
       "RAEpoch      8.53605441277297849\n",
       "dtype: float64"
      ]
     },
     "execution_count": 499,
     "metadata": {},
     "output_type": "execute_result"
    }
   ],
   "source": [
    "obj"
   ]
  },
  {
   "cell_type": "code",
   "execution_count": 500,
   "metadata": {},
   "outputs": [
    {
     "data": {
      "text/plain": [
       "DecEpoch    24.10793190255713725\n",
       "RAEpoch      8.53605441277297849\n",
       "HA          12.33764631003869816\n",
       "az           6.19007652077834969\n",
       "el         -41.64197048578358817\n",
       "HA_comp     12.33764631003869816\n",
       "az_comp      6.19007652077834969\n",
       "el_comp    -41.64197048578358817\n",
       "dtype: float64"
      ]
     },
     "execution_count": 500,
     "metadata": {},
     "output_type": "execute_result"
    }
   ],
   "source": [
    "SkyCoordinates.to_altaz(obj,tebas,mtime,inplace=True)\n",
    "obj"
   ]
  },
  {
   "cell_type": "markdown",
   "metadata": {},
   "source": [
    "## Precess stars"
   ]
  },
  {
   "cell_type": "code",
   "execution_count": 501,
   "metadata": {},
   "outputs": [],
   "source": [
    "from montu import *\n",
    "Montu.load_kernels(PRECISION_KERNELS)\n",
    "earth = PlanetaryBody('Earth')\n",
    "tebas = ObservingSite(planet=earth,lon=33,lat=24,height=0)\n",
    "mtime = MonTime('-2500-01-01 12:00:00')"
   ]
  },
  {
   "cell_type": "code",
   "execution_count": 502,
   "metadata": {},
   "outputs": [
    {
     "name": "stderr",
     "output_type": "stream",
     "text": [
      "100%|██████████| 87475/87475 [01:00<00:00, 1452.81it/s]\n"
     ]
    },
    {
     "data": {
      "text/html": [
       "<div>\n",
       "<style scoped>\n",
       "    .dataframe tbody tr th:only-of-type {\n",
       "        vertical-align: middle;\n",
       "    }\n",
       "\n",
       "    .dataframe tbody tr th {\n",
       "        vertical-align: top;\n",
       "    }\n",
       "\n",
       "    .dataframe thead th {\n",
       "        text-align: right;\n",
       "    }\n",
       "</style>\n",
       "<table border=\"1\" class=\"dataframe\">\n",
       "  <thead>\n",
       "    <tr style=\"text-align: right;\">\n",
       "      <th></th>\n",
       "      <th>StarID</th>\n",
       "      <th>Hip</th>\n",
       "      <th>HD</th>\n",
       "      <th>HR</th>\n",
       "      <th>Gliese</th>\n",
       "      <th>BayerFlamsteed</th>\n",
       "      <th>ProperName</th>\n",
       "      <th>RAJ2000</th>\n",
       "      <th>DecJ2000</th>\n",
       "      <th>Distance</th>\n",
       "      <th>Mag</th>\n",
       "      <th>AbsMag</th>\n",
       "      <th>Spectrum</th>\n",
       "      <th>ColorIndex</th>\n",
       "      <th>RAEpoch</th>\n",
       "      <th>DecEpoch</th>\n",
       "      <th>RAEpoch_comp</th>\n",
       "      <th>DecEpoch_comp</th>\n",
       "    </tr>\n",
       "  </thead>\n",
       "  <tbody>\n",
       "    <tr>\n",
       "      <th>0</th>\n",
       "      <td>1</td>\n",
       "      <td>2</td>\n",
       "      <td>224690.0</td>\n",
       "      <td>NaN</td>\n",
       "      <td>NaN</td>\n",
       "      <td>NaN</td>\n",
       "      <td>NaN</td>\n",
       "      <td>0.00025315000000000</td>\n",
       "      <td>-19.49883744999999990</td>\n",
       "      <td>45.66210045662099759</td>\n",
       "      <td>9.26999999999999957</td>\n",
       "      <td>5.97222057420059027</td>\n",
       "      <td>K3V</td>\n",
       "      <td>0.99900000000000000</td>\n",
       "      <td>19.63801287781020122</td>\n",
       "      <td>-39.97541218501313409</td>\n",
       "      <td>19.63801287781020122</td>\n",
       "      <td>-39.97541218501313409</td>\n",
       "    </tr>\n",
       "    <tr>\n",
       "      <th>1</th>\n",
       "      <td>2</td>\n",
       "      <td>3</td>\n",
       "      <td>224699.0</td>\n",
       "      <td>NaN</td>\n",
       "      <td>NaN</td>\n",
       "      <td>NaN</td>\n",
       "      <td>NaN</td>\n",
       "      <td>0.00033386000000000</td>\n",
       "      <td>38.85928607999999684</td>\n",
       "      <td>355.87188612099600959</td>\n",
       "      <td>6.61000000000000032</td>\n",
       "      <td>-1.14646840047459997</td>\n",
       "      <td>B9</td>\n",
       "      <td>-0.01900000000000000</td>\n",
       "      <td>20.53243392784487753</td>\n",
       "      <td>17.02694033261830953</td>\n",
       "      <td>20.53243392784487753</td>\n",
       "      <td>17.02694033261830953</td>\n",
       "    </tr>\n",
       "    <tr>\n",
       "      <th>2</th>\n",
       "      <td>3</td>\n",
       "      <td>4</td>\n",
       "      <td>224707.0</td>\n",
       "      <td>NaN</td>\n",
       "      <td>NaN</td>\n",
       "      <td>NaN</td>\n",
       "      <td>NaN</td>\n",
       "      <td>0.00055878000000000</td>\n",
       "      <td>-51.89354612000000344</td>\n",
       "      <td>129.03225806451598601</td>\n",
       "      <td>8.06000000000000050</td>\n",
       "      <td>2.50650851253154983</td>\n",
       "      <td>F0V</td>\n",
       "      <td>0.37000000000000000</td>\n",
       "      <td>18.04389619364439667</td>\n",
       "      <td>-69.86090453021374458</td>\n",
       "      <td>18.04389619364439667</td>\n",
       "      <td>-69.86090453021374458</td>\n",
       "    </tr>\n",
       "    <tr>\n",
       "      <th>3</th>\n",
       "      <td>4</td>\n",
       "      <td>5</td>\n",
       "      <td>224705.0</td>\n",
       "      <td>NaN</td>\n",
       "      <td>NaN</td>\n",
       "      <td>NaN</td>\n",
       "      <td>NaN</td>\n",
       "      <td>0.00066435000000000</td>\n",
       "      <td>-40.59122440000000154</td>\n",
       "      <td>348.43205574912900602</td>\n",
       "      <td>8.55000000000000071</td>\n",
       "      <td>0.83940948366996304</td>\n",
       "      <td>G8III</td>\n",
       "      <td>0.90200000000000002</td>\n",
       "      <td>18.91884527505292368</td>\n",
       "      <td>-59.96067075935225432</td>\n",
       "      <td>18.91884527505292368</td>\n",
       "      <td>-59.96067075935225432</td>\n",
       "    </tr>\n",
       "    <tr>\n",
       "      <th>4</th>\n",
       "      <td>5</td>\n",
       "      <td>9</td>\n",
       "      <td>224708.0</td>\n",
       "      <td>NaN</td>\n",
       "      <td>NaN</td>\n",
       "      <td>NaN</td>\n",
       "      <td>NaN</td>\n",
       "      <td>0.00235612000000000</td>\n",
       "      <td>36.58593777000000102</td>\n",
       "      <td>207.90020790020798813</td>\n",
       "      <td>8.58999999999999986</td>\n",
       "      <td>2.00072538186915994</td>\n",
       "      <td>G5</td>\n",
       "      <td>1.06699999999999995</td>\n",
       "      <td>20.50134942156241991</td>\n",
       "      <td>14.79811635896202660</td>\n",
       "      <td>20.50134942156241991</td>\n",
       "      <td>14.79811635896202660</td>\n",
       "    </tr>\n",
       "    <tr>\n",
       "      <th>...</th>\n",
       "      <td>...</td>\n",
       "      <td>...</td>\n",
       "      <td>...</td>\n",
       "      <td>...</td>\n",
       "      <td>...</td>\n",
       "      <td>...</td>\n",
       "      <td>...</td>\n",
       "      <td>...</td>\n",
       "      <td>...</td>\n",
       "      <td>...</td>\n",
       "      <td>...</td>\n",
       "      <td>...</td>\n",
       "      <td>...</td>\n",
       "      <td>...</td>\n",
       "      <td>...</td>\n",
       "      <td>...</td>\n",
       "      <td>...</td>\n",
       "      <td>...</td>\n",
       "    </tr>\n",
       "    <tr>\n",
       "      <th>87470</th>\n",
       "      <td>87471</td>\n",
       "      <td>0</td>\n",
       "      <td>NaN</td>\n",
       "      <td>NaN</td>\n",
       "      <td>NN 4385</td>\n",
       "      <td>NaN</td>\n",
       "      <td>NaN</td>\n",
       "      <td>23.99576657167050087</td>\n",
       "      <td>47.76502088475189822</td>\n",
       "      <td>16.72240802675590032</td>\n",
       "      <td>16.10000000000000142</td>\n",
       "      <td>14.98350591994210035</td>\n",
       "      <td>m</td>\n",
       "      <td>1.87000000000000011</td>\n",
       "      <td>20.66621274243414064</td>\n",
       "      <td>25.73514759308118727</td>\n",
       "      <td>20.66621274243414064</td>\n",
       "      <td>25.73514759308118727</td>\n",
       "    </tr>\n",
       "    <tr>\n",
       "      <th>87471</th>\n",
       "      <td>87472</td>\n",
       "      <td>0</td>\n",
       "      <td>NaN</td>\n",
       "      <td>NaN</td>\n",
       "      <td>NN 4386</td>\n",
       "      <td>NaN</td>\n",
       "      <td>NaN</td>\n",
       "      <td>23.99623552608800026</td>\n",
       "      <td>-44.07164577524810056</td>\n",
       "      <td>18.51851851851850128</td>\n",
       "      <td>12.82000000000000028</td>\n",
       "      <td>11.48196879911479940</td>\n",
       "      <td>M7</td>\n",
       "      <td>1.63999999999999990</td>\n",
       "      <td>18.70789254027188520</td>\n",
       "      <td>-63.09869639345456704</td>\n",
       "      <td>18.70789254027188520</td>\n",
       "      <td>-63.09869639345456704</td>\n",
       "    </tr>\n",
       "    <tr>\n",
       "      <th>87472</th>\n",
       "      <td>87473</td>\n",
       "      <td>0</td>\n",
       "      <td>NaN</td>\n",
       "      <td>NaN</td>\n",
       "      <td>NN 4387</td>\n",
       "      <td>NaN</td>\n",
       "      <td>NaN</td>\n",
       "      <td>23.99672272569850051</td>\n",
       "      <td>-34.10331194355489970</td>\n",
       "      <td>12.82051282051279983</td>\n",
       "      <td>12.80000000000000071</td>\n",
       "      <td>12.26047301345239937</td>\n",
       "      <td>M4</td>\n",
       "      <td>NaN</td>\n",
       "      <td>19.20625162851325740</td>\n",
       "      <td>-53.91034687928420510</td>\n",
       "      <td>19.20625162851325740</td>\n",
       "      <td>-53.91034687928420510</td>\n",
       "    </tr>\n",
       "    <tr>\n",
       "      <th>87473</th>\n",
       "      <td>87474</td>\n",
       "      <td>0</td>\n",
       "      <td>NaN</td>\n",
       "      <td>NaN</td>\n",
       "      <td>Gl 914  B</td>\n",
       "      <td>NaN</td>\n",
       "      <td>NaN</td>\n",
       "      <td>0.03516213542816970</td>\n",
       "      <td>27.09504112338469994</td>\n",
       "      <td>12.40233163834800045</td>\n",
       "      <td>9.00000000000000000</td>\n",
       "      <td>8.53248329899676072</td>\n",
       "      <td>K6 V</td>\n",
       "      <td>NaN</td>\n",
       "      <td>20.39952069999468875</td>\n",
       "      <td>5.41753172979235664</td>\n",
       "      <td>20.39952069999468875</td>\n",
       "      <td>5.41753172979235664</td>\n",
       "    </tr>\n",
       "    <tr>\n",
       "      <th>87474</th>\n",
       "      <td>87475</td>\n",
       "      <td>0</td>\n",
       "      <td>NaN</td>\n",
       "      <td>NaN</td>\n",
       "      <td>Gl 915</td>\n",
       "      <td>NaN</td>\n",
       "      <td>NaN</td>\n",
       "      <td>0.03549154891183900</td>\n",
       "      <td>-43.15662549760330080</td>\n",
       "      <td>7.80031201248050010</td>\n",
       "      <td>13.05000000000000071</td>\n",
       "      <td>13.58944012591400075</td>\n",
       "      <td>DA5</td>\n",
       "      <td>0.07000000000000001</td>\n",
       "      <td>18.82169136104103302</td>\n",
       "      <td>-62.45882946635123290</td>\n",
       "      <td>18.82169136104103302</td>\n",
       "      <td>-62.45882946635123290</td>\n",
       "    </tr>\n",
       "  </tbody>\n",
       "</table>\n",
       "<p>87475 rows × 18 columns</p>\n",
       "</div>"
      ],
      "text/plain": [
       "       StarID  Hip        HD  HR     Gliese BayerFlamsteed ProperName  \\\n",
       "0           1    2  224690.0 NaN        NaN            NaN        NaN   \n",
       "1           2    3  224699.0 NaN        NaN            NaN        NaN   \n",
       "2           3    4  224707.0 NaN        NaN            NaN        NaN   \n",
       "3           4    5  224705.0 NaN        NaN            NaN        NaN   \n",
       "4           5    9  224708.0 NaN        NaN            NaN        NaN   \n",
       "...       ...  ...       ...  ..        ...            ...        ...   \n",
       "87470   87471    0       NaN NaN    NN 4385            NaN        NaN   \n",
       "87471   87472    0       NaN NaN    NN 4386            NaN        NaN   \n",
       "87472   87473    0       NaN NaN    NN 4387            NaN        NaN   \n",
       "87473   87474    0       NaN NaN  Gl 914  B            NaN        NaN   \n",
       "87474   87475    0       NaN NaN     Gl 915            NaN        NaN   \n",
       "\n",
       "                    RAJ2000              DecJ2000               Distance  \\\n",
       "0       0.00025315000000000 -19.49883744999999990   45.66210045662099759   \n",
       "1       0.00033386000000000  38.85928607999999684  355.87188612099600959   \n",
       "2       0.00055878000000000 -51.89354612000000344  129.03225806451598601   \n",
       "3       0.00066435000000000 -40.59122440000000154  348.43205574912900602   \n",
       "4       0.00235612000000000  36.58593777000000102  207.90020790020798813   \n",
       "...                     ...                   ...                    ...   \n",
       "87470  23.99576657167050087  47.76502088475189822   16.72240802675590032   \n",
       "87471  23.99623552608800026 -44.07164577524810056   18.51851851851850128   \n",
       "87472  23.99672272569850051 -34.10331194355489970   12.82051282051279983   \n",
       "87473   0.03516213542816970  27.09504112338469994   12.40233163834800045   \n",
       "87474   0.03549154891183900 -43.15662549760330080    7.80031201248050010   \n",
       "\n",
       "                        Mag                AbsMag Spectrum  \\\n",
       "0       9.26999999999999957   5.97222057420059027      K3V   \n",
       "1       6.61000000000000032  -1.14646840047459997       B9   \n",
       "2       8.06000000000000050   2.50650851253154983      F0V   \n",
       "3       8.55000000000000071   0.83940948366996304    G8III   \n",
       "4       8.58999999999999986   2.00072538186915994       G5   \n",
       "...                     ...                   ...      ...   \n",
       "87470  16.10000000000000142  14.98350591994210035        m   \n",
       "87471  12.82000000000000028  11.48196879911479940       M7   \n",
       "87472  12.80000000000000071  12.26047301345239937       M4   \n",
       "87473   9.00000000000000000   8.53248329899676072     K6 V   \n",
       "87474  13.05000000000000071  13.58944012591400075      DA5   \n",
       "\n",
       "                ColorIndex               RAEpoch              DecEpoch  \\\n",
       "0      0.99900000000000000  19.63801287781020122 -39.97541218501313409   \n",
       "1     -0.01900000000000000  20.53243392784487753  17.02694033261830953   \n",
       "2      0.37000000000000000  18.04389619364439667 -69.86090453021374458   \n",
       "3      0.90200000000000002  18.91884527505292368 -59.96067075935225432   \n",
       "4      1.06699999999999995  20.50134942156241991  14.79811635896202660   \n",
       "...                    ...                   ...                   ...   \n",
       "87470  1.87000000000000011  20.66621274243414064  25.73514759308118727   \n",
       "87471  1.63999999999999990  18.70789254027188520 -63.09869639345456704   \n",
       "87472                  NaN  19.20625162851325740 -53.91034687928420510   \n",
       "87473                  NaN  20.39952069999468875   5.41753172979235664   \n",
       "87474  0.07000000000000001  18.82169136104103302 -62.45882946635123290   \n",
       "\n",
       "               RAEpoch_comp         DecEpoch_comp  \n",
       "0      19.63801287781020122 -39.97541218501313409  \n",
       "1      20.53243392784487753  17.02694033261830953  \n",
       "2      18.04389619364439667 -69.86090453021374458  \n",
       "3      18.91884527505292368 -59.96067075935225432  \n",
       "4      20.50134942156241991  14.79811635896202660  \n",
       "...                     ...                   ...  \n",
       "87470  20.66621274243414064  25.73514759308118727  \n",
       "87471  18.70789254027188520 -63.09869639345456704  \n",
       "87472  19.20625162851325740 -53.91034687928420510  \n",
       "87473  20.39952069999468875   5.41753172979235664  \n",
       "87474  18.82169136104103302 -62.45882946635123290  \n",
       "\n",
       "[87475 rows x 18 columns]"
      ]
     },
     "execution_count": 502,
     "metadata": {},
     "output_type": "execute_result"
    }
   ],
   "source": [
    "SkyCoordinates.precess_coordinates(ALL_STARS.data,mtime,bar=True)"
   ]
  },
  {
   "cell_type": "code",
   "execution_count": 503,
   "metadata": {},
   "outputs": [
    {
     "data": {
      "text/plain": [
       "179"
      ]
     },
     "execution_count": 503,
     "metadata": {},
     "output_type": "execute_result"
    }
   ],
   "source": [
    "selection = ALL_STARS.get_stars(Mag = [-2,3])\n",
    "len(selection.data)"
   ]
  },
  {
   "cell_type": "code",
   "execution_count": 504,
   "metadata": {},
   "outputs": [
    {
     "name": "stderr",
     "output_type": "stream",
     "text": [
      "  0%|          | 0/179 [00:00<?, ?it/s]"
     ]
    },
    {
     "name": "stderr",
     "output_type": "stream",
     "text": [
      "100%|██████████| 179/179 [00:00<00:00, 1422.52it/s]\n",
      "100%|██████████| 179/179 [00:00<00:00, 1240.34it/s]\n"
     ]
    }
   ],
   "source": [
    "from montu import *\n",
    "Montu.load_kernels(PRECISION_KERNELS)\n",
    "earth = PlanetaryBody('Earth')\n",
    "tebas = ObservingSite(planet=earth,lon=33,lat=24,height=0)\n",
    "mtime = MonTime('-2500-01-01 12:00:00')\n",
    "SkyCoordinates.precess_coordinates(selection.data,mtime,inplace=True,bar=True)\n",
    "SkyCoordinates.to_altaz(selection.data,tebas,mtime,inplace=True,bar=True)"
   ]
  },
  {
   "cell_type": "code",
   "execution_count": 505,
   "metadata": {},
   "outputs": [
    {
     "data": {
      "text/html": [
       "<div>\n",
       "<style scoped>\n",
       "    .dataframe tbody tr th:only-of-type {\n",
       "        vertical-align: middle;\n",
       "    }\n",
       "\n",
       "    .dataframe tbody tr th {\n",
       "        vertical-align: top;\n",
       "    }\n",
       "\n",
       "    .dataframe thead th {\n",
       "        text-align: right;\n",
       "    }\n",
       "</style>\n",
       "<table border=\"1\" class=\"dataframe\">\n",
       "  <thead>\n",
       "    <tr style=\"text-align: right;\">\n",
       "      <th></th>\n",
       "      <th>StarID</th>\n",
       "      <th>Hip</th>\n",
       "      <th>HD</th>\n",
       "      <th>HR</th>\n",
       "      <th>Gliese</th>\n",
       "      <th>BayerFlamsteed</th>\n",
       "      <th>ProperName</th>\n",
       "      <th>RAJ2000</th>\n",
       "      <th>DecJ2000</th>\n",
       "      <th>Distance</th>\n",
       "      <th>...</th>\n",
       "      <th>RAEpoch</th>\n",
       "      <th>DecEpoch</th>\n",
       "      <th>RAEpoch_comp</th>\n",
       "      <th>DecEpoch_comp</th>\n",
       "      <th>HA</th>\n",
       "      <th>az</th>\n",
       "      <th>el</th>\n",
       "      <th>HA_comp</th>\n",
       "      <th>az_comp</th>\n",
       "      <th>el_comp</th>\n",
       "    </tr>\n",
       "  </thead>\n",
       "  <tbody>\n",
       "    <tr>\n",
       "      <th>23439</th>\n",
       "      <td>23440</td>\n",
       "      <td>32349</td>\n",
       "      <td>48915.0</td>\n",
       "      <td>2491.0</td>\n",
       "      <td>Gl 244  A</td>\n",
       "      <td>9Alp CMa</td>\n",
       "      <td>Sirius</td>\n",
       "      <td>6.75256939999999961</td>\n",
       "      <td>-16.71314306000000016</td>\n",
       "      <td>2.63706125893305021</td>\n",
       "      <td>...</td>\n",
       "      <td>3.46849440548147836</td>\n",
       "      <td>-22.49260181907088096</td>\n",
       "      <td>3.46849440548147836</td>\n",
       "      <td>-22.49260181907088096</td>\n",
       "      <td>17.40520631733019741</td>\n",
       "      <td>107.69502076475953345</td>\n",
       "      <td>-16.64883804867731243</td>\n",
       "      <td>17.40520631733019741</td>\n",
       "      <td>107.69502076475953345</td>\n",
       "      <td>-16.64883804867731243</td>\n",
       "    </tr>\n",
       "  </tbody>\n",
       "</table>\n",
       "<p>1 rows × 24 columns</p>\n",
       "</div>"
      ],
      "text/plain": [
       "       StarID    Hip       HD      HR     Gliese BayerFlamsteed ProperName  \\\n",
       "23439   23440  32349  48915.0  2491.0  Gl 244  A       9Alp CMa     Sirius   \n",
       "\n",
       "                   RAJ2000              DecJ2000             Distance  ...  \\\n",
       "23439  6.75256939999999961 -16.71314306000000016  2.63706125893305021  ...   \n",
       "\n",
       "                   RAEpoch              DecEpoch         RAEpoch_comp  \\\n",
       "23439  3.46849440548147836 -22.49260181907088096  3.46849440548147836   \n",
       "\n",
       "              DecEpoch_comp                    HA                     az  \\\n",
       "23439 -22.49260181907088096  17.40520631733019741  107.69502076475953345   \n",
       "\n",
       "                         el               HA_comp                az_comp  \\\n",
       "23439 -16.64883804867731243  17.40520631733019741  107.69502076475953345   \n",
       "\n",
       "                    el_comp  \n",
       "23439 -16.64883804867731243  \n",
       "\n",
       "[1 rows x 24 columns]"
      ]
     },
     "execution_count": 505,
     "metadata": {},
     "output_type": "execute_result"
    }
   ],
   "source": [
    "star = selection.get_stars(ProperName = 'Sirius')\n",
    "star.data"
   ]
  },
  {
   "cell_type": "code",
   "execution_count": 506,
   "metadata": {},
   "outputs": [
    {
     "data": {
      "image/png": "[encoded data removed]",
      "text/plain": [
       "<Figure size 800x800 with 1 Axes>"
      ]
     },
     "metadata": {},
     "output_type": "display_data"
    }
   ],
   "source": [
    "fig,ax = selection.plot_stars(suffix='Epoch',pad=0.0,labels=False,figargs=dict(figsize=(8,8)))"
   ]
  },
  {
   "cell_type": "code",
   "execution_count": 507,
   "metadata": {},
   "outputs": [
    {
     "name": "stdout",
     "output_type": "stream",
     "text": [
      "Sirius Coordinates:\n",
      "=======================\n",
      "Montu Time Object:\n",
      "--------------------------\n",
      "Date in proleptic UTC: -2500-01-01 12:00:00.0002\n",
      "Date in mixed UTC: -2500-01-22 12:00:00\n",
      "Date in SPICE format: 2501 B.C. 01-01 12:00:00.200\n",
      "General:\n",
      "    Components: [-1, 2500, 1, 1, 12, 0, 0, 200]\n",
      "    Is bce: True\n",
      "    Is Julian: True\n",
      "Uniform scales:\n",
      "    Terrestrial time:\n",
      "        tt: -142006202700.3199\n",
      "        jtd: 807954.69096852\n",
      "    UTC time:\n",
      "        et: -142006262399.99988\n",
      "        jed: 807954.0\n",
      "    Delta-t = TT - UTC = 59699.68000000001\n",
      "Objects:\n",
      "    Date in datetime64 format: -2500-01-01T12:00:00.000200\n",
      "    Date in PyPlanet Epoch: 807954.0\n",
      "    Date in PyEphem Epoch: -2501/1/22 12:00:00\n",
      "    Date in AstroPy Time: 807954.69096852\n",
      "Astronomical properties at Epoch:\n",
      "    True obliquity of ecliptic: 23:58:33.587\n",
      "    True nutation longitude: 00:00:10.214\n",
      "    Greenwhich Meridian Sidereal Time: 18:40:25.323\n",
      "\n",
      "\n",
      "Coordinates\n",
      "=======================\n",
      "J2000 = 06:45:9.250 / -16:42:47.315\n",
      "Epoch = 03:28:6.580 / -22:29:33.367\n",
      "Hour angle = 17:24:18.743\n",
      "AzAlt = 107:41:42.075 / -16:38:55.817\n",
      "\n"
     ]
    }
   ],
   "source": [
    "star = selection.get_stars(ProperName = 'Sirius')\n",
    "print(f\"\"\"{star.data.iloc[0].ProperName} Coordinates:\n",
    "=======================\n",
    "{mtime}\n",
    "\n",
    "Coordinates\n",
    "=======================\n",
    "J2000 = {D2H(star.data.RAJ2000)} / {D2H(star.data.DecJ2000)}\n",
    "Epoch = {D2H(star.data.RAEpoch)} / {D2H(star.data.DecEpoch)}\n",
    "Hour angle = {D2H(star.data.HA)}\n",
    "AzAlt = {D2H(star.data.az)} / {D2H(star.data.el)}\n",
    "\"\"\")"
   ]
  },
  {
   "cell_type": "markdown",
   "metadata": {},
   "source": [
    "## Create a map in Epoch Coordinates:"
   ]
  },
  {
   "cell_type": "code",
   "execution_count": 508,
   "metadata": {},
   "outputs": [
    {
     "data": {
      "image/png": "[encoded data removed]",
      "text/plain": [
       "<Figure size 800x800 with 1 Axes>"
      ]
     },
     "metadata": {},
     "output_type": "display_data"
    }
   ],
   "source": [
    "star = ALL_STARS.get_stars(ProperName='Aldebaran')\n",
    "area = ALL_STARS.get_stars_area(RA=star.data.RAJ2000,Dec=star.data.DecJ2000,\n",
    "                                suffix='J2000',radius=5,Mag=[-2,5])\n",
    "fig,ax = area.plot_stars(pad=0.0,labels=False,figargs=dict(figsize=(8,8)))"
   ]
  },
  {
   "cell_type": "code",
   "execution_count": 509,
   "metadata": {},
   "outputs": [
    {
     "name": "stderr",
     "output_type": "stream",
     "text": [
      "100%|██████████| 17/17 [00:00<00:00, 611.71it/s]\n"
     ]
    }
   ],
   "source": [
    "SkyCoordinates.precess_coordinates(area.data,mtime,inplace=True,bar=True)"
   ]
  },
  {
   "cell_type": "code",
   "execution_count": 510,
   "metadata": {},
   "outputs": [
    {
     "data": {
      "image/png": "[encoded data removed]",
      "text/plain": [
       "<Figure size 800x800 with 1 Axes>"
      ]
     },
     "metadata": {},
     "output_type": "display_data"
    }
   ],
   "source": [
    "fig,ax = area.plot_stars(suffix='Epoch',pad=0.0,labels=False,figargs=dict(figsize=(8,8)))"
   ]
  },
  {
   "cell_type": "code",
   "execution_count": 511,
   "metadata": {},
   "outputs": [
    {
     "data": {
      "image/png": "[encoded data removed]",
      "text/plain": [
       "<Figure size 800x800 with 1 Axes>"
      ]
     },
     "metadata": {},
     "output_type": "display_data"
    }
   ],
   "source": [
    "fig,ax = area.plot_stars(suffix='J2000',pad=0.0,labels=False,figargs=dict(figsize=(8,8)))"
   ]
  },
  {
   "cell_type": "markdown",
   "metadata": {},
   "source": [
    "## Propagate during several days"
   ]
  },
  {
   "cell_type": "code",
   "execution_count": 518,
   "metadata": {},
   "outputs": [],
   "source": [
    "from montu import *\n",
    "mtime = MonTime('-2500-01-01 12:00:00')\n",
    "Montu.load_kernels(PRECISION_KERNELS)\n",
    "earth = PlanetaryBody('Earth')\n",
    "tebas = ObservingSite(planet=earth,lon=33,lat=24,height=0)"
   ]
  },
  {
   "cell_type": "code",
   "execution_count": 519,
   "metadata": {},
   "outputs": [],
   "source": [
    "star = ALL_STARS.get_stars(ProperName='Aldebaran')\n",
    "area = ALL_STARS.get_stars_area(RA=star.data.RAJ2000,Dec=star.data.DecJ2000,\n",
    "                                suffix='J2000',radius=5,Mag=[-2,5])"
   ]
  },
  {
   "cell_type": "code",
   "execution_count": 520,
   "metadata": {},
   "outputs": [],
   "source": [
    "SkyCoordinates.precess_coordinates(star.data,mtime,inplace=True)"
   ]
  },
  {
   "cell_type": "code",
   "execution_count": 466,
   "metadata": {},
   "outputs": [
    {
     "data": {
      "text/html": [
       "<div>\n",
       "<style scoped>\n",
       "    .dataframe tbody tr th:only-of-type {\n",
       "        vertical-align: middle;\n",
       "    }\n",
       "\n",
       "    .dataframe tbody tr th {\n",
       "        vertical-align: top;\n",
       "    }\n",
       "\n",
       "    .dataframe thead th {\n",
       "        text-align: right;\n",
       "    }\n",
       "</style>\n",
       "<table border=\"1\" class=\"dataframe\">\n",
       "  <thead>\n",
       "    <tr style=\"text-align: right;\">\n",
       "      <th></th>\n",
       "      <th>tt</th>\n",
       "      <th>HA</th>\n",
       "      <th>az</th>\n",
       "      <th>el</th>\n",
       "    </tr>\n",
       "  </thead>\n",
       "  <tbody>\n",
       "    <tr>\n",
       "      <th>0</th>\n",
       "      <td>-126227808000.0</td>\n",
       "      <td>7.23624325556572323</td>\n",
       "      <td>275.42800309233916778</td>\n",
       "      <td>-17.92249396838808906</td>\n",
       "    </tr>\n",
       "    <tr>\n",
       "      <th>1</th>\n",
       "      <td>-126227721600.0</td>\n",
       "      <td>7.30195200540426015</td>\n",
       "      <td>275.85830712539433307</td>\n",
       "      <td>-18.81854752361516603</td>\n",
       "    </tr>\n",
       "    <tr>\n",
       "      <th>2</th>\n",
       "      <td>-126227635200.0</td>\n",
       "      <td>7.36766075524279529</td>\n",
       "      <td>276.29251816395185415</td>\n",
       "      <td>-19.71390764582930899</td>\n",
       "    </tr>\n",
       "    <tr>\n",
       "      <th>3</th>\n",
       "      <td>-126227548800.0</td>\n",
       "      <td>7.43336950508133043</td>\n",
       "      <td>276.73091134317098749</td>\n",
       "      <td>-20.60851617228598798</td>\n",
       "    </tr>\n",
       "    <tr>\n",
       "      <th>4</th>\n",
       "      <td>-126227462400.0</td>\n",
       "      <td>7.49907825491986557</td>\n",
       "      <td>277.17377106347180415</td>\n",
       "      <td>-21.50231300871219986</td>\n",
       "    </tr>\n",
       "    <tr>\n",
       "      <th>...</th>\n",
       "      <td>...</td>\n",
       "      <td>...</td>\n",
       "      <td>...</td>\n",
       "      <td>...</td>\n",
       "    </tr>\n",
       "    <tr>\n",
       "      <th>96</th>\n",
       "      <td>-126219513600.0</td>\n",
       "      <td>13.54428324006494222</td>\n",
       "      <td>49.60864647639316161</td>\n",
       "      <td>-58.93557250408263570</td>\n",
       "    </tr>\n",
       "    <tr>\n",
       "      <th>97</th>\n",
       "      <td>-126219427200.0</td>\n",
       "      <td>13.60999198990339210</td>\n",
       "      <td>50.95183071803244701</td>\n",
       "      <td>-58.24296115604111179</td>\n",
       "    </tr>\n",
       "    <tr>\n",
       "      <th>98</th>\n",
       "      <td>-126219340800.0</td>\n",
       "      <td>13.67570073974184197</td>\n",
       "      <td>52.24404607752102692</td>\n",
       "      <td>-57.53730333177849587</td>\n",
       "    </tr>\n",
       "    <tr>\n",
       "      <th>99</th>\n",
       "      <td>-126219254400.0</td>\n",
       "      <td>13.74140948958074659</td>\n",
       "      <td>53.48772266554968979</td>\n",
       "      <td>-56.81944384416588179</td>\n",
       "    </tr>\n",
       "    <tr>\n",
       "      <th>100</th>\n",
       "      <td>-126219168000.0</td>\n",
       "      <td>13.80711823941919647</td>\n",
       "      <td>54.68523058987448593</td>\n",
       "      <td>-56.09017034258144463</td>\n",
       "    </tr>\n",
       "  </tbody>\n",
       "</table>\n",
       "<p>101 rows × 4 columns</p>\n",
       "</div>"
      ],
      "text/plain": [
       "                 tt                    HA                     az  \\\n",
       "0   -126227808000.0   7.23624325556572323  275.42800309233916778   \n",
       "1   -126227721600.0   7.30195200540426015  275.85830712539433307   \n",
       "2   -126227635200.0   7.36766075524279529  276.29251816395185415   \n",
       "3   -126227548800.0   7.43336950508133043  276.73091134317098749   \n",
       "4   -126227462400.0   7.49907825491986557  277.17377106347180415   \n",
       "..              ...                   ...                    ...   \n",
       "96  -126219513600.0  13.54428324006494222   49.60864647639316161   \n",
       "97  -126219427200.0  13.60999198990339210   50.95183071803244701   \n",
       "98  -126219340800.0  13.67570073974184197   52.24404607752102692   \n",
       "99  -126219254400.0  13.74140948958074659   53.48772266554968979   \n",
       "100 -126219168000.0  13.80711823941919647   54.68523058987448593   \n",
       "\n",
       "                       el  \n",
       "0   -17.92249396838808906  \n",
       "1   -18.81854752361516603  \n",
       "2   -19.71390764582930899  \n",
       "3   -20.60851617228598798  \n",
       "4   -21.50231300871219986  \n",
       "..                    ...  \n",
       "96  -58.93557250408263570  \n",
       "97  -58.24296115604111179  \n",
       "98  -57.53730333177849587  \n",
       "99  -56.81944384416588179  \n",
       "100 -56.09017034258144463  \n",
       "\n",
       "[101 rows x 4 columns]"
      ]
     },
     "execution_count": 466,
     "metadata": {},
     "output_type": "execute_result"
    }
   ],
   "source": [
    "mtime = MonTime('-2000-01-01 12:00:00',scale='tt')\n",
    "tai2sid = MonTime.tai_to_sid(mtime)\n",
    "daily_df = SkyCoordinates.daily_motion(star.data,tebas,mtime,duration=100*DAY,deltat=1*DAY,tai2sid=tai2sid)\n",
    "daily_df"
   ]
  },
  {
   "cell_type": "markdown",
   "metadata": {},
   "source": [
    "Verify:"
   ]
  },
  {
   "cell_type": "code",
   "execution_count": 521,
   "metadata": {},
   "outputs": [
    {
     "data": {
      "text/plain": [
       "(MonTime('-2000-03-30 23:02:04.3200'/'-2000-04-16 23:02:02'),\n",
       " '13:09:0.111',\n",
       " '40:20:26.731',\n",
       " '-62:45:43.292')"
      ]
     },
     "execution_count": 521,
     "metadata": {},
     "output_type": "execute_result"
    }
   ],
   "source": [
    "isel = 90\n",
    "MonTime(daily_df.iloc[isel].tt), D2H(daily_df.iloc[isel].HA), D2H(daily_df.iloc[isel].az), D2H(daily_df.iloc[isel].el), "
   ]
  },
  {
   "cell_type": "markdown",
   "metadata": {},
   "source": [
    "Compare with rigorous calculation:"
   ]
  },
  {
   "cell_type": "code",
   "execution_count": 523,
   "metadata": {},
   "outputs": [
    {
     "data": {
      "text/plain": [
       "('13:09:0.368', '40:20:33.535', '-62:45:41.005')"
      ]
     },
     "execution_count": 523,
     "metadata": {},
     "output_type": "execute_result"
    }
   ],
   "source": [
    "df_ind = SkyCoordinates.to_altaz(star.data,tebas,MonTime(daily_df.iloc[isel].tt))\n",
    "D2H(df_ind.iloc[-1].HA), D2H(df_ind.iloc[-1].az), D2H(df_ind.iloc[-1].el), "
   ]
  },
  {
   "cell_type": "code",
   "execution_count": 524,
   "metadata": {},
   "outputs": [
    {
     "name": "stdout",
     "output_type": "stream",
     "text": [
      "896 µs ± 94.7 µs per loop (mean ± std. dev. of 7 runs, 1,000 loops each)\n"
     ]
    }
   ],
   "source": [
    "%timeit SkyCoordinates.daily_motion(star.data,tebas,mtime)"
   ]
  },
  {
   "cell_type": "markdown",
   "metadata": {},
   "source": [
    "## Tai2Sid"
   ]
  },
  {
   "cell_type": "code",
   "execution_count": 525,
   "metadata": {},
   "outputs": [
    {
     "name": "stderr",
     "output_type": "stream",
     "text": [
      "100%|██████████| 1000/1000 [00:04<00:00, 234.97it/s]\n"
     ]
    },
    {
     "data": {
      "text/plain": [
       "1.0027385131317785"
      ]
     },
     "execution_count": 525,
     "metadata": {},
     "output_type": "execute_result"
    }
   ],
   "source": [
    "tt_ini = MonTime('-3000-01-01').tt\n",
    "tt_end = MonTime('3000-01-01').tt\n",
    "t2s = []\n",
    "for tt in tqdm.tqdm(np.linspace(tt_ini,tt_end,1000)):\n",
    "    mtime = MonTime(tt)\n",
    "    t2s += [MonTime.tai_to_sid(mtime)]\n",
    "tai_to_sid = np.mean(t2s)\n",
    "tai_to_sid"
   ]
  },
  {
   "cell_type": "code",
   "execution_count": 526,
   "metadata": {},
   "outputs": [
    {
     "name": "stdout",
     "output_type": "stream",
     "text": [
      "3.63 ms ± 614 µs per loop (mean ± std. dev. of 7 runs, 100 loops each)\n"
     ]
    }
   ],
   "source": [
    "%timeit MonTime.tai_to_sid(mtime)"
   ]
  },
  {
   "cell_type": "markdown",
   "metadata": {},
   "source": [
    "## Evolution of pole stars"
   ]
  },
  {
   "cell_type": "code",
   "execution_count": 1,
   "metadata": {},
   "outputs": [],
   "source": [
    "# Montu packages and data\n",
    "from montu import *\n",
    "\n",
    "# These magic commands are intended to allow updating the packages if they change\n",
    "%load_ext autoreload\n",
    "%autoreload 2"
   ]
  },
  {
   "cell_type": "markdown",
   "metadata": {},
   "source": [
    "Choose from database all bright stars that according to [wikipedia](https://en.wikipedia.org/wiki/Pole_star#Precession_of_the_equinoxes) were or will be close to the celestial North pole:"
   ]
  },
  {
   "cell_type": "code",
   "execution_count": 2,
   "metadata": {},
   "outputs": [
    {
     "data": {
      "text/html": [
       "<div>\n",
       "<style scoped>\n",
       "    .dataframe tbody tr th:only-of-type {\n",
       "        vertical-align: middle;\n",
       "    }\n",
       "\n",
       "    .dataframe tbody tr th {\n",
       "        vertical-align: top;\n",
       "    }\n",
       "\n",
       "    .dataframe thead th {\n",
       "        text-align: right;\n",
       "    }\n",
       "</style>\n",
       "<table border=\"1\" class=\"dataframe\">\n",
       "  <thead>\n",
       "    <tr style=\"text-align: right;\">\n",
       "      <th></th>\n",
       "      <th>StarID</th>\n",
       "      <th>Hip</th>\n",
       "      <th>HD</th>\n",
       "      <th>HR</th>\n",
       "      <th>Gliese</th>\n",
       "      <th>BayerFlamsteed</th>\n",
       "      <th>ProperName</th>\n",
       "      <th>RAJ2000</th>\n",
       "      <th>DecJ2000</th>\n",
       "      <th>Distance</th>\n",
       "      <th>Mag</th>\n",
       "      <th>AbsMag</th>\n",
       "      <th>Spectrum</th>\n",
       "      <th>ColorIndex</th>\n",
       "    </tr>\n",
       "  </thead>\n",
       "  <tbody>\n",
       "    <tr>\n",
       "      <th>8221</th>\n",
       "      <td>8222</td>\n",
       "      <td>11767</td>\n",
       "      <td>8890.0</td>\n",
       "      <td>424.0</td>\n",
       "      <td>NaN</td>\n",
       "      <td>1Alp UMi</td>\n",
       "      <td>Polaris</td>\n",
       "      <td>2.52974312000000001</td>\n",
       "      <td>89.26413804999999968</td>\n",
       "      <td>132.27513227513199467</td>\n",
       "      <td>1.96999999999999997</td>\n",
       "      <td>-3.63739102249396984</td>\n",
       "      <td>F7:Ib-IIv SB</td>\n",
       "      <td>0.63600000000000001</td>\n",
       "    </tr>\n",
       "    <tr>\n",
       "      <th>50003</th>\n",
       "      <td>50004</td>\n",
       "      <td>68756</td>\n",
       "      <td>123299.0</td>\n",
       "      <td>5291.0</td>\n",
       "      <td>NaN</td>\n",
       "      <td>11Alp Dra</td>\n",
       "      <td>Thuban</td>\n",
       "      <td>14.07317388999999963</td>\n",
       "      <td>64.37580873000000281</td>\n",
       "      <td>94.69696969696970257</td>\n",
       "      <td>3.66999999999999993</td>\n",
       "      <td>-1.21168040901103002</td>\n",
       "      <td>A0III SB</td>\n",
       "      <td>-0.04900000000000000</td>\n",
       "    </tr>\n",
       "    <tr>\n",
       "      <th>52553</th>\n",
       "      <td>52554</td>\n",
       "      <td>72607</td>\n",
       "      <td>131873.0</td>\n",
       "      <td>5563.0</td>\n",
       "      <td>NaN</td>\n",
       "      <td>7Bet UMi</td>\n",
       "      <td>Kochab</td>\n",
       "      <td>14.84510983000000017</td>\n",
       "      <td>74.15547596000000397</td>\n",
       "      <td>38.77471888328810223</td>\n",
       "      <td>2.06999999999999984</td>\n",
       "      <td>-0.87274328931031198</td>\n",
       "      <td>K4IIIvar</td>\n",
       "      <td>1.46500000000000008</td>\n",
       "    </tr>\n",
       "    <tr>\n",
       "      <th>65794</th>\n",
       "      <td>65795</td>\n",
       "      <td>91262</td>\n",
       "      <td>172167.0</td>\n",
       "      <td>7001.0</td>\n",
       "      <td>Gl 721</td>\n",
       "      <td>3Alp Lyr</td>\n",
       "      <td>Vega</td>\n",
       "      <td>18.61560722000000112</td>\n",
       "      <td>38.78299310999999960</td>\n",
       "      <td>7.75614674629643996</td>\n",
       "      <td>0.03000000000000000</td>\n",
       "      <td>0.58176991332001105</td>\n",
       "      <td>A0Vvar</td>\n",
       "      <td>-0.00100000000000000</td>\n",
       "    </tr>\n",
       "    <tr>\n",
       "      <th>74083</th>\n",
       "      <td>74084</td>\n",
       "      <td>102098</td>\n",
       "      <td>197345.0</td>\n",
       "      <td>7924.0</td>\n",
       "      <td>NaN</td>\n",
       "      <td>50Alp Cyg</td>\n",
       "      <td>Deneb</td>\n",
       "      <td>20.69053150999999957</td>\n",
       "      <td>45.28033423000000113</td>\n",
       "      <td>990.09900990099004048</td>\n",
       "      <td>1.25000000000000000</td>\n",
       "      <td>-8.72839313108677928</td>\n",
       "      <td>A2Ia</td>\n",
       "      <td>0.09200000000000000</td>\n",
       "    </tr>\n",
       "    <tr>\n",
       "      <th>76422</th>\n",
       "      <td>76423</td>\n",
       "      <td>105199</td>\n",
       "      <td>203280.0</td>\n",
       "      <td>8162.0</td>\n",
       "      <td>Gl 826</td>\n",
       "      <td>5Alp Cep</td>\n",
       "      <td>Alderamin</td>\n",
       "      <td>21.30960598000000061</td>\n",
       "      <td>62.58545528999999874</td>\n",
       "      <td>14.96110113704370015</td>\n",
       "      <td>2.45000000000000018</td>\n",
       "      <td>1.57518220610676996</td>\n",
       "      <td>A7IV-V</td>\n",
       "      <td>0.25700000000000001</td>\n",
       "    </tr>\n",
       "  </tbody>\n",
       "</table>\n",
       "</div>"
      ],
      "text/plain": [
       "       StarID     Hip        HD      HR  Gliese BayerFlamsteed ProperName  \\\n",
       "8221     8222   11767    8890.0   424.0     NaN       1Alp UMi    Polaris   \n",
       "50003   50004   68756  123299.0  5291.0     NaN      11Alp Dra     Thuban   \n",
       "52553   52554   72607  131873.0  5563.0     NaN       7Bet UMi     Kochab   \n",
       "65794   65795   91262  172167.0  7001.0  Gl 721       3Alp Lyr       Vega   \n",
       "74083   74084  102098  197345.0  7924.0     NaN      50Alp Cyg      Deneb   \n",
       "76422   76423  105199  203280.0  8162.0  Gl 826       5Alp Cep  Alderamin   \n",
       "\n",
       "                    RAJ2000              DecJ2000               Distance  \\\n",
       "8221    2.52974312000000001  89.26413804999999968  132.27513227513199467   \n",
       "50003  14.07317388999999963  64.37580873000000281   94.69696969696970257   \n",
       "52553  14.84510983000000017  74.15547596000000397   38.77471888328810223   \n",
       "65794  18.61560722000000112  38.78299310999999960    7.75614674629643996   \n",
       "74083  20.69053150999999957  45.28033423000000113  990.09900990099004048   \n",
       "76422  21.30960598000000061  62.58545528999999874   14.96110113704370015   \n",
       "\n",
       "                       Mag               AbsMag      Spectrum  \\\n",
       "8221   1.96999999999999997 -3.63739102249396984  F7:Ib-IIv SB   \n",
       "50003  3.66999999999999993 -1.21168040901103002      A0III SB   \n",
       "52553  2.06999999999999984 -0.87274328931031198      K4IIIvar   \n",
       "65794  0.03000000000000000  0.58176991332001105        A0Vvar   \n",
       "74083  1.25000000000000000 -8.72839313108677928          A2Ia   \n",
       "76422  2.45000000000000018  1.57518220610676996        A7IV-V   \n",
       "\n",
       "                ColorIndex  \n",
       "8221   0.63600000000000001  \n",
       "50003 -0.04900000000000000  \n",
       "52553  1.46500000000000008  \n",
       "65794 -0.00100000000000000  \n",
       "74083  0.09200000000000000  \n",
       "76422  0.25700000000000001  "
      ]
     },
     "execution_count": 2,
     "metadata": {},
     "output_type": "execute_result"
    }
   ],
   "source": [
    "star_names = ('Polaris','Vega','Thuban','Deneb','Alderamin','Kochab')\n",
    "stars = ALL_STARS.get_stars(ProperName=star_names)\n",
    "stars.data"
   ]
  },
  {
   "cell_type": "markdown",
   "metadata": {},
   "source": [
    "Now precess the position of all stars from -20 000 to 20 000 years from 2000:"
   ]
  },
  {
   "cell_type": "code",
   "execution_count": 11,
   "metadata": {},
   "outputs": [
    {
     "name": "stderr",
     "output_type": "stream",
     "text": [
      "100%|██████████| 1000/1000 [00:07<00:00, 135.86it/s]\n"
     ]
    }
   ],
   "source": [
    "now = MonTime()\n",
    "df = pd.DataFrame()\n",
    "for dt in tqdm.tqdm(np.linspace(-20000*YEAR,20000*YEAR,1000)):\n",
    "    past = now + dt\n",
    "    pstars = SkyCoordinates.precess_coordinates(stars.data,past)\n",
    "\n",
    "    row = dict(tt = past.tt)\n",
    "    for star in star_names:\n",
    "        row.update({star:float(pstars[pstars.ProperName == star].DecEpoch)})\n",
    "    df = pd.concat([df,pd.DataFrame([row])])"
   ]
  },
  {
   "cell_type": "markdown",
   "metadata": {},
   "source": [
    "Now plot declinations as a function of time:"
   ]
  },
  {
   "cell_type": "code",
   "execution_count": 12,
   "metadata": {},
   "outputs": [
    {
     "data": {
      "image/png": "[encoded data removed]",
      "text/plain": [
       "<Figure size 720x432 with 1 Axes>"
      ]
     },
     "metadata": {
      "needs_background": "light"
     },
     "output_type": "display_data"
    }
   ],
   "source": [
    "fig,ax = plt.subplots(figsize=(10,6))\n",
    "for star in star_names:\n",
    "    ax.plot(df['tt'],df[star],label=star)\n",
    "\n",
    "ax.legend(loc='lower center',ncol=len(star_names))\n",
    "ax.set_xlabel(\"Time [year]\")\n",
    "ax.set_ylabel(\"Declination [deg]\")\n",
    "ax.margins(0)\n",
    "MonTime.set_time_ticks(ax)"
   ]
  },
  {
   "cell_type": "markdown",
   "metadata": {},
   "source": [
    "Check date when star is close to the pole:"
   ]
  },
  {
   "cell_type": "code",
   "execution_count": 13,
   "metadata": {},
   "outputs": [
    {
     "name": "stdout",
     "output_type": "stream",
     "text": [
      "Star Polaris will be the closest to the pole at 2083-11-07 23:25:59.5813 (declination 89:31:51.354)\n",
      "Star Vega will be the closest to the pole at 11692 B.C. 10-12 08:20:37.619000 (declination 87:24:10.508)\n",
      "Star Thuban will be the closest to the pole at 2803 B.C. 11-12 23:35:40.709700 (declination 89:54:19.213)\n",
      "Star Deneb will be the closest to the pole at 14735 B.C. 08-30 11:40:55.71900 (declination 86:57:22.016)\n",
      "Star Alderamin will be the closest to the pole at 7569-06-13 07:52:18.7355 (declination 87:55:56.040)\n",
      "Star Kochab will be the closest to the pole at 1041 B.C. 08-30 22:55:00.192000 (declination 83:30:4.833)\n"
     ]
    }
   ],
   "source": [
    "for star in star_names:\n",
    "    imax = df[star].argmax()\n",
    "    mtime = MonTime(df.iloc[imax].tt)\n",
    "    print(f\"Star {star} will be the closest to the pole at {mtime.datespice} (declination {D2H(df.iloc[imax][star])})\")"
   ]
  },
  {
   "cell_type": "code",
   "execution_count": 7,
   "metadata": {},
   "outputs": [
    {
     "data": {
      "text/plain": [
       "MonTime('2023-10-17 00:57:54.8065'/'2023-10-17 00:57:57')"
      ]
     },
     "execution_count": 7,
     "metadata": {},
     "output_type": "execute_result"
    }
   ],
   "source": [
    "MonTime()"
   ]
  },
  {
   "cell_type": "code",
   "execution_count": null,
   "metadata": {},
   "outputs": [],
   "source": []
  }
 ],
 "metadata": {
  "kernelspec": {
   "display_name": "base",
   "language": "python",
   "name": "python3"
  },
  "language_info": {
   "codemirror_mode": {
    "name": "ipython",
    "version": 3
   },
   "file_extension": ".py",
   "mimetype": "text/x-python",
   "name": "python",
   "nbconvert_exporter": "python",
   "pygments_lexer": "ipython3",
   "version": "3.9.7"
  }
 },
 "nbformat": 4,
 "nbformat_minor": 2
}
