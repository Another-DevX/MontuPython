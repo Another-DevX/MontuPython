{
 "cells": [
  {
   "cell_type": "code",
   "execution_count": 1,
   "metadata": {},
   "outputs": [],
   "source": [
    "# Montu packages and data\n",
    "from montu import *\n",
    "Montu.load_kernels(verbose=False)\n",
    "allstars=Stars()\n",
    "\n",
    "# External packages\n",
    "import plotly.express as px\n",
    "\n",
    "# These magic commands are intended to allow updating the packages if they change\n",
    "%load_ext autoreload\n",
    "%autoreload 2"
   ]
  },
  {
   "cell_type": "code",
   "execution_count": 2,
   "metadata": {},
   "outputs": [
    {
     "data": {
      "text/plain": [
       "[<matplotlib.lines.Line2D at 0x7f907c1ddf10>]"
      ]
     },
     "execution_count": 2,
     "metadata": {},
     "output_type": "execute_result"
    },
    {
     "data": {
      "image/png": "[encoded data removed]",
      "text/plain": [
       "<Figure size 432x288 with 1 Axes>"
      ]
     },
     "metadata": {
      "needs_background": "light"
     },
     "output_type": "display_data"
    }
   ],
   "source": [
    "plt.plot(0,0)"
   ]
  },
  {
   "cell_type": "code",
   "execution_count": null,
   "metadata": {},
   "outputs": [],
   "source": []
  },
  {
   "cell_type": "code",
   "execution_count": null,
   "metadata": {},
   "outputs": [],
   "source": []
  },
  {
   "cell_type": "code",
   "execution_count": null,
   "metadata": {},
   "outputs": [],
   "source": []
  },
  {
   "cell_type": "code",
   "execution_count": 5,
   "metadata": {},
   "outputs": [],
   "source": [
    "logging.getLogger('requests').setLevel(logging.ERROR)"
   ]
  },
  {
   "cell_type": "code",
   "execution_count": 6,
   "metadata": {},
   "outputs": [],
   "source": [
    "class MyFilter(logging.Filter):\n",
    "    def filter(self, record):\n",
    "        if record.name != 'BBProposalGenerator':\n",
    "            return False\n",
    "        return True\n",
    "\n",
    "class MyLogger(logging.Logger):\n",
    "    def __init__(self, name):\n",
    "        logging.Logger.__init__(self, name)\n",
    "        self.addFilter(MyFilter())"
   ]
  },
  {
   "cell_type": "code",
   "execution_count": 7,
   "metadata": {},
   "outputs": [],
   "source": [
    "logging.setLoggerClass(MyLogger)\n",
    "logging.basicConfig(level=logging.INFO)"
   ]
  },
  {
   "cell_type": "code",
   "execution_count": 8,
   "metadata": {},
   "outputs": [],
   "source": [
    "logging.basicConfig()"
   ]
  },
  {
   "cell_type": "code",
   "execution_count": 9,
   "metadata": {},
   "outputs": [
    {
     "name": "stdout",
     "output_type": "stream",
     "text": [
      "\u001b[0;31mInit signature:\u001b[0m \u001b[0mpyplanets_Mars\u001b[0m\u001b[0;34m(\u001b[0m\u001b[0mepoch\u001b[0m\u001b[0;34m)\u001b[0m\u001b[0;34m\u001b[0m\u001b[0;34m\u001b[0m\u001b[0m\n",
      "\u001b[0;31mDocstring:\u001b[0m      Class Mars models that planet.\n",
      "\u001b[0;31mInit docstring:\u001b[0m\n",
      "Initializes an object of type planet for a given date (epoch) with\n",
      " its orbital parameters (ephemeredes) given by VSOP87.\n",
      "\n",
      ":param epoch: Epoch to which all computations of this instance refer, as an Epoch object\n",
      ":type epoch: :py:class:`Epoch`\n",
      ":raises: TypeError if epoch is of wrong type.\n",
      "\u001b[0;31mFile:\u001b[0m           ~/opt/anaconda3/lib/python3.9/site-packages/pyplanets/planets/mars.py\n",
      "\u001b[0;31mType:\u001b[0m           ABCMeta\n",
      "\u001b[0;31mSubclasses:\u001b[0m     \n"
     ]
    }
   ],
   "source": [
    "pyplanets_Mars?"
   ]
  },
  {
   "cell_type": "code",
   "execution_count": null,
   "metadata": {},
   "outputs": [],
   "source": []
  },
  {
   "cell_type": "code",
   "execution_count": null,
   "metadata": {},
   "outputs": [],
   "source": []
  },
  {
   "cell_type": "code",
   "execution_count": null,
   "metadata": {},
   "outputs": [],
   "source": []
  },
  {
   "cell_type": "code",
   "execution_count": null,
   "metadata": {},
   "outputs": [],
   "source": []
  },
  {
   "cell_type": "code",
   "execution_count": null,
   "metadata": {},
   "outputs": [],
   "source": []
  },
  {
   "cell_type": "markdown",
   "metadata": {},
   "source": [
    "## Playing ground"
   ]
  },
  {
   "cell_type": "code",
   "execution_count": 10,
   "metadata": {},
   "outputs": [
    {
     "ename": "NameError",
     "evalue": "name 'mtime' is not defined",
     "output_type": "error",
     "traceback": [
      "\u001b[0;31m---------------------------------------------------------------------------\u001b[0m",
      "\u001b[0;31mNameError\u001b[0m                                 Traceback (most recent call last)",
      "\u001b[1;32m/Users/jorgezuluagacallejas/Dropbox/MiInvestigacion/EgyptianAstronomy/MontuPython/dev/attic.ipynb Celda 16\u001b[0m line \u001b[0;36m<module>\u001b[0;34m\u001b[0m\n\u001b[0;32m----> <a href='vscode-notebook-cell:/Users/jorgezuluagacallejas/Dropbox/MiInvestigacion/EgyptianAstronomy/MontuPython/dev/attic.ipynb#W1sZmlsZQ%3D%3D?line=0'>1</a>\u001b[0m mtime\u001b[39m.\u001b[39myear\n",
      "\u001b[0;31mNameError\u001b[0m: name 'mtime' is not defined"
     ]
    }
   ],
   "source": [
    "mtime.year"
   ]
  },
  {
   "cell_type": "code",
   "execution_count": null,
   "metadata": {},
   "outputs": [
    {
     "data": {
      "text/plain": [
       "(2460389.6294248905, 2460482.368788595, 2460576.030233927, 2460665.88912785)"
      ]
     },
     "metadata": {},
     "output_type": "display_data"
    }
   ],
   "source": [
    "mtime = MonTime('2023-12-25 00:00:00.00')\n",
    "eqsols = MonTime.next_equinoxes_solstices(mtime)\n",
    "eqsols"
   ]
  },
  {
   "cell_type": "code",
   "execution_count": null,
   "metadata": {},
   "outputs": [
    {
     "data": {
      "text/plain": [
       "('2024-03-20 03:06:22',\n",
       " '2024-06-20 20:51:03',\n",
       " '2024-09-22 12:43:32',\n",
       " '2024-12-21 09:20:21')"
      ]
     },
     "metadata": {},
     "output_type": "display_data"
    }
   ],
   "source": [
    "(MonTime(eqsols[0],format='jd').datemixed, \n",
    " MonTime(eqsols[1],format='jd').datemixed, \n",
    " MonTime(eqsols[2],format='jd').datemixed, \n",
    " MonTime(eqsols[3],format='jd').datemixed)"
   ]
  },
  {
   "cell_type": "code",
   "execution_count": null,
   "metadata": {},
   "outputs": [],
   "source": []
  },
  {
   "cell_type": "code",
   "execution_count": null,
   "metadata": {},
   "outputs": [],
   "source": [
    "print()"
   ]
  },
  {
   "cell_type": "code",
   "execution_count": null,
   "metadata": {},
   "outputs": [
    {
     "data": {
      "text/html": [
       "<div>\n",
       "<style scoped>\n",
       "    .dataframe tbody tr th:only-of-type {\n",
       "        vertical-align: middle;\n",
       "    }\n",
       "\n",
       "    .dataframe tbody tr th {\n",
       "        vertical-align: top;\n",
       "    }\n",
       "\n",
       "    .dataframe thead th {\n",
       "        text-align: right;\n",
       "    }\n",
       "</style>\n",
       "<table border=\"1\" class=\"dataframe\">\n",
       "  <thead>\n",
       "    <tr style=\"text-align: right;\">\n",
       "      <th></th>\n",
       "      <th>datetime64</th>\n",
       "      <th>tt</th>\n",
       "      <th>jtd</th>\n",
       "      <th>jed</th>\n",
       "      <th>RAJ2000</th>\n",
       "      <th>DecJ2000</th>\n",
       "      <th>RAEpoch</th>\n",
       "      <th>DecEpoch</th>\n",
       "      <th>LonJ2000</th>\n",
       "      <th>LatJ2000</th>\n",
       "      <th>...</th>\n",
       "      <th>RAEpoch_SPICE</th>\n",
       "      <th>DecEpoch_SPICE</th>\n",
       "      <th>LonJ2000_SPICE</th>\n",
       "      <th>LatJ2000_SPICE</th>\n",
       "      <th>LonEpoch_SPICE</th>\n",
       "      <th>LatEpoch_SPICE</th>\n",
       "      <th>tsa_SPICE</th>\n",
       "      <th>HA_SPICE</th>\n",
       "      <th>az_SPICE</th>\n",
       "      <th>el_SPICE</th>\n",
       "    </tr>\n",
       "  </thead>\n",
       "  <tbody>\n",
       "    <tr>\n",
       "      <th>0</th>\n",
       "      <td>3213-05-23 08:40:08.356600</td>\n",
       "      <td>-1.10468511118712234e+11</td>\n",
       "      <td>1.17297426945934934e+06</td>\n",
       "      <td>1.17297386120783072e+06</td>\n",
       "      <td>21.79958859185602549</td>\n",
       "      <td>-18.41698276155005942</td>\n",
       "      <td>18.33440565294429447</td>\n",
       "      <td>-28.32108907341635629</td>\n",
       "      <td>322.98719769285384018</td>\n",
       "      <td>-4.83447021274728250</td>\n",
       "      <td>...</td>\n",
       "      <td>18.33440565294429447</td>\n",
       "      <td>-28.32108907341635629</td>\n",
       "      <td>322.98719769285384018</td>\n",
       "      <td>-4.83447021274728250</td>\n",
       "      <td>274.42826876076134113</td>\n",
       "      <td>-4.53112153210888913</td>\n",
       "      <td>2.91293893567987894</td>\n",
       "      <td>8.57853328273558446</td>\n",
       "      <td>253.03589704288441453</td>\n",
       "      <td>-44.07009205319893397</td>\n",
       "    </tr>\n",
       "    <tr>\n",
       "      <th>1</th>\n",
       "      <td>3213-07-22 19:30:06.843000</td>\n",
       "      <td>-1.10463288120984482e+11</td>\n",
       "      <td>1.17303472082193894e+06</td>\n",
       "      <td>1.17303431257042033e+06</td>\n",
       "      <td>21.15315028407551878</td>\n",
       "      <td>-22.95794543348144501</td>\n",
       "      <td>17.56819900095279152</td>\n",
       "      <td>-29.66244477333404106</td>\n",
       "      <td>312.90338735312661811</td>\n",
       "      <td>-6.28456375094451403</td>\n",
       "      <td>...</td>\n",
       "      <td>17.56819900095279152</td>\n",
       "      <td>-29.66244477333404106</td>\n",
       "      <td>312.90338735312661811</td>\n",
       "      <td>-6.28456375094451403</td>\n",
       "      <td>264.34441170386719477</td>\n",
       "      <td>-5.92333090757559599</td>\n",
       "      <td>17.71790649864441747</td>\n",
       "      <td>0.14970749769162595</td>\n",
       "      <td>182.42115196087635809</td>\n",
       "      <td>36.29420599042309448</td>\n",
       "    </tr>\n",
       "    <tr>\n",
       "      <th>2</th>\n",
       "      <td>3215-07-28 08:52:36.801000</td>\n",
       "      <td>-1.10399736013484650e+11</td>\n",
       "      <td>1.17377027762170555e+06</td>\n",
       "      <td>1.17376986986203887e+06</td>\n",
       "      <td>2.34488802177393874</td>\n",
       "      <td>9.36523068424027905</td>\n",
       "      <td>23.35928184230162330</td>\n",
       "      <td>-9.30505309987534801</td>\n",
       "      <td>36.01079259961202439</td>\n",
       "      <td>-4.40388954773724794</td>\n",
       "      <td>...</td>\n",
       "      <td>23.35928184230162330</td>\n",
       "      <td>-9.30505309987534801</td>\n",
       "      <td>36.01079259961202439</td>\n",
       "      <td>-4.40388954773724794</td>\n",
       "      <td>347.47824336950975521</td>\n",
       "      <td>-4.65704903273465476</td>\n",
       "      <td>7.42608813028626713</td>\n",
       "      <td>8.06680628798464383</td>\n",
       "      <td>273.99191150155479590</td>\n",
       "      <td>-32.01311048195086073</td>\n",
       "    </tr>\n",
       "    <tr>\n",
       "      <th>3</th>\n",
       "      <td>3215-10-05 15:23:55.959300</td>\n",
       "      <td>-1.10393750933605499e+11</td>\n",
       "      <td>1.17383954937956599e+06</td>\n",
       "      <td>1.17383914161989931e+06</td>\n",
       "      <td>1.33752278052573237</td>\n",
       "      <td>6.50165059382223287</td>\n",
       "      <td>22.34922347833839495</td>\n",
       "      <td>-12.60597473855427175</td>\n",
       "      <td>20.97369874708903836</td>\n",
       "      <td>-1.81611581243102105</td>\n",
       "      <td>...</td>\n",
       "      <td>22.34922347833839495</td>\n",
       "      <td>-12.60597473855427175</td>\n",
       "      <td>20.97369874708903836</td>\n",
       "      <td>-1.81611581243102105</td>\n",
       "      <td>332.45975882779089261</td>\n",
       "      <td>-1.95838666584551646</td>\n",
       "      <td>18.50007603396504408</td>\n",
       "      <td>20.15085255562664912</td>\n",
       "      <td>116.48990725612289054</td>\n",
       "      <td>22.77603314165639148</td>\n",
       "    </tr>\n",
       "    <tr>\n",
       "      <th>4</th>\n",
       "      <td>3217-09-11 06:11:09.890000</td>\n",
       "      <td>-1.10332785742946198e+11</td>\n",
       "      <td>1.17454516501219687e+06</td>\n",
       "      <td>1.17454475774408574e+06</td>\n",
       "      <td>5.67075288460513338</td>\n",
       "      <td>22.72920368895215404</td>\n",
       "      <td>2.32789776900620948</td>\n",
       "      <td>13.05314136465333874</td>\n",
       "      <td>85.44539341865153403</td>\n",
       "      <td>-0.63203862076209427</td>\n",
       "      <td>...</td>\n",
       "      <td>2.32789776900620948</td>\n",
       "      <td>13.05314136465333874</td>\n",
       "      <td>85.44539341865153403</td>\n",
       "      <td>-0.63203862076209427</td>\n",
       "      <td>36.97229441935246541</td>\n",
       "      <td>-1.09587685058296236</td>\n",
       "      <td>7.65296525251422111</td>\n",
       "      <td>5.32506748350801118</td>\n",
       "      <td>278.11143414699404275</td>\n",
       "      <td>14.37670707160055095</td>\n",
       "    </tr>\n",
       "    <tr>\n",
       "      <th>...</th>\n",
       "      <td>...</td>\n",
       "      <td>...</td>\n",
       "      <td>...</td>\n",
       "      <td>...</td>\n",
       "      <td>...</td>\n",
       "      <td>...</td>\n",
       "      <td>...</td>\n",
       "      <td>...</td>\n",
       "      <td>...</td>\n",
       "      <td>...</td>\n",
       "      <td>...</td>\n",
       "      <td>...</td>\n",
       "      <td>...</td>\n",
       "      <td>...</td>\n",
       "      <td>...</td>\n",
       "      <td>...</td>\n",
       "      <td>...</td>\n",
       "      <td>...</td>\n",
       "      <td>...</td>\n",
       "      <td>...</td>\n",
       "      <td>...</td>\n",
       "    </tr>\n",
       "    <tr>\n",
       "      <th>97</th>\n",
       "      <td>3309-09-13 18:33:06.481400</td>\n",
       "      <td>-1.07429271151518616e+11</td>\n",
       "      <td>1.20815065796853439e+06</td>\n",
       "      <td>1.20815027299168264e+06</td>\n",
       "      <td>0.13584557903198613</td>\n",
       "      <td>-3.08535517032157980</td>\n",
       "      <td>21.13923296830434850</td>\n",
       "      <td>-20.55215515715362429</td>\n",
       "      <td>0.64105131378461200</td>\n",
       "      <td>-3.64103876939401783</td>\n",
       "      <td>...</td>\n",
       "      <td>21.13923296830434850</td>\n",
       "      <td>-20.55215515715362429</td>\n",
       "      <td>0.64105131378461200</td>\n",
       "      <td>-3.64103876939401783</td>\n",
       "      <td>313.40596328724717523</td>\n",
       "      <td>-3.62174561254440652</td>\n",
       "      <td>20.22974346830662995</td>\n",
       "      <td>23.09051050000228145</td>\n",
       "      <td>162.27125856953435346</td>\n",
       "      <td>43.50980257842741850</td>\n",
       "    </tr>\n",
       "    <tr>\n",
       "      <th>98</th>\n",
       "      <td>3311-08-28 16:09:19.713300</td>\n",
       "      <td>-1.07367503819553864e+11</td>\n",
       "      <td>1.20886555764405243e+06</td>\n",
       "      <td>1.20886517314483016e+06</td>\n",
       "      <td>4.61150166939899453</td>\n",
       "      <td>20.24453139390109158</td>\n",
       "      <td>1.49037854531803848</td>\n",
       "      <td>7.16002739476444816</td>\n",
       "      <td>70.50318063803101154</td>\n",
       "      <td>-1.79613089887801758</td>\n",
       "      <td>...</td>\n",
       "      <td>1.49037854531803848</td>\n",
       "      <td>7.16002739476444816</td>\n",
       "      <td>70.50318063803101154</td>\n",
       "      <td>-1.79613089887801758</td>\n",
       "      <td>23.31892932928194639</td>\n",
       "      <td>-2.21657645891017419</td>\n",
       "      <td>16.80941572507040860</td>\n",
       "      <td>15.31903717975237100</td>\n",
       "      <td>63.70249155310941092</td>\n",
       "      <td>-32.31239255179227143</td>\n",
       "    </tr>\n",
       "    <tr>\n",
       "      <th>99</th>\n",
       "      <td>3311-11-10 22:44:26.970000</td>\n",
       "      <td>-1.07361086512297241e+11</td>\n",
       "      <td>1.20893983203359670e+06</td>\n",
       "      <td>1.20893944753437443e+06</td>\n",
       "      <td>3.35371607560742335</td>\n",
       "      <td>19.43773488280564976</td>\n",
       "      <td>0.33676011374160081</td>\n",
       "      <td>2.89487593528999287</td>\n",
       "      <td>52.96005746840466344</td>\n",
       "      <td>0.95641863706589259</td>\n",
       "      <td>...</td>\n",
       "      <td>0.33676011374160081</td>\n",
       "      <td>2.89487593528999287</td>\n",
       "      <td>52.96005746840466344</td>\n",
       "      <td>0.95641863706589259</td>\n",
       "      <td>5.78849362443931259</td>\n",
       "      <td>0.60814370330595602</td>\n",
       "      <td>4.27530421348831080</td>\n",
       "      <td>3.93854409974670983</td>\n",
       "      <td>259.25378999031858029</td>\n",
       "      <td>29.30014323895844797</td>\n",
       "    </tr>\n",
       "    <tr>\n",
       "      <th>100</th>\n",
       "      <td>3313-10-06 00:53:32.464200</td>\n",
       "      <td>-1.07301117208044601e+11</td>\n",
       "      <td>1.20963392120318767e+06</td>\n",
       "      <td>1.20963353718129871e+06</td>\n",
       "      <td>7.52486213747222354</td>\n",
       "      <td>23.03163445131054132</td>\n",
       "      <td>4.10441526606169660</td>\n",
       "      <td>22.07969634138303405</td>\n",
       "      <td>110.96453150390146902</td>\n",
       "      <td>1.24166835599212777</td>\n",
       "      <td>...</td>\n",
       "      <td>4.10441526606169660</td>\n",
       "      <td>22.07969634138303405</td>\n",
       "      <td>110.96453150390146902</td>\n",
       "      <td>1.24166835599212777</td>\n",
       "      <td>63.81524044800506346</td>\n",
       "      <td>0.80878013136383464</td>\n",
       "      <td>4.03546509254652008</td>\n",
       "      <td>23.93104982648482348</td>\n",
       "      <td>153.43166126670746507</td>\n",
       "      <td>87.85680942934037319</td>\n",
       "    </tr>\n",
       "    <tr>\n",
       "      <th>101</th>\n",
       "      <td>3313-12-23 22:32:42.536600</td>\n",
       "      <td>-1.07294300078583359e+11</td>\n",
       "      <td>1.20971282316454430e+06</td>\n",
       "      <td>1.20971243938121106e+06</td>\n",
       "      <td>6.13375809272705119</td>\n",
       "      <td>26.69715736133593253</td>\n",
       "      <td>2.74687743118713046</td>\n",
       "      <td>19.20127823997891170</td>\n",
       "      <td>91.79533028244159709</td>\n",
       "      <td>3.27036922919323780</td>\n",
       "      <td>...</td>\n",
       "      <td>2.74687743118713046</td>\n",
       "      <td>19.20127823997891170</td>\n",
       "      <td>91.79533028244159709</td>\n",
       "      <td>3.27036922919323780</td>\n",
       "      <td>44.65254916176534294</td>\n",
       "      <td>2.81554587211149165</td>\n",
       "      <td>6.87293914733330702</td>\n",
       "      <td>4.12606171614617701</td>\n",
       "      <td>278.16262656754901172</td>\n",
       "      <td>32.70028337451365985</td>\n",
       "    </tr>\n",
       "  </tbody>\n",
       "</table>\n",
       "<p>102 rows × 28 columns</p>\n",
       "</div>"
      ],
      "text/plain": [
       "                     datetime64                       tt  \\\n",
       "0    3213-05-23 08:40:08.356600 -1.10468511118712234e+11   \n",
       "1    3213-07-22 19:30:06.843000 -1.10463288120984482e+11   \n",
       "2    3215-07-28 08:52:36.801000 -1.10399736013484650e+11   \n",
       "3    3215-10-05 15:23:55.959300 -1.10393750933605499e+11   \n",
       "4    3217-09-11 06:11:09.890000 -1.10332785742946198e+11   \n",
       "..                          ...                      ...   \n",
       "97   3309-09-13 18:33:06.481400 -1.07429271151518616e+11   \n",
       "98   3311-08-28 16:09:19.713300 -1.07367503819553864e+11   \n",
       "99   3311-11-10 22:44:26.970000 -1.07361086512297241e+11   \n",
       "100  3313-10-06 00:53:32.464200 -1.07301117208044601e+11   \n",
       "101  3313-12-23 22:32:42.536600 -1.07294300078583359e+11   \n",
       "\n",
       "                         jtd                      jed               RAJ2000  \\\n",
       "0    1.17297426945934934e+06  1.17297386120783072e+06  21.79958859185602549   \n",
       "1    1.17303472082193894e+06  1.17303431257042033e+06  21.15315028407551878   \n",
       "2    1.17377027762170555e+06  1.17376986986203887e+06   2.34488802177393874   \n",
       "3    1.17383954937956599e+06  1.17383914161989931e+06   1.33752278052573237   \n",
       "4    1.17454516501219687e+06  1.17454475774408574e+06   5.67075288460513338   \n",
       "..                       ...                      ...                   ...   \n",
       "97   1.20815065796853439e+06  1.20815027299168264e+06   0.13584557903198613   \n",
       "98   1.20886555764405243e+06  1.20886517314483016e+06   4.61150166939899453   \n",
       "99   1.20893983203359670e+06  1.20893944753437443e+06   3.35371607560742335   \n",
       "100  1.20963392120318767e+06  1.20963353718129871e+06   7.52486213747222354   \n",
       "101  1.20971282316454430e+06  1.20971243938121106e+06   6.13375809272705119   \n",
       "\n",
       "                 DecJ2000               RAEpoch              DecEpoch  \\\n",
       "0   -18.41698276155005942  18.33440565294429447 -28.32108907341635629   \n",
       "1   -22.95794543348144501  17.56819900095279152 -29.66244477333404106   \n",
       "2     9.36523068424027905  23.35928184230162330  -9.30505309987534801   \n",
       "3     6.50165059382223287  22.34922347833839495 -12.60597473855427175   \n",
       "4    22.72920368895215404   2.32789776900620948  13.05314136465333874   \n",
       "..                    ...                   ...                   ...   \n",
       "97   -3.08535517032157980  21.13923296830434850 -20.55215515715362429   \n",
       "98   20.24453139390109158   1.49037854531803848   7.16002739476444816   \n",
       "99   19.43773488280564976   0.33676011374160081   2.89487593528999287   \n",
       "100  23.03163445131054132   4.10441526606169660  22.07969634138303405   \n",
       "101  26.69715736133593253   2.74687743118713046  19.20127823997891170   \n",
       "\n",
       "                  LonJ2000             LatJ2000  ...         RAEpoch_SPICE  \\\n",
       "0    322.98719769285384018 -4.83447021274728250  ...  18.33440565294429447   \n",
       "1    312.90338735312661811 -6.28456375094451403  ...  17.56819900095279152   \n",
       "2     36.01079259961202439 -4.40388954773724794  ...  23.35928184230162330   \n",
       "3     20.97369874708903836 -1.81611581243102105  ...  22.34922347833839495   \n",
       "4     85.44539341865153403 -0.63203862076209427  ...   2.32789776900620948   \n",
       "..                     ...                  ...  ...                   ...   \n",
       "97     0.64105131378461200 -3.64103876939401783  ...  21.13923296830434850   \n",
       "98    70.50318063803101154 -1.79613089887801758  ...   1.49037854531803848   \n",
       "99    52.96005746840466344  0.95641863706589259  ...   0.33676011374160081   \n",
       "100  110.96453150390146902  1.24166835599212777  ...   4.10441526606169660   \n",
       "101   91.79533028244159709  3.27036922919323780  ...   2.74687743118713046   \n",
       "\n",
       "           DecEpoch_SPICE         LonJ2000_SPICE       LatJ2000_SPICE  \\\n",
       "0   -28.32108907341635629  322.98719769285384018 -4.83447021274728250   \n",
       "1   -29.66244477333404106  312.90338735312661811 -6.28456375094451403   \n",
       "2    -9.30505309987534801   36.01079259961202439 -4.40388954773724794   \n",
       "3   -12.60597473855427175   20.97369874708903836 -1.81611581243102105   \n",
       "4    13.05314136465333874   85.44539341865153403 -0.63203862076209427   \n",
       "..                    ...                    ...                  ...   \n",
       "97  -20.55215515715362429    0.64105131378461200 -3.64103876939401783   \n",
       "98    7.16002739476444816   70.50318063803101154 -1.79613089887801758   \n",
       "99    2.89487593528999287   52.96005746840466344  0.95641863706589259   \n",
       "100  22.07969634138303405  110.96453150390146902  1.24166835599212777   \n",
       "101  19.20127823997891170   91.79533028244159709  3.27036922919323780   \n",
       "\n",
       "            LonEpoch_SPICE       LatEpoch_SPICE             tsa_SPICE  \\\n",
       "0    274.42826876076134113 -4.53112153210888913   2.91293893567987894   \n",
       "1    264.34441170386719477 -5.92333090757559599  17.71790649864441747   \n",
       "2    347.47824336950975521 -4.65704903273465476   7.42608813028626713   \n",
       "3    332.45975882779089261 -1.95838666584551646  18.50007603396504408   \n",
       "4     36.97229441935246541 -1.09587685058296236   7.65296525251422111   \n",
       "..                     ...                  ...                   ...   \n",
       "97   313.40596328724717523 -3.62174561254440652  20.22974346830662995   \n",
       "98    23.31892932928194639 -2.21657645891017419  16.80941572507040860   \n",
       "99     5.78849362443931259  0.60814370330595602   4.27530421348831080   \n",
       "100   63.81524044800506346  0.80878013136383464   4.03546509254652008   \n",
       "101   44.65254916176534294  2.81554587211149165   6.87293914733330702   \n",
       "\n",
       "                 HA_SPICE               az_SPICE              el_SPICE  \n",
       "0     8.57853328273558446  253.03589704288441453 -44.07009205319893397  \n",
       "1     0.14970749769162595  182.42115196087635809  36.29420599042309448  \n",
       "2     8.06680628798464383  273.99191150155479590 -32.01311048195086073  \n",
       "3    20.15085255562664912  116.48990725612289054  22.77603314165639148  \n",
       "4     5.32506748350801118  278.11143414699404275  14.37670707160055095  \n",
       "..                    ...                    ...                   ...  \n",
       "97   23.09051050000228145  162.27125856953435346  43.50980257842741850  \n",
       "98   15.31903717975237100   63.70249155310941092 -32.31239255179227143  \n",
       "99    3.93854409974670983  259.25378999031858029  29.30014323895844797  \n",
       "100  23.93104982648482348  153.43166126670746507  87.85680942934037319  \n",
       "101   4.12606171614617701  278.16262656754901172  32.70028337451365985  \n",
       "\n",
       "[102 rows x 28 columns]"
      ]
     },
     "metadata": {},
     "output_type": "display_data"
    }
   ],
   "source": [
    "mars.df"
   ]
  },
  {
   "cell_type": "code",
   "execution_count": null,
   "metadata": {},
   "outputs": [],
   "source": [
    "def get_equinoxes_solstices(self):\n",
    "    firstday_jed = pymeeus_Epoch(self.year,1,1).jde()\n",
    "    firstdate = pyephem.Date(firstday_jed - PYEPHEM_JD_REF)\n",
    "    vernal_jed = pyephem.next_vernal_equinox(firstdate) + PYEPHEM_JD_REF\n",
    "    summer_jed = pyephem.next_summer_solstice(firstdate) + PYEPHEM_JD_REF\n",
    "    auttumnal_jed = pyephem.next_autumnal_equinox(firstdate) + PYEPHEM_JD_REF\n",
    "    winter_jed = pyephem.next_winter_solstice(firstdate) + PYEPHEM_JD_REF\n",
    "    return vernal_jed,summer_jed,auttumnal_jed,winter_jed"
   ]
  },
  {
   "cell_type": "code",
   "execution_count": null,
   "metadata": {},
   "outputs": [],
   "source": [
    "pyephem.prev"
   ]
  },
  {
   "cell_type": "code",
   "execution_count": null,
   "metadata": {},
   "outputs": [
    {
     "name": "stdout",
     "output_type": "stream",
     "text": [
      "Montu Time Object:\n",
      "--------------------------\n",
      "General:\n",
      "    Calendar: proleptic\n",
      "    Is bce: True\n",
      "    Components UTC: [-1, 3000, 9, 21, 22, 30, 52, 512500]\n",
      "Uniform scales:\n",
      "    Terrestrial time:\n",
      "        tt: -157761881423.80753\n",
      "        jtd: 625597.298335561\n",
      "    UTC time:\n",
      "        et: -157761955747.48752\n",
      "        jed: 625596.4381077832\n",
      "    Delta-t = TT - UTC = 74323.68000000001\n",
      "Strings:\n",
      "    Date in SPICE format: 3001 B.C. 09-21 22:30:52.512500\n",
      "    Date in proleptic calendar: -3000-09-21 22:30:52.512500\n",
      "    Date in proleptic calendar (jul.year): 1714-09-21 22:30:52.512500\n",
      "    Date in mixed calendar: -3000-10-15 22:30:53\n",
      "    Date in mixed calendar (jul.year): 1712-10-15 22:30:53\n",
      "Objects:\n",
      "    Date in datetime64 format: -3000-09-21T22:30:52.512500\n",
      "    Date in datetime format proleptic: 3000-09-21 22:30:52.512500\n",
      "    Date in datetime format proleptic (julian year): 1714-09-21 22:30:52.512500\n",
      "    Date in datetime format mixed: 3000-10-15 22:30:53\n",
      "    Date in datetime format mixed (julian year): 1712-10-15 22:30:53\n",
      "    Date in PyPlanet Epoch: 625596.4381077832\n",
      "    Date in PyEphem Epoch: -3001/10/15 22:30:53\n",
      "    Date in AstroPy Time: 625597.298335561\n",
      "Astronomical properties at Epoch:\n",
      "    True obliquity of ecliptic: 24:01:24.529\n",
      "    True nutation longitude: 00:00:5.391\n",
      "    Greenwhich Meridian Sidereal Time: 22:31:3.006\n",
      "Hash: -3579806649415551531\n",
      "\n"
     ]
    }
   ],
   "source": [
    "mtime = MonTime('-3000-01-01 00:00:00')\n",
    "print(MonTime(get_equinoxes_solstices(mtime)[2],format='jd'))"
   ]
  },
  {
   "cell_type": "code",
   "execution_count": null,
   "metadata": {},
   "outputs": [
    {
     "data": {
      "text/plain": [
       "(24.0, 1, 23.986150481054267)"
      ]
     },
     "metadata": {},
     "output_type": "display_data"
    }
   ],
   "source": [
    "D2H(mtime.epsilon)"
   ]
  },
  {
   "cell_type": "code",
   "execution_count": null,
   "metadata": {},
   "outputs": [
    {
     "name": "stdout",
     "output_type": "stream",
     "text": [
      "Montu Time Object:\n",
      "--------------------------\n",
      "General:\n",
      "    Calendar: proleptic\n",
      "    Is bce: False\n",
      "    Components UTC: [1, 1, 1, 1, 0, 0, 0, 0]\n",
      "Uniform scales:\n",
      "    Terrestrial time:\n",
      "        tt: -63082314226.96312\n",
      "        jtd: 1721425.622373112\n",
      "    UTC time:\n",
      "        et: -63082324800.00001\n",
      "        jed: 1721425.4999999998\n",
      "    Delta-t = TT - UTC = 10573.036888139102\n",
      "Strings:\n",
      "    Date in SPICE format: 0001 A.D. 01-01 00:00:00.000000\n",
      "    Date in proleptic calendar: 1-01-01 00:00:00.0\n",
      "    Date in proleptic calendar (jul.year): 4713-01-01 00:00:00.000000\n",
      "    Date in mixed calendar: 0001-01-03 00:00:00\n",
      "    Date in mixed calendar (jul.year): 4711-01-03 00:00:00\n",
      "Objects:\n",
      "    Date in datetime64 format: 0001-01-01T00:00:00.000\n",
      "    Date in datetime format proleptic: 0001-01-01 00:00:00\n",
      "    Date in datetime format proleptic (julian year): 4713-01-01 00:00:00\n",
      "    Date in datetime format mixed: 0001-01-03 00:00:00\n",
      "    Date in datetime format mixed (julian year): 4711-01-03 00:00:00\n",
      "    Date in PyPlanet Epoch: 1721425.4999999998\n",
      "    Date in PyEphem Epoch: 1/1/3 00:00:00\n",
      "    Date in AstroPy Time: 1721425.622373112\n",
      "Astronomical properties at Epoch:\n",
      "    True obliquity of ecliptic: 23:41:40.488\n",
      "    True nutation longitude: 00:00:17.638\n",
      "    Greenwhich Meridian Sidereal Time: 06:41:1.938\n",
      "Hash: 1394397460739956012\n",
      "\n"
     ]
    }
   ],
   "source": [
    "mtime = MonTime(f'1-01-01 00:00:00')\n",
    "print(mtime)"
   ]
  },
  {
   "cell_type": "code",
   "execution_count": null,
   "metadata": {},
   "outputs": [
    {
     "data": {
      "text/plain": [
       "(-1398, 1, 1, 0, 0, 0.0)"
      ]
     },
     "metadata": {},
     "output_type": "display_data"
    }
   ],
   "source": [
    "date.get_full_date()"
   ]
  },
  {
   "cell_type": "code",
   "execution_count": null,
   "metadata": {},
   "outputs": [
    {
     "data": {
      "text/plain": [
       "<bound method Epoch.jde of Epoch(1210438.5)>"
      ]
     },
     "metadata": {},
     "output_type": "display_data"
    }
   ],
   "source": [
    "date.jde"
   ]
  },
  {
   "cell_type": "code",
   "execution_count": null,
   "metadata": {},
   "outputs": [
    {
     "name": "stdout",
     "output_type": "stream",
     "text": [
      "Montu Time Object:\n",
      "--------------------------\n",
      "General:\n",
      "    Calendar: proleptic\n",
      "    Is bce: True\n",
      "    Components UTC: [-1, 1398, 1, 1, 0, 0, 0, 0]\n",
      "Uniform scales:\n",
      "    Terrestrial time:\n",
      "        tt: -107230531682.32321\n",
      "        jtd: 1210450.8833064444\n",
      "    UTC time:\n",
      "        et: -107230564800.00002\n",
      "        jed: 1210450.5\n",
      "    Delta-t = TT - UTC = 33117.6768\n",
      "Strings:\n",
      "    Date in SPICE format: 1399 B.C. 01-01 00:00:00.000000\n",
      "    Date in proleptic calendar: -1398-01-01 00:00:00.0\n",
      "    Date in proleptic calendar (jul.year): 3316-01-01 00:00:00.000000\n",
      "    Date in mixed calendar: -1398-01-13 00:00:00\n",
      "    Date in mixed calendar (jul.year): 3314-01-13 00:00:00\n",
      "Objects:\n",
      "    Date in datetime64 format: -1398-01-01T00:00:00.000\n",
      "    Date in datetime format proleptic: 1398-01-01 00:00:00\n",
      "    Date in datetime format proleptic (julian year): 3316-01-01 00:00:00\n",
      "    Date in datetime format mixed: 1398-01-13 00:00:00\n",
      "    Date in datetime format mixed (julian year): 3314-01-13 00:00:00\n",
      "    Date in PyPlanet Epoch: 1210450.5\n",
      "    Date in PyEphem Epoch: -1399/1/13 00:00:00\n",
      "    Date in AstroPy Time: 1210450.8833064444\n",
      "Astronomical properties at Epoch:\n",
      "    True obliquity of ecliptic: 23:51:40.879\n",
      "    True nutation longitude: 00:00:9.012\n",
      "    Greenwhich Meridian Sidereal Time: 06:37:32.781\n",
      "Hash: -5929108315537273923\n",
      "\n"
     ]
    }
   ],
   "source": [
    "print(MonTime(f'{mtime.year}-01-01 00:00:00'))"
   ]
  },
  {
   "cell_type": "code",
   "execution_count": null,
   "metadata": {},
   "outputs": [
    {
     "data": {
      "text/plain": [
       "'-1502/6/6 08:40:08'"
      ]
     },
     "metadata": {},
     "output_type": "display_data"
    }
   ],
   "source": [
    "date = pyephem.Date(marstices.loc[0,'jed'] - PYEPHEM_JD_REF)\n",
    "f'{date}'"
   ]
  },
  {
   "cell_type": "code",
   "execution_count": null,
   "metadata": {},
   "outputs": [
    {
     "name": "stdout",
     "output_type": "stream",
     "text": [
      "Montu Time Object:\n",
      "--------------------------\n",
      "General:\n",
      "    Calendar: proleptic\n",
      "    Is bce: False\n",
      "    Components UTC: [1, 1, 1, 1, 12, 0, 0, 0]\n",
      "Uniform scales:\n",
      "    Terrestrial time:\n",
      "        tt: -63082271026.96312\n",
      "        jtd: 1721426.122373112\n",
      "    UTC time:\n",
      "        et: -63082281600.00001\n",
      "        jed: 1721425.9999999998\n",
      "    Delta-t = TT - UTC = 10573.036888139102\n",
      "Strings:\n",
      "    Date in SPICE format: 0001 A.D. 01-01 12:00:00.000000\n",
      "    Date in proleptic calendar: 1-01-01 12:00:00.0\n",
      "    Date in proleptic calendar (jul.year): 4713-01-01 12:00:00.000000\n",
      "    Date in mixed calendar: 0001-01-03 12:00:00\n",
      "    Date in mixed calendar (jul.year): 4711-01-03 12:00:00\n",
      "Objects:\n",
      "    Date in datetime64 format: 0001-01-01T12:00:00.000\n",
      "    Date in datetime format proleptic: 0001-01-01 12:00:00\n",
      "    Date in datetime format proleptic (julian year): 4713-01-01 12:00:00\n",
      "    Date in datetime format mixed: 0001-01-03 12:00:00\n",
      "    Date in datetime format mixed (julian year): 4711-01-03 12:00:00\n",
      "    Date in PyPlanet Epoch: 1721425.9999999998\n",
      "    Date in PyEphem Epoch: 1/1/3 12:00:00\n",
      "    Date in AstroPy Time: 1721426.122373112\n",
      "Astronomical properties at Epoch:\n",
      "    True obliquity of ecliptic: 23:41:40.496\n",
      "    True nutation longitude: 00:00:17.610\n",
      "    Greenwhich Meridian Sidereal Time: 18:43:0.214\n",
      "Hash: 7435541410454062872\n",
      "\n"
     ]
    }
   ],
   "source": [
    "mtime = MonTime('1-01-01 12:00:00.00',scale='utc')\n",
    "print(mtime)"
   ]
  },
  {
   "cell_type": "code",
   "execution_count": null,
   "metadata": {},
   "outputs": [
    {
     "data": {
      "text/plain": [
       "0"
      ]
     },
     "metadata": {},
     "output_type": "display_data"
    }
   ],
   "source": [
    "mtime.usecond"
   ]
  },
  {
   "cell_type": "code",
   "execution_count": null,
   "metadata": {},
   "outputs": [
    {
     "data": {
      "text/plain": [
       "'-1501/1/2 22:43:05'"
      ]
     },
     "metadata": {},
     "output_type": "display_data"
    }
   ],
   "source": [
    "date = pyephem.Date(marstices.loc[0,'jed'] - PYEPHEM_JD_REF)\n",
    "epoch = pyephem.next_winter_solstice(date)\n",
    "f'{epoch}'"
   ]
  },
  {
   "cell_type": "code",
   "execution_count": null,
   "metadata": {},
   "outputs": [
    {
     "name": "stdout",
     "output_type": "stream",
     "text": [
      "Montu Time Object:\n",
      "--------------------------\n",
      "General:\n",
      "    Calendar: mixed\n",
      "    Is bce: True\n",
      "    Components UTC: [-1, 1501, 12, 19, 22, 43, 5, 132500]\n",
      "Uniform scales:\n",
      "    Terrestrial time:\n",
      "        tt: -110450316563.18745\n",
      "        jtd: 1173184.854592738\n",
      "    UTC time:\n",
      "        et: -110450351814.86745\n",
      "        jed: 1173184.4465871823\n",
      "    Delta-t = TT - UTC = 35251.68000000001\n",
      "Strings:\n",
      "    Date in SPICE format: 1502 B.C. 12-19 22:43:05.132500\n",
      "    Date in proleptic calendar: -1501-12-19 22:43:05.132500\n",
      "    Date in proleptic calendar (jul.year): 3213-12-19 22:43:05.132500\n",
      "    Date in mixed calendar: -1500-01-02 22:43:05\n",
      "    Date in mixed calendar (jul.year): 3212-01-02 22:43:05\n",
      "Objects:\n",
      "    Date in datetime64 format: -1501-12-19T22:43:05.132500\n",
      "    Date in datetime format proleptic: 1501-12-19 22:43:05.132500\n",
      "    Date in datetime format proleptic (julian year): 3213-12-19 22:43:05.132500\n",
      "    Date in datetime format mixed: 1500-01-02 22:43:05\n",
      "    Date in datetime format mixed (julian year): 3212-01-02 22:43:05\n",
      "    Date in PyPlanet Epoch: 1173184.4465871823\n",
      "    Date in PyEphem Epoch: -1501/1/2 22:43:05\n",
      "    Date in AstroPy Time: 1173184.854592738\n",
      "Astronomical properties at Epoch:\n",
      "    True obliquity of ecliptic: 23:52:6.474\n",
      "    True nutation longitude: 00:00:10.609\n",
      "    Greenwhich Meridian Sidereal Time: 04:35:58.317\n",
      "Hash: 7301832288258688069\n",
      "\n"
     ]
    }
   ],
   "source": [
    "print(MonTime(epoch + PYEPHEM_JD_REF,format='jd',scale='utc',calendar='mixed'))"
   ]
  },
  {
   "cell_type": "code",
   "execution_count": null,
   "metadata": {},
   "outputs": [
    {
     "data": {
      "text/plain": [
       "'1896/6/20 22:28:34'"
      ]
     },
     "metadata": {},
     "output_type": "display_data"
    }
   ],
   "source": [
    "pyephem.next_winter_solstice"
   ]
  },
  {
   "cell_type": "code",
   "execution_count": null,
   "metadata": {},
   "outputs": [
    {
     "name": "stdout",
     "output_type": "stream",
     "text": [
      "Montu Time Object:\n",
      "--------------------------\n",
      "General:\n",
      "    Calendar: proleptic\n",
      "    Is bce: True\n",
      "    Components UTC: [-1, 1501, 5, 23, 8, 40, 8, 356600]\n",
      "Uniform scales:\n",
      "    Terrestrial time:\n",
      "        tt: -110468511118.71223\n",
      "        jtd: 1172974.2694593493\n",
      "    UTC time:\n",
      "        et: -110468546391.64343\n",
      "        jed: 1172973.8612078307\n",
      "    Delta-t = TT - UTC = 35272.9312\n",
      "Strings:\n",
      "    Date in SPICE format: 1502 B.C. 05-23 08:40:08.356600\n",
      "    Date in proleptic calendar: -1501-05-23 08:40:08.356600\n",
      "    Date in proleptic calendar (jul.year): 3213-05-23 08:40:08.356600\n",
      "    Date in mixed calendar: -1501-06-06 08:40:08\n",
      "    Date in mixed calendar (jul.year): 3211-06-06 08:40:08\n",
      "Objects:\n",
      "    Date in datetime64 format: -1501-05-23T08:40:08.356600\n",
      "    Date in datetime format proleptic: 1501-05-23 08:40:08.356600\n",
      "    Date in datetime format proleptic (julian year): 3213-05-23 08:40:08.356600\n",
      "    Date in datetime format mixed: 1501-06-06 08:40:08\n",
      "    Date in datetime format mixed (julian year): 3211-06-06 08:40:08\n",
      "    Date in PyPlanet Epoch: 1172973.8612078307\n",
      "    Date in PyEphem Epoch: -1502/6/6 08:40:08\n",
      "    Date in AstroPy Time: 1172974.2694593493\n",
      "Astronomical properties at Epoch:\n",
      "    True obliquity of ecliptic: 23:52:6.134\n",
      "    True nutation longitude: 00:00:8.919\n",
      "    Greenwhich Meridian Sidereal Time: 00:42:46.580\n",
      "Hash: 4208641315701855469\n",
      "\n"
     ]
    }
   ],
   "source": [
    "print(MonTime(marstices.loc[0,'jed'],format='jd',scale='utc'))"
   ]
  },
  {
   "cell_type": "code",
   "execution_count": null,
   "metadata": {},
   "outputs": [
    {
     "name": "stdout",
     "output_type": "stream",
     "text": [
      "(-1501, 6, 6, 8, 40, 8.356574177742004) (-1501, 8, 5, 19, 30, 6.084316223859787)\n",
      "-1501-06-06 08:40:08 -1501-08-05 19:30:06\n"
     ]
    }
   ],
   "source": [
    "epoch1 = pyplanets_Mars(mtime_initial.obj_pyplanet).station_longitude_1()\n",
    "epoch2 = pyplanets_Mars(mtime_initial.obj_pyplanet).station_longitude_2()\n",
    "mtime1 = MonTime(float(epoch1),format='jd',calendar='mixed')\n",
    "mtime2 = MonTime(float(epoch2),format='jd',calendar='mixed')\n",
    "\n",
    "# Report\n",
    "print(epoch1.get_full_date(),epoch2.get_full_date())\n",
    "print(mtime1.datemixed,mtime2.datemixed)"
   ]
  },
  {
   "cell_type": "code",
   "execution_count": null,
   "metadata": {},
   "outputs": [
    {
     "name": "stdout",
     "output_type": "stream",
     "text": [
      "Montu Time Object:\n",
      "--------------------------\n",
      "General:\n",
      "    Calendar: mixed\n",
      "    Is bce: True\n",
      "    Components UTC: [-1, 1501, 5, 23, 8, 40, 8, 356600]\n",
      "Uniform scales:\n",
      "    Terrestrial time:\n",
      "        tt: -110468511118.71223\n",
      "        jtd: 1172974.2694593493\n",
      "    UTC time:\n",
      "        et: -110468546391.64343\n",
      "        jed: 1172973.8612078307\n",
      "    Delta-t = TT - UTC = 35272.9312\n",
      "Strings:\n",
      "    Date in SPICE format: 1502 B.C. 05-23 08:40:08.356600\n",
      "    Date in proleptic calendar: -1501-05-23 08:40:08.356600\n",
      "    Date in proleptic calendar (jul.year): 3213-05-23 08:40:08.356600\n",
      "    Date in mixed calendar: -1501-06-06 08:40:08\n",
      "    Date in mixed calendar (jul.year): 3211-06-06 08:40:08\n",
      "Objects:\n",
      "    Date in datetime64 format: -1501-05-23T08:40:08.356600\n",
      "    Date in datetime format proleptic: 1501-05-23 08:40:08.356600\n",
      "    Date in datetime format proleptic (julian year): 3213-05-23 08:40:08.356600\n",
      "    Date in datetime format mixed: 1501-06-06 08:40:08\n",
      "    Date in datetime format mixed (julian year): 3211-06-06 08:40:08\n",
      "    Date in PyPlanet Epoch: 1172973.8612078307\n",
      "    Date in PyEphem Epoch: -1502/6/6 08:40:08\n",
      "    Date in AstroPy Time: 1172974.2694593493\n",
      "Astronomical properties at Epoch:\n",
      "    True obliquity of ecliptic: 23:52:6.134\n",
      "    True nutation longitude: 00:00:8.919\n",
      "    Greenwhich Meridian Sidereal Time: 00:42:46.580\n",
      "Hash: -7451445092407254910\n",
      "\n"
     ]
    }
   ],
   "source": [
    "print(mtime1)"
   ]
  },
  {
   "cell_type": "code",
   "execution_count": null,
   "metadata": {},
   "outputs": [
    {
     "name": "stderr",
     "output_type": "stream",
     "text": [
      "  0%|          | 0/100 [00:00<?, ?it/s]"
     ]
    },
    {
     "name": "stderr",
     "output_type": "stream",
     "text": [
      "100%|██████████| 100/100 [00:00<00:00, 202.65it/s]\n"
     ]
    },
    {
     "data": {
      "application/vnd.plotly.v1+json": {
       "config": {
        "plotlyServerURL": "https://plot.ly"
       },
       "data": [
        {
         "hovertemplate": "x=%{x}<br>y=%{y}<extra></extra>",
         "legendgroup": "",
         "line": {
          "color": "#636efa",
          "dash": "solid"
         },
         "marker": {
          "symbol": "circle"
         },
         "mode": "markers+lines",
         "name": "",
         "orientation": "v",
         "showlegend": false,
         "type": "scatter",
         "x": [
          "3211-07-06T19:30:06",
          "3211-07-07T10:02:50",
          "3211-07-08T00:35:33",
          "3211-07-08T15:08:17",
          "3211-07-09T05:41:01",
          "3211-07-09T20:13:44",
          "3211-07-10T10:46:28",
          "3211-07-11T01:19:12",
          "3211-07-11T15:51:55",
          "3211-07-12T06:24:39",
          "3211-07-12T20:57:22",
          "3211-07-13T11:30:06",
          "3211-07-14T02:02:50",
          "3211-07-14T16:35:33",
          "3211-07-15T07:08:17",
          "3211-07-15T21:41:01",
          "3211-07-16T12:13:44",
          "3211-07-17T02:46:28",
          "3211-07-17T17:19:12",
          "3211-07-18T07:51:55",
          "3211-07-18T22:24:39",
          "3211-07-19T12:57:22",
          "3211-07-20T03:30:06",
          "3211-07-20T18:02:50",
          "3211-07-21T08:35:33",
          "3211-07-21T23:08:17",
          "3211-07-22T13:41:01",
          "3211-07-23T04:13:44",
          "3211-07-23T18:46:28",
          "3211-07-24T09:19:12",
          "3211-07-24T23:51:55",
          "3211-07-25T14:24:39",
          "3211-07-26T04:57:22",
          "3211-07-26T19:30:06",
          "3211-07-27T10:02:50",
          "3211-07-28T00:35:33",
          "3211-07-28T15:08:17",
          "3211-07-29T05:41:01",
          "3211-07-29T20:13:44",
          "3211-07-30T10:46:28",
          "3211-07-31T01:19:12",
          "3211-07-31T15:51:55",
          "3211-08-01T06:24:39",
          "3211-08-01T20:57:22",
          "3211-08-02T11:30:06",
          "3211-08-03T02:02:50",
          "3211-08-03T16:35:33",
          "3211-08-04T07:08:17",
          "3211-08-04T21:41:01",
          "3211-08-05T12:13:44",
          "3211-08-06T02:46:28",
          "3211-08-06T17:19:12",
          "3211-08-07T07:51:55",
          "3211-08-07T22:24:39",
          "3211-08-08T12:57:22",
          "3211-08-09T03:30:06",
          "3211-08-09T18:02:50",
          "3211-08-10T08:35:33",
          "3211-08-10T23:08:17",
          "3211-08-11T13:41:01",
          "3211-08-12T04:13:44",
          "3211-08-12T18:46:28",
          "3211-08-13T09:19:12",
          "3211-08-13T23:51:55",
          "3211-08-14T14:24:39",
          "3211-08-15T04:57:22",
          "3211-08-15T19:30:06",
          "3211-08-16T10:02:50",
          "3211-08-17T00:35:33",
          "3211-08-17T15:08:17",
          "3211-08-18T05:41:01",
          "3211-08-18T20:13:44",
          "3211-08-19T10:46:28",
          "3211-08-20T01:19:12",
          "3211-08-20T15:51:55",
          "3211-08-21T06:24:39",
          "3211-08-21T20:57:22",
          "3211-08-22T11:30:06",
          "3211-08-23T02:02:50",
          "3211-08-23T16:35:33",
          "3211-08-24T07:08:17",
          "3211-08-24T21:41:01",
          "3211-08-25T12:13:44",
          "3211-08-26T02:46:28",
          "3211-08-26T17:19:12",
          "3211-08-27T07:51:55",
          "3211-08-27T22:24:39",
          "3211-08-28T12:57:22",
          "3211-08-29T03:30:06",
          "3211-08-29T18:02:50",
          "3211-08-30T08:35:33",
          "3211-08-30T23:08:17",
          "3211-08-31T13:41:01",
          "3211-09-01T04:13:44",
          "3211-09-01T18:46:28",
          "3211-09-02T09:19:12",
          "3211-09-02T23:51:55",
          "3211-09-03T14:24:39",
          "3211-09-04T04:57:22",
          "3211-09-04T19:30:06"
         ],
         "xaxis": "x",
         "y": [
          -0.26545498137127765,
          -0.2651544988250123,
          -0.26415690948979886,
          -0.26331906532359994,
          -0.26200935299252137,
          -0.2603574636027588,
          -0.25880335586171554,
          -0.2565471720256767,
          -0.25438740312111463,
          -0.2518954433704721,
          -0.2489388999233597,
          -0.24615138406923623,
          -0.24269319521454236,
          -0.23923109615418525,
          -0.2355808439332634,
          -0.23137154883247038,
          -0.22736698087021523,
          -0.22277301987776355,
          -0.21806649402927292,
          -0.21331784827503952,
          -0.2079628336536814,
          -0.2028170842895065,
          -0.19720560617329852,
          -0.19137811001749583,
          -0.18564056881081115,
          -0.17929784144868677,
          -0.17313798026637528,
          -0.16666169349701931,
          -0.1598814598936258,
          -0.15329697595853986,
          -0.1461548983385228,
          -0.1391460086776135,
          -0.13198156547935014,
          -0.12445275944017453,
          -0.11719530691379988,
          -0.1094703369774095,
          -0.10181784851633324,
          -0.09416988785025636,
          -0.08613277895335612,
          -0.07841225685336894,
          -0.07034738306415989,
          -0.062293737339047084,
          -0.05439101139421609,
          -0.046110138459852124,
          -0.03816039106598623,
          -0.030006048508511185,
          -0.021804325119944682,
          -0.013869749491504988,
          -0.00559198112759418,
          0.0023763801458756006,
          0.010417134238650759,
          0.018566601415727746,
          0.026379481487907697,
          0.03449242823631948,
          0.042355310065744334,
          0.05018178635219783,
          0.0581781003001538,
          0.06581385147197238,
          0.0736986341642023,
          0.08141287527934082,
          0.08900076644681575,
          0.09680261716727045,
          0.10424859924938801,
          0.111877392705793,
          0.11941533473643062,
          0.12675105411963727,
          0.13431970942909288,
          0.141557026315013,
          0.1489002422129886,
          0.15622559809375502,
          0.16329114596285876,
          0.1705864968864148,
          0.17759179831884353,
          0.18462378920642664,
          0.19170077080579517,
          0.19848093325040847,
          0.20546883473991784,
          0.21221894349787362,
          0.21891903846159266,
          0.22571206846762945,
          0.23218963845715734,
          0.23883570732971293,
          0.24529956484559537,
          0.25164151908450094,
          0.25810523370049054,
          0.26424882395664895,
          0.27050606716139214,
          0.27663224393290875,
          0.2825705107902081,
          0.28863883552918423,
          0.29439437492700904,
          0.30020100313967646,
          0.3059253431159732,
          0.3114125797947054,
          0.3170295903596241,
          0.32236177840798064,
          0.32769075716089446,
          0.332991200974476,
          0.3380311331504516,
          0.3431992234586403
         ],
         "yaxis": "y"
        }
       ],
       "layout": {
        "legend": {
         "tracegroupgap": 0
        },
        "margin": {
         "t": 60
        },
        "template": {
         "data": {
          "bar": [
           {
            "error_x": {
             "color": "#2a3f5f"
            },
            "error_y": {
             "color": "#2a3f5f"
            },
            "marker": {
             "line": {
              "color": "#E5ECF6",
              "width": 0.5
             },
             "pattern": {
              "fillmode": "overlay",
              "size": 10,
              "solidity": 0.2
             }
            },
            "type": "bar"
           }
          ],
          "barpolar": [
           {
            "marker": {
             "line": {
              "color": "#E5ECF6",
              "width": 0.5
             },
             "pattern": {
              "fillmode": "overlay",
              "size": 10,
              "solidity": 0.2
             }
            },
            "type": "barpolar"
           }
          ],
          "carpet": [
           {
            "aaxis": {
             "endlinecolor": "#2a3f5f",
             "gridcolor": "white",
             "linecolor": "white",
             "minorgridcolor": "white",
             "startlinecolor": "#2a3f5f"
            },
            "baxis": {
             "endlinecolor": "#2a3f5f",
             "gridcolor": "white",
             "linecolor": "white",
             "minorgridcolor": "white",
             "startlinecolor": "#2a3f5f"
            },
            "type": "carpet"
           }
          ],
          "choropleth": [
           {
            "colorbar": {
             "outlinewidth": 0,
             "ticks": ""
            },
            "type": "choropleth"
           }
          ],
          "contour": [
           {
            "colorbar": {
             "outlinewidth": 0,
             "ticks": ""
            },
            "colorscale": [
             [
              0,
              "#0d0887"
             ],
             [
              0.1111111111111111,
              "#46039f"
             ],
             [
              0.2222222222222222,
              "#7201a8"
             ],
             [
              0.3333333333333333,
              "#9c179e"
             ],
             [
              0.4444444444444444,
              "#bd3786"
             ],
             [
              0.5555555555555556,
              "#d8576b"
             ],
             [
              0.6666666666666666,
              "#ed7953"
             ],
             [
              0.7777777777777778,
              "#fb9f3a"
             ],
             [
              0.8888888888888888,
              "#fdca26"
             ],
             [
              1,
              "#f0f921"
             ]
            ],
            "type": "contour"
           }
          ],
          "contourcarpet": [
           {
            "colorbar": {
             "outlinewidth": 0,
             "ticks": ""
            },
            "type": "contourcarpet"
           }
          ],
          "heatmap": [
           {
            "colorbar": {
             "outlinewidth": 0,
             "ticks": ""
            },
            "colorscale": [
             [
              0,
              "#0d0887"
             ],
             [
              0.1111111111111111,
              "#46039f"
             ],
             [
              0.2222222222222222,
              "#7201a8"
             ],
             [
              0.3333333333333333,
              "#9c179e"
             ],
             [
              0.4444444444444444,
              "#bd3786"
             ],
             [
              0.5555555555555556,
              "#d8576b"
             ],
             [
              0.6666666666666666,
              "#ed7953"
             ],
             [
              0.7777777777777778,
              "#fb9f3a"
             ],
             [
              0.8888888888888888,
              "#fdca26"
             ],
             [
              1,
              "#f0f921"
             ]
            ],
            "type": "heatmap"
           }
          ],
          "heatmapgl": [
           {
            "colorbar": {
             "outlinewidth": 0,
             "ticks": ""
            },
            "colorscale": [
             [
              0,
              "#0d0887"
             ],
             [
              0.1111111111111111,
              "#46039f"
             ],
             [
              0.2222222222222222,
              "#7201a8"
             ],
             [
              0.3333333333333333,
              "#9c179e"
             ],
             [
              0.4444444444444444,
              "#bd3786"
             ],
             [
              0.5555555555555556,
              "#d8576b"
             ],
             [
              0.6666666666666666,
              "#ed7953"
             ],
             [
              0.7777777777777778,
              "#fb9f3a"
             ],
             [
              0.8888888888888888,
              "#fdca26"
             ],
             [
              1,
              "#f0f921"
             ]
            ],
            "type": "heatmapgl"
           }
          ],
          "histogram": [
           {
            "marker": {
             "pattern": {
              "fillmode": "overlay",
              "size": 10,
              "solidity": 0.2
             }
            },
            "type": "histogram"
           }
          ],
          "histogram2d": [
           {
            "colorbar": {
             "outlinewidth": 0,
             "ticks": ""
            },
            "colorscale": [
             [
              0,
              "#0d0887"
             ],
             [
              0.1111111111111111,
              "#46039f"
             ],
             [
              0.2222222222222222,
              "#7201a8"
             ],
             [
              0.3333333333333333,
              "#9c179e"
             ],
             [
              0.4444444444444444,
              "#bd3786"
             ],
             [
              0.5555555555555556,
              "#d8576b"
             ],
             [
              0.6666666666666666,
              "#ed7953"
             ],
             [
              0.7777777777777778,
              "#fb9f3a"
             ],
             [
              0.8888888888888888,
              "#fdca26"
             ],
             [
              1,
              "#f0f921"
             ]
            ],
            "type": "histogram2d"
           }
          ],
          "histogram2dcontour": [
           {
            "colorbar": {
             "outlinewidth": 0,
             "ticks": ""
            },
            "colorscale": [
             [
              0,
              "#0d0887"
             ],
             [
              0.1111111111111111,
              "#46039f"
             ],
             [
              0.2222222222222222,
              "#7201a8"
             ],
             [
              0.3333333333333333,
              "#9c179e"
             ],
             [
              0.4444444444444444,
              "#bd3786"
             ],
             [
              0.5555555555555556,
              "#d8576b"
             ],
             [
              0.6666666666666666,
              "#ed7953"
             ],
             [
              0.7777777777777778,
              "#fb9f3a"
             ],
             [
              0.8888888888888888,
              "#fdca26"
             ],
             [
              1,
              "#f0f921"
             ]
            ],
            "type": "histogram2dcontour"
           }
          ],
          "mesh3d": [
           {
            "colorbar": {
             "outlinewidth": 0,
             "ticks": ""
            },
            "type": "mesh3d"
           }
          ],
          "parcoords": [
           {
            "line": {
             "colorbar": {
              "outlinewidth": 0,
              "ticks": ""
             }
            },
            "type": "parcoords"
           }
          ],
          "pie": [
           {
            "automargin": true,
            "type": "pie"
           }
          ],
          "scatter": [
           {
            "fillpattern": {
             "fillmode": "overlay",
             "size": 10,
             "solidity": 0.2
            },
            "type": "scatter"
           }
          ],
          "scatter3d": [
           {
            "line": {
             "colorbar": {
              "outlinewidth": 0,
              "ticks": ""
             }
            },
            "marker": {
             "colorbar": {
              "outlinewidth": 0,
              "ticks": ""
             }
            },
            "type": "scatter3d"
           }
          ],
          "scattercarpet": [
           {
            "marker": {
             "colorbar": {
              "outlinewidth": 0,
              "ticks": ""
             }
            },
            "type": "scattercarpet"
           }
          ],
          "scattergeo": [
           {
            "marker": {
             "colorbar": {
              "outlinewidth": 0,
              "ticks": ""
             }
            },
            "type": "scattergeo"
           }
          ],
          "scattergl": [
           {
            "marker": {
             "colorbar": {
              "outlinewidth": 0,
              "ticks": ""
             }
            },
            "type": "scattergl"
           }
          ],
          "scattermapbox": [
           {
            "marker": {
             "colorbar": {
              "outlinewidth": 0,
              "ticks": ""
             }
            },
            "type": "scattermapbox"
           }
          ],
          "scatterpolar": [
           {
            "marker": {
             "colorbar": {
              "outlinewidth": 0,
              "ticks": ""
             }
            },
            "type": "scatterpolar"
           }
          ],
          "scatterpolargl": [
           {
            "marker": {
             "colorbar": {
              "outlinewidth": 0,
              "ticks": ""
             }
            },
            "type": "scatterpolargl"
           }
          ],
          "scatterternary": [
           {
            "marker": {
             "colorbar": {
              "outlinewidth": 0,
              "ticks": ""
             }
            },
            "type": "scatterternary"
           }
          ],
          "surface": [
           {
            "colorbar": {
             "outlinewidth": 0,
             "ticks": ""
            },
            "colorscale": [
             [
              0,
              "#0d0887"
             ],
             [
              0.1111111111111111,
              "#46039f"
             ],
             [
              0.2222222222222222,
              "#7201a8"
             ],
             [
              0.3333333333333333,
              "#9c179e"
             ],
             [
              0.4444444444444444,
              "#bd3786"
             ],
             [
              0.5555555555555556,
              "#d8576b"
             ],
             [
              0.6666666666666666,
              "#ed7953"
             ],
             [
              0.7777777777777778,
              "#fb9f3a"
             ],
             [
              0.8888888888888888,
              "#fdca26"
             ],
             [
              1,
              "#f0f921"
             ]
            ],
            "type": "surface"
           }
          ],
          "table": [
           {
            "cells": {
             "fill": {
              "color": "#EBF0F8"
             },
             "line": {
              "color": "white"
             }
            },
            "header": {
             "fill": {
              "color": "#C8D4E3"
             },
             "line": {
              "color": "white"
             }
            },
            "type": "table"
           }
          ]
         },
         "layout": {
          "annotationdefaults": {
           "arrowcolor": "#2a3f5f",
           "arrowhead": 0,
           "arrowwidth": 1
          },
          "autotypenumbers": "strict",
          "coloraxis": {
           "colorbar": {
            "outlinewidth": 0,
            "ticks": ""
           }
          },
          "colorscale": {
           "diverging": [
            [
             0,
             "#8e0152"
            ],
            [
             0.1,
             "#c51b7d"
            ],
            [
             0.2,
             "#de77ae"
            ],
            [
             0.3,
             "#f1b6da"
            ],
            [
             0.4,
             "#fde0ef"
            ],
            [
             0.5,
             "#f7f7f7"
            ],
            [
             0.6,
             "#e6f5d0"
            ],
            [
             0.7,
             "#b8e186"
            ],
            [
             0.8,
             "#7fbc41"
            ],
            [
             0.9,
             "#4d9221"
            ],
            [
             1,
             "#276419"
            ]
           ],
           "sequential": [
            [
             0,
             "#0d0887"
            ],
            [
             0.1111111111111111,
             "#46039f"
            ],
            [
             0.2222222222222222,
             "#7201a8"
            ],
            [
             0.3333333333333333,
             "#9c179e"
            ],
            [
             0.4444444444444444,
             "#bd3786"
            ],
            [
             0.5555555555555556,
             "#d8576b"
            ],
            [
             0.6666666666666666,
             "#ed7953"
            ],
            [
             0.7777777777777778,
             "#fb9f3a"
            ],
            [
             0.8888888888888888,
             "#fdca26"
            ],
            [
             1,
             "#f0f921"
            ]
           ],
           "sequentialminus": [
            [
             0,
             "#0d0887"
            ],
            [
             0.1111111111111111,
             "#46039f"
            ],
            [
             0.2222222222222222,
             "#7201a8"
            ],
            [
             0.3333333333333333,
             "#9c179e"
            ],
            [
             0.4444444444444444,
             "#bd3786"
            ],
            [
             0.5555555555555556,
             "#d8576b"
            ],
            [
             0.6666666666666666,
             "#ed7953"
            ],
            [
             0.7777777777777778,
             "#fb9f3a"
            ],
            [
             0.8888888888888888,
             "#fdca26"
            ],
            [
             1,
             "#f0f921"
            ]
           ]
          },
          "colorway": [
           "#636efa",
           "#EF553B",
           "#00cc96",
           "#ab63fa",
           "#FFA15A",
           "#19d3f3",
           "#FF6692",
           "#B6E880",
           "#FF97FF",
           "#FECB52"
          ],
          "font": {
           "color": "#2a3f5f"
          },
          "geo": {
           "bgcolor": "white",
           "lakecolor": "white",
           "landcolor": "#E5ECF6",
           "showlakes": true,
           "showland": true,
           "subunitcolor": "white"
          },
          "hoverlabel": {
           "align": "left"
          },
          "hovermode": "closest",
          "mapbox": {
           "style": "light"
          },
          "paper_bgcolor": "white",
          "plot_bgcolor": "#E5ECF6",
          "polar": {
           "angularaxis": {
            "gridcolor": "white",
            "linecolor": "white",
            "ticks": ""
           },
           "bgcolor": "#E5ECF6",
           "radialaxis": {
            "gridcolor": "white",
            "linecolor": "white",
            "ticks": ""
           }
          },
          "scene": {
           "xaxis": {
            "backgroundcolor": "#E5ECF6",
            "gridcolor": "white",
            "gridwidth": 2,
            "linecolor": "white",
            "showbackground": true,
            "ticks": "",
            "zerolinecolor": "white"
           },
           "yaxis": {
            "backgroundcolor": "#E5ECF6",
            "gridcolor": "white",
            "gridwidth": 2,
            "linecolor": "white",
            "showbackground": true,
            "ticks": "",
            "zerolinecolor": "white"
           },
           "zaxis": {
            "backgroundcolor": "#E5ECF6",
            "gridcolor": "white",
            "gridwidth": 2,
            "linecolor": "white",
            "showbackground": true,
            "ticks": "",
            "zerolinecolor": "white"
           }
          },
          "shapedefaults": {
           "line": {
            "color": "#2a3f5f"
           }
          },
          "ternary": {
           "aaxis": {
            "gridcolor": "white",
            "linecolor": "white",
            "ticks": ""
           },
           "baxis": {
            "gridcolor": "white",
            "linecolor": "white",
            "ticks": ""
           },
           "bgcolor": "#E5ECF6",
           "caxis": {
            "gridcolor": "white",
            "linecolor": "white",
            "ticks": ""
           }
          },
          "title": {
           "x": 0.05
          },
          "xaxis": {
           "automargin": true,
           "gridcolor": "white",
           "linecolor": "white",
           "ticks": "",
           "title": {
            "standoff": 15
           },
           "zerolinecolor": "white",
           "zerolinewidth": 2
          },
          "yaxis": {
           "automargin": true,
           "gridcolor": "white",
           "linecolor": "white",
           "ticks": "",
           "title": {
            "standoff": 15
           },
           "zerolinecolor": "white",
           "zerolinewidth": 2
          }
         }
        },
        "xaxis": {
         "anchor": "y",
         "domain": [
          0,
          1
         ],
         "title": {
          "text": "x"
         }
        },
        "yaxis": {
         "anchor": "x",
         "domain": [
          0,
          1
         ],
         "title": {
          "text": "y"
         }
        }
       }
      }
     },
     "metadata": {},
     "output_type": "display_data"
    }
   ],
   "source": [
    "dlondts = []\n",
    "datetimes = []\n",
    "for t in tqdm.tqdm(np.linspace(-30*DAY,30*DAY,100)):\n",
    "    mtime = mtime2 + t\n",
    "    dlondts += [mars.ecliptic_longitude_advance(mtime,tebas,method='SPICE',dt=1*DAY)]\n",
    "    datetimes += [mtime.obj_datejulianmix]\n",
    "px.line(x=datetimes,y=dlondts,markers=True)"
   ]
  },
  {
   "cell_type": "code",
   "execution_count": null,
   "metadata": {},
   "outputs": [
    {
     "name": "stdout",
     "output_type": "stream",
     "text": [
      "(-1499, 8, 10, 8, 52, 36.0801587998867) (-1499, 10, 18, 15, 23, 55.9593003988266)\n",
      "-1499-08-10 08:52:36 -1499-10-18 15:23:56\n"
     ]
    }
   ],
   "source": [
    "mtime = mtime2 + 1*YEAR\n",
    "epoch1 = pyplanets_Mars(mtime.obj_pyplanet).station_longitude_1()\n",
    "epoch2 = pyplanets_Mars(mtime.obj_pyplanet).station_longitude_2()\n",
    "mtime1 = MonTime(float(epoch1),format='jd',calendar='mixed')\n",
    "mtime2 = MonTime(float(epoch2),format='jd',calendar='mixed')\n",
    "\n",
    "# Report\n",
    "print(epoch1.get_full_date(),epoch2.get_full_date())\n",
    "print(mtime1.datemixed,mtime2.datemixed)"
   ]
  },
  {
   "cell_type": "code",
   "execution_count": null,
   "metadata": {},
   "outputs": [
    {
     "name": "stderr",
     "output_type": "stream",
     "text": [
      "  0%|          | 0/800 [00:00<?, ?it/s]"
     ]
    },
    {
     "name": "stderr",
     "output_type": "stream",
     "text": [
      "100%|██████████| 800/800 [00:03<00:00, 222.95it/s]\n"
     ]
    },
    {
     "data": {
      "application/vnd.plotly.v1+json": {
       "config": {
        "plotlyServerURL": "https://plot.ly"
       },
       "data": [
        {
         "hovertemplate": "x=%{x}<br>y=%{y}<extra></extra>",
         "legendgroup": "",
         "line": {
          "color": "#636efa",
          "dash": "solid"
         },
         "marker": {
          "symbol": "circle"
         },
         "mode": "markers+lines",
         "name": "",
         "orientation": "v",
         "showlegend": false,
         "type": "scatter",
         "x": [
          "3210-10-18T21:22:52",
          "3210-10-21T15:12:30",
          "3210-10-24T09:02:09",
          "3210-10-27T02:51:47",
          "3210-10-29T20:41:25",
          "3210-11-01T14:31:03",
          "3210-11-04T08:20:42",
          "3210-11-07T02:10:20",
          "3210-11-09T19:59:58",
          "3210-11-12T13:49:36",
          "3210-11-15T07:39:14",
          "3210-11-18T01:28:53",
          "3210-11-20T19:18:31",
          "3210-11-23T13:08:09",
          "3210-11-26T06:57:47",
          "3210-11-29T00:47:26",
          "3210-12-01T18:37:04",
          "3210-12-04T12:26:42",
          "3210-12-07T06:16:20",
          "3210-12-10T00:05:58",
          "3210-12-12T17:55:37",
          "3210-12-15T11:45:15",
          "3210-12-18T05:34:53",
          "3210-12-20T23:24:31",
          "3210-12-23T17:14:10",
          "3210-12-26T11:03:48",
          "3210-12-29T04:53:26",
          "3210-12-31T22:43:25",
          "3211-01-03T16:33:04",
          "3211-01-06T10:22:42",
          "3211-01-09T04:12:20",
          "3211-01-11T22:01:58",
          "3211-01-14T15:51:37",
          "3211-01-17T09:41:15",
          "3211-01-20T03:30:53",
          "3211-01-22T21:20:31",
          "3211-01-25T15:10:09",
          "3211-01-28T08:59:48",
          "3211-01-31T02:49:26",
          "3211-02-02T20:39:04",
          "3211-02-05T14:28:42",
          "3211-02-08T08:18:21",
          "3211-02-11T02:07:59",
          "3211-02-13T19:57:37",
          "3211-02-16T13:47:15",
          "3211-02-19T07:36:53",
          "3211-02-22T01:26:32",
          "3211-02-24T19:16:10",
          "3211-02-27T13:05:48",
          "3211-03-02T06:55:26",
          "3211-03-05T00:45:05",
          "3211-03-07T18:34:43",
          "3211-03-10T12:24:21",
          "3211-03-13T06:13:59",
          "3211-03-16T00:03:37",
          "3211-03-18T17:53:16",
          "3211-03-21T11:42:54",
          "3211-03-24T05:32:32",
          "3211-03-26T23:22:10",
          "3211-03-29T17:11:49",
          "3211-04-01T11:01:27",
          "3211-04-04T04:51:05",
          "3211-04-06T22:40:43",
          "3211-04-09T16:30:21",
          "3211-04-12T10:20:00",
          "3211-04-15T04:09:38",
          "3211-04-17T21:59:16",
          "3211-04-20T15:48:54",
          "3211-04-23T09:38:33",
          "3211-04-26T03:28:11",
          "3211-04-28T21:17:49",
          "3211-05-01T15:07:27",
          "3211-05-04T08:57:06",
          "3211-05-07T02:46:44",
          "3211-05-09T20:36:22",
          "3211-05-12T14:26:00",
          "3211-05-15T08:15:38",
          "3211-05-18T02:05:17",
          "3211-05-20T19:54:55",
          "3211-05-23T13:44:33",
          "3211-05-26T07:34:11",
          "3211-05-29T01:23:50",
          "3211-05-31T19:13:28",
          "3211-06-03T13:03:06",
          "3211-06-06T06:52:44",
          "3211-06-09T00:42:22",
          "3211-06-11T18:32:01",
          "3211-06-14T12:21:39",
          "3211-06-17T06:11:17",
          "3211-06-20T00:00:55",
          "3211-06-22T17:50:34",
          "3211-06-25T11:40:12",
          "3211-06-28T05:29:50",
          "3211-06-30T23:19:28",
          "3211-07-03T17:09:06",
          "3211-07-06T10:58:45",
          "3211-07-09T04:48:23",
          "3211-07-11T22:38:01",
          "3211-07-14T16:27:39",
          "3211-07-17T10:17:18",
          "3211-07-20T04:06:56",
          "3211-07-22T21:56:34",
          "3211-07-25T15:46:12",
          "3211-07-28T09:35:50",
          "3211-07-31T03:25:29",
          "3211-08-02T21:15:07",
          "3211-08-05T15:04:45",
          "3211-08-08T08:54:23",
          "3211-08-11T02:44:02",
          "3211-08-13T20:33:40",
          "3211-08-16T14:23:18",
          "3211-08-19T08:12:56",
          "3211-08-22T02:02:34",
          "3211-08-24T19:52:13",
          "3211-08-27T13:41:51",
          "3211-08-30T07:31:29",
          "3211-09-02T01:21:07",
          "3211-09-04T19:10:46",
          "3211-09-07T13:00:24",
          "3211-09-10T06:50:02",
          "3211-09-13T00:39:40",
          "3211-09-15T18:29:18",
          "3211-09-18T12:18:57",
          "3211-09-21T06:08:35",
          "3211-09-23T23:58:13",
          "3211-09-26T17:47:51",
          "3211-09-29T11:37:30",
          "3211-10-02T05:27:08",
          "3211-10-04T23:16:46",
          "3211-10-07T17:06:24",
          "3211-10-10T10:56:02",
          "3211-10-13T04:45:41",
          "3211-10-15T22:35:19",
          "3211-10-18T16:24:57",
          "3211-10-21T10:14:35",
          "3211-10-24T04:04:14",
          "3211-10-26T21:53:52",
          "3211-10-29T15:43:30",
          "3211-11-01T09:33:08",
          "3211-11-04T03:22:46",
          "3211-11-06T21:12:25",
          "3211-11-09T15:02:03",
          "3211-11-12T08:51:41",
          "3211-11-15T02:41:19",
          "3211-11-17T20:30:58",
          "3211-11-20T14:20:36",
          "3211-11-23T08:10:14",
          "3211-11-26T01:59:52",
          "3211-11-28T19:49:30",
          "3211-12-01T13:39:09",
          "3211-12-04T07:28:47",
          "3211-12-07T01:18:25",
          "3211-12-09T19:08:03",
          "3211-12-12T12:57:42",
          "3211-12-15T06:47:20",
          "3211-12-18T00:36:58",
          "3211-12-20T18:26:36",
          "3211-12-23T12:16:14",
          "3211-12-26T06:05:53",
          "3211-12-28T23:55:31",
          "3211-12-31T17:45:30",
          "3212-01-03T11:35:09",
          "3212-01-06T05:24:47",
          "3212-01-08T23:14:25",
          "3212-01-11T17:04:03",
          "3212-01-14T10:53:41",
          "3212-01-17T04:43:20",
          "3212-01-19T22:32:58",
          "3212-01-22T16:22:36",
          "3212-01-25T10:12:14",
          "3212-01-28T04:01:53",
          "3212-01-30T21:51:31",
          "3212-02-02T15:41:09",
          "3212-02-05T09:30:47",
          "3212-02-08T03:20:25",
          "3212-02-10T21:10:04",
          "3212-02-13T14:59:42",
          "3212-02-16T08:49:20",
          "3212-02-19T02:38:58",
          "3212-02-21T20:28:37",
          "3212-02-24T14:18:15",
          "3212-02-27T08:07:53",
          "3212-03-01T01:57:31",
          "3212-03-03T19:47:09",
          "3212-03-06T13:36:48",
          "3212-03-09T07:26:26",
          "3212-03-12T01:16:04",
          "3212-03-14T19:05:42",
          "3212-03-17T12:55:21",
          "3212-03-20T06:44:59",
          "3212-03-23T00:34:37",
          "3212-03-25T18:24:15",
          "3212-03-28T12:13:53",
          "3212-03-31T06:03:32",
          "3212-04-02T23:53:10",
          "3212-04-05T17:42:48",
          "3212-04-08T11:32:26",
          "3212-04-11T05:22:05",
          "3212-04-13T23:11:43",
          "3212-04-16T17:01:21",
          "3212-04-19T10:50:59",
          "3212-04-22T04:40:37",
          "3212-04-24T22:30:16",
          "3212-04-27T16:19:54",
          "3212-04-30T10:09:32",
          "3212-05-03T03:59:10",
          "3212-05-05T21:48:49",
          "3212-05-08T15:38:27",
          "3212-05-11T09:28:05",
          "3212-05-14T03:17:43",
          "3212-05-16T21:07:21",
          "3212-05-19T14:57:00",
          "3212-05-22T08:46:38",
          "3212-05-25T02:36:16",
          "3212-05-27T20:25:54",
          "3212-05-30T14:15:33",
          "3212-06-02T08:05:11",
          "3212-06-05T01:54:49",
          "3212-06-07T19:44:27",
          "3212-06-10T13:34:06",
          "3212-06-13T07:23:44",
          "3212-06-16T01:13:22",
          "3212-06-18T19:03:00",
          "3212-06-21T12:52:38",
          "3212-06-24T06:42:17",
          "3212-06-27T00:31:55",
          "3212-06-29T18:21:33",
          "3212-07-02T12:11:11",
          "3212-07-05T06:00:50",
          "3212-07-07T23:50:28",
          "3212-07-10T17:40:06",
          "3212-07-13T11:29:44",
          "3212-07-16T05:19:22",
          "3212-07-18T23:09:01",
          "3212-07-21T16:58:39",
          "3212-07-24T10:48:17",
          "3212-07-27T04:37:55",
          "3212-07-29T22:27:34",
          "3212-08-01T16:17:12",
          "3212-08-04T10:06:50",
          "3212-08-07T03:56:28",
          "3212-08-09T21:46:06",
          "3212-08-12T15:35:45",
          "3212-08-15T09:25:23",
          "3212-08-18T03:15:01",
          "3212-08-20T21:04:39",
          "3212-08-23T14:54:18",
          "3212-08-26T08:43:56",
          "3212-08-29T02:33:34",
          "3212-08-31T20:23:12",
          "3212-09-03T14:12:50",
          "3212-09-06T08:02:29",
          "3212-09-09T01:52:07",
          "3212-09-11T19:41:45",
          "3212-09-14T13:31:23",
          "3212-09-17T07:21:02",
          "3212-09-20T01:10:40",
          "3212-09-22T19:00:18",
          "3212-09-25T12:49:56",
          "3212-09-28T06:39:34",
          "3212-10-01T00:29:13",
          "3212-10-03T18:18:51",
          "3212-10-06T12:08:29",
          "3212-10-09T05:58:07",
          "3212-10-11T23:47:46",
          "3212-10-14T17:37:24",
          "3212-10-17T11:27:02",
          "3212-10-20T05:16:40",
          "3212-10-22T23:06:18",
          "3212-10-25T16:55:57",
          "3212-10-28T10:45:35",
          "3212-10-31T04:35:13",
          "3212-11-02T22:24:51",
          "3212-11-05T16:14:30",
          "3212-11-08T10:04:08",
          "3212-11-11T03:53:46",
          "3212-11-13T21:43:24",
          "3212-11-16T15:33:02",
          "3212-11-19T09:22:41",
          "3212-11-22T03:12:19",
          "3212-11-24T21:01:57",
          "3212-11-27T14:51:35",
          "3212-11-30T08:41:14",
          "3212-12-03T02:30:52",
          "3212-12-05T20:20:30",
          "3212-12-08T14:10:08",
          "3212-12-11T07:59:46",
          "3212-12-14T01:49:25",
          "3212-12-16T19:39:03",
          "3212-12-19T13:28:41",
          "3212-12-22T07:18:19",
          "3212-12-25T01:07:58",
          "3212-12-27T18:57:36",
          "3212-12-30T12:47:14",
          "3213-01-02T06:37:13",
          "3213-01-05T00:26:52",
          "3213-01-07T18:16:30",
          "3213-01-10T12:06:08",
          "3213-01-13T05:55:46",
          "3213-01-15T23:45:25",
          "3213-01-18T17:35:03",
          "3213-01-21T11:24:41",
          "3213-01-24T05:14:19",
          "3213-01-26T23:03:57",
          "3213-01-29T16:53:36",
          "3213-02-01T10:43:14",
          "3213-02-04T04:32:52",
          "3213-02-06T22:22:30",
          "3213-02-09T16:12:09",
          "3213-02-12T10:01:47",
          "3213-02-15T03:51:25",
          "3213-02-17T21:41:03",
          "3213-02-20T15:30:41",
          "3213-02-23T09:20:20",
          "3213-02-26T03:09:58",
          "3213-02-28T20:59:36",
          "3213-03-03T14:49:14",
          "3213-03-06T08:38:53",
          "3213-03-09T02:28:31",
          "3213-03-11T20:18:09",
          "3213-03-14T14:07:47",
          "3213-03-17T07:57:25",
          "3213-03-20T01:47:04",
          "3213-03-22T19:36:42",
          "3213-03-25T13:26:20",
          "3213-03-28T07:15:58",
          "3213-03-31T01:05:37",
          "3213-04-02T18:55:15",
          "3213-04-05T12:44:53",
          "3213-04-08T06:34:31",
          "3213-04-11T00:24:09",
          "3213-04-13T18:13:48",
          "3213-04-16T12:03:26",
          "3213-04-19T05:53:04",
          "3213-04-21T23:42:42",
          "3213-04-24T17:32:21",
          "3213-04-27T11:21:59",
          "3213-04-30T05:11:37",
          "3213-05-02T23:01:15",
          "3213-05-05T16:50:53",
          "3213-05-08T10:40:32",
          "3213-05-11T04:30:10",
          "3213-05-13T22:19:48",
          "3213-05-16T16:09:26",
          "3213-05-19T09:59:05",
          "3213-05-22T03:48:43",
          "3213-05-24T21:38:21",
          "3213-05-27T15:27:59",
          "3213-05-30T09:17:37",
          "3213-06-02T03:07:16",
          "3213-06-04T20:56:54",
          "3213-06-07T14:46:32",
          "3213-06-10T08:36:10",
          "3213-06-13T02:25:49",
          "3213-06-15T20:15:27",
          "3213-06-18T14:05:05",
          "3213-06-21T07:54:43",
          "3213-06-24T01:44:21",
          "3213-06-26T19:34:00",
          "3213-06-29T13:23:38",
          "3213-07-02T07:13:16",
          "3213-07-05T01:02:54",
          "3213-07-07T18:52:33",
          "3213-07-10T12:42:11",
          "3213-07-13T06:31:49",
          "3213-07-16T00:21:27",
          "3213-07-18T18:11:05",
          "3213-07-21T12:00:44",
          "3213-07-24T05:50:22",
          "3213-07-26T23:40:00",
          "3213-07-29T17:29:38",
          "3213-08-01T11:19:17",
          "3213-08-04T05:08:55",
          "3213-08-06T22:58:33",
          "3213-08-09T16:48:11",
          "3213-08-12T10:37:50",
          "3213-08-15T04:27:28",
          "3213-08-17T22:17:06",
          "3213-08-20T16:06:44",
          "3213-08-23T09:56:22",
          "3213-08-26T03:46:01",
          "3213-08-28T21:35:39",
          "3213-08-31T15:25:17",
          "3213-09-03T09:14:55",
          "3213-09-06T03:04:34",
          "3213-09-08T20:54:12",
          "3213-09-11T14:43:50",
          "3213-09-14T08:33:28",
          "3213-09-17T02:23:06",
          "3213-09-19T20:12:45",
          "3213-09-22T14:02:23",
          "3213-09-25T07:52:01",
          "3213-09-28T01:41:39",
          "3213-09-30T19:31:18",
          "3213-10-03T13:20:56",
          "3213-10-06T07:10:34",
          "3213-10-09T01:00:12",
          "3213-10-11T18:49:50",
          "3213-10-14T12:39:29",
          "3213-10-17T06:29:07",
          "3213-10-20T00:18:45",
          "3213-10-22T18:08:23",
          "3213-10-25T11:58:02",
          "3213-10-28T05:47:40",
          "3213-10-30T23:37:18",
          "3213-11-02T17:26:56",
          "3213-11-05T11:16:34",
          "3213-11-08T05:06:13",
          "3213-11-10T22:55:51",
          "3213-11-13T16:45:29",
          "3213-11-16T10:35:07",
          "3213-11-19T04:24:46",
          "3213-11-21T22:14:24",
          "3213-11-24T16:04:02",
          "3213-11-27T09:53:40",
          "3213-11-30T03:43:18",
          "3213-12-02T21:32:57",
          "3213-12-05T15:22:35",
          "3213-12-08T09:12:13",
          "3213-12-11T03:01:51",
          "3213-12-13T20:51:30",
          "3213-12-16T14:41:08",
          "3213-12-19T08:30:46",
          "3213-12-22T02:20:24",
          "3213-12-24T20:10:02",
          "3213-12-27T13:59:41",
          "3213-12-30T07:49:19",
          "3214-01-02T01:39:18",
          "3214-01-04T19:28:57",
          "3214-01-07T13:18:35",
          "3214-01-10T07:08:13",
          "3214-01-13T00:57:51",
          "3214-01-15T18:47:29",
          "3214-01-18T12:37:08",
          "3214-01-21T06:26:46",
          "3214-01-24T00:16:24",
          "3214-01-26T18:06:02",
          "3214-01-29T11:55:41",
          "3214-02-01T05:45:19",
          "3214-02-03T23:34:57",
          "3214-02-06T17:24:35",
          "3214-02-09T11:14:13",
          "3214-02-12T05:03:52",
          "3214-02-14T22:53:30",
          "3214-02-17T16:43:08",
          "3214-02-20T10:32:46",
          "3214-02-23T04:22:25",
          "3214-02-25T22:12:03",
          "3214-02-28T16:01:41",
          "3214-03-03T09:51:19",
          "3214-03-06T03:40:57",
          "3214-03-08T21:30:36",
          "3214-03-11T15:20:14",
          "3214-03-14T09:09:52",
          "3214-03-17T02:59:30",
          "3214-03-19T20:49:09",
          "3214-03-22T14:38:47",
          "3214-03-25T08:28:25",
          "3214-03-28T02:18:03",
          "3214-03-30T20:07:41",
          "3214-04-02T13:57:20",
          "3214-04-05T07:46:58",
          "3214-04-08T01:36:36",
          "3214-04-10T19:26:14",
          "3214-04-13T13:15:53",
          "3214-04-16T07:05:31",
          "3214-04-19T00:55:09",
          "3214-04-21T18:44:47",
          "3214-04-24T12:34:25",
          "3214-04-27T06:24:04",
          "3214-04-30T00:13:42",
          "3214-05-02T18:03:20",
          "3214-05-05T11:52:58",
          "3214-05-08T05:42:37",
          "3214-05-10T23:32:15",
          "3214-05-13T17:21:53",
          "3214-05-16T11:11:31",
          "3214-05-19T05:01:09",
          "3214-05-21T22:50:48",
          "3214-05-24T16:40:26",
          "3214-05-27T10:30:04",
          "3214-05-30T04:19:42",
          "3214-06-01T22:09:21",
          "3214-06-04T15:58:59",
          "3214-06-07T09:48:37",
          "3214-06-10T03:38:15",
          "3214-06-12T21:27:53",
          "3214-06-15T15:17:32",
          "3214-06-18T09:07:10",
          "3214-06-21T02:56:48",
          "3214-06-23T20:46:26",
          "3214-06-26T14:36:05",
          "3214-06-29T08:25:43",
          "3214-07-02T02:15:21",
          "3214-07-04T20:04:59",
          "3214-07-07T13:54:37",
          "3214-07-10T07:44:16",
          "3214-07-13T01:33:54",
          "3214-07-15T19:23:32",
          "3214-07-18T13:13:10",
          "3214-07-21T07:02:49",
          "3214-07-24T00:52:27",
          "3214-07-26T18:42:05",
          "3214-07-29T12:31:43",
          "3214-08-01T06:21:21",
          "3214-08-04T00:11:00",
          "3214-08-06T18:00:38",
          "3214-08-09T11:50:16",
          "3214-08-12T05:39:54",
          "3214-08-14T23:29:33",
          "3214-08-17T17:19:11",
          "3214-08-20T11:08:49",
          "3214-08-23T04:58:27",
          "3214-08-25T22:48:05",
          "3214-08-28T16:37:44",
          "3214-08-31T10:27:22",
          "3214-09-03T04:17:00",
          "3214-09-05T22:06:38",
          "3214-09-08T15:56:17",
          "3214-09-11T09:45:55",
          "3214-09-14T03:35:33",
          "3214-09-16T21:25:11",
          "3214-09-19T15:14:49",
          "3214-09-22T09:04:28",
          "3214-09-25T02:54:06",
          "3214-09-27T20:43:44",
          "3214-09-30T14:33:22",
          "3214-10-03T08:23:01",
          "3214-10-06T02:12:39",
          "3214-10-08T20:02:17",
          "3214-10-11T13:51:55",
          "3214-10-14T07:41:33",
          "3214-10-17T01:31:12",
          "3214-10-19T19:20:50",
          "3214-10-22T13:10:28",
          "3214-10-25T07:00:06",
          "3214-10-28T00:49:45",
          "3214-10-30T18:39:23",
          "3214-11-02T12:29:01",
          "3214-11-05T06:18:39",
          "3214-11-08T00:08:17",
          "3214-11-10T17:57:56",
          "3214-11-13T11:47:34",
          "3214-11-16T05:37:12",
          "3214-11-18T23:26:50",
          "3214-11-21T17:16:29",
          "3214-11-24T11:06:07",
          "3214-11-27T04:55:45",
          "3214-11-29T22:45:23",
          "3214-12-02T16:35:02",
          "3214-12-05T10:24:40",
          "3214-12-08T04:14:18",
          "3214-12-10T22:03:56",
          "3214-12-13T15:53:34",
          "3214-12-16T09:43:13",
          "3214-12-19T03:32:51",
          "3214-12-21T21:22:29",
          "3214-12-24T15:12:07",
          "3214-12-27T09:01:46",
          "3214-12-30T02:51:24",
          "3215-01-01T20:41:23",
          "3215-01-04T14:31:01",
          "3215-01-07T08:20:40",
          "3215-01-10T02:10:18",
          "3215-01-12T19:59:56",
          "3215-01-15T13:49:34",
          "3215-01-18T07:39:13",
          "3215-01-21T01:28:51",
          "3215-01-23T19:18:29",
          "3215-01-26T13:08:07",
          "3215-01-29T06:57:45",
          "3215-02-01T00:47:24",
          "3215-02-03T18:37:02",
          "3215-02-06T12:26:40",
          "3215-02-09T06:16:18",
          "3215-02-12T00:05:57",
          "3215-02-14T17:55:35",
          "3215-02-17T11:45:13",
          "3215-02-20T05:34:51",
          "3215-02-22T23:24:29",
          "3215-02-25T17:14:08",
          "3215-02-28T11:03:46",
          "3215-03-03T04:53:24",
          "3215-03-05T22:43:02",
          "3215-03-08T16:32:41",
          "3215-03-11T10:22:19",
          "3215-03-14T04:11:57",
          "3215-03-16T22:01:35",
          "3215-03-19T15:51:13",
          "3215-03-22T09:40:52",
          "3215-03-25T03:30:30",
          "3215-03-27T21:20:08",
          "3215-03-30T15:09:46",
          "3215-04-02T08:59:25",
          "3215-04-05T02:49:03",
          "3215-04-07T20:38:41",
          "3215-04-10T14:28:19",
          "3215-04-13T08:17:57",
          "3215-04-16T02:07:36",
          "3215-04-18T19:57:14",
          "3215-04-21T13:46:52",
          "3215-04-24T07:36:30",
          "3215-04-27T01:26:09",
          "3215-04-29T19:15:47",
          "3215-05-02T13:05:25",
          "3215-05-05T06:55:03",
          "3215-05-08T00:44:41",
          "3215-05-10T18:34:20",
          "3215-05-13T12:23:58",
          "3215-05-16T06:13:36",
          "3215-05-19T00:03:14",
          "3215-05-21T17:52:53",
          "3215-05-24T11:42:31",
          "3215-05-27T05:32:09",
          "3215-05-29T23:21:47",
          "3215-06-01T17:11:25",
          "3215-06-04T11:01:04",
          "3215-06-07T04:50:42",
          "3215-06-09T22:40:20",
          "3215-06-12T16:29:58",
          "3215-06-15T10:19:37",
          "3215-06-18T04:09:15",
          "3215-06-20T21:58:53",
          "3215-06-23T15:48:31",
          "3215-06-26T09:38:09",
          "3215-06-29T03:27:48",
          "3215-07-01T21:17:26",
          "3215-07-04T15:07:04",
          "3215-07-07T08:56:42",
          "3215-07-10T02:46:21",
          "3215-07-12T20:35:59",
          "3215-07-15T14:25:37",
          "3215-07-18T08:15:15",
          "3215-07-21T02:04:53",
          "3215-07-23T19:54:32",
          "3215-07-26T13:44:10",
          "3215-07-29T07:33:48",
          "3215-08-01T01:23:26",
          "3215-08-03T19:13:05",
          "3215-08-06T13:02:43",
          "3215-08-09T06:52:21",
          "3215-08-12T00:41:59",
          "3215-08-14T18:31:37",
          "3215-08-17T12:21:16",
          "3215-08-20T06:10:54",
          "3215-08-23T00:00:32",
          "3215-08-25T17:50:10",
          "3215-08-28T11:39:49",
          "3215-08-31T05:29:27",
          "3215-09-02T23:19:05",
          "3215-09-05T17:08:43",
          "3215-09-08T10:58:21",
          "3215-09-11T04:48:00",
          "3215-09-13T22:37:38",
          "3215-09-16T16:27:16",
          "3215-09-19T10:16:54",
          "3215-09-22T04:06:33",
          "3215-09-24T21:56:11",
          "3215-09-27T15:45:49",
          "3215-09-30T09:35:27",
          "3215-10-03T03:25:05",
          "3215-10-05T21:14:44",
          "3215-10-08T15:04:22",
          "3215-10-11T08:54:00",
          "3215-10-14T02:43:38",
          "3215-10-16T20:33:17",
          "3215-10-19T14:22:55",
          "3215-10-22T08:12:33",
          "3215-10-25T02:02:11",
          "3215-10-27T19:51:49",
          "3215-10-30T13:41:28",
          "3215-11-02T07:31:06",
          "3215-11-05T01:20:44",
          "3215-11-07T19:10:22",
          "3215-11-10T13:00:01",
          "3215-11-13T06:49:39",
          "3215-11-16T00:39:17",
          "3215-11-18T18:28:55",
          "3215-11-21T12:18:33",
          "3215-11-24T06:08:12",
          "3215-11-26T23:57:50",
          "3215-11-29T17:47:28",
          "3215-12-02T11:37:06",
          "3215-12-05T05:26:45",
          "3215-12-07T23:16:23",
          "3215-12-10T17:06:01",
          "3215-12-13T10:55:39",
          "3215-12-16T04:45:17",
          "3215-12-18T22:34:56",
          "3215-12-21T16:24:34",
          "3215-12-24T10:14:12",
          "3215-12-27T04:03:50",
          "3215-12-29T21:53:29",
          "3216-01-01T15:43:28",
          "3216-01-04T09:33:06",
          "3216-01-07T03:22:44",
          "3216-01-09T21:12:23",
          "3216-01-12T15:02:01",
          "3216-01-15T08:51:39",
          "3216-01-18T02:41:17",
          "3216-01-20T20:30:56",
          "3216-01-23T14:20:34",
          "3216-01-26T08:10:12",
          "3216-01-29T01:59:50",
          "3216-01-31T19:49:28",
          "3216-02-03T13:39:07",
          "3216-02-06T07:28:45",
          "3216-02-09T01:18:23",
          "3216-02-11T19:08:01",
          "3216-02-14T12:57:40",
          "3216-02-17T06:47:18",
          "3216-02-20T00:36:56",
          "3216-02-22T18:26:34",
          "3216-02-25T12:16:12",
          "3216-02-28T06:05:51",
          "3216-03-01T23:55:29",
          "3216-03-04T17:45:07",
          "3216-03-07T11:34:45",
          "3216-03-10T05:24:24",
          "3216-03-12T23:14:02",
          "3216-03-15T17:03:40",
          "3216-03-18T10:53:18",
          "3216-03-21T04:42:57",
          "3216-03-23T22:32:35",
          "3216-03-26T16:22:13",
          "3216-03-29T10:11:51",
          "3216-04-01T04:01:29",
          "3216-04-03T21:51:08",
          "3216-04-06T15:40:46",
          "3216-04-09T09:30:24",
          "3216-04-12T03:20:02",
          "3216-04-14T21:09:41",
          "3216-04-17T14:59:19",
          "3216-04-20T08:48:57",
          "3216-04-23T02:38:35",
          "3216-04-25T20:28:13",
          "3216-04-28T14:17:52",
          "3216-05-01T08:07:30",
          "3216-05-04T01:57:08",
          "3216-05-06T19:46:46",
          "3216-05-09T13:36:25",
          "3216-05-12T07:26:03",
          "3216-05-15T01:15:41",
          "3216-05-17T19:05:19",
          "3216-05-20T12:54:57",
          "3216-05-23T06:44:36",
          "3216-05-26T00:34:14",
          "3216-05-28T18:23:52",
          "3216-05-31T12:13:30",
          "3216-06-03T06:03:09",
          "3216-06-05T23:52:47",
          "3216-06-08T17:42:25",
          "3216-06-11T11:32:03",
          "3216-06-14T05:21:41",
          "3216-06-16T23:11:20",
          "3216-06-19T17:00:58",
          "3216-06-22T10:50:36",
          "3216-06-25T04:40:14",
          "3216-06-27T22:29:53",
          "3216-06-30T16:19:31",
          "3216-07-03T10:09:09",
          "3216-07-06T03:58:47",
          "3216-07-08T21:48:25",
          "3216-07-11T15:38:04",
          "3216-07-14T09:27:42",
          "3216-07-17T03:17:20",
          "3216-07-19T21:06:58",
          "3216-07-22T14:56:37",
          "3216-07-25T08:46:15",
          "3216-07-28T02:35:53",
          "3216-07-30T20:25:31",
          "3216-08-02T14:15:09",
          "3216-08-05T08:04:48",
          "3216-08-08T01:54:26",
          "3216-08-10T19:44:04",
          "3216-08-13T13:33:42",
          "3216-08-16T07:23:21",
          "3216-08-19T01:12:59",
          "3216-08-21T19:02:37",
          "3216-08-24T12:52:15",
          "3216-08-27T06:41:53",
          "3216-08-30T00:31:32",
          "3216-09-01T18:21:10",
          "3216-09-04T12:10:48",
          "3216-09-07T06:00:26",
          "3216-09-09T23:50:05",
          "3216-09-12T17:39:43",
          "3216-09-15T11:29:21",
          "3216-09-18T05:18:59",
          "3216-09-20T23:08:37",
          "3216-09-23T16:58:16",
          "3216-09-26T10:47:54",
          "3216-09-29T04:37:32",
          "3216-10-01T22:27:10",
          "3216-10-04T16:16:49",
          "3216-10-07T10:06:27",
          "3216-10-10T03:56:05",
          "3216-10-12T21:45:43",
          "3216-10-15T15:35:21",
          "3216-10-18T09:25:00"
         ],
         "xaxis": "x",
         "y": [
          0.6446586132937426,
          0.6450004516962338,
          0.6453338633325956,
          0.6455884205298901,
          0.6457521528487433,
          0.6458663040443895,
          0.6459252601949572,
          0.645918666153591,
          0.6459055039929069,
          0.6459311811808988,
          0.6459980330534165,
          0.6460966929361547,
          0.6461991334806214,
          0.6462430286078416,
          0.6461817829217864,
          0.6460313396284505,
          0.6458049837197422,
          0.6454889836271889,
          0.6451121830798314,
          0.6447368842338221,
          0.644413288910954,
          0.6441336386988183,
          0.6438334419046043,
          0.6434572201170852,
          0.6429978950885129,
          0.64243944456706,
          0.6417285828321297,
          0.6408635259859352,
          0.6399199467023777,
          0.6389470376452095,
          0.6379557851040829,
          0.6369773080595422,
          0.6360087675742818,
          0.6349580502281924,
          0.6337565682546256,
          0.6324091941224168,
          0.6308871314754754,
          0.6291274157027544,
          0.6271499664092346,
          0.625066918477998,
          0.6229477019642218,
          0.620761917507437,
          0.6184696667462504,
          0.6160651339652787,
          0.6135163451071151,
          0.6107090351068933,
          0.6075248459440274,
          0.6039766749406397,
          0.6001226909530857,
          0.5959686844021945,
          0.5915425056405894,
          0.5869252737313104,
          0.5821234240088415,
          0.5770261759915059,
          0.5715579524292878,
          0.5656900591135781,
          0.5592670905394641,
          0.5521229205785545,
          0.5442701867208797,
          0.5358532953047899,
          0.5269193794343607,
          0.5173784348079948,
          0.5072068123463112,
          0.49647771855751444,
          0.48513410892354614,
          0.4729074129508888,
          0.45952314924716114,
          0.44494650183156637,
          0.4291812945043319,
          0.41213019449958216,
          0.3938212707440414,
          0.3744163430826575,
          0.3539123741992398,
          0.33213603534571234,
          0.3090506698298725,
          0.2846790402005581,
          0.25870502985938515,
          0.23074402077790523,
          0.20087370658518466,
          0.16948688910559895,
          0.13680833024685057,
          0.10287428157482736,
          0.06797734403517097,
          0.03270680931319703,
          -0.002556628422723861,
          -0.03781479869255122,
          -0.07298406886062025,
          -0.1074781510554601,
          -0.1405058441213214,
          -0.1714461887063123,
          -0.19948485295554974,
          -0.2234398301664271,
          -0.2423548820977146,
          -0.255868056551634,
          -0.26378269200517934,
          -0.2658167285130446,
          -0.2620640431178458,
          -0.2530910091690828,
          -0.23926832318670677,
          -0.22053356222809842,
          -0.19698661760671143,
          -0.16932778058517783,
          -0.13843587547935954,
          -0.10488227200704614,
          -0.06924812801477742,
          -0.03257508933634767,
          0.004028275598386699,
          0.04007045015109156,
          0.0755302227974255,
          0.11022665865635872,
          0.14383317970271037,
          0.176305935918748,
          0.20776163520423552,
          0.2380488056661534,
          0.2668339620520044,
          0.2939543880558233,
          0.319395190447608,
          0.34309107128103733,
          0.36502466222239605,
          0.38544218879764003,
          0.40467313445711284,
          0.4228098669166229,
          0.43980482738194837,
          0.4557636342320279,
          0.4708635830705816,
          0.48502259523269237,
          0.4979877455883468,
          0.5097814581635589,
          0.5206452078663801,
          0.5307140190457744,
          0.5400220856890883,
          0.5486897709026834,
          0.5568733438483946,
          0.5646050028418585,
          0.5718668914569491,
          0.5786777299954053,
          0.5849578857531696,
          0.5906118613632145,
          0.5956590769563093,
          0.6002410311120912,
          0.6045029282713301,
          0.6084678804598127,
          0.6121193846663289,
          0.6155355651744117,
          0.6188312965034868,
          0.6219949106580316,
          0.6248435880686998,
          0.627297234304109,
          0.629449216389304,
          0.6313483605155739,
          0.6330095360750363,
          0.6344962151934226,
          0.635867219640204,
          0.6371320196932402,
          0.6383250976884938,
          0.6395115476753688,
          0.6406177802878688,
          0.641486945803166,
          0.6421144996361932,
          0.642591513581749,
          0.6429698293177637,
          0.6432361004206939,
          0.643390342940819,
          0.6435010750813603,
          0.643649968768301,
          0.6438464946712656,
          0.6440080378976916,
          0.6440500467745949,
          0.6439721028815484,
          0.6437911399856091,
          0.6435229301621632,
          0.6431956822804921,
          0.6428161293114272,
          0.6423981177197504,
          0.6420224201013516,
          0.6417516256710634,
          0.6415181470882891,
          0.6412136586267838,
          0.6408294089453848,
          0.6404088698297983,
          0.6399522726886149,
          0.639437099096611,
          0.6388685632294164,
          0.638290656507186,
          0.6377808420836342,
          0.6373775227810814,
          0.6370286246562351,
          0.6366750951201983,
          0.6362970056071902,
          0.6358954318140491,
          0.635477589691197,
          0.6350394934814112,
          0.6345592056329004,
          0.6340470646007326,
          0.6335998273228753,
          0.6332937232590012,
          0.6330567186708151,
          0.6328202042422646,
          0.6325991006094966,
          0.6324046533054144,
          0.632205734620257,
          0.6319757483394142,
          0.6317176865425544,
          0.631447991915234,
          0.6312201682946394,
          0.6311107325016998,
          0.6310928517307239,
          0.6311122340774489,
          0.631158508753586,
          0.6312351975303159,
          0.6313370953122259,
          0.6314316497779942,
          0.6314828597678712,
          0.6315053838808993,
          0.631575458748074,
          0.6317622956492386,
          0.6320222582924018,
          0.6323161167898022,
          0.6326767236234687,
          0.6330965583324328,
          0.6335307379379387,
          0.6339507665043129,
          0.6343480405978212,
          0.6347225852234573,
          0.6351116344685508,
          0.6355862689168248,
          0.6361469487456404,
          0.6367509514510488,
          0.6374121529008718,
          0.6381402437479977,
          0.6389137368912188,
          0.6396803647073384,
          0.6403972816316923,
          0.6410812930375513,
          0.6417925877956137,
          0.6425679250723206,
          0.6433860029972536,
          0.6442415408123878,
          0.6451837422478519,
          0.6462034634054774,
          0.6472511736284474,
          0.6482964230269346,
          0.6493118133599296,
          0.6502813712694504,
          0.6512425706404414,
          0.65224904076981,
          0.6532943472297177,
          0.6543597545217779,
          0.655489052776943,
          0.6567107010435365,
          0.657985299035019,
          0.659251259090567,
          0.6604687116312391,
          0.6616413312452066,
          0.6628071379117698,
          0.6639824993216051,
          0.6651515196776216,
          0.6663372511630428,
          0.6675948034846044,
          0.6689337456447076,
          0.6703173502690447,
          0.6717083848348295,
          0.6730660744696735,
          0.674362284325511,
          0.6756264320726615,
          0.6768889400939457,
          0.6781201593173164,
          0.6793344790100235,
          0.6806063740001349,
          0.6819723612522495,
          0.6833914604388838,
          0.6848053318884837,
          0.6861883712564917,
          0.6875317035899967,
          0.6888352103742933,
          0.6900966272018393,
          0.6912901084301097,
          0.6924585483218095,
          0.6936730564311091,
          0.6949588247408798,
          0.6963041521451032,
          0.6976661149015371,
          0.698994567025025,
          0.7002739073770812,
          0.7015234020761199,
          0.702730866688114,
          0.7038188118668529,
          0.7048248974629985,
          0.7058778488412969,
          0.7070096474349441,
          0.7081778082877435,
          0.7093490240381045,
          0.7105109312408898,
          0.7116426331880206,
          0.7127217022700876,
          0.7137317652931756,
          0.7146140553670648,
          0.7153695390650512,
          0.7161085741874871,
          0.7168977556737559,
          0.7177377034033441,
          0.71858049022633,
          0.7193785473727417,
          0.7201372043578118,
          0.7208701540126299,
          0.7215175771463294,
          0.721966587433883,
          0.7222213258887251,
          0.7224306623478896,
          0.7226489605470334,
          0.722844791300659,
          0.7230165674146463,
          0.7231656172710359,
          0.7232586760963216,
          0.7232659385685166,
          0.7231561145838725,
          0.7228407616266567,
          0.7222545136464191,
          0.7214850681409075,
          0.7206551842656665,
          0.7197852395788686,
          0.7188246574103232,
          0.7177509113532495,
          0.7166024087258904,
          0.7153843629208438,
          0.7139796291505717,
          0.7122446799198769,
          0.7101709516309711,
          0.707847589140016,
          0.7053197510293785,
          0.7025980820760083,
          0.6997186468587984,
          0.6966907761353694,
          0.6934879400472198,
          0.6901094773184298,
          0.686504676189827,
          0.6825020331504844,
          0.6779885168420208,
          0.6730230009017077,
          0.6677166985180351,
          0.6620874460989228,
          0.6560911279623838,
          0.6497451067747875,
          0.6431237932260672,
          0.6362332607560575,
          0.6289266963297848,
          0.620989777155529,
          0.6123575482190233,
          0.6030426480585902,
          0.5930236977459344,
          0.5823269937980342,
          0.5710127458698082,
          0.559065236165111,
          0.5464418830499653,
          0.5331855179800584,
          0.519270433029078,
          0.5043825620087148,
          0.48823631128766465,
          0.47084412279579624,
          0.4522794075637364,
          0.4324749898478046,
          0.4113369355439431,
          0.38892555878939566,
          0.3653513560628028,
          0.3405691198210832,
          0.31440525490629057,
          0.28664966933220626,
          0.2571316882750807,
          0.22573332479598207,
          0.1923953846614097,
          0.15729596340185026,
          0.12072933326916768,
          0.0828492180426963,
          0.043812151801688515,
          0.0040521918448348515,
          -0.035943970867748476,
          -0.07607409456321079,
          -0.11633147439488312,
          -0.15612098444606204,
          -0.19444913121944296,
          -0.2304902417381243,
          -0.2635354727440813,
          -0.2925711029466527,
          -0.3164198046606259,
          -0.3343542489778031,
          -0.34620237449408364,
          -0.351903525389929,
          -0.3513496225620827,
          -0.34463556464888256,
          -0.3321539515990821,
          -0.3142488269351418,
          -0.29113929000499184,
          -0.2633599093325074,
          -0.2318557160624266,
          -0.19753967342782627,
          -0.16114960905900944,
          -0.12357304701296813,
          -0.0858299680845107,
          -0.04856068384583523,
          -0.011903626406933654,
          0.024034731159417788,
          0.05892687836060872,
          0.09251531167294046,
          0.12483531433986172,
          0.15591666625684297,
          0.18547338671262995,
          0.21317060985757053,
          0.23901954902791547,
          0.2632085544559004,
          0.2857981844733217,
          0.3068350654596941,
          0.32652759593102587,
          0.3450825003372131,
          0.3625502536704914,
          0.37896017241794766,
          0.3943696572950728,
          0.40872430580751035,
          0.4219507187982287,
          0.4341077289718669,
          0.4453664223879059,
          0.45586697050961794,
          0.4656502164546339,
          0.47477426570529246,
          0.4833861248099254,
          0.49160437510033717,
          0.4993839830092668,
          0.506574199570764,
          0.5131760330501436,
          0.5192923992653675,
          0.5249389827310722,
          0.5301319837591917,
          0.5349661265833385,
          0.5395330118117441,
          0.5438696011958668,
          0.5480207439279527,
          0.5520272231039147,
          0.5558016981773513,
          0.5592489039146011,
          0.5624066136692889,
          0.5653288680852686,
          0.5680306985845913,
          0.5705143693874053,
          0.5728348242215997,
          0.5750889541122408,
          0.5773262725577677,
          0.5795182898017295,
          0.581594142588095,
          0.5835270329265434,
          0.5853402174710194,
          0.5869995275938233,
          0.5885000884122498,
          0.589891206192501,
          0.5912132714632925,
          0.5925049088405352,
          0.5938235833782421,
          0.5951865776811225,
          0.5965251799631055,
          0.5977837742252099,
          0.5989965313347447,
          0.6001541244875384,
          0.6012081214207008,
          0.6021599597459506,
          0.6030702569002422,
          0.6040113109866851,
          0.6050138987996867,
          0.6060584278257224,
          0.6071140570697722,
          0.6081780026351495,
          0.6092525775249626,
          0.6102890894766126,
          0.6112523638206184,
          0.6121611409525229,
          0.6130392162545419,
          0.6139300034627695,
          0.6148989611420888,
          0.6159495995532467,
          0.6170209278292731,
          0.6181094216470626,
          0.6192567182516129,
          0.6204245640520796,
          0.621528611783404,
          0.6225618495185969,
          0.6235827850697504,
          0.6246411633053413,
          0.625759462303364,
          0.6269356638801469,
          0.6281542815037682,
          0.6294355571100141,
          0.6307852819196498,
          0.632154533190409,
          0.6334938102970256,
          0.6347879868209674,
          0.6360511583354764,
          0.6373282018788444,
          0.638671985438819,
          0.6400798334687536,
          0.6415059969181129,
          0.6429927213422815,
          0.6445885618262395,
          0.6462292968175163,
          0.6478292906723055,
          0.6493761823928494,
          0.6509100259350191,
          0.652460338936578,
          0.6540397309510055,
          0.6556542694962246,
          0.6572944548995565,
          0.6590045166753811,
          0.6608204183632155,
          0.6626815607461225,
          0.6645261345482112,
          0.6663254101461717,
          0.6680872198262477,
          0.6698507659324946,
          0.6716440033956559,
          0.6734500330786516,
          0.6752422194793866,
          0.6770901777615848,
          0.679073579561006,
          0.6811098525979702,
          0.683111445256344,
          0.6850696187403571,
          0.6870021781475373,
          0.6889207637565562,
          0.6908322692767824,
          0.6927331450066417,
          0.6946103631204181,
          0.696514443844606,
          0.6985371363145134,
          0.7006304502126284,
          0.7027006371671548,
          0.7047170312644226,
          0.7066924233748467,
          0.7086509980278777,
          0.710589733121992,
          0.712475808434121,
          0.714302168978449,
          0.7161421331183391,
          0.7180869289941113,
          0.7200947378245814,
          0.7220777148387896,
          0.7240180821517299,
          0.7259164104190319,
          0.7277731945822126,
          0.7295883478768843,
          0.7313312536379613,
          0.732978757483636,
          0.7345995418592679,
          0.7362993421815673,
          0.7380674616284466,
          0.7398094317676254,
          0.7414919626737345,
          0.7431353303362015,
          0.7447446908833228,
          0.7462872628169634,
          0.7477084455604341,
          0.7489995252446278,
          0.7502486111807372,
          0.7515352304879599,
          0.7528491423796737,
          0.7541448967840125,
          0.7553960949927045,
          0.7565904372809626,
          0.7577274760062949,
          0.7587998673965046,
          0.7597412053808483,
          0.7604862880726273,
          0.7611287914682521,
          0.7617938641171094,
          0.7624687188799014,
          0.7630895572439442,
          0.7636473791909849,
          0.7641664754858654,
          0.7646356476656138,
          0.7650063732214676,
          0.7652180150664663,
          0.7652188785617113,
          0.7650717650726335,
          0.7648799184739232,
          0.7646516144579039,
          0.7643729845951555,
          0.7640340292568623,
          0.7636282800800132,
          0.7631615365067718,
          0.7626161786096475,
          0.7619113963958455,
          0.7609518142715217,
          0.7597857914543056,
          0.758549305246362,
          0.7572420441228473,
          0.7558334184146247,
          0.7543524998649502,
          0.7528322091768871,
          0.7512563505459298,
          0.7495743964256006,
          0.7477282851105826,
          0.7456522281553646,
          0.7433377530925611,
          0.7408686892974288,
          0.7382817702852832,
          0.7355889959591764,
          0.7328073896444494,
          0.7299559604363139,
          0.7270554987913441,
          0.7240760597300381,
          0.7209191055625581,
          0.717499716437146,
          0.7138298257821133,
          0.7099710790737674,
          0.7059138873233621,
          0.7016686950432813,
          0.6973123760964484,
          0.6928832849914103,
          0.6883653659222375,
          0.6837255207129828,
          0.6789008181625604,
          0.6737985010790055,
          0.6683734541749686,
          0.6626529015618985,
          0.6566496506705164,
          0.6503642979765516,
          0.6438384858380459,
          0.6371327024120603,
          0.6302827875341279,
          0.6232398295864288,
          0.6158817377481938,
          0.6081188497770591,
          0.5999373463241882,
          0.5912952023777023,
          0.5821127486725182,
          0.5724101253633318,
          0.5622855100564159,
          0.5517586561378991,
          0.5407953642666952,
          0.5293901902041593,
          0.5174792991053607,
          0.504883002645002,
          0.4914704584759626,
          0.47720946034475276,
          0.46204539155231217,
          0.44589302104224693,
          0.42875252087240767,
          0.4107210509078367,
          0.39182991115280075,
          0.3719550358514194,
          0.35093768853198526,
          0.32868697362517985,
          0.30510724352600604,
          0.2799766948645477,
          0.25311295081972673,
          0.22459306776561758,
          0.19456616467509133,
          0.16304054745902974,
          0.13002264460316937,
          0.09567702965411584,
          0.06014062633292738,
          0.023342049560241662,
          -0.014751041230827154,
          -0.053902856893891744,
          -0.09374705374847993,
          -0.13389048949038695,
          -0.17377782484966534,
          -0.21253237606636333,
          -0.2492229733956712,
          -0.2831944682616374,
          -0.31388741523264585,
          -0.3405453549829751,
          -0.36242215080945783,
          -0.3791386017461313,
          -0.3904590171581468,
          -0.3958217606992811,
          -0.39466061657065593,
          -0.38696463009690696,
          -0.3731894289397531,
          -0.3538202689988416,
          -0.3293776515070679,
          -0.30074454443520615,
          -0.2690468642466399,
          -0.23517119529761032,
          -0.19967829216957078,
          -0.16306469775920007,
          -0.12592175083609902,
          -0.08872331910481357,
          -0.05173689680024474,
          -0.015322897116750056,
          0.01999058131166187,
          0.053838735555428834,
          0.08614745092239673,
          0.11685147021662701,
          0.14577888213083234,
          0.1729679583881332,
          0.19870205159988963,
          0.2231408313075125,
          0.24624221431740348,
          0.2679844357660226,
          0.28843439779299196,
          0.3076135658393646,
          0.32548440527488687,
          0.3420694190572675,
          0.3574778069488769,
          0.3718473597258427,
          0.385306165985467,
          0.39797756171943277,
          0.4099895886860115,
          0.42138587280620854,
          0.43210008188231086,
          0.44210514694643166,
          0.45148621745276785,
          0.46027193498971286,
          0.46840248078065017,
          0.47592939892124164,
          0.4830370822354873,
          0.48984456341204563,
          0.49635214123087223,
          0.5025623024388217,
          0.508499499410906,
          0.5141454637175151,
          0.5194815936942199,
          0.5244945942359749,
          0.529170269696472,
          0.533538249523211,
          0.5376682767965733,
          0.5416564795797498,
          0.545570467930041,
          0.549397297439441,
          0.5530867498998866,
          0.5566375329571578,
          0.5601029840707028,
          0.563441088194125,
          0.5665336614472878,
          0.5694146589436784,
          0.5722046136701309,
          0.5749617275282404,
          0.5776879773513812,
          0.5803921437768054,
          0.5830811627837633,
          0.5857373121597647,
          0.5883688478346869,
          0.5909654129601734,
          0.5934263682432217,
          0.5957359626685914,
          0.5979680940029724,
          0.6002040481501112,
          0.6024811219776254,
          0.6047736281641178,
          0.6070533585059295,
          0.6093478288941512,
          0.6117075249722035,
          0.6140944356374547,
          0.6163628131452654,
          0.618505820695411,
          0.6206252350322643,
          0.6227600042265209,
          0.6249149319538034,
          0.6271019203520822,
          0.6293210077182891,
          0.631571216484744,
          0.6338878959680869,
          0.6362757223837292,
          0.6386135020593713,
          0.6408299950504315,
          0.6430001764297728,
          0.6451979313951242,
          0.6474369037561516,
          0.649690625561476,
          0.651951299572076,
          0.654265214548289,
          0.6566842075829129,
          0.6591753142963626,
          0.6616224712832519,
          0.6639783621555465,
          0.6663022997398543,
          0.6686294723909043,
          0.6709667638485683,
          0.6733181644427901,
          0.6756771387618699,
          0.6780686933812774,
          0.6805598081995328,
          0.6831421643519775,
          0.6857016737811392,
          0.6881687547427761,
          0.6905891204084043,
          0.6930125401221545,
          0.695432315628409,
          0.6978266350651694,
          0.7001979561135839,
          0.702596332588854,
          0.7050961137107521,
          0.7076719463239698,
          0.7102186047722369,
          0.7126943227688685,
          0.715121074366607,
          0.7175190413064599,
          0.7198871689754185,
          0.7222123285182106,
          0.7244823053616045,
          0.7267344332005763,
          0.7290711906590133,
          0.7314929490680413,
          0.7338724997893422
         ],
         "yaxis": "y"
        }
       ],
       "layout": {
        "legend": {
         "tracegroupgap": 0
        },
        "margin": {
         "t": 60
        },
        "template": {
         "data": {
          "bar": [
           {
            "error_x": {
             "color": "#2a3f5f"
            },
            "error_y": {
             "color": "#2a3f5f"
            },
            "marker": {
             "line": {
              "color": "#E5ECF6",
              "width": 0.5
             },
             "pattern": {
              "fillmode": "overlay",
              "size": 10,
              "solidity": 0.2
             }
            },
            "type": "bar"
           }
          ],
          "barpolar": [
           {
            "marker": {
             "line": {
              "color": "#E5ECF6",
              "width": 0.5
             },
             "pattern": {
              "fillmode": "overlay",
              "size": 10,
              "solidity": 0.2
             }
            },
            "type": "barpolar"
           }
          ],
          "carpet": [
           {
            "aaxis": {
             "endlinecolor": "#2a3f5f",
             "gridcolor": "white",
             "linecolor": "white",
             "minorgridcolor": "white",
             "startlinecolor": "#2a3f5f"
            },
            "baxis": {
             "endlinecolor": "#2a3f5f",
             "gridcolor": "white",
             "linecolor": "white",
             "minorgridcolor": "white",
             "startlinecolor": "#2a3f5f"
            },
            "type": "carpet"
           }
          ],
          "choropleth": [
           {
            "colorbar": {
             "outlinewidth": 0,
             "ticks": ""
            },
            "type": "choropleth"
           }
          ],
          "contour": [
           {
            "colorbar": {
             "outlinewidth": 0,
             "ticks": ""
            },
            "colorscale": [
             [
              0,
              "#0d0887"
             ],
             [
              0.1111111111111111,
              "#46039f"
             ],
             [
              0.2222222222222222,
              "#7201a8"
             ],
             [
              0.3333333333333333,
              "#9c179e"
             ],
             [
              0.4444444444444444,
              "#bd3786"
             ],
             [
              0.5555555555555556,
              "#d8576b"
             ],
             [
              0.6666666666666666,
              "#ed7953"
             ],
             [
              0.7777777777777778,
              "#fb9f3a"
             ],
             [
              0.8888888888888888,
              "#fdca26"
             ],
             [
              1,
              "#f0f921"
             ]
            ],
            "type": "contour"
           }
          ],
          "contourcarpet": [
           {
            "colorbar": {
             "outlinewidth": 0,
             "ticks": ""
            },
            "type": "contourcarpet"
           }
          ],
          "heatmap": [
           {
            "colorbar": {
             "outlinewidth": 0,
             "ticks": ""
            },
            "colorscale": [
             [
              0,
              "#0d0887"
             ],
             [
              0.1111111111111111,
              "#46039f"
             ],
             [
              0.2222222222222222,
              "#7201a8"
             ],
             [
              0.3333333333333333,
              "#9c179e"
             ],
             [
              0.4444444444444444,
              "#bd3786"
             ],
             [
              0.5555555555555556,
              "#d8576b"
             ],
             [
              0.6666666666666666,
              "#ed7953"
             ],
             [
              0.7777777777777778,
              "#fb9f3a"
             ],
             [
              0.8888888888888888,
              "#fdca26"
             ],
             [
              1,
              "#f0f921"
             ]
            ],
            "type": "heatmap"
           }
          ],
          "heatmapgl": [
           {
            "colorbar": {
             "outlinewidth": 0,
             "ticks": ""
            },
            "colorscale": [
             [
              0,
              "#0d0887"
             ],
             [
              0.1111111111111111,
              "#46039f"
             ],
             [
              0.2222222222222222,
              "#7201a8"
             ],
             [
              0.3333333333333333,
              "#9c179e"
             ],
             [
              0.4444444444444444,
              "#bd3786"
             ],
             [
              0.5555555555555556,
              "#d8576b"
             ],
             [
              0.6666666666666666,
              "#ed7953"
             ],
             [
              0.7777777777777778,
              "#fb9f3a"
             ],
             [
              0.8888888888888888,
              "#fdca26"
             ],
             [
              1,
              "#f0f921"
             ]
            ],
            "type": "heatmapgl"
           }
          ],
          "histogram": [
           {
            "marker": {
             "pattern": {
              "fillmode": "overlay",
              "size": 10,
              "solidity": 0.2
             }
            },
            "type": "histogram"
           }
          ],
          "histogram2d": [
           {
            "colorbar": {
             "outlinewidth": 0,
             "ticks": ""
            },
            "colorscale": [
             [
              0,
              "#0d0887"
             ],
             [
              0.1111111111111111,
              "#46039f"
             ],
             [
              0.2222222222222222,
              "#7201a8"
             ],
             [
              0.3333333333333333,
              "#9c179e"
             ],
             [
              0.4444444444444444,
              "#bd3786"
             ],
             [
              0.5555555555555556,
              "#d8576b"
             ],
             [
              0.6666666666666666,
              "#ed7953"
             ],
             [
              0.7777777777777778,
              "#fb9f3a"
             ],
             [
              0.8888888888888888,
              "#fdca26"
             ],
             [
              1,
              "#f0f921"
             ]
            ],
            "type": "histogram2d"
           }
          ],
          "histogram2dcontour": [
           {
            "colorbar": {
             "outlinewidth": 0,
             "ticks": ""
            },
            "colorscale": [
             [
              0,
              "#0d0887"
             ],
             [
              0.1111111111111111,
              "#46039f"
             ],
             [
              0.2222222222222222,
              "#7201a8"
             ],
             [
              0.3333333333333333,
              "#9c179e"
             ],
             [
              0.4444444444444444,
              "#bd3786"
             ],
             [
              0.5555555555555556,
              "#d8576b"
             ],
             [
              0.6666666666666666,
              "#ed7953"
             ],
             [
              0.7777777777777778,
              "#fb9f3a"
             ],
             [
              0.8888888888888888,
              "#fdca26"
             ],
             [
              1,
              "#f0f921"
             ]
            ],
            "type": "histogram2dcontour"
           }
          ],
          "mesh3d": [
           {
            "colorbar": {
             "outlinewidth": 0,
             "ticks": ""
            },
            "type": "mesh3d"
           }
          ],
          "parcoords": [
           {
            "line": {
             "colorbar": {
              "outlinewidth": 0,
              "ticks": ""
             }
            },
            "type": "parcoords"
           }
          ],
          "pie": [
           {
            "automargin": true,
            "type": "pie"
           }
          ],
          "scatter": [
           {
            "fillpattern": {
             "fillmode": "overlay",
             "size": 10,
             "solidity": 0.2
            },
            "type": "scatter"
           }
          ],
          "scatter3d": [
           {
            "line": {
             "colorbar": {
              "outlinewidth": 0,
              "ticks": ""
             }
            },
            "marker": {
             "colorbar": {
              "outlinewidth": 0,
              "ticks": ""
             }
            },
            "type": "scatter3d"
           }
          ],
          "scattercarpet": [
           {
            "marker": {
             "colorbar": {
              "outlinewidth": 0,
              "ticks": ""
             }
            },
            "type": "scattercarpet"
           }
          ],
          "scattergeo": [
           {
            "marker": {
             "colorbar": {
              "outlinewidth": 0,
              "ticks": ""
             }
            },
            "type": "scattergeo"
           }
          ],
          "scattergl": [
           {
            "marker": {
             "colorbar": {
              "outlinewidth": 0,
              "ticks": ""
             }
            },
            "type": "scattergl"
           }
          ],
          "scattermapbox": [
           {
            "marker": {
             "colorbar": {
              "outlinewidth": 0,
              "ticks": ""
             }
            },
            "type": "scattermapbox"
           }
          ],
          "scatterpolar": [
           {
            "marker": {
             "colorbar": {
              "outlinewidth": 0,
              "ticks": ""
             }
            },
            "type": "scatterpolar"
           }
          ],
          "scatterpolargl": [
           {
            "marker": {
             "colorbar": {
              "outlinewidth": 0,
              "ticks": ""
             }
            },
            "type": "scatterpolargl"
           }
          ],
          "scatterternary": [
           {
            "marker": {
             "colorbar": {
              "outlinewidth": 0,
              "ticks": ""
             }
            },
            "type": "scatterternary"
           }
          ],
          "surface": [
           {
            "colorbar": {
             "outlinewidth": 0,
             "ticks": ""
            },
            "colorscale": [
             [
              0,
              "#0d0887"
             ],
             [
              0.1111111111111111,
              "#46039f"
             ],
             [
              0.2222222222222222,
              "#7201a8"
             ],
             [
              0.3333333333333333,
              "#9c179e"
             ],
             [
              0.4444444444444444,
              "#bd3786"
             ],
             [
              0.5555555555555556,
              "#d8576b"
             ],
             [
              0.6666666666666666,
              "#ed7953"
             ],
             [
              0.7777777777777778,
              "#fb9f3a"
             ],
             [
              0.8888888888888888,
              "#fdca26"
             ],
             [
              1,
              "#f0f921"
             ]
            ],
            "type": "surface"
           }
          ],
          "table": [
           {
            "cells": {
             "fill": {
              "color": "#EBF0F8"
             },
             "line": {
              "color": "white"
             }
            },
            "header": {
             "fill": {
              "color": "#C8D4E3"
             },
             "line": {
              "color": "white"
             }
            },
            "type": "table"
           }
          ]
         },
         "layout": {
          "annotationdefaults": {
           "arrowcolor": "#2a3f5f",
           "arrowhead": 0,
           "arrowwidth": 1
          },
          "autotypenumbers": "strict",
          "coloraxis": {
           "colorbar": {
            "outlinewidth": 0,
            "ticks": ""
           }
          },
          "colorscale": {
           "diverging": [
            [
             0,
             "#8e0152"
            ],
            [
             0.1,
             "#c51b7d"
            ],
            [
             0.2,
             "#de77ae"
            ],
            [
             0.3,
             "#f1b6da"
            ],
            [
             0.4,
             "#fde0ef"
            ],
            [
             0.5,
             "#f7f7f7"
            ],
            [
             0.6,
             "#e6f5d0"
            ],
            [
             0.7,
             "#b8e186"
            ],
            [
             0.8,
             "#7fbc41"
            ],
            [
             0.9,
             "#4d9221"
            ],
            [
             1,
             "#276419"
            ]
           ],
           "sequential": [
            [
             0,
             "#0d0887"
            ],
            [
             0.1111111111111111,
             "#46039f"
            ],
            [
             0.2222222222222222,
             "#7201a8"
            ],
            [
             0.3333333333333333,
             "#9c179e"
            ],
            [
             0.4444444444444444,
             "#bd3786"
            ],
            [
             0.5555555555555556,
             "#d8576b"
            ],
            [
             0.6666666666666666,
             "#ed7953"
            ],
            [
             0.7777777777777778,
             "#fb9f3a"
            ],
            [
             0.8888888888888888,
             "#fdca26"
            ],
            [
             1,
             "#f0f921"
            ]
           ],
           "sequentialminus": [
            [
             0,
             "#0d0887"
            ],
            [
             0.1111111111111111,
             "#46039f"
            ],
            [
             0.2222222222222222,
             "#7201a8"
            ],
            [
             0.3333333333333333,
             "#9c179e"
            ],
            [
             0.4444444444444444,
             "#bd3786"
            ],
            [
             0.5555555555555556,
             "#d8576b"
            ],
            [
             0.6666666666666666,
             "#ed7953"
            ],
            [
             0.7777777777777778,
             "#fb9f3a"
            ],
            [
             0.8888888888888888,
             "#fdca26"
            ],
            [
             1,
             "#f0f921"
            ]
           ]
          },
          "colorway": [
           "#636efa",
           "#EF553B",
           "#00cc96",
           "#ab63fa",
           "#FFA15A",
           "#19d3f3",
           "#FF6692",
           "#B6E880",
           "#FF97FF",
           "#FECB52"
          ],
          "font": {
           "color": "#2a3f5f"
          },
          "geo": {
           "bgcolor": "white",
           "lakecolor": "white",
           "landcolor": "#E5ECF6",
           "showlakes": true,
           "showland": true,
           "subunitcolor": "white"
          },
          "hoverlabel": {
           "align": "left"
          },
          "hovermode": "closest",
          "mapbox": {
           "style": "light"
          },
          "paper_bgcolor": "white",
          "plot_bgcolor": "#E5ECF6",
          "polar": {
           "angularaxis": {
            "gridcolor": "white",
            "linecolor": "white",
            "ticks": ""
           },
           "bgcolor": "#E5ECF6",
           "radialaxis": {
            "gridcolor": "white",
            "linecolor": "white",
            "ticks": ""
           }
          },
          "scene": {
           "xaxis": {
            "backgroundcolor": "#E5ECF6",
            "gridcolor": "white",
            "gridwidth": 2,
            "linecolor": "white",
            "showbackground": true,
            "ticks": "",
            "zerolinecolor": "white"
           },
           "yaxis": {
            "backgroundcolor": "#E5ECF6",
            "gridcolor": "white",
            "gridwidth": 2,
            "linecolor": "white",
            "showbackground": true,
            "ticks": "",
            "zerolinecolor": "white"
           },
           "zaxis": {
            "backgroundcolor": "#E5ECF6",
            "gridcolor": "white",
            "gridwidth": 2,
            "linecolor": "white",
            "showbackground": true,
            "ticks": "",
            "zerolinecolor": "white"
           }
          },
          "shapedefaults": {
           "line": {
            "color": "#2a3f5f"
           }
          },
          "ternary": {
           "aaxis": {
            "gridcolor": "white",
            "linecolor": "white",
            "ticks": ""
           },
           "baxis": {
            "gridcolor": "white",
            "linecolor": "white",
            "ticks": ""
           },
           "bgcolor": "#E5ECF6",
           "caxis": {
            "gridcolor": "white",
            "linecolor": "white",
            "ticks": ""
           }
          },
          "title": {
           "x": 0.05
          },
          "xaxis": {
           "automargin": true,
           "gridcolor": "white",
           "linecolor": "white",
           "ticks": "",
           "title": {
            "standoff": 15
           },
           "zerolinecolor": "white",
           "zerolinewidth": 2
          },
          "yaxis": {
           "automargin": true,
           "gridcolor": "white",
           "linecolor": "white",
           "ticks": "",
           "title": {
            "standoff": 15
           },
           "zerolinecolor": "white",
           "zerolinewidth": 2
          }
         }
        },
        "xaxis": {
         "anchor": "y",
         "domain": [
          0,
          1
         ],
         "title": {
          "text": "x"
         }
        },
        "yaxis": {
         "anchor": "x",
         "domain": [
          0,
          1
         ],
         "title": {
          "text": "y"
         }
        }
       }
      }
     },
     "metadata": {},
     "output_type": "display_data"
    }
   ],
   "source": [
    "dlondts = []\n",
    "datetimes = []\n",
    "for t in tqdm.tqdm(np.linspace(-3*YEAR,3*YEAR,800)):\n",
    "    mtime = mtime2 + t\n",
    "    dlondts += [mars.ecliptic_longitude_advance(mtime,tebas,method='SPICE',dt=1*DAY)]\n",
    "    datetimes += [mtime.obj_datejulianmix]\n",
    "px.line(x=datetimes,y=dlondts,markers=True)"
   ]
  },
  {
   "cell_type": "code",
   "execution_count": null,
   "metadata": {},
   "outputs": [
    {
     "name": "stderr",
     "output_type": "stream",
     "text": [
      "100%|██████████| 100/100 [00:00<00:00, 211.51it/s]\n"
     ]
    }
   ],
   "source": [
    "mars = PlanetaryBody('Mars')\n",
    "mars.reset_store()\n",
    "\n",
    "mtime_initial = MonTime('-1500-01-01 12:00:00.0')\n",
    "\n",
    "dlondts = []\n",
    "datetimes = []\n",
    "for t in tqdm.tqdm(np.linspace(0,2*YEAR,100)):\n",
    "    mtime = mtime_initial + t\n",
    "    dlondts += [mars.ecliptic_longitude_advance(mtime,tebas,method='SPICE',dt=1*DAY)]\n",
    "    datetimes += [mtime.obj_datejulian]\n",
    "    #datetimes += [mtime.datestr]"
   ]
  },
  {
   "cell_type": "code",
   "execution_count": null,
   "metadata": {},
   "outputs": [
    {
     "data": {
      "application/vnd.plotly.v1+json": {
       "config": {
        "plotlyServerURL": "https://plot.ly"
       },
       "data": [
        {
         "hovertemplate": "x=%{x}<br>y=%{y}<extra></extra>",
         "legendgroup": "",
         "line": {
          "color": "#636efa",
          "dash": "solid"
         },
         "marker": {
          "symbol": "circle"
         },
         "mode": "lines",
         "name": "",
         "orientation": "v",
         "showlegend": false,
         "type": "scatter",
         "x": [
          "3214-01-01T12:00:00",
          "3214-01-08T21:05:27.272700",
          "3214-01-16T06:10:54.545400",
          "3214-01-23T15:16:21.818200",
          "3214-01-31T00:21:49.909000",
          "3214-02-07T09:27:16.363600",
          "3214-02-14T18:32:43.636400",
          "3214-02-22T03:38:10.909100",
          "3214-03-01T12:43:38.181800",
          "3214-03-08T21:49:05.454500",
          "3214-03-16T06:54:32.727300",
          "3214-03-23T16:00:00",
          "3214-03-31T01:05:27.272700",
          "3214-04-07T10:10:54.545500",
          "3214-04-14T19:16:21.818200",
          "3214-04-22T04:21:49.909000",
          "3214-04-29T13:27:16.363600",
          "3214-05-06T22:32:43.636400",
          "3214-05-14T07:38:10.909100",
          "3214-05-21T16:43:38.181800",
          "3214-05-29T01:49:05.454600",
          "3214-06-05T10:54:32.727300",
          "3214-06-12T20:00:00",
          "3214-06-20T05:05:27.272700",
          "3214-06-27T14:10:54.545500",
          "3214-07-04T23:16:21.818200",
          "3214-07-12T08:21:49.909000",
          "3214-07-19T17:27:16.363600",
          "3214-07-27T02:32:43.636400",
          "3214-08-03T11:38:10.909100",
          "3214-08-10T20:43:38.181800",
          "3214-08-18T05:49:05.454500",
          "3214-08-25T14:54:32.727300",
          "3214-09-02T00:00:00",
          "3214-09-09T09:05:27.272700",
          "3214-09-16T18:10:54.545400",
          "3214-09-24T03:16:21.818200",
          "3214-10-01T12:21:49.909000",
          "3214-10-08T21:27:16.363600",
          "3214-10-16T06:32:43.636400",
          "3214-10-23T15:38:10.909100",
          "3214-10-31T00:43:38.181800",
          "3214-11-07T09:49:05.454500",
          "3214-11-14T18:54:32.727300",
          "3214-11-22T04:00:00",
          "3214-11-29T13:05:27.272700",
          "3214-12-06T22:10:54.545500",
          "3214-12-14T07:16:21.818200",
          "3214-12-21T16:22:10.335700",
          "3214-12-29T01:27:37.608400",
          "3215-01-05T10:33:04.881100",
          "3215-01-12T19:38:32.153900",
          "3215-01-20T04:43:59.426600",
          "3215-01-27T13:49:26.699400",
          "3215-02-03T22:54:53.972000",
          "3215-02-11T08:00:21.244800",
          "3215-02-18T17:05:48.517500",
          "3215-02-26T02:11:15.790300",
          "3215-03-05T11:16:43.630000",
          "3215-03-12T20:22:10.335700",
          "3215-03-20T05:27:37.608400",
          "3215-03-27T14:33:04.881200",
          "3215-04-03T23:38:32.153900",
          "3215-04-11T08:43:59.426600",
          "3215-04-18T17:49:26.699300",
          "3215-04-26T02:54:53.972100",
          "3215-05-03T12:00:21.244800",
          "3215-05-10T21:05:48.517500",
          "3215-05-18T06:11:15.790200",
          "3215-05-25T15:16:43.630000",
          "3215-06-02T00:22:10.335700",
          "3215-06-09T09:27:37.608400",
          "3215-06-16T18:33:04.881100",
          "3215-06-24T03:38:32.153900",
          "3215-07-01T12:43:59.426600",
          "3215-07-08T21:49:26.699300",
          "3215-07-16T06:54:53.972100",
          "3215-07-23T16:00:21.244800",
          "3215-07-31T01:05:48.517500",
          "3215-08-07T10:11:15.790300",
          "3215-08-14T19:16:43.630000",
          "3215-08-22T04:22:10.335700",
          "3215-08-29T13:27:37.608400",
          "3215-09-05T22:33:04.881200",
          "3215-09-13T07:38:32.153900",
          "3215-09-20T16:43:59.426600",
          "3215-09-28T01:49:26.699300",
          "3215-10-05T10:54:53.972100",
          "3215-10-12T20:00:21.244800",
          "3215-10-20T05:05:48.517500",
          "3215-10-27T14:11:15.790200",
          "3215-11-03T23:16:43.630000",
          "3215-11-11T08:22:10.335700",
          "3215-11-18T17:27:37.608400",
          "3215-11-26T02:33:04.881100",
          "3215-12-03T11:38:32.153900",
          "3215-12-10T20:43:59.426600",
          "3215-12-18T05:49:26.699300",
          "3215-12-25T14:55:15.210500",
          "3216-01-02T00:00:42.483200"
         ],
         "xaxis": "x",
         "y": [
          0.6439228023346857,
          0.6439521151175711,
          0.6432846816534266,
          0.6422219388882979,
          0.6414680707743559,
          0.6404893596036727,
          0.6391479045569666,
          0.6376767707918045,
          0.6367168192739943,
          0.6356502954657479,
          0.6344100507237762,
          0.6333025613946219,
          0.6326699027225615,
          0.6321299056246978,
          0.6314318950166644,
          0.6310944650868571,
          0.6311929279732809,
          0.6314297066834271,
          0.6315596429357839,
          0.6321663419021846,
          0.6331660996429633,
          0.634308761253358,
          0.6353678318210498,
          0.6369078194481119,
          0.6388776552095905,
          0.6408325740019833,
          0.6428325962328358,
          0.6451994612360252,
          0.647995163848627,
          0.6506635441188848,
          0.6533802728522176,
          0.6564401730643823,
          0.6598299906709143,
          0.6629858947500651,
          0.6661628759506044,
          0.6696767700098007,
          0.6733639232785862,
          0.6767939553054703,
          0.6800991145541246,
          0.6838168234747286,
          0.687520253239498,
          0.6909162828549996,
          0.6941445494238963,
          0.6977436646848362,
          0.7012176821769743,
          0.7042715054485599,
          0.7071505018593598,
          0.7103134742187792,
          0.7132568338394377,
          0.7155022187796334,
          0.7176579702162655,
          0.7198252508906506,
          0.7216548200635344,
          0.7224293319585087,
          0.7229583191930119,
          0.7232732267203517,
          0.7228173035992427,
          0.7208939525899895,
          0.7183967436509704,
          0.7152272868486875,
          0.7106395346403077,
          0.7040187282222519,
          0.6961176606374408,
          0.6870337353892353,
          0.6752629616414083,
          0.6606301306975695,
          0.6435685950113736,
          0.6240219561364597,
          0.5999377857402237,
          0.570920875207662,
          0.5372664811143011,
          0.49826677550356635,
          0.45074315505382856,
          0.3942786974454009,
          0.328703554921816,
          0.2525488027114591,
          0.16314511329429138,
          0.06217853456814738,
          -0.044686108929909096,
          -0.15254783697574226,
          -0.25083672672582225,
          -0.3221732580849448,
          -0.3518776905262655,
          -0.33687179272399703,
          -0.2816322672491367,
          -0.1956312619601306,
          -0.09563725809678658,
          0.003747173775849433,
          0.0965862329780407,
          0.17996185500800266,
          0.25144853840328096,
          0.31072426674379017,
          0.3605193890738292,
          0.40278007856923637,
          0.4371384536691778,
          0.46520611969063447,
          0.4887306873728221,
          0.5088405766927053,
          0.5250715958436274,
          0.5382443052848405
         ],
         "yaxis": "y"
        }
       ],
       "layout": {
        "legend": {
         "tracegroupgap": 0
        },
        "margin": {
         "t": 60
        },
        "template": {
         "data": {
          "bar": [
           {
            "error_x": {
             "color": "#2a3f5f"
            },
            "error_y": {
             "color": "#2a3f5f"
            },
            "marker": {
             "line": {
              "color": "#E5ECF6",
              "width": 0.5
             },
             "pattern": {
              "fillmode": "overlay",
              "size": 10,
              "solidity": 0.2
             }
            },
            "type": "bar"
           }
          ],
          "barpolar": [
           {
            "marker": {
             "line": {
              "color": "#E5ECF6",
              "width": 0.5
             },
             "pattern": {
              "fillmode": "overlay",
              "size": 10,
              "solidity": 0.2
             }
            },
            "type": "barpolar"
           }
          ],
          "carpet": [
           {
            "aaxis": {
             "endlinecolor": "#2a3f5f",
             "gridcolor": "white",
             "linecolor": "white",
             "minorgridcolor": "white",
             "startlinecolor": "#2a3f5f"
            },
            "baxis": {
             "endlinecolor": "#2a3f5f",
             "gridcolor": "white",
             "linecolor": "white",
             "minorgridcolor": "white",
             "startlinecolor": "#2a3f5f"
            },
            "type": "carpet"
           }
          ],
          "choropleth": [
           {
            "colorbar": {
             "outlinewidth": 0,
             "ticks": ""
            },
            "type": "choropleth"
           }
          ],
          "contour": [
           {
            "colorbar": {
             "outlinewidth": 0,
             "ticks": ""
            },
            "colorscale": [
             [
              0,
              "#0d0887"
             ],
             [
              0.1111111111111111,
              "#46039f"
             ],
             [
              0.2222222222222222,
              "#7201a8"
             ],
             [
              0.3333333333333333,
              "#9c179e"
             ],
             [
              0.4444444444444444,
              "#bd3786"
             ],
             [
              0.5555555555555556,
              "#d8576b"
             ],
             [
              0.6666666666666666,
              "#ed7953"
             ],
             [
              0.7777777777777778,
              "#fb9f3a"
             ],
             [
              0.8888888888888888,
              "#fdca26"
             ],
             [
              1,
              "#f0f921"
             ]
            ],
            "type": "contour"
           }
          ],
          "contourcarpet": [
           {
            "colorbar": {
             "outlinewidth": 0,
             "ticks": ""
            },
            "type": "contourcarpet"
           }
          ],
          "heatmap": [
           {
            "colorbar": {
             "outlinewidth": 0,
             "ticks": ""
            },
            "colorscale": [
             [
              0,
              "#0d0887"
             ],
             [
              0.1111111111111111,
              "#46039f"
             ],
             [
              0.2222222222222222,
              "#7201a8"
             ],
             [
              0.3333333333333333,
              "#9c179e"
             ],
             [
              0.4444444444444444,
              "#bd3786"
             ],
             [
              0.5555555555555556,
              "#d8576b"
             ],
             [
              0.6666666666666666,
              "#ed7953"
             ],
             [
              0.7777777777777778,
              "#fb9f3a"
             ],
             [
              0.8888888888888888,
              "#fdca26"
             ],
             [
              1,
              "#f0f921"
             ]
            ],
            "type": "heatmap"
           }
          ],
          "heatmapgl": [
           {
            "colorbar": {
             "outlinewidth": 0,
             "ticks": ""
            },
            "colorscale": [
             [
              0,
              "#0d0887"
             ],
             [
              0.1111111111111111,
              "#46039f"
             ],
             [
              0.2222222222222222,
              "#7201a8"
             ],
             [
              0.3333333333333333,
              "#9c179e"
             ],
             [
              0.4444444444444444,
              "#bd3786"
             ],
             [
              0.5555555555555556,
              "#d8576b"
             ],
             [
              0.6666666666666666,
              "#ed7953"
             ],
             [
              0.7777777777777778,
              "#fb9f3a"
             ],
             [
              0.8888888888888888,
              "#fdca26"
             ],
             [
              1,
              "#f0f921"
             ]
            ],
            "type": "heatmapgl"
           }
          ],
          "histogram": [
           {
            "marker": {
             "pattern": {
              "fillmode": "overlay",
              "size": 10,
              "solidity": 0.2
             }
            },
            "type": "histogram"
           }
          ],
          "histogram2d": [
           {
            "colorbar": {
             "outlinewidth": 0,
             "ticks": ""
            },
            "colorscale": [
             [
              0,
              "#0d0887"
             ],
             [
              0.1111111111111111,
              "#46039f"
             ],
             [
              0.2222222222222222,
              "#7201a8"
             ],
             [
              0.3333333333333333,
              "#9c179e"
             ],
             [
              0.4444444444444444,
              "#bd3786"
             ],
             [
              0.5555555555555556,
              "#d8576b"
             ],
             [
              0.6666666666666666,
              "#ed7953"
             ],
             [
              0.7777777777777778,
              "#fb9f3a"
             ],
             [
              0.8888888888888888,
              "#fdca26"
             ],
             [
              1,
              "#f0f921"
             ]
            ],
            "type": "histogram2d"
           }
          ],
          "histogram2dcontour": [
           {
            "colorbar": {
             "outlinewidth": 0,
             "ticks": ""
            },
            "colorscale": [
             [
              0,
              "#0d0887"
             ],
             [
              0.1111111111111111,
              "#46039f"
             ],
             [
              0.2222222222222222,
              "#7201a8"
             ],
             [
              0.3333333333333333,
              "#9c179e"
             ],
             [
              0.4444444444444444,
              "#bd3786"
             ],
             [
              0.5555555555555556,
              "#d8576b"
             ],
             [
              0.6666666666666666,
              "#ed7953"
             ],
             [
              0.7777777777777778,
              "#fb9f3a"
             ],
             [
              0.8888888888888888,
              "#fdca26"
             ],
             [
              1,
              "#f0f921"
             ]
            ],
            "type": "histogram2dcontour"
           }
          ],
          "mesh3d": [
           {
            "colorbar": {
             "outlinewidth": 0,
             "ticks": ""
            },
            "type": "mesh3d"
           }
          ],
          "parcoords": [
           {
            "line": {
             "colorbar": {
              "outlinewidth": 0,
              "ticks": ""
             }
            },
            "type": "parcoords"
           }
          ],
          "pie": [
           {
            "automargin": true,
            "type": "pie"
           }
          ],
          "scatter": [
           {
            "fillpattern": {
             "fillmode": "overlay",
             "size": 10,
             "solidity": 0.2
            },
            "type": "scatter"
           }
          ],
          "scatter3d": [
           {
            "line": {
             "colorbar": {
              "outlinewidth": 0,
              "ticks": ""
             }
            },
            "marker": {
             "colorbar": {
              "outlinewidth": 0,
              "ticks": ""
             }
            },
            "type": "scatter3d"
           }
          ],
          "scattercarpet": [
           {
            "marker": {
             "colorbar": {
              "outlinewidth": 0,
              "ticks": ""
             }
            },
            "type": "scattercarpet"
           }
          ],
          "scattergeo": [
           {
            "marker": {
             "colorbar": {
              "outlinewidth": 0,
              "ticks": ""
             }
            },
            "type": "scattergeo"
           }
          ],
          "scattergl": [
           {
            "marker": {
             "colorbar": {
              "outlinewidth": 0,
              "ticks": ""
             }
            },
            "type": "scattergl"
           }
          ],
          "scattermapbox": [
           {
            "marker": {
             "colorbar": {
              "outlinewidth": 0,
              "ticks": ""
             }
            },
            "type": "scattermapbox"
           }
          ],
          "scatterpolar": [
           {
            "marker": {
             "colorbar": {
              "outlinewidth": 0,
              "ticks": ""
             }
            },
            "type": "scatterpolar"
           }
          ],
          "scatterpolargl": [
           {
            "marker": {
             "colorbar": {
              "outlinewidth": 0,
              "ticks": ""
             }
            },
            "type": "scatterpolargl"
           }
          ],
          "scatterternary": [
           {
            "marker": {
             "colorbar": {
              "outlinewidth": 0,
              "ticks": ""
             }
            },
            "type": "scatterternary"
           }
          ],
          "surface": [
           {
            "colorbar": {
             "outlinewidth": 0,
             "ticks": ""
            },
            "colorscale": [
             [
              0,
              "#0d0887"
             ],
             [
              0.1111111111111111,
              "#46039f"
             ],
             [
              0.2222222222222222,
              "#7201a8"
             ],
             [
              0.3333333333333333,
              "#9c179e"
             ],
             [
              0.4444444444444444,
              "#bd3786"
             ],
             [
              0.5555555555555556,
              "#d8576b"
             ],
             [
              0.6666666666666666,
              "#ed7953"
             ],
             [
              0.7777777777777778,
              "#fb9f3a"
             ],
             [
              0.8888888888888888,
              "#fdca26"
             ],
             [
              1,
              "#f0f921"
             ]
            ],
            "type": "surface"
           }
          ],
          "table": [
           {
            "cells": {
             "fill": {
              "color": "#EBF0F8"
             },
             "line": {
              "color": "white"
             }
            },
            "header": {
             "fill": {
              "color": "#C8D4E3"
             },
             "line": {
              "color": "white"
             }
            },
            "type": "table"
           }
          ]
         },
         "layout": {
          "annotationdefaults": {
           "arrowcolor": "#2a3f5f",
           "arrowhead": 0,
           "arrowwidth": 1
          },
          "autotypenumbers": "strict",
          "coloraxis": {
           "colorbar": {
            "outlinewidth": 0,
            "ticks": ""
           }
          },
          "colorscale": {
           "diverging": [
            [
             0,
             "#8e0152"
            ],
            [
             0.1,
             "#c51b7d"
            ],
            [
             0.2,
             "#de77ae"
            ],
            [
             0.3,
             "#f1b6da"
            ],
            [
             0.4,
             "#fde0ef"
            ],
            [
             0.5,
             "#f7f7f7"
            ],
            [
             0.6,
             "#e6f5d0"
            ],
            [
             0.7,
             "#b8e186"
            ],
            [
             0.8,
             "#7fbc41"
            ],
            [
             0.9,
             "#4d9221"
            ],
            [
             1,
             "#276419"
            ]
           ],
           "sequential": [
            [
             0,
             "#0d0887"
            ],
            [
             0.1111111111111111,
             "#46039f"
            ],
            [
             0.2222222222222222,
             "#7201a8"
            ],
            [
             0.3333333333333333,
             "#9c179e"
            ],
            [
             0.4444444444444444,
             "#bd3786"
            ],
            [
             0.5555555555555556,
             "#d8576b"
            ],
            [
             0.6666666666666666,
             "#ed7953"
            ],
            [
             0.7777777777777778,
             "#fb9f3a"
            ],
            [
             0.8888888888888888,
             "#fdca26"
            ],
            [
             1,
             "#f0f921"
            ]
           ],
           "sequentialminus": [
            [
             0,
             "#0d0887"
            ],
            [
             0.1111111111111111,
             "#46039f"
            ],
            [
             0.2222222222222222,
             "#7201a8"
            ],
            [
             0.3333333333333333,
             "#9c179e"
            ],
            [
             0.4444444444444444,
             "#bd3786"
            ],
            [
             0.5555555555555556,
             "#d8576b"
            ],
            [
             0.6666666666666666,
             "#ed7953"
            ],
            [
             0.7777777777777778,
             "#fb9f3a"
            ],
            [
             0.8888888888888888,
             "#fdca26"
            ],
            [
             1,
             "#f0f921"
            ]
           ]
          },
          "colorway": [
           "#636efa",
           "#EF553B",
           "#00cc96",
           "#ab63fa",
           "#FFA15A",
           "#19d3f3",
           "#FF6692",
           "#B6E880",
           "#FF97FF",
           "#FECB52"
          ],
          "font": {
           "color": "#2a3f5f"
          },
          "geo": {
           "bgcolor": "white",
           "lakecolor": "white",
           "landcolor": "#E5ECF6",
           "showlakes": true,
           "showland": true,
           "subunitcolor": "white"
          },
          "hoverlabel": {
           "align": "left"
          },
          "hovermode": "closest",
          "mapbox": {
           "style": "light"
          },
          "paper_bgcolor": "white",
          "plot_bgcolor": "#E5ECF6",
          "polar": {
           "angularaxis": {
            "gridcolor": "white",
            "linecolor": "white",
            "ticks": ""
           },
           "bgcolor": "#E5ECF6",
           "radialaxis": {
            "gridcolor": "white",
            "linecolor": "white",
            "ticks": ""
           }
          },
          "scene": {
           "xaxis": {
            "backgroundcolor": "#E5ECF6",
            "gridcolor": "white",
            "gridwidth": 2,
            "linecolor": "white",
            "showbackground": true,
            "ticks": "",
            "zerolinecolor": "white"
           },
           "yaxis": {
            "backgroundcolor": "#E5ECF6",
            "gridcolor": "white",
            "gridwidth": 2,
            "linecolor": "white",
            "showbackground": true,
            "ticks": "",
            "zerolinecolor": "white"
           },
           "zaxis": {
            "backgroundcolor": "#E5ECF6",
            "gridcolor": "white",
            "gridwidth": 2,
            "linecolor": "white",
            "showbackground": true,
            "ticks": "",
            "zerolinecolor": "white"
           }
          },
          "shapedefaults": {
           "line": {
            "color": "#2a3f5f"
           }
          },
          "ternary": {
           "aaxis": {
            "gridcolor": "white",
            "linecolor": "white",
            "ticks": ""
           },
           "baxis": {
            "gridcolor": "white",
            "linecolor": "white",
            "ticks": ""
           },
           "bgcolor": "#E5ECF6",
           "caxis": {
            "gridcolor": "white",
            "linecolor": "white",
            "ticks": ""
           }
          },
          "title": {
           "x": 0.05
          },
          "xaxis": {
           "automargin": true,
           "gridcolor": "white",
           "linecolor": "white",
           "ticks": "",
           "title": {
            "standoff": 15
           },
           "zerolinecolor": "white",
           "zerolinewidth": 2
          },
          "yaxis": {
           "automargin": true,
           "gridcolor": "white",
           "linecolor": "white",
           "ticks": "",
           "title": {
            "standoff": 15
           },
           "zerolinecolor": "white",
           "zerolinewidth": 2
          }
         }
        },
        "xaxis": {
         "anchor": "y",
         "domain": [
          0,
          1
         ],
         "title": {
          "text": "x"
         }
        },
        "yaxis": {
         "anchor": "x",
         "domain": [
          0,
          1
         ],
         "title": {
          "text": "y"
         }
        }
       }
      }
     },
     "metadata": {},
     "output_type": "display_data"
    }
   ],
   "source": []
  },
  {
   "cell_type": "code",
   "execution_count": null,
   "metadata": {},
   "outputs": [
    {
     "data": {
      "image/png": "[encoded data removed]",
      "text/plain": [
       "<Figure size 720x720 with 1 Axes>"
      ]
     },
     "metadata": {},
     "output_type": "display_data"
    }
   ],
   "source": [
    "plt.figure(figsize=(10,10))\n",
    "plt.plot(datetimes,dlondts)\n",
    "plt.xticks(rotation=90)\n",
    "plt.grid()"
   ]
  },
  {
   "cell_type": "code",
   "execution_count": null,
   "metadata": {},
   "outputs": [
    {
     "name": "stdout",
     "output_type": "stream",
     "text": [
      "Montu Time Object:\n",
      "--------------------------\n",
      "General:\n",
      "    Calendar: mixed\n",
      "    Is bce: True\n",
      "    Components UTC: [-1, 1401, 10, 6, 0, 53, 32, 464200]\n",
      "Uniform scales:\n",
      "    Terrestrial time:\n",
      "        tt: -107301117208.0446\n",
      "        jtd: 1209633.9212031877\n",
      "    UTC time:\n",
      "        et: -107301150387.5358\n",
      "        jed: 1209633.5371812987\n",
      "    Delta-t = TT - UTC = 33179.491200000004\n",
      "Strings:\n",
      "    Date in SPICE format: 1402 B.C. 10-06 00:53:32.464200\n",
      "    Date in proleptic calendar: -1401-10-06 00:53:32.464200\n",
      "    Date in proleptic calendar (jul.year): 3313-10-06 00:53:32.464200\n",
      "    Date in mixed calendar: -1401-10-19 00:53:32\n",
      "    Date in mixed calendar (jul.year): -3311-10-19 00:53:32\n",
      "Objects:\n",
      "    Date in datetime64 format: -1401-10-06T00:53:32.464200\n",
      "    Date in datetime format proleptic: 1401-10-06 00:53:32.464200\n",
      "    Date in datetime format proleptic (julian year): 3313-10-06 00:53:32.464200\n",
      "    Date in datetime format mixed: 1401-10-19 00:53:32\n",
      "    Date in datetime format mixed (julian year): 3311-10-19 00:53:32\n",
      "    Date in PyPlanet Epoch: 1209633.5371812987\n",
      "    Date in PyEphem Epoch: -1402/10/19 00:53:32\n",
      "    Date in AstroPy Time: 1209633.9212031877\n",
      "Astronomical properties at Epoch:\n",
      "    True obliquity of ecliptic: 23:51:44.006\n",
      "    True nutation longitude: 00:00:3.670\n",
      "    Greenwhich Meridian Sidereal Time: 01:50:7.674\n",
      "Hash: -657388970233317630\n",
      "\n"
     ]
    }
   ],
   "source": [
    "epoch = pyplanets_Mars((mtime + 200*DAY).obj_pyplanet).station_longitude_1()\n",
    "mtime = MonTime(float(epoch),format='jd',calendar='mixed')\n",
    "print(mtime)"
   ]
  },
  {
   "cell_type": "code",
   "execution_count": null,
   "metadata": {},
   "outputs": [
    {
     "data": {
      "text/plain": [
       "(0.009437395461759479, 0.006579110858240256, 0.011354314627453732)"
      ]
     },
     "metadata": {},
     "output_type": "display_data"
    }
   ],
   "source": [
    "mars.ecliptic_longitude_advance(mtime,tebas),mars.ecliptic_longitude_advance(mtime-1*HOUR,tebas),mars.ecliptic_longitude_advance(mtime+1*HOUR,tebas)"
   ]
  },
  {
   "cell_type": "markdown",
   "metadata": {},
   "source": [
    "Let's predict the next Marstice:"
   ]
  },
  {
   "cell_type": "code",
   "execution_count": null,
   "metadata": {},
   "outputs": [
    {
     "name": "stdout",
     "output_type": "stream",
     "text": [
      "(-1450, 9, 17, 15, 5, 31.96665644645691)\n"
     ]
    }
   ],
   "source": [
    "epoch = pyplanets_Mars(mtime_initial.obj_pyplanet).station_longitude_1()\n",
    "print(epoch.get_full_date())"
   ]
  },
  {
   "cell_type": "markdown",
   "metadata": {},
   "source": [
    "Now we will compute the ecliptic longitud of mars as a function of time:"
   ]
  },
  {
   "cell_type": "code",
   "execution_count": null,
   "metadata": {},
   "outputs": [
    {
     "name": "stderr",
     "output_type": "stream",
     "text": [
      "  0%|          | 0/365 [00:00<?, ?it/s]\n"
     ]
    },
    {
     "ename": "TypeError",
     "evalue": "calculate_sky_position() got an unexpected keyword argument 'store'",
     "output_type": "error",
     "traceback": [
      "\u001b[0;31m---------------------------------------------------------------------------\u001b[0m\n",
      "\u001b[0;31mTypeError\u001b[0m                                 Traceback (most recent call last)\n",
      "\u001b[1;32m/Users/jorgezuluagacallejas/Dropbox/MiInvestigacion/EgyptianAstronomy/MontuPython/dev/prod-montunctions.ipynb Celda 14\u001b[0m line \u001b[0;36m<module>\u001b[0;34m\u001b[0m\n",
      "\u001b[1;32m      <a href='vscode-notebook-cell:/Users/jorgezuluagacallejas/Dropbox/MiInvestigacion/EgyptianAstronomy/MontuPython/dev/prod-montunctions.ipynb#Y103sZmlsZQ%3D%3D?line=0'>1</a>\u001b[0m \u001b[39mfor\u001b[39;00m t \u001b[39min\u001b[39;00m tqdm\u001b[39m.\u001b[39mtqdm(np\u001b[39m.\u001b[39marange(\u001b[39m0\u001b[39m,\u001b[39m365\u001b[39m,\u001b[39m1\u001b[39m)):\n",
      "\u001b[0;32m----> <a href='vscode-notebook-cell:/Users/jorgezuluagacallejas/Dropbox/MiInvestigacion/EgyptianAstronomy/MontuPython/dev/prod-montunctions.ipynb#Y103sZmlsZQ%3D%3D?line=1'>2</a>\u001b[0m     mars\u001b[39m.\u001b[39;49mcalculate_sky_position(mtime_initial\u001b[39m+\u001b[39;49mt,tebas,method\u001b[39m=\u001b[39;49m\u001b[39m'\u001b[39;49m\u001b[39mSPICE\u001b[39;49m\u001b[39m'\u001b[39;49m,verbose\u001b[39m=\u001b[39;49m\u001b[39m0\u001b[39;49m,store\u001b[39m=\u001b[39;49m\u001b[39m1\u001b[39;49m)\n",
      "\n",
      "\u001b[0;31mTypeError\u001b[0m: calculate_sky_position() got an unexpected keyword argument 'store'"
     ]
    }
   ],
   "source": [
    "for t in tqdm.tqdm(np.arange(0,365,1)):\n",
    "    mars.calculate_sky_position(mtime_initial+t,tebas,method='SPICE',verbose=0,store=1)"
   ]
  },
  {
   "cell_type": "markdown",
   "metadata": {},
   "source": [
    "Let's plot the ecliptic longitude of Mars:"
   ]
  },
  {
   "cell_type": "code",
   "execution_count": null,
   "metadata": {},
   "outputs": [],
   "source": []
  },
  {
   "cell_type": "markdown",
   "metadata": {},
   "source": [
    "Let's load the planet and compute a basic ephemerides for the planet at the neginning of our exploration:"
   ]
  },
  {
   "cell_type": "code",
   "execution_count": null,
   "metadata": {},
   "outputs": [
    {
     "name": "stdout",
     "output_type": "stream",
     "text": [
      "Computing position of body 'mars' at epoch: jtd = 807955.3819370369 \n",
      "Updating orientation of site (old time 2000-01-01 11:58:56.126200, new time 2501 B.C. 01-02 04:34:59.680000)\n",
      "Method 'SPICE':\n",
      "\tCoordinates @ J2000: \n",
      "\t\tEquatorial: (12.0, 31, 10.330750207828174) (1.0, 42, 43.23566804182562)\n",
      "\t\tEcliptic: (186.0, 28, 44.719340897172515) (4.0, 39, 52.640910276248576)\n",
      "\tCoordinates @ Epoch : \n",
      "\t\tEquatorial: (8.0, 31, 24.34049243312245) (24.0, 10, 21.312243010044085)\n",
      "\t\tEcliptic: (124.0, 10, 18.6624644084759) (4.0, 40, 14.636525807569711)\n",
      "\tLocal true sidereal time:  (13.0, 30, 8.458840359129738)\n",
      "\tHour angle @ Epoch:  (4.0, 58, 44.11834792600729)\n",
      "\tLocal coordinates @ Epoch:  (287.0, 25, 8.180707607129989) (22.0, 44, 58.234577536511836)\n"
     ]
    }
   ],
   "source": [
    "# Initial epoch\n",
    "\n",
    "mtime = MonTime('-2500-01-01 00:00:00.00',scale='utc',calendar='proleptic')\n",
    "#mtime = MonTime(mtime_initial.tt,format='tt',scale='tt')\n",
    "#print(mtime_initial)\n",
    "\n",
    "\n",
    "# Calculate next marstice\n",
    "#epoch = pyplanets_Mars(mtime_initial.mixed).station_longitude_1()\n",
    "#print(epoch)"
   ]
  },
  {
   "cell_type": "code",
   "execution_count": null,
   "metadata": {},
   "outputs": [
    {
     "name": "stdout",
     "output_type": "stream",
     "text": [
      "186.6630414306533\n"
     ]
    }
   ],
   "source": [
    "mtime = MonTime('-2500-01-01 12:00:00.00',scale='utc',calendar='proleptic')\n",
    "mars.calculate_sky_position(mtime,senenmut,method='SPICE',verbose=0)\n",
    "print(mars.LonJ2000)\n",
    "mtimep = mtime+10*DAY"
   ]
  },
  {
   "cell_type": "code",
   "execution_count": null,
   "metadata": {},
   "outputs": [
    {
     "name": "stdout",
     "output_type": "stream",
     "text": [
      "Montu Time Object:\n",
      "--------------------------\n",
      "General:\n",
      "    Calendar: proleptic\n",
      "    Is bce: True\n",
      "    Components: [-1, 2500, 1, 1, 12, 0, 0, 0]\n",
      "    Scale: utc\n",
      "Uniform scales:\n",
      "    Delta-t = TT - UTC = 59699.68000000001\n",
      "    Terrestrial time:\n",
      "        tt: -142006202700.32\n",
      "        jtd: 807954.6909685184\n",
      "    UTC time:\n",
      "        et: -142006262400.0\n",
      "        jed: 807954.0\n",
      "Are uniform consistent with strings:\n",
      "    Astro: True\n",
      "    Strings: True\n",
      "    Extra: True\n",
      "Strings:\n",
      "    Date in native format: -2500-01-01 12:00:00.00\n",
      "    Date in SPICE format: 2501 B.C. 01-01 12:00:00.000000\n",
      "    Date in mixed calendar: -2501-1-22 12:00:00\n",
      "Objects:\n",
      "    Date in datetime64 format: -2500-01-01T12:00:00.000\n",
      "    Date in datetime format: 2500-01-01 12:00:00\n",
      "    Date in PyPlanet Epoch: 807954.0\n",
      "    Date in PyEphem Epoch: -2501/1/22 12:00:00\n",
      "    Date in AstroPy Time: 807954.6909685184\n",
      "Astronomical properties at Epoch:\n",
      "    True obliquity of ecliptic: 23:58:33.587\n",
      "    True nutation longitude: 00:00:10.214\n",
      "    Greenwhich Meridian Sidereal Time: 18:40:25.323\n",
      "Hash: 3255643308124071076\n",
      "\n"
     ]
    }
   ],
   "source": [
    "print(mtime)"
   ]
  },
  {
   "cell_type": "code",
   "execution_count": null,
   "metadata": {},
   "outputs": [
    {
     "name": "stdout",
     "output_type": "stream",
     "text": [
      "Montu Time Object:\n",
      "--------------------------\n",
      "General:\n",
      "    Calendar: proleptic\n",
      "    Is bce: True\n",
      "    Components: [-1, 2500, 1, 12, 4, 34, 59, 680000]\n",
      "    Scale: utc\n",
      "Uniform scales:\n",
      "    Delta-t = TT - UTC = 59699.68000000001\n",
      "    Terrestrial time:\n",
      "        tt: -142005279000.64\n",
      "        jtd: 807965.3819370369\n",
      "    UTC time:\n",
      "        et: -142005338700.32\n",
      "        jed: 807964.6909685184\n",
      "Are uniform consistent with strings:\n",
      "    Astro: True\n",
      "    Strings: True\n",
      "    Extra: True\n",
      "Strings:\n",
      "    Date in native format: -2500-01-12 04:34:59.680000\n",
      "    Date in SPICE format: 2501 B.C. 01-12 04:34:59.680000\n",
      "    Date in mixed calendar: -2501-2-2 04:35:00\n",
      "Objects:\n",
      "    Date in datetime64 format: -2500-01-12T04:34:59.680000\n",
      "    Date in datetime format: 2500-01-12 04:34:59.680000\n",
      "    Date in PyPlanet Epoch: 807964.6909685184\n",
      "    Date in PyEphem Epoch: -2501/2/2 04:35:00\n",
      "    Date in AstroPy Time: 807965.3819370369\n",
      "Astronomical properties at Epoch:\n",
      "    True obliquity of ecliptic: 23:58:33.703\n",
      "    True nutation longitude: 00:00:9.821\n",
      "    Greenwhich Meridian Sidereal Time: 11:57:34.030\n",
      "Hash: -5722911577104889428\n",
      "\n"
     ]
    }
   ],
   "source": [
    "print(mtimep)"
   ]
  },
  {
   "cell_type": "markdown",
   "metadata": {},
   "source": [
    "Check the first *marstice*"
   ]
  },
  {
   "cell_type": "code",
   "execution_count": null,
   "metadata": {},
   "outputs": [
    {
     "data": {
      "text/plain": [
       "numpy.datetime64('-2500-01-01T12:00:00.000')"
      ]
     },
     "metadata": {},
     "output_type": "display_data"
    }
   ],
   "source": [
    "mtime_initial.datetime64"
   ]
  },
  {
   "cell_type": "code",
   "execution_count": null,
   "metadata": {},
   "outputs": [
    {
     "ename": "NameError",
     "evalue": "name 'mtime' is not defined",
     "output_type": "error",
     "traceback": [
      "\u001b[0;31m---------------------------------------------------------------------------\u001b[0m\n",
      "\u001b[0;31mNameError\u001b[0m                                 Traceback (most recent call last)\n",
      "\u001b[1;32m/Users/jorgezuluagacallejas/Dropbox/MiInvestigacion/EgyptianAstronomy/MontuPython/dev/prod-montunctions.ipynb Celda 11\u001b[0m line \u001b[0;36m<module>\u001b[0;34m\u001b[0m\n",
      "\u001b[0;32m----> <a href='vscode-notebook-cell:/Users/jorgezuluagacallejas/Dropbox/MiInvestigacion/EgyptianAstronomy/MontuPython/dev/prod-montunctions.ipynb#X51sZmlsZQ%3D%3D?line=0'>1</a>\u001b[0m mtime\n",
      "\n",
      "\u001b[0;31mNameError\u001b[0m: name 'mtime' is not defined"
     ]
    }
   ],
   "source": [
    "mtime"
   ]
  },
  {
   "cell_type": "code",
   "execution_count": null,
   "metadata": {},
   "outputs": [
    {
     "data": {
      "text/plain": [
       "<montu.MonTime at 0x7fd539de6c70>"
      ]
     },
     "metadata": {},
     "output_type": "display_data"
    }
   ],
   "source": [
    "MonTime(mtime_initial.jtd,format='jd',scale='tt')"
   ]
  },
  {
   "cell_type": "code",
   "execution_count": null,
   "metadata": {},
   "outputs": [],
   "source": [
    "def proper_motion(self,mtime,site,method='SPICE'):\n",
    "    # Time for derivative\n",
    "    dt = 3600 # seconds\n",
    "\n",
    "    # Time before\n",
    "    mtime_m_dt = MonTime(mtime.tt-dt,format='tt',scale='tt')\n",
    "    self.calculate_sky_position(mtime_m_dt,site,method)\n",
    "    EclLon_m_dt = self.LonEpoch\n",
    "\n",
    "    # Time after \n",
    "    mtime_p_dt = MonTime(mtime.tt+dt,format='tt',scale='tt')\n",
    "    self.calculate_sky_position(mtime_p_dt,site,method)\n",
    "    EclLon_p_dt = self.LonEpoch\n",
    "    \n",
    "    # Compute derivative using central difference algorithm\n",
    "    dlondt = (EclLon_p_dt-EclLon_m_dt)/(2*dt)\n",
    "\n",
    "    return dlondt"
   ]
  },
  {
   "cell_type": "code",
   "execution_count": null,
   "metadata": {},
   "outputs": [
    {
     "name": "stdout",
     "output_type": "stream",
     "text": [
      "Computing position of body 'mars' at epoch: jtd = 807954.6493018514 \n",
      "Updating orientation of site (old time 2501 B.C. 01-02 04:35:59.680000, new time 2501 B.C. 01-02 03:34:59.680000)\n",
      "Method 'SPICE':\n",
      "\tCoordinates @ J2000: \n",
      "\t\tEquatorial: (12.0, 31, 51.16891486912692) (1.0, 36, 53.62720450673592)\n",
      "\t\tEcliptic: (186.0, 40, 27.681745349138964) (4.0, 38, 33.57497791906894)\n",
      "\tCoordinates @ Epoch : \n",
      "\t\tEquatorial: (8.0, 32, 12.624945977286046) (24.0, 6, 16.120882615464325)\n",
      "\t\tEcliptic: (124.0, 22, 2.2907879676654375) (4.0, 39, 3.0015515531087544)\n",
      "\tLocal true sidereal time:  (20.0, 52, 15.309581004032964)\n",
      "\tHour angle @ Epoch:  (3.0, 53, 28.621948369378174)\n",
      "\tLocal coordinates @ Epoch:  (282.0, 55, 36.00115349540829) (37.0, 6, 59.41122568721596)\n",
      "Computing position of body 'mars' at epoch: jtd = 807954.7326351847 \n",
      "Updating orientation of site (old time 2501 B.C. 01-02 03:34:59.680000, new time 2501 B.C. 01-02 05:34:59.680000)\n",
      "Method 'SPICE':\n",
      "\tCoordinates @ J2000: \n",
      "\t\tEquatorial: (12.0, 31, 46.38830368329124) (1.0, 37, 30.584981480665476)\n",
      "\t\tEcliptic: (186.0, 39, 6.965447328011578) (4.0, 38, 39.191840815289254)\n",
      "\tCoordinates @ Epoch : \n",
      "\t\tEquatorial: (8.0, 32, 7.022261468384556) (24.0, 6, 40.953356825584706)\n",
      "\t\tEcliptic: (124.0, 20, 41.53608649416469) (4.0, 39, 7.760758362618674)\n",
      "\tLocal true sidereal time:  (20.0, 52, 15.309581004032964)\n",
      "\tHour angle @ Epoch:  (5.0, 54, 9.73597590324772)\n",
      "\tLocal coordinates @ Epoch:  (291.0, 44, 2.4921695767579877) (10.0, 48, 2.646791024920674)\n"
     ]
    },
    {
     "data": {
      "text/plain": [
       "-3.1155363222801213e-06"
      ]
     },
     "metadata": {},
     "output_type": "display_data"
    }
   ],
   "source": [
    "proper_motion(mars,mtime_initial,senenmut)"
   ]
  },
  {
   "cell_type": "code",
   "execution_count": null,
   "metadata": {},
   "outputs": [],
   "source": []
  },
  {
   "cell_type": "code",
   "execution_count": null,
   "metadata": {},
   "outputs": [
    {
     "name": "stdout",
     "output_type": "stream",
     "text": [
      "Computing position of body 'mars' at epoch: jtd = 807954.6909685181 \n",
      "Method 'Horizons':\n",
      "\tCoordinates @ J2000: \n",
      "\t\tEquatorial: (12.0, 31, 49.14719999999818) (1.0, 37, 6.7080000000001405)\n",
      "\t\tEcliptic: (186.0, 39, 54.55755751664583) (4.0, 38, 33.60945464297373)\n",
      "\tCoordinates @ Epoch : \n",
      "\t\tEquatorial: (8.0, 32, 9.283199999998999) (24.0, 6, 29.555999999998903)\n",
      "\t\tEcliptic: (124.0, 21, 14.472000000019989) (4.0, 39, 4.619159999998601)\n",
      "\tLocal true sidereal time:  (20.0, 52, 25.33680635060051)\n",
      "\tHour angle @ Epoch:  (12.0, 20, 16.053606350601513)\n",
      "\tLocal coordinates @ Epoch:  (6.0, 11, 33.727199999998945) (-41.0, 38, 29.317200000006665)\n",
      "Method 'SPICE':\n",
      "\tCoordinates @ J2000: \n",
      "\t\tEquatorial: (12.0, 31, 48.753744735846425) (1.0, 37, 12.183893557883323)\n",
      "\t\tEcliptic: (186.0, 39, 46.94915069411309) (4.0, 38, 36.30772063832154)\n",
      "\tCoordinates @ Epoch : \n",
      "\t\tEquatorial: (8.0, 32, 9.795886101475588) (24.0, 6, 28.554848680354326)\n",
      "\t\tEcliptic: (124.0, 21, 21.541928321314572) (4.0, 39, 5.338625024007229)\n",
      "\tLocal true sidereal time:  (20.0, 52, 25.33680635060051)\n",
      "\tHour angle @ Epoch:  (12.0, 16, 6.148590305785149)\n",
      "\tLocal coordinates @ Epoch:  (4.0, 55, 33.60085965884707) (-41.0, 44, 2.086061395946217)\n",
      "Method 'VSOP87':\n",
      "\tCoordinates @ J2000: \n",
      "\t\tEquatorial: (12.0, 31, 48.35959493273393) (1.0, 37, 33.109169895417665)\n",
      "\t\tEcliptic: (186.0, 39, 33.20461219426306) (4.0, 38, 53.19324048173158)\n",
      "\tCoordinates @ Epoch : \n",
      "\t\tEquatorial: (8.0, 32, 9.718054160122875) (24.0, 6, 40.92010821872179)\n",
      "\t\tEcliptic: (124.0, 21, 17.39024439006812) (4.0, 39, 17.039572537222227)\n",
      "\tLocal true sidereal time:  (20.0, 52, 25.322505557922454)\n",
      "\tHour angle @ Epoch:  (12.0, 20, 15.604451397793184)\n",
      "\tLocal coordinates @ Epoch:  (6.0, 11, 23.905564366115826) (-41.0, 38, 18.685147982311605)\n"
     ]
    }
   ],
   "source": [
    "mars.calculate_sky_position(mtime_initial,senenmut,method='all')"
   ]
  },
  {
   "cell_type": "code",
   "execution_count": null,
   "metadata": {},
   "outputs": [
    {
     "data": {
      "text/plain": [
       "array([[ 1.                ,  0.                ,  0.                ],\n",
       "       [ 0.                ,  0.9174820620691818,  0.3977771559319137],\n",
       "       [ 0.                , -0.3977771559319137,  0.9174820620691818]])"
      ]
     },
     "metadata": {},
     "output_type": "display_data"
    }
   ],
   "source": [
    "M_J2000_ECLIPJ2000"
   ]
  },
  {
   "cell_type": "code",
   "execution_count": null,
   "metadata": {},
   "outputs": [
    {
     "data": {
      "text/plain": [
       "111.25864527725186"
      ]
     },
     "metadata": {},
     "output_type": "display_data"
    }
   ],
   "source": [
    "mars.pyephem_planet.hlon*RAD"
   ]
  },
  {
   "cell_type": "code",
   "execution_count": null,
   "metadata": {},
   "outputs": [
    {
     "data": {
      "text/plain": [
       "0    173.53559999999998809\n",
       "Name: EclLon, dtype: float64"
      ]
     },
     "metadata": {},
     "output_type": "display_data"
    }
   ],
   "source": [
    "mars.ephemerides.EclLon"
   ]
  },
  {
   "cell_type": "code",
   "execution_count": null,
   "metadata": {},
   "outputs": [
    {
     "data": {
      "text/plain": [
       "Index(['targetname', 'datetime_str', 'datetime_jd', 'solar_presence', 'flags',\n",
       "       'RA', 'DEC', 'RA_app', 'DEC_app', 'RA_rate', 'DEC_rate', 'AZ', 'EL',\n",
       "       'AZ_rate', 'EL_rate', 'sat_X', 'sat_Y', 'sat_PANG', 'siderealtime',\n",
       "       'airmass', 'magextinct', 'V', 'surfbright', 'illumination',\n",
       "       'illum_defect', 'sat_sep', 'sat_vis', 'ang_width', 'PDObsLon',\n",
       "       'PDObsLat', 'PDSunLon', 'PDSunLat', 'SubSol_ang', 'SubSol_dist',\n",
       "       'NPole_ang', 'NPole_dist', 'EclLon', 'EclLat', 'r', 'r_rate', 'delta',\n",
       "       'delta_rate', 'lighttime', 'vel_sun', 'vel_obs', 'elong', 'elongFlag',\n",
       "       'alpha', 'lunar_elong', 'lunar_illum', 'sat_alpha', 'sunTargetPA',\n",
       "       'velocityPA', 'OrbPlaneAng', 'constellation', 'TDB-UT', 'ObsEclLon',\n",
       "       'ObsEclLat', 'NPole_RA', 'NPole_DEC', 'GlxLon', 'GlxLat', 'solartime',\n",
       "       'earth_lighttime', 'RA_3sigma', 'DEC_3sigma', 'SMAA_3sigma',\n",
       "       'SMIA_3sigma', 'Theta_3sigma', 'Area_3sigma', 'RSS_3sigma', 'r_3sigma',\n",
       "       'r_rate_3sigma', 'SBand_3sigma', 'XBand_3sigma', 'DoppDelay_3sigma',\n",
       "       'true_anom', 'hour_angle', 'alpha_true', 'PABLon', 'PABLat'],\n",
       "      dtype='object')"
      ]
     },
     "metadata": {},
     "output_type": "display_data"
    }
   ],
   "source": [
    "mars.ephemerides.columns"
   ]
  },
  {
   "cell_type": "code",
   "execution_count": null,
   "metadata": {},
   "outputs": [],
   "source": [
    "epoch = pyplanets_Mars(mtime_initial.mixed).station_longitude_1()\n",
    "mtime_initial.jtd,float(epoch),astropy_Time(float(epoch),format='jd',scale='tt').iso"
   ]
  },
  {
   "cell_type": "code",
   "execution_count": null,
   "metadata": {},
   "outputs": [],
   "source": []
  }
 ],
 "metadata": {
  "kernelspec": {
   "display_name": "base",
   "language": "python",
   "name": "python3"
  },
  "language_info": {
   "codemirror_mode": {
    "name": "ipython",
    "version": 3
   },
   "file_extension": ".py",
   "mimetype": "text/x-python",
   "name": "python",
   "nbconvert_exporter": "python",
   "pygments_lexer": "ipython3",
   "version": "3.9.7"
  }
 },
 "nbformat": 4,
 "nbformat_minor": 2
}
