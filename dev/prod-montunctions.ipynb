{
 "cells": [
  {
   "cell_type": "markdown",
   "metadata": {},
   "source": [
    "# Montu Python \n",
    "## Astronomical ephemerides for the Ancient World\n",
    "## Production file: Montunctions\n"
   ]
  },
  {
   "cell_type": "markdown",
   "metadata": {},
   "source": [
    "## Loading tools"
   ]
  },
  {
   "cell_type": "code",
   "execution_count": 10,
   "metadata": {},
   "outputs": [
    {
     "name": "stdout",
     "output_type": "stream",
     "text": [
      "The autoreload extension is already loaded. To reload it, use:\n",
      "  %reload_ext autoreload\n"
     ]
    }
   ],
   "source": [
    "from montu import *\n",
    "Montu.load_kernels(verbose=False)\n",
    "%load_ext autoreload\n",
    "%autoreload 2"
   ]
  },
  {
   "cell_type": "markdown",
   "metadata": {},
   "source": [
    "## Goals of this notebook"
   ]
  },
  {
   "cell_type": "markdown",
   "metadata": {},
   "source": [
    "The goal of this notebook is to determine the stable positions of mars across ancient Egypt history and check when this *marsticies* happened close to the winter solstice and in the Taurus constellation."
   ]
  },
  {
   "cell_type": "markdown",
   "metadata": {},
   "source": [
    "## *Marstices*"
   ]
  },
  {
   "cell_type": "markdown",
   "metadata": {},
   "source": [
    "Let's load the planet and compute a basic ephemerides for the planet at the neginning of our exploration:"
   ]
  },
  {
   "cell_type": "code",
   "execution_count": 36,
   "metadata": {},
   "outputs": [],
   "source": [
    "# Planet\n",
    "mars = PlanetaryBody('Mars')\n",
    "earth = PlanetaryBody('Earth')\n",
    "\n",
    "# Site\n",
    "senenmut = ObservingSite(planet=earth,lon=33,lat=24,height=0)\n",
    "\n",
    "# Initial epoch\n",
    "mtime_initial = MonTime('-2500-01-01 12:00:00.00',scale='utc',proleptic=True)\n",
    "\n",
    "# Initialize quantities for ephemerides calculation\n",
    "mars.calculate_sky_position(mtime_initial,senenmut,method='Horizons',verbose=False)\n",
    "\n",
    "# Calculate next martice\n",
    "#epoch = pyplanets_Mars(mtime_initial.mixed).station_longitude_1()\n",
    "#print(epoch)"
   ]
  },
  {
   "cell_type": "markdown",
   "metadata": {},
   "source": [
    "Check the first *marstice*"
   ]
  },
  {
   "cell_type": "code",
   "execution_count": 37,
   "metadata": {},
   "outputs": [
    {
     "data": {
      "text/plain": [
       "numpy.datetime64('-2500-01-01T12:00:00.000')"
      ]
     },
     "execution_count": 37,
     "metadata": {},
     "output_type": "execute_result"
    }
   ],
   "source": [
    "mtime_initial.datetime64"
   ]
  },
  {
   "cell_type": "code",
   "execution_count": 38,
   "metadata": {},
   "outputs": [
    {
     "ename": "NameError",
     "evalue": "name 'mtime' is not defined",
     "output_type": "error",
     "traceback": [
      "\u001b[0;31m---------------------------------------------------------------------------\u001b[0m",
      "\u001b[0;31mNameError\u001b[0m                                 Traceback (most recent call last)",
      "\u001b[1;32m/Users/jorgezuluagacallejas/Dropbox/MiInvestigacion/EgyptianAstronomy/MontuPython/dev/prod-montunctions.ipynb Celda 11\u001b[0m line \u001b[0;36m<module>\u001b[0;34m\u001b[0m\n\u001b[0;32m----> <a href='vscode-notebook-cell:/Users/jorgezuluagacallejas/Dropbox/MiInvestigacion/EgyptianAstronomy/MontuPython/dev/prod-montunctions.ipynb#X51sZmlsZQ%3D%3D?line=0'>1</a>\u001b[0m mtime\n",
      "\u001b[0;31mNameError\u001b[0m: name 'mtime' is not defined"
     ]
    }
   ],
   "source": [
    "mtime"
   ]
  },
  {
   "cell_type": "code",
   "execution_count": 39,
   "metadata": {},
   "outputs": [
    {
     "data": {
      "text/plain": [
       "<montu.MonTime at 0x7fd539de6c70>"
      ]
     },
     "execution_count": 39,
     "metadata": {},
     "output_type": "execute_result"
    }
   ],
   "source": [
    "MonTime(mtime_initial.jtd,format='jd',scale='tt')"
   ]
  },
  {
   "cell_type": "code",
   "execution_count": 47,
   "metadata": {},
   "outputs": [],
   "source": [
    "def proper_motion(self,mtime,site,method='SPICE'):\n",
    "    # Time for derivative\n",
    "    dt = 3600 # seconds\n",
    "\n",
    "    # Time before\n",
    "    mtime_m_dt = MonTime(mtime.tt-dt,format='tt',scale='tt')\n",
    "    self.calculate_sky_position(mtime_m_dt,site,method)\n",
    "    EclLon_m_dt = self.LonEpoch\n",
    "\n",
    "    # Time after \n",
    "    mtime_p_dt = MonTime(mtime.tt+dt,format='tt',scale='tt')\n",
    "    self.calculate_sky_position(mtime_p_dt,site,method)\n",
    "    EclLon_p_dt = self.LonEpoch\n",
    "    \n",
    "    # Compute derivative using central difference algorithm\n",
    "    dlondt = (EclLon_p_dt-EclLon_m_dt)/(2*dt)\n",
    "\n",
    "    return dlondt"
   ]
  },
  {
   "cell_type": "code",
   "execution_count": 48,
   "metadata": {},
   "outputs": [
    {
     "name": "stdout",
     "output_type": "stream",
     "text": [
      "Computing position of body 'mars' at epoch: jtd = 807954.6493018514 \n",
      "Updating orientation of site (old time 2501 B.C. 01-02 04:35:59.680000, new time 2501 B.C. 01-02 03:34:59.680000)\n",
      "Method 'SPICE':\n",
      "\tCoordinates @ J2000: \n",
      "\t\tEquatorial: (12.0, 31, 51.16891486912692) (1.0, 36, 53.62720450673592)\n",
      "\t\tEcliptic: (186.0, 40, 27.681745349138964) (4.0, 38, 33.57497791906894)\n",
      "\tCoordinates @ Epoch : \n",
      "\t\tEquatorial: (8.0, 32, 12.624945977286046) (24.0, 6, 16.120882615464325)\n",
      "\t\tEcliptic: (124.0, 22, 2.2907879676654375) (4.0, 39, 3.0015515531087544)\n",
      "\tLocal true sidereal time:  (20.0, 52, 15.309581004032964)\n",
      "\tHour angle @ Epoch:  (3.0, 53, 28.621948369378174)\n",
      "\tLocal coordinates @ Epoch:  (282.0, 55, 36.00115349540829) (37.0, 6, 59.41122568721596)\n",
      "Computing position of body 'mars' at epoch: jtd = 807954.7326351847 \n",
      "Updating orientation of site (old time 2501 B.C. 01-02 03:34:59.680000, new time 2501 B.C. 01-02 05:34:59.680000)\n",
      "Method 'SPICE':\n",
      "\tCoordinates @ J2000: \n",
      "\t\tEquatorial: (12.0, 31, 46.38830368329124) (1.0, 37, 30.584981480665476)\n",
      "\t\tEcliptic: (186.0, 39, 6.965447328011578) (4.0, 38, 39.191840815289254)\n",
      "\tCoordinates @ Epoch : \n",
      "\t\tEquatorial: (8.0, 32, 7.022261468384556) (24.0, 6, 40.953356825584706)\n",
      "\t\tEcliptic: (124.0, 20, 41.53608649416469) (4.0, 39, 7.760758362618674)\n",
      "\tLocal true sidereal time:  (20.0, 52, 15.309581004032964)\n",
      "\tHour angle @ Epoch:  (5.0, 54, 9.73597590324772)\n",
      "\tLocal coordinates @ Epoch:  (291.0, 44, 2.4921695767579877) (10.0, 48, 2.646791024920674)\n"
     ]
    },
    {
     "data": {
      "text/plain": [
       "-3.1155363222801213e-06"
      ]
     },
     "execution_count": 48,
     "metadata": {},
     "output_type": "execute_result"
    }
   ],
   "source": [
    "proper_motion(mars,mtime_initial,senenmut)"
   ]
  },
  {
   "cell_type": "code",
   "execution_count": null,
   "metadata": {},
   "outputs": [],
   "source": []
  },
  {
   "cell_type": "code",
   "execution_count": 13,
   "metadata": {},
   "outputs": [
    {
     "name": "stdout",
     "output_type": "stream",
     "text": [
      "Computing position of body 'mars' at epoch: jtd = 807954.6909685181 \n",
      "Method 'Horizons':\n",
      "\tCoordinates @ J2000: \n",
      "\t\tEquatorial: (12.0, 31, 49.14719999999818) (1.0, 37, 6.7080000000001405)\n",
      "\t\tEcliptic: (186.0, 39, 54.55755751664583) (4.0, 38, 33.60945464297373)\n",
      "\tCoordinates @ Epoch : \n",
      "\t\tEquatorial: (8.0, 32, 9.283199999998999) (24.0, 6, 29.555999999998903)\n",
      "\t\tEcliptic: (124.0, 21, 14.472000000019989) (4.0, 39, 4.619159999998601)\n",
      "\tLocal true sidereal time:  (20.0, 52, 25.33680635060051)\n",
      "\tHour angle @ Epoch:  (12.0, 20, 16.053606350601513)\n",
      "\tLocal coordinates @ Epoch:  (6.0, 11, 33.727199999998945) (-41.0, 38, 29.317200000006665)\n",
      "Method 'SPICE':\n",
      "\tCoordinates @ J2000: \n",
      "\t\tEquatorial: (12.0, 31, 48.753744735846425) (1.0, 37, 12.183893557883323)\n",
      "\t\tEcliptic: (186.0, 39, 46.94915069411309) (4.0, 38, 36.30772063832154)\n",
      "\tCoordinates @ Epoch : \n",
      "\t\tEquatorial: (8.0, 32, 9.795886101475588) (24.0, 6, 28.554848680354326)\n",
      "\t\tEcliptic: (124.0, 21, 21.541928321314572) (4.0, 39, 5.338625024007229)\n",
      "\tLocal true sidereal time:  (20.0, 52, 25.33680635060051)\n",
      "\tHour angle @ Epoch:  (12.0, 16, 6.148590305785149)\n",
      "\tLocal coordinates @ Epoch:  (4.0, 55, 33.60085965884707) (-41.0, 44, 2.086061395946217)\n",
      "Method 'VSOP87':\n",
      "\tCoordinates @ J2000: \n",
      "\t\tEquatorial: (12.0, 31, 48.35959493273393) (1.0, 37, 33.109169895417665)\n",
      "\t\tEcliptic: (186.0, 39, 33.20461219426306) (4.0, 38, 53.19324048173158)\n",
      "\tCoordinates @ Epoch : \n",
      "\t\tEquatorial: (8.0, 32, 9.718054160122875) (24.0, 6, 40.92010821872179)\n",
      "\t\tEcliptic: (124.0, 21, 17.39024439006812) (4.0, 39, 17.039572537222227)\n",
      "\tLocal true sidereal time:  (20.0, 52, 25.322505557922454)\n",
      "\tHour angle @ Epoch:  (12.0, 20, 15.604451397793184)\n",
      "\tLocal coordinates @ Epoch:  (6.0, 11, 23.905564366115826) (-41.0, 38, 18.685147982311605)\n"
     ]
    }
   ],
   "source": [
    "mars.calculate_sky_position(mtime_initial,senenmut,method='all')"
   ]
  },
  {
   "cell_type": "code",
   "execution_count": 95,
   "metadata": {},
   "outputs": [
    {
     "data": {
      "text/plain": [
       "array([[ 1.                ,  0.                ,  0.                ],\n",
       "       [ 0.                ,  0.9174820620691818,  0.3977771559319137],\n",
       "       [ 0.                , -0.3977771559319137,  0.9174820620691818]])"
      ]
     },
     "execution_count": 95,
     "metadata": {},
     "output_type": "execute_result"
    }
   ],
   "source": [
    "M_J2000_ECLIPJ2000"
   ]
  },
  {
   "cell_type": "code",
   "execution_count": 94,
   "metadata": {},
   "outputs": [
    {
     "data": {
      "text/plain": [
       "111.25864527725186"
      ]
     },
     "execution_count": 94,
     "metadata": {},
     "output_type": "execute_result"
    }
   ],
   "source": [
    "mars.pyephem_planet.hlon*RAD"
   ]
  },
  {
   "cell_type": "code",
   "execution_count": 90,
   "metadata": {},
   "outputs": [
    {
     "data": {
      "text/plain": [
       "0    173.53559999999998809\n",
       "Name: EclLon, dtype: float64"
      ]
     },
     "execution_count": 90,
     "metadata": {},
     "output_type": "execute_result"
    }
   ],
   "source": [
    "mars.ephemerides.EclLon"
   ]
  },
  {
   "cell_type": "code",
   "execution_count": 42,
   "metadata": {},
   "outputs": [
    {
     "data": {
      "text/plain": [
       "Index(['targetname', 'datetime_str', 'datetime_jd', 'solar_presence', 'flags',\n",
       "       'RA', 'DEC', 'RA_app', 'DEC_app', 'RA_rate', 'DEC_rate', 'AZ', 'EL',\n",
       "       'AZ_rate', 'EL_rate', 'sat_X', 'sat_Y', 'sat_PANG', 'siderealtime',\n",
       "       'airmass', 'magextinct', 'V', 'surfbright', 'illumination',\n",
       "       'illum_defect', 'sat_sep', 'sat_vis', 'ang_width', 'PDObsLon',\n",
       "       'PDObsLat', 'PDSunLon', 'PDSunLat', 'SubSol_ang', 'SubSol_dist',\n",
       "       'NPole_ang', 'NPole_dist', 'EclLon', 'EclLat', 'r', 'r_rate', 'delta',\n",
       "       'delta_rate', 'lighttime', 'vel_sun', 'vel_obs', 'elong', 'elongFlag',\n",
       "       'alpha', 'lunar_elong', 'lunar_illum', 'sat_alpha', 'sunTargetPA',\n",
       "       'velocityPA', 'OrbPlaneAng', 'constellation', 'TDB-UT', 'ObsEclLon',\n",
       "       'ObsEclLat', 'NPole_RA', 'NPole_DEC', 'GlxLon', 'GlxLat', 'solartime',\n",
       "       'earth_lighttime', 'RA_3sigma', 'DEC_3sigma', 'SMAA_3sigma',\n",
       "       'SMIA_3sigma', 'Theta_3sigma', 'Area_3sigma', 'RSS_3sigma', 'r_3sigma',\n",
       "       'r_rate_3sigma', 'SBand_3sigma', 'XBand_3sigma', 'DoppDelay_3sigma',\n",
       "       'true_anom', 'hour_angle', 'alpha_true', 'PABLon', 'PABLat'],\n",
       "      dtype='object')"
      ]
     },
     "execution_count": 42,
     "metadata": {},
     "output_type": "execute_result"
    }
   ],
   "source": [
    "mars.ephemerides.columns"
   ]
  },
  {
   "cell_type": "code",
   "execution_count": 37,
   "metadata": {},
   "outputs": [
    {
     "data": {
      "text/plain": [
       "(1538439.1991076705, 1538756.5425240255, '-500-11-15 01:01:14.076')"
      ]
     },
     "execution_count": 37,
     "metadata": {},
     "output_type": "execute_result"
    }
   ],
   "source": [
    "epoch = pyplanets_Mars(mtime_initial.mixed).station_longitude_1()\n",
    "mtime_initial.jtd,float(epoch),astropy_Time(float(epoch),format='jd',scale='tt').iso"
   ]
  },
  {
   "cell_type": "code",
   "execution_count": null,
   "metadata": {},
   "outputs": [],
   "source": []
  }
 ],
 "metadata": {
  "kernelspec": {
   "display_name": "base",
   "language": "python",
   "name": "python3"
  },
  "language_info": {
   "codemirror_mode": {
    "name": "ipython",
    "version": 3
   },
   "file_extension": ".py",
   "mimetype": "text/x-python",
   "name": "python",
   "nbconvert_exporter": "python",
   "pygments_lexer": "ipython3",
   "version": "3.9.7"
  }
 },
 "nbformat": 4,
 "nbformat_minor": 2
}
