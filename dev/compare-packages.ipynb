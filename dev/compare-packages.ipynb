{
 "cells": [
  {
   "cell_type": "markdown",
   "metadata": {},
   "source": [
    "# Montu Python \n",
    "## Astronomical ephemerides for the Ancient World\n",
    "## Test file: comparison between ephemerides computation packages\n"
   ]
  },
  {
   "cell_type": "markdown",
   "metadata": {},
   "source": [
    "The purpose of this notebook is to compare different packages for computing ephemerides and other properties of interest in archeoastronomy. For this purpose we will choose a particular planet, Mars, and star, Aldebaran and compare how their position are computed and how they are compared. \n",
    "\n",
    "We will choose a dummy place and a given year to perform our studies:"
   ]
  },
  {
   "cell_type": "code",
   "execution_count": 42,
   "metadata": {},
   "outputs": [],
   "source": [
    "# Near to Aswan\n",
    "lat0 = 24.0 # deg\n",
    "lon0 = 33.0 # deg\n",
    "height0 = 0.0 # km\n",
    "\n",
    "# Date\n",
    "year0 = -2500 # 2501 b.c.e."
   ]
  },
  {
   "cell_type": "code",
   "execution_count": 43,
   "metadata": {},
   "outputs": [],
   "source": [
    "import numpy as np\n",
    "import pandas as pd\n",
    "np.set_printoptions(precision=17)\n",
    "pd.set_option(\"display.precision\", 17)"
   ]
  },
  {
   "cell_type": "markdown",
   "metadata": {},
   "source": [
    "## MontuPython Legacy"
   ]
  },
  {
   "cell_type": "markdown",
   "metadata": {},
   "source": [
    "We will start with the way we compute it with the legacy code in "
   ]
  },
  {
   "cell_type": "code",
   "execution_count": 44,
   "metadata": {},
   "outputs": [
    {
     "name": "stdout",
     "output_type": "stream",
     "text": [
      "The autoreload extension is already loaded. To reload it, use:\n",
      "  %reload_ext autoreload\n",
      "Loading local kernel frame.tk\n",
      "Loading local kernel pck00011.tpc\n",
      "Loading local kernel earth_assoc_itrf93.tf\n"
     ]
    },
    {
     "data": {
      "text/plain": [
       "(True, False)"
      ]
     },
     "execution_count": 44,
     "metadata": {},
     "output_type": "execute_result"
    }
   ],
   "source": [
    "from montu.__legacy import *\n",
    "%load_ext autoreload\n",
    "%autoreload 2\n",
    "\n",
    "Montu.load_kernels(verbose=True)\n",
    "allstars=Stars()\n",
    "LEGACY,MAIN"
   ]
  },
  {
   "cell_type": "code",
   "execution_count": 45,
   "metadata": {},
   "outputs": [
    {
     "name": "stdout",
     "output_type": "stream",
     "text": [
      "Date =  -2500-01-01 12:00:00.00\n",
      "Time [jd] =  807954.0004766849\n",
      "Time [et] =  -142006262358.81442\n",
      "Time [deltat] =  41.18559848182847\n",
      "Retrieving position for object 399\n",
      "Retrieving position for object 499\n",
      "\tCorrecting id to 4\n",
      "Planet 399 position w.r.t. SSB =  [-1.4254576667837119e+08  4.0940727342393786e+07  5.5869117557443678e+05] [ -8.661300494627447   -28.635203303728886    -0.29070430034066064]\n",
      "Body 499 position w.r.t. SSB =  [-2.4078773811193833e+08  2.9140777010788921e+07  8.5648619432074800e+06] [ -1.3712422329806413 -22.501801288223486   -0.3596977246792097]\n",
      "Coordinates @ J2000:  12d32m28.06957961s 1d31m40.30527964s\n",
      "Coordinates @ Epoch using astropy :  8d32m54.55778425s 24d02m40.98734489s\n",
      "Coordinates @ Epoch using SPICE :  8d32m56.18104171s 24d02m36.36112028s\n",
      "Coordinates @ Epoch:  8d32m56.18104171s 24d02m36.36112028s\n",
      "AltAz @ Epoch:  6.085786433046532 -41.712473855864985\n",
      "AltAz @ Epoch:  (6.0, 5, 8.831158967513986) (-41.0, 42, 44.90588111394686)\n",
      "AltAz @ Epoch (SPICE):  (16.0, 52, 36.57416288759691) (-39.0, 12, 37.5120480075725)\n"
     ]
    }
   ],
   "source": [
    "# Examples\n",
    "earth = PlanetaryBody(id='399')\n",
    "mars = PlanetaryBody(id='499')\n",
    "\n",
    "# Time of observations\n",
    "mtime = MonTime(f'{year0}-01-01 12:00:00.00',scale='utc')\n",
    "print(\"Date = \",mtime.datestr)\n",
    "print(\"Time [jd] = \",mtime.jd)\n",
    "print(\"Time [et] = \",mtime.et)\n",
    "print(\"Time [deltat] = \",mtime.deltat)\n",
    "\n",
    "# Observing location\n",
    "medellin = ObservingSite(location=dict(lon=lon0*u.deg,lat=lat0*u.deg,height=height0*u.km),\n",
    "                         onplanet = earth)\n",
    "medellin.update_site(mtime)\n",
    "\n",
    "# Calculate ephemerides\n",
    "mars.calculate_ephemerides(location=medellin,epochs=mtime,verbose=1)"
   ]
  },
  {
   "cell_type": "markdown",
   "metadata": {},
   "source": [
    "The same configuration produce in Stellarium using the following coordinates result (using JD 807954):\n",
    "\n",
    "RAVDec (J2000.0): $12 \\mathrm{~h} 31 \\mathrm{~m} 52.74 \\mathrm{~s} /+1^{\\circ} 36^{\\prime} 38.7^{\\prime \\prime}$ RADEec (on date): $8 \\mathrm{~h} 32 \\mathrm{~m} 13.91 \\mathrm{~s} /+24^{\\circ} 06.12 .2^{\\prime \\prime}$ HA/Dec: $12 \\mathrm{~h} 20 \\mathrm{m04} .18 \\mathrm{~s} /+24^{\\circ} 06^{\\prime} 12.2^{\\prime \\prime}$ Az./Alt: $+6^{\\circ} 07^{\\prime} 59.8^{\\prime \\prime} /-41^{\\circ} 39^{\\circ} 04.1^{\\prime \\prime}$"
   ]
  },
  {
   "cell_type": "code",
   "execution_count": 46,
   "metadata": {},
   "outputs": [
    {
     "data": {
      "text/plain": [
       "'2501 B.C. 01-01 12:00:00.0'"
      ]
     },
     "execution_count": 46,
     "metadata": {},
     "output_type": "execute_result"
    }
   ],
   "source": [
    "mtime.datespice"
   ]
  },
  {
   "cell_type": "markdown",
   "metadata": {},
   "source": [
    "## Horizons"
   ]
  },
  {
   "cell_type": "markdown",
   "metadata": {},
   "source": [
    "Documentation:\n",
    "- Short description and tutorial: https://astroquery.readthedocs.io/en/latest/api/astroquery.jplhorizons.HorizonsClass.html\n",
    "\n",
    "The same calculations obtained using AstroQuery gives:"
   ]
  },
  {
   "cell_type": "code",
   "execution_count": 47,
   "metadata": {},
   "outputs": [
    {
     "data": {
      "text/plain": [
       "807954.0004766849"
      ]
     },
     "execution_count": 47,
     "metadata": {},
     "output_type": "execute_result"
    }
   ],
   "source": [
    "mtime.jd"
   ]
  },
  {
   "cell_type": "code",
   "execution_count": 48,
   "metadata": {},
   "outputs": [],
   "source": [
    "from astroquery.jplhorizons import Horizons\n",
    "mtime = MonTime(f'{year0}-01-01 12:00:00.00',scale='utc')\n",
    "query_mars = Horizons(id='4',location='@SSB',epochs=mtime.jd)\n",
    "query_earth = Horizons(id='399',location='@SSB',epochs=mtime.jd)"
   ]
  },
  {
   "cell_type": "markdown",
   "metadata": {},
   "source": [
    "### Positions of Earth and Mars"
   ]
  },
  {
   "cell_type": "markdown",
   "metadata": {},
   "source": [
    "We want to compare:"
   ]
  },
  {
   "cell_type": "code",
   "execution_count": 49,
   "metadata": {},
   "outputs": [
    {
     "data": {
      "text/plain": [
       "(array([-2.4078773811193833e+08,  2.3329233757438272e+07,\n",
       "         1.9449642597989570e+07, -1.3712422329806413e+00,\n",
       "        -2.0501919508272181e+01, -9.2807187299348861e+00]),\n",
       " array([-1.4254576667837119e+08,  3.7340148357847326e+07,\n",
       "         1.6797875215867225e+07, -8.6613004946274472e+00,\n",
       "        -2.6156649845068738e+01, -1.1657145710618343e+01]))"
      ]
     },
     "execution_count": 49,
     "metadata": {},
     "output_type": "execute_result"
    }
   ],
   "source": [
    "mars.X_SSBJ2000,mars.P_SSBJ2000"
   ]
  },
  {
   "cell_type": "code",
   "execution_count": 50,
   "metadata": {},
   "outputs": [
    {
     "data": {
      "text/html": [
       "<div>\n",
       "<style scoped>\n",
       "    .dataframe tbody tr th:only-of-type {\n",
       "        vertical-align: middle;\n",
       "    }\n",
       "\n",
       "    .dataframe tbody tr th {\n",
       "        vertical-align: top;\n",
       "    }\n",
       "\n",
       "    .dataframe thead th {\n",
       "        text-align: right;\n",
       "    }\n",
       "</style>\n",
       "<table border=\"1\" class=\"dataframe\">\n",
       "  <thead>\n",
       "    <tr style=\"text-align: right;\">\n",
       "      <th></th>\n",
       "      <th>targetname</th>\n",
       "      <th>datetime_jd</th>\n",
       "      <th>datetime_str</th>\n",
       "      <th>x</th>\n",
       "      <th>y</th>\n",
       "      <th>z</th>\n",
       "      <th>vx</th>\n",
       "      <th>vy</th>\n",
       "      <th>vz</th>\n",
       "      <th>lighttime</th>\n",
       "      <th>range</th>\n",
       "      <th>range_rate</th>\n",
       "    </tr>\n",
       "  </thead>\n",
       "  <tbody>\n",
       "    <tr>\n",
       "      <th>0</th>\n",
       "      <td>Mars Barycenter (4)</td>\n",
       "      <td>807954.0004766850033775</td>\n",
       "      <td>B.C. 2501-Jan-22 12:00:41.1856</td>\n",
       "      <td>-2.40787738111938328e+08</td>\n",
       "      <td>2.91407770107889213e+07</td>\n",
       "      <td>8.56486194320748001e+06</td>\n",
       "      <td>-1.3712422329806413</td>\n",
       "      <td>-22.50180128822347925</td>\n",
       "      <td>-0.35969772467920974</td>\n",
       "      <td>0.00936974794851816</td>\n",
       "      <td>1.62232156679639306</td>\n",
       "      <td>-0.0007820295529553</td>\n",
       "    </tr>\n",
       "  </tbody>\n",
       "</table>\n",
       "</div>"
      ],
      "text/plain": [
       "            targetname              datetime_jd  \\\n",
       "0  Mars Barycenter (4)  807954.0004766850033775   \n",
       "\n",
       "                     datetime_str                        x  \\\n",
       "0  B.C. 2501-Jan-22 12:00:41.1856 -2.40787738111938328e+08   \n",
       "\n",
       "                         y                        z                  vx  \\\n",
       "0  2.91407770107889213e+07  8.56486194320748001e+06 -1.3712422329806413   \n",
       "\n",
       "                     vy                   vz            lighttime  \\\n",
       "0 -22.50180128822347925 -0.35969772467920974  0.00936974794851816   \n",
       "\n",
       "                 range          range_rate  \n",
       "0  1.62232156679639306 -0.0007820295529553  "
      ]
     },
     "execution_count": 50,
     "metadata": {},
     "output_type": "execute_result"
    }
   ],
   "source": [
    "mars_position = query_mars.vectors().to_pandas()\n",
    "mars_position[['x','y','z']]*=AU\n",
    "mars_position[['vx','vy','vz']]*=AU/DAY\n",
    "mars_position"
   ]
  },
  {
   "cell_type": "markdown",
   "metadata": {},
   "source": [
    "It coincides until the last figure."
   ]
  },
  {
   "cell_type": "code",
   "execution_count": 51,
   "metadata": {},
   "outputs": [
    {
     "data": {
      "text/html": [
       "<div>\n",
       "<style scoped>\n",
       "    .dataframe tbody tr th:only-of-type {\n",
       "        vertical-align: middle;\n",
       "    }\n",
       "\n",
       "    .dataframe tbody tr th {\n",
       "        vertical-align: top;\n",
       "    }\n",
       "\n",
       "    .dataframe thead th {\n",
       "        text-align: right;\n",
       "    }\n",
       "</style>\n",
       "<table border=\"1\" class=\"dataframe\">\n",
       "  <thead>\n",
       "    <tr style=\"text-align: right;\">\n",
       "      <th></th>\n",
       "      <th>targetname</th>\n",
       "      <th>datetime_jd</th>\n",
       "      <th>datetime_str</th>\n",
       "      <th>x</th>\n",
       "      <th>y</th>\n",
       "      <th>z</th>\n",
       "      <th>vx</th>\n",
       "      <th>vy</th>\n",
       "      <th>vz</th>\n",
       "      <th>lighttime</th>\n",
       "      <th>range</th>\n",
       "      <th>range_rate</th>\n",
       "    </tr>\n",
       "  </thead>\n",
       "  <tbody>\n",
       "    <tr>\n",
       "      <th>0</th>\n",
       "      <td>Earth (399)</td>\n",
       "      <td>807954.0004766850033775</td>\n",
       "      <td>B.C. 2501-Jan-22 12:00:41.1856</td>\n",
       "      <td>-1.42545766678371191e+08</td>\n",
       "      <td>4.09407273423937932e+07</td>\n",
       "      <td>558691.17557443690020591</td>\n",
       "      <td>-8.66130049462744722</td>\n",
       "      <td>-28.63520330372889333</td>\n",
       "      <td>-0.29070430034066058</td>\n",
       "      <td>0.0057257838708019</td>\n",
       "      <td>0.99138874508208474</td>\n",
       "      <td>0.00024192075806106</td>\n",
       "    </tr>\n",
       "  </tbody>\n",
       "</table>\n",
       "</div>"
      ],
      "text/plain": [
       "    targetname              datetime_jd                    datetime_str  \\\n",
       "0  Earth (399)  807954.0004766850033775  B.C. 2501-Jan-22 12:00:41.1856   \n",
       "\n",
       "                         x                        y                         z  \\\n",
       "0 -1.42545766678371191e+08  4.09407273423937932e+07  558691.17557443690020591   \n",
       "\n",
       "                    vx                    vy                   vz  \\\n",
       "0 -8.66130049462744722 -28.63520330372889333 -0.29070430034066058   \n",
       "\n",
       "            lighttime                range           range_rate  \n",
       "0  0.0057257838708019  0.99138874508208474  0.00024192075806106  "
      ]
     },
     "execution_count": 51,
     "metadata": {},
     "output_type": "execute_result"
    }
   ],
   "source": [
    "earth_position = query_earth.vectors().to_pandas()\n",
    "earth_position[['x','y','z']]*=AU\n",
    "earth_position[['vx','vy','vz']]*=AU/DAY\n",
    "earth_position"
   ]
  },
  {
   "cell_type": "markdown",
   "metadata": {},
   "source": [
    "### Ephemerides"
   ]
  },
  {
   "cell_type": "markdown",
   "metadata": {},
   "source": [
    "We want to compare against the results produced by `MontyPython.legacy`"
   ]
  },
  {
   "cell_type": "code",
   "execution_count": 52,
   "metadata": {},
   "outputs": [
    {
     "name": "stdout",
     "output_type": "stream",
     "text": [
      "RA,dec@J2000: 12d32m28.06957961s 1d31m40.30527964s\n",
      "RA,dec@Epoch: 8d32m56.18104171s 24d02m36.36112028s\n",
      "AltAz @ Epoch:  (6.0, 5, 8.831158967513986) (-41.0, 42, 44.90588111394686)\n"
     ]
    }
   ],
   "source": [
    "print(\"RA,dec@J2000:\",mars.eq_J2000.ra/15,mars.eq_J2000.dec)\n",
    "print(\"RA,dec@Epoch:\",mars.eq_epoch.ra/15,mars.eq_epoch.dec)\n",
    "print(\"AltAz @ Epoch: \",Montu.dec2hex(mars.az_epoch.az.value),Montu.dec2hex(mars.az_epoch.alt.value))"
   ]
  },
  {
   "cell_type": "markdown",
   "metadata": {},
   "source": [
    "Astroquery:"
   ]
  },
  {
   "cell_type": "code",
   "execution_count": 14,
   "metadata": {},
   "outputs": [
    {
     "data": {
      "text/plain": [
       "807954.0004766849"
      ]
     },
     "execution_count": 14,
     "metadata": {},
     "output_type": "execute_result"
    }
   ],
   "source": [
    "mtime.jd"
   ]
  },
  {
   "cell_type": "code",
   "execution_count": 15,
   "metadata": {},
   "outputs": [
    {
     "data": {
      "text/html": [
       "<div>\n",
       "<style scoped>\n",
       "    .dataframe tbody tr th:only-of-type {\n",
       "        vertical-align: middle;\n",
       "    }\n",
       "\n",
       "    .dataframe tbody tr th {\n",
       "        vertical-align: top;\n",
       "    }\n",
       "\n",
       "    .dataframe thead th {\n",
       "        text-align: right;\n",
       "    }\n",
       "</style>\n",
       "<table border=\"1\" class=\"dataframe\">\n",
       "  <thead>\n",
       "    <tr style=\"text-align: right;\">\n",
       "      <th></th>\n",
       "      <th>targetname</th>\n",
       "      <th>datetime_str</th>\n",
       "      <th>datetime_jd</th>\n",
       "      <th>solar_presence</th>\n",
       "      <th>flags</th>\n",
       "      <th>RA</th>\n",
       "      <th>DEC</th>\n",
       "      <th>RA_app</th>\n",
       "      <th>DEC_app</th>\n",
       "      <th>RA_rate</th>\n",
       "      <th>...</th>\n",
       "      <th>r_3sigma</th>\n",
       "      <th>r_rate_3sigma</th>\n",
       "      <th>SBand_3sigma</th>\n",
       "      <th>XBand_3sigma</th>\n",
       "      <th>DoppDelay_3sigma</th>\n",
       "      <th>true_anom</th>\n",
       "      <th>hour_angle</th>\n",
       "      <th>alpha_true</th>\n",
       "      <th>PABLon</th>\n",
       "      <th>PABLat</th>\n",
       "    </tr>\n",
       "  </thead>\n",
       "  <tbody>\n",
       "    <tr>\n",
       "      <th>0</th>\n",
       "      <td>Mars Barycenter (4)</td>\n",
       "      <td>b2501-Jan-22 12:00:00.000</td>\n",
       "      <td>807954.0</td>\n",
       "      <td>*</td>\n",
       "      <td></td>\n",
       "      <td>187.95477999999999952</td>\n",
       "      <td>1.61853000000000002</td>\n",
       "      <td>128.03867999999999938</td>\n",
       "      <td>24.1082099999999997</td>\n",
       "      <td>-34.81450000000000244</td>\n",
       "      <td>...</td>\n",
       "      <td>&lt;NA&gt;</td>\n",
       "      <td>&lt;NA&gt;</td>\n",
       "      <td>&lt;NA&gt;</td>\n",
       "      <td>&lt;NA&gt;</td>\n",
       "      <td>&lt;NA&gt;</td>\n",
       "      <td>217.79449999999999932</td>\n",
       "      <td>-11.66220730899999936</td>\n",
       "      <td>13.37079999999999913</td>\n",
       "      <td>180.08949999999998681</td>\n",
       "      <td>3.35170000000000012</td>\n",
       "    </tr>\n",
       "  </tbody>\n",
       "</table>\n",
       "<p>1 rows × 81 columns</p>\n",
       "</div>"
      ],
      "text/plain": [
       "            targetname               datetime_str  datetime_jd solar_presence  \\\n",
       "0  Mars Barycenter (4)  b2501-Jan-22 12:00:00.000     807954.0              *   \n",
       "\n",
       "  flags                     RA                  DEC                 RA_app  \\\n",
       "0        187.95477999999999952  1.61853000000000002  128.03867999999999938   \n",
       "\n",
       "               DEC_app               RA_rate  ...  r_3sigma  r_rate_3sigma  \\\n",
       "0  24.1082099999999997 -34.81450000000000244  ...      <NA>           <NA>   \n",
       "\n",
       "   SBand_3sigma  XBand_3sigma  DoppDelay_3sigma              true_anom  \\\n",
       "0          <NA>          <NA>              <NA>  217.79449999999999932   \n",
       "\n",
       "             hour_angle            alpha_true                 PABLon  \\\n",
       "0 -11.66220730899999936  13.37079999999999913  180.08949999999998681   \n",
       "\n",
       "                PABLat  \n",
       "0  3.35170000000000012  \n",
       "\n",
       "[1 rows x 81 columns]"
      ]
     },
     "execution_count": 15,
     "metadata": {},
     "output_type": "execute_result"
    }
   ],
   "source": [
    "mtime = MonTime(f'{year0}-01-01 12:00:00.00',scale='tt')\n",
    "query_mars = Horizons(id='4',location=dict(lon=lon0,lat=lat0,elevation=height0),epochs=mtime.jd)\n",
    "ephemerides = query_mars.ephemerides().to_pandas()\n",
    "ephemerides"
   ]
  },
  {
   "cell_type": "code",
   "execution_count": 16,
   "metadata": {},
   "outputs": [
    {
     "name": "stdout",
     "output_type": "stream",
     "text": [
      "807953.9999999995\n",
      "RAJ2000 =  (12.0, 31, 49.14719999999818)\n",
      "DecJ2000 =  (1.0, 37, 6.7080000000001405)\n",
      "RA =  (8.0, 32, 9.283199999998999)\n",
      "Dec =  (24.0, 6, 29.555999999998903)\n",
      "Az =  (6.0, 11, 33.727199999998945)\n",
      "Alt =  (-41.0, 38, 29.317200000006665)\n"
     ]
    }
   ],
   "source": [
    "ephemerides = ephemerides.loc[0]\n",
    "print(mtime.jd)\n",
    "print(\"RAJ2000 = \",Montu.dec2hex(ephemerides.RA/15))\n",
    "print(\"DecJ2000 = \",Montu.dec2hex(ephemerides.DEC))\n",
    "print(\"RA = \",Montu.dec2hex(ephemerides.RA_app/15))\n",
    "print(\"Dec = \",Montu.dec2hex(ephemerides.DEC_app))\n",
    "print(\"Az = \",Montu.dec2hex(ephemerides.AZ))\n",
    "print(\"Alt = \",Montu.dec2hex(ephemerides.EL))\n"
   ]
  },
  {
   "cell_type": "markdown",
   "metadata": {},
   "source": [
    "Recall Stellarium: \n",
    "\n",
    "The same configuration produce in Stellarium the following result:\n",
    "\n",
    "RAVDec (J2000.0): $12 \\mathrm{~h} 31 \\mathrm{~m} 52.74 \\mathrm{~s} /+1^{\\circ} 36^{\\prime} 38.7^{\\prime \\prime}$ RADEec (on date): $8 \\mathrm{~h} 32 \\mathrm{~m} 13.91 \\mathrm{~s} /+24^{\\circ} 06.12 .2^{\\prime \\prime}$ HA/Dec: $12 \\mathrm{~h} 20 \\mathrm{m04} .18 \\mathrm{~s} /+24^{\\circ} 06^{\\prime} 12.2^{\\prime \\prime}$ Az./Alt: $+6^{\\circ} 07^{\\prime} 59.8^{\\prime \\prime} /-41^{\\circ} 39^{\\circ} 04.1^{\\prime \\prime}$"
   ]
  },
  {
   "cell_type": "markdown",
   "metadata": {},
   "source": [
    "Stellarium and `Horizons` coincide but not `MontuPython.legacy`"
   ]
  },
  {
   "cell_type": "markdown",
   "metadata": {},
   "source": [
    "## PyEphem"
   ]
  },
  {
   "cell_type": "markdown",
   "metadata": {},
   "source": [
    "Documentation:\n",
    "- Quick reference: https://rhodesmill.org/pyephem/quick.html\n",
    "- Detailed tutorial: https://rhodesmill.org/pyephem/tutorial"
   ]
  },
  {
   "cell_type": "code",
   "execution_count": 53,
   "metadata": {},
   "outputs": [],
   "source": [
    "import ephem"
   ]
  },
  {
   "cell_type": "markdown",
   "metadata": {},
   "source": [
    "Let's compute mars coordinates at the epoch:"
   ]
  },
  {
   "cell_type": "code",
   "execution_count": 54,
   "metadata": {},
   "outputs": [
    {
     "name": "stdout",
     "output_type": "stream",
     "text": [
      "PyEphem:  8:32:09.64 24:06:50.8\n",
      "Horizons:  (8.0, 32, 9.283199999998999) (24.0, 6, 29.555999999998903)\n"
     ]
    }
   ],
   "source": [
    "# Note that for PyEphem -2500 (2501 b.c.e.) is -2501 and that the date must be given in Julian Calendar\n",
    "date = f'{year0-1}-01-22 12:00:00.00'\n",
    "marseph = ephem.Mars(date)\n",
    "marseph.compute(date)\n",
    "print(\"PyEphem: \",marseph.ra, marseph.dec)\n",
    "\n",
    "# Compared to HORIZONS\n",
    "print(\"Horizons: \",Montu.dec2hex(ephemerides.RA_app/15),Montu.dec2hex(ephemerides.DEC_app))\n"
   ]
  },
  {
   "cell_type": "markdown",
   "metadata": {},
   "source": [
    "In pretty good agreement. Now we want the position of Mars with respect to the horizon of a given site:"
   ]
  },
  {
   "cell_type": "code",
   "execution_count": 72,
   "metadata": {},
   "outputs": [
    {
     "name": "stdout",
     "output_type": "stream",
     "text": [
      "Using PyEphem:  (6.0, 11, 23.905564366115826) (-41.0, 38, 18.685147982311605)\n",
      "Using Horizons:  (6.0, 11, 33.727199999998945) (-41.0, 38, 29.317200000006665)\n"
     ]
    }
   ],
   "source": [
    "adate = f'{year0-1}-01-22 12:00:00.00'\n",
    "d = ephem.Date(date)\n",
    "marseph = ephem.Mars()\n",
    "marseph.compute(d)\n",
    "site = ephem.Observer()\n",
    "site.lat = f'{lat0}'\n",
    "site.lon = f'{lon0}'\n",
    "site.elevation = 0\n",
    "site.temp = 0\n",
    "site.pressure = 0\n",
    "site.date = d\n",
    "marseph.compute(site)\n",
    "print(\"Using PyEphem: \",Montu.dec2hex(float(marseph.az)*RAD), Montu.dec2hex(float(marseph.alt)*RAD))\n",
    "print(\"Using Horizons: \",Montu.dec2hex(ephemerides.AZ),Montu.dec2hex(ephemerides.EL))"
   ]
  },
  {
   "cell_type": "code",
   "execution_count": 73,
   "metadata": {},
   "outputs": [],
   "source": [
    "mtime = MonTime('2000-01-01 12:00:00.00',scale='utc')"
   ]
  },
  {
   "cell_type": "code",
   "execution_count": 67,
   "metadata": {},
   "outputs": [
    {
     "name": "stdout",
     "output_type": "stream",
     "text": [
      "1899/12/31 12:00:00\n"
     ]
    }
   ],
   "source": [
    "print(ephem.Date(0))"
   ]
  },
  {
   "cell_type": "code",
   "execution_count": 63,
   "metadata": {},
   "outputs": [
    {
     "data": {
      "text/plain": [
       "((8.0, 32, 9.71805413547699), (24.0, 6, 40.9201083707282))"
      ]
     },
     "execution_count": 63,
     "metadata": {},
     "output_type": "execute_result"
    }
   ],
   "source": [
    "Montu.dec2hex(marseph.ra*RAD/15),Montu.dec2hex(marseph.dec*RAD)"
   ]
  },
  {
   "cell_type": "code",
   "execution_count": 65,
   "metadata": {},
   "outputs": [
    {
     "data": {
      "text/plain": [
       "98.64616394042969"
      ]
     },
     "execution_count": 65,
     "metadata": {},
     "output_type": "execute_result"
    }
   ],
   "source": [
    "marseph.phase"
   ]
  },
  {
   "cell_type": "markdown",
   "metadata": {},
   "source": [
    "## PyPlanets"
   ]
  },
  {
   "cell_type": "markdown",
   "metadata": {},
   "source": [
    "Documentation:\n",
    "\n",
    "- Information in PyPI: https://pypi.org/project/pyplanets/\n",
    "- Repository in GitHub: https://github.com/martin5f/pyplanets"
   ]
  },
  {
   "cell_type": "code",
   "execution_count": 22,
   "metadata": {},
   "outputs": [],
   "source": [
    "from pyplanets.core.epoch import Epoch\n",
    "from pyplanets.core.constellation import Constellation\n",
    "from pyplanets.planets.earth import Earth\n",
    "from pyplanets.planets.mars import Mars"
   ]
  },
  {
   "cell_type": "code",
   "execution_count": 23,
   "metadata": {},
   "outputs": [
    {
     "name": "stdout",
     "output_type": "stream",
     "text": [
      "Julian day =  <bound method Epoch.jde of Epoch(807954.0)>\n",
      "[2023-10-09 20:04:03] DEBUG:pyplanets.core.constellation:Iteration-# / delta = 1 / 0.663525082983452\n",
      "[2023-10-09 20:04:03] DEBUG:pyplanets.core.constellation:Iteration-# / delta = 2 / 0.6635828000444294\n",
      "[2023-10-09 20:04:03] DEBUG:pyplanets.core.constellation:Iteration-# / delta = 3 / 0.663582799274333\n",
      "[2023-10-09 20:04:03] DEBUG:pyplanets.core.constellation:Iteration-# / delta = 4 / 0.663582799274333\n",
      "[2023-10-09 20:04:03] DEBUG:pyplanets.core.constellation:Total iterations / tau[min] = 4 / 5.518849825114756\n",
      "PyAstro:  (8.0, 32, 54.63169135999621) (24.0, 2, 53.295730985381624)\n",
      "Horizons:  (8.0, 32, 9.283199999998999) (24.0, 6, 29.555999999998903)\n"
     ]
    }
   ],
   "source": [
    "epoch = Epoch(year0, 1, 22, 12, 0, 0)\n",
    "print(\"Julian day = \",epoch.jde)\n",
    "marspy = Mars(epoch)\n",
    "earthpy = Earth(epoch)\n",
    "constellation = Constellation(earthpy, marspy)\n",
    "ra, dec, elon = constellation.geocentric_position()\n",
    "print(\"PyAstro: \",Montu.dec2hex(float(ra)/15), Montu.dec2hex(float(dec)))\n",
    "# Compared to HORIZONS\n",
    "print(\"Horizons: \",Montu.dec2hex(ephemerides.RA_app/15),Montu.dec2hex(ephemerides.DEC_app))\n"
   ]
  },
  {
   "cell_type": "markdown",
   "metadata": {},
   "source": [
    "### Delta-t"
   ]
  },
  {
   "cell_type": "markdown",
   "metadata": {},
   "source": [
    "One of the great pieces of code taht has PyPlanets is a routine to compute $\\Delta t = TT - UTC$ using a detailed model developed by Espenack et al. (https://eclipse.gsfc.nasa.gov/LEcat5/deltatpoly.html)"
   ]
  },
  {
   "cell_type": "code",
   "execution_count": 25,
   "metadata": {},
   "outputs": [
    {
     "data": {
      "text/plain": [
       "59699.68000000001"
      ]
     },
     "execution_count": 25,
     "metadata": {},
     "output_type": "execute_result"
    }
   ],
   "source": [
    "Epoch.tt2ut(-2500,1)"
   ]
  },
  {
   "cell_type": "markdown",
   "metadata": {},
   "source": [
    "Here is the problem with the `MontuPython.legacy`: we will not taking into account this huge difference.  Let's consider it:"
   ]
  },
  {
   "cell_type": "code",
   "execution_count": 26,
   "metadata": {},
   "outputs": [
    {
     "name": "stdout",
     "output_type": "stream",
     "text": [
      "Date =  -2500-01-01 12:00:00.00\n",
      "Time [jd, UTC] =  807954.0004766849\n",
      "Time [et] =  -142006262358.81442\n",
      "Time [deltat] =  41.18559848182847\n",
      "Time [jd, TT]:  807954.6909685181\n",
      "Time [et, TT]:  -142006202700.32004\n"
     ]
    }
   ],
   "source": [
    "from copy import deepcopy\n",
    "# Examples\n",
    "earth = PlanetaryBody(id='399')\n",
    "mars = PlanetaryBody(id='499')\n",
    "\n",
    "# Time of observations\n",
    "mtime = MonTime(f'{year0}-01-01 12:00:00.00',scale='utc')\n",
    "\n",
    "print(\"Date = \",mtime.datestr)\n",
    "print(\"Time [jd, UTC] = \",mtime.jd)\n",
    "print(\"Time [et] = \",mtime.et)\n",
    "print(\"Time [deltat] = \",mtime.deltat)\n",
    "\n",
    "# Observing location\n",
    "medellin = ObservingSite(location=dict(lon=lon0*u.deg,lat=lat0*u.deg,height=height0*u.km),\n",
    "                         onplanet = earth)\n",
    "\n",
    "\n",
    "# Time correction\n",
    "astrotime = deepcopy(mtime.astrotime)\n",
    "mtime = MonTime(mtime.et+Epoch.tt2ut(-2500,1.01),format='et')\n",
    "mtime.astrotime = deepcopy(astrotime)\n",
    "print(\"Time [jd, TT]: \",mtime.jd)\n",
    "print(\"Time [et, TT]: \",mtime.et)"
   ]
  },
  {
   "cell_type": "markdown",
   "metadata": {},
   "source": [
    "Now we can compute with `MontuPython`:"
   ]
  },
  {
   "cell_type": "code",
   "execution_count": 27,
   "metadata": {},
   "outputs": [
    {
     "name": "stdout",
     "output_type": "stream",
     "text": [
      "Retrieving position for object 399\n",
      "Retrieving position for object 499\n",
      "\tCorrecting id to 4\n",
      "Planet 399 position w.r.t. SSB =  [-1.4305228111864543e+08  3.9229527538835682e+07  5.4131266942912526e+05] [ -8.318991284868057  -28.730667414660573   -0.2918878627075152]\n",
      "Body 499 position w.r.t. SSB =  [-2.4086558453273386e+08  2.7797890106387239e+07  8.5432623238092214e+06] [ -1.2384638704523976 -22.51721308912209    -0.3644098251815677]\n",
      "Coordinates @ J2000:  12d31m48.75374474s 1d37m12.18389356s\n",
      "Coordinates @ Epoch using astropy :  8d32m08.16082627s 24d06m33.21954321s\n",
      "Coordinates @ Epoch using SPICE :  8d32m09.7958861s 24d06m28.55484868s\n",
      "Coordinates @ Epoch:  8d32m09.7958861s 24d06m28.55484868s\n",
      "AltAz @ Epoch:  6.311347909819912 -41.62927051501452\n",
      "AltAz @ Epoch:  (6.0, 18, 40.85247535168442) (-41.0, 37, 45.3738540522653)\n",
      "AltAz @ Epoch (SPICE):  (290.0, 56, 21.168534290850403) (15.0, 6, 49.46209078300413)\n",
      "RAJ2000 =  (12.0, 31, 49.14719999999818)\n",
      "DecJ2000 =  (1.0, 37, 6.7080000000001405)\n",
      "RA =  (8.0, 32, 9.283199999998999)\n",
      "Dec =  (24.0, 6, 29.555999999998903)\n",
      "Az =  (6.0, 11, 33.727199999998945)\n",
      "Alt =  (-41.0, 38, 29.317200000006665)\n"
     ]
    }
   ],
   "source": [
    "medellin.update_site(mtime)\n",
    "\n",
    "# Calculate ephemerides\n",
    "\n",
    "mars.calculate_ephemerides(location=medellin,epochs=mtime,verbose=1)\n",
    "print(\"RAJ2000 = \",Montu.dec2hex(ephemerides.RA/15))\n",
    "print(\"DecJ2000 = \",Montu.dec2hex(ephemerides.DEC))\n",
    "print(\"RA = \",Montu.dec2hex(ephemerides.RA_app/15))\n",
    "print(\"Dec = \",Montu.dec2hex(ephemerides.DEC_app))\n",
    "print(\"Az = \",Montu.dec2hex(ephemerides.AZ))\n",
    "print(\"Alt = \",Montu.dec2hex(ephemerides.EL))"
   ]
  },
  {
   "cell_type": "markdown",
   "metadata": {},
   "source": [
    "Now they really coincide!"
   ]
  },
  {
   "cell_type": "markdown",
   "metadata": {},
   "source": [
    "## PyMeeus"
   ]
  },
  {
   "cell_type": "markdown",
   "metadata": {},
   "source": [
    "This is the package that implements the original algorithms of Meeus.\n",
    "\n",
    "Documentation:\n",
    "\n",
    "- https://pymeeus.readthedocs.io/en/latest/\n",
    "\n",
    "`PyMeeus` uses an old routine to compute $\\Delta t$. It could be interesting to compare:"
   ]
  },
  {
   "cell_type": "code",
   "execution_count": 28,
   "metadata": {},
   "outputs": [],
   "source": [
    "from pymeeus.Epoch import Epoch as Epochmeeus"
   ]
  },
  {
   "cell_type": "code",
   "execution_count": 29,
   "metadata": {},
   "outputs": [],
   "source": [
    "mydate = Epochmeeus(-2500, 1, 1.5)"
   ]
  },
  {
   "cell_type": "code",
   "execution_count": 30,
   "metadata": {},
   "outputs": [
    {
     "data": {
      "text/plain": [
       "Epoch(807933.0)"
      ]
     },
     "execution_count": 30,
     "metadata": {},
     "output_type": "execute_result"
    }
   ],
   "source": [
    "mydate"
   ]
  },
  {
   "cell_type": "code",
   "execution_count": 32,
   "metadata": {},
   "outputs": [
    {
     "data": {
      "text/plain": [
       "(-2500, 1, 23, 4, 34, 59.679967761039734)"
      ]
     },
     "execution_count": 32,
     "metadata": {},
     "output_type": "execute_result"
    }
   ],
   "source": [
    "Epochmeeus(mtime.jd).get_full_date()"
   ]
  },
  {
   "cell_type": "code",
   "execution_count": 33,
   "metadata": {},
   "outputs": [
    {
     "data": {
      "text/plain": [
       "(59699.68000000001, 59699.68000000001)"
      ]
     },
     "execution_count": 33,
     "metadata": {},
     "output_type": "execute_result"
    }
   ],
   "source": [
    "Epoch.tt2ut(year0,1),Epochmeeus.tt2ut(year0,1)"
   ]
  },
  {
   "cell_type": "markdown",
   "metadata": {},
   "source": [
    "## Graphics"
   ]
  },
  {
   "cell_type": "code",
   "execution_count": 34,
   "metadata": {},
   "outputs": [],
   "source": [
    "from pyplanets.core.coordinates import mean_obliquity\n",
    "import matplotlib.pyplot as plt"
   ]
  },
  {
   "cell_type": "code",
   "execution_count": 36,
   "metadata": {},
   "outputs": [],
   "source": [
    "ys = np.arange(-4000,3000,100)\n",
    "es = [mean_obliquity(int(y), 1, 1) for y in ys]"
   ]
  },
  {
   "cell_type": "code",
   "execution_count": 38,
   "metadata": {},
   "outputs": [
    {
     "data": {
      "image/png": "[encoded data removed]",
      "text/plain": [
       "<Figure size 432x288 with 1 Axes>"
      ]
     },
     "metadata": {
      "needs_background": "light"
     },
     "output_type": "display_data"
    }
   ],
   "source": [
    "plt.plot(ys,es)\n",
    "plt.grid()"
   ]
  },
  {
   "cell_type": "code",
   "execution_count": null,
   "metadata": {},
   "outputs": [],
   "source": []
  }
 ],
 "metadata": {
  "kernelspec": {
   "display_name": "base",
   "language": "python",
   "name": "python3"
  },
  "language_info": {
   "codemirror_mode": {
    "name": "ipython",
    "version": 3
   },
   "file_extension": ".py",
   "mimetype": "text/x-python",
   "name": "python",
   "nbconvert_exporter": "python",
   "pygments_lexer": "ipython3",
   "version": "3.9.7"
  },
  "orig_nbformat": 4
 },
 "nbformat": 4,
 "nbformat_minor": 2
}
