{
 "cells": [
  {
   "cell_type": "markdown",
   "metadata": {},
   "source": [
    "# Montu Python \n",
    "## Astronomical ephemerides for the Ancient World\n",
    "## Test: Stellar catalogue\n"
   ]
  },
  {
   "cell_type": "code",
   "execution_count": 1,
   "metadata": {},
   "outputs": [],
   "source": [
    "import montu\n",
    "# Useful aliases\n",
    "from montu.util import D2H, PRINTDF, TABLEDF\n",
    "# Load kerneks\n",
    "montu.Util.load_kernels(montu.PRECISION_KERNELS,dir='montmp/')\n",
    "# Load stars\n",
    "allstars = montu.Stars()\n",
    "%load_ext autoreload\n",
    "%autoreload 2"
   ]
  },
  {
   "cell_type": "markdown",
   "metadata": {},
   "source": [
    "Moon position:"
   ]
  },
  {
   "cell_type": "code",
   "execution_count": 6,
   "metadata": {},
   "outputs": [
    {
     "name": "stdout",
     "output_type": "stream",
     "text": [
      "|    |    jed |           tt |   RAJ2000 |   DecJ2000 |        pmRA |        paRA |        pmDec |        paDec |   LonJ2000 |   LatJ2000 |       pmLon |       paLon |        pmLat |        paLat |   site_distance |   sun_distance |   elongation |   phase |   mag |   XJ2000 |   YJ2000 |   ZJ2000 |   VXJ2000 |   VYJ2000 |   VZJ2000 |   RAJ2000t |   DecJ2000t |   RAEpoch |   DecEpoch |     epoch_tt |   epoch_jed |      HA |      az |       el |     zen |\n",
      "|----|--------|--------------|-----------|------------|-------------|-------------|--------------|--------------|------------|------------|-------------|-------------|--------------|--------------|-----------------|----------------|--------------|---------|-------|----------|----------|----------|-----------|-----------|-----------|------------|-------------|-----------|------------|--------------|-------------|---------|---------|----------|---------|\n",
      "|  0 | 807954 | -1.42006e+11 |   12.9886 |   -1.48677 | 1.11097e+09 | 8.13922e+09 | -7.03317e+09 | -2.00014e+10 |    194.229 |    4.47162 | 1.81122e+10 | 1.04585e+11 | -1.37824e+08 | -1.39077e+11 |      0.00250954 |       0.997485 |      150.401 | 29.5277 |    33 |  -327096 |  -171218 |   -44393 |  0.525264 | -0.819213 | -0.389981 |    12.9886 |    -1.48677 |   9.06017 |    21.9638 | -1.42006e+11 |      807954 | 11.8135 | 356.396 | -43.9558 | 133.956 |\n"
     ]
    }
   ],
   "source": [
    "mtime = montu.Time('-2500-01-01 12:00:00.00')\n",
    "tebas = montu.Observer(lon=33,lat=24,planet=montu.Planet('Earth'))\n",
    "moon = montu.Planet('Moon')\n",
    "\n",
    "# Get the position (do some magic! - 'heka' in ancient egyptian)\n",
    "position = montu.Heka.where_in_sky(moon,at=mtime,site=tebas)\n",
    "TABLEDF(position)"
   ]
  },
  {
   "cell_type": "code",
   "execution_count": 4,
   "metadata": {},
   "outputs": [
    {
     "data": {
      "text/plain": [
       "('12:59:18.943', '-1:29:12.377')"
      ]
     },
     "execution_count": 4,
     "metadata": {},
     "output_type": "execute_result"
    }
   ],
   "source": [
    "D2H(position.RAJ2000),D2H(position.DecJ2000)"
   ]
  },
  {
   "cell_type": "code",
   "execution_count": 5,
   "metadata": {},
   "outputs": [
    {
     "data": {
      "text/plain": [
       "('09:03:36.597', '21:57:49.838')"
      ]
     },
     "execution_count": 5,
     "metadata": {},
     "output_type": "execute_result"
    }
   ],
   "source": [
    "D2H(position.RAEpoch),D2H(position.DecEpoch)"
   ]
  },
  {
   "cell_type": "code",
   "execution_count": 37,
   "metadata": {},
   "outputs": [],
   "source": [
    "sun = montu.pyephem.Sun()\n",
    "site = montu.pyephem.Observer()\n",
    "site.lat = '24'\n",
    "site.lon = '33'\n",
    "site.date = '-2023-10-01 12:00:00'"
   ]
  },
  {
   "cell_type": "code",
   "execution_count": 41,
   "metadata": {},
   "outputs": [],
   "source": [
    "sun.compute(site)"
   ]
  },
  {
   "cell_type": "code",
   "execution_count": 63,
   "metadata": {},
   "outputs": [],
   "source": [
    "moon = montu.pyephem.Moon()\n",
    "moon.compute(site)"
   ]
  },
  {
   "cell_type": "code",
   "execution_count": 64,
   "metadata": {},
   "outputs": [
    {
     "data": {
      "text/plain": [
       "('19:21:58.120', '-19:54:0.367')"
      ]
     },
     "execution_count": 64,
     "metadata": {},
     "output_type": "execute_result"
    }
   ],
   "source": [
    "D2H(moon.ra*montu.RAD/15),D2H(moon.dec*montu.RAD)"
   ]
  },
  {
   "cell_type": "code",
   "execution_count": 61,
   "metadata": {},
   "outputs": [
    {
     "data": {
      "text/plain": [
       "('19:11:12.609', '-19:45:53.038')"
      ]
     },
     "execution_count": 61,
     "metadata": {},
     "output_type": "execute_result"
    }
   ],
   "source": [
    "mtime = montu.Time(site.date + montu.PYEPHEM_JD_REF,format='jd')\n",
    "tebas = montu.Observer(lon=33,lat=24,planet=montu.Planet('Earth'))\n",
    "moon = montu.Planet('Moon')\n",
    "position = montu.Heka.where_in_sky(moon,at=mtime,site=tebas)\n",
    "D2H(position.RAEpoch),D2H(position.DecEpoch)"
   ]
  },
  {
   "cell_type": "code",
   "execution_count": 66,
   "metadata": {},
   "outputs": [
    {
     "data": {
      "text/plain": [
       "47221.249042741234"
      ]
     },
     "execution_count": 66,
     "metadata": {},
     "output_type": "execute_result"
    }
   ],
   "source": [
    "montu.pyephem.delta_t(site.date)"
   ]
  },
  {
   "cell_type": "code",
   "execution_count": 67,
   "metadata": {},
   "outputs": [
    {
     "data": {
      "text/plain": [
       "47215.084800000004"
      ]
     },
     "execution_count": 67,
     "metadata": {},
     "output_type": "execute_result"
    }
   ],
   "source": [
    "mtime.deltat"
   ]
  },
  {
   "cell_type": "code",
   "execution_count": 74,
   "metadata": {},
   "outputs": [
    {
     "data": {
      "text/plain": [
       "Time('-2022-09-14 12:00:00.0000'/'-2022-10-01 12:00:00')"
      ]
     },
     "execution_count": 74,
     "metadata": {},
     "output_type": "execute_result"
    }
   ],
   "source": [
    "mtime"
   ]
  },
  {
   "cell_type": "code",
   "execution_count": 77,
   "metadata": {},
   "outputs": [
    {
     "data": {
      "text/plain": [
       "982796.0"
      ]
     },
     "execution_count": 77,
     "metadata": {},
     "output_type": "execute_result"
    }
   ],
   "source": [
    "site.date + montu.PYEPHEM_JD_REF"
   ]
  },
  {
   "cell_type": "code",
   "execution_count": 78,
   "metadata": {},
   "outputs": [
    {
     "data": {
      "text/plain": [
       "Time('2000-01-12 20:59:18.5729'/'2000-01-12 20:59:59')"
      ]
     },
     "execution_count": 78,
     "metadata": {},
     "output_type": "execute_result"
    }
   ],
   "source": [
    "montu.Time(montu.pyephem.next_full_moon(site.date + montu.PYEPHEM_JD_REF))"
   ]
  },
  {
   "cell_type": "code",
   "execution_count": 80,
   "metadata": {},
   "outputs": [
    {
     "name": "stdout",
     "output_type": "stream",
     "text": [
      "\u001b[0;31mDocstring:\u001b[0m Return the constellation in which the object or coordinates lie\n",
      "\u001b[0;31mType:\u001b[0m      builtin_function_or_method"
     ]
    }
   ],
   "source": [
    "montu.pyephem.constellation?"
   ]
  },
  {
   "cell_type": "code",
   "execution_count": 48,
   "metadata": {},
   "outputs": [
    {
     "data": {
      "text/plain": [
       "('11:28:49.780', '51:52:59.690')"
      ]
     },
     "execution_count": 48,
     "metadata": {},
     "output_type": "execute_result"
    }
   ],
   "source": [
    "D2H(sun.ra*montu.RAD/15),D2H(sun.alt*montu.RAD)"
   ]
  },
  {
   "cell_type": "code",
   "execution_count": 51,
   "metadata": {},
   "outputs": [
    {
     "data": {
      "text/plain": [
       "Time('-2022-09-14 03:38:03.8626'/'-2022-10-01 03:38:38')"
      ]
     },
     "execution_count": 51,
     "metadata": {},
     "output_type": "execute_result"
    }
   ],
   "source": [
    "montu.Time(sun.rise_time + montu.PYEPHEM_JD_REF,format='jd')"
   ]
  },
  {
   "cell_type": "code",
   "execution_count": 52,
   "metadata": {},
   "outputs": [
    {
     "data": {
      "text/plain": [
       "Time('-2022-09-14 15:55:14.7144'/'-2022-10-01 15:55:55')"
      ]
     },
     "execution_count": 52,
     "metadata": {},
     "output_type": "execute_result"
    }
   ],
   "source": [
    "montu.Time(sun.set_time + montu.PYEPHEM_JD_REF,format='jd')"
   ]
  },
  {
   "cell_type": "markdown",
   "metadata": {},
   "source": [
    "Read: https://rhodesmill.org/pyephem/quick.html"
   ]
  },
  {
   "cell_type": "code",
   "execution_count": 53,
   "metadata": {},
   "outputs": [
    {
     "data": {
      "text/plain": [
       "Time('-2022-09-14 09:46:50.4841'/'-2022-10-01 09:46:46')"
      ]
     },
     "execution_count": 53,
     "metadata": {},
     "output_type": "execute_result"
    }
   ],
   "source": [
    "montu.Time(sun.transit_time + montu.PYEPHEM_JD_REF,format='jd')"
   ]
  },
  {
   "cell_type": "code",
   "execution_count": 47,
   "metadata": {},
   "outputs": [
    {
     "ename": "AttributeError",
     "evalue": "'Sun' object has no attribute 'el'",
     "output_type": "error",
     "traceback": [
      "\u001b[0;31m---------------------------------------------------------------------------\u001b[0m",
      "\u001b[0;31mAttributeError\u001b[0m                            Traceback (most recent call last)",
      "\u001b[1;32m/home/jzuluaga/Dropbox/MiInvestigacion/EgyptianAstronomy/MontuPython/dev/test-sun-moon.ipynb Cell 10\u001b[0m line \u001b[0;36m1\n\u001b[0;32m----> <a href='vscode-notebook-cell:/home/jzuluaga/Dropbox/MiInvestigacion/EgyptianAstronomy/MontuPython/dev/test-sun-moon.ipynb#X21sZmlsZQ%3D%3D?line=0'>1</a>\u001b[0m D2H(sun\u001b[39m.\u001b[39maz\u001b[39m*\u001b[39mmontu\u001b[39m.\u001b[39mRAD),D2H(sun\u001b[39m.\u001b[39;49mel\u001b[39m*\u001b[39mmontu\u001b[39m.\u001b[39mRAD)\n",
      "\u001b[0;31mAttributeError\u001b[0m: 'Sun' object has no attribute 'el'"
     ]
    }
   ],
   "source": [
    "D2H(sun.az*montu.RAD),D2H(sun.e*montu.RAD)"
   ]
  },
  {
   "cell_type": "code",
   "execution_count": 43,
   "metadata": {},
   "outputs": [
    {
     "data": {
      "text/plain": [
       "-1432224.0"
      ]
     },
     "execution_count": 43,
     "metadata": {},
     "output_type": "execute_result"
    }
   ],
   "source": [
    "site.date"
   ]
  },
  {
   "cell_type": "code",
   "execution_count": 45,
   "metadata": {},
   "outputs": [
    {
     "data": {
      "text/plain": [
       "982796.0"
      ]
     },
     "execution_count": 45,
     "metadata": {},
     "output_type": "execute_result"
    }
   ],
   "source": [
    "site.date + montu.PYEPHEM_JD_REF"
   ]
  },
  {
   "cell_type": "code",
   "execution_count": null,
   "metadata": {},
   "outputs": [],
   "source": [
    "D2H(sun.ra*montu.RAD/15)"
   ]
  }
 ],
 "metadata": {
  "kernelspec": {
   "display_name": "Python 3",
   "language": "python",
   "name": "python3"
  },
  "language_info": {
   "codemirror_mode": {
    "name": "ipython",
    "version": 3
   },
   "file_extension": ".py",
   "mimetype": "text/x-python",
   "name": "python",
   "nbconvert_exporter": "python",
   "pygments_lexer": "ipython3",
   "version": "3.9.16"
  }
 },
 "nbformat": 4,
 "nbformat_minor": 2
}
